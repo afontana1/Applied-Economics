{
 "cells": [
  {
   "cell_type": "markdown",
   "metadata": {
    "deletable": false,
    "editable": false,
    "nbgrader": {
     "grade": false,
     "locked": true,
     "solution": false
    }
   },
   "source": [
    "# Item Based Recommender System  \n",
    "-------------\n",
    "_Authors: Carleton Smith_\n",
    "\n",
    "## Project Guide  \n",
    "-------------\n",
    " - [Project Overview](#project-overview)\n",
    " - [Reading in the Data](#read-in)\n",
    "     - [EDA](#eda)  \n",
    "       \n",
    "       \n",
    " - [Functioning of Recommender Systems](#simple)\n",
    "     - [Predicting Unknown Scores](#pred)  \n",
    "     \n",
    "     \n",
    " - [Return to the Data](#ret)\n",
    " - [Utilization Complexities](#util)\n",
    " - [SVD](#svd)\n",
    " - [Surprise - Python package](#surprise)  \n",
    " \n",
    " <a id = \"project-overview\"></a>\n",
    " ## Project Overview  \n",
    " --------  \n",
    " #### EXPECTED TIME: 2.5 HRS  \n",
    " \n",
    " This project generally proceeds in 4 parts:  \n",
    " \n",
    " - General Familiarization with data.\n",
    " - Mathematical foundations of, and simple examples of recommender systems.\n",
    " - Execution of methods on data.\n",
    " - Short introduction to `Surprise` package.   \n",
    " \n",
    "The methods used below should all be familiar from the lectures found in week 9. Some concepts will be reviewed before applying, but in some cases, SVD notably, particular will not be reviewed, only execution will be demonstrated.\n",
    "\n",
    "The general goal is: given a collection of users, items and user reviews of items, predict what score a user would choose for an item they have yet to review.  \n",
    "\n",
    "We will be working with a synthetic review dataset, modeled on reviews from Amazon. For our examples we will work with a small amount of made-up data, to demonstrate  techniques.  \n",
    "\n",
    "Activities include:  \n",
    "- Manipulating DataFrames\n",
    "- Visualizing data  \n",
    "- Calculating distance in multiple ways  \n",
    "- Calculating and interpreting similarity scores  \n",
    "- Using `numpy`'s SVD function  \n",
    "- Learning about the `Surprise` package  \n",
    "\n",
    "\n",
    "**Motivation:** Recommender systems provide non-parametric comparisons between items. They are foundational in how individuals are served and thus navigate the web.  \n",
    "\n",
    "**Objectives:**  \n",
    "\n",
    "- Understand mathematical foundations of recommender systems.\n",
    "- Translation of mathematical algorithm into code."
   ]
  },
  {
   "cell_type": "markdown",
   "metadata": {
    "deletable": false,
    "editable": false,
    "nbgrader": {
     "grade": false,
     "locked": true,
     "solution": false
    }
   },
   "source": [
    "#### Imports"
   ]
  },
  {
   "cell_type": "code",
   "execution_count": 3,
   "metadata": {
    "collapsed": true,
    "deletable": false,
    "editable": false,
    "nbgrader": {
     "grade": false,
     "locked": true,
     "solution": false
    }
   },
   "outputs": [],
   "source": [
    "import numpy as np\n",
    "import pandas as pd\n",
    "import matplotlib.pyplot as plt\n",
    "import seaborn as sns\n",
    "import datetime\n",
    "\n",
    "%matplotlib inline"
   ]
  },
  {
   "cell_type": "markdown",
   "metadata": {
    "deletable": false,
    "editable": false,
    "nbgrader": {
     "grade": false,
     "locked": true,
     "solution": false
    }
   },
   "source": [
    "### Reading in the data\n",
    "This assignments we will be using  some synthetic data, modeled on Amazon product reviews. A description of the review data available and instructions to pull down actual Amazon review data [can be found here](https://s3.amazonaws.com/amazon-reviews-pds/readme.html).  \n",
    "\n",
    "Before turning to our synthetic data, see below the sample of actual Data from Amazon."
   ]
  },
  {
   "cell_type": "code",
   "execution_count": 4,
   "metadata": {},
   "outputs": [
    {
     "data": {
      "text/html": [
       "<div>\n",
       "<style scoped>\n",
       "    .dataframe tbody tr th:only-of-type {\n",
       "        vertical-align: middle;\n",
       "    }\n",
       "\n",
       "    .dataframe tbody tr th {\n",
       "        vertical-align: top;\n",
       "    }\n",
       "\n",
       "    .dataframe thead th {\n",
       "        text-align: right;\n",
       "    }\n",
       "</style>\n",
       "<table border=\"1\" class=\"dataframe\">\n",
       "  <thead>\n",
       "    <tr style=\"text-align: right;\">\n",
       "      <th></th>\n",
       "      <th>marketplace</th>\n",
       "      <th>customer_id</th>\n",
       "      <th>review_id</th>\n",
       "      <th>product_id</th>\n",
       "      <th>product_parent</th>\n",
       "      <th>product_title</th>\n",
       "      <th>product_category</th>\n",
       "      <th>star_rating</th>\n",
       "      <th>helpful_votes</th>\n",
       "      <th>total_votes</th>\n",
       "      <th>vine</th>\n",
       "      <th>verified_purchase</th>\n",
       "      <th>review_headline</th>\n",
       "      <th>review_body</th>\n",
       "      <th>review_date</th>\n",
       "    </tr>\n",
       "  </thead>\n",
       "  <tbody>\n",
       "    <tr>\n",
       "      <th>0</th>\n",
       "      <td>US</td>\n",
       "      <td>18778586</td>\n",
       "      <td>RDIJS7QYB6XNR</td>\n",
       "      <td>B00EDBY7X8</td>\n",
       "      <td>122952789</td>\n",
       "      <td>Monopoly Junior Board Game</td>\n",
       "      <td>Toys</td>\n",
       "      <td>5</td>\n",
       "      <td>0</td>\n",
       "      <td>0</td>\n",
       "      <td>N</td>\n",
       "      <td>Y</td>\n",
       "      <td>Five Stars</td>\n",
       "      <td>Excellent!!!</td>\n",
       "      <td>2015-08-31</td>\n",
       "    </tr>\n",
       "    <tr>\n",
       "      <th>1</th>\n",
       "      <td>US</td>\n",
       "      <td>24769659</td>\n",
       "      <td>R36ED1U38IELG8</td>\n",
       "      <td>B00D7JFOPC</td>\n",
       "      <td>952062646</td>\n",
       "      <td>56 Pieces of Wooden Train Track Compatible wit...</td>\n",
       "      <td>Toys</td>\n",
       "      <td>5</td>\n",
       "      <td>0</td>\n",
       "      <td>0</td>\n",
       "      <td>N</td>\n",
       "      <td>Y</td>\n",
       "      <td>Good quality track at excellent price</td>\n",
       "      <td>Great quality wooden track (better than some o...</td>\n",
       "      <td>2015-08-31</td>\n",
       "    </tr>\n",
       "    <tr>\n",
       "      <th>2</th>\n",
       "      <td>US</td>\n",
       "      <td>44331596</td>\n",
       "      <td>R1UE3RPRGCOLD</td>\n",
       "      <td>B002LHA74O</td>\n",
       "      <td>818126353</td>\n",
       "      <td>Super Jumbo Playing Cards by S&amp;S Worldwide</td>\n",
       "      <td>Toys</td>\n",
       "      <td>2</td>\n",
       "      <td>1</td>\n",
       "      <td>1</td>\n",
       "      <td>N</td>\n",
       "      <td>Y</td>\n",
       "      <td>Two Stars</td>\n",
       "      <td>Cards are not as big as pictured.</td>\n",
       "      <td>2015-08-31</td>\n",
       "    </tr>\n",
       "    <tr>\n",
       "      <th>3</th>\n",
       "      <td>US</td>\n",
       "      <td>23310293</td>\n",
       "      <td>R298788GS6I901</td>\n",
       "      <td>B00ARPLCGY</td>\n",
       "      <td>261944918</td>\n",
       "      <td>Barbie Doll and Fashions Barbie Gift Set</td>\n",
       "      <td>Toys</td>\n",
       "      <td>5</td>\n",
       "      <td>0</td>\n",
       "      <td>0</td>\n",
       "      <td>N</td>\n",
       "      <td>Y</td>\n",
       "      <td>my daughter loved it and i liked the price and...</td>\n",
       "      <td>my daughter loved it and i liked the price and...</td>\n",
       "      <td>2015-08-31</td>\n",
       "    </tr>\n",
       "    <tr>\n",
       "      <th>4</th>\n",
       "      <td>US</td>\n",
       "      <td>38745832</td>\n",
       "      <td>RNX4EXOBBPN5</td>\n",
       "      <td>B00UZOPOFW</td>\n",
       "      <td>717410439</td>\n",
       "      <td>Emazing Lights eLite Flow Glow Sticks - Spinni...</td>\n",
       "      <td>Toys</td>\n",
       "      <td>1</td>\n",
       "      <td>1</td>\n",
       "      <td>1</td>\n",
       "      <td>N</td>\n",
       "      <td>Y</td>\n",
       "      <td>DONT BUY THESE!</td>\n",
       "      <td>Do not buy these! They break very fast I spun ...</td>\n",
       "      <td>2015-08-31</td>\n",
       "    </tr>\n",
       "  </tbody>\n",
       "</table>\n",
       "</div>"
      ],
      "text/plain": [
       "  marketplace  customer_id       review_id  product_id  product_parent  \\\n",
       "0          US     18778586   RDIJS7QYB6XNR  B00EDBY7X8       122952789   \n",
       "1          US     24769659  R36ED1U38IELG8  B00D7JFOPC       952062646   \n",
       "2          US     44331596   R1UE3RPRGCOLD  B002LHA74O       818126353   \n",
       "3          US     23310293  R298788GS6I901  B00ARPLCGY       261944918   \n",
       "4          US     38745832    RNX4EXOBBPN5  B00UZOPOFW       717410439   \n",
       "\n",
       "                                       product_title product_category  \\\n",
       "0                         Monopoly Junior Board Game             Toys   \n",
       "1  56 Pieces of Wooden Train Track Compatible wit...             Toys   \n",
       "2         Super Jumbo Playing Cards by S&S Worldwide             Toys   \n",
       "3           Barbie Doll and Fashions Barbie Gift Set             Toys   \n",
       "4  Emazing Lights eLite Flow Glow Sticks - Spinni...             Toys   \n",
       "\n",
       "   star_rating  helpful_votes  total_votes vine verified_purchase  \\\n",
       "0            5              0            0    N                 Y   \n",
       "1            5              0            0    N                 Y   \n",
       "2            2              1            1    N                 Y   \n",
       "3            5              0            0    N                 Y   \n",
       "4            1              1            1    N                 Y   \n",
       "\n",
       "                                     review_headline  \\\n",
       "0                                         Five Stars   \n",
       "1              Good quality track at excellent price   \n",
       "2                                          Two Stars   \n",
       "3  my daughter loved it and i liked the price and...   \n",
       "4                                    DONT BUY THESE!   \n",
       "\n",
       "                                         review_body review_date  \n",
       "0                                       Excellent!!!  2015-08-31  \n",
       "1  Great quality wooden track (better than some o...  2015-08-31  \n",
       "2                  Cards are not as big as pictured.  2015-08-31  \n",
       "3  my daughter loved it and i liked the price and...  2015-08-31  \n",
       "4  Do not buy these! They break very fast I spun ...  2015-08-31  "
      ]
     },
     "execution_count": 4,
     "metadata": {},
     "output_type": "execute_result"
    }
   ],
   "source": [
    "sample_data_path = \"https://s3.amazonaws.com/amazon-reviews-pds/tsv/sample_us.tsv\"\n",
    "\n",
    "rev_df = pd.read_table(sample_data_path)\n",
    "\n",
    "rev_df.head()"
   ]
  },
  {
   "cell_type": "markdown",
   "metadata": {
    "deletable": false,
    "editable": false,
    "nbgrader": {
     "grade": false,
     "locked": true,
     "solution": false
    }
   },
   "source": [
    "#### Looking at our raw data\n",
    "\n",
    "While NLP might offer insight into the structure of reviews, for the purpose of this assignment, we are only interested in the customers, the product, and the star rating"
   ]
  },
  {
   "cell_type": "code",
   "execution_count": 5,
   "metadata": {
    "deletable": false,
    "editable": false,
    "nbgrader": {
     "grade": false,
     "locked": true,
     "solution": false
    }
   },
   "outputs": [
    {
     "data": {
      "text/html": [
       "<div>\n",
       "<style scoped>\n",
       "    .dataframe tbody tr th:only-of-type {\n",
       "        vertical-align: middle;\n",
       "    }\n",
       "\n",
       "    .dataframe tbody tr th {\n",
       "        vertical-align: top;\n",
       "    }\n",
       "\n",
       "    .dataframe thead th {\n",
       "        text-align: right;\n",
       "    }\n",
       "</style>\n",
       "<table border=\"1\" class=\"dataframe\">\n",
       "  <thead>\n",
       "    <tr style=\"text-align: right;\">\n",
       "      <th></th>\n",
       "      <th>customer_id</th>\n",
       "      <th>product_id</th>\n",
       "      <th>score</th>\n",
       "    </tr>\n",
       "  </thead>\n",
       "  <tbody>\n",
       "    <tr>\n",
       "      <th>0</th>\n",
       "      <td>18778586</td>\n",
       "      <td>B00EDBY7X8</td>\n",
       "      <td>5</td>\n",
       "    </tr>\n",
       "    <tr>\n",
       "      <th>1</th>\n",
       "      <td>24769659</td>\n",
       "      <td>B00D7JFOPC</td>\n",
       "      <td>5</td>\n",
       "    </tr>\n",
       "    <tr>\n",
       "      <th>2</th>\n",
       "      <td>44331596</td>\n",
       "      <td>B002LHA74O</td>\n",
       "      <td>2</td>\n",
       "    </tr>\n",
       "    <tr>\n",
       "      <th>3</th>\n",
       "      <td>23310293</td>\n",
       "      <td>B00ARPLCGY</td>\n",
       "      <td>5</td>\n",
       "    </tr>\n",
       "    <tr>\n",
       "      <th>4</th>\n",
       "      <td>38745832</td>\n",
       "      <td>B00UZOPOFW</td>\n",
       "      <td>1</td>\n",
       "    </tr>\n",
       "  </tbody>\n",
       "</table>\n",
       "</div>"
      ],
      "text/plain": [
       "   customer_id  product_id  score\n",
       "0     18778586  B00EDBY7X8      5\n",
       "1     24769659  B00D7JFOPC      5\n",
       "2     44331596  B002LHA74O      2\n",
       "3     23310293  B00ARPLCGY      5\n",
       "4     38745832  B00UZOPOFW      1"
      ]
     },
     "execution_count": 5,
     "metadata": {},
     "output_type": "execute_result"
    }
   ],
   "source": [
    "rev_df = rev_df[['customer_id','product_id', 'star_rating']]\n",
    "rev_df.rename(columns= {'star_rating':'score'}, inplace=True)\n",
    "rev_df.head()"
   ]
  },
  {
   "cell_type": "markdown",
   "metadata": {
    "deletable": false,
    "editable": false,
    "nbgrader": {
     "grade": false,
     "locked": true,
     "solution": false
    }
   },
   "source": [
    "#### Question 1"
   ]
  },
  {
   "cell_type": "code",
   "execution_count": 6,
   "metadata": {
    "collapsed": true
   },
   "outputs": [],
   "source": [
    "### GRADED\n",
    "### in the call to `.rename()` above, a dictionary was passed in to the `columns` parameter\n",
    "### Which other object, when passed to 'columns', whould have yeilded the same result\n",
    "### 'a') \"reviewerID, productID, score\"\n",
    "### 'b') ['asin':'productID','overall':'score']\n",
    "### 'c') ['customer_id', 'product_id', 'score']\n",
    "### 'd') None of the above\n",
    "### assign character - as string - associated with your choice to ans1\n",
    "### YOUR ANSWER BELOW\n",
    "\n",
    "ans1 = 'c'"
   ]
  },
  {
   "cell_type": "code",
   "execution_count": 7,
   "metadata": {
    "collapsed": true,
    "deletable": false,
    "editable": false,
    "nbgrader": {
     "grade": true,
     "grade_id": "Question 1a",
     "locked": true,
     "points": "5",
     "solution": false
    }
   },
   "outputs": [],
   "source": [
    "###\n",
    "### AUTOGRADER TEST - DO NOT REMOVE\n",
    "###\n"
   ]
  },
  {
   "cell_type": "markdown",
   "metadata": {
    "deletable": false,
    "editable": false,
    "nbgrader": {
     "grade": false,
     "locked": true,
     "solution": false
    }
   },
   "source": [
    "While not strictly necessary, let's modify the values in product_id and customer_id to make them a little easier to read.  \n",
    "\n",
    "Below, building a dictionary for products.  \n",
    "Let the keys be all the unique values of productID, let the values be \"P\" followed by a number, 1-n, such that each product id is mapped to a unique string of the format (\"P####\"). Do the same for Reviewers, but use a \"R\" prefix."
   ]
  },
  {
   "cell_type": "code",
   "execution_count": 8,
   "metadata": {
    "deletable": false,
    "editable": false,
    "nbgrader": {
     "grade": false,
     "locked": true,
     "solution": false
    }
   },
   "outputs": [
    {
     "name": "stdout",
     "output_type": "stream",
     "text": [
      "B00EDBY7X8 : P0\n",
      "B00D7JFOPC : P1\n",
      "B002LHA74O : P2\n",
      "B00ARPLCGY : P3\n",
      "B00UZOPOFW : P4\n",
      "length:  49\n"
     ]
    }
   ],
   "source": [
    "pID_dict = {pID:'P'+ str(idx) for idx, pID in enumerate(rev_df['product_id'].unique()) }\n",
    "rID_dict = {rID:'R'+ str(idx) for idx, rID in enumerate(rev_df['customer_id'].unique()) }\n",
    "\n",
    "### Checking the values in the dictionaries below:\n",
    "for k in list(pID_dict.keys())[:5]:\n",
    "    print(k, \":\",pID_dict[k])\n",
    "print(\"length: \",len(pID_dict))"
   ]
  },
  {
   "cell_type": "code",
   "execution_count": 9,
   "metadata": {
    "deletable": false,
    "editable": false,
    "nbgrader": {
     "grade": false,
     "locked": true,
     "solution": false
    }
   },
   "outputs": [
    {
     "data": {
      "text/html": [
       "<div>\n",
       "<style scoped>\n",
       "    .dataframe tbody tr th:only-of-type {\n",
       "        vertical-align: middle;\n",
       "    }\n",
       "\n",
       "    .dataframe tbody tr th {\n",
       "        vertical-align: top;\n",
       "    }\n",
       "\n",
       "    .dataframe thead th {\n",
       "        text-align: right;\n",
       "    }\n",
       "</style>\n",
       "<table border=\"1\" class=\"dataframe\">\n",
       "  <thead>\n",
       "    <tr style=\"text-align: right;\">\n",
       "      <th></th>\n",
       "      <th>customer_id</th>\n",
       "      <th>product_id</th>\n",
       "      <th>score</th>\n",
       "    </tr>\n",
       "  </thead>\n",
       "  <tbody>\n",
       "    <tr>\n",
       "      <th>0</th>\n",
       "      <td>R0</td>\n",
       "      <td>P0</td>\n",
       "      <td>5</td>\n",
       "    </tr>\n",
       "    <tr>\n",
       "      <th>1</th>\n",
       "      <td>R1</td>\n",
       "      <td>P1</td>\n",
       "      <td>5</td>\n",
       "    </tr>\n",
       "    <tr>\n",
       "      <th>2</th>\n",
       "      <td>R2</td>\n",
       "      <td>P2</td>\n",
       "      <td>2</td>\n",
       "    </tr>\n",
       "    <tr>\n",
       "      <th>3</th>\n",
       "      <td>R3</td>\n",
       "      <td>P3</td>\n",
       "      <td>5</td>\n",
       "    </tr>\n",
       "    <tr>\n",
       "      <th>4</th>\n",
       "      <td>R4</td>\n",
       "      <td>P4</td>\n",
       "      <td>1</td>\n",
       "    </tr>\n",
       "  </tbody>\n",
       "</table>\n",
       "</div>"
      ],
      "text/plain": [
       "  customer_id product_id  score\n",
       "0          R0         P0      5\n",
       "1          R1         P1      5\n",
       "2          R2         P2      2\n",
       "3          R3         P3      5\n",
       "4          R4         P4      1"
      ]
     },
     "execution_count": 9,
     "metadata": {},
     "output_type": "execute_result"
    }
   ],
   "source": [
    "### Renaming of product and reviewer IDs \n",
    "\n",
    "rev_df.loc[:, 'product_id'] = rev_df.loc[:,'product_id'].map(pID_dict)\n",
    "rev_df.loc[:, 'customer_id'] = rev_df.loc[:,'customer_id'].map(rID_dict)\n",
    "\n",
    "rev_df.head()"
   ]
  },
  {
   "cell_type": "markdown",
   "metadata": {
    "deletable": false,
    "editable": false,
    "nbgrader": {
     "grade": false,
     "locked": true,
     "solution": false
    }
   },
   "source": [
    "<a id = \"eda\"></a>\n",
    "### EDA\n",
    "Having gone through the proess of cleaning the data, we will load in our more extensive synthetic data-set and perform some light EDA to look at the distributions of the data."
   ]
  },
  {
   "cell_type": "code",
   "execution_count": 10,
   "metadata": {
    "deletable": false,
    "editable": false,
    "nbgrader": {
     "grade": false,
     "locked": true,
     "solution": false
    }
   },
   "outputs": [
    {
     "data": {
      "text/html": [
       "<div>\n",
       "<style scoped>\n",
       "    .dataframe tbody tr th:only-of-type {\n",
       "        vertical-align: middle;\n",
       "    }\n",
       "\n",
       "    .dataframe tbody tr th {\n",
       "        vertical-align: top;\n",
       "    }\n",
       "\n",
       "    .dataframe thead th {\n",
       "        text-align: right;\n",
       "    }\n",
       "</style>\n",
       "<table border=\"1\" class=\"dataframe\">\n",
       "  <thead>\n",
       "    <tr style=\"text-align: right;\">\n",
       "      <th></th>\n",
       "      <th>reviewerID</th>\n",
       "      <th>productID</th>\n",
       "      <th>score</th>\n",
       "    </tr>\n",
       "  </thead>\n",
       "  <tbody>\n",
       "    <tr>\n",
       "      <th>0</th>\n",
       "      <td>R0</td>\n",
       "      <td>P6181</td>\n",
       "      <td>5</td>\n",
       "    </tr>\n",
       "    <tr>\n",
       "      <th>1</th>\n",
       "      <td>R0</td>\n",
       "      <td>P2276</td>\n",
       "      <td>2</td>\n",
       "    </tr>\n",
       "    <tr>\n",
       "      <th>2</th>\n",
       "      <td>R0</td>\n",
       "      <td>P1382</td>\n",
       "      <td>5</td>\n",
       "    </tr>\n",
       "    <tr>\n",
       "      <th>3</th>\n",
       "      <td>R0</td>\n",
       "      <td>P4797</td>\n",
       "      <td>5</td>\n",
       "    </tr>\n",
       "    <tr>\n",
       "      <th>4</th>\n",
       "      <td>R0</td>\n",
       "      <td>P281</td>\n",
       "      <td>1</td>\n",
       "    </tr>\n",
       "  </tbody>\n",
       "</table>\n",
       "</div>"
      ],
      "text/plain": [
       "  reviewerID productID  score\n",
       "0         R0     P6181      5\n",
       "1         R0     P2276      2\n",
       "2         R0     P1382      5\n",
       "3         R0     P4797      5\n",
       "4         R0      P281      1"
      ]
     },
     "execution_count": 10,
     "metadata": {},
     "output_type": "execute_result"
    }
   ],
   "source": [
    "synth_data_path = \"../resource/asnlib/publicdata/synthetic_reviews.csv\"\n",
    "\n",
    "rev_df = pd.read_csv(synth_data_path)\n",
    "rev_df.head()"
   ]
  },
  {
   "cell_type": "code",
   "execution_count": 11,
   "metadata": {
    "deletable": false,
    "editable": false,
    "nbgrader": {
     "grade": false,
     "locked": true,
     "solution": false
    }
   },
   "outputs": [
    {
     "data": {
      "image/png": "[encoded data removed]",
      "text/plain": [
       "<matplotlib.figure.Figure at 0x7fe63a257e80>"
      ]
     },
     "metadata": {},
     "output_type": "display_data"
    }
   ],
   "source": [
    "rev_df['score'].value_counts().plot(kind = 'bar');"
   ]
  },
  {
   "cell_type": "code",
   "execution_count": 12,
   "metadata": {
    "deletable": false,
    "editable": false,
    "nbgrader": {
     "grade": false,
     "locked": true,
     "solution": false
    }
   },
   "outputs": [
    {
     "data": {
      "text/plain": [
       "5    65826\n",
       "4    29717\n",
       "3    12352\n",
       "2     5604\n",
       "1     4981\n",
       "Name: score, dtype: int64"
      ]
     },
     "execution_count": 12,
     "metadata": {},
     "output_type": "execute_result"
    }
   ],
   "source": [
    "rev_df['score'].value_counts()"
   ]
  },
  {
   "cell_type": "markdown",
   "metadata": {
    "deletable": false,
    "editable": false,
    "nbgrader": {
     "grade": false,
     "locked": true,
     "solution": false
    }
   },
   "source": [
    "Interesting preponderance of 5's.  "
   ]
  },
  {
   "cell_type": "code",
   "execution_count": 13,
   "metadata": {
    "deletable": false,
    "editable": false,
    "nbgrader": {
     "grade": false,
     "locked": true,
     "solution": false
    }
   },
   "outputs": [
    {
     "name": "stdout",
     "output_type": "stream",
     "text": [
      "Reviews per product, top and bottom reviewed\n",
      "\n",
      "P4407    302\n",
      "P6092    290\n",
      "P677     264\n",
      "P4492    250\n",
      "P1099    210\n",
      "P2535    191\n",
      "P1959    190\n",
      "P4597    189\n",
      "P3829    188\n",
      "P2214    184\n",
      "P3579    183\n",
      "P540     180\n",
      "P2245    178\n",
      "P3437    176\n",
      "P3342    172\n",
      "Name: productID, dtype: int64\n",
      "P2209    1\n",
      "P3174    1\n",
      "P5171    1\n",
      "P2343    1\n",
      "P4911    1\n",
      "Name: productID, dtype: int64\n"
     ]
    }
   ],
   "source": [
    "print(\"Reviews per product, top and bottom reviewed\\n\")\n",
    "print(rev_df['productID'].value_counts()[:15])\n",
    "print(rev_df['productID'].value_counts()[-5:])"
   ]
  },
  {
   "cell_type": "code",
   "execution_count": 14,
   "metadata": {
    "deletable": false,
    "editable": false,
    "nbgrader": {
     "grade": false,
     "locked": true,
     "solution": false
    }
   },
   "outputs": [
    {
     "data": {
      "image/png": "[encoded data removed]",
      "text/plain": [
       "<matplotlib.figure.Figure at 0x7fe63801ad68>"
      ]
     },
     "metadata": {},
     "output_type": "display_data"
    }
   ],
   "source": [
    "product_w_n_reviews = rev_df['productID'].value_counts().value_counts()\n",
    "plt.figure(figsize = (10,7))\n",
    "plt.scatter(product_w_n_reviews.index, product_w_n_reviews)\n",
    "plt.xlabel(\"Number of Reviews\", fontsize = 16)\n",
    "plt.ylabel(\"Number of Products\", fontsize = 16);"
   ]
  },
  {
   "cell_type": "markdown",
   "metadata": {
    "deletable": false,
    "editable": false,
    "nbgrader": {
     "grade": false,
     "locked": true,
     "solution": false
    }
   },
   "source": [
    "Of note, the above looks log-normal, however, in reality, the distribution will look like the distribution called \"the hollow\" curve, which is frequently found in nature in relative species abundance. the log-normal appearance is an artifact of the data synthesis."
   ]
  },
  {
   "cell_type": "code",
   "execution_count": 15,
   "metadata": {
    "deletable": false,
    "editable": false,
    "nbgrader": {
     "grade": false,
     "locked": true,
     "solution": false
    }
   },
   "outputs": [
    {
     "name": "stdout",
     "output_type": "stream",
     "text": [
      "Reviews per reviewer, top and bottom reviewers\n",
      "\n",
      "R8577    578\n",
      "R8247    578\n",
      "R2603    375\n",
      "R4759    375\n",
      "R3429    375\n",
      "R1396    301\n",
      "R9317    301\n",
      "R3559    261\n",
      "R830     256\n",
      "R8531    256\n",
      "R8114    246\n",
      "R6339    246\n",
      "R6324    246\n",
      "R4022    246\n",
      "R4749    200\n",
      "Name: reviewerID, dtype: int64\n",
      "R4204    5\n",
      "R5361    5\n",
      "R6534    5\n",
      "R5688    5\n",
      "R9062    5\n",
      "Name: reviewerID, dtype: int64\n"
     ]
    }
   ],
   "source": [
    "print(\"Reviews per reviewer, top and bottom reviewers\\n\")\n",
    "print(rev_df['reviewerID'].value_counts()[:15])\n",
    "print(rev_df['reviewerID'].value_counts()[-5:])"
   ]
  },
  {
   "cell_type": "code",
   "execution_count": 16,
   "metadata": {
    "deletable": false,
    "editable": false,
    "nbgrader": {
     "grade": false,
     "locked": true,
     "solution": false
    }
   },
   "outputs": [
    {
     "data": {
      "image/png": "[encoded data removed]",
      "text/plain": [
       "<matplotlib.figure.Figure at 0x7fe63a35bac8>"
      ]
     },
     "metadata": {},
     "output_type": "display_data"
    }
   ],
   "source": [
    "product_w_n_reviews = rev_df['reviewerID'].value_counts().value_counts()\n",
    "plt.figure(figsize = (10,7))\n",
    "plt.scatter(product_w_n_reviews.index, product_w_n_reviews)\n",
    "plt.xlabel(\"Number of Reviews\", fontsize = 16)\n",
    "plt.ylabel(\"Number of Users\", fontsize = 16);"
   ]
  },
  {
   "cell_type": "markdown",
   "metadata": {
    "deletable": false,
    "editable": false,
    "nbgrader": {
     "grade": false,
     "locked": true,
     "solution": false
    }
   },
   "source": [
    "Most products are only reviewed a few times; most users only submit a few reviews. Very few products/users have/submit many many reviews. The above is more the look of a \"hollow curve\"."
   ]
  },
  {
   "cell_type": "markdown",
   "metadata": {
    "deletable": false,
    "editable": false,
    "nbgrader": {
     "grade": false,
     "locked": true,
     "solution": false
    }
   },
   "source": [
    "<a id = \"simple\"></a>\n",
    "### Functioning of Recommender Systems\n",
    "\n",
    "Before tackling our extensive synthetic data, we will use a simpler dataset to demonstrate the functioning of recommender systems.  \n",
    "\n",
    "Below we have a set of rankings of six musicians made by six individuals.  "
   ]
  },
  {
   "cell_type": "code",
   "execution_count": 17,
   "metadata": {
    "deletable": false,
    "editable": false,
    "nbgrader": {
     "grade": false,
     "locked": true,
     "solution": false
    }
   },
   "outputs": [
    {
     "data": {
      "text/html": [
       "<div>\n",
       "<style scoped>\n",
       "    .dataframe tbody tr th:only-of-type {\n",
       "        vertical-align: middle;\n",
       "    }\n",
       "\n",
       "    .dataframe tbody tr th {\n",
       "        vertical-align: top;\n",
       "    }\n",
       "\n",
       "    .dataframe thead th {\n",
       "        text-align: right;\n",
       "    }\n",
       "</style>\n",
       "<table border=\"1\" class=\"dataframe\">\n",
       "  <thead>\n",
       "    <tr style=\"text-align: right;\">\n",
       "      <th></th>\n",
       "      <th>Mozart</th>\n",
       "      <th>Bach</th>\n",
       "      <th>Chopin</th>\n",
       "      <th>Brahms</th>\n",
       "      <th>Wagner</th>\n",
       "      <th>Liszt</th>\n",
       "    </tr>\n",
       "  </thead>\n",
       "  <tbody>\n",
       "    <tr>\n",
       "      <th>Abel</th>\n",
       "      <td>0</td>\n",
       "      <td>1</td>\n",
       "      <td>2</td>\n",
       "      <td>2</td>\n",
       "      <td>1</td>\n",
       "      <td>3</td>\n",
       "    </tr>\n",
       "    <tr>\n",
       "      <th>Baker</th>\n",
       "      <td>5</td>\n",
       "      <td>0</td>\n",
       "      <td>3</td>\n",
       "      <td>2</td>\n",
       "      <td>3</td>\n",
       "      <td>3</td>\n",
       "    </tr>\n",
       "    <tr>\n",
       "      <th>Charlie</th>\n",
       "      <td>5</td>\n",
       "      <td>4</td>\n",
       "      <td>0</td>\n",
       "      <td>5</td>\n",
       "      <td>3</td>\n",
       "      <td>2</td>\n",
       "    </tr>\n",
       "    <tr>\n",
       "      <th>David</th>\n",
       "      <td>5</td>\n",
       "      <td>5</td>\n",
       "      <td>5</td>\n",
       "      <td>0</td>\n",
       "      <td>2</td>\n",
       "      <td>1</td>\n",
       "    </tr>\n",
       "    <tr>\n",
       "      <th>Erik</th>\n",
       "      <td>3</td>\n",
       "      <td>3</td>\n",
       "      <td>4</td>\n",
       "      <td>3</td>\n",
       "      <td>0</td>\n",
       "      <td>2</td>\n",
       "    </tr>\n",
       "    <tr>\n",
       "      <th>Frank</th>\n",
       "      <td>2</td>\n",
       "      <td>2</td>\n",
       "      <td>1</td>\n",
       "      <td>1</td>\n",
       "      <td>3</td>\n",
       "      <td>0</td>\n",
       "    </tr>\n",
       "  </tbody>\n",
       "</table>\n",
       "</div>"
      ],
      "text/plain": [
       "         Mozart  Bach  Chopin  Brahms  Wagner  Liszt\n",
       "Abel          0     1       2       2       1      3\n",
       "Baker         5     0       3       2       3      3\n",
       "Charlie       5     4       0       5       3      2\n",
       "David         5     5       5       0       2      1\n",
       "Erik          3     3       4       3       0      2\n",
       "Frank         2     2       1       1       3      0"
      ]
     },
     "execution_count": 17,
     "metadata": {},
     "output_type": "execute_result"
    }
   ],
   "source": [
    "ex = pd.read_csv(\"../resource/asnlib/publicdata/example.csv\", index_col = 0)\n",
    "ex"
   ]
  },
  {
   "cell_type": "markdown",
   "metadata": {
    "deletable": false,
    "editable": false,
    "nbgrader": {
     "grade": false,
     "locked": true,
     "solution": false
    }
   },
   "source": [
    "Every column and every row contains 1 value of \"0\", denoting an absence of ranking - NOT an extremely poor ranking.  \n",
    "\n",
    "To determine which products to recommend, the similarity of products will be used. We will use three different ways to calculate similarity: Euclidean distance, correlation coefficient (Pearson's), and a cosine similarity score. In order to compare these scores we will normalize each to range between 0 and 1.  \n",
    "\n",
    "To help review each, we will use a subset of our example DataFrame:"
   ]
  },
  {
   "cell_type": "code",
   "execution_count": 18,
   "metadata": {
    "deletable": false,
    "editable": false,
    "nbgrader": {
     "grade": false,
     "locked": true,
     "solution": false
    }
   },
   "outputs": [
    {
     "data": {
      "text/html": [
       "<div>\n",
       "<style scoped>\n",
       "    .dataframe tbody tr th:only-of-type {\n",
       "        vertical-align: middle;\n",
       "    }\n",
       "\n",
       "    .dataframe tbody tr th {\n",
       "        vertical-align: top;\n",
       "    }\n",
       "\n",
       "    .dataframe thead th {\n",
       "        text-align: right;\n",
       "    }\n",
       "</style>\n",
       "<table border=\"1\" class=\"dataframe\">\n",
       "  <thead>\n",
       "    <tr style=\"text-align: right;\">\n",
       "      <th></th>\n",
       "      <th>Brahms</th>\n",
       "      <th>Wagner</th>\n",
       "      <th>Liszt</th>\n",
       "    </tr>\n",
       "  </thead>\n",
       "  <tbody>\n",
       "    <tr>\n",
       "      <th>Abel</th>\n",
       "      <td>2</td>\n",
       "      <td>1</td>\n",
       "      <td>3</td>\n",
       "    </tr>\n",
       "    <tr>\n",
       "      <th>Baker</th>\n",
       "      <td>2</td>\n",
       "      <td>3</td>\n",
       "      <td>3</td>\n",
       "    </tr>\n",
       "    <tr>\n",
       "      <th>Charlie</th>\n",
       "      <td>5</td>\n",
       "      <td>3</td>\n",
       "      <td>2</td>\n",
       "    </tr>\n",
       "  </tbody>\n",
       "</table>\n",
       "</div>"
      ],
      "text/plain": [
       "         Brahms  Wagner  Liszt\n",
       "Abel          2       1      3\n",
       "Baker         2       3      3\n",
       "Charlie       5       3      2"
      ]
     },
     "execution_count": 18,
     "metadata": {},
     "output_type": "execute_result"
    }
   ],
   "source": [
    "ex_hand = ex.iloc[:3,-3:]\n",
    "ex_hand"
   ]
  },
  {
   "cell_type": "markdown",
   "metadata": {
    "deletable": false,
    "editable": false,
    "nbgrader": {
     "grade": false,
     "locked": true,
     "solution": false
    }
   },
   "source": [
    "Euclidean distance for points i, and j  is $\\sqrt{(a_j-a_i)^2+(b_j-b_i)^2+...+(n_j-n_i)^2}$  \n",
    "\n",
    "#### Question 2"
   ]
  },
  {
   "cell_type": "code",
   "execution_count": 19,
   "metadata": {
    "collapsed": true
   },
   "outputs": [],
   "source": [
    "### GRADED\n",
    "### calculate the Euclidean distance between Brahms and Wagner in the `ex_hand` DataFrame\n",
    "### Assign float answer to ans1.\n",
    "### response graded to 3 decimal places \n",
    "### Feel free to refer to KNN assignment\n",
    "### YOUR ANSWER BELOW\n",
    "\n",
    "ans1 = np.sqrt(np.sum((ex_hand.Brahms - ex_hand.Wagner)**2))"
   ]
  },
  {
   "cell_type": "code",
   "execution_count": 20,
   "metadata": {
    "collapsed": true,
    "deletable": false,
    "editable": false,
    "nbgrader": {
     "grade": true,
     "grade_id": "Question 2",
     "locked": true,
     "points": "5",
     "solution": false
    }
   },
   "outputs": [],
   "source": [
    "###\n",
    "### AUTOGRADER TEST - DO NOT REMOVE\n",
    "###\n"
   ]
  },
  {
   "cell_type": "markdown",
   "metadata": {
    "deletable": false,
    "editable": false,
    "nbgrader": {
     "grade": false,
     "locked": true,
     "solution": false
    }
   },
   "source": [
    "To normalize this to between 0 and 1, the transformation from \"distance\" to \"similarity\" is $\\frac1{1+dist}$. e.g. distance of 0 = similarity of 1, and $lim_{dist\\rightarrow\\infty}$ similarity approaches 0.  \n",
    "\n",
    "#### Question 3"
   ]
  },
  {
   "cell_type": "code",
   "execution_count": 21,
   "metadata": {
    "collapsed": true
   },
   "outputs": [],
   "source": [
    "### GRADED\n",
    "### Code a function called \"e_sim\"\n",
    "### ACCEPT two pandas series as inputs\n",
    "### RETURN the euclidean similarity score\n",
    "\n",
    "### Hint: remember `np.linalg.norm()`\n",
    "### YOUR ANSWER BELOW\n",
    "\n",
    "def e_sim(ser1, ser2):\n",
    "    \"\"\"\n",
    "    Given two Pandas series, compute the euclidean similarity score;\n",
    "        1 / 1+euclidean distance\n",
    "        \n",
    "    Positional Arguments --\n",
    "        ser1: a Pandas Series of length n\n",
    "        ser2: a Pandas Series of length n\n",
    "    \n",
    "    Example --\n",
    "        ser1 = ex_hand.iloc[:,0]\n",
    "        ser2 = ex_hand.iloc[:,1]\n",
    "        print(e_sim(ser1, ser2)) #--> 0.28989794855663564\n",
    "    \"\"\"\n",
    "    \n",
    "    return 1/(1+np.linalg.norm(ser1 - ser2))"
   ]
  },
  {
   "cell_type": "code",
   "execution_count": 22,
   "metadata": {
    "collapsed": true,
    "deletable": false,
    "editable": false,
    "nbgrader": {
     "grade": true,
     "grade_id": "Question 3",
     "locked": true,
     "points": "10",
     "solution": false
    }
   },
   "outputs": [],
   "source": [
    "###\n",
    "### AUTOGRADER TEST - DO NOT REMOVE\n",
    "###\n"
   ]
  },
  {
   "cell_type": "markdown",
   "metadata": {
    "deletable": false,
    "editable": false,
    "nbgrader": {
     "grade": false,
     "locked": true,
     "solution": false
    }
   },
   "source": [
    "#### Pearson's Correlation Coefficient\n",
    "The correlation coefficient - $\\rho$ - that same one you learned about in intro to statistics -  ranges from -1 to 1, thus in order to normalize into a difference score between 0 and 1, we need to reduce that range by half -- divide by two -- and increase the minimum score to 0 -- add .5:  \n",
    "\n",
    "$$\\frac12 + \\frac{\\rho_{xy}}2$$  "
   ]
  },
  {
   "cell_type": "code",
   "execution_count": 23,
   "metadata": {
    "collapsed": true,
    "deletable": false,
    "editable": false,
    "nbgrader": {
     "grade": false,
     "locked": true,
     "solution": false
    }
   },
   "outputs": [],
   "source": [
    "### Defining function for pearson's Correlation Coefficient\n",
    "def p_sim(ser1, ser2):\n",
    "    \n",
    "    def normalize(raw):\n",
    "        return .5 + (raw/2)\n",
    "    \n",
    "    corr = np.corrcoef(ser1, ser2)[0][1] ### returns 2x2 array with correlation to self(1) on diagonal\n",
    "    \n",
    "    return normalize(corr)"
   ]
  },
  {
   "cell_type": "markdown",
   "metadata": {
    "deletable": false,
    "editable": false,
    "nbgrader": {
     "grade": false,
     "locked": true,
     "solution": false
    }
   },
   "source": [
    "#### Cosine Similarity\n",
    "\n",
    "Cosine similarity calculates the cosine of the angle between two vectors, once again, normalizing between 0 and 1.  \n",
    "\n",
    "#### Question 4"
   ]
  },
  {
   "cell_type": "code",
   "execution_count": 24,
   "metadata": {
    "collapsed": true
   },
   "outputs": [],
   "source": [
    "### GRADED\n",
    "### True or False:\n",
    "### Like the correlation coefficient similarity score, cosine similarity score will be unaffected by magnitudes\n",
    "### e.g. an excited user who gives mostly 5's will be considered similar to a user who gives mostly 2's\n",
    "\n",
    "### Assign boolean response to ans1\n",
    "### YOUR ANSWER BELOW\n",
    "\n",
    "ans1 = True"
   ]
  },
  {
   "cell_type": "code",
   "execution_count": 25,
   "metadata": {
    "collapsed": true,
    "deletable": false,
    "editable": false,
    "nbgrader": {
     "grade": true,
     "grade_id": "Question 4",
     "locked": true,
     "points": "5",
     "solution": false
    }
   },
   "outputs": [],
   "source": [
    "###\n",
    "### AUTOGRADER TEST - DO NOT REMOVE\n",
    "###\n"
   ]
  },
  {
   "cell_type": "markdown",
   "metadata": {
    "deletable": false,
    "editable": false,
    "nbgrader": {
     "grade": false,
     "locked": true,
     "solution": false
    }
   },
   "source": [
    "The equation for the cosine similarity score is the dot product of two vectors over the product of the norm of the two vectors: $$cos\\theta = \\frac{S1\\cdot S2}{||S1||*||S2||}$$"
   ]
  },
  {
   "cell_type": "code",
   "execution_count": 26,
   "metadata": {
    "collapsed": true,
    "deletable": false,
    "editable": false,
    "nbgrader": {
     "grade": false,
     "locked": true,
     "solution": false
    }
   },
   "outputs": [],
   "source": [
    "### Define function for cosine similarity\n",
    "\n",
    "def c_sim(ser1, ser2):\n",
    "    def normalize(raw):\n",
    "        return .5 + (raw/2)\n",
    "    \n",
    "    cosT = np.dot(ser1, ser2) / (np.linalg.norm(ser1)* np.linalg.norm(ser2))\n",
    "    \n",
    "    return normalize( cosT)"
   ]
  },
  {
   "cell_type": "markdown",
   "metadata": {
    "deletable": false,
    "editable": false,
    "nbgrader": {
     "grade": false,
     "locked": true,
     "solution": false
    }
   },
   "source": [
    "At this point we have defined three functions for calculating similarity between two vectors.  \n",
    "\n",
    "- c_sim: for cosine similarity\n",
    "- p_sim: for pearson coorelation coefficient similarity\n",
    "- e_sim: for euclidean similarity  "
   ]
  },
  {
   "cell_type": "markdown",
   "metadata": {
    "deletable": false,
    "editable": false,
    "nbgrader": {
     "grade": false,
     "locked": true,
     "solution": false
    }
   },
   "source": [
    "Let's now calculate each of the three similarity scores for each pair of musicians in our `ex` DataFrame.  \n",
    "\n",
    "The function we will build must take into account that not all users have rated all musicians."
   ]
  },
  {
   "cell_type": "code",
   "execution_count": 27,
   "metadata": {
    "deletable": false,
    "editable": false,
    "nbgrader": {
     "grade": false,
     "locked": true,
     "solution": false
    }
   },
   "outputs": [
    {
     "data": {
      "text/html": [
       "<div>\n",
       "<style scoped>\n",
       "    .dataframe tbody tr th:only-of-type {\n",
       "        vertical-align: middle;\n",
       "    }\n",
       "\n",
       "    .dataframe tbody tr th {\n",
       "        vertical-align: top;\n",
       "    }\n",
       "\n",
       "    .dataframe thead th {\n",
       "        text-align: right;\n",
       "    }\n",
       "</style>\n",
       "<table border=\"1\" class=\"dataframe\">\n",
       "  <thead>\n",
       "    <tr style=\"text-align: right;\">\n",
       "      <th></th>\n",
       "      <th>Mozart</th>\n",
       "      <th>Bach</th>\n",
       "      <th>Chopin</th>\n",
       "      <th>Brahms</th>\n",
       "      <th>Wagner</th>\n",
       "      <th>Liszt</th>\n",
       "    </tr>\n",
       "  </thead>\n",
       "  <tbody>\n",
       "    <tr>\n",
       "      <th>Abel</th>\n",
       "      <td>0</td>\n",
       "      <td>1</td>\n",
       "      <td>2</td>\n",
       "      <td>2</td>\n",
       "      <td>1</td>\n",
       "      <td>3</td>\n",
       "    </tr>\n",
       "    <tr>\n",
       "      <th>Baker</th>\n",
       "      <td>5</td>\n",
       "      <td>0</td>\n",
       "      <td>3</td>\n",
       "      <td>2</td>\n",
       "      <td>3</td>\n",
       "      <td>3</td>\n",
       "    </tr>\n",
       "    <tr>\n",
       "      <th>Charlie</th>\n",
       "      <td>5</td>\n",
       "      <td>4</td>\n",
       "      <td>0</td>\n",
       "      <td>5</td>\n",
       "      <td>3</td>\n",
       "      <td>2</td>\n",
       "    </tr>\n",
       "    <tr>\n",
       "      <th>David</th>\n",
       "      <td>5</td>\n",
       "      <td>5</td>\n",
       "      <td>5</td>\n",
       "      <td>0</td>\n",
       "      <td>2</td>\n",
       "      <td>1</td>\n",
       "    </tr>\n",
       "    <tr>\n",
       "      <th>Erik</th>\n",
       "      <td>3</td>\n",
       "      <td>3</td>\n",
       "      <td>4</td>\n",
       "      <td>3</td>\n",
       "      <td>0</td>\n",
       "      <td>2</td>\n",
       "    </tr>\n",
       "    <tr>\n",
       "      <th>Frank</th>\n",
       "      <td>2</td>\n",
       "      <td>2</td>\n",
       "      <td>1</td>\n",
       "      <td>1</td>\n",
       "      <td>3</td>\n",
       "      <td>0</td>\n",
       "    </tr>\n",
       "  </tbody>\n",
       "</table>\n",
       "</div>"
      ],
      "text/plain": [
       "         Mozart  Bach  Chopin  Brahms  Wagner  Liszt\n",
       "Abel          0     1       2       2       1      3\n",
       "Baker         5     0       3       2       3      3\n",
       "Charlie       5     4       0       5       3      2\n",
       "David         5     5       5       0       2      1\n",
       "Erik          3     3       4       3       0      2\n",
       "Frank         2     2       1       1       3      0"
      ]
     },
     "execution_count": 27,
     "metadata": {},
     "output_type": "execute_result"
    }
   ],
   "source": [
    "ex"
   ]
  },
  {
   "cell_type": "markdown",
   "metadata": {
    "deletable": false,
    "editable": false,
    "nbgrader": {
     "grade": false,
     "locked": true,
     "solution": false
    }
   },
   "source": [
    "So, for example, when \"Mozart\", and \"Bach\" are compared, the observations from both \"Abel\" and \"Baker\" must be disregarded.  \n",
    "Although our similarity functions will happily ingest the value of \"0\", The functions will take 0 to mean \"less than 1\" , *not* the \"no information\" which it actually represents.  \n",
    "\n",
    "#### Question 5"
   ]
  },
  {
   "cell_type": "code",
   "execution_count": 28,
   "metadata": {
    "collapsed": true
   },
   "outputs": [],
   "source": [
    "### GRADED\n",
    "### Code a function called \"drop_val\"\n",
    "### ACCEPT two inputs; A pandas DataFrame and a value, 'to_drop'\n",
    "### Drop all of the *rows* that contain the value 'to_drop' in any column\n",
    "### RETURN DataFrame with rows dropped\n",
    "\n",
    "### e.g. As demonstrated in the doc-string;\n",
    "### Passing a DataFrame based on 'ex' containing all rows but only the \"Mozart\" and \"Bach\" columns\n",
    "### and a 'to_drop' of 5 should return the \"Abel\", \"Erik\", and \"Frank\" rows with all the original columns\n",
    "\n",
    "### YOUR ANSWER BELOW\n",
    "\n",
    "def drop_val (df, to_drop):\n",
    "    \n",
    "    \"\"\"\n",
    "    Drop rows from the DataFrame containing the specified values\n",
    "    \n",
    "    Positional Arguments --\n",
    "        df: a Pandas DataFrame\n",
    "        to_drop: a value found in some rows of df\n",
    "    \n",
    "    Example --\n",
    "        \n",
    "        df = ex.loc[:,\"Mozart\":\"Bach]\n",
    "        to_drop = 5\n",
    "        print(drop_val(df,to_drop)) # -->          Mozart  Bach\n",
    "                                            Abel        0     1\n",
    "                                            Erik        3     3\n",
    "                                            Frank       2     2\n",
    "        \n",
    "        \n",
    "    \"\"\"\n",
    "    for col in df.columns:\n",
    "        df = df[df[col] != to_drop]\n",
    "    return df"
   ]
  },
  {
   "cell_type": "code",
   "execution_count": 29,
   "metadata": {
    "collapsed": true,
    "deletable": false,
    "editable": false,
    "nbgrader": {
     "grade": true,
     "grade_id": "Question 5",
     "locked": true,
     "points": "15",
     "solution": false
    }
   },
   "outputs": [],
   "source": [
    "###\n",
    "### AUTOGRADER TEST - DO NOT REMOVE\n",
    "###\n"
   ]
  },
  {
   "cell_type": "markdown",
   "metadata": {
    "deletable": false,
    "editable": false,
    "nbgrader": {
     "grade": false,
     "locked": true,
     "solution": false
    }
   },
   "source": [
    "The below cell defines a function \"drop_rows_with_zeros\" that ingests a DataFrame of two columns and returns a DataFrame where all the rows that contain a value of 0 have been removed"
   ]
  },
  {
   "cell_type": "code",
   "execution_count": 30,
   "metadata": {
    "collapsed": true,
    "deletable": false,
    "editable": false,
    "nbgrader": {
     "grade": false,
     "locked": true,
     "solution": false
    }
   },
   "outputs": [],
   "source": [
    "### Defining drop_rows_with_zeros\n",
    "\n",
    "def drop_rows_with_zeros(df):\n",
    "    keep = np.intersect1d( np.nonzero(df.iloc[:,0]), np.nonzero(df.iloc[:,1]))\n",
    "    \n",
    "    return df.iloc[keep,:]\n"
   ]
  },
  {
   "cell_type": "markdown",
   "metadata": {
    "deletable": false,
    "editable": false,
    "nbgrader": {
     "grade": false,
     "locked": true,
     "solution": false
    }
   },
   "source": [
    "### Comparison of Similarity Scores\n",
    "\n",
    "Below, the similarity scores for each each combination of musicians will be compared for each similarity score.  \n",
    "\n",
    "Find all the pairs of musicians:"
   ]
  },
  {
   "cell_type": "code",
   "execution_count": 31,
   "metadata": {
    "deletable": false,
    "editable": false,
    "nbgrader": {
     "grade": false,
     "locked": true,
     "solution": false
    }
   },
   "outputs": [
    {
     "name": "stdout",
     "output_type": "stream",
     "text": [
      "('Mozart', 'Bach')\n",
      "('Mozart', 'Chopin')\n",
      "('Mozart', 'Brahms')\n",
      "('Mozart', 'Wagner')\n",
      "('Mozart', 'Liszt')\n",
      "('Bach', 'Chopin')\n",
      "('Bach', 'Brahms')\n",
      "('Bach', 'Wagner')\n",
      "('Bach', 'Liszt')\n",
      "('Chopin', 'Brahms')\n",
      "('Chopin', 'Wagner')\n",
      "('Chopin', 'Liszt')\n",
      "('Brahms', 'Wagner')\n",
      "('Brahms', 'Liszt')\n",
      "('Wagner', 'Liszt')\n"
     ]
    }
   ],
   "source": [
    "import itertools\n",
    "for c in itertools.combinations(ex.columns,2):\n",
    "    print(c)"
   ]
  },
  {
   "cell_type": "markdown",
   "metadata": {
    "deletable": false,
    "editable": false,
    "nbgrader": {
     "grade": false,
     "locked": true,
     "solution": false
    }
   },
   "source": [
    "Check to see how the tuples can be used to subset the DataFrame."
   ]
  },
  {
   "cell_type": "code",
   "execution_count": 32,
   "metadata": {
    "deletable": false,
    "editable": false,
    "nbgrader": {
     "grade": false,
     "locked": true,
     "solution": false
    }
   },
   "outputs": [
    {
     "data": {
      "text/html": [
       "<div>\n",
       "<style scoped>\n",
       "    .dataframe tbody tr th:only-of-type {\n",
       "        vertical-align: middle;\n",
       "    }\n",
       "\n",
       "    .dataframe tbody tr th {\n",
       "        vertical-align: top;\n",
       "    }\n",
       "\n",
       "    .dataframe thead th {\n",
       "        text-align: right;\n",
       "    }\n",
       "</style>\n",
       "<table border=\"1\" class=\"dataframe\">\n",
       "  <thead>\n",
       "    <tr style=\"text-align: right;\">\n",
       "      <th></th>\n",
       "      <th>Mozart</th>\n",
       "      <th>Bach</th>\n",
       "    </tr>\n",
       "  </thead>\n",
       "  <tbody>\n",
       "    <tr>\n",
       "      <th>Abel</th>\n",
       "      <td>0</td>\n",
       "      <td>1</td>\n",
       "    </tr>\n",
       "    <tr>\n",
       "      <th>Baker</th>\n",
       "      <td>5</td>\n",
       "      <td>0</td>\n",
       "    </tr>\n",
       "    <tr>\n",
       "      <th>Charlie</th>\n",
       "      <td>5</td>\n",
       "      <td>4</td>\n",
       "    </tr>\n",
       "    <tr>\n",
       "      <th>David</th>\n",
       "      <td>5</td>\n",
       "      <td>5</td>\n",
       "    </tr>\n",
       "    <tr>\n",
       "      <th>Erik</th>\n",
       "      <td>3</td>\n",
       "      <td>3</td>\n",
       "    </tr>\n",
       "    <tr>\n",
       "      <th>Frank</th>\n",
       "      <td>2</td>\n",
       "      <td>2</td>\n",
       "    </tr>\n",
       "  </tbody>\n",
       "</table>\n",
       "</div>"
      ],
      "text/plain": [
       "         Mozart  Bach\n",
       "Abel          0     1\n",
       "Baker         5     0\n",
       "Charlie       5     4\n",
       "David         5     5\n",
       "Erik          3     3\n",
       "Frank         2     2"
      ]
     },
     "execution_count": 32,
     "metadata": {},
     "output_type": "execute_result"
    }
   ],
   "source": [
    "ex[list(('Mozart', 'Bach'))]"
   ]
  },
  {
   "cell_type": "markdown",
   "metadata": {
    "deletable": false,
    "editable": false,
    "nbgrader": {
     "grade": false,
     "locked": true,
     "solution": false
    }
   },
   "source": [
    "Building a dictionary with a key of the musicians being compared, and Value of another dictionary.  \n",
    "In that second dictionary, keys of \"Euclid\", \"Pearson\", and \"Cosine\" with values of similarity score calculated with relevant method"
   ]
  },
  {
   "cell_type": "code",
   "execution_count": 33,
   "metadata": {
    "deletable": false,
    "editable": false,
    "nbgrader": {
     "grade": false,
     "locked": true,
     "solution": false
    }
   },
   "outputs": [
    {
     "data": {
      "text/html": [
       "<div>\n",
       "<style scoped>\n",
       "    .dataframe tbody tr th:only-of-type {\n",
       "        vertical-align: middle;\n",
       "    }\n",
       "\n",
       "    .dataframe tbody tr th {\n",
       "        vertical-align: top;\n",
       "    }\n",
       "\n",
       "    .dataframe thead th {\n",
       "        text-align: right;\n",
       "    }\n",
       "</style>\n",
       "<table border=\"1\" class=\"dataframe\">\n",
       "  <thead>\n",
       "    <tr style=\"text-align: right;\">\n",
       "      <th></th>\n",
       "      <th>Euclid</th>\n",
       "      <th>Pearson</th>\n",
       "      <th>Cosine</th>\n",
       "    </tr>\n",
       "  </thead>\n",
       "  <tbody>\n",
       "    <tr>\n",
       "      <th>Bach, Brahms</th>\n",
       "      <td>0.366025</td>\n",
       "      <td>0.915761</td>\n",
       "      <td>0.982382</td>\n",
       "    </tr>\n",
       "    <tr>\n",
       "      <th>Bach, Chopin</th>\n",
       "      <td>0.366025</td>\n",
       "      <td>0.927618</td>\n",
       "      <td>0.983997</td>\n",
       "    </tr>\n",
       "    <tr>\n",
       "      <th>Bach, Liszt</th>\n",
       "      <td>0.166667</td>\n",
       "      <td>0.021909</td>\n",
       "      <td>0.863054</td>\n",
       "    </tr>\n",
       "    <tr>\n",
       "      <th>Bach, Wagner</th>\n",
       "      <td>0.231662</td>\n",
       "      <td>0.690693</td>\n",
       "      <td>0.945785</td>\n",
       "    </tr>\n",
       "    <tr>\n",
       "      <th>Brahms, Liszt</th>\n",
       "      <td>0.224009</td>\n",
       "      <td>0.091752</td>\n",
       "      <td>0.923659</td>\n",
       "    </tr>\n",
       "    <tr>\n",
       "      <th>Brahms, Wagner</th>\n",
       "      <td>0.240253</td>\n",
       "      <td>0.596225</td>\n",
       "      <td>0.921332</td>\n",
       "    </tr>\n",
       "    <tr>\n",
       "      <th>Chopin, Brahms</th>\n",
       "      <td>0.414214</td>\n",
       "      <td>0.974342</td>\n",
       "      <td>0.994881</td>\n",
       "    </tr>\n",
       "    <tr>\n",
       "      <th>Chopin, Liszt</th>\n",
       "      <td>0.179129</td>\n",
       "      <td>0.028060</td>\n",
       "      <td>0.897253</td>\n",
       "    </tr>\n",
       "    <tr>\n",
       "      <th>Chopin, Wagner</th>\n",
       "      <td>0.210897</td>\n",
       "      <td>0.423553</td>\n",
       "      <td>0.900668</td>\n",
       "    </tr>\n",
       "    <tr>\n",
       "      <th>Mozart, Bach</th>\n",
       "      <td>0.500000</td>\n",
       "      <td>0.973365</td>\n",
       "      <td>0.997200</td>\n",
       "    </tr>\n",
       "    <tr>\n",
       "      <th>Mozart, Brahms</th>\n",
       "      <td>0.240253</td>\n",
       "      <td>0.809035</td>\n",
       "      <td>0.964008</td>\n",
       "    </tr>\n",
       "    <tr>\n",
       "      <th>Mozart, Chopin</th>\n",
       "      <td>0.289898</td>\n",
       "      <td>0.841565</td>\n",
       "      <td>0.976331</td>\n",
       "    </tr>\n",
       "    <tr>\n",
       "      <th>Mozart, Liszt</th>\n",
       "      <td>0.154387</td>\n",
       "      <td>0.500000</td>\n",
       "      <td>0.962910</td>\n",
       "    </tr>\n",
       "    <tr>\n",
       "      <th>Mozart, Wagner</th>\n",
       "      <td>0.190744</td>\n",
       "      <td>0.333333</td>\n",
       "      <td>0.964765</td>\n",
       "    </tr>\n",
       "    <tr>\n",
       "      <th>Wagner, Liszt</th>\n",
       "      <td>0.289898</td>\n",
       "      <td>0.454545</td>\n",
       "      <td>0.934783</td>\n",
       "    </tr>\n",
       "  </tbody>\n",
       "</table>\n",
       "</div>"
      ],
      "text/plain": [
       "                  Euclid   Pearson    Cosine\n",
       "Bach, Brahms    0.366025  0.915761  0.982382\n",
       "Bach, Chopin    0.366025  0.927618  0.983997\n",
       "Bach, Liszt     0.166667  0.021909  0.863054\n",
       "Bach, Wagner    0.231662  0.690693  0.945785\n",
       "Brahms, Liszt   0.224009  0.091752  0.923659\n",
       "Brahms, Wagner  0.240253  0.596225  0.921332\n",
       "Chopin, Brahms  0.414214  0.974342  0.994881\n",
       "Chopin, Liszt   0.179129  0.028060  0.897253\n",
       "Chopin, Wagner  0.210897  0.423553  0.900668\n",
       "Mozart, Bach    0.500000  0.973365  0.997200\n",
       "Mozart, Brahms  0.240253  0.809035  0.964008\n",
       "Mozart, Chopin  0.289898  0.841565  0.976331\n",
       "Mozart, Liszt   0.154387  0.500000  0.962910\n",
       "Mozart, Wagner  0.190744  0.333333  0.964765\n",
       "Wagner, Liszt   0.289898  0.454545  0.934783"
      ]
     },
     "execution_count": 33,
     "metadata": {},
     "output_type": "execute_result"
    }
   ],
   "source": [
    "sim_scores = dict()\n",
    "\n",
    "for c in itertools.combinations(ex.columns, 2):\n",
    "    df = drop_rows_with_zeros(ex[list(c)])\n",
    "    ser1 = df.iloc[:,0]\n",
    "    ser2 = df.iloc[:,1]\n",
    "    scores = {\"Euclid\":e_sim(ser1, ser2), \"Pearson\":p_sim(ser1,ser2), \"Cosine\":c_sim(ser1,ser2)}\n",
    "    key =\", \".join(c)\n",
    "    sim_scores[key] = scores\n",
    "    \n",
    "sims = pd.DataFrame.from_dict(sim_scores,orient = \"index\")\n",
    "sims"
   ]
  },
  {
   "cell_type": "code",
   "execution_count": 34,
   "metadata": {
    "deletable": false,
    "editable": false,
    "nbgrader": {
     "grade": false,
     "locked": true,
     "solution": false
    }
   },
   "outputs": [
    {
     "data": {
      "image/png": "[encoded data removed]",
      "text/plain": [
       "<matplotlib.figure.Figure at 0x7fe637f1e5f8>"
      ]
     },
     "metadata": {},
     "output_type": "display_data"
    }
   ],
   "source": [
    "### Note: X and y scales are not consistent in this visualization\n",
    "sns.pairplot(sims );"
   ]
  },
  {
   "cell_type": "code",
   "execution_count": 35,
   "metadata": {
    "deletable": false,
    "editable": false,
    "nbgrader": {
     "grade": false,
     "locked": true,
     "solution": false
    }
   },
   "outputs": [
    {
     "data": {
      "image/png": "[encoded data removed]",
      "text/plain": [
       "<matplotlib.figure.Figure at 0x7fe637af1ac8>"
      ]
     },
     "metadata": {},
     "output_type": "display_data"
    }
   ],
   "source": [
    "### Visualization with consistent scales using `matplotlib`\n",
    "plt.figure(figsize = (12,6))\n",
    "for i, cols in enumerate([('Euclid','Pearson'), (\"Euclid\",\"Cosine\"),(\"Pearson\",\"Cosine\")]):\n",
    "    plt.subplot(1,3,i+1)\n",
    "    \n",
    "    plt.scatter(sims[cols[0]], sims[cols[1]])\n",
    "    \n",
    "    plt.xlabel(cols[0], fontsize = 14); plt.ylabel(cols[1], fontsize = 14)\n",
    "    plt.xlim(0,1); plt.ylim(0,1)\n",
    "    \n",
    "plt.tight_layout()"
   ]
  },
  {
   "cell_type": "markdown",
   "metadata": {
    "deletable": false,
    "editable": false,
    "nbgrader": {
     "grade": false,
     "locked": true,
     "solution": false
    }
   },
   "source": [
    "<a id = \"sim-note\"></a>\n",
    "### Differences in Similarity Scores\n",
    "\n",
    "One final technique - not implemented above - is to normalize scores before calculating a euclidean similarity score.  For example, a the mean score might be subtracted to center all scores around 0. This would help to spread the Euclidean similarity scores out over the entire length of 0-1 instead of clustering them below ~.6  \n",
    "\n",
    "\n",
    "As should be evidenced by the above graphics, it is possible to see a range of similarity scores given different techniques. These similarity scores will majorly impact how a recommender system performs. Please refer to the lectures for the particular impacts and strengths of the different similarity calculations."
   ]
  },
  {
   "cell_type": "code",
   "execution_count": 36,
   "metadata": {
    "deletable": false,
    "editable": false,
    "nbgrader": {
     "grade": false,
     "locked": true,
     "solution": false
    }
   },
   "outputs": [
    {
     "data": {
      "text/html": [
       "<div>\n",
       "<style scoped>\n",
       "    .dataframe tbody tr th:only-of-type {\n",
       "        vertical-align: middle;\n",
       "    }\n",
       "\n",
       "    .dataframe tbody tr th {\n",
       "        vertical-align: top;\n",
       "    }\n",
       "\n",
       "    .dataframe thead th {\n",
       "        text-align: right;\n",
       "    }\n",
       "</style>\n",
       "<table border=\"1\" class=\"dataframe\">\n",
       "  <thead>\n",
       "    <tr style=\"text-align: right;\">\n",
       "      <th></th>\n",
       "      <th>Mozart</th>\n",
       "      <th>Bach</th>\n",
       "      <th>Chopin</th>\n",
       "      <th>Brahms</th>\n",
       "      <th>Wagner</th>\n",
       "      <th>Liszt</th>\n",
       "    </tr>\n",
       "  </thead>\n",
       "  <tbody>\n",
       "    <tr>\n",
       "      <th>Abel</th>\n",
       "      <td>0</td>\n",
       "      <td>1</td>\n",
       "      <td>2</td>\n",
       "      <td>2</td>\n",
       "      <td>1</td>\n",
       "      <td>3</td>\n",
       "    </tr>\n",
       "    <tr>\n",
       "      <th>Baker</th>\n",
       "      <td>5</td>\n",
       "      <td>0</td>\n",
       "      <td>3</td>\n",
       "      <td>2</td>\n",
       "      <td>3</td>\n",
       "      <td>3</td>\n",
       "    </tr>\n",
       "    <tr>\n",
       "      <th>Charlie</th>\n",
       "      <td>5</td>\n",
       "      <td>4</td>\n",
       "      <td>0</td>\n",
       "      <td>5</td>\n",
       "      <td>3</td>\n",
       "      <td>2</td>\n",
       "    </tr>\n",
       "    <tr>\n",
       "      <th>David</th>\n",
       "      <td>5</td>\n",
       "      <td>5</td>\n",
       "      <td>5</td>\n",
       "      <td>0</td>\n",
       "      <td>2</td>\n",
       "      <td>1</td>\n",
       "    </tr>\n",
       "    <tr>\n",
       "      <th>Erik</th>\n",
       "      <td>3</td>\n",
       "      <td>3</td>\n",
       "      <td>4</td>\n",
       "      <td>3</td>\n",
       "      <td>0</td>\n",
       "      <td>2</td>\n",
       "    </tr>\n",
       "    <tr>\n",
       "      <th>Frank</th>\n",
       "      <td>2</td>\n",
       "      <td>2</td>\n",
       "      <td>1</td>\n",
       "      <td>1</td>\n",
       "      <td>3</td>\n",
       "      <td>0</td>\n",
       "    </tr>\n",
       "  </tbody>\n",
       "</table>\n",
       "</div>"
      ],
      "text/plain": [
       "         Mozart  Bach  Chopin  Brahms  Wagner  Liszt\n",
       "Abel          0     1       2       2       1      3\n",
       "Baker         5     0       3       2       3      3\n",
       "Charlie       5     4       0       5       3      2\n",
       "David         5     5       5       0       2      1\n",
       "Erik          3     3       4       3       0      2\n",
       "Frank         2     2       1       1       3      0"
      ]
     },
     "execution_count": 36,
     "metadata": {},
     "output_type": "execute_result"
    }
   ],
   "source": [
    "ex"
   ]
  },
  {
   "cell_type": "markdown",
   "metadata": {
    "deletable": false,
    "editable": false,
    "nbgrader": {
     "grade": false,
     "locked": true,
     "solution": false
    }
   },
   "source": [
    "<a id = 'pred'></a>\n",
    "### Predicting Unknown Scores\n",
    "\n",
    "#### Question 6\n",
    "In predicting Abel's score for Mozart:  \n",
    "\n",
    "Mozart has a similarity score in relation to Bach.  \n",
    "Mozart has a similarity score in relation to Chopin.  \n",
    "Mozart has a similarity score in relation to Brahms.  \n",
    "etc. etc.  \n",
    "\n",
    "Abel has scored Bach, Chopin, Brahms, etc.  \n",
    "\n",
    "So Abel's predicted score for Mozart will **sum** Abel's score of every other musician times that musician's similarity score with respect to Mozart and **divide by** the sum of similarity scores.  \n",
    "\n",
    "e.g.\n",
    "\n",
    "We can predict Abel's score for Mozart by:  \n",
    "\n",
    "$$\\frac{\\sum_{ mus = Bach}^{Liszt}A_{mus}*simScore(\\text{Mozart, mus})}{\\sum_{mus = Bach}^{Liszt}simScore{\\text{(Mozart, mus)}}}$$ "
   ]
  },
  {
   "cell_type": "code",
   "execution_count": 37,
   "metadata": {
    "deletable": false,
    "editable": false,
    "nbgrader": {
     "grade": false,
     "locked": true,
     "solution": false
    }
   },
   "outputs": [
    {
     "name": "stdout",
     "output_type": "stream",
     "text": [
      "{'Bach': 0.97, 'Chopin': 0.84, 'Brahms': 0.81, 'Wagner': 0.33, 'Liszt': 0.5}\n"
     ]
    }
   ],
   "source": [
    "mozSimScores = {}\n",
    "for mus in ex.columns[1:]:\n",
    "    no_zeros = drop_rows_with_zeros(ex[['Mozart', mus]])\n",
    "    \n",
    "    mozSimScores[mus] = round(p_sim(no_zeros.iloc[:,0], no_zeros.iloc[:,1]),2)\n",
    "\n",
    "print(mozSimScores)"
   ]
  },
  {
   "cell_type": "code",
   "execution_count": 38,
   "metadata": {},
   "outputs": [],
   "source": [
    "### GRADED\n",
    "### Given the similarity scores calculated and stored (and rounded) in `mozSimScores`,\n",
    "### use the above formula for predicting\n",
    "### a score [(sum of <ranking * similarity scores>)/ sum of similarity scores]\n",
    "### to predict Abel's score for Mozart.\n",
    "\n",
    "### USE ROUNDED SCORES PRINTED / SAVED ABOVE\n",
    "\n",
    "### Store in ans1\n",
    "### YOUR ANSWER BELOW\n",
    "sScores = []; abelS = []\n",
    "for k in mozSimScores:\n",
    "    ss = mozSimScores[k]\n",
    "    sScores.append(ss)\n",
    "    abelS.append(ss*ex.loc['Abel',k])\n",
    "ans1 = sum(abelS)/ sum(sScores)"
   ]
  },
  {
   "cell_type": "code",
   "execution_count": 39,
   "metadata": {
    "collapsed": true,
    "deletable": false,
    "editable": false,
    "nbgrader": {
     "grade": true,
     "grade_id": "Question 6",
     "locked": true,
     "points": "10",
     "solution": false
    }
   },
   "outputs": [],
   "source": [
    "###\n",
    "### AUTOGRADER TEST - DO NOT REMOVE\n",
    "###\n"
   ]
  },
  {
   "cell_type": "markdown",
   "metadata": {
    "deletable": false,
    "editable": false,
    "nbgrader": {
     "grade": false,
     "locked": true,
     "solution": false
    }
   },
   "source": [
    "Even though many other users rate Mozart very highly, Abel appears to be a bit more negative in his reviews. Thus, his predicted score for Mozart is also fairly low. "
   ]
  },
  {
   "cell_type": "code",
   "execution_count": 40,
   "metadata": {
    "collapsed": true,
    "deletable": false,
    "editable": false,
    "nbgrader": {
     "grade": false,
     "locked": true,
     "solution": false
    }
   },
   "outputs": [],
   "source": [
    "### Creating a function to create predictions in the manner described above.\n",
    "### Note: \"user\" is a row, and \"item\" is a column in the df.\n",
    "### simFunc defaults to p_sim\n",
    "\n",
    "def scorePred(df, user, item, simFunc = p_sim, rev_items = None):\n",
    "    \"\"\"\n",
    "    Positional Arguments --\n",
    "        df: Pandas DataFrame\n",
    "        user: Row-index in df\n",
    "        item: Column-index in df\n",
    "        simFunc: a similarity function (e_sim, p_sim, or c_sim)\n",
    "        rev_items: For larger dfs, specifies all items reviewed by \"user\"\n",
    "    \"\"\"\n",
    "    # Check to see if user has already scored item\n",
    "    if df.loc[user,item] > 0:\n",
    "        return \"Already rated a \"+str(df.loc[user,item])\n",
    "    \n",
    "    # rev_items used for larger dataframes,\n",
    "    # when you have all the items a particular user has reviewed already\n",
    "    # otherwise, if \"None\" (if statement below)\n",
    "    # take all other items other than item to predict\n",
    "    if not rev_items:\n",
    "        rev_items = set(df.columns)\n",
    "        rev_items.remove(item)\n",
    "    \n",
    "    sim_total, user_sim_total = 0,0\n",
    "    \n",
    "    for other_item in rev_items:\n",
    "        user_score_other_item = df.loc[user, other_item] # grab user score\n",
    "        \n",
    "        if user_score_other_item == 0:\n",
    "            print(\"no user score\")\n",
    "            continue\n",
    "        \n",
    "        # Use function built above to drop all other users with \"other_item\" score of \"0\"\n",
    "        no_zeros = drop_rows_with_zeros(df[[item, other_item]]) \n",
    "        sh = no_zeros.shape\n",
    "        \n",
    "        # If no other users, move to next item\n",
    "        if sh[0] == 0:\n",
    "            continue\n",
    "            \n",
    "        #print(no_zeros.shape)\n",
    "        \n",
    "        # calculate similarity score using non-zero information. \n",
    "        ser1 = no_zeros.iloc[:,0]\n",
    "        ser2 = no_zeros.iloc[:,1]\n",
    "        # print(ser1, ser2)\n",
    "        ss = simFunc(no_zeros.iloc[:,0], no_zeros.iloc[:,1])\n",
    "        # print(ss, user_score_other_item)\n",
    "        \n",
    "        # add up sim total and weighted sim total\n",
    "        sim_total += ss\n",
    "        user_sim_total += user_score_other_item * ss\n",
    "\n",
    "        \n",
    "    if sim_total == 0:\n",
    "        return 0\n",
    "    \n",
    "    else:\n",
    "        return user_sim_total / sim_total"
   ]
  },
  {
   "cell_type": "code",
   "execution_count": 41,
   "metadata": {
    "deletable": false,
    "editable": false,
    "nbgrader": {
     "grade": false,
     "locked": true,
     "solution": false
    }
   },
   "outputs": [
    {
     "data": {
      "text/html": [
       "<div>\n",
       "<style scoped>\n",
       "    .dataframe tbody tr th:only-of-type {\n",
       "        vertical-align: middle;\n",
       "    }\n",
       "\n",
       "    .dataframe tbody tr th {\n",
       "        vertical-align: top;\n",
       "    }\n",
       "\n",
       "    .dataframe thead th {\n",
       "        text-align: right;\n",
       "    }\n",
       "</style>\n",
       "<table border=\"1\" class=\"dataframe\">\n",
       "  <thead>\n",
       "    <tr style=\"text-align: right;\">\n",
       "      <th></th>\n",
       "      <th>Mozart</th>\n",
       "      <th>Bach</th>\n",
       "      <th>Chopin</th>\n",
       "      <th>Brahms</th>\n",
       "      <th>Wagner</th>\n",
       "      <th>Liszt</th>\n",
       "    </tr>\n",
       "  </thead>\n",
       "  <tbody>\n",
       "    <tr>\n",
       "      <th>Abel</th>\n",
       "      <td>0</td>\n",
       "      <td>1</td>\n",
       "      <td>2</td>\n",
       "      <td>2</td>\n",
       "      <td>1</td>\n",
       "      <td>3</td>\n",
       "    </tr>\n",
       "    <tr>\n",
       "      <th>Baker</th>\n",
       "      <td>5</td>\n",
       "      <td>0</td>\n",
       "      <td>3</td>\n",
       "      <td>2</td>\n",
       "      <td>3</td>\n",
       "      <td>3</td>\n",
       "    </tr>\n",
       "    <tr>\n",
       "      <th>Charlie</th>\n",
       "      <td>5</td>\n",
       "      <td>4</td>\n",
       "      <td>0</td>\n",
       "      <td>5</td>\n",
       "      <td>3</td>\n",
       "      <td>2</td>\n",
       "    </tr>\n",
       "    <tr>\n",
       "      <th>David</th>\n",
       "      <td>5</td>\n",
       "      <td>5</td>\n",
       "      <td>5</td>\n",
       "      <td>0</td>\n",
       "      <td>2</td>\n",
       "      <td>1</td>\n",
       "    </tr>\n",
       "    <tr>\n",
       "      <th>Erik</th>\n",
       "      <td>3</td>\n",
       "      <td>3</td>\n",
       "      <td>4</td>\n",
       "      <td>3</td>\n",
       "      <td>0</td>\n",
       "      <td>2</td>\n",
       "    </tr>\n",
       "    <tr>\n",
       "      <th>Frank</th>\n",
       "      <td>2</td>\n",
       "      <td>2</td>\n",
       "      <td>1</td>\n",
       "      <td>1</td>\n",
       "      <td>3</td>\n",
       "      <td>0</td>\n",
       "    </tr>\n",
       "  </tbody>\n",
       "</table>\n",
       "</div>"
      ],
      "text/plain": [
       "         Mozart  Bach  Chopin  Brahms  Wagner  Liszt\n",
       "Abel          0     1       2       2       1      3\n",
       "Baker         5     0       3       2       3      3\n",
       "Charlie       5     4       0       5       3      2\n",
       "David         5     5       5       0       2      1\n",
       "Erik          3     3       4       3       0      2\n",
       "Frank         2     2       1       1       3      0"
      ]
     },
     "execution_count": 41,
     "metadata": {},
     "output_type": "execute_result"
    }
   ],
   "source": [
    "ex"
   ]
  },
  {
   "cell_type": "markdown",
   "metadata": {
    "deletable": false,
    "editable": false,
    "nbgrader": {
     "grade": false,
     "locked": true,
     "solution": false
    }
   },
   "source": [
    "Use the below cells to play around with the `scorePred` function we have built out."
   ]
  },
  {
   "cell_type": "code",
   "execution_count": 42,
   "metadata": {},
   "outputs": [
    {
     "data": {
      "text/plain": [
       "3.2921132547922984"
      ]
     },
     "execution_count": 42,
     "metadata": {},
     "output_type": "execute_result"
    }
   ],
   "source": [
    "scorePred(ex, 'Baker', 'Bach')"
   ]
  },
  {
   "cell_type": "code",
   "execution_count": null,
   "metadata": {
    "collapsed": true
   },
   "outputs": [],
   "source": []
  },
  {
   "cell_type": "code",
   "execution_count": null,
   "metadata": {
    "collapsed": true
   },
   "outputs": [],
   "source": []
  },
  {
   "cell_type": "markdown",
   "metadata": {
    "deletable": false,
    "editable": false,
    "nbgrader": {
     "grade": false,
     "locked": true,
     "solution": false
    }
   },
   "source": [
    "<a id = \"ret\"></a>\n",
    "### Returning to the Data\n",
    "Let's remind ourselves what the music rating data looks like"
   ]
  },
  {
   "cell_type": "code",
   "execution_count": 43,
   "metadata": {
    "deletable": false,
    "editable": false,
    "nbgrader": {
     "grade": false,
     "locked": true,
     "solution": false
    }
   },
   "outputs": [
    {
     "data": {
      "text/html": [
       "<div>\n",
       "<style scoped>\n",
       "    .dataframe tbody tr th:only-of-type {\n",
       "        vertical-align: middle;\n",
       "    }\n",
       "\n",
       "    .dataframe tbody tr th {\n",
       "        vertical-align: top;\n",
       "    }\n",
       "\n",
       "    .dataframe thead th {\n",
       "        text-align: right;\n",
       "    }\n",
       "</style>\n",
       "<table border=\"1\" class=\"dataframe\">\n",
       "  <thead>\n",
       "    <tr style=\"text-align: right;\">\n",
       "      <th></th>\n",
       "      <th>reviewerID</th>\n",
       "      <th>productID</th>\n",
       "      <th>score</th>\n",
       "    </tr>\n",
       "  </thead>\n",
       "  <tbody>\n",
       "    <tr>\n",
       "      <th>0</th>\n",
       "      <td>R0</td>\n",
       "      <td>P6181</td>\n",
       "      <td>5</td>\n",
       "    </tr>\n",
       "    <tr>\n",
       "      <th>1</th>\n",
       "      <td>R0</td>\n",
       "      <td>P2276</td>\n",
       "      <td>2</td>\n",
       "    </tr>\n",
       "    <tr>\n",
       "      <th>2</th>\n",
       "      <td>R0</td>\n",
       "      <td>P1382</td>\n",
       "      <td>5</td>\n",
       "    </tr>\n",
       "    <tr>\n",
       "      <th>3</th>\n",
       "      <td>R0</td>\n",
       "      <td>P4797</td>\n",
       "      <td>5</td>\n",
       "    </tr>\n",
       "    <tr>\n",
       "      <th>4</th>\n",
       "      <td>R0</td>\n",
       "      <td>P281</td>\n",
       "      <td>1</td>\n",
       "    </tr>\n",
       "    <tr>\n",
       "      <th>5</th>\n",
       "      <td>R0</td>\n",
       "      <td>P5556</td>\n",
       "      <td>5</td>\n",
       "    </tr>\n",
       "    <tr>\n",
       "      <th>6</th>\n",
       "      <td>R0</td>\n",
       "      <td>P1523</td>\n",
       "      <td>4</td>\n",
       "    </tr>\n",
       "    <tr>\n",
       "      <th>7</th>\n",
       "      <td>R0</td>\n",
       "      <td>P4693</td>\n",
       "      <td>4</td>\n",
       "    </tr>\n",
       "    <tr>\n",
       "      <th>8</th>\n",
       "      <td>R0</td>\n",
       "      <td>P5494</td>\n",
       "      <td>5</td>\n",
       "    </tr>\n",
       "    <tr>\n",
       "      <th>9</th>\n",
       "      <td>R0</td>\n",
       "      <td>P2245</td>\n",
       "      <td>5</td>\n",
       "    </tr>\n",
       "  </tbody>\n",
       "</table>\n",
       "</div>"
      ],
      "text/plain": [
       "  reviewerID productID  score\n",
       "0         R0     P6181      5\n",
       "1         R0     P2276      2\n",
       "2         R0     P1382      5\n",
       "3         R0     P4797      5\n",
       "4         R0      P281      1\n",
       "5         R0     P5556      5\n",
       "6         R0     P1523      4\n",
       "7         R0     P4693      4\n",
       "8         R0     P5494      5\n",
       "9         R0     P2245      5"
      ]
     },
     "execution_count": 43,
     "metadata": {},
     "output_type": "execute_result"
    }
   ],
   "source": [
    "rev_df.head(10)"
   ]
  },
  {
   "cell_type": "markdown",
   "metadata": {
    "deletable": false,
    "editable": false,
    "nbgrader": {
     "grade": false,
     "locked": true,
     "solution": false
    }
   },
   "source": [
    "The data does not conform to the n-by-p matrix that we have been using, let's take a look at how we will need to manipulate our data. To do so we will use `Pandas'` built in `pivot()` method"
   ]
  },
  {
   "cell_type": "code",
   "execution_count": 44,
   "metadata": {
    "deletable": false,
    "editable": false,
    "nbgrader": {
     "grade": false,
     "locked": true,
     "solution": false
    }
   },
   "outputs": [
    {
     "name": "stdout",
     "output_type": "stream",
     "text": [
      "shape:  (10000, 6411)\n"
     ]
    },
    {
     "data": {
      "text/html": [
       "<div>\n",
       "<style scoped>\n",
       "    .dataframe tbody tr th:only-of-type {\n",
       "        vertical-align: middle;\n",
       "    }\n",
       "\n",
       "    .dataframe tbody tr th {\n",
       "        vertical-align: top;\n",
       "    }\n",
       "\n",
       "    .dataframe thead th {\n",
       "        text-align: right;\n",
       "    }\n",
       "</style>\n",
       "<table border=\"1\" class=\"dataframe\">\n",
       "  <thead>\n",
       "    <tr style=\"text-align: right;\">\n",
       "      <th>productID</th>\n",
       "      <th>P0</th>\n",
       "      <th>P1</th>\n",
       "      <th>P10</th>\n",
       "      <th>P100</th>\n",
       "      <th>P1000</th>\n",
       "      <th>P1001</th>\n",
       "      <th>P1002</th>\n",
       "      <th>P1003</th>\n",
       "      <th>P1004</th>\n",
       "      <th>P1005</th>\n",
       "      <th>...</th>\n",
       "      <th>P990</th>\n",
       "      <th>P991</th>\n",
       "      <th>P992</th>\n",
       "      <th>P993</th>\n",
       "      <th>P994</th>\n",
       "      <th>P995</th>\n",
       "      <th>P996</th>\n",
       "      <th>P997</th>\n",
       "      <th>P998</th>\n",
       "      <th>P999</th>\n",
       "    </tr>\n",
       "    <tr>\n",
       "      <th>reviewerID</th>\n",
       "      <th></th>\n",
       "      <th></th>\n",
       "      <th></th>\n",
       "      <th></th>\n",
       "      <th></th>\n",
       "      <th></th>\n",
       "      <th></th>\n",
       "      <th></th>\n",
       "      <th></th>\n",
       "      <th></th>\n",
       "      <th></th>\n",
       "      <th></th>\n",
       "      <th></th>\n",
       "      <th></th>\n",
       "      <th></th>\n",
       "      <th></th>\n",
       "      <th></th>\n",
       "      <th></th>\n",
       "      <th></th>\n",
       "      <th></th>\n",
       "      <th></th>\n",
       "    </tr>\n",
       "  </thead>\n",
       "  <tbody>\n",
       "    <tr>\n",
       "      <th>R0</th>\n",
       "      <td>0.0</td>\n",
       "      <td>0.0</td>\n",
       "      <td>0.0</td>\n",
       "      <td>0.0</td>\n",
       "      <td>0.0</td>\n",
       "      <td>0.0</td>\n",
       "      <td>0.0</td>\n",
       "      <td>0.0</td>\n",
       "      <td>0.0</td>\n",
       "      <td>0.0</td>\n",
       "      <td>...</td>\n",
       "      <td>0.0</td>\n",
       "      <td>0.0</td>\n",
       "      <td>0.0</td>\n",
       "      <td>0.0</td>\n",
       "      <td>0.0</td>\n",
       "      <td>0.0</td>\n",
       "      <td>0.0</td>\n",
       "      <td>0.0</td>\n",
       "      <td>0.0</td>\n",
       "      <td>0.0</td>\n",
       "    </tr>\n",
       "    <tr>\n",
       "      <th>R1</th>\n",
       "      <td>0.0</td>\n",
       "      <td>0.0</td>\n",
       "      <td>0.0</td>\n",
       "      <td>0.0</td>\n",
       "      <td>0.0</td>\n",
       "      <td>0.0</td>\n",
       "      <td>0.0</td>\n",
       "      <td>0.0</td>\n",
       "      <td>0.0</td>\n",
       "      <td>0.0</td>\n",
       "      <td>...</td>\n",
       "      <td>0.0</td>\n",
       "      <td>0.0</td>\n",
       "      <td>0.0</td>\n",
       "      <td>0.0</td>\n",
       "      <td>0.0</td>\n",
       "      <td>0.0</td>\n",
       "      <td>0.0</td>\n",
       "      <td>0.0</td>\n",
       "      <td>0.0</td>\n",
       "      <td>0.0</td>\n",
       "    </tr>\n",
       "    <tr>\n",
       "      <th>R10</th>\n",
       "      <td>0.0</td>\n",
       "      <td>0.0</td>\n",
       "      <td>0.0</td>\n",
       "      <td>0.0</td>\n",
       "      <td>0.0</td>\n",
       "      <td>0.0</td>\n",
       "      <td>0.0</td>\n",
       "      <td>0.0</td>\n",
       "      <td>0.0</td>\n",
       "      <td>0.0</td>\n",
       "      <td>...</td>\n",
       "      <td>0.0</td>\n",
       "      <td>0.0</td>\n",
       "      <td>0.0</td>\n",
       "      <td>0.0</td>\n",
       "      <td>0.0</td>\n",
       "      <td>0.0</td>\n",
       "      <td>0.0</td>\n",
       "      <td>0.0</td>\n",
       "      <td>0.0</td>\n",
       "      <td>0.0</td>\n",
       "    </tr>\n",
       "    <tr>\n",
       "      <th>R100</th>\n",
       "      <td>0.0</td>\n",
       "      <td>0.0</td>\n",
       "      <td>0.0</td>\n",
       "      <td>0.0</td>\n",
       "      <td>0.0</td>\n",
       "      <td>0.0</td>\n",
       "      <td>0.0</td>\n",
       "      <td>0.0</td>\n",
       "      <td>0.0</td>\n",
       "      <td>0.0</td>\n",
       "      <td>...</td>\n",
       "      <td>0.0</td>\n",
       "      <td>0.0</td>\n",
       "      <td>0.0</td>\n",
       "      <td>0.0</td>\n",
       "      <td>0.0</td>\n",
       "      <td>0.0</td>\n",
       "      <td>0.0</td>\n",
       "      <td>0.0</td>\n",
       "      <td>0.0</td>\n",
       "      <td>0.0</td>\n",
       "    </tr>\n",
       "    <tr>\n",
       "      <th>R1000</th>\n",
       "      <td>0.0</td>\n",
       "      <td>0.0</td>\n",
       "      <td>0.0</td>\n",
       "      <td>0.0</td>\n",
       "      <td>0.0</td>\n",
       "      <td>0.0</td>\n",
       "      <td>0.0</td>\n",
       "      <td>0.0</td>\n",
       "      <td>0.0</td>\n",
       "      <td>0.0</td>\n",
       "      <td>...</td>\n",
       "      <td>0.0</td>\n",
       "      <td>0.0</td>\n",
       "      <td>0.0</td>\n",
       "      <td>0.0</td>\n",
       "      <td>0.0</td>\n",
       "      <td>0.0</td>\n",
       "      <td>0.0</td>\n",
       "      <td>0.0</td>\n",
       "      <td>0.0</td>\n",
       "      <td>0.0</td>\n",
       "    </tr>\n",
       "  </tbody>\n",
       "</table>\n",
       "<p>5 rows × 6411 columns</p>\n",
       "</div>"
      ],
      "text/plain": [
       "productID    P0   P1  P10  P100  P1000  P1001  P1002  P1003  P1004  P1005  \\\n",
       "reviewerID                                                                  \n",
       "R0          0.0  0.0  0.0   0.0    0.0    0.0    0.0    0.0    0.0    0.0   \n",
       "R1          0.0  0.0  0.0   0.0    0.0    0.0    0.0    0.0    0.0    0.0   \n",
       "R10         0.0  0.0  0.0   0.0    0.0    0.0    0.0    0.0    0.0    0.0   \n",
       "R100        0.0  0.0  0.0   0.0    0.0    0.0    0.0    0.0    0.0    0.0   \n",
       "R1000       0.0  0.0  0.0   0.0    0.0    0.0    0.0    0.0    0.0    0.0   \n",
       "\n",
       "productID   ...   P990  P991  P992  P993  P994  P995  P996  P997  P998  P999  \n",
       "reviewerID  ...                                                               \n",
       "R0          ...    0.0   0.0   0.0   0.0   0.0   0.0   0.0   0.0   0.0   0.0  \n",
       "R1          ...    0.0   0.0   0.0   0.0   0.0   0.0   0.0   0.0   0.0   0.0  \n",
       "R10         ...    0.0   0.0   0.0   0.0   0.0   0.0   0.0   0.0   0.0   0.0  \n",
       "R100        ...    0.0   0.0   0.0   0.0   0.0   0.0   0.0   0.0   0.0   0.0  \n",
       "R1000       ...    0.0   0.0   0.0   0.0   0.0   0.0   0.0   0.0   0.0   0.0  \n",
       "\n",
       "[5 rows x 6411 columns]"
      ]
     },
     "execution_count": 44,
     "metadata": {},
     "output_type": "execute_result"
    }
   ],
   "source": [
    "# reviewers on rows, item on cols. \n",
    "reshaped_reviews = rev_df.pivot(index = 'reviewerID', columns = 'productID')\n",
    "reshaped_reviews.fillna(0, inplace = True) # turns NA into 0\n",
    "reshaped_reviews.columns = reshaped_reviews.columns.droplevel() # removes artifact of pivot function\n",
    "\n",
    "\n",
    "print(\"shape: \", reshaped_reviews.shape)\n",
    "reshaped_reviews.head()"
   ]
  },
  {
   "cell_type": "markdown",
   "metadata": {
    "deletable": false,
    "editable": false,
    "nbgrader": {
     "grade": false,
     "locked": true,
     "solution": false
    }
   },
   "source": [
    "As should be clear from looking at even just the head of our new DataFrame, the majority of (reviewer, product) locations are empty. Thus, when trying to provide recommendations, it will not be possible to predict scores for every (reviewer, product) combination. To predict scores, a certain amount of overlap is required.  \n",
    "\n",
    "Below predictions are created for our reviewer called \"R0\""
   ]
  },
  {
   "cell_type": "code",
   "execution_count": 45,
   "metadata": {
    "deletable": false,
    "editable": false,
    "nbgrader": {
     "grade": false,
     "locked": true,
     "solution": false
    }
   },
   "outputs": [
    {
     "name": "stdout",
     "output_type": "stream",
     "text": [
      "20\n"
     ]
    },
    {
     "data": {
      "text/plain": [
       "['P1382', 'P1523', 'P198', 'P2245', 'P2276']"
      ]
     },
     "execution_count": 45,
     "metadata": {},
     "output_type": "execute_result"
    }
   ],
   "source": [
    "### First, find the products that 'R0' has reviewed.\n",
    "### These are the products that will be used for creating similarity scores.\n",
    "\n",
    "r0 = reshaped_reviews.loc[\"R0\", :]\n",
    "r0_nonzero = np.nonzero(r0) # numpy function returns all indexes that are not \"0\"\n",
    "r0_rev_prods = list(r0.iloc[r0_nonzero].index) # collect names of reviewed products\n",
    "print(len(r0_rev_prods))\n",
    "r0_rev_prods[:5]"
   ]
  },
  {
   "cell_type": "code",
   "execution_count": 46,
   "metadata": {
    "deletable": false,
    "editable": false,
    "nbgrader": {
     "grade": false,
     "locked": true,
     "solution": false
    }
   },
   "outputs": [
    {
     "name": "stdout",
     "output_type": "stream",
     "text": [
      "6391\n"
     ]
    },
    {
     "data": {
      "text/plain": [
       "array(['P0', 'P1', 'P10', ..., 'P997', 'P998', 'P999'], dtype=object)"
      ]
     },
     "execution_count": 46,
     "metadata": {},
     "output_type": "execute_result"
    }
   ],
   "source": [
    "### Creating a list of products not reviewed by R0\n",
    "\n",
    "# return list of all prods not in the \"reviewed\" list\n",
    "r0_not_rev = np.setdiff1d(reshaped_reviews.columns, r0_rev_prods) \n",
    "\n",
    "print(len(r0_not_rev))\n",
    "r0_not_rev"
   ]
  },
  {
   "cell_type": "markdown",
   "metadata": {
    "deletable": false,
    "editable": false,
    "nbgrader": {
     "grade": false,
     "locked": true,
     "solution": false
    }
   },
   "source": [
    "The below call requires too much processing for Vocareum. Output displayed below:"
   ]
  },
  {
   "cell_type": "code",
   "execution_count": 47,
   "metadata": {
    "collapsed": true,
    "deletable": false,
    "editable": false,
    "nbgrader": {
     "grade": false,
     "locked": true,
     "solution": false
    },
    "scrolled": false
   },
   "outputs": [],
   "source": [
    "# %%time\n",
    "# ### predict scores for products not yet reviewed by R0, using function built above: `scorePred`\n",
    "# ### cosine similarity used because if a product all has only one value of review (e.g. all 5s)\n",
    "# ### then the standard_deviation is 0 and the correlation coefficient is not calculable\n",
    "\n",
    "# preds = {}\n",
    "# for item in r0_not_rev:\n",
    "#     preds[item] = scorePred(reshaped_reviews, 'R0', item, simFunc = c_sim, rev_items = r0_rev_prods)"
   ]
  },
  {
   "cell_type": "code",
   "execution_count": 48,
   "metadata": {
    "collapsed": true,
    "deletable": false,
    "editable": false,
    "nbgrader": {
     "grade": false,
     "locked": true,
     "solution": false
    }
   },
   "outputs": [],
   "source": [
    "# pd.Series(preds).sort_values(ascending = False).head(10)"
   ]
  },
  {
   "cell_type": "markdown",
   "metadata": {
    "deletable": false,
    "editable": false,
    "nbgrader": {
     "grade": false,
     "locked": true,
     "solution": false
    }
   },
   "source": [
    "Running the above cells took the local machine ~7.5'. results in the picture below.\n",
    "![preds](./data/r0_preds.PNG)"
   ]
  },
  {
   "cell_type": "markdown",
   "metadata": {
    "deletable": false,
    "editable": false,
    "nbgrader": {
     "grade": false,
     "locked": true,
     "solution": false
    }
   },
   "source": [
    "<a id = \"util\"></a>\n",
    "### Utilization Complexities\n",
    "\n",
    "Certainly if there are products that a user is likely to score a \"5\", that product should be recommended. However, because we are dealing with very sparse data, the confidence in our predictions will vary between product.\n",
    "\n",
    "#### Question 7"
   ]
  },
  {
   "cell_type": "code",
   "execution_count": 49,
   "metadata": {
    "collapsed": true
   },
   "outputs": [],
   "source": [
    "### GRADED\n",
    "### consider 3 products: A, B, and X\n",
    "### userN has ranked products A, and B, giving each a '5' and we are predicting their score for X\n",
    "### user1 has ranked products A, and X, giving each a \"3\"\n",
    "### user2 has ranked products B and X, giving each a '2'\n",
    "\n",
    "### Assume this is all the data we have for a product.\n",
    "### What will be the similarity score between prodA and prodX? assign number to ans1\n",
    "### What will be the similarity score between prodB and prodX? assign number to ans2\n",
    "### YOUR ANSWER BELOW\n",
    "\n",
    "ans1 = 1\n",
    "ans2 = 1"
   ]
  },
  {
   "cell_type": "code",
   "execution_count": 50,
   "metadata": {
    "collapsed": true,
    "deletable": false,
    "editable": false,
    "nbgrader": {
     "grade": true,
     "grade_id": "Question 7",
     "locked": true,
     "points": "15",
     "solution": false
    }
   },
   "outputs": [],
   "source": [
    "###\n",
    "### AUTOGRADER TEST - DO NOT REMOVE\n",
    "###\n"
   ]
  },
  {
   "cell_type": "markdown",
   "metadata": {
    "deletable": false,
    "editable": false,
    "nbgrader": {
     "grade": false,
     "locked": true,
     "solution": false
    }
   },
   "source": [
    "#### Question 8"
   ]
  },
  {
   "cell_type": "code",
   "execution_count": 51,
   "metadata": {
    "collapsed": true
   },
   "outputs": [],
   "source": [
    "### GRADED\n",
    "### given your above answer, what will be the predicted score for userN's evaluation of prodX?\n",
    "### assign number to ans1\n",
    "### YOUR ANSWER BELOW\n",
    "\n",
    "ans1 = 5"
   ]
  },
  {
   "cell_type": "code",
   "execution_count": 52,
   "metadata": {
    "collapsed": true,
    "deletable": false,
    "editable": false,
    "nbgrader": {
     "grade": true,
     "grade_id": "Question 8",
     "locked": true,
     "points": "15",
     "solution": false
    }
   },
   "outputs": [],
   "source": [
    "###\n",
    "### AUTOGRADER TEST - DO NOT REMOVE\n",
    "###\n"
   ]
  },
  {
   "cell_type": "markdown",
   "metadata": {
    "deletable": false,
    "editable": false,
    "nbgrader": {
     "grade": false,
     "locked": true,
     "solution": false
    }
   },
   "source": [
    "For many of these high predicted scores, some version of the above two questions will have occurred: high similarity scores due to few overlapping reviews, and high-user score for the user who is being predicted for.  \n",
    "\n",
    "So while the \"5's\" might be higher than a 4.89, if that 4.89 is based on more data, it's probably a better prediction. \n",
    "<a id = \"svd\"></a>\n",
    "### SVD\n",
    "\n",
    "One way we will combat this sparsity of data, and increase the speed of our algorithm is by using Singular-Value Decomposition (SVD). SVD is a demensionality reduction technique which functions by \"capturing\" a majority of the information present in a data set in a smaller number of variables.  \n",
    "\n",
    "SVD relies upon some straight-forward linear algebra that is worth understanding, and has already been covered in lectures. Just incase you want more resources:  \n",
    "\n",
    "[Here is a nice introduction.](https://machinelearningmastery.com/singular-value-decomposition-for-machine-learning/)  \n",
    "\n",
    "[Below, we will use `numpy's` implementation of SVD](https://docs.scipy.org/doc/numpy-1.14.0/reference/generated/numpy.linalg.svd.html)"
   ]
  },
  {
   "cell_type": "markdown",
   "metadata": {
    "deletable": false,
    "editable": false,
    "nbgrader": {
     "grade": false,
     "locked": true,
     "solution": false
    }
   },
   "source": [
    "The \"Sigma\" variable, when squared describes how much variance is described by each vector. Below a plot of % variance explained by n vectors as n -> total number of products\n",
    "\n",
    "![svd](./data/svd.PNG)\n",
    "\n",
    "Around 1700 of these decomposed vectors will explain around 80% of the variance in the data. Computationally, this will make the recommendation calculations much faster: less than 1/3 of the computations will yeild 80% of the value. "
   ]
  },
  {
   "cell_type": "code",
   "execution_count": 53,
   "metadata": {
    "collapsed": true,
    "deletable": false,
    "editable": false,
    "nbgrader": {
     "grade": false,
     "locked": true,
     "solution": false
    }
   },
   "outputs": [],
   "source": [
    "# # Perform SVD\n",
    "# u, sigma, _ = np.linalg.svd(reshaped_reviews)\n",
    "\n",
    "# # Create function to decompose DataFrame\n",
    "# def return_svd(df , u, sigma, n):\n",
    "    \n",
    "#     sigN = np.mat(np.eye(n) * sigma[:n]) #arrange Sig4 into a diagonal matrix\n",
    "    \n",
    "#     n_svd_vectors = np.dot(df.T, np.dot(u[:,:n] , sigN.I))  #create transformed items\n",
    "    \n",
    "#     return pd.DataFrame(n_svd_vectors).T\n",
    "\n",
    "# # use function to create decomposed dataframe\n",
    "# svd_df = return_svd(reshaped_reviews, u, sigma, 1700)\n",
    "# svd_df.columns = reshaped_reviews.columns\n",
    "\n",
    "# # Save dataframe\n",
    "\n",
    "# svd_df.to_csv(\"svd_df.csv\")"
   ]
  },
  {
   "cell_type": "markdown",
   "metadata": {
    "deletable": false,
    "editable": false,
    "nbgrader": {
     "grade": false,
     "locked": true,
     "solution": false
    }
   },
   "source": [
    "The above takes too long to run. Thus the results are provided from a .csv found below."
   ]
  },
  {
   "cell_type": "code",
   "execution_count": 54,
   "metadata": {
    "deletable": false,
    "editable": false,
    "nbgrader": {
     "grade": false,
     "locked": true,
     "solution": false
    }
   },
   "outputs": [
    {
     "data": {
      "text/html": [
       "<div>\n",
       "<style scoped>\n",
       "    .dataframe tbody tr th:only-of-type {\n",
       "        vertical-align: middle;\n",
       "    }\n",
       "\n",
       "    .dataframe tbody tr th {\n",
       "        vertical-align: top;\n",
       "    }\n",
       "\n",
       "    .dataframe thead th {\n",
       "        text-align: right;\n",
       "    }\n",
       "</style>\n",
       "<table border=\"1\" class=\"dataframe\">\n",
       "  <thead>\n",
       "    <tr style=\"text-align: right;\">\n",
       "      <th></th>\n",
       "      <th>P0</th>\n",
       "      <th>P1</th>\n",
       "      <th>P10</th>\n",
       "      <th>P100</th>\n",
       "      <th>P1000</th>\n",
       "      <th>P1001</th>\n",
       "      <th>P1002</th>\n",
       "      <th>P1003</th>\n",
       "      <th>P1004</th>\n",
       "      <th>P1005</th>\n",
       "      <th>...</th>\n",
       "      <th>P990</th>\n",
       "      <th>P991</th>\n",
       "      <th>P992</th>\n",
       "      <th>P993</th>\n",
       "      <th>P994</th>\n",
       "      <th>P995</th>\n",
       "      <th>P996</th>\n",
       "      <th>P997</th>\n",
       "      <th>P998</th>\n",
       "      <th>P999</th>\n",
       "    </tr>\n",
       "  </thead>\n",
       "  <tbody>\n",
       "    <tr>\n",
       "      <th>0</th>\n",
       "      <td>-0.00455</td>\n",
       "      <td>-0.00678</td>\n",
       "      <td>-0.00358</td>\n",
       "      <td>-0.00071</td>\n",
       "      <td>-0.01071</td>\n",
       "      <td>-0.00035</td>\n",
       "      <td>-0.00479</td>\n",
       "      <td>-0.00499</td>\n",
       "      <td>-0.01016</td>\n",
       "      <td>-0.01439</td>\n",
       "      <td>...</td>\n",
       "      <td>-0.00098</td>\n",
       "      <td>-0.00436</td>\n",
       "      <td>-0.00476</td>\n",
       "      <td>-0.00412</td>\n",
       "      <td>-0.00055</td>\n",
       "      <td>-0.00966</td>\n",
       "      <td>-0.00911</td>\n",
       "      <td>-0.04709</td>\n",
       "      <td>-0.00300</td>\n",
       "      <td>-0.00981</td>\n",
       "    </tr>\n",
       "    <tr>\n",
       "      <th>1</th>\n",
       "      <td>-0.00007</td>\n",
       "      <td>0.00147</td>\n",
       "      <td>0.00042</td>\n",
       "      <td>0.00011</td>\n",
       "      <td>-0.00098</td>\n",
       "      <td>0.00017</td>\n",
       "      <td>0.00300</td>\n",
       "      <td>0.00197</td>\n",
       "      <td>0.00005</td>\n",
       "      <td>0.00162</td>\n",
       "      <td>...</td>\n",
       "      <td>-0.00055</td>\n",
       "      <td>-0.00194</td>\n",
       "      <td>0.00144</td>\n",
       "      <td>-0.00253</td>\n",
       "      <td>-0.00072</td>\n",
       "      <td>0.03690</td>\n",
       "      <td>-0.02764</td>\n",
       "      <td>-0.03646</td>\n",
       "      <td>0.00020</td>\n",
       "      <td>-0.00014</td>\n",
       "    </tr>\n",
       "    <tr>\n",
       "      <th>2</th>\n",
       "      <td>0.00026</td>\n",
       "      <td>-0.00453</td>\n",
       "      <td>-0.00043</td>\n",
       "      <td>-0.00052</td>\n",
       "      <td>0.00120</td>\n",
       "      <td>-0.00018</td>\n",
       "      <td>0.00090</td>\n",
       "      <td>-0.00294</td>\n",
       "      <td>-0.00173</td>\n",
       "      <td>-0.00205</td>\n",
       "      <td>...</td>\n",
       "      <td>-0.00027</td>\n",
       "      <td>-0.00055</td>\n",
       "      <td>0.00135</td>\n",
       "      <td>-0.00186</td>\n",
       "      <td>0.00026</td>\n",
       "      <td>0.02412</td>\n",
       "      <td>0.02413</td>\n",
       "      <td>0.03749</td>\n",
       "      <td>-0.00210</td>\n",
       "      <td>-0.00532</td>\n",
       "    </tr>\n",
       "    <tr>\n",
       "      <th>3</th>\n",
       "      <td>-0.00427</td>\n",
       "      <td>-0.00329</td>\n",
       "      <td>-0.00169</td>\n",
       "      <td>0.00027</td>\n",
       "      <td>-0.00657</td>\n",
       "      <td>0.00021</td>\n",
       "      <td>-0.00054</td>\n",
       "      <td>-0.00302</td>\n",
       "      <td>-0.00879</td>\n",
       "      <td>-0.00787</td>\n",
       "      <td>...</td>\n",
       "      <td>-0.00040</td>\n",
       "      <td>-0.00358</td>\n",
       "      <td>-0.00132</td>\n",
       "      <td>-0.00214</td>\n",
       "      <td>-0.00035</td>\n",
       "      <td>0.01791</td>\n",
       "      <td>0.01203</td>\n",
       "      <td>-0.00267</td>\n",
       "      <td>-0.00246</td>\n",
       "      <td>-0.01800</td>\n",
       "    </tr>\n",
       "    <tr>\n",
       "      <th>4</th>\n",
       "      <td>0.00033</td>\n",
       "      <td>0.00946</td>\n",
       "      <td>0.00124</td>\n",
       "      <td>0.00048</td>\n",
       "      <td>0.01003</td>\n",
       "      <td>0.00043</td>\n",
       "      <td>0.00988</td>\n",
       "      <td>0.00543</td>\n",
       "      <td>0.00511</td>\n",
       "      <td>0.00913</td>\n",
       "      <td>...</td>\n",
       "      <td>0.00037</td>\n",
       "      <td>-0.00037</td>\n",
       "      <td>0.00358</td>\n",
       "      <td>0.00107</td>\n",
       "      <td>0.00025</td>\n",
       "      <td>-0.01531</td>\n",
       "      <td>-0.00231</td>\n",
       "      <td>0.03653</td>\n",
       "      <td>-0.00069</td>\n",
       "      <td>-0.00651</td>\n",
       "    </tr>\n",
       "  </tbody>\n",
       "</table>\n",
       "<p>5 rows × 6411 columns</p>\n",
       "</div>"
      ],
      "text/plain": [
       "        P0       P1      P10     P100    P1000    P1001    P1002    P1003  \\\n",
       "0 -0.00455 -0.00678 -0.00358 -0.00071 -0.01071 -0.00035 -0.00479 -0.00499   \n",
       "1 -0.00007  0.00147  0.00042  0.00011 -0.00098  0.00017  0.00300  0.00197   \n",
       "2  0.00026 -0.00453 -0.00043 -0.00052  0.00120 -0.00018  0.00090 -0.00294   \n",
       "3 -0.00427 -0.00329 -0.00169  0.00027 -0.00657  0.00021 -0.00054 -0.00302   \n",
       "4  0.00033  0.00946  0.00124  0.00048  0.01003  0.00043  0.00988  0.00543   \n",
       "\n",
       "     P1004    P1005   ...        P990     P991     P992     P993     P994  \\\n",
       "0 -0.01016 -0.01439   ...    -0.00098 -0.00436 -0.00476 -0.00412 -0.00055   \n",
       "1  0.00005  0.00162   ...    -0.00055 -0.00194  0.00144 -0.00253 -0.00072   \n",
       "2 -0.00173 -0.00205   ...    -0.00027 -0.00055  0.00135 -0.00186  0.00026   \n",
       "3 -0.00879 -0.00787   ...    -0.00040 -0.00358 -0.00132 -0.00214 -0.00035   \n",
       "4  0.00511  0.00913   ...     0.00037 -0.00037  0.00358  0.00107  0.00025   \n",
       "\n",
       "      P995     P996     P997     P998     P999  \n",
       "0 -0.00966 -0.00911 -0.04709 -0.00300 -0.00981  \n",
       "1  0.03690 -0.02764 -0.03646  0.00020 -0.00014  \n",
       "2  0.02412  0.02413  0.03749 -0.00210 -0.00532  \n",
       "3  0.01791  0.01203 -0.00267 -0.00246 -0.01800  \n",
       "4 -0.01531 -0.00231  0.03653 -0.00069 -0.00651  \n",
       "\n",
       "[5 rows x 6411 columns]"
      ]
     },
     "execution_count": 54,
     "metadata": {},
     "output_type": "execute_result"
    }
   ],
   "source": [
    "svd_df = pd.read_csv(\"../resource/asnlib/publicdata/svd_df.csv\", index_col = 0)\n",
    "svd_df.head()"
   ]
  },
  {
   "cell_type": "markdown",
   "metadata": {
    "deletable": false,
    "editable": false,
    "nbgrader": {
     "grade": false,
     "locked": true,
     "solution": false
    }
   },
   "source": [
    "As the shape of the `svd_df` indicates, these svd-vectors correspond to items. The calculation for recommendation will be the same, but just using these new values.  \n",
    "\n",
    "For example, to predict the score that reviewer \"R0\" would give to 'P1' (Remember \"R0\" already reviewed \"P0\") involves:  \n",
    "1. Find the products that R0 scored.\n",
    "2. Find the similarity between those scored products and \"P1\"\n",
    "3. Multiply those similarity scores by the scores from R0\n",
    "4. Divide by sum of similarity scores.  \n",
    "\n",
    "The downside from SVD is that the SVD must be performed before the calculations, and as was seen above, those SVD calculations take some time. Potentially, SVD would need to be performed each time a new review is added.\n",
    "\n",
    "Finally it will be possible to create a prediction and similarities for every pair of items, which will increase computation on its own, but will hopefully give more meaningful recommendations."
   ]
  },
  {
   "cell_type": "code",
   "execution_count": 55,
   "metadata": {
    "collapsed": true,
    "deletable": false,
    "editable": false,
    "nbgrader": {
     "grade": false,
     "locked": true,
     "solution": false
    }
   },
   "outputs": [],
   "source": [
    "### Creating a function to create predictions using the SVD_df\n",
    "### Note: \"user\" is a row, and \"item\" is a column in the df, and a column in svd_df.\n",
    "### simFunc defaults to p_sim\n",
    "\n",
    "def scorePredSVD(df, user, item, svd_df, simFunc = p_sim, rev_items = None):\n",
    "    \n",
    "    # Check to see if user has already scored item\n",
    "    if df.loc[user,item] > 0:\n",
    "        return \"Already rated a \"+str(df.loc[user,item])\n",
    "    \n",
    "    # Code below should be familiar from \"scorePred\" defined above\n",
    "    if not rev_items:\n",
    "        rev_items = set(df.columns)\n",
    "        rev_items.remove(item)\n",
    "    \n",
    "    sim_total, user_sim_total = 0,0\n",
    "    \n",
    "    for other_item in rev_items:\n",
    "        user_score_other_item = df.loc[user, other_item]\n",
    "        \n",
    "        if user_score_other_item == 0:\n",
    "            print(\"no user score\")\n",
    "            continue\n",
    "            \n",
    "        ser1 = svd_df.loc[:,item]\n",
    "        ser2 = svd_df.loc[:,other_item]\n",
    "        # print(ser1, ser2)\n",
    "        ss = simFunc(ser1, ser2)\n",
    "        # print(ss, user_score_other_item)\n",
    "        sim_total += ss\n",
    "        user_sim_total += user_score_other_item * ss\n",
    "\n",
    "        \n",
    "    if sim_total == 0:\n",
    "        return 0\n",
    "    \n",
    "    else:\n",
    "        return user_sim_total / sim_total"
   ]
  },
  {
   "cell_type": "code",
   "execution_count": 56,
   "metadata": {
    "deletable": false,
    "editable": false,
    "nbgrader": {
     "grade": false,
     "locked": true,
     "solution": false
    },
    "scrolled": false
   },
   "outputs": [
    {
     "name": "stdout",
     "output_type": "stream",
     "text": [
      "CPU times: user 18.3 s, sys: 80 ms, total: 18.4 s\n",
      "Wall time: 18.3 s\n"
     ]
    }
   ],
   "source": [
    "%%time\n",
    "### predict scores for products not yet reviewed by R0, using function built above: scorePred\n",
    "### cosine similarity used because if a product all has only one value of review (e.g. all 5s)\n",
    "### then the standard_deviation is 0 and the correlation coefficient is not calculable\n",
    "\n",
    "SVDpreds = {}\n",
    "for item in r0_not_rev:\n",
    "    SVDpreds[item] = scorePredSVD(reshaped_reviews, 'R0', item, svd_df, simFunc = c_sim, rev_items = r0_rev_prods)"
   ]
  },
  {
   "cell_type": "code",
   "execution_count": 57,
   "metadata": {
    "deletable": false,
    "editable": false,
    "nbgrader": {
     "grade": false,
     "locked": true,
     "solution": false
    }
   },
   "outputs": [
    {
     "data": {
      "text/plain": [
       "P228     4.123518\n",
       "P2145    4.122626\n",
       "P2042    4.122278\n",
       "P4018    4.121785\n",
       "P4103    4.119743\n",
       "dtype: float64"
      ]
     },
     "execution_count": 57,
     "metadata": {},
     "output_type": "execute_result"
    }
   ],
   "source": [
    "pd.Series(SVDpreds).sort_values(ascending = False).head()"
   ]
  },
  {
   "cell_type": "markdown",
   "metadata": {
    "deletable": false,
    "editable": false,
    "nbgrader": {
     "grade": false,
     "locked": true,
     "solution": false
    }
   },
   "source": [
    "#### Question 9"
   ]
  },
  {
   "cell_type": "code",
   "execution_count": 60,
   "metadata": {
    "collapsed": true
   },
   "outputs": [],
   "source": [
    "### GRADED\n",
    "### SVD is a kind of:\n",
    "### 'a') variance reduction\n",
    "### 'b') special type of array in Python\n",
    "### 'c') dimensionality reduction\n",
    "### 'd') description of central tendency\n",
    "### assign character associated with your choice as a string to ans1\n",
    "### YOUR ANSWER BELOW\n",
    "\n",
    "ans1 = 'c'"
   ]
  },
  {
   "cell_type": "code",
   "execution_count": 61,
   "metadata": {
    "collapsed": true,
    "deletable": false,
    "editable": false,
    "nbgrader": {
     "grade": true,
     "grade_id": "Question 9",
     "locked": true,
     "points": "5",
     "solution": false
    }
   },
   "outputs": [],
   "source": [
    "###\n",
    "### AUTOGRADER TEST - DO NOT REMOVE\n",
    "###\n"
   ]
  },
  {
   "cell_type": "markdown",
   "metadata": {
    "deletable": false,
    "editable": false,
    "nbgrader": {
     "grade": false,
     "locked": true,
     "solution": false
    }
   },
   "source": [
    "<a id = \"surprise\"></a>\n",
    "### Surprise - Python Package\n",
    "[`Surprise`](http://surpriselib.com) is a Python package which implements a number of tools for building and testing recommender systems.[Surprise documentation](https://surprise.readthedocs.io/en/stable/)\n",
    "\n",
    "**THE FOLLOWING CODE WILL NOT RUN ON VOCAREUM THEY ARE EXAMPLES SHOULD YOU CHOOSE TO USE `SURPRISE` IN YOUR OWN ENVIRONMENT**  \n",
    "\n",
    "\n",
    "You may have to run:  \n",
    "\n",
    "`conda install -c conda-forge scikit-surprise`  \n",
    "\n",
    "In `Anaconda Prompt`, if it is not already installed on your computer, and possibly reinstall/update scipy, and restart Kernel:  \n",
    "\n",
    "`conda install -c anaconda scipy`  "
   ]
  },
  {
   "cell_type": "markdown",
   "metadata": {
    "deletable": false,
    "editable": false,
    "nbgrader": {
     "grade": false,
     "locked": true,
     "solution": false
    }
   },
   "source": [
    "Below is [example code from the surprise documentation](https://surprise.readthedocs.io/en/stable/getting_started.html#)"
   ]
  },
  {
   "cell_type": "code",
   "execution_count": 62,
   "metadata": {
    "collapsed": true,
    "deletable": false,
    "editable": false,
    "nbgrader": {
     "grade": false,
     "locked": true,
     "solution": false
    }
   },
   "outputs": [],
   "source": [
    "# from surprise import SVD\n",
    "# from surprise import Dataset\n",
    "# from surprise.model_selection import cross_validate\n",
    "\n",
    "\n",
    "# # Load the movielens-100k dataset (download it if needed),\n",
    "# data = Dataset.load_builtin('ml-100k')\n",
    "\n",
    "# # We'll use the famous SVD algorithm.\n",
    "# algo = SVD()\n",
    "\n",
    "# # Run 5-fold cross-validation and print results\n",
    "# cross_validate(algo, data, measures=['RMSE', 'MAE'], cv=5, verbose=True)"
   ]
  },
  {
   "cell_type": "markdown",
   "metadata": {
    "deletable": false,
    "editable": false,
    "nbgrader": {
     "grade": false,
     "locked": true,
     "solution": false
    }
   },
   "source": [
    "[Loading in a df](https://surprise.readthedocs.io/en/stable/dataset.html?highlight=pandas#surprise.dataset.Dataset.load_from_df)"
   ]
  },
  {
   "cell_type": "code",
   "execution_count": 63,
   "metadata": {
    "collapsed": true,
    "deletable": false,
    "editable": false,
    "nbgrader": {
     "grade": false,
     "locked": true,
     "solution": false
    }
   },
   "outputs": [],
   "source": [
    "# import os\n",
    "# from surprise import BaselineOnly\n",
    "# from surprise import Reader\n",
    "\n",
    "# # when using a df to load in data, the columns must be:\n",
    "# # user, product, rating, in that order\n",
    "# # a reader must be defined to describe the rating_scale\n",
    "# reader = Reader(rating_scale=(0,5))\n",
    "\n",
    "# data = Dataset.load_from_df(rev_df, reader=reader)\n",
    "\n",
    "# # We can now use this dataset as we please, e.g. calling cross_validate\n",
    "# cross_validate(BaselineOnly(), data, verbose=True)"
   ]
  },
  {
   "cell_type": "markdown",
   "metadata": {
    "deletable": false,
    "editable": false,
    "nbgrader": {
     "grade": false,
     "locked": true,
     "solution": false
    }
   },
   "source": [
    "### One final note: \n",
    "\n",
    "This project has based its recommendations off of camparing the similarity of *items*. It is also possible to, using the same techniques, calculate the similarity of *users*. The reason that Items was chosen here (and is usually chosen) is that there are usually fewer items which demand separate similarity calculations. This was seen in our data set as there were roughly 3.5k items and 5.5k users. When using complete data from a source, this difference will be even more significant. Of course, the more people which need to have similarity scores calculated from, the longer time to build a recommender system."
   ]
  },
  {
   "cell_type": "code",
   "execution_count": null,
   "metadata": {
    "collapsed": true
   },
   "outputs": [],
   "source": []
  }
 ],
 "metadata": {
  "kernelspec": {
   "display_name": "Python 3 [3.6]",
   "language": "python",
   "name": "python3"
  },
  "language_info": {
   "codemirror_mode": {
    "name": "ipython",
    "version": 3
   },
   "file_extension": ".py",
   "mimetype": "text/x-python",
   "name": "python",
   "nbconvert_exporter": "python",
   "pygments_lexer": "ipython3",
   "version": "3.6.4"
  }
 },
 "nbformat": 4,
 "nbformat_minor": 2
}
