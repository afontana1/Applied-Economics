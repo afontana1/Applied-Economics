{
 "cells": [
  {
   "cell_type": "markdown",
   "metadata": {},
   "source": [
    "<a id = \"pymc3\"></a>\n",
    "\n",
    "### Extension: MCMC Techniques with `pymc3`\n",
    "\n",
    "`PyMC` is a useful module to know for reasons beyond Bayesian Linear Regression, given its implementation of MCMC.   \n",
    "\n",
    "\n",
    "Instead of solving our Bayesian Regression problem directly, `pymc3` instead uses Markov Chain Monte Carlo techniques to estimate regression parameters.  \n",
    "\n",
    "You may notice different results between this technique and the solutions found above; much of those differences come from the definition of priors.  \n",
    "\n",
    "#### `pymc3`\n",
    "Two examples are given below.\n",
    "\n",
    "First, a synthetic data-set is created, where a linear relationship is explicitly defined, and noise is added. This should give a good idea of what the parameter estimation in `pymc3` looks like.   \n",
    "\n",
    "Second, parameters are estimated for the \"housing\" dataset.  \n",
    "\n",
    "#### Reading in Housing Data:"
   ]
  },
  {
   "cell_type": "code",
   "execution_count": null,
   "metadata": {
    "collapsed": true
   },
   "outputs": [],
   "source": [
    "### This cell imports the necessary modules and sets a few plotting parameters for display\n",
    "\n",
    "%matplotlib inline\n",
    "import numpy as np\n",
    "import pandas as pd\n",
    "import matplotlib.pyplot as plt\n",
    "plt.rcParams['figure.figsize'] = (20.0, 10.0)  "
   ]
  },
  {
   "cell_type": "code",
   "execution_count": null,
   "metadata": {
    "collapsed": true
   },
   "outputs": [],
   "source": [
    "### Read in the data\n",
    "tr_path = '../resource/asnlib/publicdata/train.csv'\n",
    "data = pd.read_csv(tr_path)  \n",
    "\n",
    "### The .head() function shows the first few lines of data for perspecitve\n",
    "data.head()"
   ]
  },
  {
   "cell_type": "code",
   "execution_count": null,
   "metadata": {
    "collapsed": true
   },
   "outputs": [],
   "source": [
    "data.plot('GrLivArea', 'SalePrice', kind = 'scatter', marker = 'x');"
   ]
  },
  {
   "cell_type": "code",
   "execution_count": null,
   "metadata": {
    "collapsed": true
   },
   "outputs": [],
   "source": [
    "data.plot('YearBuilt', 'SalePrice', kind = 'scatter', marker = 'x');"
   ]
  },
  {
   "cell_type": "markdown",
   "metadata": {},
   "source": [
    "#### Creating Data"
   ]
  },
  {
   "cell_type": "code",
   "execution_count": null,
   "metadata": {
    "collapsed": true
   },
   "outputs": [],
   "source": [
    "### Synthetic data\n",
    "\n",
    "np.random.seed(1738)\n",
    "\n",
    "# Create True parameters:\n",
    "intercept, sigma, betas = 20, .5, np.array([0.2, .4])\n",
    "\n",
    "# set number of observations\n",
    "obs = 100\n",
    "\n",
    "predictors = np.random.randn(obs, 2)\n",
    "\n",
    "# Defining our explicit linear relationship. Notice how the noise is added with `sigma`\n",
    "Y = intercept + np.matmul(predictors, betas) + np.random.randn(obs)*sigma\n",
    "\n",
    "\n",
    "# visualize\n",
    "# A view of our syntetic data, plotting both predictors against the actual values\n",
    "plt.figure(figsize = (10,4))\n",
    "plt.subplot(1,2,1)\n",
    "plt.scatter(predictors[:,0], Y)\n",
    "plt.title(\"X1 Predictor\")\n",
    "plt.ylabel(\"Y\")\n",
    "plt.subplot(1,2,2)\n",
    "plt.scatter(predictors[:,1],Y)\n",
    "plt.title(\"X2 Predictor\")"
   ]
  },
  {
   "cell_type": "markdown",
   "metadata": {},
   "source": [
    "#### Using Housing Data"
   ]
  },
  {
   "cell_type": "code",
   "execution_count": null,
   "metadata": {
    "collapsed": true
   },
   "outputs": [],
   "source": [
    "import pymc3 as pm\n",
    "\n",
    "# instantiate basic model\n",
    "basic_model = pm.Model()\n",
    "\n",
    "# Define two numpy arrays of predictors\n",
    "X1 = predictors[:,0]\n",
    "X2 = predictors[:,1]\n",
    "\n",
    "# Tell pymc3 that everything is happening within that model\n",
    "with basic_model:\n",
    "\n",
    "    # Priors for unknown model parameters\n",
    "    # Define prior for intercept as observed mean\n",
    "    intercept = pm.Normal('intercept', mu=np.mean(Y), sd=10)\n",
    "    \n",
    "    # note shape = 2 parameter\n",
    "    # prior for predictors is \"0\"\n",
    "    beta = pm.Normal('beta', mu=0, sd=1, shape=2)\n",
    "    \n",
    "    # Explicitly define prior for \"noise\" term\n",
    "    sigma = pm.Normal('sigma',mu = 1, sd=1)\n",
    "    \n",
    "    \n",
    "    # Expected relationship between variables\n",
    "    mu = intercept + beta[0]*X1 + beta[1]*X2\n",
    "\n",
    "    # Likelihood of observations\n",
    "    # (sampling distribution)\n",
    "    Y_obs = pm.Normal('Y_obs', mu=mu, sd=sigma, observed=Y)\n",
    "    \n",
    "    # instantiate sampler\n",
    "    # `NUTS` is \"no u-turn sampler\", the most advanced `pymc3` offers\n",
    "    step = pm.NUTS()\n",
    "\n",
    "    # draw 500, the 5000 posterior samples\n",
    "    trace_500_ex = pm.sample(500, step=step)\n",
    "    trace_5k_ex = pm.sample(5000, step = step)"
   ]
  },
  {
   "cell_type": "markdown",
   "metadata": {},
   "source": [
    "#### Plotting the distributions of the posteriors, with both 500 and 5,000 draws.\n",
    "\n",
    "Notice how close in both the 500 draw and 5,000 draw versions the mean \"peak\" of the parameters is to the actual parameters."
   ]
  },
  {
   "cell_type": "code",
   "execution_count": null,
   "metadata": {
    "collapsed": true
   },
   "outputs": [],
   "source": [
    "pm.traceplot(trace_500_ex);"
   ]
  },
  {
   "cell_type": "code",
   "execution_count": null,
   "metadata": {
    "collapsed": true
   },
   "outputs": [],
   "source": [
    "pm.traceplot(trace_5k_ex);"
   ]
  },
  {
   "cell_type": "markdown",
   "metadata": {},
   "source": [
    "#### Finding the MAP solution\n",
    "\n",
    "Once again, close to actual parameters"
   ]
  },
  {
   "cell_type": "code",
   "execution_count": null,
   "metadata": {
    "collapsed": true
   },
   "outputs": [],
   "source": [
    "pm.find_MAP(model = basic_model)"
   ]
  },
  {
   "cell_type": "markdown",
   "metadata": {},
   "source": [
    "#### Fitting model to housing data"
   ]
  },
  {
   "cell_type": "code",
   "execution_count": null,
   "metadata": {
    "collapsed": true
   },
   "outputs": [],
   "source": [
    "house_model = pm.Model()\n",
    "y = data.SalePrice.values\n",
    "X = data[['GrLivArea','YearBuilt']].values\n",
    "X1 = X[:,0]\n",
    "X2 = X[:,1]\n",
    "\n",
    "with house_model:\n",
    "\n",
    "    # Priors for unknown model parameters\n",
    "    \n",
    "    # Prior for intercept is still mean of observed - different from prior used\n",
    "    # in our version\n",
    "    intercept = pm.Normal('intercept', mu=np.mean(y), sd=1000)\n",
    "    \n",
    "    # note shape = 2 parameter\n",
    "    beta = pm.Normal('beta', mu=0, sd=10, shape=2)\n",
    "    sigma = pm.Normal('sigma',mu = 1000, sd=50)\n",
    "\n",
    "    # Expected value of outcome\n",
    "    mu = intercept + beta[0]*X1 + beta[1]*X2\n",
    "\n",
    "    # Likelihood (sampling distribution) of observations\n",
    "    Y_obs = pm.Normal('Y_obs', mu=mu, sd=sigma, observed=y)\n",
    "    \n",
    "    # instantiate sampler\n",
    "    # Slice is a simpler sampler\n",
    "    step = pm.Slice()\n",
    "\n",
    "    # draw 500, the 5000 posterior samples\n",
    "    trace_500_housing = pm.sample(500, step=step)\n",
    "    trace_5k_housing = pm.sample(5000, step = step)"
   ]
  },
  {
   "cell_type": "markdown",
   "metadata": {},
   "source": [
    "#### Plotting the distributions of the posteriors, with both 500 and 5,000 draws."
   ]
  },
  {
   "cell_type": "code",
   "execution_count": null,
   "metadata": {
    "collapsed": true
   },
   "outputs": [],
   "source": [
    "pm.traceplot(trace_500_housing);"
   ]
  },
  {
   "cell_type": "code",
   "execution_count": null,
   "metadata": {
    "collapsed": true
   },
   "outputs": [],
   "source": [
    "pm.traceplot(trace_5k_housing);"
   ]
  },
  {
   "cell_type": "markdown",
   "metadata": {},
   "source": [
    "Printing out a raw observations--  \n",
    "\n",
    "Just in case you wanted to see what they look like"
   ]
  },
  {
   "cell_type": "code",
   "execution_count": null,
   "metadata": {
    "collapsed": true
   },
   "outputs": [],
   "source": [
    "list(trace_500_housing.points())[:2]"
   ]
  }
 ],
 "metadata": {
  "kernelspec": {
   "display_name": "Python 3 [3.6]",
   "language": "python",
   "name": "python3"
  },
  "language_info": {
   "codemirror_mode": {
    "name": "ipython",
    "version": 3
   },
   "file_extension": ".py",
   "mimetype": "text/x-python",
   "name": "python",
   "nbconvert_exporter": "python",
   "pygments_lexer": "ipython3",
   "version": "3.6.4"
  }
 },
 "nbformat": 4,
 "nbformat_minor": 2
}
