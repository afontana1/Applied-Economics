{
 "cells": [
  {
   "cell_type": "markdown",
   "metadata": {
    "slideshow": {
     "slide_type": "slide"
    }
   },
   "source": [
    "# Linear Regression Examples\n",
    "\n",
    "This Jupyter notebook presents examples building on theory from the lectures."
   ]
  },
  {
   "cell_type": "code",
   "execution_count": 1,
   "metadata": {
    "slideshow": {
     "slide_type": "subslide"
    }
   },
   "outputs": [],
   "source": [
    "# Boilerplate initialisation code\n",
    "%matplotlib inline\n",
    "import pandas as pd\n",
    "import numpy as np\n",
    "import matplotlib.pyplot as plt\n",
    "plt.rcParams['font.size'] = 24\n",
    "plt.rcParams['figure.figsize'] = (20.0, 10.0)"
   ]
  },
  {
   "cell_type": "markdown",
   "metadata": {
    "slideshow": {
     "slide_type": "slide"
    }
   },
   "source": [
    "### Example: Wind tunnel data\n",
    "\n",
    "In a sequence of 8 experiments, a sensor is suspended in a wind tunnel to measure the force $F$ experienced (in Newtons) at various wind speeds $v$ (in m/s). The data is stored in the file `wind_tunnel.csv`."
   ]
  },
  {
   "cell_type": "code",
   "execution_count": 2,
   "metadata": {
    "slideshow": {
     "slide_type": "fragment"
    }
   },
   "outputs": [
    {
     "data": {
      "text/html": [
       "<div>\n",
       "<style scoped>\n",
       "    .dataframe tbody tr th:only-of-type {\n",
       "        vertical-align: middle;\n",
       "    }\n",
       "\n",
       "    .dataframe tbody tr th {\n",
       "        vertical-align: top;\n",
       "    }\n",
       "\n",
       "    .dataframe thead th {\n",
       "        text-align: right;\n",
       "    }\n",
       "</style>\n",
       "<table border=\"1\" class=\"dataframe\">\n",
       "  <thead>\n",
       "    <tr style=\"text-align: right;\">\n",
       "      <th></th>\n",
       "      <th>speed</th>\n",
       "      <th>force</th>\n",
       "    </tr>\n",
       "  </thead>\n",
       "  <tbody>\n",
       "    <tr>\n",
       "      <th>0</th>\n",
       "      <td>10</td>\n",
       "      <td>25</td>\n",
       "    </tr>\n",
       "    <tr>\n",
       "      <th>1</th>\n",
       "      <td>20</td>\n",
       "      <td>70</td>\n",
       "    </tr>\n",
       "    <tr>\n",
       "      <th>2</th>\n",
       "      <td>30</td>\n",
       "      <td>380</td>\n",
       "    </tr>\n",
       "    <tr>\n",
       "      <th>3</th>\n",
       "      <td>40</td>\n",
       "      <td>550</td>\n",
       "    </tr>\n",
       "    <tr>\n",
       "      <th>4</th>\n",
       "      <td>50</td>\n",
       "      <td>610</td>\n",
       "    </tr>\n",
       "  </tbody>\n",
       "</table>\n",
       "</div>"
      ],
      "text/plain": [
       "   speed  force\n",
       "0     10     25\n",
       "1     20     70\n",
       "2     30    380\n",
       "3     40    550\n",
       "4     50    610"
      ]
     },
     "execution_count": 2,
     "metadata": {},
     "output_type": "execute_result"
    }
   ],
   "source": [
    "data = pd.read_csv('wind_tunnel.csv')  # Load data as usual using Pandas\n",
    "data.head()"
   ]
  },
  {
   "cell_type": "markdown",
   "metadata": {
    "slideshow": {
     "slide_type": "subslide"
    }
   },
   "source": [
    "Generate a quick plot..."
   ]
  },
  {
   "cell_type": "code",
   "execution_count": 3,
   "metadata": {
    "slideshow": {
     "slide_type": "fragment"
    }
   },
   "outputs": [
    {
     "data": {
      "image/png": "[encoded data removed]",
      "text/plain": [
       "<Figure size 432x288 with 1 Axes>"
      ]
     },
     "metadata": {
      "needs_background": "light"
     },
     "output_type": "display_data"
    }
   ],
   "source": [
    "n = len(data) # number of samples\n",
    "data.plot.scatter(x='speed', y='force', marker='o')\n",
    "plt.show()"
   ]
  },
  {
   "cell_type": "markdown",
   "metadata": {
    "slideshow": {
     "slide_type": "subslide"
    }
   },
   "source": [
    "Extract Numpy arrays from DataFrame for target $y$ and matrix $\\mathbf{X}$..."
   ]
  },
  {
   "cell_type": "code",
   "execution_count": 4,
   "metadata": {
    "slideshow": {
     "slide_type": "fragment"
    }
   },
   "outputs": [
    {
     "name": "stdout",
     "output_type": "stream",
     "text": [
      "[[ 1. 10.]\n",
      " [ 1. 20.]\n",
      " [ 1. 30.]\n",
      " [ 1. 40.]\n",
      " [ 1. 50.]\n",
      " [ 1. 60.]\n",
      " [ 1. 70.]\n",
      " [ 1. 80.]]\n",
      "[[  25]\n",
      " [  70]\n",
      " [ 380]\n",
      " [ 550]\n",
      " [ 610]\n",
      " [1220]\n",
      " [ 830]\n",
      " [1450]]\n"
     ]
    }
   ],
   "source": [
    "n = len(data) # number of samples\n",
    "y = data.force.values.reshape((n,1))\n",
    "X = np.hstack((np.ones((n,1), dtype=np.float64), data.speed.values.reshape((n,1))))\n",
    "print(X) # Preview array X; padded with column of ones as required\n",
    "print(y) # Preview target vector y"
   ]
  },
  {
   "cell_type": "markdown",
   "metadata": {
    "slideshow": {
     "slide_type": "subslide"
    }
   },
   "source": [
    "With $\\mathbf{X}$ and $y$ as matrices, can solve linear system several ways:"
   ]
  },
  {
   "cell_type": "code",
   "execution_count": 5,
   "metadata": {
    "slideshow": {
     "slide_type": "fragment"
    }
   },
   "outputs": [
    {
     "data": {
      "text/plain": [
       "array([[-234.28571429],\n",
       "       [  19.4702381 ]])"
      ]
     },
     "execution_count": 5,
     "metadata": {},
     "output_type": "execute_result"
    }
   ],
   "source": [
    "np.linalg.inv(X.T.dot(X)).dot(X.T.dot(y)) # one method"
   ]
  },
  {
   "cell_type": "code",
   "execution_count": 6,
   "metadata": {
    "slideshow": {
     "slide_type": "fragment"
    }
   },
   "outputs": [
    {
     "name": "stdout",
     "output_type": "stream",
     "text": [
      "[[-234.28571429]\n",
      " [  19.4702381 ]]\n"
     ]
    }
   ],
   "source": [
    "# alternative way to compute same thing\n",
    "w_LS = np.linalg.solve(np.dot(X.T, X), np.dot(X.T, y))\n",
    "print(w_LS)"
   ]
  },
  {
   "cell_type": "markdown",
   "metadata": {
    "slideshow": {
     "slide_type": "subslide"
    }
   },
   "source": [
    "Produce a 2D plot showing original data and the least-squares line of best fit"
   ]
  },
  {
   "cell_type": "code",
   "execution_count": 7,
   "metadata": {
    "slideshow": {
     "slide_type": "fragment"
    }
   },
   "outputs": [
    {
     "data": {
      "image/png": "[encoded data removed]",
      "text/plain": [
       "<Figure size 432x288 with 1 Axes>"
      ]
     },
     "metadata": {
      "needs_background": "light"
     },
     "output_type": "display_data"
    }
   ],
   "source": [
    "vv = np.linspace(0,80)        # Generate a grid of speed values\n",
    "FF = w_LS[0,0] + w_LS[1,0]*vv # Generate the corresponding force values \n",
    "plt.plot(vv, FF, 'r', X[:,1], y, 'o', markersize=7.5)\n",
    "plt.xlabel('$v$ [m/s]')\n",
    "plt.ylabel('$F$ [N]')\n",
    "plt.grid(True)\n",
    "plt.show()"
   ]
  },
  {
   "cell_type": "markdown",
   "metadata": {
    "slideshow": {
     "slide_type": "subslide"
    }
   },
   "source": [
    "To get a sense of how well the line fits the data, compute the *RMSE* (*Root Mean Square Error*) and the *$R^2$ statistic*.\n",
    "\n",
    "* The RMSE is square root of the average residual squared error (i.e., find the total residual squared error divided by the number of samples and then compute the square root). In terms of the notation used so far, this is $$\\displaystyle{\\sqrt{\\frac{1}{n}\\left\\|y -\\mathbf{X}w_{LS}\\right\\|^2} = \\sqrt{\\frac{1}{n}\\sum_{k=1}^{n}\\left(y_{k} - x_{k}^{T}w_{LS}\\right)^{2}}}.$$\n",
    "* The [$R^2$ statistic (or coefficient of determination)](https://en.wikipedia.org/wiki/Coefficient_of_determination) is the fraction remaining when the ratio of the sum of the squared residuals to the total sum of squares is subtracted from one. The result is a number between 0 and 1 that quantifies how well the regression line explains the data. In effect, this is $$\\displaystyle{1 - \\left[\\sum_{k=1}^{n}\\left(y_{k}-\\overline{y}\\right)^{2}\\right]^{-1}} \\sum_{\\ell=1}^{n}\\left(y_{\\ell} - x_{\\ell}^{T}w_{LS}\\right)^{2}.$$"
   ]
  },
  {
   "cell_type": "markdown",
   "metadata": {
    "slideshow": {
     "slide_type": "subslide"
    }
   },
   "source": [
    "Here, accumulate the sum of squared residuals in `ss_r` and the sum of total squares (differences from mean of $y$) in `ss_t`. These can be used to compute the RMSE and $R^2$."
   ]
  },
  {
   "cell_type": "code",
   "execution_count": 8,
   "metadata": {
    "slideshow": {
     "slide_type": "fragment"
    }
   },
   "outputs": [
    {
     "name": "stdout",
     "output_type": "stream",
     "text": [
      "RMSE = 164.36170279368028\n",
      "R-squared: 0.8804852467812263\n"
     ]
    }
   ],
   "source": [
    "ss_t = 0.0 # for accumulating the total sum of squares (i.e., differences of y[k] from y.mean() squared)\n",
    "ss_r = 0.0 # for accumulating the sum of squared residuals\n",
    "mean_y = y.mean() # compute once\n",
    "\n",
    "b0 = w_LS[0,0]\n",
    "b1 = w_LS[1,0]\n",
    "for k in range(n):\n",
    "    y_pred = b0 + b1*X[k,1]\n",
    "    ss_r += (y_pred - y[k,0]) ** 2\n",
    "    ss_t += (y[k,0] - mean_y) ** 2\n",
    "\n",
    "rmse = np.sqrt(ss_r/n)\n",
    "r2 = 1 - (ss_r/ss_t)\n",
    "print('RMSE = {}'.format(rmse))\n",
    "print('R-squared: {}'.format(r2))"
   ]
  },
  {
   "cell_type": "markdown",
   "metadata": {
    "slideshow": {
     "slide_type": "slide"
    }
   },
   "source": [
    "### Example: Pearson's height data\n",
    "\n",
    "These are the heights of 1,078 fathers and their sons (in inches) based on a [famous experiment by Karl Pearson](http://www.randomservices.org/random/data/Pearson.html) around 1903. Random noise was added to the original data, to produce heights to the nearest 0.1 inch. The data is stored in the file `Pearson.csv`.\n",
    "\n",
    "| Father  |  Son |\n",
    "| ---  | --- |\n",
    "| 65.0 | 59.8 |\n",
    "| 63.3 | 63.2 |\n",
    "| 65.0 | 63.3 |\n",
    "| 65.8 | 62.8 |\n",
    "| 61.1 | 64.3 |\n",
    "| 63.0 | 64.2 |\n",
    "| 65.4 | 64.1 |\n",
    "| $\\vdots$ | $\\vdots$ |"
   ]
  },
  {
   "cell_type": "code",
   "execution_count": 9,
   "metadata": {
    "slideshow": {
     "slide_type": "subslide"
    }
   },
   "outputs": [
    {
     "data": {
      "text/html": [
       "<div>\n",
       "<style scoped>\n",
       "    .dataframe tbody tr th:only-of-type {\n",
       "        vertical-align: middle;\n",
       "    }\n",
       "\n",
       "    .dataframe tbody tr th {\n",
       "        vertical-align: top;\n",
       "    }\n",
       "\n",
       "    .dataframe thead th {\n",
       "        text-align: right;\n",
       "    }\n",
       "</style>\n",
       "<table border=\"1\" class=\"dataframe\">\n",
       "  <thead>\n",
       "    <tr style=\"text-align: right;\">\n",
       "      <th></th>\n",
       "      <th>Father</th>\n",
       "      <th>Son</th>\n",
       "    </tr>\n",
       "  </thead>\n",
       "  <tbody>\n",
       "    <tr>\n",
       "      <th>0</th>\n",
       "      <td>65.0</td>\n",
       "      <td>59.8</td>\n",
       "    </tr>\n",
       "    <tr>\n",
       "      <th>1</th>\n",
       "      <td>63.3</td>\n",
       "      <td>63.2</td>\n",
       "    </tr>\n",
       "    <tr>\n",
       "      <th>2</th>\n",
       "      <td>65.0</td>\n",
       "      <td>63.3</td>\n",
       "    </tr>\n",
       "    <tr>\n",
       "      <th>3</th>\n",
       "      <td>65.8</td>\n",
       "      <td>62.8</td>\n",
       "    </tr>\n",
       "    <tr>\n",
       "      <th>4</th>\n",
       "      <td>61.1</td>\n",
       "      <td>64.3</td>\n",
       "    </tr>\n",
       "  </tbody>\n",
       "</table>\n",
       "</div>"
      ],
      "text/plain": [
       "   Father   Son\n",
       "0    65.0  59.8\n",
       "1    63.3  63.2\n",
       "2    65.0  63.3\n",
       "3    65.8  62.8\n",
       "4    61.1  64.3"
      ]
     },
     "execution_count": 9,
     "metadata": {},
     "output_type": "execute_result"
    }
   ],
   "source": [
    "# First, read the data into a Pandas DataFrame\n",
    "data = pd.read_csv('Pearson.csv')\n",
    "data.head()"
   ]
  },
  {
   "cell_type": "code",
   "execution_count": 10,
   "metadata": {
    "slideshow": {
     "slide_type": "subslide"
    }
   },
   "outputs": [
    {
     "data": {
      "image/png": "[encoded data removed]",
      "text/plain": [
       "<Figure size 432x288 with 1 Axes>"
      ]
     },
     "metadata": {
      "needs_background": "light"
     },
     "output_type": "display_data"
    }
   ],
   "source": [
    "# In this instance, a scatter plot shows the spread of the data\n",
    "data.plot.scatter(x='Father', y='Son')\n",
    "plt.show()"
   ]
  },
  {
   "cell_type": "markdown",
   "metadata": {
    "slideshow": {
     "slide_type": "subslide"
    }
   },
   "source": [
    "Again, set up the vector $y$ and matrix $\\mathbf{X}$ as required to compute the weights $w_{LS}$:"
   ]
  },
  {
   "cell_type": "code",
   "execution_count": 11,
   "metadata": {
    "slideshow": {
     "slide_type": "fragment"
    }
   },
   "outputs": [],
   "source": [
    "n = len(data)\n",
    "y = data.Son.values.reshape((n,1)) # Extract as a numpy array\n",
    "X = np.hstack( (np.ones((n, 1), dtype=np.float64), data.Father.values.reshape((n,1))))"
   ]
  },
  {
   "cell_type": "code",
   "execution_count": 12,
   "metadata": {
    "slideshow": {
     "slide_type": "fragment"
    }
   },
   "outputs": [
    {
     "name": "stdout",
     "output_type": "stream",
     "text": [
      "[[33.89280054]\n",
      " [ 0.51400591]]\n"
     ]
    }
   ],
   "source": [
    "# Finally, \"solve\" the required overdetermined system of linear equations X w = y.\n",
    "w_LS = np.linalg.solve(np.dot(X.T, X), np.dot(X.T, y))\n",
    "print(w_LS)"
   ]
  },
  {
   "cell_type": "code",
   "execution_count": 13,
   "metadata": {
    "slideshow": {
     "slide_type": "subslide"
    }
   },
   "outputs": [
    {
     "data": {
      "image/png": "[encoded data removed]",
      "text/plain": [
       "<Figure size 432x288 with 1 Axes>"
      ]
     },
     "metadata": {
      "needs_background": "light"
     },
     "output_type": "display_data"
    }
   ],
   "source": [
    "# Produce a 2D plot showing the data and the least-squares line of best fit\n",
    "FF = np.linspace(data.Father.min(), data.Father.max())\n",
    "SS = w_LS[0,0] + w_LS[1,0]*FF # Generate \n",
    "plt.plot(X[:,1], y, 'o', FF, SS, 'r', linewidth=2)\n",
    "plt.xlabel('Father heights [in]', fontsize=18)\n",
    "plt.ylabel('Son heights [in]', fontsize=18)\n",
    "plt.grid(True)\n",
    "plt.show()"
   ]
  },
  {
   "cell_type": "markdown",
   "metadata": {
    "slideshow": {
     "slide_type": "subslide"
    }
   },
   "source": [
    "As before, compute RMSE & $R^2$"
   ]
  },
  {
   "cell_type": "code",
   "execution_count": 14,
   "metadata": {
    "slideshow": {
     "slide_type": "fragment"
    }
   },
   "outputs": [
    {
     "name": "stdout",
     "output_type": "stream",
     "text": [
      "RMSE = 2.4358716091393404\n",
      "R-squared: 0.2511640326342508\n"
     ]
    }
   ],
   "source": [
    "ss_t = 0.0 # for accumulating the total sum of squares (i.e., differences of y[k] from y.mean() squared)\n",
    "ss_r = 0.0 # for accumulating the sum of squared residuals\n",
    "mean_y = y.mean() # compute once\n",
    "\n",
    "b0 = w_LS[0,0]\n",
    "b1 = w_LS[1,0]\n",
    "for k in range(n):\n",
    "    y_pred = b0 + b1*X[k,1]\n",
    "    ss_r += (y_pred - y[k,0]) ** 2\n",
    "    ss_t += (y[k,0] - mean_y) ** 2\n",
    "\n",
    "rmse = np.sqrt(ss_r/n)\n",
    "r2 = 1 - (ss_r/ss_t)\n",
    "print('RMSE = {}'.format(rmse))\n",
    "print('R-squared: {}'.format(r2))"
   ]
  },
  {
   "cell_type": "markdown",
   "metadata": {
    "slideshow": {
     "slide_type": "fragment"
    }
   },
   "source": [
    "Using Numpy's linear algebra utilities, above loops can be eliminated:"
   ]
  },
  {
   "cell_type": "code",
   "execution_count": 15,
   "metadata": {
    "slideshow": {
     "slide_type": "fragment"
    }
   },
   "outputs": [
    {
     "name": "stdout",
     "output_type": "stream",
     "text": [
      "RMSE_linalg = 2.43587160913934\n"
     ]
    }
   ],
   "source": [
    "y_pred = np.dot(X, w_LS)\n",
    "ss_r = np.linalg.norm(y_pred - y) ** 2\n",
    "rmse = np.sqrt(ss_r/n)\n",
    "print('RMSE_linalg = {}'.format(rmse)) # Same as above"
   ]
  },
  {
   "cell_type": "code",
   "execution_count": 16,
   "metadata": {
    "slideshow": {
     "slide_type": "fragment"
    }
   },
   "outputs": [
    {
     "name": "stdout",
     "output_type": "stream",
     "text": [
      "R-squared_linalg = 0.25116403263425147\n"
     ]
    }
   ],
   "source": [
    "ss_t = np.linalg.norm(y - y.mean()) ** 2\n",
    "r2 = 1-(ss_r/ss_t)\n",
    "print('R-squared_linalg = {}'.format(r2)) # Same as above (mostly)"
   ]
  },
  {
   "cell_type": "markdown",
   "metadata": {
    "slideshow": {
     "slide_type": "fragment"
    }
   },
   "source": [
    "Notice that the $R^2$ statistic is dimensionless while the RMSE is not. The former quantifies the appropriateness of the line fit in a relative sense, whereas the RMSE gives an absolute measure of misfit (which, depending on the scaling of the problem, can be deceptive)."
   ]
  },
  {
   "cell_type": "markdown",
   "metadata": {
    "slideshow": {
     "slide_type": "slide"
    }
   },
   "source": [
    "### Example: NHANES data\n",
    "\n",
    "The table below give the results of a random sample of size 100 from the [2005–2006 National Health and Nutrition Examination Survey (NHANES)](http://www.randomservices.org/random/data/NHANES.html). The variables are Gender (male or female), Age (in years), Weight (in lbs), Height, Leg length, Waist circumference, & Thigh circumference (all in inches). The data is stored in the file `NHANES.csv`.\n",
    "\n",
    "With this data, we can apply linear regression with multiple independent (or exogenous) variables; this is sometimes called *multiple linear regression*.\n",
    "\n"
   ]
  },
  {
   "cell_type": "code",
   "execution_count": 17,
   "metadata": {
    "slideshow": {
     "slide_type": "subslide"
    }
   },
   "outputs": [
    {
     "data": {
      "text/html": [
       "<div>\n",
       "<style scoped>\n",
       "    .dataframe tbody tr th:only-of-type {\n",
       "        vertical-align: middle;\n",
       "    }\n",
       "\n",
       "    .dataframe tbody tr th {\n",
       "        vertical-align: top;\n",
       "    }\n",
       "\n",
       "    .dataframe thead th {\n",
       "        text-align: right;\n",
       "    }\n",
       "</style>\n",
       "<table border=\"1\" class=\"dataframe\">\n",
       "  <thead>\n",
       "    <tr style=\"text-align: right;\">\n",
       "      <th></th>\n",
       "      <th>Gender</th>\n",
       "      <th>Age</th>\n",
       "      <th>Weight</th>\n",
       "      <th>Height</th>\n",
       "      <th>Leg</th>\n",
       "      <th>Waist</th>\n",
       "      <th>Thigh</th>\n",
       "    </tr>\n",
       "  </thead>\n",
       "  <tbody>\n",
       "    <tr>\n",
       "      <th>0</th>\n",
       "      <td>F</td>\n",
       "      <td>52</td>\n",
       "      <td>231.0</td>\n",
       "      <td>63.3</td>\n",
       "      <td>14.2</td>\n",
       "      <td>43.6</td>\n",
       "      <td>25.8</td>\n",
       "    </tr>\n",
       "    <tr>\n",
       "      <th>1</th>\n",
       "      <td>M</td>\n",
       "      <td>75</td>\n",
       "      <td>198.0</td>\n",
       "      <td>67.0</td>\n",
       "      <td>15.6</td>\n",
       "      <td>41.8</td>\n",
       "      <td>20.1</td>\n",
       "    </tr>\n",
       "    <tr>\n",
       "      <th>2</th>\n",
       "      <td>F</td>\n",
       "      <td>29</td>\n",
       "      <td>155.9</td>\n",
       "      <td>63.9</td>\n",
       "      <td>15.7</td>\n",
       "      <td>36.0</td>\n",
       "      <td>19.2</td>\n",
       "    </tr>\n",
       "    <tr>\n",
       "      <th>3</th>\n",
       "      <td>M</td>\n",
       "      <td>18</td>\n",
       "      <td>177.7</td>\n",
       "      <td>71.2</td>\n",
       "      <td>18.1</td>\n",
       "      <td>33.3</td>\n",
       "      <td>22.4</td>\n",
       "    </tr>\n",
       "    <tr>\n",
       "      <th>4</th>\n",
       "      <td>M</td>\n",
       "      <td>51</td>\n",
       "      <td>225.3</td>\n",
       "      <td>69.3</td>\n",
       "      <td>15.6</td>\n",
       "      <td>40.0</td>\n",
       "      <td>23.0</td>\n",
       "    </tr>\n",
       "  </tbody>\n",
       "</table>\n",
       "</div>"
      ],
      "text/plain": [
       "  Gender  Age  Weight  Height   Leg  Waist  Thigh\n",
       "0      F   52   231.0    63.3  14.2   43.6   25.8\n",
       "1      M   75   198.0    67.0  15.6   41.8   20.1\n",
       "2      F   29   155.9    63.9  15.7   36.0   19.2\n",
       "3      M   18   177.7    71.2  18.1   33.3   22.4\n",
       "4      M   51   225.3    69.3  15.6   40.0   23.0"
      ]
     },
     "execution_count": 17,
     "metadata": {},
     "output_type": "execute_result"
    }
   ],
   "source": [
    "data = pd.read_csv('NHANES.csv')\n",
    "data.head()"
   ]
  },
  {
   "cell_type": "markdown",
   "metadata": {
    "slideshow": {
     "slide_type": "subslide"
    }
   },
   "source": [
    "Use Pandas/Numpy techniques for filtering to separate genders:"
   ]
  },
  {
   "cell_type": "code",
   "execution_count": 18,
   "metadata": {
    "slideshow": {
     "slide_type": "fragment"
    }
   },
   "outputs": [
    {
     "data": {
      "text/html": [
       "<div>\n",
       "<style scoped>\n",
       "    .dataframe tbody tr th:only-of-type {\n",
       "        vertical-align: middle;\n",
       "    }\n",
       "\n",
       "    .dataframe tbody tr th {\n",
       "        vertical-align: top;\n",
       "    }\n",
       "\n",
       "    .dataframe thead th {\n",
       "        text-align: right;\n",
       "    }\n",
       "</style>\n",
       "<table border=\"1\" class=\"dataframe\">\n",
       "  <thead>\n",
       "    <tr style=\"text-align: right;\">\n",
       "      <th></th>\n",
       "      <th>Gender</th>\n",
       "      <th>Age</th>\n",
       "      <th>Weight</th>\n",
       "      <th>Height</th>\n",
       "      <th>Leg</th>\n",
       "      <th>Waist</th>\n",
       "      <th>Thigh</th>\n",
       "    </tr>\n",
       "  </thead>\n",
       "  <tbody>\n",
       "    <tr>\n",
       "      <th>0</th>\n",
       "      <td>F</td>\n",
       "      <td>52</td>\n",
       "      <td>231.0</td>\n",
       "      <td>63.3</td>\n",
       "      <td>14.2</td>\n",
       "      <td>43.6</td>\n",
       "      <td>25.8</td>\n",
       "    </tr>\n",
       "    <tr>\n",
       "      <th>2</th>\n",
       "      <td>F</td>\n",
       "      <td>29</td>\n",
       "      <td>155.9</td>\n",
       "      <td>63.9</td>\n",
       "      <td>15.7</td>\n",
       "      <td>36.0</td>\n",
       "      <td>19.2</td>\n",
       "    </tr>\n",
       "    <tr>\n",
       "      <th>5</th>\n",
       "      <td>F</td>\n",
       "      <td>21</td>\n",
       "      <td>173.1</td>\n",
       "      <td>59.1</td>\n",
       "      <td>13.7</td>\n",
       "      <td>38.2</td>\n",
       "      <td>23.5</td>\n",
       "    </tr>\n",
       "    <tr>\n",
       "      <th>6</th>\n",
       "      <td>F</td>\n",
       "      <td>45</td>\n",
       "      <td>149.0</td>\n",
       "      <td>65.2</td>\n",
       "      <td>15.4</td>\n",
       "      <td>34.8</td>\n",
       "      <td>18.3</td>\n",
       "    </tr>\n",
       "    <tr>\n",
       "      <th>7</th>\n",
       "      <td>F</td>\n",
       "      <td>72</td>\n",
       "      <td>189.4</td>\n",
       "      <td>62.6</td>\n",
       "      <td>11.8</td>\n",
       "      <td>44.3</td>\n",
       "      <td>20.7</td>\n",
       "    </tr>\n",
       "  </tbody>\n",
       "</table>\n",
       "</div>"
      ],
      "text/plain": [
       "  Gender  Age  Weight  Height   Leg  Waist  Thigh\n",
       "0      F   52   231.0    63.3  14.2   43.6   25.8\n",
       "2      F   29   155.9    63.9  15.7   36.0   19.2\n",
       "5      F   21   173.1    59.1  13.7   38.2   23.5\n",
       "6      F   45   149.0    65.2  15.4   34.8   18.3\n",
       "7      F   72   189.4    62.6  11.8   44.3   20.7"
      ]
     },
     "execution_count": 18,
     "metadata": {},
     "output_type": "execute_result"
    }
   ],
   "source": [
    "women = (data.Gender=='F') # Define boolean series to select each gender from data\n",
    "men = ~women\n",
    "women = data.loc[women]\n",
    "men = data.loc[men]\n",
    "women.head()"
   ]
  },
  {
   "cell_type": "code",
   "execution_count": 19,
   "metadata": {
    "slideshow": {
     "slide_type": "subslide"
    }
   },
   "outputs": [
    {
     "data": {
      "image/png": "[encoded data removed]",
      "text/plain": [
       "<Figure size 432x288 with 1 Axes>"
      ]
     },
     "metadata": {
      "needs_background": "light"
     },
     "output_type": "display_data"
    }
   ],
   "source": [
    "# Examine a 2D cross-section of the data stratified by gender\n",
    "plt.scatter(men.Height, men.Weight, color='r', marker='o', linewidth=5, label='Men')\n",
    "plt.scatter(women.Height, women.Weight, color='b', marker='>', linewidth=5, label='Women')\n",
    "plt.grid(True)\n",
    "plt.legend(loc='upper left')\n",
    "plt.xlabel('Height [in]')\n",
    "plt.ylabel('Weight [lb]')\n",
    "plt.show()"
   ]
  },
  {
   "cell_type": "markdown",
   "metadata": {
    "slideshow": {
     "slide_type": "subslide"
    }
   },
   "source": [
    "Let's think of Weight as a dependent variable and construct a linear regression model using the other variables (except for gender; we've separated out the two categories of subjects) as independent variables. To do this, we'll subselect a sequence of columns from the DataFrame and use those to construct a regression."
   ]
  },
  {
   "cell_type": "code",
   "execution_count": 20,
   "metadata": {
    "slideshow": {
     "slide_type": "subslide"
    }
   },
   "outputs": [
    {
     "data": {
      "text/html": [
       "<div>\n",
       "<style scoped>\n",
       "    .dataframe tbody tr th:only-of-type {\n",
       "        vertical-align: middle;\n",
       "    }\n",
       "\n",
       "    .dataframe tbody tr th {\n",
       "        vertical-align: top;\n",
       "    }\n",
       "\n",
       "    .dataframe thead th {\n",
       "        text-align: right;\n",
       "    }\n",
       "</style>\n",
       "<table border=\"1\" class=\"dataframe\">\n",
       "  <thead>\n",
       "    <tr style=\"text-align: right;\">\n",
       "      <th></th>\n",
       "      <th>Age</th>\n",
       "      <th>Height</th>\n",
       "      <th>Leg</th>\n",
       "      <th>Thigh</th>\n",
       "      <th>Waist</th>\n",
       "    </tr>\n",
       "  </thead>\n",
       "  <tbody>\n",
       "    <tr>\n",
       "      <th>1</th>\n",
       "      <td>75</td>\n",
       "      <td>67.0</td>\n",
       "      <td>15.6</td>\n",
       "      <td>20.1</td>\n",
       "      <td>41.8</td>\n",
       "    </tr>\n",
       "    <tr>\n",
       "      <th>3</th>\n",
       "      <td>18</td>\n",
       "      <td>71.2</td>\n",
       "      <td>18.1</td>\n",
       "      <td>22.4</td>\n",
       "      <td>33.3</td>\n",
       "    </tr>\n",
       "    <tr>\n",
       "      <th>4</th>\n",
       "      <td>51</td>\n",
       "      <td>69.3</td>\n",
       "      <td>15.6</td>\n",
       "      <td>23.0</td>\n",
       "      <td>40.0</td>\n",
       "    </tr>\n",
       "    <tr>\n",
       "      <th>11</th>\n",
       "      <td>35</td>\n",
       "      <td>69.3</td>\n",
       "      <td>18.1</td>\n",
       "      <td>24.2</td>\n",
       "      <td>41.6</td>\n",
       "    </tr>\n",
       "    <tr>\n",
       "      <th>13</th>\n",
       "      <td>71</td>\n",
       "      <td>70.5</td>\n",
       "      <td>15.7</td>\n",
       "      <td>17.8</td>\n",
       "      <td>36.7</td>\n",
       "    </tr>\n",
       "  </tbody>\n",
       "</table>\n",
       "</div>"
      ],
      "text/plain": [
       "    Age  Height   Leg  Thigh  Waist\n",
       "1    75    67.0  15.6   20.1   41.8\n",
       "3    18    71.2  18.1   22.4   33.3\n",
       "4    51    69.3  15.6   23.0   40.0\n",
       "11   35    69.3  18.1   24.2   41.6\n",
       "13   71    70.5  15.7   17.8   36.7"
      ]
     },
     "execution_count": 20,
     "metadata": {},
     "output_type": "execute_result"
    }
   ],
   "source": [
    "n_men = len(men)\n",
    "cols = men.columns.symmetric_difference(['Gender', 'Weight'])\n",
    "men.loc[:,cols].head()"
   ]
  },
  {
   "cell_type": "code",
   "execution_count": 21,
   "metadata": {
    "slideshow": {
     "slide_type": "fragment"
    }
   },
   "outputs": [],
   "source": [
    "# Extract target y and matrix X\n",
    "y_men = men['Weight'].values.reshape((n_men,1))\n",
    "X_men = np.concatenate((np.ones((n_men,1),dtype=np.float64), men.loc[:, cols].values), axis=1)"
   ]
  },
  {
   "cell_type": "markdown",
   "metadata": {
    "slideshow": {
     "slide_type": "subslide"
    }
   },
   "source": [
    "Ready to solve $w_{LS} = (\\mathbf{X}^{T}\\mathbf{X})^{-1}\\mathbf{X}^{T}y$ as usual..."
   ]
  },
  {
   "cell_type": "code",
   "execution_count": 22,
   "metadata": {
    "slideshow": {
     "slide_type": "subslide"
    }
   },
   "outputs": [
    {
     "name": "stdout",
     "output_type": "stream",
     "text": [
      "[[-3.00986178e+02]\n",
      " [ 1.45697554e-01]\n",
      " [ 3.74458616e+00]\n",
      " [-4.03269304e+00]\n",
      " [ 7.39818255e+00]\n",
      " [ 3.52308659e+00]]\n"
     ]
    }
   ],
   "source": [
    "# Determine the regression weights\n",
    "w_men_LS = np.linalg.solve(np.matmul(X_men.T, X_men), np.dot(X_men.T, y_men))\n",
    "print(w_men_LS)"
   ]
  },
  {
   "cell_type": "code",
   "execution_count": 23,
   "metadata": {
    "slideshow": {
     "slide_type": "fragment"
    }
   },
   "outputs": [
    {
     "name": "stdout",
     "output_type": "stream",
     "text": [
      "RMSE_linalg = 5.685706002979626\n",
      "R-squared_linalg = 0.8486132247825345\n"
     ]
    }
   ],
   "source": [
    "y_pred = X_men.dot(w_men_LS)\n",
    "ss_r = np.linalg.norm(y_pred - y_men) ** 2\n",
    "ss_t = np.linalg.norm(y - y.mean()) ** 2\n",
    "rmse = np.sqrt(ss_r/n_men)\n",
    "print('RMSE_linalg = {}'.format(rmse))\n",
    "r2 = 1-(ss_r/ss_t)\n",
    "print('R-squared_linalg = {}'.format(r2))"
   ]
  },
  {
   "cell_type": "markdown",
   "metadata": {
    "slideshow": {
     "slide_type": "slide"
    }
   },
   "source": [
    "### Example: Polynomial regression\n",
    "\n",
    "As discussed in the lectures, linear regression is *linear* due to the linear dependence on the coefficients. It is possible to have determine coefficients of linear combinations of arbitrary nonlinear functions to fit data. This is appropriate to describe trends (e.g., periodicity) that cannot be described well by degree one polynomials.\n",
    "\n",
    "As an example, let's try to fit the following points on a rectangular pulse using polynomial functions."
   ]
  },
  {
   "cell_type": "markdown",
   "metadata": {
    "slideshow": {
     "slide_type": "subslide"
    }
   },
   "source": [
    "First, generate the data points for the rectangular pulse..."
   ]
  },
  {
   "cell_type": "code",
   "execution_count": 24,
   "metadata": {
    "slideshow": {
     "slide_type": "fragment"
    }
   },
   "outputs": [],
   "source": [
    "x = np.linspace(-5, 5, 11).reshape((11,1))\n",
    "y = np.zeros((11,1))\n",
    "y[3:6] = 1"
   ]
  },
  {
   "cell_type": "code",
   "execution_count": 25,
   "metadata": {
    "slideshow": {
     "slide_type": "fragment"
    }
   },
   "outputs": [
    {
     "data": {
      "image/png": "[encoded data removed]",
      "text/plain": [
       "<Figure size 432x288 with 1 Axes>"
      ]
     },
     "metadata": {
      "needs_background": "light"
     },
     "output_type": "display_data"
    }
   ],
   "source": [
    "plt.plot(x, y, 'rx', markersize=7.5)\n",
    "plt.axis('equal')\n",
    "plt.ylim([-5.5, 5.5])\n",
    "plt.xlim([-2, 2])\n",
    "plt.grid(True)\n",
    "plt.show()"
   ]
  },
  {
   "cell_type": "code",
   "execution_count": 26,
   "metadata": {
    "slideshow": {
     "slide_type": "subslide"
    }
   },
   "outputs": [
    {
     "name": "stdout",
     "output_type": "stream",
     "text": [
      "[[ 0.56410256]\n",
      " [-0.02727273]\n",
      " [-0.02913753]]\n"
     ]
    },
    {
     "data": {
      "image/png": "[encoded data removed]",
      "text/plain": [
       "<Figure size 432x288 with 1 Axes>"
      ]
     },
     "metadata": {
      "needs_background": "light"
     },
     "output_type": "display_data"
    }
   ],
   "source": [
    "n = len(x)\n",
    "X = np.hstack([x**k for k in range(3)])\n",
    "\n",
    "w2 = np.linalg.solve(np.dot(X.T, X), np.dot(X.T, y))\n",
    "print(w2)\n",
    "xx = np.linspace(-5.5, 5.5, 200).reshape((200,1))\n",
    "y2 = np.hstack((np.ones((200,1)), xx, xx**2)).dot(w2) # Evaluate on grid\n",
    "\n",
    "plt.plot(x, y, 'rx', markersize=7.5, label='data')\n",
    "plt.plot(xx, y2, 'b-', linewidth=3, label='deg. 2')\n",
    "plt.axis('equal')\n",
    "plt.legend(loc='lower right')\n",
    "plt.xlim([-5.5, 5.5])\n",
    "plt.ylim([-2, 2])\n",
    "plt.grid(True)\n",
    "plt.show()"
   ]
  },
  {
   "cell_type": "code",
   "execution_count": 27,
   "metadata": {
    "slideshow": {
     "slide_type": "subslide"
    }
   },
   "outputs": [
    {
     "name": "stdout",
     "output_type": "stream",
     "text": [
      "[[ 0.75291375]\n",
      " [-0.39965035]\n",
      " [-0.09469697]\n",
      " [ 0.04778555]\n",
      " [ 0.00262238]\n",
      " [-0.00128205]]\n"
     ]
    },
    {
     "data": {
      "image/png": "[encoded data removed]",
      "text/plain": [
       "<Figure size 432x288 with 1 Axes>"
      ]
     },
     "metadata": {
      "needs_background": "light"
     },
     "output_type": "display_data"
    }
   ],
   "source": [
    "X = np.hstack([x**k for k in range(6)])\n",
    "w5 = np.linalg.solve(np.dot(X.T, X), np.dot(X.T, y))\n",
    "print(w5)\n",
    "y5 = np.hstack((np.ones((200,1)), xx, xx**2, xx**3, xx**4, xx**5)).dot(w5) # Evaluate on grid\n",
    "\n",
    "plt.plot(x, y, 'rx', markersize=7.5, label='data')\n",
    "plt.plot(xx, y2, 'b-', linewidth=3, label='deg. 2')\n",
    "plt.plot(xx, y5, 'm.-', linewidth=3, label='deg. 5')\n",
    "plt.axis('equal')\n",
    "plt.legend(loc='lower right')\n",
    "plt.xlim([-5.5, 5.5])\n",
    "plt.ylim([-2, 2])\n",
    "plt.grid(True)\n",
    "plt.show()"
   ]
  },
  {
   "cell_type": "code",
   "execution_count": 28,
   "metadata": {
    "slideshow": {
     "slide_type": "subslide"
    }
   },
   "outputs": [
    {
     "name": "stdout",
     "output_type": "stream",
     "text": [
      "[[ 7.79038299e-01]\n",
      " [-5.95238095e-01]\n",
      " [-9.23702544e-02]\n",
      " [ 9.73875661e-02]\n",
      " [-3.13252494e-03]\n",
      " [-1.90972222e-03]\n",
      " [ 6.14895081e-04]\n",
      " [-2.48015873e-04]\n",
      " [-1.56641604e-05]\n",
      " [ 8.26719577e-06]]\n"
     ]
    },
    {
     "data": {
      "image/png": "[encoded data removed]",
      "text/plain": [
       "<Figure size 432x288 with 1 Axes>"
      ]
     },
     "metadata": {
      "needs_background": "light"
     },
     "output_type": "display_data"
    }
   ],
   "source": [
    "X = np.hstack([x**k for k in range(10)])\n",
    "w9 = np.linalg.solve(np.dot(X.T, X), np.dot(X.T, y))\n",
    "print(w9)\n",
    "y9 = np.hstack((np.ones((200,1)), xx, xx**2, xx**3, xx**4, \n",
    "                xx**5, xx**6, xx**7, xx**8, xx**9)).dot(w9) # Evaluate on grid\n",
    "\n",
    "plt.plot(x, y, 'rx', markersize=7.5, label='data')\n",
    "plt.plot(xx, y2, 'b-', linewidth=3, label='deg. 2')\n",
    "plt.plot(xx, y5, 'm.-', linewidth=3, label='deg. 5')\n",
    "plt.plot(xx, y9, 'k--', linewidth=3, label='deg. 9')\n",
    "plt.axis('equal')\n",
    "plt.legend(loc='lower right')\n",
    "plt.xlim([-5.5, 5.5])\n",
    "plt.ylim([-2, 2])\n",
    "plt.grid(True)\n",
    "plt.show()"
   ]
  },
  {
   "cell_type": "code",
   "execution_count": 29,
   "metadata": {
    "slideshow": {
     "slide_type": "subslide"
    }
   },
   "outputs": [
    {
     "name": "stdout",
     "output_type": "stream",
     "text": [
      "[ 0.56410256 -0.02727273 -0.02913753] [-0.02913753 -0.02727273  0.56410256]\n"
     ]
    }
   ],
   "source": [
    "w2_polyfit = np.polyfit(x.squeeze(), y.squeeze(), 2) # Find coefficients of degree 2 polynomial regression\n",
    "print(w2.squeeze(), w2_polyfit) # same coefficients, reverse order\n",
    "y2 = np.polyval(w2_polyfit,xx)"
   ]
  }
 ],
 "metadata": {
  "celltoolbar": "Slideshow",
  "kernelspec": {
   "display_name": "Python 3",
   "language": "python",
   "name": "python3"
  },
  "language_info": {
   "codemirror_mode": {
    "name": "ipython",
    "version": 3
   },
   "file_extension": ".py",
   "mimetype": "text/x-python",
   "name": "python",
   "nbconvert_exporter": "python",
   "pygments_lexer": "ipython3",
   "version": "3.7.0"
  }
 },
 "nbformat": 4,
 "nbformat_minor": 2
}
