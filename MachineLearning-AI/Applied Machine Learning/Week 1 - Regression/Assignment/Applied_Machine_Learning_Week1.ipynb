{
 "cells": [
  {
   "cell_type": "markdown",
   "metadata": {},
   "source": [
    "# Linear Regression - Least Squares  \n",
    "\n",
    "-------------  \n",
    "\n",
    "_Author: Khal Makhoul, W.P.G.Peterson_  \n",
    "\n",
    "## Project Guide\n",
    "----------------  \n",
    "- [Project Overview](#overview)\n",
    "- [Introduction and Review](#intro)\n",
    "- [Data Exploration](#data)  \n",
    "- [Coding Linear Regression](#code)\n",
    "\n",
    "<a id = \"overview\"></a>\n",
    "## Project Overview\n",
    "----------\n",
    "#### EXPECTED TIME 2 HRS\n",
    "\n",
    "This assignment will test your ability to code your own version of least squares regression in `Python`. After a brief review of some of the content from the lecture you will be asked to create a number of functions that will eventually be able to read in raw data to `Pandas` and perform a least squares regression on a subset of that data.  \n",
    "\n",
    "This will include:  \n",
    "- Calculating least squares weights\n",
    "- reading data on dist to return `Pandas` DataFrame  \n",
    "- select data by column  \n",
    "- implement column cutoffs  \n",
    "\n",
    "** Motivation**: Least squares regression offer a way to build a closed-form and interpretable model.  \n",
    "\n",
    "**Objectives**: This assignment will:\n",
    "- Test `Python` and `Pandas` competency\n",
    "- Ensure understanding of the mathematical foundations behind least squares regression  \n",
    "\n",
    "**Problem**: Using housing data, we will attempt to predict house price using living area with a regression model.  \n",
    "\n",
    "**Data**: Our data today comes from [Kaggle's House Prices Dataset](https://www.kaggle.com/c/house-prices-advanced-regression-techniques/data).  \n",
    "\n",
    "See above link for Description of data from `Kaggle`.  \n",
    "\n",
    "<a id = \"intro\"></a>\n",
    "### Introduction and Review\n",
    "\n",
    "As long as a few basic assumptions are fulfilled, linear regression using least squares is solvable exactly, without requiring approximation. \n",
    "\n",
    "This means that the equations presented in the week 1 lectures can be adapted directly to `Python` code, making this good practice both for using `Python` and translating an \"algorithm\" to code.\n",
    "\n",
    "We will use the matrix version of the least squares solution presented in lecture to derive the desired result. As a reminder, this expresses the least squares coefficients $w_{LS}$ as a vector, and calculates that vector as a function of $X$, the matrix of inputs, and $y$, the vector of outputs from the training set:\n",
    "\n",
    "$$w_{LS} = (X^T X)^{−1}X^T y,$$\n",
    "\n",
    "where $w_{LS}$ refers to the vector of weights we are trying to find, $X$ is the matrix of inputs, and $y$ is the output vector. \n",
    "\n",
    "In this equation, $X$ is always defined to have a vector of $1$ values as its first column. In other words, even when there is only one input value for each data point, $X$ takes the form:\n",
    "\n",
    "$$\n",
    "X = \\begin{bmatrix}\n",
    "1 \\  x_{11}  \\\\\n",
    "1 \\  x_{21}  \\\\\n",
    "\\vdots \\ \\vdots \\\\\n",
    "1 \\ x_{n1}\n",
    "\\end{bmatrix} \n",
    "$$\n",
    "\n",
    "For two inputs per data point, $X$ will take this form:\n",
    " \n",
    "$$\n",
    "X = \\begin{bmatrix}\n",
    "1 \\  x_{11} \\  x_{12} \\\\\n",
    "1 \\  x_{21} \\  x_{22} \\\\\n",
    "\\vdots \\ \\vdots \\\\\n",
    "1 \\ x_{n1} \\  x_{n2}\n",
    "\\end{bmatrix} \n",
    "$$\n",
    "\n",
    "\n",
    "\n",
    "\n",
    "Please refer to lecture notes for additional context.  \n",
    "<a id = \"data\"></a>\n",
    "### Data Exploration\n",
    "\n",
    "Before coding an algorithm, we will take a look at our data using `Python`'s `pandas`. For visualizations we'll use `matplotlib`. Familiarity with these modules will serve you well. The following cells include comments to explain the purpose of each step.\n"
   ]
  },
  {
   "cell_type": "code",
   "execution_count": 1,
   "metadata": {},
   "outputs": [
    {
     "data": {
      "text/plain": [
       "['.ipynb_checkpoints',\n",
       " 'Applied_Machine_Learning_Week1.ipynb',\n",
       " 'solution',\n",
       " 'test.csv',\n",
       " 'train.csv']"
      ]
     },
     "execution_count": 1,
     "metadata": {},
     "output_type": "execute_result"
    }
   ],
   "source": [
    "%matplotlib inline\n",
    "import numpy as np\n",
    "import pandas as pd\n",
    "import matplotlib.pyplot as plt\n",
    "import os\n",
    "plt.rcParams['figure.figsize'] = (20.0, 10.0)\n",
    "os.getcwd()\n",
    "os.listdir()"
   ]
  },
  {
   "cell_type": "code",
   "execution_count": 2,
   "metadata": {},
   "outputs": [
    {
     "name": "stdout",
     "output_type": "stream",
     "text": [
      "test.csv\n",
      "train.csv\n",
      "The length of train is 1460, and the length of test is 1459\n"
     ]
    }
   ],
   "source": [
    "for file in os.listdir():\n",
    "    if 'test' in file:\n",
    "        test = pd.read_csv(file)\n",
    "        print(file)\n",
    "    if 'train' in file:\n",
    "        train = pd.read_csv(file)\n",
    "        print(file)\n",
    "print('The length of train is {}, and the length of test is {}'.format(len(train),len(test)))"
   ]
  },
  {
   "cell_type": "code",
   "execution_count": 3,
   "metadata": {},
   "outputs": [
    {
     "name": "stdout",
     "output_type": "stream",
     "text": [
      "The length of train is 1460, and the length of test is 1459\n"
     ]
    }
   ],
   "source": [
    "data = []\n",
    "for file in os.listdir():\n",
    "    if file.endswith('csv'):\n",
    "        data.append(pd.DataFrame(pd.read_csv(file)))\n",
    "test, train = data[0], data[1]\n",
    "print('The length of train is {}, and the length of test is {}'.format(len(train),len(test)))"
   ]
  },
  {
   "cell_type": "code",
   "execution_count": 4,
   "metadata": {},
   "outputs": [
    {
     "name": "stdout",
     "output_type": "stream",
     "text": [
      "The length of train is 1460, and the length of test is 1459\n"
     ]
    }
   ],
   "source": [
    "data = [pd.DataFrame(pd.read_csv(file)) for file in os.listdir() if file.endswith('csv')]\n",
    "test, train = data[0], data[1]\n",
    "print('The length of train is {}, and the length of test is {}'.format(len(train),len(test)))"
   ]
  },
  {
   "cell_type": "code",
   "execution_count": 5,
   "metadata": {},
   "outputs": [
    {
     "data": {
      "image/png": "[encoded data removed]",
      "text/plain": [
       "<Figure size 432x288 with 1 Axes>"
      ]
     },
     "metadata": {},
     "output_type": "display_data"
    }
   ],
   "source": [
    "### We can plot the data as follows\n",
    "### Price v. living area\n",
    "### with matplotlib\n",
    "\n",
    "Y = train['SalePrice']\n",
    "X = train['GrLivArea']\n",
    "\n",
    "plt.scatter(X, Y, marker = \"x\")\n",
    "\n",
    "### Annotations\n",
    "plt.title(\"Sales Price vs. Living Area (excl. basement)\")\n",
    "plt.xlabel(\"GrLivArea\")\n",
    "plt.ylabel(\"SalePrice\");"
   ]
  },
  {
   "cell_type": "code",
   "execution_count": 6,
   "metadata": {},
   "outputs": [
    {
     "data": {
      "image/png": "[encoded data removed]",
      "text/plain": [
       "<Figure size 432x288 with 1 Axes>"
      ]
     },
     "metadata": {},
     "output_type": "display_data"
    }
   ],
   "source": [
    "### price v. year\n",
    "### Using Pandas\n",
    "\n",
    "train.plot('YearBuilt', 'SalePrice', kind = 'scatter', marker = 'x');"
   ]
  },
  {
   "cell_type": "markdown",
   "metadata": {},
   "source": [
    "# Coding Linear Regression"
   ]
  },
  {
   "cell_type": "markdown",
   "metadata": {},
   "source": [
    "### Invert the matrix of Training Data"
   ]
  },
  {
   "cell_type": "code",
   "execution_count": 7,
   "metadata": {},
   "outputs": [
    {
     "name": "stdout",
     "output_type": "stream",
     "text": [
      "From the Data [[ 0.71805779 -0.71157347 -0.37474287 -0.11359564  1.38457663]\n",
      " [ 1.6710053   0.34872662  0.97376657 -1.21939167  1.89553794]\n",
      " [-0.44945654 -3.10321346 -0.11214211 -1.94404702 -0.3847498 ]\n",
      " [-0.12943851  0.84772123 -0.35449149  0.20010273  1.34284471]\n",
      " [ 2.24100439  0.01970994 -0.38490525  0.08140752 -1.90526635]]\n",
      "The Inverse is [[ 0.29792825  0.12331851 -0.10475367 -0.18939142  0.22686597]\n",
      " [-0.65180459  0.11303754  0.05560362  0.78534642  0.18107618]\n",
      " [ 0.16039959  0.34186147 -0.38966428 -1.42157061 -0.46656385]\n",
      " [ 0.89316108 -0.24189323 -0.54316765 -1.13261126 -0.28017355]\n",
      " [ 0.34944346  0.06681958 -0.06712531  0.0241536  -0.17385953]]\n"
     ]
    }
   ],
   "source": [
    "def invert(mat):\n",
    "    return np.linalg.inv(mat)\n",
    "\n",
    "#Construct a matrix of random numbers\n",
    "x = []\n",
    "for i in range(5):\n",
    "    x.append([np.random.randn() for i in range(5)])\n",
    "x = np.array(x)\n",
    "#test the function\n",
    "print('From the Data {}'.format(x))\n",
    "print('The Inverse is {}'.format(invert(x)))"
   ]
  },
  {
   "cell_type": "code",
   "execution_count": 8,
   "metadata": {},
   "outputs": [],
   "source": [
    "def select_columns(data_frame, column_names):   \n",
    "    df = data_frame[column_names]\n",
    "    return df\n",
    "dat = select_columns(train, list(train.columns[0:9]) )"
   ]
  },
  {
   "cell_type": "markdown",
   "metadata": {},
   "source": [
    "# Different ways to subset Data"
   ]
  },
  {
   "cell_type": "code",
   "execution_count": 9,
   "metadata": {},
   "outputs": [],
   "source": [
    "def column_cutoff(data_frame, cutoffs):\n",
    "\n",
    "    names, max_, min_ = [] , [] , []\n",
    "    for cut in cutoffs:\n",
    "        names.append(cut[0])\n",
    "        min_.append(cut[1])\n",
    "        max_.append(cut[2])\n",
    "        \n",
    "    data_frame = data_frame[((data_frame[names[0]]<=max_[0]) & (data_frame[names[0]]>=min_[0]))\n",
    "                           &((data_frame[names[1]]<=max_[1]) & (data_frame[names[0]]>=min_[1]))]\n",
    "    \n",
    "    \n",
    "\n",
    "    return data_frame"
   ]
  },
  {
   "cell_type": "code",
   "execution_count": 10,
   "metadata": {},
   "outputs": [],
   "source": [
    "def column_cutoff_1(dataframe,cutoffs):\n",
    "    \n",
    "    data_subset = dataframe\n",
    "    \n",
    "    for column_limits in cutoffs:\n",
    "        data_subset = data_subset.loc[data_subset[column_limits[0]]>= column_limits[1],:]\n",
    "        data_subset = data_subset.loc[data_subset[column_limits[0]]<= column_limits[2],:]\n",
    "        \n",
    "    return data_subset"
   ]
  },
  {
   "cell_type": "code",
   "execution_count": 11,
   "metadata": {},
   "outputs": [],
   "source": [
    "def column_cutoff_2(dataframe,cutoffs):\n",
    "    if len(cutoffs) == 0:\n",
    "        return dataframe\n",
    "    \n",
    "    data_subset = dataframe\n",
    "    data_subset = data_subset[(data_subset[cutoffs[0][0]]>=cutoffs[0][1])&\n",
    "                             (data_subset[cutoffs[0][0]]<=cutoffs[0][2])]\n",
    "    return column_cutoff_2(dataframe,cutoffs[:-2])"
   ]
  },
  {
   "cell_type": "markdown",
   "metadata": {},
   "source": [
    "# Least Squares Estimation"
   ]
  },
  {
   "cell_type": "code",
   "execution_count": 21,
   "metadata": {},
   "outputs": [],
   "source": [
    "def least_squares_weights(input_x, target_y):\n",
    "    \n",
    "    if input_x.shape[1]>input_x.shape[0]:\n",
    "        \n",
    "        input_x = input_x.T\n",
    "        \n",
    "    if target_y.shape[1]>target_y.shape[0]:\n",
    "        \n",
    "        target_y = target_y.T\n",
    "\n",
    "    \n",
    "    y = np.array(target_y).reshape((len(np.array(target_y)), 1))\n",
    "    print('dimension of y is {}'.format(y.shape))\n",
    "    x = np.hstack((np.ones((len(np.array(input_x)),1),dtype = np.float64), np.array(input_x)))\n",
    "    print('dimension of x is {}'.format(x.shape))\n",
    "    #np.linalg.inv(x.T.dot(x)).dot(x.T.dot(y))\n",
    "    least_squares = np.linalg.solve(np.dot(x.T,x), np.dot(x.T,y))\n",
    "\n",
    "    return least_squares"
   ]
  },
  {
   "cell_type": "code",
   "execution_count": 22,
   "metadata": {},
   "outputs": [
    {
     "name": "stdout",
     "output_type": "stream",
     "text": [
      "dimension of y is (1451, 1)\n",
      "dimension of x is (1451, 2)\n",
      "[[13454.06670576]\n",
      " [  110.78992341]]\n"
     ]
    },
    {
     "data": {
      "text/plain": [
       "(2, 1)"
      ]
     },
     "execution_count": 22,
     "metadata": {},
     "output_type": "execute_result"
    }
   ],
   "source": [
    "df = train\n",
    "df_sub = select_columns(df, ['SalePrice', 'GrLivArea', 'YearBuilt'])\n",
    "\n",
    "cutoffs = [('SalePrice', 50000, 1e10), ('GrLivArea', 0, 4000)]\n",
    "df_sub_cutoff = column_cutoff(df_sub, cutoffs)\n",
    "\n",
    "X = df_sub_cutoff['GrLivArea'].values\n",
    "Y = df_sub_cutoff['SalePrice'].values\n",
    "\n",
    "### reshaping for input into function\n",
    "training_y = np.array([Y])\n",
    "training_x = np.array([X])\n",
    "\n",
    "weights = least_squares_weights(training_x, training_y)\n",
    "print(weights)\n",
    "weights.shape"
   ]
  },
  {
   "cell_type": "code",
   "execution_count": 15,
   "metadata": {},
   "outputs": [
    {
     "data": {
      "image/png": "[encoded data removed]",
      "text/plain": [
       "<Figure size 432x288 with 1 Axes>"
      ]
     },
     "metadata": {},
     "output_type": "display_data"
    }
   ],
   "source": [
    "max_X = np.max(X) + 500\n",
    "min_X = np.min(X) - 500\n",
    "\n",
    "### Choose points evenly spaced between min_x in max_x\n",
    "reg_x = np.linspace(min_X, max_X, 1000)\n",
    "\n",
    "### Use the equation for our line to calculate y values\n",
    "reg_y = weights[0][0] + weights[1][0] * reg_x\n",
    "\n",
    "plt.plot(reg_x, reg_y, color='#58b970', label='Regression Line')\n",
    "plt.scatter(X, Y, c='k', label='Data')\n",
    "\n",
    "plt.xlabel('GrLivArea')\n",
    "plt.ylabel('SalePrice')\n",
    "plt.legend()\n",
    "plt.show()"
   ]
  },
  {
   "cell_type": "markdown",
   "metadata": {},
   "source": [
    "# RMSE"
   ]
  },
  {
   "cell_type": "code",
   "execution_count": 16,
   "metadata": {},
   "outputs": [
    {
     "name": "stdout",
     "output_type": "stream",
     "text": [
      "53092.484869486616\n"
     ]
    }
   ],
   "source": [
    "rmse = 0\n",
    "\n",
    "b0 = weights[0][0]\n",
    "b1 = weights[1][0]\n",
    "\n",
    "for i in range(len(Y)):\n",
    "    y_pred = b0 + b1 * X[i]\n",
    "    rmse += (Y[i] - y_pred) ** 2\n",
    "rmse = np.sqrt(rmse/len(Y))\n",
    "print(rmse)"
   ]
  },
  {
   "cell_type": "markdown",
   "metadata": {},
   "source": [
    "# R^2"
   ]
  },
  {
   "cell_type": "code",
   "execution_count": 17,
   "metadata": {},
   "outputs": [
    {
     "name": "stdout",
     "output_type": "stream",
     "text": [
      "0.5163484562864966\n"
     ]
    }
   ],
   "source": [
    "ss_t = 0\n",
    "ss_r = 0\n",
    "\n",
    "mean_y = np.mean(Y)\n",
    "\n",
    "for i in range(len(Y)):\n",
    "    y_pred = b0 + b1 * X[i]\n",
    "    ss_t += (Y[i] - mean_y) ** 2\n",
    "    ss_r += (Y[i] - y_pred) ** 2\n",
    "r2 = 1 - (ss_r/ss_t)\n",
    "\n",
    "print(r2)"
   ]
  },
  {
   "cell_type": "code",
   "execution_count": 18,
   "metadata": {},
   "outputs": [
    {
     "name": "stdout",
     "output_type": "stream",
     "text": [
      "Intercept: 13454.066705758683\n",
      "Coefficient: [110.78992341]\n"
     ]
    }
   ],
   "source": [
    "from sklearn.linear_model import LinearRegression\n",
    "\n",
    "lr = LinearRegression()\n",
    "\n",
    "### sklearn requires a 2-dimensional X and 1 dimensional y. The below yeilds shapes of:\n",
    "### skl_X = (n,1); skl_Y = (n,)\n",
    "skl_X = df_sub_cutoff[['GrLivArea']]\n",
    "skl_Y = df_sub_cutoff['SalePrice']\n",
    "\n",
    "lr.fit(skl_X,skl_Y)\n",
    "print(\"Intercept:\", lr.intercept_)\n",
    "print(\"Coefficient:\", lr.coef_)"
   ]
  },
  {
   "cell_type": "code",
   "execution_count": null,
   "metadata": {},
   "outputs": [],
   "source": []
  }
 ],
 "metadata": {
  "kernelspec": {
   "display_name": "Python 3",
   "language": "python",
   "name": "python3"
  },
  "language_info": {
   "codemirror_mode": {
    "name": "ipython",
    "version": 3
   },
   "file_extension": ".py",
   "mimetype": "text/x-python",
   "name": "python",
   "nbconvert_exporter": "python",
   "pygments_lexer": "ipython3",
   "version": "3.6.4"
  }
 },
 "nbformat": 4,
 "nbformat_minor": 2
}
