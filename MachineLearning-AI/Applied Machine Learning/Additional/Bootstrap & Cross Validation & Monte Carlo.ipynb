{
 "cells": [
  {
   "cell_type": "markdown",
   "metadata": {},
   "source": [
    "# Basic Idea:\n",
    "- We generate a sample D from a population P\n",
    "- We want to know something about the population P, in the form of moments of the distribution\n",
    "- We calculate T(d), to get some sort of statistic maybe $\\theta$ or $\\sigma$\n",
    "- These parameters will vary depending on the values in our random sample D, so they themselves are random values\n",
    "- Therefore they will have a distribution, a sampling distribution\n",
    "- The formula for the standard error is something like this, but it is typically hard to derive forumals for these values\n",
    "- Therefore, we must repeadetly sample from the population to get a sense of the distrubtion\n",
    "## This is where Monte Carlo Principle comes in\n",
    "- $E[T(D)] =$ $1/n$ $\\sum_{i=1}^{n} T(D)$\n",
    "- The principle holds for the variance and other moments of the distribution \n",
    "\n",
    "http://www.stat.cmu.edu/~cshalizi/mreg/15/lectures/28/lecture-28.pdf"
   ]
  },
  {
   "cell_type": "markdown",
   "metadata": {},
   "source": [
    "### Monte Carlo Principle for evaluating integrals that do not have close formed solutions\n",
    "- Estimate the average integrand and use this to solve the integral, for a range of values\n",
    "- Evaluate the function at random inputs\n",
    "- Please see the below link for a more thorough explanation\n",
    "https://github.com/afeiguin/comp-phys/blob/master/10_01_montecarlo_integration.ipynb"
   ]
  },
  {
   "cell_type": "code",
   "execution_count": 1,
   "metadata": {},
   "outputs": [],
   "source": [
    "import math\n",
    "import numpy as np\n",
    "import random\n",
    "import pandas as pd\n",
    "import matplotlib.pyplot as plt\n",
    "\n",
    "\n",
    "def difficult_to_integrate(x):\n",
    "    '''\n",
    "    this is a difficult function to integrate, we can use monte carlo methods to estimate\n",
    "    '''\n",
    "    return (x**2*math.e**(x**(1/2))-(x*x/2)+x)"
   ]
  },
  {
   "cell_type": "code",
   "execution_count": 2,
   "metadata": {},
   "outputs": [],
   "source": [
    "def get_rand(a,b):\n",
    "    \n",
    "    '''\n",
    "    for the range(a,b), our limits of integration, generate a random point between\n",
    "    b is the upper limit, a is the lower limit\n",
    "    '''\n",
    "    range_ = b-a\n",
    "    rand_val = random.uniform(0,1)\n",
    "    return a + range_*rand_val"
   ]
  },
  {
   "cell_type": "code",
   "execution_count": 3,
   "metadata": {},
   "outputs": [
    {
     "data": {
      "text/plain": [
       "8.588808171758735"
      ]
     },
     "execution_count": 3,
     "metadata": {},
     "output_type": "execute_result"
    }
   ],
   "source": [
    "difficult_to_integrate(get_rand(0,5))"
   ]
  },
  {
   "cell_type": "code",
   "execution_count": 4,
   "metadata": {},
   "outputs": [],
   "source": [
    "def get_avg(a,b,n):\n",
    "    '''\n",
    "    generate random number\n",
    "    evaluate the function n times\n",
    "    take the average\n",
    "    '''\n",
    "    sum_of_function = 0\n",
    "    for i in range(n):\n",
    "        randy = get_rand(a,b)\n",
    "        evaluation = difficult_to_integrate(randy)\n",
    "        sum_of_function+=evaluation\n",
    "    aver = (b-a)*(sum_of_function/n)   \n",
    "    return aver\n",
    "    "
   ]
  },
  {
   "cell_type": "code",
   "execution_count": 5,
   "metadata": {},
   "outputs": [
    {
     "data": {
      "text/plain": [
       "1976.6992748873029"
      ]
     },
     "execution_count": 5,
     "metadata": {},
     "output_type": "execute_result"
    }
   ],
   "source": [
    "get_avg(0,8,100000)"
   ]
  },
  {
   "cell_type": "code",
   "execution_count": 6,
   "metadata": {},
   "outputs": [],
   "source": [
    "def get_var(a,b,n):\n",
    "    \n",
    "    # get the average of squares\n",
    "    running_total = 0\n",
    "    for i in range(n):\n",
    "        running_total += difficult_to_integrate(get_rand(a, b))**2\n",
    "    sum_of_sqs = running_total*(b-a) / n\n",
    "    \n",
    "    # get square of average\n",
    "    running_total = 0\n",
    "    for i in range(n):\n",
    "        running_total = difficult_to_integrate(get_rand(a, b))\n",
    "    sq_ave = ((b-a)*running_total/n)**2\n",
    "    \n",
    "    return sum_of_sqs - sq_ave"
   ]
  },
  {
   "cell_type": "code",
   "execution_count": 7,
   "metadata": {},
   "outputs": [
    {
     "data": {
      "text/plain": [
       "189.88341543175065"
      ]
     },
     "execution_count": 7,
     "metadata": {},
     "output_type": "execute_result"
    }
   ],
   "source": [
    "math.sqrt(get_var(0,5,10000))"
   ]
  },
  {
   "cell_type": "markdown",
   "metadata": {},
   "source": [
    "# Gradient Descent for Ridge Regression"
   ]
  },
  {
   "cell_type": "code",
   "execution_count": 195,
   "metadata": {},
   "outputs": [],
   "source": [
    "x = 2*np.random.rand(1000,1)\n",
    "y = 10+45*x + np.random.randn(1000,1)\n",
    "train = np.hstack((np.ones(len(x)).reshape(len(x), x.shape[1]),x))\n",
    "thet = np.random.rand(train.shape[1],1)"
   ]
  },
  {
   "cell_type": "code",
   "execution_count": 196,
   "metadata": {},
   "outputs": [],
   "source": [
    "def hypothesis(thetas, x):\n",
    "    \n",
    "    yhat = np.dot(x, thetas)\n",
    "    \n",
    "    return yhat"
   ]
  },
  {
   "cell_type": "code",
   "execution_count": 197,
   "metadata": {},
   "outputs": [],
   "source": [
    "def compute_cost( x, y, thetas, lam):\n",
    "    \"\"\"Compute the value of cost function, J.\n",
    "    Here J is total Least Square Error\n",
    "    \"\"\"\n",
    "    m = len(y)\n",
    "    cost = (1/2*m) * np.sum(np.square(hypothesis(thetas,x) - y)) + lam*np.dot(thetas.T, thetas)\n",
    "    return cost"
   ]
  },
  {
   "cell_type": "code",
   "execution_count": 199,
   "metadata": {},
   "outputs": [],
   "source": [
    "def gradient_descent(x, y, thet, lam, alpha,iters):\n",
    "        \n",
    "    costhistory = np.zeros((iters,1))\n",
    "    thetahistory = np.zeros((iters,len(thet)))\n",
    "    \n",
    "    for i in range(iters):\n",
    "        \n",
    "        thet = thet - (1/len(y)) * alpha * (x.T.dot((hypothesis(thet,x) - y))) + lam/len(y) * thet\n",
    "        cost_ = compute_cost( x, y, thet, lam)\n",
    "        costhistory[i] = cost_\n",
    "        thetahistory[i,:] = thet.T\n",
    "        \n",
    "    return (thet , costhistory)\n",
    "        \n",
    "    "
   ]
  },
  {
   "cell_type": "code",
   "execution_count": 212,
   "metadata": {},
   "outputs": [],
   "source": [
    "results = gradient_descent(train, y, thet, .1, .6,  100)"
   ]
  },
  {
   "cell_type": "code",
   "execution_count": 213,
   "metadata": {},
   "outputs": [
    {
     "name": "stdout",
     "output_type": "stream",
     "text": [
      "[[ 9.94642663]\n",
      " [45.05609412]]\n"
     ]
    },
    {
     "data": {
      "image/png": "[encoded data removed]",
      "text/plain": [
       "<Figure size 432x288 with 1 Axes>"
      ]
     },
     "metadata": {},
     "output_type": "display_data"
    }
   ],
   "source": [
    "plt.plot(results[1])\n",
    "print(results[0])\n",
    "plt.show()"
   ]
  },
  {
   "cell_type": "markdown",
   "metadata": {},
   "source": [
    "## Cross Validation\n",
    "\n",
    "What does it mean to partition your data set? With K-Folds? Suppose you have an array of len(n), and want k folds. You are essentially replicating the data K times, and removing n-m points randomly from the data. Lets say you have a list of length 20, and want 1 fold. This is simply your train-test case without cross validation. Some %threshold is specified, say 70%, the remaining 30% is now your test set. You train the model on the 70% and test it on the remaining 30%.\n",
    "\n",
    "We do this same procedure but for K folds of the data. "
   ]
  },
  {
   "cell_type": "code",
   "execution_count": 27,
   "metadata": {},
   "outputs": [],
   "source": [
    "import pandas as pd\n",
    "import random\n",
    "import math\n",
    "import numpy as np\n",
    "dicc = {'x':np.random.permutation(np.arange(1,100))[:50]}\n",
    "df = pd.DataFrame(dicc)\n",
    "df['y'] = 4 + 3*df['x'] + np.random.RandomState(42).normal(0, 1, len(df['x']))\n",
    "train = np.hstack((np.ones(len(df)).reshape(len(df), 1),df.values))"
   ]
  },
  {
   "cell_type": "code",
   "execution_count": 44,
   "metadata": {},
   "outputs": [],
   "source": [
    "import random\n",
    "def train_test_split(data, split, trainingSet = [], testSet = []):\n",
    "    for x in range(len(data)):\n",
    "        if random.random() < split:\n",
    "            trainingSet.append(data[x])\n",
    "        else:\n",
    "            testSet.append(data[x])\n",
    "    return trainingSet,testSet"
   ]
  },
  {
   "cell_type": "code",
   "execution_count": 1,
   "metadata": {},
   "outputs": [],
   "source": [
    "from random import shuffle\n",
    "\n",
    "def partition_k_fold(items, k):\n",
    "    \n",
    "    items = list(items)\n",
    "    shuffle(items)\n",
    "\n",
    "    slices = [items[i::k] for i in range(k)]\n",
    "\n",
    "    for i in range(k):\n",
    "        validation = slices[i]\n",
    "        training = [item for s in slices if s is not validation for item in s]\n",
    "        yield training, validation"
   ]
  }
 ],
 "metadata": {
  "kernelspec": {
   "display_name": "Python 3",
   "language": "python",
   "name": "python3"
  },
  "language_info": {
   "codemirror_mode": {
    "name": "ipython",
    "version": 3
   },
   "file_extension": ".py",
   "mimetype": "text/x-python",
   "name": "python",
   "nbconvert_exporter": "python",
   "pygments_lexer": "ipython3",
   "version": "3.6.4"
  }
 },
 "nbformat": 4,
 "nbformat_minor": 2
}
