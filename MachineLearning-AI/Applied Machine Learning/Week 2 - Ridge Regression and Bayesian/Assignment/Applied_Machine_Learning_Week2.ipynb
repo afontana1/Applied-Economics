{
 "cells": [
  {
   "cell_type": "code",
   "execution_count": 1,
   "metadata": {},
   "outputs": [
    {
     "data": {
      "text/plain": [
       "'C:\\\\Users\\\\Aj\\\\Documents\\\\Columbia - Applied Machine Learning\\\\Week 2\\\\Assignment'"
      ]
     },
     "execution_count": 1,
     "metadata": {},
     "output_type": "execute_result"
    }
   ],
   "source": [
    "import os\n",
    "from math import e\n",
    "import pandas as pd\n",
    "import numpy as np\n",
    "import matplotlib.pyplot as plt\n",
    "%matplotlib inline\n",
    "plt.rcParams['figure.figsize'] = (10.0, 10.0)\n",
    "os.getcwd()"
   ]
  },
  {
   "cell_type": "code",
   "execution_count": 2,
   "metadata": {},
   "outputs": [],
   "source": [
    "data = pd.read_csv('C:\\\\Users\\\\Aj\\\\Documents\\\\Columbia - Applied Machine Learning\\\\Week 2\\\\Data\\\\train.csv')"
   ]
  },
  {
   "cell_type": "code",
   "execution_count": 3,
   "metadata": {},
   "outputs": [
    {
     "data": {
      "text/plain": [
       "0    1453\n",
       "Name: PoolQC, dtype: int64"
      ]
     },
     "execution_count": 3,
     "metadata": {},
     "output_type": "execute_result"
    }
   ],
   "source": [
    "df = pd.DataFrame(data.isna().sum())\n",
    "df.loc[data.isna().sum().idxmax()]"
   ]
  },
  {
   "cell_type": "code",
   "execution_count": 4,
   "metadata": {},
   "outputs": [
    {
     "data": {
      "image/png": "[encoded data removed]",
      "text/plain": [
       "<Figure size 432x288 with 1 Axes>"
      ]
     },
     "metadata": {},
     "output_type": "display_data"
    }
   ],
   "source": [
    "data.plot('GrLivArea', 'SalePrice', kind = 'scatter', marker = 'x');"
   ]
  },
  {
   "cell_type": "code",
   "execution_count": 5,
   "metadata": {},
   "outputs": [],
   "source": [
    "ans1 = pd.DataFrame(data[[\"Street\", \"Alley\"]])\n"
   ]
  },
  {
   "cell_type": "code",
   "execution_count": 6,
   "metadata": {},
   "outputs": [],
   "source": [
    "def standardize(vec):\n",
    "    '''\n",
    "    Takes in a list of numbers\n",
    "    Outputs normalized numbers using mean and standard deviation\n",
    "    '''\n",
    "    \n",
    "    vec = np.array(vec)\n",
    "    \n",
    "    mu = np.mean(vec)\n",
    "    std = np.std(vec, ddof = 0)\n",
    "    \n",
    "    normal = (vec - mu)/ std\n",
    "    \n",
    "    normal1 = [(x-mu)/std for x in vec]\n",
    "    \n",
    "    return normal, normal1"
   ]
  },
  {
   "cell_type": "code",
   "execution_count": 7,
   "metadata": {},
   "outputs": [],
   "source": [
    "def preprocess_for_regularization1(data, y_column_name, x_column_names):\n",
    "    \n",
    "    '''\n",
    "    data = our entire dataframe\n",
    "    y_column_name = our target variable/ response variable\n",
    "    x_column_names = subset of data we wish to normalize\n",
    "    \n",
    "    '''\n",
    "    \n",
    "    if data[y_column_name].dtype != 'object':\n",
    "                \n",
    "        predict = np.round(data[y_column_name] - np.mean(data[y_column_name]),1)#demeaning the target\n",
    "        \n",
    "    else:\n",
    "        \n",
    "        return 'invalid target type'\n",
    "    \n",
    "    explanatory = data[x_column_names] # subset of data we care about\n",
    "    \n",
    "    explanatory = explanatory[~explanatory.isin(['NaN', 'NaT']).any(axis=1)]\n",
    "    \n",
    "    for name in explanatory.columns:\n",
    "        if explanatory[name].dtype != 'object' or explanatory[name] != y_column_name:\n",
    "            explanatory[name] = (explanatory[name] - np.mean(explanatory[name]))/ np.std(explanatory[name], ddof = 1)\n",
    "    final = pd.concat([explanatory, predict], axis = 1)\n",
    "    \n",
    "    return final"
   ]
  },
  {
   "cell_type": "code",
   "execution_count": 8,
   "metadata": {},
   "outputs": [],
   "source": [
    "def preprocess_for_regularization(data, y_column_name, x_column_names):\n",
    "    \n",
    "    toRetCol = x_column_names + [y_column_name]\n",
    "    \n",
    "    toRet = data[toRetCol].copy()\n",
    "    \n",
    "    y_mean = np.mean(data[y_column_name])\n",
    "    toRet[y_column_name] = data[y_column_name].apply(lambda x: x-y_mean)\n",
    "    \n",
    "    for column in x_column_names:\n",
    "        mean = np.mean(data[column])\n",
    "        std = np.std(data[column])\n",
    "        \n",
    "        toRet[column] = data[column].apply(lambda x: (x-mean)/std)\n",
    "    return toRet"
   ]
  },
  {
   "cell_type": "code",
   "execution_count": 9,
   "metadata": {},
   "outputs": [],
   "source": [
    "def ridge_regression_weights(input_x, output_y, lambda_param):\n",
    "\n",
    "    output_y = output_y.reshape((len(np.array(output_y)), 1))\n",
    "    \n",
    "    if input_x.shape[1]>input_x.shape[0]:\n",
    "        \n",
    "        input_x = np.array(input_x.T)\n",
    "        \n",
    "    if output_y.shape[1]>output_y.shape[0]:\n",
    "        \n",
    "        output_y = output_y.T   \n",
    "    \n",
    "    ones = np.ones(len(input_x)).reshape((len(np.array(input_x)), 1))\n",
    "    x = np.hstack((ones,input_x))\n",
    "    y = np.array(output_y)\n",
    "    lambda_identity = lambda_param*np.identity(len(x.T))\n",
    "    theInverse = np.linalg.inv(np.matmul(x.T,x)+lambda_identity)\n",
    "    w = np.matmul(np.matmul(theInverse, x.T), y)\n",
    "    \n",
    "    weights = np.array(w)\n",
    "    return weights\n"
   ]
  },
  {
   "cell_type": "code",
   "execution_count": 31,
   "metadata": {},
   "outputs": [
    {
     "data": {
      "text/plain": [
       "array([[-576.67947107],\n",
       "       [  77.45913349],\n",
       "       [  31.50189177]])"
      ]
     },
     "execution_count": 31,
     "metadata": {},
     "output_type": "execute_result"
    }
   ],
   "source": [
    "training_y = np.array([208500, 181500, 223500, \n",
    "                                140000, 250000, 143000, \n",
    "                                307000, 200000, 129900, \n",
    "                                118000])\n",
    "                                \n",
    "training_x = np.array([[1710, 1262, 1786, \n",
    "                                1717, 2198, 1362, \n",
    "                                1694, 2090, 1774, \n",
    "                                1077], \n",
    "                               [2003, 1976, 2001, \n",
    "                                1915, 2000, 1993, \n",
    "                                2004, 1973, 1931, \n",
    "                                1939]])\n",
    "lambda_param = 10\n",
    "        \n",
    "rrw = ridge_regression_weights(training_x, training_y, lambda_param)\n",
    "rrw"
   ]
  },
  {
   "cell_type": "code",
   "execution_count": 11,
   "metadata": {},
   "outputs": [],
   "source": [
    "def ridge_regression_weights1(input_x, output_y, lambda_param):\n",
    "    if input_x.shape[0] < input_x.shape[1]:\n",
    "        input_x = np.transpose(input_x)\n",
    "        \n",
    "    ones = np.ones((len(output_y),1),dtype = int)\n",
    "    \n",
    "    augmented_x = np.concatenate((ones,input_x), axis = 1)\n",
    "    \n",
    "    lambda_matrix = lambda_param*np.identity(min(augmented_x.shape))\n",
    "    \n",
    "    inv = np.linalg.inv(lambda_matrix + np.matmul(np.transpose(augmented_x), augmented_x))\n",
    "    \n",
    "    left_multiplier = np.matmul(inv, np.transpose(augmented_x))\n",
    "    \n",
    "    weights = np.matmul(left_multiplier, output_y)\n",
    "    \n",
    "    return weights\n",
    "    "
   ]
  },
  {
   "cell_type": "code",
   "execution_count": 30,
   "metadata": {},
   "outputs": [
    {
     "data": {
      "text/plain": [
       "array([-576.67947107,   77.45913349,   31.50189177])"
      ]
     },
     "execution_count": 30,
     "metadata": {},
     "output_type": "execute_result"
    }
   ],
   "source": [
    "rrw2 = ridge_regression_weights1(training_x, training_y, lambda_param)\n",
    "rrw2"
   ]
  },
  {
   "cell_type": "code",
   "execution_count": 12,
   "metadata": {},
   "outputs": [
    {
     "data": {
      "text/plain": [
       "(3,)"
      ]
     },
     "execution_count": 12,
     "metadata": {},
     "output_type": "execute_result"
    }
   ],
   "source": [
    "training_y = np.array([208500, 181500, 223500, \n",
    "                                140000, 250000, 143000, \n",
    "                                307000, 200000, 129900, \n",
    "                                118000])\n",
    "                                \n",
    "training_x = np.array([[1710, 1262, 1786, \n",
    "                                1717, 2198, 1362, \n",
    "                                1694, 2090, 1774, \n",
    "                                1077], \n",
    "                               [2003, 1976, 2001, \n",
    "                                1915, 2000, 1993, \n",
    "                                2004, 1973, 1931, \n",
    "                                1939]])\n",
    "lambda_param = 10\n",
    "        \n",
    "rrw = ridge_regression_weights1(training_x, training_y, lambda_param)\n",
    "rrw.shape"
   ]
  },
  {
   "cell_type": "code",
   "execution_count": 13,
   "metadata": {},
   "outputs": [],
   "source": [
    "### Example of hiden function below:\n",
    "\n",
    "### `hidden` takes a single number as a parameter (int or float) and returns a list of 1000 numbers\n",
    "### the input must be between 0 and 50 exclusive\n",
    "### all of the lambdas we will try out\n",
    "def hidden(hp):\n",
    "    if (hp<=0) or (hp >= 50):\n",
    "        print(\"input out of bounds\")\n",
    "    \n",
    "    nums = np.logspace(0,5,num = 1000)\n",
    "    vals = nums** 43.123985172351235134687934\n",
    "    \n",
    "    user_vals = nums** hp\n",
    "    \n",
    "    return vals-user_vals"
   ]
  },
  {
   "cell_type": "code",
   "execution_count": 21,
   "metadata": {},
   "outputs": [],
   "source": [
    "def minimize(passed_func):\n",
    "    \"\"\"\n",
    "    Find the numeric value that makes the mean of the\n",
    "    output array returned from 'passed_func' as close to 0 as possible.\n",
    "    \n",
    "    Positional Argument:\n",
    "        passed_func -- a function that takes a single number (between 0 and 50 exclusive)\n",
    "            as input, and returns a list of 1000 floats.\n",
    "        \n",
    "    Example:\n",
    "        passed_func = hidden\n",
    "        min_hidden = minimize(passed_func)\n",
    "        print(round(min_hidden,4))\n",
    "        #--> 43.1204 (answers will vary slightly, must be close to 43.123985172351)\n",
    "    \n",
    "    \"\"\"\n",
    "    test_vals = list(np.linspace(.1,49.9,1000))\n",
    "    \n",
    "    rets_vals = [abs(np.mean(passed_func(x))) for x in test_vals]\n",
    "    \n",
    "    min_mean = min(rets_vals)\n",
    "    \n",
    "    return test_vals[rets_vals.index(min_mean)]"
   ]
  },
  {
   "cell_type": "code",
   "execution_count": 22,
   "metadata": {},
   "outputs": [
    {
     "data": {
      "text/plain": [
       "43.120420420420416"
      ]
     },
     "execution_count": 22,
     "metadata": {},
     "output_type": "execute_result"
    }
   ],
   "source": [
    "minimize(hidden)"
   ]
  },
  {
   "cell_type": "code",
   "execution_count": 27,
   "metadata": {},
   "outputs": [
    {
     "data": {
      "text/plain": [
       "2.9414414414414414"
      ]
     },
     "execution_count": 27,
     "metadata": {},
     "output_type": "execute_result"
    }
   ],
   "source": [
    "def lambda_search_func(lambda_param):\n",
    "    \n",
    "    # Define X and y\n",
    "    # with preprocessing\n",
    "    df = preprocess_for_regularization(data.head(50),'SalePrice', ['GrLivArea','YearBuilt'])\n",
    "    \n",
    "    y_true = df['SalePrice'].values\n",
    "    X = df[['GrLivArea','YearBuilt']].values\n",
    "    \n",
    "    # Calculate Weights then use for predictions\n",
    "    weights = ridge_regression_weights1(X, y_true, lambda_param )\n",
    "    y_pred = weights[0] + np.matmul(X,weights[1:])\n",
    "    # Calculate Residuals\n",
    "    resid = y_true - y_pred\n",
    "    \n",
    "    # take absolute value to tune on mean-absolute-deviation\n",
    "    # Alternatively, could use:\n",
    "    # return resid **2-S\n",
    "    # for tuning on mean-squared-error\n",
    "    \n",
    "    return abs(resid)\n",
    "\n",
    "minimize(lambda_search_func)    # --> about 1.4957957957957957"
   ]
  },
  {
   "cell_type": "code",
   "execution_count": null,
   "metadata": {},
   "outputs": [],
   "source": []
  }
 ],
 "metadata": {
  "kernelspec": {
   "display_name": "Python 3",
   "language": "python",
   "name": "python3"
  },
  "language_info": {
   "codemirror_mode": {
    "name": "ipython",
    "version": 3
   },
   "file_extension": ".py",
   "mimetype": "text/x-python",
   "name": "python",
   "nbconvert_exporter": "python",
   "pygments_lexer": "ipython3",
   "version": "3.6.4"
  }
 },
 "nbformat": 4,
 "nbformat_minor": 2
}
