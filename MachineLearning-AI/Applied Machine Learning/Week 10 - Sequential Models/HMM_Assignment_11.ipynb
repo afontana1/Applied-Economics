{
    "cells": [
        {
            "cell_type": "markdown",
            "metadata": {
                "nbgrader": {
                    "grade": false,
                    "locked": true,
                    "solution": false
                },
                "editable": false,
                "deletable": false
            },
            "source": [
                "# Hidden Markov Models (HMMs)\n",
                "---\n",
                "\n",
                "_Authors: Carleton Smith_\n",
                "\n",
                "\n",
                "## Project Guide\n",
                "---\n",
                "- [Project Overview](#project-overview)    \n",
                "- [Part 1: Acquire, Explore, and Preprocess Data](#part1)\n",
                "- [Part 2: Components of a Hidden Markov Model](#part2)  \n",
                "- [Part 3: Estimating a Hidden Markov Model](#part3)\n",
                "\n",
                "\n",
                "<a id=\"project-overview\"><\/a>\n",
                "## Project Overview\n",
                "---\n",
                "#### EXPECTED TIME: 3 HRS  \n",
                "\n",
                "- Project Overview\n",
                "- Part 1: Exploring and discretizing data\n",
                "- Part 2: Components of a Hidden Markov Model \n",
                "- Part 3: Training a Hidden Markov Model\n",
                "\n",
                "This will include:\n",
                "-  Clustering\n",
                "-  Deciding the on the type of HMM problem\n",
                "-  Initializing and tuning HMM parameters\n",
                "\n",
                "\n",
                "**Motivation**: HMMs can be effective in solving problems in reinforcement learning and temporal pattern recognition.\n",
                "\n",
                "**Objectives**: By the end of this assignment, you will:\n",
                "- Understand the three problems HMMs can solve\n",
                "- Be able to learn a HMM parameters\n",
                "- Make predictions using a trained HMM\n",
                "\n",
                "**Problem**: Predict the weekly price of corn.\n",
                "\n",
                "\n",
                "**Dataset**: [_Weekly Corn Prices_](https:\/\/www.kaggle.com\/nickwong64\/corn2015-2017) from the Kaggle, courtesy of Nick Wong.  \n",
                "\n",
                "Dataset description as provided on Kaggle:\n",
                "\n",
                "---\n",
                "_Content_    \n",
                "The file composed of simply 2 columns. One is the date (weekend) and the other is corn close price. The period is from 2015-01-04 to 2017-10-01. The original data is downloaded from Quantopian corn futures price.\n",
                "\n",
                "_Inspiration_    \n",
                "William Gann: Time is the most important factor in determining market movements and by studying past price records you will be able to prove to yourself history does repeat and by knowing the past you can tell the future. There is a definite relation between price and time.\n",
                "\n",
                "Please see the [Data Folder](https:\/\/www.kaggle.com\/nickwong64\/corn2015-2017) to explore the data files further.\n",
                "\n",
                "---\n",
                "\n",
                "## Note on this project\n",
                "\n",
                "The implementation of a HMM from scratch can involve complex code that you might not entirely understand. By no means is this implementation intended to be the most robust and efficient. The assignment prioritizes the demonstation of the algorithm's steps while maintaining reproducibility. As such, certain tasks and features non-essential to the algorithm itself (ex: `Signature` and `Parameter` classes) are defined and implemented without explanation. Students are not expected to understand the entirety of the code base. Rather, students will be tested on their high level understanding of HMM and some critical functions."
            ]
        },
        {
            "cell_type": "code",
            "execution_count": null,
            "metadata": {
                "collapsed": true,
                "nbgrader": {
                    "grade": false,
                    "locked": true,
                    "solution": false
                },
                "editable": false,
                "deletable": false
            },
            "outputs": [],
            "source": [
                "# Import libraries\n",
                "import numpy as np\n",
                "import pandas as pd\n",
                "from collections import namedtuple\n",
                "from itertools import permutations, chain, product\n",
                "from sklearn.cluster import KMeans\n",
                "from inspect import Signature, Parameter"
            ]
        },
        {
            "cell_type": "code",
            "execution_count": null,
            "metadata": {
                "collapsed": true,
                "nbgrader": {
                    "grade": false,
                    "locked": true,
                    "solution": false
                },
                "editable": false,
                "deletable": false
            },
            "outputs": [],
            "source": [
                "# Define path constants\n",
                "ROOT_DIR = '..\/resource\/asnlib\/publicdata\/'\n",
                "CORN_2013_2017 = 'corn2013-2017.txt'\n",
                "CORN_2015_2017 = 'corn2015-2017.txt'\n",
                "OHL = 'corn_OHLC2013-2017.txt'"
            ]
        },
        {
            "cell_type": "markdown",
            "metadata": {
                "nbgrader": {
                    "grade": false,
                    "locked": true,
                    "solution": false
                },
                "editable": false,
                "deletable": false
            },
            "source": [
                "<a id=\"part1\"><\/a>\n",
                "## Part 1: Acquire, Explore, and Preprocess Data"
            ]
        },
        {
            "cell_type": "markdown",
            "metadata": {
                "nbgrader": {
                    "grade": false,
                    "locked": true,
                    "solution": false
                },
                "editable": false,
                "deletable": false
            },
            "source": [
                "### Acquire and Explore"
            ]
        },
        {
            "cell_type": "code",
            "execution_count": null,
            "metadata": {
                "collapsed": true,
                "nbgrader": {
                    "grade": false,
                    "locked": true,
                    "solution": false
                },
                "editable": false,
                "deletable": false
            },
            "outputs": [],
            "source": [
                "corn13_17 = pd.read_csv(ROOT_DIR+CORN_2013_2017, names = (\"week\",\"price\") )\n",
                "corn15_17 = pd.read_csv(ROOT_DIR+CORN_2015_2017, names = (\"week\",\"price\"))\n",
                "OHL_df = pd.read_csv(ROOT_DIR+OHL, names = (\"week\",\"open\",\"high\",\"low\",\"close\"))"
            ]
        },
        {
            "cell_type": "markdown",
            "metadata": {
                "nbgrader": {
                    "grade": false,
                    "locked": true,
                    "solution": false
                },
                "editable": false,
                "deletable": false
            },
            "source": [
                "We will be using just one of these data sets for the purposes of this assignment: `corn13_17`. Students should feel free to experiment on their own using the other datasets provided."
            ]
        },
        {
            "cell_type": "code",
            "execution_count": null,
            "metadata": {
                "collapsed": true,
                "nbgrader": {
                    "grade": false,
                    "locked": true,
                    "solution": false
                },
                "editable": false,
                "deletable": false
            },
            "outputs": [],
            "source": [
                "corn13_17.head()"
            ]
        },
        {
            "cell_type": "markdown",
            "metadata": {
                "nbgrader": {
                    "grade": false,
                    "locked": true,
                    "solution": false
                },
                "editable": false,
                "deletable": false
            },
            "source": [
                "Inspect the data for missing values."
            ]
        },
        {
            "cell_type": "code",
            "execution_count": null,
            "metadata": {
                "collapsed": true,
                "nbgrader": {
                    "grade": false,
                    "locked": true,
                    "solution": false
                },
                "editable": false,
                "deletable": false
            },
            "outputs": [],
            "source": [
                "corn13_17.info()"
            ]
        },
        {
            "cell_type": "markdown",
            "metadata": {
                "nbgrader": {
                    "grade": false,
                    "locked": true,
                    "solution": false
                },
                "editable": false,
                "deletable": false
            },
            "source": [
                "The data appear to be complete."
            ]
        },
        {
            "cell_type": "markdown",
            "metadata": {
                "nbgrader": {
                    "grade": false,
                    "locked": true,
                    "solution": false
                },
                "editable": false,
                "deletable": false
            },
            "source": [
                "### Preprocess: Discretization"
            ]
        },
        {
            "cell_type": "markdown",
            "metadata": {
                "nbgrader": {
                    "grade": false,
                    "locked": true,
                    "solution": false
                },
                "editable": false,
                "deletable": false
            },
            "source": [
                "As mention in Lecture 11-1, there are two types of HMM:\n",
                "1. Discrete HMM\n",
                "2. Continuous HMM\n",
                "\n",
                "The typical structure of a HMM involves a discrete number of latent (\"hidden\") states that are unobserved. The observations, which in our case are corn prices, are generated from a state dependent \"emission\" distribution. Emissions are synonymous with observations.\n",
                "\n",
                "In the discrete HMM case, the emissions are discrete values. Conversely, the continuous HMM outputs continuous emissions that are generated from the state dependent distribution, which is usually assumed to be Gaussian."
            ]
        },
        {
            "cell_type": "markdown",
            "metadata": {
                "nbgrader": {
                    "grade": false,
                    "locked": true,
                    "solution": false
                },
                "editable": false,
                "deletable": false
            },
            "source": [
                "#### Question 1"
            ]
        },
        {
            "cell_type": "code",
            "execution_count": null,
            "metadata": {
                "collapsed": true
            },
            "outputs": [],
            "source": [
                "### GRADED\n",
                "### TRUE or FALSE: The number of discrete states is a hyperparameter of a HMM.\n",
                "### Assign you answer as a boolean to ans1\n",
                "\n",
                "### YOUR ANSWER BELOW\n",
                "ans1 = None"
            ]
        },
        {
            "cell_type": "code",
            "execution_count": null,
            "metadata": {
                "collapsed": true,
                "nbgrader": {
                    "grade": true,
                    "grade_id": "Question 1",
                    "locked": true,
                    "points": "10",
                    "solution": false
                },
                "editable": false,
                "deletable": false
            },
            "outputs": [],
            "source": [
                "###\n",
                "### AUTOGRADER TEST - DO NOT REMOVE\n",
                "###\n"
            ]
        },
        {
            "cell_type": "markdown",
            "metadata": {
                "nbgrader": {
                    "grade": false,
                    "locked": true,
                    "solution": false
                },
                "editable": false,
                "deletable": false
            },
            "source": [
                "One use case for clustering is to discretize continuous HMM emissions in order to simplify the problem. We will do that in the next section.\n",
                "### Generate Clusters\n",
                "As noted in Lecture 11-4, clustering a sequence of continuous observations is a form of data quantization. This can simplify the learning of an HMM. Instead of calculating posterior probabilities from a continuous emissions sequence, the observation's respective cluster label is used as the observation. Thus, the emission probability matrix can be encoded as a discrete vector of probabilities.\n",
                "#### Question 2"
            ]
        },
        {
            "cell_type": "code",
            "execution_count": null,
            "metadata": {
                "collapsed": true
            },
            "outputs": [],
            "source": [
                "### GRADED\n",
                "### Create a function called `generate_cluster_assignments`\n",
                "### The function should take 2 parameters: \n",
                "###     1) pandas Series\n",
                "###     2) number of clusters\n",
                "### \n",
                "### The function should instantiate a sklearn KMeans class\n",
                "### with the specified number of clusters and a random_state=24.\n",
                "### \n",
                "### The function should return a pandas Series of cluster labels for each\n",
                "### observation in the sequence.\n",
                "### \n",
                "### A KMeans object can be instantiated via:\n",
                "### clusterer = KMeans(args)\n",
                "###\n",
                "### NB: That KMeans object has `.fit()` and `.predict()` methods\n",
                "###\n",
                "###\n",
                "### EX:\n",
                "###\n",
                "### data_series = pd.Series([1,2,3,2,1,2,3,2,1,2,3,2,1,2,3,2,1,6,7,\n",
                "###                         8,7,6,7,8,6,7,6,7,8,7,7,8,56,57,58,59,57,58,6,7,8,1,2])\n",
                "### labels = generate_cluster_assignments(data_series, clusters = 3)\n",
                "### \n",
                "### labels --> array([1, 1, 1, 1, 1, 1, 1, 1, 1, 1, 1, 1, 1, 1, 1, 1, 1, 2, 2, 2, 2, 2,\n",
                "###                   2, 2, 2, 2, 2, 2, 2, 2, 2, 2, 0, 0, 0, 0, 0, 0, 2, 2, 2, 1, 1])\n",
                "\n",
                "### NOTE: Your particular labels might not match exactly, but the CLUSTERS should be the same\n",
                "\n",
                "\n",
                "### YOUR ANSWERS BELOW\n",
                "def generate_cluster_assignments(ser, clusters):\n",
                "    pass"
            ]
        },
        {
            "cell_type": "code",
            "execution_count": null,
            "metadata": {
                "collapsed": true,
                "nbgrader": {
                    "grade": true,
                    "grade_id": "Question 2",
                    "locked": true,
                    "points": "25",
                    "solution": false
                },
                "editable": false,
                "deletable": false
            },
            "outputs": [],
            "source": [
                "###\n",
                "### AUTOGRADER TEST - DO NOT REMOVE\n",
                "###\n"
            ]
        },
        {
            "cell_type": "code",
            "execution_count": null,
            "metadata": {
                "collapsed": true,
                "nbgrader": {
                    "grade": false,
                    "locked": true,
                    "solution": false
                },
                "editable": false,
                "deletable": false
            },
            "outputs": [],
            "source": [
                "# Cluster 2013-2017\n",
                "corn13_17_seq = generate_cluster_assignments(corn13_17[['price']], 5)"
            ]
        },
        {
            "cell_type": "markdown",
            "metadata": {
                "nbgrader": {
                    "grade": false,
                    "locked": true,
                    "solution": false
                },
                "editable": false,
                "deletable": false
            },
            "source": [
                "<a id=\"part2\"><\/a>\n",
                "## Part 2: Components of a Hidden Markov Model"
            ]
        },
        {
            "cell_type": "markdown",
            "metadata": {
                "nbgrader": {
                    "grade": false,
                    "locked": true,
                    "solution": false
                },
                "editable": false,
                "deletable": false
            },
            "source": [
                "### HMM Parameters\n",
                "\n",
                "A HMM consists of 5 components:\n",
                "\n",
                "- N -- The number of hidden states\n",
                "- A -- State transition matrix  \n",
                "- B -- Emission probability matrix  \n",
                "- $\\pi$ -- Starting likelihood  \n",
                "- $(x_{i}, ..., x_{T})$ -- Sequence of emissions, or observations\n",
                "\n",
                "\n",
                "**N**: Number of hidden states - this is a discrete integer that the practitioner provides. This is the number of assumed hidden states.\n",
                "\n",
                "**A**: State transition matrix - With N==2, the transition matrix may look like the following\n",
                " \n",
                "- $\\begin{bmatrix}\n",
                "   . & S1 & S2 \\\\\\\n",
                "   S1 & .7 & .3 \\\\\\\n",
                "   S2 & .6 & .4\n",
                "  \\end{bmatrix}$\n",
                "\n",
                "  \n",
                "- The first row shows the probability of transitioning from state 1 --> (state 1=0.7, state 2=0.3)\n",
                "- The second row shows the probability of transitioning from state 2 --> (state 1=0.6, state 2=0.4).\n",
                "\n",
                "**B**: Emission probability Matrix - With M==4 (number of unique observations)\n",
                "\n",
                "- $\\begin{bmatrix}\n",
                "     . &a & b  &  c &  d \\\\\\ \n",
                "    S1 & .4 & .3 & .1 & .2 \\\\\\\n",
                "    S2 & .1 & .4 & .1 & .4\n",
                "  \\end{bmatrix}$\n",
                "\n",
                "\n",
                "- The rows correspond to state 1 and state 2, respectively. However, the columns in B correspond to the probability of that observation, given the respective state.\n",
                "- For example, the probability of observing $d$ in $S1$ == $0.2$\n",
                "\n",
                "**$\\pi$**: Initial state probabilities\n",
                "\n",
                "\n",
                "- $\\pi$ = $ \\begin{bmatrix}\n",
                "                       .5 \\\\\n",
                "                       .5\n",
                "                        \\end{bmatrix}$\n",
                "\n",
                "- This says the sequence of states is equally likely to start in $S1$ or $S2$\n",
                "\n",
                "**$(x_{i}, ..., x_{T})$**: This is the observed sequence.\n",
                "\n",
                "\n",
                "The only component of an HMM that will always be know is the sequence of observations, $(x_{i}, ..., x_{T})$. The type of HMM problem is determined by which of these components are known and the motivation of the problem. We will discuss the types of HMM problems next."
            ]
        },
        {
            "cell_type": "markdown",
            "metadata": {
                "nbgrader": {
                    "grade": false,
                    "locked": true,
                    "solution": false
                },
                "editable": false,
                "deletable": false
            },
            "source": [
                "#### Question 3"
            ]
        },
        {
            "cell_type": "code",
            "execution_count": null,
            "metadata": {
                "collapsed": true
            },
            "outputs": [],
            "source": [
                "### GRADED\n",
                "### Multiple Choice:\n",
                "### If `N` is the number of states, the shape of \"A\" (The transition matrix) will always be:\n",
                "### a: 2 x 2\n",
                "### b: N x N\n",
                "### c: N x number of unique observations\n",
                "### d: None of the above\n",
                "### \n",
                "### Assign the character associated with your choice as a string to to `ans4`\n",
                "\n",
                "### YOUR ANSWERS BELOW\n",
                "ans4 = ''"
            ]
        },
        {
            "cell_type": "code",
            "execution_count": null,
            "metadata": {
                "collapsed": true,
                "nbgrader": {
                    "grade": true,
                    "grade_id": "Question 3",
                    "locked": true,
                    "points": "10",
                    "solution": false
                },
                "editable": false,
                "deletable": false
            },
            "outputs": [],
            "source": [
                "###\n",
                "### AUTOGRADER TEST - DO NOT REMOVE\n",
                "###\n"
            ]
        },
        {
            "cell_type": "markdown",
            "metadata": {
                "nbgrader": {
                    "grade": false,
                    "locked": true,
                    "solution": false
                },
                "editable": false,
                "deletable": false
            },
            "source": [
                "#### Question 4"
            ]
        },
        {
            "cell_type": "code",
            "execution_count": null,
            "metadata": {
                "collapsed": true
            },
            "outputs": [],
            "source": [
                "### GRADED\n",
                "### Multiple Choice:\n",
                "### If `N` is the number of states, The shape of \"B\" (emission matrix) will always be:\n",
                "### a: 2 x 4\n",
                "### b: N x N\n",
                "### c: N x number of unique observations\n",
                "### d: None of the above\n",
                "### \n",
                "### assign your answer as a string to `ans5`\n",
                "\n",
                "### YOUR ANSWERS BELOW\n",
                "ans5 = ''"
            ]
        },
        {
            "cell_type": "code",
            "execution_count": null,
            "metadata": {
                "collapsed": true,
                "nbgrader": {
                    "grade": true,
                    "grade_id": "Question 4",
                    "locked": true,
                    "points": "10",
                    "solution": false
                },
                "editable": false,
                "deletable": false
            },
            "outputs": [],
            "source": [
                "###\n",
                "### AUTOGRADER TEST - DO NOT REMOVE\n",
                "###\n"
            ]
        },
        {
            "cell_type": "markdown",
            "metadata": {
                "nbgrader": {
                    "grade": false,
                    "locked": true,
                    "solution": false
                },
                "editable": false,
                "deletable": false
            },
            "source": [
                "### Types of Problems using HMM\n",
                "\n",
                "In Lecture 11-2, three HMM estimation problems are described.\n",
                "\n",
                "1. State Estimation\n",
                "2. State Sequence\n",
                "3. Learn an HMM\n",
                "\n",
                "We will briefly cover the motivation of each estimation problem."
            ]
        },
        {
            "cell_type": "markdown",
            "metadata": {
                "nbgrader": {
                    "grade": false,
                    "locked": true,
                    "solution": false
                },
                "editable": false,
                "deletable": false
            },
            "source": [
                "**1. State Estimation**: \n",
                "\n",
                "- Given an HMM ($\\pi$, _A_, *B*), and an observation sequence $(x_{i}, ..., x_{T})$\n",
                "- Estimate the state probability for $x_{i}$"
            ]
        },
        {
            "cell_type": "markdown",
            "metadata": {
                "nbgrader": {
                    "grade": false,
                    "locked": true,
                    "solution": false
                },
                "editable": false,
                "deletable": false
            },
            "source": [
                "**2. State Sequence**: \n",
                "\n",
                "- Given an HMM ($\\pi$, _A_, *B*), and an observation sequence $(x_{i}, ..., x_{T})$\n",
                "- Estimate the most probable state sequence"
            ]
        },
        {
            "cell_type": "markdown",
            "metadata": {
                "nbgrader": {
                    "grade": false,
                    "locked": true,
                    "solution": false
                },
                "editable": false,
                "deletable": false
            },
            "source": [
                "**3. Learn an HMM**: \n",
                "\n",
                "- Given an observation sequence $(x_{i}, ..., x_{T})$\n",
                "- Estimate the HMM parameters ($\\pi$, _A_, *B*)"
            ]
        },
        {
            "cell_type": "markdown",
            "metadata": {
                "nbgrader": {
                    "grade": false,
                    "locked": true,
                    "solution": false
                },
                "editable": false,
                "deletable": false
            },
            "source": [
                "#### Question 5"
            ]
        },
        {
            "cell_type": "code",
            "execution_count": null,
            "metadata": {
                "collapsed": true
            },
            "outputs": [],
            "source": [
                "### GRADED\n",
                "### Multiple Choice: Which of the following HMM problems \n",
                "### use the Forward-Backward Algorithm to estimate the solution?\n",
                "###\n",
                "### HINT: This is covered in 11-2\n",
                "### \n",
                "### a: State Estimation\n",
                "### b: State Sequence\n",
                "### c: Learn an HMM\n",
                "### d: None of the above\n",
                "### e: All of the above\n",
                "### \n",
                "### list all that apply as 'a', 'b', 'c', 'd', and\/or 'e' in \n",
                "### the list assigned to ans6\n",
                "\n",
                "### YOUR ANSWERS BELOW\n",
                "ans6 = []"
            ]
        },
        {
            "cell_type": "code",
            "execution_count": null,
            "metadata": {
                "collapsed": true,
                "nbgrader": {
                    "grade": true,
                    "grade_id": "Question 5",
                    "locked": true,
                    "points": "12",
                    "solution": false
                },
                "editable": false,
                "deletable": false
            },
            "outputs": [],
            "source": [
                "###\n",
                "### AUTOGRADER TEST - DO NOT REMOVE\n",
                "###\n"
            ]
        },
        {
            "cell_type": "markdown",
            "metadata": {
                "nbgrader": {
                    "grade": false,
                    "locked": true,
                    "solution": false
                },
                "editable": false,
                "deletable": false
            },
            "source": [
                "#### Question 6"
            ]
        },
        {
            "cell_type": "code",
            "execution_count": null,
            "metadata": {
                "collapsed": true
            },
            "outputs": [],
            "source": [
                "### GRADED\n",
                "### Multiple Choice: Which of the following HMM problems \n",
                "### use the Viterbi Algorithm to estimate the solution?\n",
                "###\n",
                "### HINT: This is covered in 11-2\n",
                "### \n",
                "### a: State Estimation\n",
                "### b: State Sequence\n",
                "### c: Learn an HMM\n",
                "### d: None of the above\n",
                "### e: All of the above\n",
                "### \n",
                "### list all that apply as 'a', 'b', 'c', 'd', and\/or 'e' in \n",
                "### the list assigned to ans7\n",
                "\n",
                "### YOUR ANSWERS BELOW\n",
                "ans7 = []"
            ]
        },
        {
            "cell_type": "code",
            "execution_count": null,
            "metadata": {
                "collapsed": true,
                "nbgrader": {
                    "grade": true,
                    "grade_id": "Question 6",
                    "locked": true,
                    "points": "12",
                    "solution": false
                },
                "editable": false,
                "deletable": false
            },
            "outputs": [],
            "source": [
                "###\n",
                "### AUTOGRADER TEST - DO NOT REMOVE\n",
                "###\n"
            ]
        },
        {
            "cell_type": "markdown",
            "metadata": {
                "nbgrader": {
                    "grade": false,
                    "locked": true,
                    "solution": false
                },
                "editable": false,
                "deletable": false
            },
            "source": [
                "<a id=\"part3\"><\/a>\n",
                "## Part 3: Estimating a Hidden Markov Model"
            ]
        },
        {
            "cell_type": "markdown",
            "metadata": {
                "nbgrader": {
                    "grade": false,
                    "locked": true,
                    "solution": false
                },
                "editable": false,
                "deletable": false
            },
            "source": [
                "In this section, you will be guided through an exercise of the third HMM estimation problem: Learn an HMM. We will use the the Corn Prices 2013-2017 dataset from Kaggle as our sequence of observations.\n",
                "\n",
                "Question 3 of Part 1 asked you to make a function that will quantize a Pandas Series into a specified number of clusters. We will use this function now to discretize our price data into 5 clusters."
            ]
        },
        {
            "cell_type": "code",
            "execution_count": null,
            "metadata": {
                "collapsed": true,
                "nbgrader": {
                    "grade": false,
                    "locked": true,
                    "solution": false
                },
                "editable": false,
                "deletable": false
            },
            "outputs": [],
            "source": [
                "# Cluster 2013-2017\n",
                "corn13_17_seq = generate_cluster_assignments(corn13_17[['price']], 5)\n",
                "corn13_17_seq"
            ]
        },
        {
            "cell_type": "markdown",
            "metadata": {
                "nbgrader": {
                    "grade": false,
                    "locked": true,
                    "solution": false
                },
                "editable": false,
                "deletable": false
            },
            "source": [
                "**NOTE:** Quite a few functions are provided in the following cells. It is not imperative that you completely understand how each of them work. Many of them are helper functions that perform a specific task within another function. What is important is that you understand the procedure that is occuring to estimate the HMM parameters. Those steps are laid out in the next section."
            ]
        },
        {
            "cell_type": "markdown",
            "metadata": {
                "nbgrader": {
                    "grade": false,
                    "locked": true,
                    "solution": false
                },
                "editable": false,
                "deletable": false
            },
            "source": [
                "### Steps for Learning a HMM\n",
                "\n",
                "The Expectation Maximization (EM) algorithm is used to estimate the parameters of a HMM given a sequence of observations (aka emissions). Here are the general steps for this procedure:\n",
                "\n",
                "\n",
                "1. Initialize a set of parameters for the HMM ($\\pi$, _A_, *B*)\n",
                "2. Conduct the EM algorithm:\n",
                "    - The E Step: Use forward-backward algorithm to calculate the probability of observing the emissions with the given HMM parameters ($\\pi$, _A_, *B*)\n",
                "    - The M Step: Update the HMM parameters so that the sequence of observations are more likely to have come from this particular HMM\n",
                "3. Repeat steps 1 and 2 until the HMM parameters have converged.\n",
                "<br>\n",
                "\n",
                "\n",
                "The remaining parts of this assignment will perform this procedure."
            ]
        },
        {
            "cell_type": "markdown",
            "metadata": {
                "nbgrader": {
                    "grade": false,
                    "locked": true,
                    "solution": false
                },
                "editable": false,
                "deletable": false
            },
            "source": [
                "### Important Constant: Number of Unique States"
            ]
        },
        {
            "cell_type": "code",
            "execution_count": null,
            "metadata": {
                "collapsed": true,
                "nbgrader": {
                    "grade": false,
                    "locked": true,
                    "solution": false
                },
                "editable": false,
                "deletable": false
            },
            "outputs": [],
            "source": [
                "# Almost all functions require this constant as an argument\n",
                "STATE_LIST = ['S1', 'S2']\n",
                "\n",
                "# Initialze state transition probabilities (2 states)\n",
                "STATE_TRANS_PROBS = [0.4, 0.6, 0.35, 0.55]"
            ]
        },
        {
            "cell_type": "markdown",
            "metadata": {
                "nbgrader": {
                    "grade": false,
                    "locked": true,
                    "solution": false
                },
                "editable": false,
                "deletable": false
            },
            "source": [
                "### Helper Functions\n",
                "\n",
                "These functions are used to perform common tasks."
            ]
        },
        {
            "cell_type": "code",
            "execution_count": null,
            "metadata": {
                "collapsed": true,
                "nbgrader": {
                    "grade": false,
                    "locked": true,
                    "solution": false
                },
                "editable": false,
                "deletable": false
            },
            "outputs": [],
            "source": [
                "# given a list with unique items, this function will return a new list with all permutations\n",
                "def make_state_permutations(list_of_unique_states):\n",
                "    l1 = [''.join(tup) for tup in permutations(list_of_unique_states, 2)]\n",
                "    l2 = [state+state for state in list_of_unique_states]\n",
                "    return sorted(l1 + l2)\n",
                "\n",
                "# helper function in EM function\n",
                "def _grab_highest_prob_and_state(state_permutations_lst, prob_arr):\n",
                "    return (prob_arr[np.argmax(prob_arr)], state_permutations_lst[np.argmax(prob_arr)])"
            ]
        },
        {
            "cell_type": "markdown",
            "metadata": {
                "nbgrader": {
                    "grade": false,
                    "locked": true,
                    "solution": false
                },
                "editable": false,
                "deletable": false
            },
            "source": [
                "The following two functions transform a dictionary to a different format."
            ]
        },
        {
            "cell_type": "code",
            "execution_count": null,
            "metadata": {
                "collapsed": true,
                "nbgrader": {
                    "grade": false,
                    "locked": true,
                    "solution": false
                },
                "editable": false,
                "deletable": false
            },
            "outputs": [],
            "source": [
                "def dict_to_tuples(list_of_unique_states, d):\n",
                "    \"\"\"\n",
                "    list_of_unique_states: List of unique state names, as strings\n",
                "    d: Dictionary of state transition probabilities\n",
                "    \n",
                "    \n",
                "    EXAMPLE:\n",
                "    s_perms = ['S1S1', 'S1S2', 'S2S1', 'S2S2']\n",
                "    p_list = [0.1, 0.9, 0.4, 0.6]\n",
                "    d = {'S1S1': 0.1, 'S1S2': 0.9, 'S2S1': 0.4, 'S2S2': 0.6}\n",
                "    \n",
                "    print(dict_to_tuples(d))\n",
                "    \n",
                "    OUTPUT:\n",
                "    {S1: (0.1, 0.9), S2: (0.4, 0.6)}\n",
                "    \"\"\"\n",
                "    \n",
                "    # Defensive programming to ensure output will be correct\n",
                "    list_of_unique_states = sorted(list_of_unique_states)\n",
                "    assert make_state_permutations(list_of_unique_states) == list(d.keys()), \\\n",
                "            \"Keys of dictionary must match output of `make_state_permutations(list_of_unique_states)`\"\n",
                "    \n",
                "    lengths = [len(st) for st in list_of_unique_states]\n",
                "    final_dict = {}\n",
                "    for idx, st in enumerate(list_of_unique_states):\n",
                "        tup = []\n",
                "        for trans_p in d.keys():\n",
                "            if trans_p[:lengths[idx]] == st:\n",
                "                tup.append(d[trans_p])\n",
                "            else:\n",
                "                continue\n",
                "        final_dict[st] = tuple(tup)\n",
                "        \n",
                "    return final_dict\n",
                "    "
            ]
        },
        {
            "cell_type": "code",
            "execution_count": null,
            "metadata": {
                "collapsed": true,
                "nbgrader": {
                    "grade": false,
                    "locked": true,
                    "solution": false
                },
                "editable": false,
                "deletable": false
            },
            "outputs": [],
            "source": [
                "def obs_to_tuples(list_of_unique_states, d, sequence):\n",
                "    \"\"\"\n",
                "    list_of_unique_states: List of unique state names, as strings\n",
                "    d: Dictionary of obs transition probabilities\n",
                "    sequence: the observation sequence\n",
                "    \n",
                "    \n",
                "    EXAMPLE:\n",
                "    STATE_LIST = ['S1', 'S2']\n",
                "    d = {'S1_0': 0.1,\n",
                "         'S1_1': 0.3,\n",
                "         'S1_2': 0.4,\n",
                "         'S1_3': 0.15,\n",
                "         'S1_4': 0.05,\n",
                "         'S2_0': 0.15,\n",
                "         'S2_1': 0.2,\n",
                "         'S2_2': 0.3,\n",
                "         'S2_3': 0.05,\n",
                "         'S2_4': 0.3}\n",
                "    corn15_17_seq = generate_cluster_assignments(corn15_17[['price']], 5)\n",
                "    \n",
                "    print(obs_to_tuples(STATE_LIST, d))\n",
                "    \n",
                "    OUTPUT:\n",
                "    {'S1': (0.1, 0.3, 0.4, 0.15, 0.05), 'S2': (0.15, 0.2, 0.3, 0.05, 0.3)}\n",
                "    \"\"\"\n",
                "    \n",
                "    # Defensive programming to ensure output will be correct\n",
                "    list_of_unique_states = sorted(list_of_unique_states)\n",
                "    num_unique_obs = len(np.unique(sequence))\n",
                "    \n",
                "    lengths = [len(st) for st in list_of_unique_states]\n",
                "    final_dict = {}\n",
                "    for idx, st in enumerate(list_of_unique_states):\n",
                "        tup = []\n",
                "        for e_trans in d.keys():\n",
                "            if e_trans[:lengths[idx]] == st:\n",
                "                tup.append(d[e_trans])\n",
                "            else:\n",
                "                continue\n",
                "        final_dict[st] = tuple(tup)\n",
                "        \n",
                "    return final_dict"
            ]
        },
        {
            "cell_type": "markdown",
            "metadata": {
                "nbgrader": {
                    "grade": false,
                    "locked": true,
                    "solution": false
                },
                "editable": false,
                "deletable": false
            },
            "source": [
                "### Define Transition Functions\n",
                "\n",
                "The following three function definitions (all starting with `generate`) will be used to create our initial HMM parameters ($\\pi$, $A$, $B$) in the form of a dictionary.\n",
                "\n",
                "\n",
                "The functions are flexible enough to create ($\\pi$, $A$, $B$) from user specified values, or provide default uniform probability vectors if no values are explicitly given in the `**kwargs` argument.\n",
                "\n"
            ]
        },
        {
            "cell_type": "markdown",
            "metadata": {
                "nbgrader": {
                    "grade": false,
                    "locked": true,
                    "solution": false
                },
                "editable": false,
                "deletable": false
            },
            "source": [
                "#### An Aside: Why dictionaries and not arrays?\n",
                "\n",
                "Dictionaries were the selected as the data structure for this exercise instead of arrays for efficiency and accuracy. The functions defined for this procedure involve retrieving values from data structures frequently and altering existing values. This is best done in a dictionary vs an array because dictionaries utilize hashing functions to look up data instead of indexed positions.\n",
                "\n",
                "To demonstate the speed benefits of using dictionaries to retrieve values, consider the time needed to retrieve a piece of data from both an array and a dictionary in the following exercise."
            ]
        },
        {
            "cell_type": "code",
            "execution_count": null,
            "metadata": {
                "collapsed": true,
                "nbgrader": {
                    "grade": false,
                    "locked": true,
                    "solution": false
                },
                "editable": false,
                "deletable": false
            },
            "outputs": [],
            "source": [
                "import timeit\n",
                "\n",
                "all_setup = \"\"\"\n",
                "\n",
                "import numpy as np\n",
                "\n",
                "# These hold the same information\n",
                "arr = np.array([[0.4, 0.6], [0.35, 0.55]])\n",
                "d = {'S1S1': 0.4, 'S1S2': 0.6, 'S2S1': 0.35, 'S2S2': 0.55}\n",
                "\n",
                "\"\"\"\n",
                "i = 10_000_000\n",
                "index_an_array = 'arr[0,0]'\n",
                "retrieve_value = \"d['S1S1']\"\n",
                "\n",
                "print('Seconds to index an array {} times: {}'.format(\n",
                "    i, timeit.timeit(setup=all_setup, stmt=index_an_array, number=i)))\n",
                "\n",
                "print('\\n','#' * 60, '\\n')\n",
                "print('Seconds to retrieve value {} times: {}'.format(i, timeit.timeit(setup=all_setup, stmt=retrieve_value, number=i)))\n"
            ]
        },
        {
            "cell_type": "markdown",
            "metadata": {
                "nbgrader": {
                    "grade": false,
                    "locked": true,
                    "solution": false
                },
                "editable": false,
                "deletable": false
            },
            "source": [
                "**The following functions produce initial probabilities for ($\\pi$, $A$, $B$)**"
            ]
        },
        {
            "cell_type": "code",
            "execution_count": null,
            "metadata": {
                "collapsed": true,
                "nbgrader": {
                    "grade": false,
                    "locked": true,
                    "solution": false
                },
                "editable": false,
                "deletable": false
            },
            "outputs": [],
            "source": [
                "def generate_state_trans_dict(list_of_unique_states, **kwargs):\n",
                "    '''\n",
                "    \n",
                "    'list_of_unique_states': list of states as strings\n",
                "    ''**kwargs': keyword being the state and value is tuple of state transitions.\n",
                "    <Must be listed in same order as listed in 'list_of_unique_states'>\n",
                "    \n",
                "    If **kwargs omitted, transitions are given uniform distribution based on\n",
                "    number of states.\n",
                "    \n",
                "    EXAMPLE1:\n",
                "    state_params = generate_state_trans_dict(['S1', 'S2', 'S3'])\n",
                "    \n",
                "    OUTPUT1:\n",
                "    {'S1S1': 0.5, 'S2S2': 0.5, 'S1S2': 0.5, 'S2S1': 0.5}\n",
                "     \n",
                "    EXAMPLE2:\n",
                "    state_params = generate_state_trans_dict(['S1', 'S2'], S1=(0.1, 0.9), S2=(0.4, 0.6))\n",
                "    \n",
                "    OUTPUT2:\n",
                "    {'S1S1': 0.1, 'S1S2': 0.9, 'S2S1': 0.4, 'S2S2': 0.6}\n",
                "    \n",
                "    '''\n",
                "    # number of states\n",
                "    N = len(list_of_unique_states)\n",
                "    \n",
                "    # this runs if specific transitions are provided\n",
                "    if kwargs:\n",
                "        state_perms = [''.join(tup) for tup in permutations(list(kwargs.keys()), 2)]\n",
                "        all_permutations = [state+state for state in list_of_unique_states] + state_perms\n",
                "        pbs = chain.from_iterable(kwargs.values())\n",
                "        state_trans_dict = {perm:p for perm, p in zip(sorted(all_permutations), pbs)}\n",
                "        return state_trans_dict\n",
                "    \n",
                "    state_perms = [''.join(tup) for tup in permutations(list_of_unique_states, 2)]\n",
                "    all_permutations = [state+state for state in list_of_unique_states] + state_perms\n",
                "    state_trans_dict = {perm: (1\/N) for perm in all_permutations}\n",
                "    return state_trans_dict"
            ]
        },
        {
            "cell_type": "code",
            "execution_count": null,
            "metadata": {
                "collapsed": true,
                "nbgrader": {
                    "grade": false,
                    "locked": true,
                    "solution": false
                },
                "editable": false,
                "deletable": false
            },
            "outputs": [],
            "source": [
                "def generate_emission_prob_dist(list_of_unique_states, sequence, **kwargs):\n",
                "    '''\n",
                "    list_of_unique_states: list of states as strings\n",
                "    sequence: array of observations\n",
                "    \n",
                "    EXAMPLE1:\n",
                "    corn15_17_seq = generate_cluster_assignments(corn15_17[['price']])\n",
                "    STATE_LIST = ['S1', 'S2']\n",
                "    \n",
                "    generate_emission_prob_dist(STATE_LIST, corn15_17_seq, S1=(0.1, 0.3, 0.4, 0.15, 0.05))\n",
                "    \n",
                "    OUTPUT1:\n",
                "    {'S1_0': 0.1,\n",
                "     'S1_1': 0.3,\n",
                "     'S1_2': 0.4,\n",
                "     'S1_3': 0.05,\n",
                "     'S1_4': 0.05,\n",
                "     'S2_0': 0.2,\n",
                "     'S2_1': 0.2,\n",
                "     'S2_2': 0.2,\n",
                "     'S2_3': 0.2,\n",
                "     'S2_4': 0.2}\n",
                "    '''\n",
                "    # number of unique obs\n",
                "    B = list(np.unique(sequence).astype(str))\n",
                "    \n",
                "    # this runs if specific transitions are provided\n",
                "    if kwargs:\n",
                "        for t in kwargs.values():\n",
                "            assert len(t) == len(B), \"Must provide all probabilities for unique emissions in given state.\"\n",
                "            assert round(np.sum(t)) == 1.0, \"Given emission probabilities for a state must add up to 1.0\"\n",
                "        for k in kwargs.keys():\n",
                "            assert k in list_of_unique_states, \"Keyword arguments must match a value included in `list_of_unique_states`\"\n",
                "        diff = list(set(list_of_unique_states).difference(kwargs.keys()))\n",
                "        \n",
                "        pbs = chain.from_iterable(kwargs.values())\n",
                "        obs_perms = [state + '_' + str(obs) for state in kwargs.keys() for obs in B]\n",
                "        \n",
                "        obs_trans_dict = {perm:p for perm, p in zip(sorted(obs_perms), pbs)}\n",
                "        \n",
                "        if diff:\n",
                "            obs_perms_diff = [state + '_' + obs for state in diff for obs in B]\n",
                "            obs_trans_dict.update({perm: (1\/len(B)) for perm in obs_perms_diff})\n",
                "            \n",
                "        return obs_trans_dict\n",
                "    \n",
                "    obs_perms = [state + '_' + obs for state in list_of_unique_states for obs in B]\n",
                "    obs_trans_dict = {perm: (1\/len(B)) for perm in obs_perms}\n",
                "    return obs_trans_dict"
            ]
        },
        {
            "cell_type": "code",
            "execution_count": null,
            "metadata": {
                "collapsed": true,
                "nbgrader": {
                    "grade": false,
                    "locked": true,
                    "solution": false
                },
                "editable": false,
                "deletable": false
            },
            "outputs": [],
            "source": [
                "\n",
                "def generate_init_prob_dist(list_of_unique_states, **kwargs):\n",
                "    \"\"\"\n",
                "    Examples:\n",
                "    STATE_LIST = ['S0','S1','S2','S3','S4']\n",
                "    initial_states = {'S1':.2, 'S2':.3, 'S3':.05, 'S4':.25, 'S0':.2}\n",
                "    \n",
                "    print(generate_init_prob_dist(STATE_LIST))\n",
                "    # --> {'S0': 0.2, 'S1': 0.2, 'S2': 0.2, 'S3': 0.2, 'S4': 0.2}\n",
                "    \n",
                "    print(generate_init_prob_dist(STATE_LIST, **initial_states))  ### NOTE: must unpack dictionary with **\n",
                "    # --> {'S1': 0.2, 'S2': 0.3, 'S3': 0.05, 'S4': 0.25, 'S0': 0.2}\n",
                "    \"\"\"\n",
                "    \n",
                "    # number of states\n",
                "    N = len(list_of_unique_states)\n",
                "    \n",
                "    # this runs if specific transitions are provided\n",
                "    if kwargs:\n",
                "        for t in kwargs.values():\n",
                "            assert isinstance(t, float), \"Must provide probabilities as floats.\"\n",
                "            assert t > 0, \"Probabilities must be greater than 0.\"\n",
                "        assert np.sum(list(kwargs.values())) == 1.0, \"Given probabilities must add up to 1.0\"\n",
                "        assert len(kwargs) == len(list_of_unique_states), \"Please provide initial probabilities for all states, or leave blank\"\n",
                "        \n",
                "        # build the prob dictionary\n",
                "        init_prob_dict = {item[0]: item[1] for item in kwargs.items()}\n",
                "        return init_prob_dict\n",
                "    \n",
                "    init_prob_dist = {state: (1\/N) for state in list_of_unique_states}\n",
                "    return init_prob_dist"
            ]
        },
        {
            "cell_type": "markdown",
            "metadata": {
                "nbgrader": {
                    "grade": false,
                    "locked": true,
                    "solution": false
                },
                "editable": false,
                "deletable": false
            },
            "source": [
                "### Create State Transition Priors"
            ]
        },
        {
            "cell_type": "code",
            "execution_count": null,
            "metadata": {
                "collapsed": true,
                "nbgrader": {
                    "grade": false,
                    "locked": true,
                    "solution": false
                },
                "editable": false,
                "deletable": false
            },
            "outputs": [],
            "source": [
                "# Make permutations of state transition (this len should match len(STATE_TRANS_PROBS))\n",
                "state_transitions_list = make_state_permutations(STATE_LIST)\n",
                "\n",
                "# Create transition matrix in form of dictionary\n",
                "state_transition_probs = {\n",
                "    trans: prob for trans, prob in zip(state_transitions_list, STATE_TRANS_PROBS)\n",
                "}\n",
                "\n",
                "state_transition_probs"
            ]
        },
        {
            "cell_type": "markdown",
            "metadata": {
                "nbgrader": {
                    "grade": false,
                    "locked": true,
                    "solution": false
                },
                "editable": false,
                "deletable": false
            },
            "source": [
                "The dictionary shown above is the state transition \"matrix\" formated as a dictionary. This dictonary can be represented in another format as well, which will be convenient when provided as a `**kwargs` argument. This transformation occurs with the function `dict_to_tuples` in the cell below."
            ]
        },
        {
            "cell_type": "code",
            "execution_count": null,
            "metadata": {
                "collapsed": true,
                "nbgrader": {
                    "grade": false,
                    "locked": true,
                    "solution": false
                },
                "editable": false,
                "deletable": false
            },
            "outputs": [],
            "source": [
                "# Transform dictionary to be in tuple format\n",
                "#### - this format is required in the `generate_*` functions used later\n",
                "A_prior = dict_to_tuples(STATE_LIST, state_transition_probs)\n",
                "A_prior"
            ]
        },
        {
            "cell_type": "markdown",
            "metadata": {
                "nbgrader": {
                    "grade": false,
                    "locked": true,
                    "solution": false
                },
                "editable": false,
                "deletable": false
            },
            "source": [
                "#### NOTE ON FORMATTING\n",
                "\n",
                "Some functions in this assignment require the transition probabilities be in a specific format. We will switch between two formats that hold the same information:\n",
                "<br>\n",
                "\n",
                "With 2 states:\n",
                "<br>\n",
                "\n",
                "**Format 1**: `{'S1S1': 0.4, 'S1S2': 0.6, 'S2S1': 0.35, 'S2S2': 0.55}`\n",
                "\n",
                "The above dictionary is the state transition matrix in dictionary form, where every key is a transition from one state to another. For example, the key-value pair, `'S1S2': 0.6`, says the probability of the state moving from `S1` to `S2` from observation `i` to observation `j` is `0.6`.\n",
                "<br>\n",
                "<br>\n",
                "**Format 2**: `{'S1': (0.4, 0.6), 'S2': (0.35, 0.55)}`    \n",
                "\n",
                "The second format contains the same information as the first, but encodes the probabilities in tuples. With only two states and assuming `S1` is the first state, `'S1': (0.4, 0.6)` is interpreted as the probability of staying in `S1` is 0.4 and the probability of moving from `S1` to `S2` is 0.6. "
            ]
        },
        {
            "cell_type": "markdown",
            "metadata": {
                "nbgrader": {
                    "grade": false,
                    "locked": true,
                    "solution": false
                },
                "editable": false,
                "deletable": false
            },
            "source": [
                "### Create Emission Probability  Priors"
            ]
        },
        {
            "cell_type": "code",
            "execution_count": null,
            "metadata": {
                "collapsed": true,
                "nbgrader": {
                    "grade": false,
                    "locked": true,
                    "solution": false
                },
                "editable": false,
                "deletable": false
            },
            "outputs": [],
            "source": [
                "# Manually initialize emission probabilities - in format 1\n",
                "B_format1 = {\n",
                "    'S1_0': 0.1,\n",
                "    'S1_1': 0.3,\n",
                "    'S1_2': 0.4,\n",
                "    'S1_3': 0.15,\n",
                "    'S1_4': 0.05,\n",
                "    'S2_0': 0.15,\n",
                "    'S2_1': 0.2,\n",
                "    'S2_2': 0.3,\n",
                "    'S2_3': 0.05,\n",
                "    'S2_4': 0.3\n",
                "}"
            ]
        },
        {
            "cell_type": "markdown",
            "metadata": {
                "nbgrader": {
                    "grade": false,
                    "locked": true,
                    "solution": false
                },
                "editable": false,
                "deletable": false
            },
            "source": [
                "The emission probabilities can be stored in dictionary format as well. Using the function `obs_to_tuples()` function in the cell below, we convert the emission probabilities to a dictionary format that is well suited to be provided as an argument in `**kwargs`."
            ]
        },
        {
            "cell_type": "code",
            "execution_count": null,
            "metadata": {
                "collapsed": true,
                "nbgrader": {
                    "grade": false,
                    "locked": true,
                    "solution": false
                },
                "editable": false,
                "deletable": false
            },
            "outputs": [],
            "source": [
                "# Convert emission matrix to format 2\n",
                "B_format2 = obs_to_tuples(STATE_LIST, B_format1, corn13_17_seq)\n",
                "B_format2"
            ]
        },
        {
            "cell_type": "markdown",
            "metadata": {
                "nbgrader": {
                    "grade": false,
                    "locked": true,
                    "solution": false
                },
                "editable": false,
                "deletable": false
            },
            "source": [
                "The emission probabilities can be converted back to the format of `B_format1` using the previously defined `generate_emission_prob_dist` function. This is demonstrated in the following cell:"
            ]
        },
        {
            "cell_type": "code",
            "execution_count": null,
            "metadata": {
                "collapsed": true,
                "nbgrader": {
                    "grade": false,
                    "locked": true,
                    "solution": false
                },
                "editable": false,
                "deletable": false
            },
            "outputs": [],
            "source": [
                "# Use `generate_emission_prob_dist` to convert B back to format 1\n",
                "generate_emission_prob_dist(STATE_LIST, corn13_17_seq, **B_format2)"
            ]
        },
        {
            "cell_type": "markdown",
            "metadata": {
                "nbgrader": {
                    "grade": false,
                    "locked": true,
                    "solution": false
                },
                "editable": false,
                "deletable": false
            },
            "source": [
                "We will keep the emission probabilities in the `\"key\": tuple` format so that it can be used easily as a `**kwargs` argument later."
            ]
        },
        {
            "cell_type": "code",
            "execution_count": null,
            "metadata": {
                "collapsed": true,
                "nbgrader": {
                    "grade": false,
                    "locked": true,
                    "solution": false
                },
                "editable": false,
                "deletable": false
            },
            "outputs": [],
            "source": [
                "B_prior = obs_to_tuples(STATE_LIST, B_format1, corn13_17_seq)"
            ]
        },
        {
            "cell_type": "markdown",
            "metadata": {
                "nbgrader": {
                    "grade": false,
                    "locked": true,
                    "solution": false
                },
                "editable": false,
                "deletable": false
            },
            "source": [
                "### Let's recap.\n",
                "\n",
                "A fair amount of setup has already occurred and we have not yet started the HMM Learning procedure. Let's take a moment to recap the important elements we have established so far."
            ]
        },
        {
            "cell_type": "markdown",
            "metadata": {
                "nbgrader": {
                    "grade": false,
                    "locked": true,
                    "solution": false
                },
                "editable": false,
                "deletable": false
            },
            "source": [
                "**We have a state transition matrix, $A$ (prior for $A$)**"
            ]
        },
        {
            "cell_type": "code",
            "execution_count": null,
            "metadata": {
                "collapsed": true,
                "nbgrader": {
                    "grade": false,
                    "locked": true,
                    "solution": false
                },
                "editable": false,
                "deletable": false
            },
            "outputs": [],
            "source": [
                "A_prior"
            ]
        },
        {
            "cell_type": "markdown",
            "metadata": {
                "nbgrader": {
                    "grade": false,
                    "locked": true,
                    "solution": false
                },
                "editable": false,
                "deletable": false
            },
            "source": [
                "**We have an emissions probability matrix, $B$ (prior for $B$)**"
            ]
        },
        {
            "cell_type": "code",
            "execution_count": null,
            "metadata": {
                "collapsed": true,
                "nbgrader": {
                    "grade": false,
                    "locked": true,
                    "solution": false
                },
                "editable": false,
                "deletable": false
            },
            "outputs": [],
            "source": [
                "B_prior"
            ]
        },
        {
            "cell_type": "markdown",
            "metadata": {
                "nbgrader": {
                    "grade": false,
                    "locked": true,
                    "solution": false
                },
                "editable": false,
                "deletable": false
            },
            "source": [
                "**We need an initial state probability matrix, $\\pi$. We will use `generate_init_prob_dist` to do this.**\n",
                "\n",
                "We can also use the `generate_init_prob_dist` function without specified parameters to make uniform initial state probabilities.\n",
                "\n",
                "_Note: If `pi__init` is not provided, a uniform distribution is produced based on number of states._"
            ]
        },
        {
            "cell_type": "code",
            "execution_count": null,
            "metadata": {
                "collapsed": true,
                "nbgrader": {
                    "grade": false,
                    "locked": true,
                    "solution": false
                },
                "editable": false,
                "deletable": false
            },
            "outputs": [],
            "source": [
                "# User specified initial probabilities\n",
                "pi__init = {'S1': 0.4 , 'S2': 0.6}\n",
                "\n",
                "# generate the dictionary holding initial state probabilities\n",
                "pi = generate_init_prob_dist(STATE_LIST, **pi__init)\n",
                "pi"
            ]
        },
        {
            "cell_type": "code",
            "execution_count": null,
            "metadata": {
                "collapsed": true,
                "nbgrader": {
                    "grade": false,
                    "locked": true,
                    "solution": false
                },
                "editable": false,
                "deletable": false
            },
            "outputs": [],
            "source": [
                "# Using default initial parameters - demonstration only, we won't save this dictionary\n",
                "generate_init_prob_dist(STATE_LIST)"
            ]
        },
        {
            "cell_type": "markdown",
            "metadata": {
                "nbgrader": {
                    "grade": false,
                    "locked": true,
                    "solution": false
                },
                "editable": false,
                "deletable": false
            },
            "source": [
                "**And we have defined a number of functions that will be involved in the EM algorithm in some way**\n",
                "\n",
                "_Constants_:    \n",
                "STATE_LIST    \n",
                "STATE_TRANS_PROBS     \n",
                "\n",
                "_Functions_:    \n",
                "`generate_cluster_assignments`    \n",
                "`make_state_permutations`    \n",
                "`_grab_highest_prob_and_state`    \n",
                "`dict_to_tuples`    \n",
                "`obs_to_tuples`    \n",
                "`generate_state_trans_dict`    \n",
                "`generate_emission_prob_dist`    \n",
                "`generate_init_prob_dist`    "
            ]
        },
        {
            "cell_type": "markdown",
            "metadata": {
                "nbgrader": {
                    "grade": false,
                    "locked": true,
                    "solution": false
                },
                "editable": false,
                "deletable": false
            },
            "source": [
                "**Finally, we need to create a data structure that will hold all of our probability calculations until we are finished computing E Step**\n",
                "\n",
                "For this task, we will take advantage of a powerful data structure from the `collections` module: `namedtuple`."
            ]
        },
        {
            "cell_type": "markdown",
            "metadata": {
                "nbgrader": {
                    "grade": false,
                    "locked": true,
                    "solution": false
                },
                "editable": false,
                "deletable": false
            },
            "source": [
                "#### NAMED TUPLES\n",
                "\n",
                "Take a few minutes to review the [documentation](https:\/\/docs.python.org\/3.6\/library\/collections.html#collections.namedtuple) on `namedtuples`. Then answer the following question.\n",
                "\n",
                "Alternatively, for a short and helpful introduction, review [this tutorial](https:\/\/dbader.org\/blog\/writing-clean-python-with-namedtuples).\n",
                "\n"
            ]
        },
        {
            "cell_type": "markdown",
            "metadata": {
                "nbgrader": {
                    "grade": false,
                    "locked": true,
                    "solution": false
                },
                "editable": false,
                "deletable": false
            },
            "source": [
                "#### Question 7"
            ]
        },
        {
            "cell_type": "code",
            "execution_count": null,
            "metadata": {
                "collapsed": true,
                "nbgrader": {
                    "grade": false,
                    "locked": true,
                    "solution": false
                },
                "editable": false,
                "deletable": false
            },
            "outputs": [],
            "source": [
                "# Consider the following array of probabilities:\n",
                "probs = np.array([0.3, 0.7])"
            ]
        },
        {
            "cell_type": "code",
            "execution_count": null,
            "metadata": {
                "collapsed": true
            },
            "outputs": [],
            "source": [
                "### GRADED\n",
                "\n",
                "###########\n",
                "### NOTE: This question has a very low point-total; it will not impact your ability\n",
                "### to pass this assignment. It should be considered something of an \n",
                "### optional extension.\n",
                "###########\n",
                "\n",
                "### Create a namedtuple factory called 'State' that \n",
                "### has two field names: `prob1` and `prob2`.\n",
                "### \n",
                "### After defining the factory, instantiate an instance\n",
                "### of the 'State' factory called `s1` and store the two probabilities \n",
                "### contained in the array `probs` (defined above) to \n",
                "### the `prob1` and `prob2` field names, respectively.\n",
                "### \n",
                "### assign the value of the `prob1` field name to `ans8` below.\n",
                "###\n",
                "### EXAMPLE (after creating and instantiating):\n",
                "### print(s1.prob1)  --> 0.3\n",
                "### ans8 = s1.prob1\n",
                "\n",
                "\n",
                "### YOUR ANSWERS BELOW\n",
                "s1 = ''\n",
                "ans8 = ''"
            ]
        },
        {
            "cell_type": "code",
            "execution_count": null,
            "metadata": {
                "collapsed": true,
                "nbgrader": {
                    "grade": true,
                    "grade_id": "Question 7",
                    "locked": true,
                    "points": "1",
                    "solution": false
                },
                "editable": false,
                "deletable": false
            },
            "outputs": [],
            "source": [
                "###\n",
                "### AUTOGRADER TEST - DO NOT REMOVE\n",
                "###\n"
            ]
        },
        {
            "cell_type": "markdown",
            "metadata": {
                "nbgrader": {
                    "grade": false,
                    "locked": true,
                    "solution": false
                },
                "editable": false,
                "deletable": false
            },
            "source": [
                "### Putting it all together"
            ]
        },
        {
            "cell_type": "markdown",
            "metadata": {
                "nbgrader": {
                    "grade": false,
                    "locked": true,
                    "solution": false
                },
                "editable": false,
                "deletable": false
            },
            "source": [
                "We now have all the pieces to use the EM algorithm. To do this requires the calculation of forward backward algorithm. We will use what we recently learned about `namedtuple` from the `collections` module to do this.\n",
                "\n",
                "The function below will generate this data structure for us."
            ]
        },
        {
            "cell_type": "code",
            "execution_count": null,
            "metadata": {
                "collapsed": true,
                "nbgrader": {
                    "grade": false,
                    "locked": true,
                    "solution": false
                },
                "editable": false,
                "deletable": false
            },
            "outputs": [],
            "source": [
                "def generate_obs_data_structure(sequence):\n",
                "    #  sequence: 1D numpy array of observations\n",
                "    ObservationData = namedtuple(\n",
                "        'ObservationData',\n",
                "        ['prob_lst', 'highest_prob', 'highest_state']\n",
                "    )\n",
                "    return {index+1: ObservationData for index in np.arange(len(sequence)-1)}"
            ]
        },
        {
            "cell_type": "markdown",
            "metadata": {
                "nbgrader": {
                    "grade": false,
                    "locked": true,
                    "solution": false
                },
                "editable": false,
                "deletable": false
            },
            "source": [
                "#### STEP 1: ESTIMATE PROBABILITIES:\n",
                "\n",
                "This step involves using the Forward-Backward algorithm to calculate the probability of observing a sequence, given a set of HMM parameters. We have all the tools to do this now."
            ]
        },
        {
            "cell_type": "code",
            "execution_count": null,
            "metadata": {
                "collapsed": true,
                "nbgrader": {
                    "grade": false,
                    "locked": true,
                    "solution": false
                },
                "editable": false,
                "deletable": false
            },
            "outputs": [],
            "source": [
                "# Enforce an Argument Signature on following function to prevent errors with **kwargs\n",
                "params = [Parameter('list_of_unique_states', Parameter.POSITIONAL_OR_KEYWORD),\n",
                "         Parameter('sequence', Parameter.POSITIONAL_OR_KEYWORD),\n",
                "         Parameter('A', Parameter.KEYWORD_ONLY, default=generate_state_trans_dict),\n",
                "         Parameter('B', Parameter.KEYWORD_ONLY, default=generate_emission_prob_dist),\n",
                "         Parameter('pi', Parameter.KEYWORD_ONLY, default=generate_init_prob_dist)]\n",
                "\n",
                "sig = Signature(params)\n",
                "\n",
                "def calculate_probabilities(list_of_unique_states, sequence, **kwargs):\n",
                "    \n",
                "    # enforce signature to ensure variable names\n",
                "    bound_values = sig.bind(list_of_unique_states, sequence, **kwargs)\n",
                "    bound_values.apply_defaults()\n",
                "\n",
                "    \n",
                "    # grab params that are left to default values\n",
                "    param_defaults = [(name, val) for name, val in bound_values.arguments.items() if callable(val)]\n",
                "    \n",
                "    # grab non-default params\n",
                "    set_params = [(name, val) for name, val in bound_values.arguments.items() if isinstance(val, dict)]\n",
                "    \n",
                "    # this will run if any default hmm parameters are used\n",
                "    if param_defaults:\n",
                "        for name, val in param_defaults:\n",
                "            if name == 'B':\n",
                "                B = val(list_of_unique_states, sequence)\n",
                "            elif name == 'A':\n",
                "                A = val(list_of_unique_states)\n",
                "            elif name == 'pi':\n",
                "                pi = val(list_of_unique_states)\n",
                "            else:\n",
                "                continue\n",
                "    \n",
                "    # this will run if kwargs are provided        \n",
                "    if set_params:\n",
                "        for name, val in set_params:\n",
                "            if name == 'B':\n",
                "                B = generate_emission_prob_dist(list_of_unique_states, sequence, **val)\n",
                "            elif name == 'A':\n",
                "                A = generate_state_trans_dict(list_of_unique_states, **val)\n",
                "            elif name == 'pi':\n",
                "                pi = generate_init_prob_dist(list_of_unique_states, **val)\n",
                "            else:\n",
                "                continue\n",
                "                \n",
                "    # instantiate the data structure\n",
                "    obs_probs = generate_obs_data_structure(sequence)\n",
                "\n",
                "    # all state transitions\n",
                "    state_perms = make_state_permutations(list_of_unique_states)\n",
                "\n",
                "    # for every transition from one observation to the next, calculate probability of going from Si to Sj\n",
                "    # loop through observations\n",
                "    for idx, obs in enumerate(sequence):\n",
                "\n",
                "        if idx != 0:  # check if this is the first observation\n",
                "            # instantiate the namedtuple for this observation\n",
                "            obs_probs[idx] = obs_probs[idx]([], [], [])\n",
                "\n",
                "            # loop through each possible state transition\n",
                "            for st in state_perms:\n",
                "                \n",
                "                # calculate prob of current obs for this state\n",
                "                prev_prob = pi[st[:2]] * B[st[:2]+'_'+str(sequence[idx-1])]\n",
                "\n",
                "                # calculate prob of previous obs for this state\n",
                "                curr_prob = A[st] * B[st[2:]+'_'+str(obs)]\n",
                "\n",
                "                # combine these two probabilities\n",
                "                combined_prob = round(curr_prob * prev_prob, 4)\n",
                "\n",
                "                # append probability to the list in namedtuple\n",
                "                obs_probs[idx].prob_lst.append(combined_prob)\n",
                "\n",
                "            # check for highest prob of observing that sequence\n",
                "            prob_and_state = _grab_highest_prob_and_state(state_perms, obs_probs[idx].prob_lst)\n",
                "            obs_probs[idx].highest_prob.append(prob_and_state[0])\n",
                "            obs_probs[idx].highest_state.append(prob_and_state[1])\n",
                "\n",
                "        else: # this is the first observation, exit loop.\n",
                "            continue\n",
                "    return (obs_probs, A, B, pi)"
            ]
        },
        {
            "cell_type": "code",
            "execution_count": null,
            "metadata": {
                "collapsed": true,
                "nbgrader": {
                    "grade": false,
                    "locked": true,
                    "solution": false
                },
                "editable": false,
                "deletable": false
            },
            "outputs": [],
            "source": [
                "ob_prob, A, B, pi = calculate_probabilities(STATE_LIST, corn13_17_seq, A=A_prior, B=B_prior, pi=pi)"
            ]
        },
        {
            "cell_type": "code",
            "execution_count": null,
            "metadata": {
                "collapsed": true,
                "nbgrader": {
                    "grade": false,
                    "locked": true,
                    "solution": false
                },
                "editable": false,
                "deletable": false
            },
            "outputs": [],
            "source": [
                "ob_prob"
            ]
        },
        {
            "cell_type": "code",
            "execution_count": null,
            "metadata": {
                "collapsed": true,
                "nbgrader": {
                    "grade": false,
                    "locked": true,
                    "solution": false
                },
                "editable": false,
                "deletable": false
            },
            "outputs": [],
            "source": [
                "A"
            ]
        },
        {
            "cell_type": "code",
            "execution_count": null,
            "metadata": {
                "collapsed": true,
                "nbgrader": {
                    "grade": false,
                    "locked": true,
                    "solution": false
                },
                "editable": false,
                "deletable": false
            },
            "outputs": [],
            "source": [
                "B"
            ]
        },
        {
            "cell_type": "code",
            "execution_count": null,
            "metadata": {
                "collapsed": true,
                "nbgrader": {
                    "grade": false,
                    "locked": true,
                    "solution": false
                },
                "editable": false,
                "deletable": false
            },
            "outputs": [],
            "source": [
                "pi"
            ]
        },
        {
            "cell_type": "markdown",
            "metadata": {
                "nbgrader": {
                    "grade": false,
                    "locked": true,
                    "solution": false
                },
                "editable": false,
                "deletable": false
            },
            "source": [
                "#### STEP 2: UPDATE PARAMETERS"
            ]
        },
        {
            "cell_type": "markdown",
            "metadata": {
                "nbgrader": {
                    "grade": false,
                    "locked": true,
                    "solution": false
                },
                "editable": false,
                "deletable": false
            },
            "source": [
                "**Update the State Transition Matrix**"
            ]
        },
        {
            "cell_type": "code",
            "execution_count": null,
            "metadata": {
                "collapsed": true,
                "nbgrader": {
                    "grade": false,
                    "locked": true,
                    "solution": false
                },
                "editable": false,
                "deletable": false
            },
            "outputs": [],
            "source": [
                "# This function sums all of the probabilities and \n",
                "# outputs a new (un-normalized) state transition matrix\n",
                "def new_state_trans(STATE_LIST, probabilities):\n",
                "    state_perms = make_state_permutations(STATE_LIST)\n",
                "    sums_of_st_trans_prob = {p:0 for p in state_perms}\n",
                "    highest_prob_sum = 0\n",
                "    for obs in probabilities:\n",
                "        highest_prob_sum += probabilities[obs].highest_prob[0]\n",
                "        for i, p in enumerate(sums_of_st_trans_prob):\n",
                "            sums_of_st_trans_prob[p] += probabilities[obs].prob_lst[i]\n",
                "    \n",
                "    for key in sums_of_st_trans_prob:\n",
                "        sums_of_st_trans_prob[key] = sums_of_st_trans_prob[key] \/ highest_prob_sum\n",
                "    \n",
                "    # finally, normalize so the rows add up to 1\n",
                "    for s in STATE_LIST:\n",
                "        l = []\n",
                "        for k in sums_of_st_trans_prob:\n",
                "            if s == k[:2]:\n",
                "                l.append(sums_of_st_trans_prob[k])\n",
                "        for k in sums_of_st_trans_prob:\n",
                "            if s == k[:2]:\n",
                "                sums_of_st_trans_prob[k] = sums_of_st_trans_prob[k] \/ sum(l)\n",
                "    \n",
                "    return sums_of_st_trans_prob"
            ]
        },
        {
            "cell_type": "code",
            "execution_count": null,
            "metadata": {
                "collapsed": true,
                "nbgrader": {
                    "grade": false,
                    "locked": true,
                    "solution": false
                },
                "editable": false,
                "deletable": false
            },
            "outputs": [],
            "source": [
                "# Update and normalize posterior state transition\n",
                "A_posterior = new_state_trans(STATE_LIST, ob_prob)\n",
                "A_posterior"
            ]
        },
        {
            "cell_type": "code",
            "execution_count": null,
            "metadata": {
                "collapsed": true,
                "nbgrader": {
                    "grade": false,
                    "locked": true,
                    "solution": false
                },
                "editable": false,
                "deletable": false
            },
            "outputs": [],
            "source": [
                "# Convert state transition to \"format 2\" so it can be\n",
                "# used as input in the next iteration of \"E\" step\n",
                "A_posterior = dict_to_tuples(STATE_LIST, A_posterior)"
            ]
        },
        {
            "cell_type": "markdown",
            "metadata": {
                "nbgrader": {
                    "grade": false,
                    "locked": true,
                    "solution": false
                },
                "editable": false,
                "deletable": false
            },
            "source": [
                "**Update the Emission Probabilities**"
            ]
        },
        {
            "cell_type": "markdown",
            "metadata": {
                "nbgrader": {
                    "grade": false,
                    "locked": true,
                    "solution": false
                },
                "editable": false,
                "deletable": false
            },
            "source": [
                "Here, we define some functions designed to do specific tasks."
            ]
        },
        {
            "cell_type": "code",
            "execution_count": null,
            "metadata": {
                "collapsed": true,
                "nbgrader": {
                    "grade": false,
                    "locked": true,
                    "solution": false
                },
                "editable": false,
                "deletable": false
            },
            "outputs": [],
            "source": [
                "##### tally up all observed sequences\n",
                "def observed_pairs(sequence):\n",
                "    observed_pairs = []\n",
                "    for idx in range(len(sequence)-1):\n",
                "        observed_pairs.append((sequence[idx], sequence[idx+1]))\n",
                "    return observed_pairs"
            ]
        },
        {
            "cell_type": "code",
            "execution_count": null,
            "metadata": {
                "collapsed": true,
                "nbgrader": {
                    "grade": false,
                    "locked": true,
                    "solution": false
                },
                "editable": false,
                "deletable": false
            },
            "outputs": [],
            "source": [
                "def make_emission_permutations(sequence):\n",
                "    unique_e = np.unique(sequence)\n",
                "    return list(product(unique_e, repeat = 2))\n",
                "\n",
                "make_emission_permutations([1,1,0, 2])\n",
                "make_emission_permutations([0,1,0,3,0])"
            ]
        },
        {
            "cell_type": "code",
            "execution_count": null,
            "metadata": {
                "collapsed": true,
                "nbgrader": {
                    "grade": false,
                    "locked": true,
                    "solution": false
                },
                "editable": false,
                "deletable": false
            },
            "outputs": [],
            "source": [
                "def find_highest_with_state_obs(prob_pairs, state, obs):\n",
                "    for pp in prob_pairs:\n",
                "        if pp[0].count((state,obs))>0:\n",
                "            return pp[1]"
            ]
        },
        {
            "cell_type": "code",
            "execution_count": null,
            "metadata": {
                "collapsed": true,
                "nbgrader": {
                    "grade": false,
                    "locked": true,
                    "solution": false
                },
                "editable": false,
                "deletable": false
            },
            "outputs": [],
            "source": [
                "def normalize_emissions(b_tuple_format):\n",
                "    new_b_dict = {}\n",
                "    for key, val in b_tuple_format.items():\n",
                "        denominator = sum(val)\n",
                "        new_lst = [v\/denominator for v in val]\n",
                "        new_b_dict[key] = tuple(new_lst)\n",
                "    return new_b_dict"
            ]
        },
        {
            "cell_type": "markdown",
            "metadata": {
                "nbgrader": {
                    "grade": false,
                    "locked": true,
                    "solution": false
                },
                "editable": false,
                "deletable": false
            },
            "source": [
                "**Finally, we are ready to update the emission probabilities with the function below**"
            ]
        },
        {
            "cell_type": "code",
            "execution_count": null,
            "metadata": {
                "collapsed": true
            },
            "outputs": [],
            "source": [
                "def emission_matrix_update(sequence, state_list, A, B, pi):\n",
                "    state_pairs = list(product(state_list, repeat = 2))\n",
                "    obs_pairs = observed_pairs(sequence)\n",
                "    \n",
                "    new_B = {}\n",
                "    for obs in np.unique(sequence): # For every unique emission\n",
                "        \n",
                "        # Find all the sequence-pairs that include that emission\n",
                "        inc_seq = [seq for seq in obs_pairs if seq.count(obs)>0]\n",
                "\n",
                "        # Collector for highest-probabilities\n",
                "        highest_pairs = []\n",
                "        \n",
                "        # For each sequence-pair that include that emission\n",
                "        for seq in inc_seq:\n",
                "\n",
                "            prob_pairs = []\n",
                "            \n",
                "            # Go through each potential pair of states\n",
                "            for state_pair in state_pairs:\n",
                "                \n",
                "                state1, state2 = state_pair\n",
                "                obs1, obs2 = seq\n",
                "                \n",
                "                # Match each state with it's emission\n",
                "                assoc_tuples = [(state1, obs1),\n",
                "                                (state2, obs2)]\n",
                "                \n",
                "                # Calculate the probability of the sequence from state\n",
                "                prob = pi[state1] * B[state1+\"_\"+str(obs1)]\n",
                "                prob *= A[state1+state2]*B[state2+\"_\"+str(obs2)]\n",
                "                prob = round(prob,5)\n",
                "                # Append the state emission tuples and probability\n",
                "                prob_pairs.append([assoc_tuples, prob])\n",
                "    \n",
                "            # Sort probabilities by maximum probability\n",
                "            prob_pairs = sorted(prob_pairs, key = lambda x: x[1], reverse = True)\n",
                "            \n",
                "            # Save the highest probability\n",
                "            to_add = {'highest':prob_pairs[0][1]}\n",
                "            # Find the highest probability where each state is associated\n",
                "            # With the current emission\n",
                "            for state in STATE_LIST:\n",
                "                \n",
                "                highest_of_state = 0\n",
                "                \n",
                "                # Go through sorted list, find first (state,observation) tuple\n",
                "                # save associated probability\n",
                "\n",
                "                for pp in prob_pairs:\n",
                "                    if pp[0].count((state,obs))>0:\n",
                "                        highest_of_state = pp[1]\n",
                "                        break\n",
                "                        \n",
                "                to_add[state] = highest_of_state\n",
                "            \n",
                "            # Save completed dictionary\n",
                "            highest_pairs.append(to_add)\n",
                "        \n",
                "        # Total highest_probability\n",
                "        highest_probability =sum([d['highest'] for d in highest_pairs])\n",
                "        \n",
                "        # Total highest probabilities for each state; divide by highest prob\n",
                "        # Add to new emission matrix\n",
                "        for state in STATE_LIST:\n",
                "            new_B[state+\"_\"+str(obs)]= sum([d[state] for d in highest_pairs])\/highest_probability\n",
                "            \n",
                "        \n",
                "    return new_B"
            ]
        },
        {
            "cell_type": "markdown",
            "metadata": {
                "nbgrader": {
                    "grade": false,
                    "locked": true,
                    "solution": false
                },
                "editable": false,
                "deletable": false
            },
            "source": [
                "Run the function:"
            ]
        },
        {
            "cell_type": "code",
            "execution_count": null,
            "metadata": {
                "collapsed": true,
                "nbgrader": {
                    "grade": false,
                    "locked": true,
                    "solution": false
                },
                "editable": false,
                "deletable": false
            },
            "outputs": [],
            "source": [
                "nb = emission_matrix_update(corn13_17_seq,STATE_LIST, A,B,pi)\n",
                "nb"
            ]
        },
        {
            "cell_type": "markdown",
            "metadata": {
                "nbgrader": {
                    "grade": false,
                    "locked": true,
                    "solution": false
                },
                "editable": false,
                "deletable": false
            },
            "source": [
                "The emission probabilities are updated, but they need to be normalized. To do this, we will convert to dictionary to the `key: tuple` format and normalize so that the probabilities add up to 1."
            ]
        },
        {
            "cell_type": "code",
            "execution_count": null,
            "metadata": {
                "collapsed": true,
                "nbgrader": {
                    "grade": false,
                    "locked": true,
                    "solution": false
                },
                "editable": false,
                "deletable": false
            },
            "outputs": [],
            "source": [
                "B_ = obs_to_tuples(STATE_LIST, nb, corn13_17_seq)\n",
                "B_posterior = normalize_emissions(B_)"
            ]
        },
        {
            "cell_type": "code",
            "execution_count": null,
            "metadata": {
                "collapsed": true,
                "nbgrader": {
                    "grade": false,
                    "locked": true,
                    "solution": false
                },
                "editable": false,
                "deletable": false
            },
            "outputs": [],
            "source": [
                "# normalized state transition posterior:\n",
                "A_posterior"
            ]
        },
        {
            "cell_type": "code",
            "execution_count": null,
            "metadata": {
                "collapsed": true,
                "nbgrader": {
                    "grade": false,
                    "locked": true,
                    "solution": false
                },
                "editable": false,
                "deletable": false
            },
            "outputs": [],
            "source": [
                "# normalized emission posterior probabilities\n",
                "B_posterior"
            ]
        },
        {
            "cell_type": "markdown",
            "metadata": {
                "nbgrader": {
                    "grade": false,
                    "locked": true,
                    "solution": false
                },
                "editable": false,
                "deletable": false
            },
            "source": [
                "### STEP 3: REPEAT UNTIL PARAMETERS CONVERGE"
            ]
        },
        {
            "cell_type": "code",
            "execution_count": null,
            "metadata": {
                "collapsed": true,
                "nbgrader": {
                    "grade": false,
                    "locked": true,
                    "solution": false
                },
                "editable": false,
                "deletable": false
            },
            "outputs": [],
            "source": [
                "ob_prob2, A2, B2, pi2 = calculate_probabilities(STATE_LIST, corn13_17_seq, A=A_posterior, B=B_posterior, pi=pi)\n",
                "ob_prob2"
            ]
        },
        {
            "cell_type": "code",
            "execution_count": null,
            "metadata": {
                "collapsed": true,
                "nbgrader": {
                    "grade": false,
                    "locked": true,
                    "solution": false
                },
                "editable": false,
                "deletable": false
            },
            "outputs": [],
            "source": [
                "A_post2 = new_state_trans(STATE_LIST, ob_prob2)  # update and normalize state transition matrix again\n",
                "A_post2 = dict_to_tuples(STATE_LIST, A2)  # convert to `key: tuple` format\n",
                "A_post2"
            ]
        },
        {
            "cell_type": "code",
            "execution_count": null,
            "metadata": {
                "collapsed": true,
                "nbgrader": {
                    "grade": false,
                    "locked": true,
                    "solution": false
                },
                "editable": false,
                "deletable": false
            },
            "outputs": [],
            "source": [
                "# update emissions matrix again\n",
                "nb2 = emission_matrix_update(corn13_17_seq, STATE_LIST, A2, B2, pi)  # update emissions matrix again\n",
                "B_post2 = obs_to_tuples(STATE_LIST, nb2, corn13_17_seq)  # convert emission posterior to `key:tuples` format\n",
                "B_post2 = normalize_emissions(B_post2)  # normalize emissions probabilities\n",
                "B_post2"
            ]
        }
    ],
    "metadata": {
        "kernelspec": {
            "display_name": "Python 3 [3.6]",
            "language": "python",
            "name": "python3"
        },
        "language_info": {
            "codemirror_mode": {
                "name": "ipython",
                "version": 3
            },
            "file_extension": ".py",
            "mimetype": "text\/x-python",
            "name": "python",
            "nbconvert_exporter": "python",
            "pygments_lexer": "ipython3",
            "version": "3.6.4"
        }
    },
    "nbformat": 4,
    "nbformat_minor": 2
}