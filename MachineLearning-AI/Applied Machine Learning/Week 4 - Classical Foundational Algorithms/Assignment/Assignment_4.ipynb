{
 "cells": [
  {
   "cell_type": "markdown",
   "metadata": {
    "nbgrader": {
     "grade": false,
     "locked": true,
     "solution": false
    }
   },
   "source": [
    "# K-Nearest Neighbor (KNN) Project\n",
    "---\n",
    "\n",
    "_Authors: Carleton Smith; W.P.G.Peterson_\n",
    "\n",
    "\n",
    "## Project Guide\n",
    "---\n",
    "- [Project Overview](#project-overview)  \n",
    "- [Part 1: Acquire, Explore, and Preprocess Data](#part1)\n",
    "- [Part 2: Code KNN](#part2)  \n",
    "    -[KNN in sklearn](#sklearn)\n",
    "- [Part 3: Interpret Results](#part3)\n",
    "\n",
    "\n",
    "<a id=\"project-overview\"></a>\n",
    "## Project Overview\n",
    "---\n",
    "#### EXPECTED TIME: 3 HRS  \n",
    "\n",
    "This project has 3 parts:\n",
    "\n",
    "- Part 1: Familiarize yourself with the problem and data\n",
    "- Part 2: Code a KNN Classifier from scratch, evaluate performance, and compare to Scikit-Learn's implementation\n",
    "- Part 3: Interpret results and explain findings.\n",
    "\n",
    "This will include:\n",
    "- Answering simple questions regarding the data  \n",
    "- Manipulating multiple DataFrames  \n",
    "- Coding functions to:  \n",
    "    - Calculate Euclidean distance\n",
    "    - Calculate distance between many pairs of points\n",
    "    - Implement a majority voting system\n",
    "    - Combine the above to create a custom KNN algorithm\n",
    "- Use `KNeighborsClassifier` in `sklearn`  \n",
    "\n",
    "**Motivation**: KNN is a reasonably simple algorithm that is easy to grasp and can be very effective.\n",
    "\n",
    "**Objectives**: By the end of this assignment, you will:\n",
    "- Have a firm understanding of the KNN algorithm\n",
    "- Have practiced running through the data science workflow to solve a problem\n",
    "- Will demonstate how to translate a mathematical algorithm into effective code\n",
    "- Understand common pitfalls when working with distances\n",
    "\n",
    "**Problem**: Classify the type of activity a person is performing based on measurements collected from a smartphone. The activities include:  \n",
    "- Walking\n",
    "- Walking_Upstairs\n",
    "- Walking_Downstairs\n",
    "- Sitting\n",
    "- Standing\n",
    "- Laying\n",
    "\n",
    "\n",
    "**Dataset**: [_Human Activity Recognition Using Smartphones Data Set_](https://archive.ics.uci.edu/ml/datasets/human+activity+recognition+using+smartphones) from the UC Irvine Machine Learning Repositiory.  \n",
    "\n",
    "Dataset description as provided in the original authors:\n",
    "\n",
    "---\n",
    "```\n",
    "The experiments have been carried out with a group of 30 volunteers within an age bracket of 19-48 years. Each person performed six activities (WALKING, WALKING_UPSTAIRS, WALKING_DOWNSTAIRS, SITTING, STANDING, LAYING) wearing a smartphone (Samsung Galaxy S II) on the waist. Using its embedded accelerometer and gyroscope, we captured 3-axial linear acceleration and 3-axial angular velocity at a constant rate of 50Hz. The experiments have been video-recorded to label the data manually. The obtained dataset has been randomly partitioned into two sets, where 70% of the volunteers was selected for generating the training data and 30% the test data. \n",
    "\n",
    "The sensor signals (accelerometer and gyroscope) were pre-processed by applying noise filters and then sampled in fixed-width sliding windows of 2.56 sec and 50% overlap (128 readings/window). The sensor acceleration signal, which has gravitational and body motion components, was separated using a Butterworth low-pass filter into body acceleration and gravity. The gravitational force is assumed to have only low frequency components, therefore a filter with 0.3 Hz cutoff frequency was used. From each window, a vector of features was obtained by calculating variables from the time and frequency domain. See 'features_info.txt' for more details. \n",
    "\n",
    "For each record it is provided:\n",
    "======================================\n",
    "\n",
    "- Triaxial acceleration from the accelerometer (total acceleration) and the estimated body acceleration.\n",
    "- Triaxial Angular velocity from the gyroscope. \n",
    "- A 561-feature vector with time and frequency domain variables. \n",
    "- Its activity label. \n",
    "- An identifier of the subject who carried out the experiment.\n",
    "```\n",
    "\n",
    "Please see the [Data Folder](https://archive.ics.uci.edu/ml/machine-learning-databases/00240/) to explore the data files further.\n",
    "\n",
    "---"
   ]
  },
  {
   "cell_type": "markdown",
   "metadata": {
    "nbgrader": {
     "grade": false,
     "locked": true,
     "solution": false
    }
   },
   "source": [
    "<a id=\"part1\"></a>\n",
    "## Part 1: Acquire, Explore, and Preprocess Data\n",
    "---"
   ]
  },
  {
   "cell_type": "markdown",
   "metadata": {
    "nbgrader": {
     "grade": false,
     "locked": true,
     "solution": false
    }
   },
   "source": [
    "### Import Libraries and Data"
   ]
  },
  {
   "cell_type": "code",
   "execution_count": 1,
   "metadata": {
    "nbgrader": {
     "grade": false,
     "locked": true,
     "solution": false
    }
   },
   "outputs": [],
   "source": [
    "import numpy as np\n",
    "import pandas as pd\n",
    "import matplotlib.pyplot as plt\n",
    "import seaborn as sns\n",
    "%matplotlib inline"
   ]
  },
  {
   "cell_type": "markdown",
   "metadata": {
    "nbgrader": {
     "grade": false,
     "locked": true,
     "solution": false
    }
   },
   "source": [
    "#### Read in the training data"
   ]
  },
  {
   "cell_type": "code",
   "execution_count": 2,
   "metadata": {
    "collapsed": true,
    "nbgrader": {
     "grade": false,
     "locked": true,
     "solution": false
    }
   },
   "outputs": [],
   "source": [
    "FEATURE_NAMES = '../resource/asnlib/publicdata/features.txt'\n",
    "TRAIN_DATA = '../resource/asnlib/publicdata/X_train.txt'\n",
    "TRAIN_LABELS = '../resource/asnlib/publicdata/y_train.txt'"
   ]
  },
  {
   "cell_type": "code",
   "execution_count": 3,
   "metadata": {
    "collapsed": true,
    "nbgrader": {
     "grade": false,
     "locked": true,
     "solution": false
    }
   },
   "outputs": [],
   "source": [
    "# read feature names\n",
    "feats = pd.read_table(FEATURE_NAMES, sep='\\n', header=None)\n",
    "\n",
    "# read in training data\n",
    "har_train = pd.read_table(TRAIN_DATA, sep='\\s+', header=None)\n",
    "\n",
    "# read in training labels\n",
    "har_train_labels = pd.read_table(TRAIN_LABELS, sep='\\n', header=None, names=[\"label\"], squeeze = True)"
   ]
  },
  {
   "cell_type": "markdown",
   "metadata": {
    "nbgrader": {
     "grade": false,
     "locked": true,
     "solution": false
    }
   },
   "source": [
    "### Explore the Data"
   ]
  },
  {
   "cell_type": "markdown",
   "metadata": {
    "nbgrader": {
     "grade": false,
     "locked": true,
     "solution": false
    }
   },
   "source": [
    "**Print out the first five rows of the training data (`har_train`) -- does everything look okay?**"
   ]
  },
  {
   "cell_type": "code",
   "execution_count": 7,
   "metadata": {
    "nbgrader": {
     "grade": false,
     "locked": true,
     "solution": false
    }
   },
   "outputs": [
    {
     "data": {
      "text/plain": [
       "7352"
      ]
     },
     "execution_count": 7,
     "metadata": {},
     "output_type": "execute_result"
    }
   ],
   "source": [
    "har_train.shape[0]"
   ]
  },
  {
   "cell_type": "markdown",
   "metadata": {
    "nbgrader": {
     "grade": false,
     "locked": true,
     "solution": false
    }
   },
   "source": [
    "#### Question 1\n",
    "How many rows and columns are in `har_train`?\n"
   ]
  },
  {
   "cell_type": "code",
   "execution_count": 6,
   "metadata": {
    "collapsed": true,
    "scrolled": true
   },
   "outputs": [],
   "source": [
    "har_train.shape[0],har_train.shape[1]"
   ]
  },
  {
   "cell_type": "markdown",
   "metadata": {
    "nbgrader": {
     "grade": false,
     "locked": true,
     "solution": false
    }
   },
   "source": [
    "**Print the first 5 rows of `feats` - the DataFrame of feature names.**"
   ]
  },
  {
   "cell_type": "code",
   "execution_count": 10,
   "metadata": {
    "nbgrader": {
     "grade": false,
     "locked": true,
     "solution": false
    }
   },
   "outputs": [
    {
     "data": {
      "text/plain": [
       "(561, 1)"
      ]
     },
     "execution_count": 10,
     "metadata": {},
     "output_type": "execute_result"
    }
   ],
   "source": [
    "feats.shape"
   ]
  },
  {
   "cell_type": "markdown",
   "metadata": {
    "nbgrader": {
     "grade": false,
     "locked": true,
     "solution": false
    }
   },
   "source": [
    "\n",
    "**Change the names of columns via the `.columns` attribute**"
   ]
  },
  {
   "cell_type": "code",
   "execution_count": 9,
   "metadata": {
    "nbgrader": {
     "grade": false,
     "locked": true,
     "solution": false
    }
   },
   "outputs": [
    {
     "data": {
      "text/html": [
       "<div>\n",
       "<style scoped>\n",
       "    .dataframe tbody tr th:only-of-type {\n",
       "        vertical-align: middle;\n",
       "    }\n",
       "\n",
       "    .dataframe tbody tr th {\n",
       "        vertical-align: top;\n",
       "    }\n",
       "\n",
       "    .dataframe thead th {\n",
       "        text-align: right;\n",
       "    }\n",
       "</style>\n",
       "<table border=\"1\" class=\"dataframe\">\n",
       "  <thead>\n",
       "    <tr style=\"text-align: right;\">\n",
       "      <th></th>\n",
       "      <th>1 tBodyAcc-mean()-X</th>\n",
       "      <th>2 tBodyAcc-mean()-Y</th>\n",
       "      <th>3 tBodyAcc-mean()-Z</th>\n",
       "      <th>4 tBodyAcc-std()-X</th>\n",
       "      <th>5 tBodyAcc-std()-Y</th>\n",
       "      <th>6 tBodyAcc-std()-Z</th>\n",
       "      <th>7 tBodyAcc-mad()-X</th>\n",
       "      <th>8 tBodyAcc-mad()-Y</th>\n",
       "      <th>9 tBodyAcc-mad()-Z</th>\n",
       "      <th>10 tBodyAcc-max()-X</th>\n",
       "      <th>...</th>\n",
       "      <th>552 fBodyBodyGyroJerkMag-meanFreq()</th>\n",
       "      <th>553 fBodyBodyGyroJerkMag-skewness()</th>\n",
       "      <th>554 fBodyBodyGyroJerkMag-kurtosis()</th>\n",
       "      <th>555 angle(tBodyAccMean,gravity)</th>\n",
       "      <th>556 angle(tBodyAccJerkMean),gravityMean)</th>\n",
       "      <th>557 angle(tBodyGyroMean,gravityMean)</th>\n",
       "      <th>558 angle(tBodyGyroJerkMean,gravityMean)</th>\n",
       "      <th>559 angle(X,gravityMean)</th>\n",
       "      <th>560 angle(Y,gravityMean)</th>\n",
       "      <th>561 angle(Z,gravityMean)</th>\n",
       "    </tr>\n",
       "  </thead>\n",
       "  <tbody>\n",
       "    <tr>\n",
       "      <th>0</th>\n",
       "      <td>0.288585</td>\n",
       "      <td>-0.020294</td>\n",
       "      <td>-0.132905</td>\n",
       "      <td>-0.995279</td>\n",
       "      <td>-0.983111</td>\n",
       "      <td>-0.913526</td>\n",
       "      <td>-0.995112</td>\n",
       "      <td>-0.983185</td>\n",
       "      <td>-0.923527</td>\n",
       "      <td>-0.934724</td>\n",
       "      <td>...</td>\n",
       "      <td>-0.074323</td>\n",
       "      <td>-0.298676</td>\n",
       "      <td>-0.710304</td>\n",
       "      <td>-0.112754</td>\n",
       "      <td>0.030400</td>\n",
       "      <td>-0.464761</td>\n",
       "      <td>-0.018446</td>\n",
       "      <td>-0.841247</td>\n",
       "      <td>0.179941</td>\n",
       "      <td>-0.058627</td>\n",
       "    </tr>\n",
       "    <tr>\n",
       "      <th>1</th>\n",
       "      <td>0.278419</td>\n",
       "      <td>-0.016411</td>\n",
       "      <td>-0.123520</td>\n",
       "      <td>-0.998245</td>\n",
       "      <td>-0.975300</td>\n",
       "      <td>-0.960322</td>\n",
       "      <td>-0.998807</td>\n",
       "      <td>-0.974914</td>\n",
       "      <td>-0.957686</td>\n",
       "      <td>-0.943068</td>\n",
       "      <td>...</td>\n",
       "      <td>0.158075</td>\n",
       "      <td>-0.595051</td>\n",
       "      <td>-0.861499</td>\n",
       "      <td>0.053477</td>\n",
       "      <td>-0.007435</td>\n",
       "      <td>-0.732626</td>\n",
       "      <td>0.703511</td>\n",
       "      <td>-0.844788</td>\n",
       "      <td>0.180289</td>\n",
       "      <td>-0.054317</td>\n",
       "    </tr>\n",
       "    <tr>\n",
       "      <th>2</th>\n",
       "      <td>0.279653</td>\n",
       "      <td>-0.019467</td>\n",
       "      <td>-0.113462</td>\n",
       "      <td>-0.995380</td>\n",
       "      <td>-0.967187</td>\n",
       "      <td>-0.978944</td>\n",
       "      <td>-0.996520</td>\n",
       "      <td>-0.963668</td>\n",
       "      <td>-0.977469</td>\n",
       "      <td>-0.938692</td>\n",
       "      <td>...</td>\n",
       "      <td>0.414503</td>\n",
       "      <td>-0.390748</td>\n",
       "      <td>-0.760104</td>\n",
       "      <td>-0.118559</td>\n",
       "      <td>0.177899</td>\n",
       "      <td>0.100699</td>\n",
       "      <td>0.808529</td>\n",
       "      <td>-0.848933</td>\n",
       "      <td>0.180637</td>\n",
       "      <td>-0.049118</td>\n",
       "    </tr>\n",
       "    <tr>\n",
       "      <th>3</th>\n",
       "      <td>0.279174</td>\n",
       "      <td>-0.026201</td>\n",
       "      <td>-0.123283</td>\n",
       "      <td>-0.996091</td>\n",
       "      <td>-0.983403</td>\n",
       "      <td>-0.990675</td>\n",
       "      <td>-0.997099</td>\n",
       "      <td>-0.982750</td>\n",
       "      <td>-0.989302</td>\n",
       "      <td>-0.938692</td>\n",
       "      <td>...</td>\n",
       "      <td>0.404573</td>\n",
       "      <td>-0.117290</td>\n",
       "      <td>-0.482845</td>\n",
       "      <td>-0.036788</td>\n",
       "      <td>-0.012892</td>\n",
       "      <td>0.640011</td>\n",
       "      <td>-0.485366</td>\n",
       "      <td>-0.848649</td>\n",
       "      <td>0.181935</td>\n",
       "      <td>-0.047663</td>\n",
       "    </tr>\n",
       "    <tr>\n",
       "      <th>4</th>\n",
       "      <td>0.276629</td>\n",
       "      <td>-0.016570</td>\n",
       "      <td>-0.115362</td>\n",
       "      <td>-0.998139</td>\n",
       "      <td>-0.980817</td>\n",
       "      <td>-0.990482</td>\n",
       "      <td>-0.998321</td>\n",
       "      <td>-0.979672</td>\n",
       "      <td>-0.990441</td>\n",
       "      <td>-0.942469</td>\n",
       "      <td>...</td>\n",
       "      <td>0.087753</td>\n",
       "      <td>-0.351471</td>\n",
       "      <td>-0.699205</td>\n",
       "      <td>0.123320</td>\n",
       "      <td>0.122542</td>\n",
       "      <td>0.693578</td>\n",
       "      <td>-0.615971</td>\n",
       "      <td>-0.847865</td>\n",
       "      <td>0.185151</td>\n",
       "      <td>-0.043892</td>\n",
       "    </tr>\n",
       "  </tbody>\n",
       "</table>\n",
       "<p>5 rows × 561 columns</p>\n",
       "</div>"
      ],
      "text/plain": [
       "0  1 tBodyAcc-mean()-X  2 tBodyAcc-mean()-Y  3 tBodyAcc-mean()-Z  \\\n",
       "0             0.288585            -0.020294            -0.132905   \n",
       "1             0.278419            -0.016411            -0.123520   \n",
       "2             0.279653            -0.019467            -0.113462   \n",
       "3             0.279174            -0.026201            -0.123283   \n",
       "4             0.276629            -0.016570            -0.115362   \n",
       "\n",
       "0  4 tBodyAcc-std()-X  5 tBodyAcc-std()-Y  6 tBodyAcc-std()-Z  \\\n",
       "0           -0.995279           -0.983111           -0.913526   \n",
       "1           -0.998245           -0.975300           -0.960322   \n",
       "2           -0.995380           -0.967187           -0.978944   \n",
       "3           -0.996091           -0.983403           -0.990675   \n",
       "4           -0.998139           -0.980817           -0.990482   \n",
       "\n",
       "0  7 tBodyAcc-mad()-X  8 tBodyAcc-mad()-Y  9 tBodyAcc-mad()-Z  \\\n",
       "0           -0.995112           -0.983185           -0.923527   \n",
       "1           -0.998807           -0.974914           -0.957686   \n",
       "2           -0.996520           -0.963668           -0.977469   \n",
       "3           -0.997099           -0.982750           -0.989302   \n",
       "4           -0.998321           -0.979672           -0.990441   \n",
       "\n",
       "0  10 tBodyAcc-max()-X            ...             \\\n",
       "0            -0.934724            ...              \n",
       "1            -0.943068            ...              \n",
       "2            -0.938692            ...              \n",
       "3            -0.938692            ...              \n",
       "4            -0.942469            ...              \n",
       "\n",
       "0  552 fBodyBodyGyroJerkMag-meanFreq()  553 fBodyBodyGyroJerkMag-skewness()  \\\n",
       "0                            -0.074323                            -0.298676   \n",
       "1                             0.158075                            -0.595051   \n",
       "2                             0.414503                            -0.390748   \n",
       "3                             0.404573                            -0.117290   \n",
       "4                             0.087753                            -0.351471   \n",
       "\n",
       "0  554 fBodyBodyGyroJerkMag-kurtosis()  555 angle(tBodyAccMean,gravity)  \\\n",
       "0                            -0.710304                        -0.112754   \n",
       "1                            -0.861499                         0.053477   \n",
       "2                            -0.760104                        -0.118559   \n",
       "3                            -0.482845                        -0.036788   \n",
       "4                            -0.699205                         0.123320   \n",
       "\n",
       "0  556 angle(tBodyAccJerkMean),gravityMean)  \\\n",
       "0                                  0.030400   \n",
       "1                                 -0.007435   \n",
       "2                                  0.177899   \n",
       "3                                 -0.012892   \n",
       "4                                  0.122542   \n",
       "\n",
       "0  557 angle(tBodyGyroMean,gravityMean)  \\\n",
       "0                             -0.464761   \n",
       "1                             -0.732626   \n",
       "2                              0.100699   \n",
       "3                              0.640011   \n",
       "4                              0.693578   \n",
       "\n",
       "0  558 angle(tBodyGyroJerkMean,gravityMean)  559 angle(X,gravityMean)  \\\n",
       "0                                 -0.018446                 -0.841247   \n",
       "1                                  0.703511                 -0.844788   \n",
       "2                                  0.808529                 -0.848933   \n",
       "3                                 -0.485366                 -0.848649   \n",
       "4                                 -0.615971                 -0.847865   \n",
       "\n",
       "0  560 angle(Y,gravityMean)  561 angle(Z,gravityMean)  \n",
       "0                  0.179941                 -0.058627  \n",
       "1                  0.180289                 -0.054317  \n",
       "2                  0.180637                 -0.049118  \n",
       "3                  0.181935                 -0.047663  \n",
       "4                  0.185151                 -0.043892  \n",
       "\n",
       "[5 rows x 561 columns]"
      ]
     },
     "execution_count": 9,
     "metadata": {},
     "output_type": "execute_result"
    }
   ],
   "source": [
    "har_train.columns = feats.iloc[:,0]\n",
    "har_train.head()"
   ]
  },
  {
   "cell_type": "markdown",
   "metadata": {
    "nbgrader": {
     "grade": false,
     "locked": true,
     "solution": false
    }
   },
   "source": [
    "#### Question 2\n",
    "Are there missing values?\n"
   ]
  },
  {
   "cell_type": "code",
   "execution_count": 31,
   "metadata": {},
   "outputs": [
    {
     "name": "stdout",
     "output_type": "stream",
     "text": [
      "Empty DataFrame\n",
      "Columns: []\n",
      "Index: []\n"
     ]
    }
   ],
   "source": [
    "har_train.isna().any()[lambda x: x]\n",
    "har_train.columns[har_train.isna().any()].tolist()\n",
    "pd.isnull(har_train).sum() > 0\n",
    "for column in har_train:\n",
    "    if har_train[column].isnull().any():\n",
    "       print('{0} has {1} null values'.format(column, har_train[column].isnull().sum()))\n",
    "\n",
    "null_columns=har_train.columns[har_train.isnull().any()]\n",
    "har_train[null_columns].isnull().sum()\n",
    "print(har_train[har_train.isnull().any(axis=1)][null_columns].head())\n",
    "## multiple ways yield no results\n",
    "\n",
    "ans1 = 0"
   ]
  },
  {
   "cell_type": "markdown",
   "metadata": {
    "nbgrader": {
     "grade": false,
     "locked": true,
     "solution": false
    }
   },
   "source": [
    "**Plot the correlation plot of the first 20 features (`har_train.iloc[:, :20])` with `seaborn`.**\n",
    "\n",
    "- Seaborn: https://seaborn.pydata.org/examples/many_pairwise_correlations.html"
   ]
  },
  {
   "cell_type": "code",
   "execution_count": 33,
   "metadata": {
    "nbgrader": {
     "grade": false,
     "locked": true,
     "solution": false
    }
   },
   "outputs": [
    {
     "data": {
      "image/png": "[encoded data removed]",
      "text/plain": [
       "<matplotlib.figure.Figure at 0x7f80db4eef60>"
      ]
     },
     "metadata": {},
     "output_type": "display_data"
    }
   ],
   "source": [
    "# seaborn\n",
    "first_twenty = har_train.iloc[:, :20] # pull out first 20 feats\n",
    "corr = first_twenty.corr()  # compute correlation matrix\n",
    "mask = np.zeros_like(corr, dtype=np.bool)  # make mask\n",
    "mask[np.triu_indices_from(mask)] = True  # mask the upper triangle\n",
    "\n",
    "fig, ax = plt.subplots(figsize=(11, 9))  # create a figure and a subplot\n",
    "cmap = sns.diverging_palette(220, 10, as_cmap=True)  # custom color map\n",
    "sns.heatmap(\n",
    "    corr,\n",
    "    mask=mask,\n",
    "    cmap=cmap,\n",
    "    center=0,\n",
    "    linewidth=0.5,\n",
    "    cbar_kws={'shrink': 0.5}\n",
    ");"
   ]
  },
  {
   "cell_type": "markdown",
   "metadata": {
    "nbgrader": {
     "grade": false,
     "locked": true,
     "solution": false
    }
   },
   "source": [
    "#### Question 3"
   ]
  },
  {
   "cell_type": "markdown",
   "metadata": {
    "nbgrader": {
     "grade": false,
     "locked": true,
     "solution": false
    }
   },
   "source": [
    "EDA, as was performed (briefly) above is used to develop an idea of potential problems with data. Particularly with modeling, looking for Null / impossible values, and correlated features are important steps to:  \n",
    "1. See if any features will not be useful in models becuase of null values.\n",
    "2. See if any model assumptions are violated by correlated features (such as in linear / logistic regression)"
   ]
  },
  {
   "cell_type": "markdown",
   "metadata": {
    "nbgrader": {
     "grade": false,
     "locked": true,
     "solution": false
    }
   },
   "source": [
    "**Switching to the target variable (`har_train_labels`).**"
   ]
  },
  {
   "cell_type": "markdown",
   "metadata": {
    "nbgrader": {
     "grade": false,
     "locked": true,
     "solution": false
    }
   },
   "source": [
    "#### Question 4\n",
    "Investigate class sizes - are they unbalanced?"
   ]
  },
  {
   "cell_type": "code",
   "execution_count": 1,
   "metadata": {},
   "outputs": [
    {
     "ename": "NameError",
     "evalue": "name 'har_train_labels' is not defined",
     "output_type": "error",
     "traceback": [
      "\u001b[1;31m---------------------------------------------------------------------------\u001b[0m",
      "\u001b[1;31mNameError\u001b[0m                                 Traceback (most recent call last)",
      "\u001b[1;32m<ipython-input-1-29cc11297671>\u001b[0m in \u001b[0;36m<module>\u001b[1;34m()\u001b[0m\n\u001b[1;32m----> 1\u001b[1;33m \u001b[0mprint\u001b[0m\u001b[1;33m(\u001b[0m\u001b[0mhar_train_labels\u001b[0m\u001b[1;33m.\u001b[0m\u001b[0mvalue_counts\u001b[0m\u001b[1;33m(\u001b[0m\u001b[1;33m)\u001b[0m\u001b[1;33m)\u001b[0m\u001b[1;33m\u001b[0m\u001b[0m\n\u001b[0m\u001b[0;32m      2\u001b[0m \u001b[0mans_maj\u001b[0m \u001b[1;33m=\u001b[0m \u001b[1;36m1407\u001b[0m\u001b[1;33m\u001b[0m\u001b[0m\n\u001b[0;32m      3\u001b[0m \u001b[0mans_min\u001b[0m \u001b[1;33m=\u001b[0m \u001b[1;36m986\u001b[0m\u001b[1;33m\u001b[0m\u001b[0m\n",
      "\u001b[1;31mNameError\u001b[0m: name 'har_train_labels' is not defined"
     ]
    }
   ],
   "source": [
    "print(har_train_labels.value_counts())\n",
    "ans_maj = 1407\n",
    "ans_min = 986"
   ]
  },
  {
   "cell_type": "markdown",
   "metadata": {
    "nbgrader": {
     "grade": false,
     "locked": true,
     "solution": false
    }
   },
   "source": [
    "While the activities are not perfectly represented equally, its fairly close.  \n",
    "A large imbalance in the distribution of the target variable categories can cause machine learning algorithms to train themselves well with the majority class, and perform poorly on the minority class."
   ]
  },
  {
   "cell_type": "markdown",
   "metadata": {
    "nbgrader": {
     "grade": false,
     "locked": true,
     "solution": false
    }
   },
   "source": [
    "**Use the `.describe()` method along with `.groupby()` method to compare the statistics within each activity.**"
   ]
  },
  {
   "cell_type": "code",
   "execution_count": 51,
   "metadata": {
    "nbgrader": {
     "grade": false,
     "locked": true,
     "solution": false
    }
   },
   "outputs": [
    {
     "data": {
      "text/plain": [
       "(7352, 562)"
      ]
     },
     "execution_count": 51,
     "metadata": {},
     "output_type": "execute_result"
    }
   ],
   "source": [
    "# concatenate the target variable\n",
    "# give target and observations conventional names\n",
    "y = har_train_labels \n",
    "X = har_train\n",
    "\n",
    "data = pd.concat([X, y], axis=1)\n",
    "data.shape "
   ]
  },
  {
   "cell_type": "code",
   "execution_count": 52,
   "metadata": {
    "nbgrader": {
     "grade": false,
     "locked": true,
     "solution": false
    },
    "scrolled": false
   },
   "outputs": [
    {
     "data": {
      "text/html": [
       "<div>\n",
       "<style scoped>\n",
       "    .dataframe tbody tr th:only-of-type {\n",
       "        vertical-align: middle;\n",
       "    }\n",
       "\n",
       "    .dataframe tbody tr th {\n",
       "        vertical-align: top;\n",
       "    }\n",
       "\n",
       "    .dataframe thead th {\n",
       "        text-align: right;\n",
       "    }\n",
       "</style>\n",
       "<table border=\"1\" class=\"dataframe\">\n",
       "  <thead>\n",
       "    <tr style=\"text-align: right;\">\n",
       "      <th></th>\n",
       "      <th>label</th>\n",
       "      <th>1</th>\n",
       "      <th>2</th>\n",
       "      <th>3</th>\n",
       "      <th>4</th>\n",
       "      <th>5</th>\n",
       "      <th>6</th>\n",
       "    </tr>\n",
       "  </thead>\n",
       "  <tbody>\n",
       "    <tr>\n",
       "      <th rowspan=\"6\" valign=\"top\">1 tBodyAcc-mean()-X</th>\n",
       "      <th>count</th>\n",
       "      <td>1226.000000</td>\n",
       "      <td>1073.000000</td>\n",
       "      <td>986.000000</td>\n",
       "      <td>1286.000000</td>\n",
       "      <td>1374.000000</td>\n",
       "      <td>1407.000000</td>\n",
       "    </tr>\n",
       "    <tr>\n",
       "      <th>mean</th>\n",
       "      <td>0.276260</td>\n",
       "      <td>0.261930</td>\n",
       "      <td>0.288169</td>\n",
       "      <td>0.273449</td>\n",
       "      <td>0.279294</td>\n",
       "      <td>0.269191</td>\n",
       "    </tr>\n",
       "    <tr>\n",
       "      <th>std</th>\n",
       "      <td>0.050353</td>\n",
       "      <td>0.078029</td>\n",
       "      <td>0.095101</td>\n",
       "      <td>0.041998</td>\n",
       "      <td>0.020097</td>\n",
       "      <td>0.101541</td>\n",
       "    </tr>\n",
       "    <tr>\n",
       "      <th>min</th>\n",
       "      <td>0.121465</td>\n",
       "      <td>-0.061041</td>\n",
       "      <td>-0.161088</td>\n",
       "      <td>-0.412659</td>\n",
       "      <td>0.111231</td>\n",
       "      <td>-1.000000</td>\n",
       "    </tr>\n",
       "    <tr>\n",
       "      <th>max</th>\n",
       "      <td>0.433256</td>\n",
       "      <td>0.480180</td>\n",
       "      <td>0.617597</td>\n",
       "      <td>0.559135</td>\n",
       "      <td>0.631510</td>\n",
       "      <td>1.000000</td>\n",
       "    </tr>\n",
       "    <tr>\n",
       "      <th>median</th>\n",
       "      <td>0.274582</td>\n",
       "      <td>0.266666</td>\n",
       "      <td>0.284955</td>\n",
       "      <td>0.277306</td>\n",
       "      <td>0.277507</td>\n",
       "      <td>0.276946</td>\n",
       "    </tr>\n",
       "    <tr>\n",
       "      <th rowspan=\"6\" valign=\"top\">2 tBodyAcc-mean()-Y</th>\n",
       "      <th>count</th>\n",
       "      <td>1226.000000</td>\n",
       "      <td>1073.000000</td>\n",
       "      <td>986.000000</td>\n",
       "      <td>1286.000000</td>\n",
       "      <td>1374.000000</td>\n",
       "      <td>1407.000000</td>\n",
       "    </tr>\n",
       "    <tr>\n",
       "      <th>mean</th>\n",
       "      <td>-0.017768</td>\n",
       "      <td>-0.026647</td>\n",
       "      <td>-0.016370</td>\n",
       "      <td>-0.012143</td>\n",
       "      <td>-0.016123</td>\n",
       "      <td>-0.018345</td>\n",
       "    </tr>\n",
       "    <tr>\n",
       "      <th>std</th>\n",
       "      <td>0.020880</td>\n",
       "      <td>0.037038</td>\n",
       "      <td>0.027057</td>\n",
       "      <td>0.032421</td>\n",
       "      <td>0.017846</td>\n",
       "      <td>0.073512</td>\n",
       "    </tr>\n",
       "    <tr>\n",
       "      <th>min</th>\n",
       "      <td>-0.127407</td>\n",
       "      <td>-0.183885</td>\n",
       "      <td>-0.094826</td>\n",
       "      <td>-0.121073</td>\n",
       "      <td>-0.116007</td>\n",
       "      <td>-1.000000</td>\n",
       "    </tr>\n",
       "    <tr>\n",
       "      <th>max</th>\n",
       "      <td>0.071488</td>\n",
       "      <td>0.100904</td>\n",
       "      <td>0.099755</td>\n",
       "      <td>0.324130</td>\n",
       "      <td>0.212768</td>\n",
       "      <td>1.000000</td>\n",
       "    </tr>\n",
       "    <tr>\n",
       "      <th>median</th>\n",
       "      <td>-0.017867</td>\n",
       "      <td>-0.023000</td>\n",
       "      <td>-0.017714</td>\n",
       "      <td>-0.016457</td>\n",
       "      <td>-0.017097</td>\n",
       "      <td>-0.017364</td>\n",
       "    </tr>\n",
       "    <tr>\n",
       "      <th rowspan=\"6\" valign=\"top\">3 tBodyAcc-mean()-Z</th>\n",
       "      <th>count</th>\n",
       "      <td>1226.000000</td>\n",
       "      <td>1073.000000</td>\n",
       "      <td>986.000000</td>\n",
       "      <td>1286.000000</td>\n",
       "      <td>1374.000000</td>\n",
       "      <td>1407.000000</td>\n",
       "    </tr>\n",
       "    <tr>\n",
       "      <th>mean</th>\n",
       "      <td>-0.108884</td>\n",
       "      <td>-0.120424</td>\n",
       "      <td>-0.105860</td>\n",
       "      <td>-0.106581</td>\n",
       "      <td>-0.107330</td>\n",
       "      <td>-0.107169</td>\n",
       "    </tr>\n",
       "    <tr>\n",
       "      <th>std</th>\n",
       "      <td>0.032436</td>\n",
       "      <td>0.060204</td>\n",
       "      <td>0.050656</td>\n",
       "      <td>0.045323</td>\n",
       "      <td>0.035680</td>\n",
       "      <td>0.089743</td>\n",
       "    </tr>\n",
       "    <tr>\n",
       "      <th>min</th>\n",
       "      <td>-0.285675</td>\n",
       "      <td>-0.403290</td>\n",
       "      <td>-0.289816</td>\n",
       "      <td>-0.560934</td>\n",
       "      <td>-0.509645</td>\n",
       "      <td>-1.000000</td>\n",
       "    </tr>\n",
       "    <tr>\n",
       "      <th>max</th>\n",
       "      <td>0.006195</td>\n",
       "      <td>0.142537</td>\n",
       "      <td>0.091229</td>\n",
       "      <td>0.280939</td>\n",
       "      <td>0.267377</td>\n",
       "      <td>1.000000</td>\n",
       "    </tr>\n",
       "    <tr>\n",
       "      <th>median</th>\n",
       "      <td>-0.110424</td>\n",
       "      <td>-0.113635</td>\n",
       "      <td>-0.109039</td>\n",
       "      <td>-0.108125</td>\n",
       "      <td>-0.108771</td>\n",
       "      <td>-0.108104</td>\n",
       "    </tr>\n",
       "    <tr>\n",
       "      <th rowspan=\"2\" valign=\"top\">4 tBodyAcc-std()-X</th>\n",
       "      <th>count</th>\n",
       "      <td>1226.000000</td>\n",
       "      <td>1073.000000</td>\n",
       "      <td>986.000000</td>\n",
       "      <td>1286.000000</td>\n",
       "      <td>1374.000000</td>\n",
       "      <td>1407.000000</td>\n",
       "    </tr>\n",
       "    <tr>\n",
       "      <th>mean</th>\n",
       "      <td>-0.312641</td>\n",
       "      <td>-0.221072</td>\n",
       "      <td>0.139847</td>\n",
       "      <td>-0.983450</td>\n",
       "      <td>-0.985346</td>\n",
       "      <td>-0.959475</td>\n",
       "    </tr>\n",
       "  </tbody>\n",
       "</table>\n",
       "</div>"
      ],
      "text/plain": [
       "label                                 1            2           3            4  \\\n",
       "1 tBodyAcc-mean()-X count   1226.000000  1073.000000  986.000000  1286.000000   \n",
       "                    mean       0.276260     0.261930    0.288169     0.273449   \n",
       "                    std        0.050353     0.078029    0.095101     0.041998   \n",
       "                    min        0.121465    -0.061041   -0.161088    -0.412659   \n",
       "                    max        0.433256     0.480180    0.617597     0.559135   \n",
       "                    median     0.274582     0.266666    0.284955     0.277306   \n",
       "2 tBodyAcc-mean()-Y count   1226.000000  1073.000000  986.000000  1286.000000   \n",
       "                    mean      -0.017768    -0.026647   -0.016370    -0.012143   \n",
       "                    std        0.020880     0.037038    0.027057     0.032421   \n",
       "                    min       -0.127407    -0.183885   -0.094826    -0.121073   \n",
       "                    max        0.071488     0.100904    0.099755     0.324130   \n",
       "                    median    -0.017867    -0.023000   -0.017714    -0.016457   \n",
       "3 tBodyAcc-mean()-Z count   1226.000000  1073.000000  986.000000  1286.000000   \n",
       "                    mean      -0.108884    -0.120424   -0.105860    -0.106581   \n",
       "                    std        0.032436     0.060204    0.050656     0.045323   \n",
       "                    min       -0.285675    -0.403290   -0.289816    -0.560934   \n",
       "                    max        0.006195     0.142537    0.091229     0.280939   \n",
       "                    median    -0.110424    -0.113635   -0.109039    -0.108125   \n",
       "4 tBodyAcc-std()-X  count   1226.000000  1073.000000  986.000000  1286.000000   \n",
       "                    mean      -0.312641    -0.221072    0.139847    -0.983450   \n",
       "\n",
       "label                                 5            6  \n",
       "1 tBodyAcc-mean()-X count   1374.000000  1407.000000  \n",
       "                    mean       0.279294     0.269191  \n",
       "                    std        0.020097     0.101541  \n",
       "                    min        0.111231    -1.000000  \n",
       "                    max        0.631510     1.000000  \n",
       "                    median     0.277507     0.276946  \n",
       "2 tBodyAcc-mean()-Y count   1374.000000  1407.000000  \n",
       "                    mean      -0.016123    -0.018345  \n",
       "                    std        0.017846     0.073512  \n",
       "                    min       -0.116007    -1.000000  \n",
       "                    max        0.212768     1.000000  \n",
       "                    median    -0.017097    -0.017364  \n",
       "3 tBodyAcc-mean()-Z count   1374.000000  1407.000000  \n",
       "                    mean      -0.107330    -0.107169  \n",
       "                    std        0.035680     0.089743  \n",
       "                    min       -0.509645    -1.000000  \n",
       "                    max        0.267377     1.000000  \n",
       "                    median    -0.108771    -0.108104  \n",
       "4 tBodyAcc-std()-X  count   1374.000000  1407.000000  \n",
       "                    mean      -0.985346    -0.959475  "
      ]
     },
     "execution_count": 52,
     "metadata": {},
     "output_type": "execute_result"
    }
   ],
   "source": [
    "# group by the 'label' and show descriptive stats\n",
    "data.groupby('label').agg(['count', 'mean','std','min','max','median']).T.head(20)"
   ]
  },
  {
   "cell_type": "markdown",
   "metadata": {
    "nbgrader": {
     "grade": false,
     "locked": true,
     "solution": false
    }
   },
   "source": [
    "**Summary**:  \n",
    "EDA should be tailored to your specific problem - to help develop and understanding of the data for a particular purpose. This is time consuming process when the data are large with many features. It's subject matter experts can guide initial explorations.  \n",
    "\n",
    "The above are examples of just a few of the things EDA should include when starting a project."
   ]
  },
  {
   "cell_type": "markdown",
   "metadata": {
    "nbgrader": {
     "grade": false,
     "locked": true,
     "solution": false
    }
   },
   "source": [
    "With a feel for the data, now we will aside a \"test\" data-set that will allow us to evaluate out models.  \n",
    "\n",
    "`train_test_split` from `sklearn.model_selection` module provides an easy way to do this.  \n",
    "\n",
    "Setting `test_size=.3` and `random_state=24`."
   ]
  },
  {
   "cell_type": "code",
   "execution_count": 53,
   "metadata": {
    "collapsed": true,
    "nbgrader": {
     "grade": false,
     "locked": true,
     "solution": false
    }
   },
   "outputs": [],
   "source": [
    "from sklearn.model_selection import train_test_split\n",
    "\n",
    "X_train, X_test, y_train, y_test = train_test_split(X, y, test_size=.3, random_state=24)"
   ]
  },
  {
   "cell_type": "markdown",
   "metadata": {
    "nbgrader": {
     "grade": false,
     "locked": true,
     "solution": false
    }
   },
   "source": [
    "<a id=\"part2\"></a>\n",
    "## Part 2: Code KNN"
   ]
  },
  {
   "cell_type": "markdown",
   "metadata": {
    "nbgrader": {
     "grade": false,
     "locked": true,
     "solution": false
    }
   },
   "source": [
    "Note: The following was adapted from example 2.1.2 in Chapter 2 of [_Machine Learning in Action_ by Peter Harrington](https://www.manning.com/books/machine-learning-in-action)."
   ]
  },
  {
   "cell_type": "markdown",
   "metadata": {
    "nbgrader": {
     "grade": false,
     "locked": true,
     "solution": false
    }
   },
   "source": [
    "Before fitting a KNN model using built in functionality in the `sklearn` package, we will code our own version of KNN.  \n",
    "\n",
    "Given a value (with our movement-data, this \"value\" is better thought of as a vector of values) to be classified, KNN calculates the distance between that value and all other values in the training data-set. Then, the \"`k`\" nearest neighbors are polled as to their \"label\", and the given value is predicted to be of that majority value.  \n",
    "\n",
    "Thus we need to:\n",
    "\n",
    "**Create a function that accepts the following parameters:**  \n",
    "- A single data point to be classified (`input_vector`)\n",
    "- Training data (`X_train`)   \n",
    "- Labels for training data\n",
    "- Value for k (some positive integer)\n",
    "- Optional: Similarity Metric (Euclidean or Cosine)- This exercise will use [Euclidean](https://en.wikipedia.org/wiki/Euclidean_distance) for simplicity.  \n",
    "\n",
    "\n",
    "**Function Signature:**  \n",
    "`def my_knn(input_vector, X_train, y_train, k, [metric])`  \n",
    "\n",
    "**Pseudo Code:**  \n",
    "```\n",
    "for every point in our dataset:\n",
    "    calculate the distance between the current point and input_vector\n",
    "    sort the distances in increasing order\n",
    "    take k items with lowest disances to input_vector\n",
    "    find the majority class among these items\n",
    "    return the majority class label from the k closest neighbors\n",
    "```\n",
    "\n",
    "**Return:**   \n",
    "- The prediction for `input_vector`  "
   ]
  },
  {
   "cell_type": "markdown",
   "metadata": {
    "nbgrader": {
     "grade": false,
     "locked": true,
     "solution": false
    }
   },
   "source": [
    "#### Question 6"
   ]
  },
  {
   "cell_type": "code",
   "execution_count": 2,
   "metadata": {},
   "outputs": [],
   "source": [
    "### This exercise will use Euclidean distances.  \n",
    "### Please find the Euclidean distance between the points (1,2,3,-4,6) and (10,2,32,-2,0)\n",
    "### Assign distance as number to ans1\n",
    "import numpy as np\n",
    "p1 = (1,2,3,-4,6)\n",
    "p2 = (10,2,32,-2,0)\n",
    "tot = 0\n",
    "for i, j in zip(p1,p2):\n",
    "    tot+= (i - j)*(i-j)\n",
    "tot**(1/2)\n",
    "    \n",
    "ans1 = np.sqrt(tot)"
   ]
  },
  {
   "cell_type": "markdown",
   "metadata": {
    "nbgrader": {
     "grade": false,
     "locked": true,
     "solution": false
    }
   },
   "source": [
    "#### Question 7"
   ]
  },
  {
   "cell_type": "code",
   "execution_count": 68,
   "metadata": {
    "collapsed": true
   },
   "outputs": [],
   "source": [
    "### Code a function called \"euclid_dist\" \n",
    "\n",
    "def euclid_dist(p1, p2):\n",
    "    \"\"\"\n",
    "    Calculate the Euclidian Distance between two points\n",
    "    \n",
    "    Positional Arguments:\n",
    "        p1 -- A tuple of n numbers\n",
    "        p2 -- A tuple of n numbers\n",
    "    \n",
    "    Example:\n",
    "        p1 = (5,5)\n",
    "        p2 = (0,0)\n",
    "        p3 = (5,6,7,8,9,10)\n",
    "        p4 = (1,2,3,4,5,6)\n",
    "        print(euclid_dist(p1,p2)) #--> 7.0710678118654755\n",
    "        print(euclid_dist(p3,p4)) #--> 9.797958971132712\n",
    "    \"\"\"\n",
    "    tot = 0\n",
    "    for i,j in zip(p1,p2):\n",
    "        tot+= (i-j)*(i-j)\n",
    "    \n",
    "    return tot**(1/2)"
   ]
  },
  {
   "cell_type": "markdown",
   "metadata": {
    "nbgrader": {
     "grade": false,
     "locked": true,
     "solution": false
    }
   },
   "source": [
    "#### Distances with `numpy`\n",
    "The above exercise is a simple check for understanding. However, in our eventual KNN function we will use `numpy` to more efficiently calculate distances with the following code : `np.linalg.norm(np.array(p1)-np.array(p2))`.  \n",
    "\n",
    "Thankfully because `Pandas` uses `Numpy` \"under the hood\" we will not have to cast to numpy arrays with `np.arry()` instead it will look like:  \n",
    "`np.linalg.norm(row1 - row1)`  \n",
    "\n",
    "Now that we can easily calculate the distances between any two points, we can start to build our function."
   ]
  },
  {
   "cell_type": "markdown",
   "metadata": {
    "nbgrader": {
     "grade": false,
     "locked": true,
     "solution": false
    }
   },
   "source": [
    "#### Question 8"
   ]
  },
  {
   "cell_type": "code",
   "execution_count": 3,
   "metadata": {},
   "outputs": [],
   "source": [
    "def all_distances(test_point, data_set):\n",
    "    \"\"\"\n",
    "    Find and return a list of distances between the \"test_point\"\n",
    "    and all the points in \"data_set\", sorted from smallest to largest.\n",
    "    \n",
    "    Positional Arguments:\n",
    "        test_point -- a Pandas Series corresponding to a row in \"data_set\"\n",
    "        data_set -- a Pandas DataFrame\n",
    "    \n",
    "    Example:\n",
    "        test_point = har_train.iloc[50,:]\n",
    "        data_set = har_train\n",
    "        \n",
    "        print(all_distances(test_point, data_set)[:5])\n",
    "        #--> [0.0, 2.7970187358249854, 2.922792670143521, 2.966555149052483, 3.033982453218797]\n",
    "    \n",
    "    \"\"\"\n",
    "    distances = []\n",
    "    for i in range(len(data_set)):\n",
    "        distance = np.linalg.norm(test_point - data_set.iloc[i,:], axis = -1)\n",
    "        distances.append(distance)\n",
    "        \n",
    "    return sorted(distances)\n",
    "#all_distances(har_train.iloc[50,:], har_train)[:5]"
   ]
  },
  {
   "cell_type": "markdown",
   "metadata": {
    "nbgrader": {
     "grade": false,
     "locked": true,
     "solution": false
    }
   },
   "source": [
    "#### Question 9 \n",
    "\n",
    "Returning the value of a point and the label associated with that point:"
   ]
  },
  {
   "cell_type": "code",
   "execution_count": 4,
   "metadata": {
    "nbgrader": {
     "grade": false,
     "locked": false,
     "solution": false
    }
   },
   "outputs": [],
   "source": [
    "def labels_of_smallest(numeric, labels, n):\n",
    "    \n",
    "    \"\"\"\n",
    "    Return the n labels corresponding to the n smallest values in the \"numeric\"\n",
    "    numpy array.\n",
    "    \n",
    "    Positional Arguments:\n",
    "        numeric -- a numpy array of numbers\n",
    "        labels -- a numpy array of labels (string or numeric)\n",
    "            corresponding to the values in \"numeric\"\n",
    "        n -- a positive integer\n",
    "        \n",
    "    Example:\n",
    "        numeric = np.array([7,6,5,4,3,2,1])\n",
    "        labels = np.array([\"a\",\"a\",\"b\",\"b\",\"b\",\"a\",\"a\"])\n",
    "        n = 6\n",
    "        \n",
    "        print(labels_of_smallest(numeric, labels, n))\n",
    "        #--> np.array(['a', 'a', 'b', 'b', 'b', 'a'])\n",
    "    \"\"\"\n",
    "    ##idk = pd.Series(numeric,index = labels)\n",
    "    ##idk.sort_values().index[:n]\n",
    "    ##or\n",
    "    ## [tup[-1] for tup in sorted((x,i) for i,x in zip(labels,numeric))[:n]]\n",
    "    combos = sorted(zip(numeric,labels))\n",
    "    l = []\n",
    "    for tup in combos[:n]:\n",
    "        l.append(tup[-1])\n",
    "    return l"
   ]
  },
  {
   "cell_type": "markdown",
   "metadata": {
    "nbgrader": {
     "grade": false,
     "locked": true,
     "solution": false
    }
   },
   "source": [
    "#### Question 10: \n",
    "Voting.\n",
    "Hint: look at [Counter](https://docs.python.org/3/library/collections.html#collections.Counter) and `.most_common()`"
   ]
  },
  {
   "cell_type": "code",
   "execution_count": 5,
   "metadata": {},
   "outputs": [],
   "source": [
    "from collections import Counter\n",
    "def label_voting(labels):\n",
    "    \"\"\"\n",
    "    Given a numpy array of labels. Return the label that appears most frequently\n",
    "    If there is a tie for most frequent, return the label that appears first.\n",
    "    \n",
    "    Positional Argument:\n",
    "        labels -- a numpy array of labels\n",
    "    \n",
    "    Example:\n",
    "        lab1 = np.array([1,2,2,3,3])\n",
    "        lab2 = np.array([\"a\",\"a\",\"b\",\"b\",\"b\"])\n",
    "        \n",
    "        print(label_voting(lab1)) #--> 2\n",
    "        print(label_voting(lab2)) #--> \"b\"\n",
    "        \n",
    "    \"\"\"\n",
    "    data = Counter(labels)\n",
    "    #data.most_common(1)[0][0])\n",
    "    return max(labels, key = data.get)"
   ]
  },
  {
   "cell_type": "markdown",
   "metadata": {
    "nbgrader": {
     "grade": false,
     "locked": true,
     "solution": false
    }
   },
   "source": [
    "#### Question 11\n",
    "Time to put everything together.  \n",
    "\n",
    "Question 6/7/8 involved calculating distances.\n",
    "Question 9 involved sorting and returning n labels.\n",
    "Question 10 counted \"votes.\"\n",
    "\n",
    "The next question asks for a KNN modeling function:  \n",
    "\n",
    "Given four inputs: \n",
    "1. a single value from  X_test (created above in our `test_train_split`)  \n",
    "2. X_train  \n",
    "3. y_train (labels)   \n",
    "4. n - the number of nearest neighbors to poll in making predictions.\n",
    "\n",
    "Create a function that:\n",
    "1. Calculates the Euclidean distance between that X_test-point and every point in X_train\n",
    "2. Finds the labels from the \"n\" nearest neighbors (ordered from closest to furthest)\n",
    "3. Returns a prediction according to the voting rules outlined above (simple majority - tie goes to closest/first)  \n",
    "\n",
    "Assign to \"`custom_KNN`\""
   ]
  },
  {
   "cell_type": "code",
   "execution_count": 6,
   "metadata": {},
   "outputs": [],
   "source": [
    "def custom_KNN( point, X_train, y_train, n):\n",
    "    \"\"\"\n",
    "    Predict the label for a single point, given training data and a specified\n",
    "    \"n\" number of neighbors.\n",
    "    \n",
    "    Positional Arguments:\n",
    "        point -- a pandas Series corresponding to an observation of a point with\n",
    "             unknown label.\n",
    "        x_train -- a pandas DataFrame corresponding to the measurements\n",
    "            of points in a dataset. Assume all values are numeric, and\n",
    "            observations are in the rows; features in the columns\n",
    "        y_train -- a pandas Series corresponding to the labels for the observations\n",
    "            in x_train\n",
    "    \n",
    "    Example:\n",
    "        point = pd.Series([1,2])\n",
    "        X_train = pd.DataFrame([[1,2],[3,4],[5,6]])\n",
    "        y_train = pd.Series([\"a\",\"a\",\"b\"])\n",
    "        n = 2\n",
    "        print(custom_KNN(point, X_train, y_train, n)) #--> 'a'\n",
    "    \"\"\"\n",
    "    X_train.index = y_train\n",
    "    distances = []\n",
    "    for i in range(len(X_train)):\n",
    "        dist = np.linalg.norm(point - X_train.iloc[i,:])\n",
    "        distances.append((X_train.index[i],dist))\n",
    "        \n",
    "    sortedlist = [tup[0] for tup in sorted((i,x) for i,x in distances)[:n]]\n",
    "    return Counter(sortedlist).most_common()[0][0]\n",
    "    "
   ]
  },
  {
   "cell_type": "markdown",
   "metadata": {
    "nbgrader": {
     "grade": false,
     "locked": true,
     "solution": false
    }
   },
   "source": [
    "You should now have a functioning KNN classifier assigned to the function `customKNN`.\n",
    "\n",
    "Let's now see how good our classifier is using `n` = 5.  \n",
    "\n",
    "Be warned, the below cell may or may not complete runing on Vocareum due to processing constraints.  (The cell took 12.9s on my machine, using my fairly efficient function, a less efficient function took ~5.5mins).  \n",
    "\n",
    "**FOR FASTER GRADING, TRY COMMENTING OUT THE CELL BELOW**"
   ]
  },
  {
   "cell_type": "code",
   "execution_count": 222,
   "metadata": {
    "nbgrader": {
     "grade": false,
     "locked": false,
     "solution": false
    }
   },
   "outputs": [],
   "source": [
    "#%%time\n",
    "\n",
    "# Create New tts\n",
    "#X_train, X_test, y_train, y_test = train_test_split(X, y, test_size=.3, random_state=24)\n",
    "\n",
    "#print(\"Total 'test' observations:\", len(X_test))\n",
    "#print(\"Classifying every point in X_test would take too long - classify the first 200\")\n",
    "#custom_preds = []\n",
    "#for i, idx in enumerate(X_test.index[:200]):\n",
    "#    if i % 100 == 0: print(i)\n",
    "#    pred = custom_KNN(X_test.loc[idx,:], X_train, y_train, 5)\n",
    "#    custom_preds.append(pred)"
   ]
  },
  {
   "cell_type": "markdown",
   "metadata": {
    "nbgrader": {
     "grade": false,
     "locked": true,
     "solution": false
    }
   },
   "source": [
    "<a id = \"sklearn\"></a>\n",
    "### KNN in Sklearn\n",
    "\n",
    "While useful to see exactly how predictions are made using K-Nearest Neighbors, the `sklearn` has an implementation called [KNeighborsClassifier](http://scikit-learn.org/stable/modules/generated/sklearn.neighbors.KNeighborsClassifier.html) that will run much faster than our home-built version.  "
   ]
  },
  {
   "cell_type": "code",
   "execution_count": 223,
   "metadata": {
    "nbgrader": {
     "grade": false,
     "locked": true,
     "solution": false
    }
   },
   "outputs": [
    {
     "name": "stdout",
     "output_type": "stream",
     "text": [
      "sklearn prediction performance\n",
      "              precision    recall  f1-score   support\n",
      "\n",
      "           1       1.00      1.00      1.00        44\n",
      "           2       0.97      1.00      0.99        33\n",
      "           3       1.00      0.95      0.98        22\n",
      "           4       0.82      0.92      0.87        25\n",
      "           5       0.94      0.86      0.90        36\n",
      "           6       1.00      1.00      1.00        40\n",
      "\n",
      "   micro avg       0.96      0.96      0.96       200\n",
      "   macro avg       0.96      0.96      0.95       200\n",
      "weighted avg       0.96      0.96      0.96       200\n",
      "\n",
      "\n",
      "Home-Built prediction performance\n",
      "              precision    recall  f1-score   support\n",
      "\n",
      "           1       0.22      1.00      0.36        44\n",
      "           2       0.00      0.00      0.00        33\n",
      "           3       0.00      0.00      0.00        22\n",
      "           4       0.00      0.00      0.00        25\n",
      "           5       0.00      0.00      0.00        36\n",
      "           6       0.00      0.00      0.00        40\n",
      "\n",
      "   micro avg       0.22      0.22      0.22       200\n",
      "   macro avg       0.04      0.17      0.06       200\n",
      "weighted avg       0.05      0.22      0.08       200\n",
      "\n",
      "Total Differences: 156\n",
      "CPU times: user 824 ms, sys: 4 ms, total: 828 ms\n",
      "Wall time: 826 ms\n"
     ]
    },
    {
     "name": "stderr",
     "output_type": "stream",
     "text": [
      "/usr/local/lib/python3.6/site-packages/sklearn/metrics/classification.py:1143: UndefinedMetricWarning: Precision and F-score are ill-defined and being set to 0.0 in labels with no predicted samples.\n",
      "  'precision', 'predicted', average, warn_for)\n"
     ]
    }
   ],
   "source": [
    "%%time\n",
    "# Import\n",
    "from sklearn.neighbors import KNeighborsClassifier\n",
    "from sklearn.metrics import classification_report\n",
    "\n",
    "# Instantiate classifier\n",
    "# NB: Default distance is Euclidean\n",
    "knn = KNeighborsClassifier(n_neighbors = 5)\n",
    "\n",
    "# Fit model with training data\n",
    "knn.fit(X_train, y_train)\n",
    "\n",
    "# Create predictions for first 200 test observations\n",
    "# # (As was done above with customKNN)\n",
    "skpreds = knn.predict(X_test[:200])\n",
    "\n",
    "print(\"sklearn prediction performance\")\n",
    "print(classification_report(y_test[:200], skpreds))\n",
    "\n",
    "\n",
    "### The below lines of code will compare the performance of your home-built classification with\n",
    "### The sklearn predictions -- if all the cells above were run sucessfully, you should see identical scores\n",
    "\n",
    "print(\"\\nHome-Built prediction performance\")\n",
    "print(classification_report(y_test[:200], custom_preds))\n",
    "\n",
    "\n",
    "### The below lines of code will explicitly compare predictions:\n",
    "### \"differences\" should == 0!\n",
    "\n",
    "### NB: Commenting/uncommenting multiple lines in Jupyter can be accomplished with:\n",
    "### <ctrl-/> on windows and <cmd-/> on mac\n",
    "differences = 0\n",
    "for cust, sk in zip(custom_preds, skpreds):\n",
    "    if cust != sk:\n",
    "        differences +=1\n",
    "print(\"Total Differences:\", differences)"
   ]
  },
  {
   "cell_type": "markdown",
   "metadata": {
    "nbgrader": {
     "grade": false,
     "locked": true,
     "solution": false
    }
   },
   "source": [
    "#### Practice with `sklearn`:  \n",
    "\n",
    "The below questions will ask you to create a new test/train split, and fit a new KNN model with `sklearn`.  \n",
    "\n",
    "All of these steps have already been performed above. Feel free to reference."
   ]
  },
  {
   "cell_type": "code",
   "execution_count": 224,
   "metadata": {
    "collapsed": true,
    "nbgrader": {
     "grade": false,
     "locked": true,
     "solution": false
    }
   },
   "outputs": [],
   "source": [
    "# Ensure Data is consistent\n",
    "\n",
    "# read feature names\n",
    "feats = pd.read_table(FEATURE_NAMES, sep='\\n', header=None)\n",
    "\n",
    "# read in training data\n",
    "har_train = pd.read_table(TRAIN_DATA, sep='\\s+', header=None)\n",
    "\n",
    "# read in training labels, and clean them.\n",
    "har_train_labels = pd.read_table(TRAIN_LABELS, sep='\\n', header=None)\n",
    "clean_features = [feat[0].split(' ')[1] for feat in feats.values]\n",
    "har_train.columns = clean_features\n",
    "\n",
    "har_train_labels = pd.read_table(TRAIN_LABELS, sep='\\n', header=None)\n",
    "har_train_labels.columns = ['label']\n",
    "y = har_train_labels.loc[:, 'label']"
   ]
  },
  {
   "cell_type": "markdown",
   "metadata": {
    "nbgrader": {
     "grade": false,
     "locked": true,
     "solution": false
    }
   },
   "source": [
    "#### Question 13"
   ]
  },
  {
   "cell_type": "code",
   "execution_count": 227,
   "metadata": {
    "collapsed": true,
    "nbgrader": {
     "grade": false,
     "locked": true,
     "solution": false
    }
   },
   "outputs": [],
   "source": [
    "### This cell creates X_train3, X_test3, y_train3, and y_test3; used below.\n",
    "\n",
    "X_train3, X_test3, y_train3, y_test3 = train_test_split(har_train, y, test_size = .4, random_state = 2001)\n"
   ]
  },
  {
   "cell_type": "code",
   "execution_count": 229,
   "metadata": {},
   "outputs": [],
   "source": [
    "### GRADED\n",
    "### Build a KNN classifier using sklearn.\n",
    "### ### specify n_neighbors as 10. Otherwise accept the `KNeighborsClassifier` defaults.\n",
    "\n",
    "### Fit the model using the provided \"X_train3\" and \"y_train3\" variables, from above cell.\n",
    "### assign the predictions from your model for the provided \"X_test3\" data to a variable called ans1.\n",
    "### YOUR ANSWER BELOW\n",
    "\"\"\"\n",
    "Example:\n",
    "\n",
    "# Code for Instantiating a KNN Model\n",
    "\n",
    "# Fit KNN with X_train3 and y_train3\n",
    "\n",
    "# Create Predictions on X_test3\n",
    "\n",
    "ans1 = preds\n",
    "\n",
    "print(ans1[:5])\n",
    "#-->np.array([6 5 1 6 4])\n",
    "\n",
    "### NOTE: Your predictions may look different due to how \"random_state\" depends on current time.\n",
    "\"\"\"\n",
    "knn = KNeighborsClassifier(n_neighbors = 5)\n",
    "\n",
    "# Fit model with training data\n",
    "knn.fit(X_train3, y_train3)\n",
    "\n",
    "# Create predictions for first 200 test observations\n",
    "# # (As was done above with customKNN)\n",
    "skpreds = knn.predict(X_test3[:5])\n",
    "\n",
    "ans1 = skpreds"
   ]
  },
  {
   "cell_type": "markdown",
   "metadata": {
    "nbgrader": {
     "grade": false,
     "locked": true,
     "solution": false
    }
   },
   "source": [
    "Building a model using sklearn is just as easy as those last two steps! As long as your data is in the right format, once you make your train/test split, the syntax for fitting pretty much any of the models in `sklearn` is about the same.   \n",
    "\n",
    "<a id=\"part3\"></a>\n",
    "## Part 3: Interpret Results\n",
    "\n",
    "For interpreting results we will be looking at the tradeoff between bias and variance as we change our `n_neighbors`. In many cases, false negatives are more costly and false positives. As such we will be looking primarily at the change in recall as we build a number of different models.  \n",
    "\n",
    "Note: The below takes some time to run. ~ 3.5min. Thus output is provided as screenshot below"
   ]
  },
  {
   "cell_type": "code",
   "execution_count": 231,
   "metadata": {
    "collapsed": true,
    "nbgrader": {
     "grade": false,
     "locked": true,
     "solution": false
    }
   },
   "outputs": [],
   "source": [
    "# %%time\n",
    "# from sklearn.metrics import recall_score\n",
    "\n",
    "### Calculating Recal scores for multiple \"n-neighbors\"\n",
    "# recall_scores = {}\n",
    "# for n in [1,2,3,4,5,6,7,8,9,10,11,12,13,14,15,20,25,50,75,100]:\n",
    "#     knn = KNeighborsClassifier(n_neighbors=n)\n",
    "#     knn.fit(X_train, y_train)\n",
    "#     recall_scores[n] = recall_score(y_test, knn.predict(X_test), average = None)\n",
    "    \n",
    "### Put recall scores into DataFrame\n",
    "# scores_df = pd.DataFrame(recall_scores).T\n",
    "# scores_df.columns = [str(i) for i in range(1,7)]\n",
    "# scores_df.index = scores_df.index.astype(str)\n",
    "\n",
    "### Create plot of recall scores\n",
    "# plt.figure(figsize = (10,10))\n",
    "# for col in scores_df:\n",
    "#     if col != 'n_neighbors':\n",
    "#         plt.plot(scores_df[col], label = col)\n",
    "    \n",
    "# plt.ylabel(\" Recall Score\", fontsize = 12)\n",
    "# plt.xlabel(\"n_neighbors (NB: not an interval scale)\", fontsize = 12)\n",
    "# plt.legend(title = \"activity\");"
   ]
  },
  {
   "cell_type": "markdown",
   "metadata": {
    "nbgrader": {
     "grade": false,
     "locked": true,
     "solution": false
    }
   },
   "source": [
    "For this investigation of our model, recall was used. In other instances other metrics might be more useful, or more translatable to your use-case.  \n",
    "\n",
    "Hopefully from this brief look into tuning our model and investigating the effects it has become clear that either \"success\" or \"failure\" might be due to circumstance.  \n",
    "\n",
    "Even in the search for the trade-off between bias and variance, a single observation or even a pair of observations might not tell the full story."
   ]
  }
 ],
 "metadata": {
  "kernelspec": {
   "display_name": "Python 3",
   "language": "python",
   "name": "python3"
  },
  "language_info": {
   "codemirror_mode": {
    "name": "ipython",
    "version": 3
   },
   "file_extension": ".py",
   "mimetype": "text/x-python",
   "name": "python",
   "nbconvert_exporter": "python",
   "pygments_lexer": "ipython3",
   "version": "3.6.4"
  }
 },
 "nbformat": 4,
 "nbformat_minor": 2
}
