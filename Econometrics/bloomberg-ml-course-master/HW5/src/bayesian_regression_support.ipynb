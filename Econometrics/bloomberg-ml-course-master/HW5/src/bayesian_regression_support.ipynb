{
 "cells": [
  {
   "cell_type": "markdown",
   "metadata": {},
   "source": [
    "## Recreating figure 3.7 from Bishop's \"Pattern Recognition and Machine Learning.\"\n",
    "\n",
    "This notebook provides scaffolding for your exploration Bayesian Linear Gaussian Regression, as described in Lecture.\n",
    "In particular, through this notebook you will reproduce several variants of figure 3.7 from Bishop's book."
   ]
  },
  {
   "cell_type": "markdown",
   "metadata": {},
   "source": [
    "## Instructions:\n",
    "\n",
    "### 5.1-3:\n",
    "\n",
    "Implement the functions in `problem` -- completed implementations of these functions are needed to generate the plots."
   ]
  },
  {
   "cell_type": "code",
   "execution_count": 3,
   "metadata": {},
   "outputs": [],
   "source": [
    "from support_code import *\n",
    "from problem import *"
   ]
  },
  {
   "cell_type": "markdown",
   "metadata": {},
   "source": [
    "## Instructions (continued):\n",
    "\n",
    "### 5.4:\n",
    "\n",
    "If your implementations are correct, then the next few code blocks in this notebook will generate the required variants of Bishop's figure. These are the same figures that you would obtain if you ran `python problem.py` from the command line -- this notebook is just provided as additional support."
   ]
  },
  {
   "cell_type": "code",
   "execution_count": 4,
   "metadata": {},
   "outputs": [],
   "source": [
    "# Generate our simulated dataset\n",
    "# Note we are using sigma == 0.2\n",
    "\n",
    "np.random.seed(46134)\n",
    "actual_weights = np.matrix([[0.3], [0.5]])\n",
    "data_size = 40\n",
    "noise = {\"mean\":0, \"var\":0.2 ** 2}\n",
    "likelihood_var = noise[\"var\"]\n",
    "xtrain, ytrain = generate_data(data_size,\n",
    "                               noise,\n",
    "                               actual_weights)"
   ]
  },
  {
   "cell_type": "markdown",
   "metadata": {},
   "source": [
    "Next, we generate the plots using 3 different prior covariance matrix. In the main call to `problem.py`, this is done in a loop -- here we wrap the loop body in a short helper function."
   ]
  },
  {
   "cell_type": "code",
   "execution_count": 5,
   "metadata": {},
   "outputs": [],
   "source": [
    "def make_plot_given_sigma(sigma_squared):\n",
    "    prior = {\"mean\":np.matrix([[0], [0]]),\n",
    "             \"var\":matlib.eye(2) * sigma_squared}\n",
    "\n",
    "    make_plots(actual_weights,\n",
    "               xtrain,\n",
    "               ytrain,\n",
    "               likelihood_var,\n",
    "               prior,\n",
    "               likelihood_func,\n",
    "               get_posterior_params,\n",
    "               get_predictive_params)"
   ]
  },
  {
   "cell_type": "code",
   "execution_count": 6,
   "metadata": {},
   "outputs": [],
   "source": [
    "sigmas = [1/2, 1/(2**5), 1/(2**10)]"
   ]
  },
  {
   "cell_type": "markdown",
   "metadata": {},
   "source": [
    "#### First covariance matrix:\n",
    "$$\\Sigma_{0} = \\frac{1}{2}I,\\qquad{} I \\in \\mathbb{R}^{2 \\times 2}$$"
   ]
  },
  {
   "cell_type": "code",
   "execution_count": 11,
   "metadata": {},
   "outputs": [
    {
     "name": "stdout",
     "output_type": "stream",
     "text": [
      "If not yet implemented, implement functions in problem.py.\n",
      "If you have implemented, remove this try/except.\n"
     ]
    }
   ],
   "source": [
    "try:\n",
    "    make_plot_given_sigma(sigmas[0])\n",
    "except NameError:\n",
    "    print('If not yet implemented, implement functions in problem.py.')\n",
    "    print('If you have implemented, remove this try/except.')"
   ]
  },
  {
   "cell_type": "markdown",
   "metadata": {},
   "source": [
    "#### Second covariance matrix:\n",
    "$$\\Sigma_{0} = \\frac{1}{2^{5}}I,\\qquad{} I \\in \\mathbb{R}^{2 \\times 2}$$"
   ]
  },
  {
   "cell_type": "code",
   "execution_count": 12,
   "metadata": {},
   "outputs": [
    {
     "name": "stdout",
     "output_type": "stream",
     "text": [
      "If not yet implemented, implement functions in problem.py.\n",
      "If you have implemented, remove this try/except.\n"
     ]
    }
   ],
   "source": [
    "try:\n",
    "    make_plot_given_sigma(sigmas[1])\n",
    "except NameError:\n",
    "    print('If not yet implemented, implement functions in problem.py.')\n",
    "    print('If you have implemented, remove this try/except.')"
   ]
  },
  {
   "cell_type": "markdown",
   "metadata": {},
   "source": [
    "#### Third covariance matrix:\n",
    "$$\\Sigma_{0} = \\frac{1}{2^{10}}I,\\qquad{} I \\in \\mathbb{R}^{2 \\times 2}$$"
   ]
  },
  {
   "cell_type": "code",
   "execution_count": 13,
   "metadata": {},
   "outputs": [
    {
     "name": "stdout",
     "output_type": "stream",
     "text": [
      "If not yet implemented, implement functions in problem.py.\n",
      "If you have implemented, remove this try/except.\n"
     ]
    }
   ],
   "source": [
    "try:\n",
    "    make_plot_given_sigma(sigmas[2])\n",
    "except NameError:\n",
    "    print('If not yet implemented, implement functions in problem.py.')\n",
    "    print('If you have implemented, remove this try/except.')"
   ]
  },
  {
   "cell_type": "markdown",
   "metadata": {},
   "source": [
    "## Instructions (continued):\n",
    "\n",
    "### 5.5:\n",
    "\n",
    "For questiion (5) (Comment on your results ...) no code is required -- instead please answer with a written description."
   ]
  },
  {
   "cell_type": "markdown",
   "metadata": {},
   "source": [
    "## Instructions (continued):\n",
    "\n",
    "### 5.6:\n",
    "\n",
    "For question (6), find the MAP solution for the first prior covariance $\\left(\\frac{1}{2}I\\right)$ by completing the implementation below. In addition, be sure to justify the value for the regularization coefficient (in `sklearn` named `alpha`) in your written work."
   ]
  },
  {
   "cell_type": "code",
   "execution_count": 14,
   "metadata": {},
   "outputs": [],
   "source": [
    "from sklearn.linear_model import Ridge"
   ]
  },
  {
   "cell_type": "code",
   "execution_count": 15,
   "metadata": {},
   "outputs": [
    {
     "data": {
      "text/plain": [
       "Ridge(alpha=9999, copy_X=True, fit_intercept=False, max_iter=None,\n",
       "   normalize=False, random_state=None, solver='cholesky', tol=0.001)"
      ]
     },
     "execution_count": 15,
     "metadata": {},
     "output_type": "execute_result"
    }
   ],
   "source": [
    "alpha = 9999 # Change to the correct value\n",
    "ridge = Ridge(alpha=alpha,\n",
    "              fit_intercept=False,\n",
    "              solver='cholesky')\n",
    "\n",
    "ridge.fit(xtrain, ytrain)"
   ]
  },
  {
   "cell_type": "markdown",
   "metadata": {},
   "source": [
    "If alpha is set correctly, ridge.coef_ will equal the prior mean/MAP estimate returned by the next two cells."
   ]
  },
  {
   "cell_type": "code",
   "execution_count": 16,
   "metadata": {},
   "outputs": [
    {
     "data": {
      "text/plain": [
       "array([[ 0.00127657,  0.00076013]])"
      ]
     },
     "execution_count": 16,
     "metadata": {},
     "output_type": "execute_result"
    }
   ],
   "source": [
    "ridge.coef_"
   ]
  },
  {
   "cell_type": "code",
   "execution_count": 19,
   "metadata": {},
   "outputs": [
    {
     "name": "stdout",
     "output_type": "stream",
     "text": [
      "If not yet implemented, implement functions in problem.py.\n",
      "If you have implemented, remove this try/except.\n"
     ]
    }
   ],
   "source": [
    "prior = {\"mean\":np.matrix([[0], [0]]),\n",
    "         \"var\":matlib.eye(2) * sigmas[0]}\n",
    "\n",
    "try:\n",
    "    post = get_posterior_params(xtrain, ytrain, prior,\n",
    "                                likelihood_var = 0.2**2)\n",
    "    post[0].ravel()\n",
    "except NameError:\n",
    "    print('If not yet implemented, implement functions in problem.py.')\n",
    "    print('If you have implemented, remove this try/except.')"
   ]
  }
 ],
 "metadata": {
  "kernelspec": {
   "display_name": "Python 3",
   "language": "python",
   "name": "python3"
  },
  "language_info": {
   "codemirror_mode": {
    "name": "ipython",
    "version": 3
   },
   "file_extension": ".py",
   "mimetype": "text/x-python",
   "name": "python",
   "nbconvert_exporter": "python",
   "pygments_lexer": "ipython3",
   "version": "3.5.4"
  }
 },
 "nbformat": 4,
 "nbformat_minor": 2
}
