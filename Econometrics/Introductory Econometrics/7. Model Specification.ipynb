{
 "cells": [
  {
   "cell_type": "code",
   "execution_count": 3,
   "id": "5aca2f6b-af4d-4e32-975e-fb93a637afff",
   "metadata": {},
   "outputs": [],
   "source": [
    "import numpy as np\n",
    "import matplotlib.pyplot as plt\n",
    "import pandas as pd\n",
    "import scipy as sp\n",
    "import scipy.stats\n",
    "import statsmodels.api as sm"
   ]
  },
  {
   "cell_type": "markdown",
   "id": "3fbac626-d91f-407f-bd96-7c48a48c516f",
   "metadata": {},
   "source": [
    "# <font face=\"gotham\" color=\"purple\"> Model Specification </font>"
   ]
  },
  {
   "cell_type": "markdown",
   "id": "c7c1736e-fe01-477c-ae7e-ee9aad9a2177",
   "metadata": {},
   "source": [
    "So far we have assumed correct **model specification**, if not correctly specified, we are encountering **model specification errors**. Here's the ideal criteria for specifying a model\n",
    "1. Be able to make logical prediction.\n",
    "2. Be consistent with theory.\n",
    "3. Independent variables are uncorrelated with disturbance terms.\n",
    "4. Parameter constancy.\n",
    "5. Residuals should be white noise.\n"
   ]
  },
  {
   "cell_type": "markdown",
   "id": "aa6d4c29-23b1-4a80-bd42-e415e56a3e6a",
   "metadata": {},
   "source": [
    "However, in practice, model specification errors are almost unavoidable, here are the list of how we might encounter specification errors.\n",
    "\n",
    "1. Omission of a relevant variable(s).\n",
    "2. Inclusion of an unnecessary variable(s).\n",
    "3. Adoption of the wrong functional form.\n",
    "4. Errors of measurement in data collection process.\n",
    "5. Incorrect specification of the stochastic error term.\n",
    "6. Assumption that the error term is normally distributed."
   ]
  },
  {
   "cell_type": "markdown",
   "id": "b8325720-6b6a-4500-a28a-51847e582f3b",
   "metadata": {},
   "source": [
    "This chapter is exceedingly difficult in multiple independent variable case without linear algebra, we will simply scratch the surface of the topic. "
   ]
  },
  {
   "cell_type": "markdown",
   "id": "d8de37c0-3647-4903-ab8f-e38b6974831d",
   "metadata": {},
   "source": [
    "# <font face=\"gotham\" color=\"purple\"> Omission of A Relevant Variable </font>"
   ]
  },
  {
   "cell_type": "markdown",
   "id": "a2dfb3e2-1bc9-4f7f-a774-549955cc16be",
   "metadata": {},
   "source": [
    "Suppose the true relationship is\n",
    "$$\n",
    "Y_i = 3 + 4X_2 + 5X_3 + u_i\n",
    "$$"
   ]
  },
  {
   "cell_type": "markdown",
   "id": "bc705db9-e9ce-4ecc-942d-b1221bdd1452",
   "metadata": {},
   "source": [
    "However we estimate only $X_3$, i.e. the model with omission of $X_2$\n",
    "$$\n",
    "\\hat{Y} = b_1+b_3X_3\n",
    "$$"
   ]
  },
  {
   "cell_type": "markdown",
   "id": "716e9e14-a4f2-4638-a3df-f007e911556f",
   "metadata": {},
   "source": [
    "We will do $100000$ rounds of Monte Carlo simulation (might take some time, dial it down if necessary). "
   ]
  },
  {
   "cell_type": "code",
   "execution_count": 155,
   "id": "1fc0abd4-ae83-4348-afc5-21a0ad6e29d6",
   "metadata": {},
   "outputs": [],
   "source": [
    "n = 100\n",
    "beta1, beta2, beta3 = 3, 4, 5\n",
    "X2 = np.random.rand(n)\n",
    "X3 = np.random.rand(n)\n",
    "beta3_hat_list = []\n",
    "for i in range(100000):\n",
    "    \n",
    "    u = np.random.randn(n)\n",
    "    Y = beta1 + beta2*X2 + beta3*X3 + u\n",
    "    df = pd.DataFrame(np.concatenate((Y[:, np.newaxis], X2[:, np.newaxis], X3[:, np.newaxis]), axis = 1), columns = ['Y', 'X2', 'X3'])\n",
    "\n",
    "    X = df['X3']\n",
    "    Y = df['Y']\n",
    "\n",
    "    X = sm.add_constant(X) # adding a constant\n",
    "\n",
    "    model = sm.OLS(Y, X).fit()\n",
    "    beta3_hat_list.append(model.params[1])"
   ]
  },
  {
   "cell_type": "markdown",
   "id": "7a71e466-df63-4358-8fd3-f2583481115c",
   "metadata": {},
   "source": [
    "Print the full reports of last round of simulation."
   ]
  },
  {
   "cell_type": "code",
   "execution_count": 156,
   "id": "f84e2d87-b8e2-4cb1-ba61-bab7a5e03a63",
   "metadata": {},
   "outputs": [],
   "source": [
    "model = sm.OLS(Y, X).fit() \n",
    "print_model = model.summary()"
   ]
  },
  {
   "cell_type": "code",
   "execution_count": 157,
   "id": "b28ba3d6-2412-41e1-9ea7-117417d4be94",
   "metadata": {},
   "outputs": [
    {
     "data": {
      "image/png": "[encoded data removed]",
      "text/plain": [
       "<Figure size 864x504 with 1 Axes>"
      ]
     },
     "metadata": {
      "needs_background": "light"
     },
     "output_type": "display_data"
    }
   ],
   "source": [
    "fig, ax = plt.subplots(figsize = (12, 7))\n",
    "ax.hist(beta3_hat_list, bins = 150)\n",
    "ax.axvline(x = np.mean(beta3_hat_list), color = 'tomato', label = 'mean of $b_3$')\n",
    "ax.set_xlabel('$b_3$')\n",
    "ax.set_title('Sampling Distribution of $b_3$')\n",
    "ax.legend()\n",
    "plt.show()"
   ]
  },
  {
   "cell_type": "code",
   "execution_count": 97,
   "id": "cbad7b5f-d207-4b38-9448-003928e27c57",
   "metadata": {},
   "outputs": [
    {
     "name": "stdout",
     "output_type": "stream",
     "text": [
      "The mean of b3 is 5.998913199703797.\n"
     ]
    }
   ],
   "source": [
    "print('The mean of b3 is {}.'.format(np.mean(beta3_hat_list)))"
   ]
  },
  {
   "cell_type": "markdown",
   "id": "08bc587a-9a2a-4b46-9853-4c5e9478e81f",
   "metadata": {},
   "source": [
    "With $100000$ rounds of simulation, we could easily notice the sample distribution is biased, and mean of $b_3$ is far from true value $5$. We will demonstrate why this is the case without linear algebra."
   ]
  },
  {
   "cell_type": "markdown",
   "id": "4833e7b7-4787-41c1-b535-86a362f54686",
   "metadata": {},
   "source": [
    "We have shown in the second chapter, that estimator $b_3$ in a two-independent variable case is\n",
    "$$\n",
    "b_{3}=\\frac{\\operatorname{Cov}\\left(X_{3}, Y\\right) \\operatorname{Var}\\left(X_{2}\\right)-\\operatorname{Cov}\\left(X_{2}, Y\\right) \\operatorname{Cov}\\left(X_{3}, X_{2}\\right)}{\\operatorname{Var}\\left(X_{3}\\right) \\operatorname{Var}\\left(X_{2}\\right)-\\left[\\operatorname{Cov}\\left(X_{3}, X_{2}\\right)\\right]^{2}}\n",
    "$$"
   ]
  },
  {
   "cell_type": "markdown",
   "id": "1b489b69-d358-4b96-8e2f-bbbcc068d208",
   "metadata": {},
   "source": [
    "However, without being aware the omission of $\\beta_2$, we end up using estimator\n",
    "$$\n",
    "b_{3}=\\frac{\\operatorname{Cov}\\left(X_{3}, Y\\right)}{\\operatorname{Var}\\left(X_{3}\\right)}\n",
    "$$\n",
    "Substitute $Y$ by its true relationship can share some insight\n",
    "$$\n",
    "\\begin{aligned}\n",
    "b_{3} &=\\frac{\\operatorname{Cov}\\left(X_{3}, Y\\right)}{\\operatorname{Var}\\left(X_{3}\\right)}=\\frac{\\operatorname{Cov}\\left(X_{3},\\left[\\beta_{1}+\\beta_{2} X_{2}+\\beta_{3} X_{3}+u\\right]\\right)}{\\operatorname{Var}\\left(X_{3}\\right)} \\\\\n",
    "&=\\frac{1}{\\operatorname{Var}\\left(X_{3}\\right)}\\left[\\operatorname{Cov}\\left(X_{3}, \\beta_{1}\\right)+\\operatorname{Cov}\\left(X_{3}, \\beta_{2} X_{2}\\right)+\\operatorname{Cov}\\left(X_{3}, \\beta_{3} X_{3}\\right)+\\operatorname{Cov}\\left(X_{3}, u\\right)\\right] \\\\\n",
    "&=\\frac{1}{\\operatorname{Var}\\left(X_{3}\\right)}\\left[0+\\beta_{2} \\operatorname{Cov}\\left(X_{2}, X_3\\right)+\\beta_{3} \\operatorname{Var}\\left(X_{3} \\right)+\\operatorname{Cov}\\left(X_{3}, u\\right)\\right] \\\\\n",
    "&=\\beta_{3}+\\beta_{2} \\frac{\\operatorname{Cov}\\left(X_{2}, X_{3}\\right)}{\\operatorname{Var}\\left(X_{3}\\right)}+\\frac{\\operatorname{Cov}\\left(X_{3}, u\\right)}{\\operatorname{Var}\\left(X_{3}\\right)}\n",
    "\\end{aligned}\n",
    "$$"
   ]
  },
  {
   "cell_type": "markdown",
   "id": "33e6de26-1155-40c0-80f7-35651d80cf3b",
   "metadata": {},
   "source": [
    "This is the relationship of $b_3$ and $\\beta_3$ when $b_2$ is omitted in the model. Whether upward biased or downward biased, it depends on the sign of $\\beta_2$ and covariance of $X_2$ and $X_3$. And it's safe to assume $\\operatorname{Cov}(X_3, u )=0$."
   ]
  },
  {
   "cell_type": "markdown",
   "id": "9437230f-02f3-4e53-809f-a95b82019704",
   "metadata": {},
   "source": [
    "As you can see now the biased term is \n",
    "$$\n",
    "\\beta_{2} \\frac{\\operatorname{Cov}\\left(X_{2}, X_{3}\\right)}{\\operatorname{Var}\\left(X_{3}\\right)}\n",
    "$$\n",
    "Therefore $b_3$ can be unbiased after all on condition that $\\operatorname{Cov}(X_2, X_3)=0$, however this is extremely unlikely. \n",
    "\n",
    "In general, omission of relevant variables also cause invalid hypotheses test, however we'll skip it entirely."
   ]
  },
  {
   "cell_type": "markdown",
   "id": "c046b303-4a86-4139-be83-3ea52533ee04",
   "metadata": {},
   "source": [
    "# <font face=\"gotham\" color=\"purple\">  Inclusion Of An Unnecessary Variable </font>"
   ]
  },
  {
   "cell_type": "markdown",
   "id": "3482e7c0-7d97-4050-a6df-fb7318d79b7a",
   "metadata": {},
   "source": [
    "Now again suppose the true relationship is\n",
    "$$\n",
    "Y_i = 3 + 4X_2  + u_i\n",
    "$$"
   ]
  },
  {
   "cell_type": "markdown",
   "id": "312fabf4-1a75-4686-b595-249f754b735b",
   "metadata": {},
   "source": [
    "However we include an unnecessary variable $X_3$, i.e.\n",
    "$$\n",
    "\\hat{Y} = b_1+b_2X_2 + b_3X_3\n",
    "$$"
   ]
  },
  {
   "cell_type": "code",
   "execution_count": 149,
   "id": "5c438595-c432-4d1d-bf9b-c9dca403ec7e",
   "metadata": {},
   "outputs": [],
   "source": [
    "n = 100\n",
    "beta1, beta2 = 3, 4\n",
    "X2 = np.random.rand(n)\n",
    "X3 = np.random.rand(n)\n",
    "beta2_hat_list = []\n",
    "for i in range(100000):\n",
    "    \n",
    "    u = np.random.randn(n)\n",
    "    Y = beta1 + beta2*X2 + u\n",
    "    df = pd.DataFrame(np.concatenate((Y[:, np.newaxis], X2[:, np.newaxis], X3[:, np.newaxis]), axis = 1), columns = ['Y', 'X2', 'X3'])\n",
    "\n",
    "    X = df[['X2', 'X3']]\n",
    "    Y = df['Y']\n",
    "\n",
    "    X = sm.add_constant(X) # adding a constant\n",
    "\n",
    "    model = sm.OLS(Y, X).fit()\n",
    "    beta2_hat_list.append(model.params[1])"
   ]
  },
  {
   "cell_type": "markdown",
   "id": "cbf468f3-698f-4de0-8699-ada4b8dc2ba7",
   "metadata": {},
   "source": [
    "Print the full reports of last round of simulation."
   ]
  },
  {
   "cell_type": "code",
   "execution_count": 150,
   "id": "3d45f7c9-f8cc-4a34-97dc-e4f444888e72",
   "metadata": {},
   "outputs": [
    {
     "name": "stdout",
     "output_type": "stream",
     "text": [
      "                            OLS Regression Results                            \n",
      "==============================================================================\n",
      "Dep. Variable:                      Y   R-squared:                       0.642\n",
      "Model:                            OLS   Adj. R-squared:                  0.635\n",
      "Method:                 Least Squares   F-statistic:                     87.05\n",
      "Date:                Thu, 16 Sep 2021   Prob (F-statistic):           2.25e-22\n",
      "Time:                        11:26:42   Log-Likelihood:                -146.33\n",
      "No. Observations:                 100   AIC:                             298.7\n",
      "Df Residuals:                      97   BIC:                             306.5\n",
      "Df Model:                           2                                         \n",
      "Covariance Type:            nonrobust                                         \n",
      "==============================================================================\n",
      "                 coef    std err          t      P>|t|      [0.025      0.975]\n",
      "------------------------------------------------------------------------------\n",
      "const          2.6164      0.271      9.646      0.000       2.078       3.155\n",
      "X2             4.3287      0.328     13.187      0.000       3.677       4.980\n",
      "X3             0.1170      0.377      0.311      0.757      -0.631       0.865\n",
      "==============================================================================\n",
      "Omnibus:                        0.315   Durbin-Watson:                   1.933\n",
      "Prob(Omnibus):                  0.854   Jarque-Bera (JB):                0.457\n",
      "Skew:                           0.113   Prob(JB):                        0.796\n",
      "Kurtosis:                       2.758   Cond. No.                         5.20\n",
      "==============================================================================\n",
      "\n",
      "Notes:\n",
      "[1] Standard Errors assume that the covariance matrix of the errors is correctly specified.\n"
     ]
    }
   ],
   "source": [
    "print_model = model.summary()\n",
    "print(print_model)"
   ]
  },
  {
   "cell_type": "code",
   "execution_count": 151,
   "id": "cf5f5146-47d3-427c-9f1f-e6667ecd9b56",
   "metadata": {},
   "outputs": [
    {
     "data": {
      "image/png": "[encoded data removed]",
      "text/plain": [
       "<Figure size 864x504 with 1 Axes>"
      ]
     },
     "metadata": {
      "needs_background": "light"
     },
     "output_type": "display_data"
    }
   ],
   "source": [
    "fig, ax = plt.subplots(figsize = (12, 7))\n",
    "ax.hist(beta2_hat_list, bins = 150)\n",
    "ax.axvline(x = np.mean(beta2_hat_list), color = 'tomato', label = 'mean of $b_2$')\n",
    "ax.set_xlabel('$b_2$')\n",
    "ax.set_title('Sampling Distribution of $b_2$')\n",
    "ax.legend()\n",
    "plt.show()"
   ]
  },
  {
   "cell_type": "markdown",
   "id": "69382d5a-1c33-4107-99d4-e07eb127a160",
   "metadata": {},
   "source": [
    "It turns out that the $b_2$ is not biased after all! However, let's compare with $b_2$'s sampling distribution which is from correct specification."
   ]
  },
  {
   "cell_type": "code",
   "execution_count": 133,
   "id": "efe4a15b-e85b-499f-8baa-6472137037cc",
   "metadata": {},
   "outputs": [],
   "source": [
    "beta2_hat_list_correct = []\n",
    "for i in range(100000):\n",
    "    \n",
    "    u = np.random.randn(n)\n",
    "    Y = beta1 + beta2*X2 + u\n",
    "    df = pd.DataFrame(np.concatenate((Y[:, np.newaxis], X2[:, np.newaxis]), axis = 1), columns = ['Y', 'X2'])\n",
    "\n",
    "    X = df['X2']\n",
    "    Y = df['Y']\n",
    "\n",
    "    X = sm.add_constant(X) # adding a constant\n",
    "\n",
    "    model = sm.OLS(Y, X).fit()\n",
    "    beta2_hat_list_correct.append(model.params[1])"
   ]
  },
  {
   "cell_type": "code",
   "execution_count": 146,
   "id": "83e80796-d9cc-4acc-9136-f466aa7dd229",
   "metadata": {},
   "outputs": [
    {
     "data": {
      "image/png": "[encoded data removed]",
      "text/plain": [
       "<Figure size 864x504 with 1 Axes>"
      ]
     },
     "metadata": {
      "needs_background": "light"
     },
     "output_type": "display_data"
    }
   ],
   "source": [
    "fig, ax = plt.subplots(figsize = (12, 7))\n",
    "ax.hist(beta2_hat_list, bins = 150, alpha = .5, label = '$b_2$ With An Unnecessary Variable')\n",
    "ax.hist(beta2_hat_list_correct, bins = 150, alpha = .3, color = 'tomato', label = '$b_2$ With Correct Model')\n",
    "ax.set_xlabel('$b_2$')\n",
    "ax.set_title('Sampling Distribution of $b_2$')\n",
    "ax.legend()\n",
    "plt.show()"
   ]
  },
  {
   "cell_type": "markdown",
   "id": "abaa1ef7-cbb2-451f-ad78-3a1d15b4c655",
   "metadata": {},
   "source": [
    "If you take a closer look at the distribution, they are actually different, the $b_2$ estimated by correct model has a more concentrated distribution, i.e. the middle area is higher, in contrast the $b_2$ estimated by incorrectly specified model has fatter tails. We can check their standard deviation."
   ]
  },
  {
   "cell_type": "code",
   "execution_count": 135,
   "id": "1749a2e0-2d28-43cf-aa2e-4c33cc1e4125",
   "metadata": {},
   "outputs": [
    {
     "data": {
      "text/plain": [
       "0.3638018676170749"
      ]
     },
     "execution_count": 135,
     "metadata": {},
     "output_type": "execute_result"
    }
   ],
   "source": [
    "np.std(beta2_hat_list)"
   ]
  },
  {
   "cell_type": "code",
   "execution_count": 136,
   "id": "03317d9c-8d83-4237-82e8-1c2c9e1b15db",
   "metadata": {},
   "outputs": [
    {
     "data": {
      "text/plain": [
       "0.35998511144681705"
      ]
     },
     "execution_count": 136,
     "metadata": {},
     "output_type": "execute_result"
    }
   ],
   "source": [
    "np.std(beta2_hat_list_correct)"
   ]
  },
  {
   "cell_type": "markdown",
   "id": "f8de9ce1-929f-4b28-98e4-864db433de07",
   "metadata": {},
   "source": [
    "To remind you why this is the case, here we reproduce the formula of standard deviation of $b_2$ in two independent variable regression\n",
    "$$\n",
    "\\sigma_{b_{2}}^{2}=\\frac{\\sigma_{u}^{2}}{n \\operatorname{Var}\\left(X_{2}\\right)} \\frac{1}{1-r_{X_{2} X_{3}}^{2}}\n",
    "$$\n",
    "$\\sigma_{b_{2}}^{2}$ is enlarged by a the correlation $r^2_{X_2X_3}$, which is why the blue color distribution has fatter tails."
   ]
  },
  {
   "cell_type": "markdown",
   "id": "efe4ae12-7ca8-41cb-adb0-99ec5f96fa38",
   "metadata": {},
   "source": [
    "<div style=\"background-color:Bisque; color:DarkBlue; padding:30px;\">\n",
    "<i><b> Asymmetry of Specification Errors</b><br>\n",
    "The asymmetry of two types of specification errors: adding irrelevant variables still grant us unbiased and consistent estimate though standard errors are inflated, however excluding a relevant variable would cause bias and inconsistency. <br><br>\n",
    "    \n",
    "Does it suggest that we should err on the side of adding irrelevant variables? In the field of econometrics, not really. The _best practice_ is to include only explanatory variables that, on theoretical grounds, directly influence the dependent variable and that are not accounted for by other\n",
    "included variables.\n",
    "</div>"
   ]
  },
  {
   "cell_type": "markdown",
   "id": "9dcff64e-6d2d-4952-98a4-75d28131326f",
   "metadata": {},
   "source": [
    "# <font face=\"gotham\" color=\"purple\"> Tests of Specification Errors </font>"
   ]
  },
  {
   "cell_type": "markdown",
   "id": "3a2b4be5-9f33-466f-8800-e8d86f09f4dd",
   "metadata": {},
   "source": [
    "Truth to be told, we will never be sure how the observed data were generated, but we can make educated guess about specification errors with the help of statistical tests. "
   ]
  },
  {
   "cell_type": "markdown",
   "id": "45e21a8a-667b-4277-b65a-82500cd19ad0",
   "metadata": {},
   "source": [
    "## <font face=\"gotham\" color=\"purple\"> Tests of Overfitted Models </font>"
   ]
  },
  {
   "cell_type": "markdown",
   "id": "be87926f-89d0-4ac4-8cc1-b9007e0109db",
   "metadata": {},
   "source": [
    "The most convenient methods of detecting unnecessary variables are $F$ and $t$-tests, take a look the regression results with unnecessary variable, the $X_3$ has a p-value of $ 0.757$, we can surely deem $X_3$ as unnecessary.\n",
    "\n",
    "The purist econometrician objects the method of adding independent variables iteratively by testing $t$, however data scientists have a more practical view that they believe the model should be driven by data, i.e. the model should learn the data and express the data."
   ]
  },
  {
   "cell_type": "markdown",
   "id": "51065062-1ded-400f-bd38-ce7790361084",
   "metadata": {},
   "source": [
    "## <font face=\"gotham\" color=\"purple\"> Tests of Underfitted Models </font>"
   ]
  },
  {
   "cell_type": "markdown",
   "id": "50b23435-96ab-4926-bc64-92f8e9b74cbf",
   "metadata": {},
   "source": [
    "To detect an underfitting model is more than looking at $t$'s or $F$'s, we also need to investigate the broad features of results, such $R^2$, signs of estimates, residuals and other relevant tests. "
   ]
  },
  {
   "cell_type": "markdown",
   "id": "fb0eafa5-fc95-4f59-bfce-3e2ae327d217",
   "metadata": {},
   "source": [
    "### <font face=\"gotham\" color=\"purple\"> Investigating Residuals </font>"
   ]
  },
  {
   "cell_type": "markdown",
   "id": "80565bf1-f14c-4112-993c-bb4e74007ab9",
   "metadata": {},
   "source": [
    "Here we reproduce the underfitted model example. The unfitted model obviously has larger dispersion of residual. "
   ]
  },
  {
   "cell_type": "code",
   "execution_count": 185,
   "id": "401d8f8a-7541-46e1-aa41-553e5e98be1b",
   "metadata": {},
   "outputs": [
    {
     "data": {
      "image/png": "[encoded data removed]",
      "text/plain": [
       "<Figure size 1008x864 with 2 Axes>"
      ]
     },
     "metadata": {
      "needs_background": "light"
     },
     "output_type": "display_data"
    }
   ],
   "source": [
    "n = 200\n",
    "beta1, beta2, beta3 = 3, 4, 5\n",
    "X2 = np.random.rand(n)\n",
    "X3 = np.random.rand(n)\n",
    "\n",
    "u = np.random.randn(n)\n",
    "Y = beta1 + beta2*X2 + beta3*X3 + u\n",
    "df = pd.DataFrame(np.concatenate((Y[:, np.newaxis], X2[:, np.newaxis], X3[:, np.newaxis]), axis = 1), columns = ['Y', 'X2', 'X3'])\n",
    "\n",
    "X_underfit = df['X2']\n",
    "Y = df['Y']\n",
    "X_underfit = sm.add_constant(X_underfit) \n",
    "model_underfit = sm.OLS(Y, X_underfit).fit()\n",
    "\n",
    "X_wellfit = df[['X2', 'X3']]\n",
    "X_wellfit = sm.add_constant(X_wellfit) \n",
    "model_wellfit = sm.OLS(Y, X_wellfit).fit()\n",
    "\n",
    "\n",
    "fig, ax = plt.subplots(nrows=2, ncols=1,figsize=(14,12))\n",
    "ax[0].scatter(np.arange(len(model_underfit.resid)), model_underfit.resid)\n",
    "ax[0].set_xlim(0, n)\n",
    "ax[0].set_ylim(-10, 10)\n",
    "ax[0].grid()\n",
    "ax[0].set_title('Residuals Plot of Underfitted Model')\n",
    "\n",
    "ax[1].scatter(np.arange(len(model_wellfit.resid)), model_wellfit.resid)\n",
    "ax[1].set_xlim(0, n)\n",
    "ax[1].set_ylim(-10, 10)\n",
    "ax[1].grid()\n",
    "ax[1].set_title('Residuals Plot of Wellfitted Model')\n",
    "\n",
    "plt.show()"
   ]
  },
  {
   "cell_type": "markdown",
   "id": "abd55090-624c-4a91-a7cc-c40b465c0e88",
   "metadata": {},
   "source": [
    "### <font face=\"gotham\" color=\"purple\">Ramsey’s RESET Test</font>"
   ]
  },
  {
   "cell_type": "markdown",
   "id": "04e14dbd-6d2a-43d5-9256-f982dde479b5",
   "metadata": {},
   "source": [
    "Ramsey's **Regression Equation Specification Error Test** (RESET) is general test for specification error.  "
   ]
  },
  {
   "cell_type": "code",
   "execution_count": 216,
   "id": "57b68559-264e-41e1-b333-f19185f02043",
   "metadata": {},
   "outputs": [],
   "source": [
    "reset_results = sm.stats.diagnostic.linear_reset(model_underfit)"
   ]
  },
  {
   "cell_type": "code",
   "execution_count": 217,
   "id": "14e69739-8320-4e81-b3e7-05c2e80e0c7a",
   "metadata": {},
   "outputs": [
    {
     "name": "stdout",
     "output_type": "stream",
     "text": [
      "<Wald test (chi2): statistic=[[2.89568024]], p-value=0.23507747893517628, df_denom=2>\n"
     ]
    }
   ],
   "source": [
    "print(reset_results.summary())"
   ]
  },
  {
   "cell_type": "markdown",
   "id": "09583bbb-30aa-49d2-bf12-548c3f572855",
   "metadata": {},
   "source": [
    "### <font face=\"gotham\" color=\"purple\">Lagrange Multiplier (LM) Test for Adding Variables</font>"
   ]
  },
  {
   "cell_type": "markdown",
   "id": "5b1a4aac-616c-4604-a383-5bcd85ca7d0a",
   "metadata": {},
   "source": [
    "# <font face=\"gotham\" color=\"purple\"> $AIC$ and $SIC$ </font>"
   ]
  },
  {
   "cell_type": "markdown",
   "id": "a5318e11-7797-416d-a0dd-445f5bdbcc6f",
   "metadata": {},
   "source": [
    "Besides $R^2$ and $\\bar{R}^2$ that were discussed in the first two chapters. Here are another two statistics for model selection: **Akaike’s Information Criterion** (AIC) and **Bayesian information criterion** (BIC).\n",
    "\n",
    "Both statistics are standard output printed in the estimation report, you can check the report above."
   ]
  },
  {
   "cell_type": "markdown",
   "id": "53b8d210-2760-4b62-8108-4a482f571cc4",
   "metadata": {},
   "source": [
    "## <font face=\"gotham\" color=\"purple\">**Akaike’s Information Criterion**</font>"
   ]
  },
  {
   "cell_type": "markdown",
   "id": "615f68cd-3e97-451a-8b1c-48f168c896f6",
   "metadata": {},
   "source": [
    "$AIC$ imposes stronger penalty than $\\bar{R}^2$. The formula is \n",
    "$$\n",
    "\\mathrm{AIC}=e^{2 k / n} \\frac{\\sum e_{i}^{2}}{n}=e^{2 k / n} \\frac{\\mathrm{RSS}}{\\mathrm{n}}\n",
    "$$"
   ]
  },
  {
   "cell_type": "markdown",
   "id": "4c3cc855-f647-49e0-81a3-4030345aaba0",
   "metadata": {},
   "source": [
    "$AIC$ is commonly used in time series model to determine the lag length, where $n$ is number of observations and $k$ is the number of independent variables."
   ]
  },
  {
   "cell_type": "markdown",
   "id": "2cf003f9-2901-4370-85db-33c6d7f595ba",
   "metadata": {},
   "source": [
    "## <font face=\"gotham\" color=\"purple\">**Bayesian Information Criterion**</font>"
   ]
  },
  {
   "cell_type": "markdown",
   "id": "b5c61547-141d-4f2e-ad43-99d553ffb826",
   "metadata": {},
   "source": [
    "$BIC$ imposes even harsher penalty than $AIC$\n",
    "$$\n",
    "\\mathrm{SIC}=n^{k / n} \\frac{\\sum e^{2}_i}{n}=n^{k / n} \\frac{\\mathrm{RSS}}{n}\n",
    "$$"
   ]
  },
  {
   "cell_type": "markdown",
   "id": "c7167eb7-a6d6-42c2-be06-dd60514b1c07",
   "metadata": {},
   "source": [
    "As you can see from their formula, both criteria prefer smaller result, because $RSS$ is smaller. \n",
    "\n",
    "We can plot the $AIC$ and $BIC$ as functions of number of variables, it is easy to see that $BIC$ has higher penalty, however it doesn't meant $BIC$ is superior than $AIC$."
   ]
  },
  {
   "cell_type": "code",
   "execution_count": 232,
   "id": "ee946f87-452f-4173-8bb9-62ffb774f1ac",
   "metadata": {},
   "outputs": [
    {
     "data": {
      "image/png": "[encoded data removed]",
      "text/plain": [
       "<Figure size 864x504 with 1 Axes>"
      ]
     },
     "metadata": {
      "needs_background": "light"
     },
     "output_type": "display_data"
    }
   ],
   "source": [
    "n = 100\n",
    "k = np.arange(1, 21)\n",
    "RSS = 1000\n",
    "def aic(RSS):\n",
    "    return np.exp(2*k/n)*RSS/n\n",
    "def bic(RSS):\n",
    "    return n**(k/n)*RSS/n\n",
    "\n",
    "    \n",
    "aic = aic(RSS)\n",
    "bic = bic(RSS)\n",
    "\n",
    "fig, ax = plt.subplots(figsize = (12, 7))\n",
    "ax.plot(k, aic, label = 'AIC', lw = 3)\n",
    "ax.plot(k, bic, label = 'BIC', lw = 3)\n",
    "ax.legend()\n",
    "plt.show()"
   ]
  },
  {
   "cell_type": "markdown",
   "id": "023a8460-0471-4f33-8787-562084c0c716",
   "metadata": {},
   "source": [
    "Also, both these criteria are commonly used in data science to compare **in-sample** and **out-of-sample** performance."
   ]
  },
  {
   "cell_type": "markdown",
   "id": "4c75aad6-83b9-46e4-8dd1-fdf87cf9e7b6",
   "metadata": {},
   "source": [
    "# <font face=\"gotham\" color=\"purple\"> Measurement Error </font>"
   ]
  },
  {
   "cell_type": "markdown",
   "id": "dc5b3dea-9d97-4764-85f2-70017db5295b",
   "metadata": {},
   "source": [
    "Keep in mind that any data might have certain extent of measurement error, either due to mis-recording or mis-communication. Most of time we assume the data are correctly measured, but that's more precise, we will discuss what consequences measurement error can cause with examples of simple linear regression."
   ]
  },
  {
   "cell_type": "markdown",
   "id": "44acf35d-207c-4826-9a18-74efd34c9bf3",
   "metadata": {},
   "source": [
    "## <font face=\"gotham\" color=\"purple\"> Measurement Error in Independent Variables </font>"
   ]
  },
  {
   "cell_type": "markdown",
   "id": "3e7b9ed0-d374-4fe5-89c1-fcae9d43b723",
   "metadata": {},
   "source": [
    "Assume the true relationship is\n",
    "$$\n",
    "Y_{i}=\\beta_{1}+\\beta_{2} Z_{i}+v_{i}\n",
    "$$\n",
    "However due to some technical reason, we are unable to precisely measure $Z_i$,what we can observe is $X_i$ which has a relationship with $Z_i$\n",
    "$$\n",
    "X_{i}=Z_{i}+w_{i}\n",
    "$$\n",
    "Combine them\n",
    "$$\n",
    "Y_{i}=\\beta_{1}+\\beta_{2}\\left(X_{i}-w_{i}\\right)+v_{i}=\\beta_{1}+\\beta_{2} X_{i}+v_{i}-\\beta_{2} w_{i}\n",
    "$$"
   ]
  },
  {
   "cell_type": "markdown",
   "id": "ee579ba8-9d30-476b-8de7-469d96207000",
   "metadata": {},
   "source": [
    "The disturbance term $v_i-\\beta_2w_i$ is a composite term and also $X_i$ not independent from composite disturbance term, because of common part $w_i$.\n",
    "\n",
    "Recall the estimator of $b_2$ can be decomposed as\n",
    "$$\n",
    "b_{2}=\\frac{\\operatorname{Cov}(X, Y)}{\\operatorname{Var}(X)}=\\beta_{2}+\\frac{\\operatorname{Cov}(X, u)}{\\operatorname{Var}(X)}\n",
    "$$\n",
    "however in this case $X_i$ and $u_i$ are not independent, we can expand covariance expression.\n",
    "$$\n",
    "\\operatorname{Cov}(X, u)= \\operatorname{Cov}((Z+w),(v-\\beta_2w)) = \\operatorname{Cov}(Z,v)+\\operatorname{Cov}(w,v)+\\operatorname{Cov}(Z,-\\beta_2w)+\\operatorname{Cov}(w,-\\beta_2w) = -\\beta_2\\sigma_w^2\n",
    "$$\n",
    "Also expand variance at the denominator \n",
    "$$\n",
    "\\operatorname{Var}(X)=\\operatorname{Var}(Z+w)=\\operatorname{Var}(Z)+\\operatorname{Var}(w)+2\\operatorname{Cov}(Z,w)=\\sigma_Z^2+\\sigma_w^2\n",
    "$$\n",
    "Therefore\n",
    "$$\n",
    "b_{2}=\\frac{\\operatorname{Cov}(X, Y)}{\\operatorname{Var}(X)}=\\beta_{2}-\\frac{\\beta_2\\sigma_w^2}{\\sigma_Z^2+\\sigma_w^2}\n",
    "$$"
   ]
  },
  {
   "cell_type": "markdown",
   "id": "94e633d0-12f7-4f83-abc8-d899c0d49dc7",
   "metadata": {},
   "source": [
    "This is how measurement error will affect estimates theoretically, the $b_2$ will be always biased downward."
   ]
  },
  {
   "cell_type": "markdown",
   "id": "b82e7320-6f0e-496d-8272-0e4046b9540e",
   "metadata": {},
   "source": [
    "We can show this with Monet Carlo simulation"
   ]
  },
  {
   "cell_type": "code",
   "execution_count": 261,
   "id": "8613ba60-57f3-4507-8e5f-fee69b1af5c9",
   "metadata": {},
   "outputs": [
    {
     "data": {
      "image/png": "[encoded data removed]",
      "text/plain": [
       "<Figure size 720x504 with 1 Axes>"
      ]
     },
     "metadata": {
      "needs_background": "light"
     },
     "output_type": "display_data"
    }
   ],
   "source": [
    "Z = np.arange(1, 21)\n",
    "b2_array = []\n",
    "for i in range(10000):\n",
    "    w = np.random.randn(20)\n",
    "    v = np.random.randn(20)\n",
    "    X = Z + w\n",
    "    beta1, beta2 = 2, 3\n",
    "    Y = beta1 + beta2*Z + v\n",
    "    b2_array.append(sp.stats.linregress(X, Y)[0])\n",
    "fig, ax = plt.subplots(figsize =(10, 7))\n",
    "n, bins, patches = ax.hist(b2_array, bins= 100)\n",
    "ax.axvline(x=np.mean(b2_array), lw = 3, color = 'tomato')\n",
    "ax.set_xlabel('Sample Distribution of $b_2$')\n",
    "plt.show()"
   ]
  },
  {
   "cell_type": "markdown",
   "id": "3d799dcf-37ee-4964-a9d5-a399e600ed07",
   "metadata": {},
   "source": [
    "With $10000$ times of simulations, the estimates are always less than $3$, which is biased downward."
   ]
  },
  {
   "cell_type": "markdown",
   "id": "8d9dbca1-ba68-4097-962f-dae476df4538",
   "metadata": {},
   "source": [
    "## <font face=\"gotham\" color=\"purple\"> Measurement Error in Dependent Variables </font>"
   ]
  },
  {
   "cell_type": "markdown",
   "id": "019f25d3-1fbb-472a-96e6-cca34d0dd78c",
   "metadata": {},
   "source": [
    "If the true relationship is \n",
    "$$\n",
    "Q_i = \\beta_1+\\beta_2X_1+v_i\n",
    "$$\n",
    "However $Q_i$ cannot be precisely recorded, instead $Y_i$ is recorded, where\n",
    "$$\n",
    "Y_i = Q_r + r_i\n",
    "$$\n",
    "The true relationship can rewritten as\n",
    "$$\n",
    "Y_i= \\beta_1+\\beta_2X_i+v_i+r_i \n",
    "$$"
   ]
  },
  {
   "cell_type": "markdown",
   "id": "297f404a-dd4c-4341-b965-f78ec511c75d",
   "metadata": {},
   "source": [
    "But note that $X_i$ is note affected, so OLS still provide unbiased and consistent estimates."
   ]
  },
  {
   "cell_type": "markdown",
   "id": "069332dd-82a8-446e-9194-f2f681e5ed96",
   "metadata": {},
   "source": [
    "The composite disturbance term increase the the population variance of slope coefficient\n",
    "$$\n",
    "\\sigma_{b_{2}}^{2}=\\frac{\\sigma_{v}^{2}+\\sigma_{r}^{2}}{n \\operatorname{Var}(X)}\n",
    "$$"
   ]
  },
  {
   "cell_type": "markdown",
   "id": "f08c5130-1a5c-4e64-87eb-927ddff1b110",
   "metadata": {},
   "source": [
    "# <font face=\"gotham\" color=\"purple\"> Instrumental Variables Regression </font>"
   ]
  },
  {
   "cell_type": "markdown",
   "id": "8c060bc2-04b8-4a47-baf5-8c0231bf6755",
   "metadata": {},
   "source": [
    "We have discussed how $X$ can be correlated with disturbance term $u$, either due to omitted variables or measurement errors in independent variables. In next chapter we will also see how simultaneous equations model also cause interdependence between $X$ and $u$.\n",
    "\n",
    "Here we will discuss a general method **Instrumental Variable** (IV) Regression to obtain consistent estimator when $X$ is correlated with $u$. The idea of this method is extract the part of $X$ that is not correlated with $u$ and extraction is called IV, which can be used in obtaining consistent estimators."
   ]
  },
  {
   "cell_type": "markdown",
   "id": "782b2657-01c5-4712-ab91-a0c31c4b6684",
   "metadata": {},
   "source": [
    "Consider the model\n",
    "$$\n",
    "Y_{i}=\\beta_{1}+\\beta_{2} X_{i}+u_{i}\n",
    "$$\n",
    "where $X_i$ and $u_i$ are correlated, OLS estimators are inconsistent. IV method requires identify an instrument $Z_i$, which is correlated with $X_i$, but not with $u_i$. \n",
    "\n",
    "For the time being, we define that variables that correlated with disturbance term are called **endogenous variable**, otherwise called **exogenous variable**. In the context of simultaneous equation, we will come back to these terms again.\n",
    "\n",
    "To be a valid instrument, two conditions needs to be satisfied\n",
    "$$\n",
    "\\begin{aligned}\n",
    "&\\operatorname{Cov}\\left(Z_{i}, X_{i}\\right) \\neq 0 \\\\\n",
    "&\\operatorname{Cov}\\left(Z_{i}, u_{i}\\right)=0\n",
    "\\end{aligned}\n",
    "$$\n",
    "The philosophy of IV is to use $Z_i$ to capture the exogenous part of movements of $X_i$."
   ]
  },
  {
   "cell_type": "markdown",
   "id": "17be0668-2240-4de0-b31c-d95b64415b9c",
   "metadata": {},
   "source": [
    "## <font face=\"gotham\" color=\"purple\"> Two Stage Least Squares </font>"
   ]
  },
  {
   "cell_type": "markdown",
   "id": "b2876b14-8148-4260-95ec-77ee6126749c",
   "metadata": {},
   "source": [
    "If both condition satisfied, the estimation process with IV is called **Two Stage Least Square** (2SLS).\n",
    "\n",
    "_$1$st Stage_: decomposes $X$ into two components: a problematic component that may be correlated with the regression error and another problem-free component that is uncorrelated with the disturbance term. For simple linear regression model, the first stage begins with a regression model that links $X$ and $Z$\n",
    "\n",
    "$$\n",
    "X_i = \\alpha_1 + \\alpha_2Z_i + v_i\n",
    "$$\n",
    "\n",
    "The problem-free component is the estimated values of $\\hat{X}_i= a_1 + a_2 Z_i$, which is uncorrelated with $u_i$.\n",
    "\n",
    "_$2$nd Stage_: uses the problem-free component to estimate $\\beta_2$.\n",
    "\n",
    "In the context of simple linear regression, regress $Y_i$ on $\\hat{X}_i$ using OLS. The resulting estimators are 2SLS estimators."
   ]
  },
  {
   "cell_type": "markdown",
   "id": "5cdfb3e5-b97f-4c83-99bf-91e120d1e2b4",
   "metadata": {},
   "source": [
    "If you can derive the formula of IV estimator, you won't need to go through these two steps. We can demonstrate how IV estimator of $\\beta_2$ is derived. We start from the covariance of $Z_i$ and $Y_i$\n",
    "$$\n",
    "\\operatorname{Cov}(Z_i, Y_i) = \\operatorname{Cov}(Z_i, \\beta_{1}+\\beta_{2} X_{i}+u_{i}) =  \\operatorname{Cov}(Z_i, \\beta_{0}) + \\operatorname{Cov}(Z_i, \\beta_{2} X_{i}) +  \\operatorname{Cov}(Z_i, u_{i}) =\\beta_{2} \\operatorname{Cov}(Z_i,  X_{i})\n",
    "$$"
   ]
  },
  {
   "cell_type": "markdown",
   "id": "698c45cd-2874-461e-aa3a-756e6dafd3f0",
   "metadata": {},
   "source": [
    "Rearrange the result, denote estimator as $b_2$\n",
    "$$\n",
    "b_2^{\\mathrm{IV}} = \\frac{\\operatorname{Cov}(Z_i, Y_i)}{\\operatorname{Cov}(Z_i,  X_{i})}\n",
    "$$"
   ]
  },
  {
   "cell_type": "markdown",
   "id": "63e46475-d557-477b-97f7-fe54c6d54793",
   "metadata": {},
   "source": [
    "To compare OLS and IV estimator for simple linear regression, here we reproduce the $b_2$ estimator of OLS\n",
    "$$\n",
    "b_{2}^{\\mathrm{OLS}}=\\frac{\\operatorname{Cov}(X, Y)}{\\operatorname{Var}(X)}=\\frac{\\operatorname{Cov}(X, Y)}{\\operatorname{Cov}(X, X)}\n",
    "$$"
   ]
  },
  {
   "cell_type": "markdown",
   "id": "2d77fe44-24ce-4da0-855f-e2a7818147f2",
   "metadata": {},
   "source": [
    "IV estimator is obtained by replacing an $X$ both in nominator and denominator.\n",
    "$$\n",
    "\\begin{aligned}\n",
    "b_{2}^{\\mathrm{IV}} &=\\frac{\\operatorname{Cov}(Z, Y)}{\\operatorname{Cov}(Z, X)}=\\frac{\\operatorname{Cov}\\left(Z,\\left[\\beta_{1}+\\beta_{2} X+u\\right]\\right)}{\\operatorname{Cov}(Z, X)} \\\\\n",
    "&=\\frac{\\operatorname{Cov}\\left(Z, \\beta_{1}\\right)+\\operatorname{Cov}\\left(Z, \\beta_{2} X\\right)+\\operatorname{Cov}(Z, u)}{\\operatorname{Cov}(Z, X)} \\\\\n",
    "&=\\beta_{2}+\\frac{\\operatorname{Cov}(Z, u)}{\\operatorname{Cov}(Z, X)}\n",
    "\\end{aligned}\n",
    "$$"
   ]
  },
  {
   "cell_type": "markdown",
   "id": "a6f27b39-68a1-4843-bfb4-62ed89e89c1b",
   "metadata": {},
   "source": [
    "It tell that the accuracy of $b_{2}^{\\mathrm{IV}}$ depends on relative quantity of covariance. In large sample, we expect IV estimator to be consistent\n",
    "$$\n",
    "\\operatorname{plim} b_{2}^{\\mathrm{IV}}=\\beta_{2}+\\frac{\\operatorname{plim} \\operatorname{Cov}(Z, u)}{\\operatorname{plim} \\operatorname{Cov}(Z, X)}=\\beta_{2}+\\frac{0}{\\sigma_{z x}}=\\beta_{2}\n",
    "$$"
   ]
  },
  {
   "cell_type": "markdown",
   "id": "4fbc875c-a36a-48d6-a58c-ce54822bc53d",
   "metadata": {},
   "source": [
    "We can also compare variance of OLS and IV from simple linear regression\n",
    "$$\n",
    "\\sigma_{b_{2}^{\\mathrm{IV}}}^{2}=\\frac{\\sigma_{u}^{2}}{n \\sigma_{X}^{2}} \\times \\frac{1}{r_{X Z}^{2}}\\\\\n",
    "\\sigma_{b_{2}^{\\mathrm{OLS}}}^{2}=\\frac{\\sigma_{u}^{2}}{n \\sigma_{X}^{2}}\n",
    "$$\n",
    "The greater the correlation between $X$ and $Z$, the smaller will be the variance of $\\sigma_{b_{2}^{\\mathrm{IV}}}^{2}$.\n",
    "\n",
    "We will walk through a numerical example in next chapter, after discussing the identification issue."
   ]
  },
  {
   "cell_type": "markdown",
   "id": "9d938568-feed-4e5f-af2c-c129c630d851",
   "metadata": {},
   "source": []
  }
 ],
 "metadata": {
  "kernelspec": {
   "display_name": "Python 3",
   "language": "python",
   "name": "python3"
  },
  "language_info": {
   "codemirror_mode": {
    "name": "ipython",
    "version": 3
   },
   "file_extension": ".py",
   "mimetype": "text/x-python",
   "name": "python",
   "nbconvert_exporter": "python",
   "pygments_lexer": "ipython3",
   "version": "3.8.8"
  }
 },
 "nbformat": 4,
 "nbformat_minor": 5
}
