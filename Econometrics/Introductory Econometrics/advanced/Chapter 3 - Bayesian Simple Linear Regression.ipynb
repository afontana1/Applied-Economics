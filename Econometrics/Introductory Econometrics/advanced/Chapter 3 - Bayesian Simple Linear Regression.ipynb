{
 "cells": [
  {
   "cell_type": "code",
   "execution_count": 1,
   "id": "3fc1b097-3f0b-4b8e-b300-9daf8ff8bccf",
   "metadata": {},
   "outputs": [
    {
     "name": "stderr",
     "output_type": "stream",
     "text": [
      "E:\\Anaconda\\lib\\site-packages\\statsmodels\\compat\\pandas.py:65: FutureWarning: pandas.Int64Index is deprecated and will be removed from pandas in a future version. Use pandas.Index with the appropriate dtype instead.\n",
      "  from pandas import Int64Index as NumericIndex\n"
     ]
    }
   ],
   "source": [
    "import numpy as np\n",
    "import scipy as sp\n",
    "import scipy.stats\n",
    "import pandas as pd\n",
    "import matplotlib.pyplot as plt\n",
    "import statsmodels.formula.api as smf\n",
    "plt.style.use('fivethirtyeight')"
   ]
  },
  {
   "cell_type": "markdown",
   "id": "480dc75c-41e8-4a45-a8bf-092841d85691",
   "metadata": {
    "tags": []
   },
   "source": [
    "# <font face=\"gotham\" color=\"orange\"> Simple Linear Regression</font>"
   ]
  },
  {
   "cell_type": "markdown",
   "id": "f6098aa3-d8ee-4f4a-bf9d-7b8e2b750ebc",
   "metadata": {},
   "source": [
    "This is a simple linear regression model as in every textbooks\n",
    "$$\n",
    "Y_i=\\beta_1+\\beta_2X_i+u_i\\qquad i = 1, 2, ..., n\n",
    "$$\n",
    "where $Y$ is **dependent variable**, $X$ is **independent variable** and $u$ is **disturbance term**. $\\beta_1$ and $\\beta_2$ are unknown parameters that we are aiming to estimate by feeding the data in the model. \n",
    "\n",
    "Following Gauss-Markov assumptions,\n",
    "$$\n",
    "E(Y|X_i) = {\\beta}_1 + {\\beta}_2X_i\\\\\n",
    "Y_{i} \\sim \\mathrm{N}\\left({\\beta_{1}}+{\\beta_{2}}X_{i}, \\sigma^{2}\\right)\n",
    "$$\n",
    "Similarly, the precision is defined as $\\tau=\\frac{1}{\\sigma^2}$."
   ]
  },
  {
   "cell_type": "markdown",
   "id": "858c4add-3331-476a-9967-932bcec36c4a",
   "metadata": {
    "tags": []
   },
   "source": [
    "## <font face=\"gotham\" color=\"orange\"> The Priors</font>"
   ]
  },
  {
   "cell_type": "markdown",
   "id": "af19bf38-a26c-484e-a62e-149464eaf2bf",
   "metadata": {},
   "source": [
    "Each of these three parameters, i.e. $\\beta_1$, $\\beta_2$ and $\\tau$ will be estimated, therefore each of them have their own **prior elicitation** which means define a prior with all proper knowledge available. For demonstration purpose, we define $\\beta$ priors as normal distributions.\n",
    "\n",
    "$$\n",
    "P(\\beta_1)=(2 \\pi)^{-\\frac{1}{2}} \\tau_1^{\\frac{1}{2}} \\exp{\\left(-\\frac{1}{2} \\tau_1 \\left(\\beta_1-\\mu_1\\right)^{2}\\right)}\\\\\n",
    "P(\\beta_2)=(2 \\pi)^{-\\frac{1}{2}} \\tau_2^{\\frac{1}{2}} \\exp{\\left(-\\frac{1}{2} \\tau_2 \\left(\\beta_1-\\mu_1\\right)^{2}\\right)}\\\\\n",
    "$$\n",
    "\n",
    "However the precision $\\tau$ can't be negative, therefore a Gamma distribution would be appropriate. The posterior of $\\tau$ will follow a Gamma distribution too due to **Gamma-Normal conjugate**.\n",
    "$$\n",
    "P(\\tau)=\\frac{\\theta_{0}^{\\alpha_{0}} \\tau^{\\alpha_{0}-1} e^{-\\theta_{0} \\tau}}{\\Gamma\\left(\\alpha_{0}\\right)} \\quad 0 \\leq \\tau \\leq \\infty\n",
    "$$"
   ]
  },
  {
   "cell_type": "markdown",
   "id": "21305c67-6dcb-4daf-b38f-34b998a895ba",
   "metadata": {},
   "source": [
    "## <font face=\"gotham\" color=\"orange\"> Likelihood Function</font>"
   ]
  },
  {
   "cell_type": "markdown",
   "id": "a67d19a9-21e7-4d06-92c3-6502ce12491b",
   "metadata": {},
   "source": [
    "With normality assumption, likelihood of $Y$ is\n",
    "$$\n",
    "\\mathcal{L}\\left(Y | \\mu_{i}, \\sigma^{2}\\right)=\\prod_{i=1}^n\\frac{1}{\\sigma \\sqrt{2 \\pi}} \\exp{\\left(-\\frac{1}{2}\\left(\\frac{Y_i-\\mu_i}{\\sigma}\\right)^{2}\\right)}\n",
    "$$"
   ]
  },
  {
   "cell_type": "markdown",
   "id": "c16ad594-1f20-4db9-863d-62e88c4d3947",
   "metadata": {},
   "source": [
    "Equivalently, replace $\\sigma$ by $\\tau$ and rewrite the function into summation\n",
    "$$\n",
    "\\mathcal{L}\\left(Y | \\mu_{i}, \\tau\\right)=(2 \\pi)^{-\\frac{n}{2}} \\tau^{\\frac{n}{2}} \\exp{\\left(-\\frac{1}{2} \\tau \\sum_{i=1}^n\\left(Y_{i}-\\mu_{i}\\right)^{2}\\right)}\n",
    "$$"
   ]
  },
  {
   "cell_type": "markdown",
   "id": "f087324e-98ce-473a-aa19-57d40b971faf",
   "metadata": {},
   "source": [
    "Replace $\\mu_i$ by ${\\beta}_1 + {\\beta}_2X_i$, note how we have change the notation of parameters\n",
    "$$\n",
    "\\mathcal{L}\\left(Y | \\beta_1, \\beta_2, \\tau\\right)=(2 \\pi)^{-\\frac{n}{2}} \\tau^{\\frac{n}{2}} \\exp{\\left(-\\frac{1}{2} \\tau \\sum_{i=1}^n\\left(Y_{i}-({\\beta}_1 + {\\beta}_2X_i)\\right)^{2}\\right)}\n",
    "$$"
   ]
  },
  {
   "cell_type": "markdown",
   "id": "a85dd74f-7a6a-49b6-9ca0-fce2bf0b47f3",
   "metadata": {},
   "source": [
    "The likelihood function are the same for $\\beta_1$, $\\beta_2$ and $\\tau$.\n",
    "$$\n",
    "\\mathcal{L}\\left(Y | \\beta_1\\right)=\\mathcal{L}\\left(Y | \\beta_2\\right)=\\mathcal{L}\\left(Y | \\tau\\right)=(2 \\pi)^{-\\frac{n}{2}} \\tau^{\\frac{n}{2}} \\exp{\\left(-\\frac{1}{2} \\tau \\sum_{i=1}^n\\left(Y_{i}-({\\beta}_1 + {\\beta}_2X_i)\\right)^{2}\\right)}\n",
    "$$"
   ]
  },
  {
   "cell_type": "markdown",
   "id": "398a7987-6cc5-44f3-8de7-c76d41418e08",
   "metadata": {},
   "source": [
    "## <font face=\"gotham\" color=\"orange\"> The Posteriors </font>"
   ]
  },
  {
   "cell_type": "markdown",
   "id": "c7af3a8c-ba50-4de5-9259-0fffb66f59e2",
   "metadata": {},
   "source": [
    "Be careful about the notation, $\\tau_1$ is the precision of $\\beta_1$ which is a variable rather than a constant viewed in frequentists. "
   ]
  },
  {
   "cell_type": "markdown",
   "id": "bb2b03b8-55f9-4396-8e77-f27be4ddbcd7",
   "metadata": {},
   "source": [
    "To start from $\\beta_1$\n",
    "$$\n",
    "P\\left(\\beta_{1}\\right) \\times P\\left(Y\\mid \\beta_{1}\\right)=(2 \\pi)^{-\\frac{1}{2}} \\tau_{1}^{\\frac{1}{2}} \\exp\\left({-\\frac{\\tau_{1}}{2}\\left(\\beta_{1}-\\mu_{1}\\right)^{2}}\\right) \\times (2 \\pi)^{-\\frac{n}{2}} \\tau^{\\frac{n}{2}} \\exp{\\left(-\\frac{1}{2} \\tau \\sum_{i=1}^n\\left(Y_{i}-({\\beta}_1 + {\\beta}_2X_i)\\right)^{2}\\right)}\n",
    "$$"
   ]
  },
  {
   "cell_type": "markdown",
   "id": "f2cc3c01-b2b5-48bd-b55b-ac6d0a537604",
   "metadata": {},
   "source": [
    "Join terms\n",
    "$$\n",
    "P\\left(\\beta_{1}\\right) \\times P\\left(Y\\mid \\beta_{1}\\right)=(2 \\pi)^{-\\frac{n+1}{2}} \\tau_{1}^{\\frac{1}{2}} \\tau^{\\frac{n}{2}} \\exp{\\left(-\\frac{1}{2} \\tau_{1}\\left(\\beta_{1}-\\mu_{1}\\right)^{2}-\\frac{1}{2} \\tau \\sum_{i=1}^n\\left(Y_{i}-\\beta_{1}-\\beta_{2} X_{i}\\right)^{2}\\right)}\n",
    "$$"
   ]
  },
  {
   "cell_type": "markdown",
   "id": "dae2ddc9-00ac-4fc0-8224-a9cb39aa279b",
   "metadata": {},
   "source": [
    "Let's focus on exponential term for now, expand the brackets\n",
    "\\begin{align}\n",
    "&\\exp{\\left(-\\frac{1}{2} \\tau_{1}\\left(\\beta_{1}-\\mu_{1}\\right)^{2}-\\frac{1}{2} \\tau \\sum_{i=1}^n\\left(Y_{i}-\\beta_{1}-\\beta_{2} X_{i}\\right)^{2}\\right)}\\\\\n",
    "&= \\exp{\\left[-\\frac{1}{2} \\tau_{1}\\left(\\beta_{1}^{2}-2 \\beta_{1} \\mu_{1}+\\mu_{1}^{2}\\right)-\\frac{1}{2} \\tau\\left(n \\beta_{1}^{2}-2 \\beta_{1} \\sum_{i=1}^n\\left(Y_{i}-\\beta_{2} X_{i}\\right)+\\sum_{i=1}^n\\left(Y_{i}-\\beta_{2} X_{i}\\right)^{2}\\right)\\right]}\\\\\n",
    "&=\\exp{\\left[-\\frac{1}{2}\\left(\\tau_{1}+n \\tau\\right) \\beta_{1}^{2}-\\frac{1}{2}\\left[-2 \\tau_{1} \\mu_{1}-2 \\tau \\sum_{i=1}^n\\left(Y_{i}-\\beta_{2} X_{i}\\right)\\right] \\beta_{1}-\\frac{1}{2} \\tau_{1} \\mu_{1}^{2}-\\frac{1}{2} \\tau \\sum_{i=1}^n\\left(Y_{i}-\\beta_{2} X_{i}\\right)^{2}\\right]}\\\\\n",
    "&=\\exp{\\left[-\\frac{1}{2}\\left(\\tau_{1}+n \\tau\\right) \\beta_{1}^{2}+\\left[\\tau_{1} \\mu_{1}+\\tau \\sum_{i=1}^n\\left(Y_{i}-\\beta_{2} X_{i}\\right)\\right] \\beta_{1}+\\frac{-\\frac{1}{2}\\left[\\tau_{1} \\mu_{1}+\\tau \\sum_{i=1}^n\\left(Y_{i}-\\beta_{2} X_{i}\\right)\\right]^{2}}{\\tau_{1}+n \\tau}-\\frac{-\\frac{1}{2}\\left[\\tau_{1} \\mu_{1}+\\tau \\sum_{i=1}^n\\left(Y_{i}-\\beta_{2} X_{i}\\right)\\right]^{2}}{\\tau_{1}+n \\tau}-\\frac{1}{2} \\tau_{1} \\mu_{1}^{2}-\\frac{1}{2} \\tau \\sum_{i=1}^n\\left(Y_{i}-\\beta_{2} X_{i}\\right)^{2}\\right]}\\\\\n",
    "\\end{align}\n",
    "The first three terms can be combined and the rest are free of $\\beta_1$, which will be denoted as $C$."
   ]
  },
  {
   "cell_type": "markdown",
   "id": "fc3080b2-d7cd-40c5-94a5-60e521a24a7c",
   "metadata": {},
   "source": [
    "$$\n",
    "-\\frac{1}{2} \\left(\\tau_{1}+n \\tau\\right)\\left[\\beta_{1}-\\frac{\\left(\\tau_{1} \\mu_{1}+\\tau \\sum_{i=1}^n\\left(Y_{i}-\\beta_{2} X_{i}\\right)\\right)}{\\tau_{1}+n \\tau}\\right]^{2}\n",
    "$$"
   ]
  },
  {
   "cell_type": "markdown",
   "id": "01ae85a1-5104-4d64-b056-99682f8dc151",
   "metadata": {},
   "source": [
    "Back to Bayes' Theorem\n",
    "$$\n",
    "P\\left(\\beta_{1} | Y\\right)=\\frac{(2 \\pi)^{-\\frac{n+1}{2}} \\tau_{1}^{\\frac{1}{2}} \\tau^{\\frac{n}{2}} \\exp{\\left[-\\frac{1}{2}\\left(\\tau_{1}+n \\tau\\right)\\left[\\beta_{1}-\\frac{\\left(\\tau_{1} \\mu_{1}+\\tau \\sum_{i=1}^n\\left(Y_{i}-\\beta_{2} X_{i}\\right)\\right)}{\\tau_{1}+n \\tau}\\qquad\\right]^{2}+C\\right]}}{\\int_{-\\infty}^{\\infty}(2 \\pi)^{-\\frac{n+1}{2}} \\tau_{1}^{\\frac{1}{2}} \\tau^{\\frac{n}{2}} \\exp{\\left[-\\frac{1}{2}\\left(\\tau_{1}+n \\tau\\right)\\left[u-\\frac{\\left(\\tau_{1} \\mu_{1}+\\tau \\sum_{i=1}^n\\left(Y_{i}-\\beta_{2} X_{i}\\right)\\right)}{\\tau_{1}+n \\tau}\\qquad\\right]^{2}+C\\right]} d u}\n",
    "$$"
   ]
  },
  {
   "cell_type": "markdown",
   "id": "5da0e8c6-2d95-406f-8493-bebb33e8ff34",
   "metadata": {},
   "source": [
    "Cancel out terms, we obtain\n",
    "$$\n",
    "P\\left(\\beta_{1} | Y\\right)=\\frac{\\exp{\\left[-\\frac{1}{2}\\left(\\tau_{1}+n \\tau\\right)\\left[\\beta_{1}-\\frac{\\left(\\tau_{1} \\mu_{1}+\\tau \\sum_{i=1}^n\\left(Y_{i}-\\beta_{2} X_{i}\\right)\\right)}{\\tau_{1}+n \\tau}\\qquad\\right]^{2}\\right]}}{\\int_{-\\infty}^{\\infty} \\exp{\\left[-\\frac{1}{2}\\left(\\tau_{1}+n \\tau\\right)\\left[u-\\frac{\\left(\\tau_{1} \\mu_{1}+\\tau \\sum_{i=1}^n\\left(Y_{i}-\\beta_{2} X_{i}\\right)\\right)}{\\tau_{1}+n \\tau}\\qquad\\right]^{2}\\right]} d u}\n",
    "$$"
   ]
  },
  {
   "cell_type": "markdown",
   "id": "f1cd8b5d-0508-478b-988f-9f5e6120d544",
   "metadata": {},
   "source": [
    "Now multiply both numerator and denominator by\n",
    "$$\n",
    "\\frac{\\sqrt{\\tau_{1}+n \\tau}}{\\sqrt{2 \\pi}}\n",
    "$$\n",
    "which yields"
   ]
  },
  {
   "cell_type": "markdown",
   "id": "f2256926-46cb-48fe-b163-d43bb32ee292",
   "metadata": {},
   "source": [
    "$$\n",
    "P\\left(\\beta_{1} | Y\\right)=\\frac{\\frac{\\sqrt{\\tau_{1}+n \\tau}}{\\sqrt{2 \\pi}}\\exp{\\left[-\\frac{1}{2}\\left(\\tau_{1}+n \\tau\\right)\\left[\\beta_{1}-\\frac{\\left(\\tau_{1} \\mu_{1}+\\tau \\sum_{i=1}^n\\left(Y_{i}-\\beta_{2} X_{i}\\right)\\right)}{\\tau_{1}+n \\tau}\\qquad\\right]^{2}\\right]}}{\\int_{-\\infty}^{\\infty}\\frac{\\sqrt{\\tau_{1}+n \\tau}}{\\sqrt{2 \\pi}} \\exp{\\left[-\\frac{1}{2}\\left(\\tau_{1}+n \\tau\\right)\\left[u-\\frac{\\left(\\tau_{1} \\mu_{1}+\\tau \\sum_{i=1}^n\\left(Y_{i}-\\beta_{2} X_{i}\\right)\\right)}{\\tau_{1}+n \\tau}\\qquad\\right]^{2}\\right]} d u}\n",
    "$$"
   ]
  },
  {
   "cell_type": "markdown",
   "id": "23b1390a-5ed1-49f4-8acf-1fd59414d35b",
   "metadata": {},
   "source": [
    "The denominator is equal to $1$, which leaves us\n",
    "$$\n",
    "P\\left(\\beta_{1} | Y\\right)=(2\\pi)^{-\\frac{1}{2}}(\\tau_1+nr)^{\\frac{1}{2}}\\exp{\\left[-\\frac{1}{2}\\left(\\tau_{1}+n \\tau\\right)\\left[\\beta_{1}-\\frac{\\left(\\tau_{1} \\mu_{1}+\\tau \\sum_{i=1}^n\\left(Y_{i}-\\beta_{2} X_{i}\\right)\\right)}{\\tau_{1}+n \\tau}\\qquad\\right]^{2}\\right]}\n",
    "$$\n",
    "Compare with the prior\n",
    "$$\n",
    "P(\\beta_1)=(2 \\pi)^{-\\frac{1}{2}} \\tau_1^{\\frac{1}{2}} \\exp{\\left(-\\frac{1}{2} \\tau_1 \\left(\\beta_1-\\mu_1\\right)^{2}\\right)}\n",
    "$$"
   ]
  },
  {
   "cell_type": "markdown",
   "id": "d6fdf07b-b824-41af-a754-6dea87e6c71f",
   "metadata": {},
   "source": [
    "The posterior hyperparameters of $\\beta_1$ are\n",
    "$$\n",
    "\\begin{gathered}\n",
    "\\mu_{\\text {1posterior }}=\\frac{\\tau_{1} \\mu_{1}+\\tau \\sum_{i=1}^n\\left(Y_{i}-\\beta_{2} X_{i}\\right)}{\\tau_{1}+n \\tau} \\\\\n",
    "\\tau_{\\text {1posterior }}=\\tau_{1}+n \\tau\n",
    "\\end{gathered}\n",
    "$$"
   ]
  },
  {
   "cell_type": "code",
   "execution_count": 11,
   "id": "cb168903-29b9-4769-94ac-80f1c1c21b2b",
   "metadata": {},
   "outputs": [],
   "source": [
    "def mu_tau_1_post(tau_1_prior, mu_1_prior, mu_2_prior, tau_lh, Y, X, n):\n",
    "    mu_1_post = (tau_1_prior*mu_1_prior + tau_lh*(np.sum(Y - mu_2_prior*X)))/(tau_1_prior + n*tau_lh)\n",
    "    tau_1_post = tau_1_prior + n*tau_lh\n",
    "    sigma_1_post = 1/np.sqrt(tau_1_post)\n",
    "    return mu_1_post, tau_1_post, sigma_1_post"
   ]
  },
  {
   "cell_type": "markdown",
   "id": "c985f9b7-1886-4bd5-a776-6d434ae2e7cd",
   "metadata": {},
   "source": [
    "The derivation of posterior for $\\beta_2$ are very, will not be reproduced here\n",
    "$$\n",
    "\\begin{gathered}\n",
    "\\mu_{2 \\text { posterior }}=\\frac{\\tau_{2} \\mu_{2}+\\tau \\sum_{i=1}^n X_{i}\\left(Y_{i}-\\beta_{1}\\right)}{\\tau_{2}+\\tau \\sum_{i=1}^n X_{i}^{2}} \\\\\n",
    "\\tau_{2 \\text { posterior }}=\\tau_{2}+\\tau \\sum_{i=1}^n X_{i}^{2}\n",
    "\\end{gathered}\n",
    "$$"
   ]
  },
  {
   "cell_type": "code",
   "execution_count": 12,
   "id": "87d3de96-dfb7-430d-bed9-990a0d7de141",
   "metadata": {},
   "outputs": [],
   "source": [
    "def mu_tau_2_post(tau_2_prior, mu_2_prior, mu_1_prior, tau_lh, Y, X, n):\n",
    "    mu_2_post = (tau_2_prior*mu_2_prior + tau_lh*np.sum(X*(Y-mu_1_prior)))/(tau_2_prior + tau_lh*np.sum(X**2))\n",
    "    tau_2_post = tau_2_prior + tau_lh*np.sum(X**2)\n",
    "    sigma_2_post = 1/np.sqrt(tau_2_post)\n",
    "    return mu_2_post, tau_2_post, sigma_2_post"
   ]
  },
  {
   "cell_type": "markdown",
   "id": "a072d54c-a34e-4bd9-8ad9-1e9cb7a23439",
   "metadata": {},
   "source": [
    "We will derive the posterior of $\\tau$, prior multiply by likelihood equals\n",
    "$$\n",
    "P(\\tau)  P(Y | \\tau)=\\frac{\\beta_{0}^{\\alpha_{0}} \\tau^{\\alpha_{0}-1} e^{-\\beta_{0} \\tau}}{\\Gamma\\left(\\alpha_{0}\\right)} *(2 \\pi)^{-\\frac{n}{2}} \\tau^{\\frac{n}{2}} \\exp{\\left[-\\frac{1}{2} \\tau \\Sigma\\left(y_{i}-\\left(b_{0}-b_{1} x_{i}\\right)\\right)^{2}\\right]}\n",
    "$$"
   ]
  },
  {
   "cell_type": "markdown",
   "id": "08554f5b-ad4f-4c97-90e8-ceaa298947b4",
   "metadata": {},
   "source": [
    "## <font face=\"gotham\" color=\"orange\"> A Simulated Example </font>"
   ]
  },
  {
   "cell_type": "code",
   "execution_count": 57,
   "id": "1e88e502-928b-4e99-8504-3a74fe3286f9",
   "metadata": {},
   "outputs": [],
   "source": [
    "beta_1, beta_2 = 8, 15\n",
    "n = 30\n",
    "X = np.arange(30)\n",
    "u = np.random.rand(30)\n",
    "Y = beta_1 + beta_2*X + u"
   ]
  },
  {
   "cell_type": "code",
   "execution_count": 69,
   "id": "61d29c6f-2774-47eb-b1e3-5e79dfc8cc2a",
   "metadata": {},
   "outputs": [],
   "source": [
    "mu_1_prior, sigma_1_prior = 2, 3\n",
    "mu_2_prior, sigma_2_prior = 20, 6\n",
    "sigma_lh = np.std(Y)\n",
    "tau_lh = 1/sigma_lh**2\n",
    "tau_1_prior, tau_2_prior = 1/sigma_1_prior**2, 1/sigma_2_prior**2"
   ]
  },
  {
   "cell_type": "code",
   "execution_count": 70,
   "id": "cb4798f5-6dc8-44e9-9522-4816863cf731",
   "metadata": {},
   "outputs": [],
   "source": [
    "mu_1_post, tau_1_post, sigma_1_post = mu_tau_1_post(tau_1_prior, mu_1_prior, \n",
    "                                                    mu_2_prior, tau_lh, Y, X, n)\n",
    "mu_2_post, tau_2_post, sigma_2_post = mu_tau_2_post(tau_2_prior, mu_2_prior, \n",
    "                                                    mu_1_prior, tau_lh, Y, X, n)"
   ]
  },
  {
   "cell_type": "code",
   "execution_count": 71,
   "id": "2522e39f-055f-47d3-8282-1c50d66398fb",
   "metadata": {},
   "outputs": [
    {
     "name": "stdout",
     "output_type": "stream",
     "text": [
      "mu_1_post: 0.9610\n",
      "tau_1_post: 0.1128915863\n",
      "sigma_1_post: 2.9762\n",
      "\n",
      "mu_2_post: 15.5778\n",
      "tau_2_post: 0.5355099383\n",
      "sigma_2_post: 1.3665\n"
     ]
    },
    {
     "data": {
      "image/png": "[encoded data removed]",
      "text/plain": [
       "<Figure size 864x432 with 2 Axes>"
      ]
     },
     "metadata": {},
     "output_type": "display_data"
    }
   ],
   "source": [
    "betax_prior_1 = np.linspace(-15, 10, 100)\n",
    "betax_prior_2 = np.linspace(0, 30, 100)\n",
    "\n",
    "betay_prior_1 = sp.stats.norm.pdf(betax_prior_1, loc=mu_1_prior, scale=sigma_1_prior)\n",
    "betay_prior_2 = sp.stats.norm.pdf(betax_prior_2, loc=mu_2_prior, scale=sigma_2_prior)\n",
    "\n",
    "betax_post_1 = np.linspace(mu_1_post-3*sigma_1_post, mu_1_post+3*sigma_1_post, 100)\n",
    "betax_post_2 = np.linspace(mu_2_post-sigma_2_post, mu_2_post+sigma_2_post, 100)\n",
    "\n",
    "betay_post_1 = sp.stats.norm.pdf(betax_prior_1, loc=mu_1_post, scale=sigma_1_post)\n",
    "betay_post_2 = sp.stats.norm.pdf(betax_prior_2, loc=mu_2_post, scale=sigma_2_post)\n",
    "\n",
    "fig, ax = plt.subplots(figsize=(12, 6), nrows=1, ncols=2)\n",
    "ax[0].plot(betax_prior_1, betay_prior_1, lw = 3, label='Prior')\n",
    "ax[0].plot(betax_post_1, betay_post_1, lw=3, label='Posterior')\n",
    "ax[0].set_title(r'$\\beta_1$')\n",
    "ax[1].plot(betax_prior_2, betay_prior_2, lw = 3, label='Prior')\n",
    "ax[1].plot(betax_prior_2, betay_post_2, lw=3, label='Posterior')\n",
    "ax[1].set_title(r'$\\beta_2$')\n",
    "ax[0].legend()\n",
    "ax[1].legend()\n",
    "\n",
    "print('mu_1_post: {:.4f}'.format(mu_1_post))\n",
    "print('tau_1_post: {:.10f}'.format(tau_1_post))\n",
    "print('sigma_1_post: {:.4f}'.format(sigma_1_post))\n",
    "print('')\n",
    "print('mu_2_post: {:.4f}'.format(mu_2_post))\n",
    "print('tau_2_post: {:.10f}'.format(tau_2_post))\n",
    "print('sigma_2_post: {:.4f}'.format(sigma_2_post))\n",
    "plt.show()"
   ]
  },
  {
   "cell_type": "markdown",
   "id": "da46f3ff-dd28-47f8-97c0-a7732ee5f1ed",
   "metadata": {
    "tags": []
   },
   "source": [
    "## <font face=\"gotham\" color=\"orange\"> An Example of Apartment Price </font>"
   ]
  },
  {
   "cell_type": "code",
   "execution_count": 73,
   "id": "fec1d0ba-7f52-494b-acac-90d8c7fabd51",
   "metadata": {},
   "outputs": [],
   "source": [
    "df = pd.read_excel('Basic_Econometrics_practice_data.xlsx', 'CN_Cities_house_price')"
   ]
  },
  {
   "cell_type": "code",
   "execution_count": 74,
   "id": "7ed11a09-29d1-42f9-b906-c58e77516e18",
   "metadata": {},
   "outputs": [
    {
     "data": {
      "text/html": [
       "<div>\n",
       "<style scoped>\n",
       "    .dataframe tbody tr th:only-of-type {\n",
       "        vertical-align: middle;\n",
       "    }\n",
       "\n",
       "    .dataframe tbody tr th {\n",
       "        vertical-align: top;\n",
       "    }\n",
       "\n",
       "    .dataframe thead th {\n",
       "        text-align: right;\n",
       "    }\n",
       "</style>\n",
       "<table border=\"1\" class=\"dataframe\">\n",
       "  <thead>\n",
       "    <tr style=\"text-align: right;\">\n",
       "      <th></th>\n",
       "      <th>cities</th>\n",
       "      <th>house_price</th>\n",
       "      <th>salary</th>\n",
       "    </tr>\n",
       "  </thead>\n",
       "  <tbody>\n",
       "    <tr>\n",
       "      <th>0</th>\n",
       "      <td>Shenzhen</td>\n",
       "      <td>87957</td>\n",
       "      <td>64878</td>\n",
       "    </tr>\n",
       "    <tr>\n",
       "      <th>1</th>\n",
       "      <td>Beijing</td>\n",
       "      <td>64721</td>\n",
       "      <td>69434</td>\n",
       "    </tr>\n",
       "    <tr>\n",
       "      <th>2</th>\n",
       "      <td>Shanghai</td>\n",
       "      <td>59072</td>\n",
       "      <td>72232</td>\n",
       "    </tr>\n",
       "    <tr>\n",
       "      <th>3</th>\n",
       "      <td>Xiamen</td>\n",
       "      <td>49803</td>\n",
       "      <td>58140</td>\n",
       "    </tr>\n",
       "    <tr>\n",
       "      <th>4</th>\n",
       "      <td>Guangzhou</td>\n",
       "      <td>39851</td>\n",
       "      <td>68304</td>\n",
       "    </tr>\n",
       "  </tbody>\n",
       "</table>\n",
       "</div>"
      ],
      "text/plain": [
       "      cities  house_price  salary\n",
       "0   Shenzhen        87957   64878\n",
       "1    Beijing        64721   69434\n",
       "2   Shanghai        59072   72232\n",
       "3     Xiamen        49803   58140\n",
       "4  Guangzhou        39851   68304"
      ]
     },
     "execution_count": 74,
     "metadata": {},
     "output_type": "execute_result"
    }
   ],
   "source": [
    "df.head()"
   ]
  },
  {
   "cell_type": "markdown",
   "id": "34eedcb8-625b-478b-82c7-5e6eb3f52154",
   "metadata": {},
   "source": [
    "The model to fit the data ill be exactly as we derived above, i.e.\n",
    "$$\n",
    "Y_i=\\beta_1+\\beta_2X_i+u_i\\qquad i = 1, 2, ..., n\n",
    "$$"
   ]
  },
  {
   "cell_type": "markdown",
   "id": "cc853d39-fd6c-499c-a6bc-dcef7514ec20",
   "metadata": {},
   "source": [
    "This simple model aims to explain the influence of salary on apartment price per square meter. The $\\beta_1$ doesn't have much meaning in the model, literally it means the apartment price when salary equals $0$. However $\\beta_2$ has a concrete meaning that how much apartment price can raise based on every one yuan increase in average salary.\n",
    "\n",
    "We can choose to elicit priors' hyperparameters for $\\beta_1$ and $\\beta_2$ as \n",
    "$$\n",
    "\\mu_1 = 1000\\\\\n",
    "\\sigma_1 = 200 \\qquad \\tau_1 = \\frac{1}{\\sigma_1^2}\\\\\n",
    "\\mu_2 = 1.5\\\\\n",
    "\\sigma_2 = .3 \\qquad \\tau_2 = \\frac{1}{\\sigma_2^2}\\\\\n",
    "$$"
   ]
  },
  {
   "cell_type": "code",
   "execution_count": 77,
   "id": "4ac063a7-d3e2-45ed-a392-f16c7fa22d4c",
   "metadata": {
    "tags": []
   },
   "outputs": [
    {
     "data": {
      "image/png": "[encoded data removed]",
      "text/plain": [
       "<Figure size 1224x432 with 2 Axes>"
      ]
     },
     "metadata": {},
     "output_type": "display_data"
    },
    {
     "name": "stdout",
     "output_type": "stream",
     "text": [
      "mu_1_post: -1473.2840\n",
      "tau_1_post: 0.0000277778\n",
      "sigma_1_post: 189.7367\n",
      "\n",
      "mu_2_post: 0.5640\n",
      "tau_2_post: 8442.1727574444\n",
      "sigma_2_post: 0.0109\n"
     ]
    }
   ],
   "source": [
    "Y, X = df['house_price'], df['salary']\n",
    "\n",
    "mu_1_prior, sigma_1_prior = 1000, 200\n",
    "mu_2_prior, sigma_2_prior = 1, .1\n",
    "sigma_lh = 3000\n",
    "tau_lh = 1/sigma_lh**2\n",
    "tau_1_prior, tau_2_prior = 1/sigma_1_prior**2, 1/sigma_2_prior**2\n",
    "\n",
    "betax_prior_1 = np.linspace(400, 1600, 100)\n",
    "betax_prior_2 = np.linspace(.5, 2.5, 100)\n",
    "\n",
    "betay_prior_1 = sp.stats.norm.pdf(betax_prior_1, loc=mu_1_prior, scale=sigma_1_prior)\n",
    "betay_prior_2 = sp.stats.norm.pdf(betax_prior_2, loc=mu_2_prior, scale=sigma_2_prior)\n",
    "n = len(X)\n",
    "\n",
    "# use functions to calculate posterior hyperparameters\n",
    "mu_1_post, tau_1_post, sigma_1_post = mu_tau_1_post(tau_1_prior, mu_1_prior, mu_2_prior, tau_lh, Y, X, n)\n",
    "mu_2_post, tau_2_post, sigma_2_post = mu_tau_2_post(tau_2_prior, mu_2_prior, mu_1_prior, tau_lh, Y, X, n)\n",
    "\n",
    "betay_post_1 = sp.stats.norm.pdf(betax_prior_1, loc=mu_1_post, scale=sigma_1_post)\n",
    "betay_post_2 = sp.stats.norm.pdf(betax_prior_2, loc=mu_2_post, scale=sigma_2_post)\n",
    "\n",
    "\n",
    "fig, ax = plt.subplots(figsize=(17, 6), nrows=1, ncols=2)\n",
    "\n",
    "betax_post_1 = np.linspace(mu_1_post-3*sigma_1_post, mu_1_post+3*sigma_1_post, 100)\n",
    "#betax_post_2 = np.linspace(mu_2_post-sigma_2_post, mu_2_post+sigma_2_post, 100)\n",
    "\n",
    "ax[0].plot(betax_prior_1, betay_prior_1, lw = 3)\n",
    "ax[0].plot(betax_post_1, betay_post_1, lw=3)\n",
    "ax[0].set_title(r'$\\beta_1$')\n",
    "ax[1].plot(betax_prior_2, betay_prior_2, lw = 3)\n",
    "ax[1].plot(betax_prior_2, betay_post_2, lw=3)\n",
    "ax[1].set_title(r'$\\beta_2$')\n",
    "\n",
    "plt.show()\n",
    "\n",
    "print('mu_1_post: {:.4f}'.format(mu_1_post))\n",
    "print('tau_1_post: {:.10f}'.format(tau_1_post))\n",
    "print('sigma_1_post: {:.4f}'.format(sigma_1_post))\n",
    "print('')\n",
    "print('mu_2_post: {:.4f}'.format(mu_2_post))\n",
    "print('tau_2_post: {:.10f}'.format(tau_2_post))\n",
    "print('sigma_2_post: {:.4f}'.format(sigma_2_post))"
   ]
  },
  {
   "cell_type": "code",
   "execution_count": 7,
   "id": "4177b89e-fcdf-43bd-944d-cdc583bc1dfe",
   "metadata": {},
   "outputs": [
    {
     "name": "stdout",
     "output_type": "stream",
     "text": [
      "                            OLS Regression Results                            \n",
      "==============================================================================\n",
      "Dep. Variable:            house_price   R-squared:                       0.365\n",
      "Model:                            OLS   Adj. R-squared:                  0.337\n",
      "Method:                 Least Squares   F-statistic:                     13.21\n",
      "Date:                Sat, 02 Apr 2022   Prob (F-statistic):            0.00139\n",
      "Time:                        12:17:05   Log-Likelihood:                -274.08\n",
      "No. Observations:                  25   AIC:                             552.2\n",
      "Df Residuals:                      23   BIC:                             554.6\n",
      "Df Model:                           1                                         \n",
      "Covariance Type:            nonrobust                                         \n",
      "==============================================================================\n",
      "                 coef    std err          t      P>|t|      [0.025      0.975]\n",
      "------------------------------------------------------------------------------\n",
      "Intercept  -2.918e+04   1.66e+04     -1.758      0.092   -6.35e+04    5156.201\n",
      "salary         1.1010      0.303      3.635      0.001       0.474       1.728\n",
      "==============================================================================\n",
      "Omnibus:                       14.403   Durbin-Watson:                   0.926\n",
      "Prob(Omnibus):                  0.001   Jarque-Bera (JB):               14.263\n",
      "Skew:                           1.457   Prob(JB):                     0.000800\n",
      "Kurtosis:                       5.280   Cond. No.                     3.12e+05\n",
      "==============================================================================\n",
      "\n",
      "Notes:\n",
      "[1] Standard Errors assume that the covariance matrix of the errors is correctly specified.\n",
      "[2] The condition number is large, 3.12e+05. This might indicate that there are\n",
      "strong multicollinearity or other numerical problems.\n"
     ]
    }
   ],
   "source": [
    "model = smf.ols(formula='house_price ~ salary', data=df)\n",
    "results = model.fit()\n",
    "print(results.summary())"
   ]
  },
  {
   "cell_type": "code",
   "execution_count": 8,
   "id": "0c2abfac-75f0-4fcc-b320-70cb2185b9e8",
   "metadata": {},
   "outputs": [
    {
     "data": {
      "text/html": [
       "<div>\n",
       "<style scoped>\n",
       "    .dataframe tbody tr th:only-of-type {\n",
       "        vertical-align: middle;\n",
       "    }\n",
       "\n",
       "    .dataframe tbody tr th {\n",
       "        vertical-align: top;\n",
       "    }\n",
       "\n",
       "    .dataframe thead th {\n",
       "        text-align: right;\n",
       "    }\n",
       "</style>\n",
       "<table border=\"1\" class=\"dataframe\">\n",
       "  <thead>\n",
       "    <tr style=\"text-align: right;\">\n",
       "      <th></th>\n",
       "      <th>OLS estimates</th>\n",
       "    </tr>\n",
       "  </thead>\n",
       "  <tbody>\n",
       "    <tr>\n",
       "      <th>Intercept</th>\n",
       "      <td>-29181.169815</td>\n",
       "    </tr>\n",
       "    <tr>\n",
       "      <th>salary</th>\n",
       "      <td>1.100985</td>\n",
       "    </tr>\n",
       "  </tbody>\n",
       "</table>\n",
       "</div>"
      ],
      "text/plain": [
       "           OLS estimates\n",
       "Intercept  -29181.169815\n",
       "salary          1.100985"
      ]
     },
     "execution_count": 8,
     "metadata": {},
     "output_type": "execute_result"
    }
   ],
   "source": [
    "ols_coeff = pd.DataFrame(results.params, columns =['OLS estimates'])\n",
    "ols_coeff"
   ]
  },
  {
   "cell_type": "code",
   "execution_count": null,
   "id": "812ce22f-364e-438c-87ee-c8322e6b768a",
   "metadata": {},
   "outputs": [],
   "source": []
  }
 ],
 "metadata": {
  "kernelspec": {
   "display_name": "Python 3 (ipykernel)",
   "language": "python",
   "name": "python3"
  },
  "language_info": {
   "codemirror_mode": {
    "name": "ipython",
    "version": 3
   },
   "file_extension": ".py",
   "mimetype": "text/x-python",
   "name": "python",
   "nbconvert_exporter": "python",
   "pygments_lexer": "ipython3",
   "version": "3.8.12"
  }
 },
 "nbformat": 4,
 "nbformat_minor": 5
}
