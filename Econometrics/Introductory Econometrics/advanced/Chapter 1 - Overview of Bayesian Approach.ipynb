{
 "cells": [
  {
   "cell_type": "code",
   "execution_count": 2,
   "metadata": {},
   "outputs": [],
   "source": [
    "import numpy as np\n",
    "import scipy as sp\n",
    "import scipy.stats\n",
    "import matplotlib.pyplot as plt\n",
    "plt.style.use('fivethirtyeight')"
   ]
  },
  {
   "cell_type": "markdown",
   "metadata": {
    "toc": true
   },
   "source": [
    "<h1>Table of Contents<span class=\"tocSkip\"></span></h1>\n",
    "<div class=\"toc\"><ul class=\"toc-item\"><li><span><a href=\"#-Bayesian-Theory\" data-toc-modified-id=\"-Bayesian-Theory-1\"><span class=\"toc-item-num\">1&nbsp;&nbsp;</span><font face=\"gotham\" color=\"orange\"> Bayesian Theory</font></a></span></li></ul></div>"
   ]
  },
  {
   "cell_type": "markdown",
   "metadata": {},
   "source": [
    "Bayesian is not the opposite of frequentist, but it holds a constrasting view comparing with frequentists.\n",
    "\n",
    "In the first chapter, we review Bayes' Theorem and give an overview of application in statistics and econometrics.\n",
    "\n",
    "If all you want know is what Bayesian methods are, this is the only chapter you need to read."
   ]
  },
  {
   "cell_type": "markdown",
   "metadata": {},
   "source": [
    "# <font face=\"gotham\" color=\"orange\"> Bayesian Theory </font>"
   ]
  },
  {
   "cell_type": "markdown",
   "metadata": {},
   "source": [
    "The bayesian theory is built upon the most famous **Bayes' Theorem**, which is derived from condition probability and joint probability.\n",
    "\n",
    "The **law of joint probability** says that\n",
    "$$\n",
    "P(x, y)=P(x \\mid y) P(y)\n",
    "$$\n",
    "or \n",
    "$$\n",
    "P(x, y)=P(y \\mid x) P(x)\n",
    "$$\n",
    "Combine them, we will obtain the formula of Bayes' Theorem.\n",
    "$$\n",
    "P(x \\mid y)=\\frac{P(y \\mid x) P(x)}{P(y)}\n",
    "$$"
   ]
  },
  {
   "cell_type": "markdown",
   "metadata": {},
   "source": [
    "To make it meaningful in the context of statistics/econometrics, replace the symbols will provide a refreshing view\n",
    "$$\n",
    "P(\\theta \\mid Y)=\\frac{P(Y \\mid \\theta) P(\\theta)}{P(Y)}\n",
    "$$\n",
    "where $Y$ is the data, $\\theta$ is the vector of parameters you would like to make inferrence. The formula summarizes what we know about $\\theta$ about having seen the sample of observations on $Y$.\n",
    "\n",
    "In Bayesian terms\n",
    "\\begin{align}\n",
    "\\text{prior:}&\\ P(\\theta)\\\\\n",
    "\\text{likelihood:}&\\ P(Y|\\theta)\\\\\n",
    "\\text{marginal likelihood:}&\\ P(Y)\\\\\n",
    "\\text{posterior:}&\\ P(\\theta|Y)\\\\\n",
    "\\end{align}"
   ]
  },
  {
   "cell_type": "markdown",
   "metadata": {},
   "source": [
    "To update prior beliefs into posterior beliefs conditional on observaed data, the process is called **Bayesian Inference**."
   ]
  },
  {
   "cell_type": "markdown",
   "metadata": {},
   "source": [
    "More often, we ignore $P(Y)$ due to its irrelevance to $\\theta$, the formula simplies into\n",
    "$$\n",
    "P(\\theta \\mid Y) \\propto P(Y \\mid \\theta) P(\\theta)\n",
    "$$"
   ]
  },
  {
   "cell_type": "markdown",
   "metadata": {},
   "source": [
    "# <font face=\"gotham\" color=\"orange\"> Model Comparison </font>"
   ]
  },
  {
   "cell_type": "markdown",
   "metadata": {},
   "source": [
    "If you have multiple models in mind, Bayesian framework can provide model comparison too. Suppose we have $m$ different models, $M_i$ for $i=1, ..., m$, the posterior for the parameters claculated using $M_i$ is \n",
    "$$\n",
    "P\\left(\\theta^{i} \\mid Y, M_{i}\\right)=\\frac{P\\left(Y \\mid \\theta^{i}, M_{i}\\right) P\\left(\\theta^{i} \\mid M_{i}\\right)}{P\\left(Y \\mid M_{i}\\right)}\n",
    "$$"
   ]
  },
  {
   "cell_type": "markdown",
   "metadata": {},
   "source": [
    "We use $i$ to signal that for each model has its own posterior, likelihood and prior."
   ]
  },
  {
   "cell_type": "markdown",
   "metadata": {},
   "source": [
    "However, to compare models, we need to use evaluate the **posterior model probability**\n",
    "$$\n",
    "\\operatorname{P}\\left(M_{i} \\mid Y\\right) \\propto P\\left(Y \\mid M_{i}\\right) \\operatorname{P}\\left(M_{i}\\right),\n",
    "$$"
   ]
  },
  {
   "cell_type": "markdown",
   "metadata": {},
   "source": [
    "If we have two models, we can construct the **posterior odds ratio** as\n",
    "$$\n",
    "\\frac{P\\left(M_{1} \\mid Y\\right)}{P\\left(M_{2} \\mid Y\\right)}=\\frac{P\\left(Y \\mid M_{1}\\right)}{P\\left(Y \\mid M_{2}\\right)} \\frac{P\\left(M_{1}\\right)}{P\\left(M_{2}\\right)}\n",
    "$$\n",
    "Specifically, this part is called **Bayes factor**\n",
    "$$\n",
    "BF_{12}=\\frac{P\\left(Y \\mid M_{1}\\right)}{P\\left(Y \\mid M_{2}\\right)} \n",
    "$$\n",
    "which is a the ratio of _marginal likelihoods_ for model $1$ and model $2$. Furthermore, marginal likelihood can be decomposed into\n",
    "$$\n",
    "P\\left(Y \\mid M_{i}\\right)=\\int_{\\theta_{i}} P\\left(Y \\mid \\theta_{i}, M_{i}\\right) P\\left(\\theta_{i} \\mid M_{i}\\right) d \\theta_{i}\n",
    "$$"
   ]
  },
  {
   "cell_type": "markdown",
   "metadata": {},
   "source": [
    "# <font face=\"gotham\" color=\"orange\"> Bernoulli Example </font>"
   ]
  },
  {
   "cell_type": "markdown",
   "metadata": {},
   "source": [
    "An example will help clarify how we use the Bayes' Theorem for inference and prediction. \n",
    "\n",
    "The Bernoulli pmf is commonly written as\n",
    "$$\n",
    "f(k; p) = p^{k}(1-p)^{1-k}\\ \\text{ for }\\ \\ k\\in \\{0, 1\\}\n",
    "$$\n",
    "Watch out the notation that $k$ equals either $0$ or $1$, not $k \\in (0, 1)$."
   ]
  },
  {
   "cell_type": "markdown",
   "metadata": {},
   "source": [
    "The meaning of $0$ and $1$ usually represents \"happened\" and \"not happened\". Not suppose we have collects a sample of $K= (k_1, k_2, k_3,...,k_T)$. \n",
    "\n",
    "The joint Bernoulli pmf is \n",
    "$$\n",
    "f(K|p)=p^{k_1}(1-p)^{1-k_1}p^{k_2}(1-p)^{1-k_2}p^{k_3}(1-p)^{1-k_3}...p^{k_T}(1-p)^{1-k_T}=p^{\\sum_{i=0}^T k_i}(1-p)^{T-\\sum_{i=0}^T k_i}\n",
    "$$"
   ]
  },
  {
   "cell_type": "markdown",
   "metadata": {},
   "source": [
    "which is the **likelihood function** given all possible $p$."
   ]
  },
  {
   "cell_type": "markdown",
   "metadata": {},
   "source": [
    "Naturally, we need prior too.\n",
    "\n",
    "The onf of most frequently used prior in Bayesian inference is **Beta distribution**, because it models the probability of a probability. \n",
    "\n",
    "For instance, you can ask a question, what's the probability that a random person has diabetes? You could give an educated guess around $30\\%$, then you go to collect data on the street that asking random person provide a blood sample test.\n",
    "\n",
    "Recall that we have mentioned pdf of Beta distribution\n",
    "\\begin{equation}\n",
    "f(p, \\alpha, \\beta)=\\frac{\\Gamma(\\alpha+b) p^{\\alpha-1}(1-p)^{\\beta-1}}{\\Gamma(\\alpha) \\Gamma(\\beta)}\n",
    "\\end{equation}\n",
    "However in Bayesian inference, we usually combine those gamma functions into a beta function term.\n",
    "\\begin{equation}\n",
    "f(p, \\alpha, \\beta)=\\frac{1}{B(\\alpha, \\beta)} p^{\\alpha-1}(1-p)^{\\beta-1}\n",
    "\\end{equation}\n",
    "where subscript $0$ represent **prior**."
   ]
  },
  {
   "cell_type": "markdown",
   "metadata": {},
   "source": [
    "Posterior is straightforward by evoking Bayes' Theorem.\n",
    "$$\n",
    "f(p|K) \\propto \\left(p^{\\sum_{i=0}^T k_i}(1-p)^{T-\\sum_{i=0}^T k_i}\\right)\\frac{1}{B(\\alpha_0, \\beta_0)} p^{\\alpha_0-1}(1-p)^{\\beta_0-1}\n",
    "$$\n",
    "Since we have already using $\\propto$, we just need to keep the kernal of beta distribution, which simplies to\n",
    "$$\n",
    "f(p|K) \\propto \\left(p^{\\sum_{i=0}^T k_i}(1-p)^{T-\\sum_{i=0}^T k_i}\\right) p^{\\alpha_0-1}(1-p)^{\\beta_0-1}\n",
    "$$\n",
    "Collect terms we have the kernal of posterior distribution, which is also a beta distribution.\n",
    "$$\n",
    "f(p|K) \\propto p^{\\sum_{i=0}^T k_i+\\alpha_0-1}(1-p)^{T-\\sum_{i=0}^T k_i+\\beta_0-1}\n",
    "$$"
   ]
  },
  {
   "cell_type": "markdown",
   "metadata": {},
   "source": [
    "We will see more detailed examples in next chapter, we just derived posterior analytically by using **conjugate prior**. It makes posterior takes the same function form as prior, but with updated parameters. In this case the posterior parameters are\n",
    "$$\n",
    "\\alpha=\\sum_{i=0}^T k_i+\\alpha_0\\\\\n",
    "\\beta=T-\\sum_{i=0}^T k_i+\\beta_0\n",
    "$$"
   ]
  },
  {
   "cell_type": "markdown",
   "metadata": {},
   "source": [
    "Let's give some meaning to the example. \n",
    "\n",
    "The beta distribution here models our prior belief, let's say the parameters are set as\n",
    "$$\n",
    "\\alpha_0 = 4\\\\\n",
    "\\beta_0 = 7\n",
    "$$\n",
    "The sample is \n",
    "$$\n",
    "K= (1, 0, 0, 0, 1, 0, 1, 1, 0, 0)\n",
    "$$\n",
    "which indicates $T=10$. Therefore the posterior parameters are\n",
    "$$\n",
    "\\alpha = 4+4=8\\\\\n",
    "\\beta=10-4+7=13\n",
    "$$\n",
    "Plot prior and posterior together. "
   ]
  },
  {
   "cell_type": "code",
   "execution_count": 12,
   "metadata": {},
   "outputs": [
    {
     "data": {
      "image/png": "[encoded data removed]",
      "text/plain": [
       "<Figure size 432x432 with 1 Axes>"
      ]
     },
     "metadata": {},
     "output_type": "display_data"
    }
   ],
   "source": [
    "x_beta = np.linspace(0, 1, 200)\n",
    "y_beta_prior = sp.stats.beta(a=4, b=7).pdf(x_beta)\n",
    "y_beta_posterior = sp.stats.beta(a=8, b=13).pdf(x_beta)\n",
    "\n",
    "fig, ax = plt.subplots(figsize=(6, 6))\n",
    "ax.plot(x_beta, y_beta_prior, label='prior')\n",
    "ax.plot(x_beta, y_beta_posterior, label='posterior')\n",
    "ax.set_title('Beta-Bernoulli Conjugate')\n",
    "ax.legend()\n",
    "plt.show()"
   ]
  },
  {
   "cell_type": "markdown",
   "metadata": {},
   "source": [
    "## <font face=\"gotham\" color=\"orange\"> Reporting Results  </font>"
   ]
  },
  {
   "cell_type": "markdown",
   "metadata": {},
   "source": [
    "We can provide numerical features of posterior distribution such as mean and standard deviation as **point estimates**. Because the posterior are not simulated, we have formula for mean and variance which can be found from any textbook or Wikipedia.\n",
    "$$\n",
    "\\mathrm{E}[X]=\\frac{\\alpha}{\\alpha+\\beta}\\\\\n",
    "\\operatorname{var}[X]=\\frac{\\alpha \\beta}{(\\alpha+\\beta)^{2}(\\alpha+\\beta+1)}\n",
    "$$"
   ]
  },
  {
   "cell_type": "code",
   "execution_count": 41,
   "metadata": {},
   "outputs": [
    {
     "name": "stdout",
     "output_type": "stream",
     "text": [
      "mean of posterior: 0.38095238095238093\n",
      "std of posterior: 0.010719439290867862\n"
     ]
    }
   ],
   "source": [
    "a, b = 8, 13\n",
    "mean_post = a/(a+b)\n",
    "std_post =  (a*b)/((a+b)**2*(a+b+1))\n",
    "print('mean of posterior: {}'.format(mean_post))\n",
    "print('std of posterior: {}'.format(std_post))"
   ]
  },
  {
   "cell_type": "markdown",
   "metadata": {},
   "source": [
    "Reporting **Bayesian Credible Interval** is also a common statistic that automatically provided in some statistic softwares. The Bayesian Credible Interval differs the Frequentist Confidence Interval mostly in a philosophical sense.\n",
    "\n",
    "Frequentists assume the parameters are fixed but confidence intervals are random, so $95\\%$ confidence interval means if the experiement repeats $100$ times, there are round $95$ times the confidence interval will include the true parameter. \n",
    "\n",
    "However Bayesian holds a contrasting view that parameters are random, but the credible intervals are fixed. As an example, the shaded are is the $95\\%$ credible interval. It indicates that there is $95\\%$ chance the interval include the true parameter."
   ]
  },
  {
   "cell_type": "code",
   "execution_count": 39,
   "metadata": {},
   "outputs": [
    {
     "data": {
      "image/png": "[encoded data removed]",
      "text/plain": [
       "<Figure size 432x432 with 1 Axes>"
      ]
     },
     "metadata": {},
     "output_type": "display_data"
    }
   ],
   "source": [
    "lb = sp.stats.beta(a=8, b=13).ppf(.025)\n",
    "ub = sp.stats.beta(a=8, b=13).ppf(.975)\n",
    "x_ci = np.linspace(lb, ub, 100)\n",
    "y_ci = sp.stats.beta(a=8, b=13).pdf(x_ci)\n",
    "\n",
    "x_beta = np.linspace(0, 1, 100)\n",
    "y_beta_posterior = sp.stats.beta(a=8, b=13).pdf(x_beta)\n",
    "\n",
    "fig, ax = plt.subplots(figsize=(6, 6))\n",
    "ax.plot(x_beta, y_beta_posterior)\n",
    "ax.fill_between(x_ci, y_ci, color='tomato')\n",
    "\n",
    "ax.set_title('Bayesian Credible Interval')\n",
    "plt.show()"
   ]
  },
  {
   "cell_type": "code",
   "execution_count": null,
   "metadata": {},
   "outputs": [],
   "source": []
  },
  {
   "cell_type": "code",
   "execution_count": null,
   "metadata": {},
   "outputs": [],
   "source": []
  }
 ],
 "metadata": {
  "kernelspec": {
   "display_name": "Python 3 (ipykernel)",
   "language": "python",
   "name": "python3"
  },
  "language_info": {
   "codemirror_mode": {
    "name": "ipython",
    "version": 3
   },
   "file_extension": ".py",
   "mimetype": "text/x-python",
   "name": "python",
   "nbconvert_exporter": "python",
   "pygments_lexer": "ipython3",
   "version": "3.8.5"
  },
  "toc": {
   "base_numbering": 1,
   "nav_menu": {},
   "number_sections": true,
   "sideBar": true,
   "skip_h1_title": false,
   "title_cell": "Table of Contents",
   "title_sidebar": "Contents",
   "toc_cell": true,
   "toc_position": {},
   "toc_section_display": true,
   "toc_window_display": false
  },
  "toc-autonumbering": false,
  "toc-showmarkdowntxt": false
 },
 "nbformat": 4,
 "nbformat_minor": 4
}
