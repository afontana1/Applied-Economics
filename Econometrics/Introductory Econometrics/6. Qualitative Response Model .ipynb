{
 "cells": [
  {
   "cell_type": "code",
   "execution_count": 3,
   "id": "b2ebc3f6-505f-4c2c-9463-5d34b01c6a86",
   "metadata": {},
   "outputs": [],
   "source": [
    "import numpy as np\n",
    "import matplotlib.pyplot as plt\n",
    "import pandas as pd\n",
    "import scipy as sp\n",
    "import scipy.stats\n",
    "import statsmodels.api as sm\n",
    "from sklearn.linear_model import LogisticRegression"
   ]
  },
  {
   "cell_type": "markdown",
   "id": "3ffce874-3d61-4dad-a179-aa1f2fb7db18",
   "metadata": {},
   "source": [
    "# <font face=\"gotham\" color=\"purple\">What Is Qualitative Response Model?</font>"
   ]
  },
  {
   "cell_type": "markdown",
   "id": "76c0fa22-cd7e-4727-9fb2-df9ece1cf899",
   "metadata": {},
   "source": [
    "So far we have only discussed the model that takes $Y$ as a quantitative variable by default, however there are situations we want $Y$ to be qualitative variable, for example, $Y = 1$ represents a family owns house, $Y=0$ means not owning a flat, independent variables can be quantitative variables such as their income, ages, education and etc.\n",
    "\n",
    "Specifically, if the response variables only takes two values, such as $1$ or $0$, we call them **binary variable**, the regression model with binary variable as dependent variable is called **binary response regression model**, similarly there is also **trichotomous response regression model** or more generally **polychotomous response regression model**, but names do not matter, they are all **qualitative response model** as in the question of this section.\n",
    "\n",
    "For easy demonstration, we will mostly deal with _binary response model_, there are four approaches to develop this type of model: **linear probability model**, **logit model**, **probit model** and **tobit model**. \n",
    "\n",
    "We will go through all of them in this chapter."
   ]
  },
  {
   "cell_type": "markdown",
   "id": "e6df86b8-ba84-4bea-b091-d680f122b7f7",
   "metadata": {},
   "source": [
    "# <font face=\"gotham\" color=\"purple\">The Linear Probability Model (LPM)</font>"
   ]
  },
  {
   "cell_type": "markdown",
   "id": "db69ebdf-e008-48bd-98fd-4811f73285a4",
   "metadata": {},
   "source": [
    "Consider a simple regression model\n",
    "$$\n",
    "Y_{i}=\\beta_{1}+\\beta_{2} X_{i}+u_{i}\n",
    "$$\n",
    "where $X$ represents family income, $Y=1$ represents if the family owns a flat and $0$ the opposite. There are only two outcomes, either own a flat or not, so $Y_i$ follows **Bernoulli Distribution**.\n",
    "\n",
    "It would be fast to recognize the $u_i$ can't be normally distributed, since\n",
    "$$\n",
    "u_{i}=Y_{i}-\\beta_{1}-\\beta_{2} X_{i}\n",
    "$$\n",
    "If we denote the probability $Y_i=1$ as $P_i$ and $Y_i=0$ as $1-P_i$, then\n",
    "$$\n",
    "\\begin{array}{lcc} \n",
    "& u_{i} & \\text { Probability } \\\\\n",
    "\\text { When } Y_{i}=1 & 1-\\beta_{1}-\\beta_{2} X_{i} & P_{i} \\\\\n",
    "\\text { When } Y_{i}=0 & -\\beta_{1}-\\beta_{2} X_{i} & \\left(1-P_{i}\\right)\n",
    "\\end{array}\n",
    "$$\n",
    "it shows that $u_i$ also follows Bernoulli distribution."
   ]
  },
  {
   "cell_type": "markdown",
   "id": "10aecef9-9e8b-4d9c-a3ff-3e055cd5293a",
   "metadata": {},
   "source": [
    "Recall the fact from statistics course, that the variance of Bernoulli distribution is $P_i(1-P_i)$, what's more\n",
    "$$\n",
    "E\\left(Y_{i} \\mid X_{i}\\right)=\\beta_{1}+\\beta_{2} X_{i}=0\\left(1-P_{i}\\right)+1\\left(P_{i}\\right)=P_{i}\n",
    "$$\n",
    "The $P_i$ is a function of $X_i$, hence $u_i$ is heteroskedastic. "
   ]
  },
  {
   "cell_type": "markdown",
   "id": "5f55d5c0-9b6a-4472-b4af-37024a001aa7",
   "metadata": {},
   "source": [
    "## <font face=\"gotham\" color=\"purple\">Home Owners' Example</font>"
   ]
  },
  {
   "cell_type": "markdown",
   "id": "69322a7b-7474-49f7-a3d1-c537a52d969c",
   "metadata": {},
   "source": [
    "Here is an excerpt data from a real estate survey in Manchester, UK. The family income is measured in thousand pounds."
   ]
  },
  {
   "cell_type": "code",
   "execution_count": 84,
   "id": "445a0ab0-9f82-4655-a3b2-ed9ac4bc6372",
   "metadata": {},
   "outputs": [
    {
     "data": {
      "text/html": [
       "<div>\n",
       "<style scoped>\n",
       "    .dataframe tbody tr th:only-of-type {\n",
       "        vertical-align: middle;\n",
       "    }\n",
       "\n",
       "    .dataframe tbody tr th {\n",
       "        vertical-align: top;\n",
       "    }\n",
       "\n",
       "    .dataframe thead th {\n",
       "        text-align: right;\n",
       "    }\n",
       "</style>\n",
       "<table border=\"1\" class=\"dataframe\">\n",
       "  <thead>\n",
       "    <tr style=\"text-align: right;\">\n",
       "      <th></th>\n",
       "      <th>Annual_Family_Income</th>\n",
       "      <th>Own_House</th>\n",
       "    </tr>\n",
       "  </thead>\n",
       "  <tbody>\n",
       "    <tr>\n",
       "      <th>0</th>\n",
       "      <td>56</td>\n",
       "      <td>1</td>\n",
       "    </tr>\n",
       "    <tr>\n",
       "      <th>1</th>\n",
       "      <td>78</td>\n",
       "      <td>1</td>\n",
       "    </tr>\n",
       "    <tr>\n",
       "      <th>2</th>\n",
       "      <td>67</td>\n",
       "      <td>0</td>\n",
       "    </tr>\n",
       "    <tr>\n",
       "      <th>3</th>\n",
       "      <td>34</td>\n",
       "      <td>1</td>\n",
       "    </tr>\n",
       "    <tr>\n",
       "      <th>4</th>\n",
       "      <td>23</td>\n",
       "      <td>0</td>\n",
       "    </tr>\n",
       "  </tbody>\n",
       "</table>\n",
       "</div>"
      ],
      "text/plain": [
       "   Annual_Family_Income  Own_House\n",
       "0                    56          1\n",
       "1                    78          1\n",
       "2                    67          0\n",
       "3                    34          1\n",
       "4                    23          0"
      ]
     },
     "execution_count": 84,
     "metadata": {},
     "output_type": "execute_result"
    }
   ],
   "source": [
    "df = pd.read_excel('Basic_Econometrics_practice_data.xlsx', sheet_name = 'HouseOwn_Quali_Resp'); df.head()"
   ]
  },
  {
   "cell_type": "markdown",
   "id": "6cab4839-412a-4411-9277-5958d6913135",
   "metadata": {},
   "source": [
    "Perform a quick OLS estimation (ignoring the heteroskedasticity for now) and plot the regression line."
   ]
  },
  {
   "cell_type": "code",
   "execution_count": 85,
   "id": "01a2c606-1513-421e-b342-0ca9bc1d5014",
   "metadata": {},
   "outputs": [
    {
     "name": "stdout",
     "output_type": "stream",
     "text": [
      "                            OLS Regression Results                            \n",
      "==============================================================================\n",
      "Dep. Variable:              Own_House   R-squared:                       0.583\n",
      "Model:                            OLS   Adj. R-squared:                  0.571\n",
      "Method:                 Least Squares   F-statistic:                     50.32\n",
      "Date:                Thu, 02 Sep 2021   Prob (F-statistic):           2.47e-08\n",
      "Time:                        14:34:24   Log-Likelihood:                -10.752\n",
      "No. Observations:                  38   AIC:                             25.50\n",
      "Df Residuals:                      36   BIC:                             28.78\n",
      "Df Model:                           1                                         \n",
      "Covariance Type:            nonrobust                                         \n",
      "========================================================================================\n",
      "                           coef    std err          t      P>|t|      [0.025      0.975]\n",
      "----------------------------------------------------------------------------------------\n",
      "const                   -0.1981      0.119     -1.671      0.103      -0.439       0.042\n",
      "Annual_Family_Income     0.0162      0.002      7.094      0.000       0.012       0.021\n",
      "==============================================================================\n",
      "Omnibus:                        0.225   Durbin-Watson:                   2.640\n",
      "Prob(Omnibus):                  0.894   Jarque-Bera (JB):                0.112\n",
      "Skew:                          -0.123   Prob(JB):                        0.945\n",
      "Kurtosis:                       2.900   Cond. No.                         115.\n",
      "==============================================================================\n",
      "\n",
      "Notes:\n",
      "[1] Standard Errors assume that the covariance matrix of the errors is correctly specified.\n"
     ]
    }
   ],
   "source": [
    "X = df['Annual_Family_Income']\n",
    "Y = df['Own_House']\n",
    "\n",
    "X = sm.add_constant(X) # adding a constant\n",
    "\n",
    "model = sm.OLS(Y, X).fit() \n",
    "\n",
    "print_model = model.summary()\n",
    "print(print_model)"
   ]
  },
  {
   "cell_type": "code",
   "execution_count": 86,
   "id": "b87da3ff-b9ac-49a2-a65d-680f9244b211",
   "metadata": {},
   "outputs": [
    {
     "data": {
      "image/png": "[encoded data removed]",
      "text/plain": [
       "<Figure size 864x504 with 1 Axes>"
      ]
     },
     "metadata": {
      "needs_background": "light"
     },
     "output_type": "display_data"
    }
   ],
   "source": [
    "fig, ax = plt.subplots(figsize = (12, 7))\n",
    "ax.scatter(df['Annual_Family_Income'], df['Own_House'])\n",
    "ax.plot(df['Annual_Family_Income'], model.fittedvalues, color = 'tomato')\n",
    "ax.grid()\n",
    "ax.set_xlabel('Income')\n",
    "ax.set_ylabel('Owning a flat = 1, Not Owning = 0')\n",
    "plt.show()"
   ]
  },
  {
   "cell_type": "markdown",
   "id": "581c58bb-6043-4cc6-8158-cffbc5e94d2a",
   "metadata": {},
   "source": [
    "Let's interpret the results, the constant term is $-0.1981$, but probability can never be negative, hence we ignore constant term, or simply treat it as $0$. The slope term $0.0162$ indicates that in average with every $1000$ pounds increment in family income, the probability of owning a house will increase $1.6\\%$.\n",
    "\n",
    "However, you could doubt its reliability that assuming income and probability is linear relation, actually it's more rational to assume there is some threshold to afford a house, if the house cost $500000$ pounds, earning $20000$ shouldn't be any obvious improvement than earning $10000$. Similarly, family with income of $200000$ wouldn't be much different than family with income of $190000$. We will talk about how to model this assumption in next section. So far we will stick with LPM.\n",
    "\n",
    "What if a family has $39000$ pounds of annual income? Our model predicts the probability they own a house is $-0.1981 + 39\\times0.0162=.43$. But how about family income of $11000$ pounds? The models says $-0.1981 + 11\\times0.0162=-0.0199$, it predicts a negative probability and apparent it has no sense. Similarly, if a family has $99000$ pounds income, the model predicts a probability $-0.1981 + 99\\times0.0162=1.4057$ which is more than $1$.\n",
    "\n",
    "If the vertical axis represents probabilities, i.e. $0 \\leq E\\left(Y_{i} \\mid X_{i}\\right) \\leq 1 $, it would be a natural defects of LPM to predict out of this range."
   ]
  },
  {
   "cell_type": "markdown",
   "id": "d320a657-2c4c-4a48-afcc-c3183b149d06",
   "metadata": {},
   "source": [
    "However, we still haven't address the heteroskedasticity issue of LPM, which means the estimated results above are actually all _invalid_! For fast remedy, you can invoke the White's robust standard error."
   ]
  },
  {
   "cell_type": "code",
   "execution_count": 87,
   "id": "3838467c-88c9-4aa5-9373-d2fe5df51dff",
   "metadata": {},
   "outputs": [
    {
     "data": {
      "text/plain": [
       "const                   0.086859\n",
       "Annual_Family_Income    0.001809\n",
       "dtype: float64"
      ]
     },
     "execution_count": 87,
     "metadata": {},
     "output_type": "execute_result"
    }
   ],
   "source": [
    "model.HC0_se"
   ]
  },
  {
   "cell_type": "markdown",
   "id": "2fe93e84-b8b4-4386-a647-0e05c3dbe5e3",
   "metadata": {},
   "source": [
    "To handle the issue more seriously, we use WLS to obtain more efficient estimates. Because variance of disturbance term is \n",
    "$$\n",
    "\\operatorname{var}\\left(u_{i}\\right)=P_{i}\\left(1-P_{i}\\right)=\\sqrt{E\\left(Y_{i} \\mid X_{i}\\right)\\left[1-E\\left(Y_{i} \\mid X_{i}\\right)\\right]}\n",
    "$$\n",
    "So we estimate the disturbance term by using fitted values, note that these are different than residuals!\n",
    "$$\n",
    "w_i=\\hat{Y}_{i}\\left(1-\\hat{Y}_{i}\\right)\n",
    "$$"
   ]
  },
  {
   "cell_type": "markdown",
   "id": "a1b66e3a-d9b8-4621-aab9-e8ce727a7c23",
   "metadata": {},
   "source": [
    "Add fitted value into the data frame."
   ]
  },
  {
   "cell_type": "code",
   "execution_count": 71,
   "id": "3439f127-c5be-4803-bf14-ef703b3f016b",
   "metadata": {},
   "outputs": [
    {
     "data": {
      "text/html": [
       "<div>\n",
       "<style scoped>\n",
       "    .dataframe tbody tr th:only-of-type {\n",
       "        vertical-align: middle;\n",
       "    }\n",
       "\n",
       "    .dataframe tbody tr th {\n",
       "        vertical-align: top;\n",
       "    }\n",
       "\n",
       "    .dataframe thead th {\n",
       "        text-align: right;\n",
       "    }\n",
       "</style>\n",
       "<table border=\"1\" class=\"dataframe\">\n",
       "  <thead>\n",
       "    <tr style=\"text-align: right;\">\n",
       "      <th></th>\n",
       "      <th>Annual_Family_Income</th>\n",
       "      <th>Own_House</th>\n",
       "      <th>fitted_value</th>\n",
       "    </tr>\n",
       "  </thead>\n",
       "  <tbody>\n",
       "    <tr>\n",
       "      <th>0</th>\n",
       "      <td>56</td>\n",
       "      <td>1</td>\n",
       "      <td>0.710644</td>\n",
       "    </tr>\n",
       "    <tr>\n",
       "      <th>1</th>\n",
       "      <td>78</td>\n",
       "      <td>1</td>\n",
       "      <td>1.067667</td>\n",
       "    </tr>\n",
       "    <tr>\n",
       "      <th>2</th>\n",
       "      <td>67</td>\n",
       "      <td>0</td>\n",
       "      <td>0.889155</td>\n",
       "    </tr>\n",
       "    <tr>\n",
       "      <th>3</th>\n",
       "      <td>34</td>\n",
       "      <td>1</td>\n",
       "      <td>0.353621</td>\n",
       "    </tr>\n",
       "    <tr>\n",
       "      <th>4</th>\n",
       "      <td>23</td>\n",
       "      <td>0</td>\n",
       "      <td>0.175110</td>\n",
       "    </tr>\n",
       "  </tbody>\n",
       "</table>\n",
       "</div>"
      ],
      "text/plain": [
       "   Annual_Family_Income  Own_House  fitted_value\n",
       "0                    56          1      0.710644\n",
       "1                    78          1      1.067667\n",
       "2                    67          0      0.889155\n",
       "3                    34          1      0.353621\n",
       "4                    23          0      0.175110"
      ]
     },
     "execution_count": 71,
     "metadata": {},
     "output_type": "execute_result"
    }
   ],
   "source": [
    "df['fitted_value'] = model.fittedvalues\n",
    "df.head()"
   ]
  },
  {
   "cell_type": "markdown",
   "id": "b8870934-7137-448d-8dca-ace56baa791a",
   "metadata": {},
   "source": [
    "Exclude all values out of probabilistic range, then calculate the weight."
   ]
  },
  {
   "cell_type": "code",
   "execution_count": 74,
   "id": "aee0b6a1-9e96-4a0d-b428-d9efad62c840",
   "metadata": {},
   "outputs": [],
   "source": [
    "df = df[df['fitted_value']>0]\n",
    "df = df[df['fitted_value']<1]\n",
    "df['weight'] = np.sqrt(df['fitted_value']*(1-df['fitted_value']))"
   ]
  },
  {
   "cell_type": "code",
   "execution_count": 76,
   "id": "fe0c0bd3-43b1-42a1-aec7-4a662344954b",
   "metadata": {
    "tags": []
   },
   "outputs": [
    {
     "data": {
      "text/html": [
       "<div>\n",
       "<style scoped>\n",
       "    .dataframe tbody tr th:only-of-type {\n",
       "        vertical-align: middle;\n",
       "    }\n",
       "\n",
       "    .dataframe tbody tr th {\n",
       "        vertical-align: top;\n",
       "    }\n",
       "\n",
       "    .dataframe thead th {\n",
       "        text-align: right;\n",
       "    }\n",
       "</style>\n",
       "<table border=\"1\" class=\"dataframe\">\n",
       "  <thead>\n",
       "    <tr style=\"text-align: right;\">\n",
       "      <th></th>\n",
       "      <th>Annual_Family_Income</th>\n",
       "      <th>Own_House</th>\n",
       "      <th>fitted_value</th>\n",
       "      <th>weight</th>\n",
       "    </tr>\n",
       "  </thead>\n",
       "  <tbody>\n",
       "    <tr>\n",
       "      <th>0</th>\n",
       "      <td>56</td>\n",
       "      <td>1</td>\n",
       "      <td>0.710644</td>\n",
       "      <td>0.453463</td>\n",
       "    </tr>\n",
       "    <tr>\n",
       "      <th>2</th>\n",
       "      <td>67</td>\n",
       "      <td>0</td>\n",
       "      <td>0.889155</td>\n",
       "      <td>0.313940</td>\n",
       "    </tr>\n",
       "    <tr>\n",
       "      <th>3</th>\n",
       "      <td>34</td>\n",
       "      <td>1</td>\n",
       "      <td>0.353621</td>\n",
       "      <td>0.478093</td>\n",
       "    </tr>\n",
       "    <tr>\n",
       "      <th>4</th>\n",
       "      <td>23</td>\n",
       "      <td>0</td>\n",
       "      <td>0.175110</td>\n",
       "      <td>0.380061</td>\n",
       "    </tr>\n",
       "    <tr>\n",
       "      <th>5</th>\n",
       "      <td>19</td>\n",
       "      <td>0</td>\n",
       "      <td>0.110197</td>\n",
       "      <td>0.313135</td>\n",
       "    </tr>\n",
       "  </tbody>\n",
       "</table>\n",
       "</div>"
      ],
      "text/plain": [
       "   Annual_Family_Income  Own_House  fitted_value    weight\n",
       "0                    56          1      0.710644  0.453463\n",
       "2                    67          0      0.889155  0.313940\n",
       "3                    34          1      0.353621  0.478093\n",
       "4                    23          0      0.175110  0.380061\n",
       "5                    19          0      0.110197  0.313135"
      ]
     },
     "execution_count": 76,
     "metadata": {},
     "output_type": "execute_result"
    }
   ],
   "source": [
    "df.head()"
   ]
  },
  {
   "cell_type": "markdown",
   "id": "e3c62153-8caa-4096-96bf-d3c217c423d9",
   "metadata": {},
   "source": [
    "Divide weight onto every terms in the model\n",
    "$$\n",
    "\\frac{Y_{i}}{\\sqrt{w_{i}}}=\\frac{\\beta_{1}}{\\sqrt{w_{i}}}+\\beta_{2} \\frac{X_{i}}{\\sqrt{w_{i}}}+\\frac{u_{i}}{\\sqrt{w_{i}}}\n",
    "$$"
   ]
  },
  {
   "cell_type": "code",
   "execution_count": 77,
   "id": "42993b97-86bf-414b-ba27-23b3e0c2511c",
   "metadata": {},
   "outputs": [],
   "source": [
    "df['Annual_Family_Income_WLS'] = df['Annual_Family_Income']/df['weight']\n",
    "df['Own_House_WLS'] = df['Own_House']/df['weight']"
   ]
  },
  {
   "cell_type": "markdown",
   "id": "692b307d-132f-477b-a98b-42df52903626",
   "metadata": {},
   "source": [
    "Here's the more reliable result."
   ]
  },
  {
   "cell_type": "code",
   "execution_count": 78,
   "id": "2e401f00-aff8-496d-b279-b668be53f8f4",
   "metadata": {},
   "outputs": [
    {
     "name": "stdout",
     "output_type": "stream",
     "text": [
      "                            OLS Regression Results                            \n",
      "==============================================================================\n",
      "Dep. Variable:          Own_House_WLS   R-squared:                       0.765\n",
      "Model:                            OLS   Adj. R-squared:                  0.757\n",
      "Method:                 Least Squares   F-statistic:                     94.47\n",
      "Date:                Thu, 02 Sep 2021   Prob (F-statistic):           1.25e-10\n",
      "Time:                        14:17:57   Log-Likelihood:                -40.040\n",
      "No. Observations:                  31   AIC:                             84.08\n",
      "Df Residuals:                      29   BIC:                             86.95\n",
      "Df Model:                           1                                         \n",
      "Covariance Type:            nonrobust                                         \n",
      "============================================================================================\n",
      "                               coef    std err          t      P>|t|      [0.025      0.975]\n",
      "--------------------------------------------------------------------------------------------\n",
      "const                       -0.3322      0.245     -1.358      0.185      -0.833       0.168\n",
      "Annual_Family_Income_WLS     0.0146      0.002      9.720      0.000       0.012       0.018\n",
      "==============================================================================\n",
      "Omnibus:                        5.495   Durbin-Watson:                   2.649\n",
      "Prob(Omnibus):                  0.064   Jarque-Bera (JB):                3.808\n",
      "Skew:                          -0.720   Prob(JB):                        0.149\n",
      "Kurtosis:                       3.934   Cond. No.                         244.\n",
      "==============================================================================\n",
      "\n",
      "Notes:\n",
      "[1] Standard Errors assume that the covariance matrix of the errors is correctly specified.\n"
     ]
    }
   ],
   "source": [
    "X = df['Annual_Family_Income_WLS']\n",
    "Y = df['Own_House_WLS']\n",
    "\n",
    "X = sm.add_constant(X) # adding a constant\n",
    "\n",
    "model = sm.OLS(Y, X).fit() \n",
    "\n",
    "print_model = model.summary()\n",
    "print(print_model)"
   ]
  },
  {
   "cell_type": "markdown",
   "id": "ec653d5c-4c76-4cb0-8ac6-59000227bdfc",
   "metadata": {},
   "source": [
    "The slope estimates of WLS is similar but higher significance due to smaller standard error and $R^2$ also much higher than previous model."
   ]
  },
  {
   "cell_type": "markdown",
   "id": "2575796b-11f4-4596-bb76-fbda483b45cc",
   "metadata": {},
   "source": [
    "Though we have fixed heteroskedasticity to some extent, the model is not attractive in either breaking probabilistic range or its unrealistic linear shape. In Next section we will discuss about alternatives to LPM that fulfill both probabilistic range and nonlinear shape."
   ]
  },
  {
   "cell_type": "markdown",
   "id": "e5d019cb-9af3-452a-a812-0077bd630f6b",
   "metadata": {},
   "source": [
    "# <font face=\"gotham\" color=\"purple\"> The Logit Model</font>"
   ]
  },
  {
   "cell_type": "markdown",
   "id": "e8a726a4-d3a4-4297-a780-b2c0fdb5dc65",
   "metadata": {},
   "source": [
    "The **logit model** hypothesizes a sigmoid shape function \n",
    "$$\n",
    "P_i = \\frac{1}{1+e^{-(\\beta_1+\\beta_2X_i)}}\n",
    "$$"
   ]
  },
  {
   "cell_type": "code",
   "execution_count": 5,
   "id": "044be4dd-feb1-484e-84c1-aa52d2d27ddf",
   "metadata": {},
   "outputs": [
    {
     "data": {
      "image/png": "[encoded data removed]",
      "text/plain": [
       "<Figure size 864x504 with 1 Axes>"
      ]
     },
     "metadata": {
      "needs_background": "light"
     },
     "output_type": "display_data"
    }
   ],
   "source": [
    "beta1, beta2 = 2, 3\n",
    "X = np.linspace(-3, 2)\n",
    "P = 1/(1 + np.exp(-beta1-beta2*X))\n",
    "fig, ax = plt.subplots(figsize = (12, 7))\n",
    "ax.plot(X, P)\n",
    "ax.set_title(r'$P = 1/(1+e^{-Z})$')\n",
    "ax.grid()"
   ]
  },
  {
   "cell_type": "markdown",
   "id": "465224ba-c927-4a27-a32a-cc52b25a455d",
   "metadata": {},
   "source": [
    "We usually denote $Z_i = \\beta_1+\\beta_2X_i$, ranges from $(-\\infty, +\\infty) $. This model solves the issues of probabilistic range and linear model. \n",
    "\n",
    "In order to estimate the logit model, we are seeking ways to linearize it. It might look confusing at first sight, here is the steps\n",
    "$$\n",
    "P_{i}=\\frac{1}{1+e^{-Z_{i}}}=\\frac{e^{Z_i}}{e^{Z_i}}\\frac{1}{1+\\frac{1}{e^{Z_i}}}=\\frac{e^{Z_i}}{1+e^{Z}}\n",
    "$$"
   ]
  },
  {
   "cell_type": "markdown",
   "id": "970d9bfd-f897-43e5-aa2b-e9bc2737a11e",
   "metadata": {},
   "source": [
    "And $1-P_i$\n",
    "$$\n",
    "1-P_{i}=\\frac{1}{1+e^{Z_{i}}}\n",
    "$$"
   ]
  },
  {
   "cell_type": "markdown",
   "id": "095498cc-58eb-4939-a549-9e92ccecb257",
   "metadata": {},
   "source": [
    "Combine them, we have the odds ratios\n",
    "$$\n",
    "\\frac{P_{i}}{1-P_{i}}=\\frac{1+e^{Z_{i}}}{1+e^{-Z_{i}}}=e^{Z_{i}}\n",
    "$$"
   ]
  },
  {
   "cell_type": "markdown",
   "id": "fd3a616f-2064-40a0-a61b-6dc271833c1b",
   "metadata": {},
   "source": [
    "Here's the interesting part, take natural log, we get a linearized model and we commonly call the log odds ratios the **logit**.\n",
    "$$\n",
    "\\underbrace{\\ln{\\bigg(\\frac{P_{i}}{1-P_{i}}\\bigg)}}_{\\text{logit}}= Z_i =\\beta_1+\\beta_2X_i\n",
    "$$"
   ]
  },
  {
   "cell_type": "markdown",
   "id": "4623c027-c2ea-494a-850a-0c1606cab5bf",
   "metadata": {},
   "source": [
    "To estimate the model, some technical procedures have to be carried out, because logit wouldn't make any sense, if we simply plug in the data $Y_i$, because we don't observe $P_i$, the results are nonsensical.\n",
    "$$\n",
    "\\ln \\left(\\frac{1}{0}\\right) \\quad \\text{if a family own a house}\\\\\n",
    "\\ln \\left(\\frac{0}{1}\\right) \\quad \\text{if a family does not own a house}\n",
    "$$"
   ]
  },
  {
   "cell_type": "markdown",
   "id": "ad79dcb7-6d0f-4118-9fcc-039f08f5e976",
   "metadata": {},
   "source": [
    "One way to circumvent this technical issue, the data can be grouped to compute\n",
    "$$\n",
    "\\hat{P}_{i}=\\frac{n_{i}}{N_{i}}\n",
    "$$\n",
    "where $N_i$ is number of families in a certain income level, e.g. $[20000, 29999]$, and $n_i$ is the number of family owning a house in the that level."
   ]
  },
  {
   "cell_type": "markdown",
   "id": "120d1233-e26d-4c5e-a736-59267a7dc16c",
   "metadata": {},
   "source": [
    "However, this is not a preferred method, since we have nonlinear tools. Recall that owning a house is following a Bernoulli distribution whose probability mass function is\n",
    "$$\n",
    "f_i(Y_i)= P_i^{Y_i}(1-P_i)^{1-Y_i}\n",
    "$$\n",
    "The joint distribution is the product of Bernoulli PMF due to their independence\n",
    "$$\n",
    "f\\left(Y_{1}, Y_{2}, \\ldots, Y_{n}\\right)=\\prod_{i=1}^{n} f_{i}\\left(Y_{i}\\right)=\\prod_{i=1}^{n} P_{i}^{Y_{i}}\\left(1-P_{i}\\right)^{1-Y_{i}}\n",
    "$$\n",
    "In order to get its log likelihood function, we take natural log\n",
    "$$\n",
    "\\begin{aligned}\n",
    "\\ln f\\left(Y_{1}, Y_{2}, \\ldots, Y_{n}\\right) &=\\sum_{i=1}^{n}\\left[Y_{i} \\ln P_{i}+\\left(1-Y_{i}\\right) \\ln \\left(1-P_{i}\\right)\\right] \\\\\n",
    "&=\\sum_{i=1}^{n}\\left[Y_{i} \\ln P_{i}-Y_{i} \\ln \\left(1-P_{i}\\right)+\\ln \\left(1-P_{i}\\right)\\right] \\\\\n",
    "&=\\sum_{i=1}^{n}\\left[Y_{i} \\ln \\left(\\frac{P_{i}}{1-P_{i}}\\right)\\right]+\\sum_{i=1}^{n} \\ln \\left(1-P_{i}\\right)\n",
    "\\end{aligned}\n",
    "$$\n",
    "Replace \n",
    "$$\n",
    "\\ln{\\bigg(\\frac{P_{i}}{1-P_{i}}\\bigg)}=\\beta_1+\\beta_2X_i\\\\\n",
    "1-P_{i}=\\frac{1}{1+e^{\\beta_1+\\beta_2X_i}}\n",
    "$$\n",
    "Finally we have log likelihood function of $\\beta$'s\n",
    "$$\n",
    "\\ln f\\left(Y_{1}, Y_{2}, \\ldots, Y_{n}\\right)=\\sum_{i=1}^{n} Y_{i}\\left(\\beta_{1}+\\beta_{2} X_{i}\\right)-\\sum_{i=1}^{n} \\ln \\left[1+e^{\\left(\\beta_{1}+\\beta_{2} X_{i}\\right)}\\right]\n",
    "$$\n",
    "Take partial derivative w.r.t to $\\beta_2$\n",
    "$$\n",
    "\\frac{\\partial LF}{\\partial \\beta_2} = n\\beta_2 -\\sum_{i=1}^n\\frac{e^{\\beta_1+\\beta_2X_i}X_i}{1+e^{\\beta_1+\\beta_2X_i}}=0\n",
    "$$\n",
    "And stop here, apparently there won't be analytical solutions, i.e. numerical solutions are needed. And this is exactly what Python is doing for us below."
   ]
  },
  {
   "cell_type": "markdown",
   "id": "278e2171-c593-4234-8231-36bc99d4a600",
   "metadata": {},
   "source": [
    "## <font face=\"gotham\" color=\"purple\"> Single Variable Logit Model </font>"
   ]
  },
  {
   "cell_type": "markdown",
   "id": "01a5d91e-b94a-4a3e-9f58-3eeb15d5ff57",
   "metadata": {},
   "source": [
    "Here we come back to the house owning example.\n"
   ]
  },
  {
   "cell_type": "code",
   "execution_count": 149,
   "id": "aa14ab17-f25c-498a-b064-f3eb905daaa5",
   "metadata": {},
   "outputs": [
    {
     "name": "stdout",
     "output_type": "stream",
     "text": [
      "Optimization terminated successfully.\n",
      "         Current function value: 0.257124\n",
      "         Iterations 8\n"
     ]
    }
   ],
   "source": [
    "df = pd.read_excel('Basic_Econometrics_practice_data.xlsx', sheet_name = 'HouseOwn_Quali_Resp'); df.head()\n",
    "\n",
    "Y = df[['Own_House']]\n",
    "X = df[['Annual_Family_Income']]\n",
    "X = sm.add_constant(X)\n",
    "\n",
    "log_reg = sm.Logit(Y, X).fit()"
   ]
  },
  {
   "cell_type": "markdown",
   "id": "834a1a62-aa88-4ccd-9d09-5361ca5430a8",
   "metadata": {},
   "source": [
    "Optimization of likelihood function is an iterative process and global optimization has been reached as the notice shows. \n",
    "\n",
    "Print the estimation results."
   ]
  },
  {
   "cell_type": "code",
   "execution_count": 118,
   "id": "713ee3c5-0d95-4339-8607-631964b57c5c",
   "metadata": {},
   "outputs": [
    {
     "name": "stdout",
     "output_type": "stream",
     "text": [
      "                           Logit Regression Results                           \n",
      "==============================================================================\n",
      "Dep. Variable:              Own_House   No. Observations:                   38\n",
      "Model:                          Logit   Df Residuals:                       36\n",
      "Method:                           MLE   Df Model:                            1\n",
      "Date:                Wed, 08 Sep 2021   Pseudo R-squ.:                  0.6261\n",
      "Time:                        20:42:19   Log-Likelihood:                -9.7707\n",
      "converged:                       True   LL-Null:                       -26.129\n",
      "Covariance Type:            nonrobust   LLR p-value:                 1.067e-08\n",
      "========================================================================================\n",
      "                           coef    std err          z      P>|z|      [0.025      0.975]\n",
      "----------------------------------------------------------------------------------------\n",
      "const                   -6.7617      2.189     -3.088      0.002     -11.053      -2.471\n",
      "Annual_Family_Income     0.1678      0.053      3.176      0.001       0.064       0.271\n",
      "========================================================================================\n"
     ]
    }
   ],
   "source": [
    "print(log_reg.summary())"
   ]
  },
  {
   "cell_type": "markdown",
   "id": "5212ea16-a24d-43d5-95a4-679bfbc291bc",
   "metadata": {},
   "source": [
    "Here is the estimated model\n",
    "$$\n",
    "\\hat{P_i} = \\frac{1}{1+e^{6.7617-0.1678 X_i}}\n",
    "$$\n",
    "And the fitted curve"
   ]
  },
  {
   "cell_type": "code",
   "execution_count": 119,
   "id": "43d83892-c8d8-4ebc-a1c2-65b702042b25",
   "metadata": {},
   "outputs": [
    {
     "data": {
      "image/png": "[encoded data removed]",
      "text/plain": [
       "<Figure size 864x504 with 1 Axes>"
      ]
     },
     "metadata": {
      "needs_background": "light"
     },
     "output_type": "display_data"
    }
   ],
   "source": [
    "X = np.linspace(0, 100, 500)\n",
    "P_hat = 1/(1 + np.exp(-log_reg.params[0]-log_reg.params[1]*X))\n",
    "\n",
    "fig, ax = plt.subplots(figsize = (12, 7))\n",
    "ax.scatter(df['Annual_Family_Income'], df['Own_House'])\n",
    "ax.plot(X, P_hat, color = 'tomato', lw = 3)\n",
    "ax.grid()\n",
    "ax.set_xlabel('Income')\n",
    "ax.set_ylabel('Owning a flat = 1, Not Owning = 0')\n",
    "plt.show()"
   ]
  },
  {
   "cell_type": "markdown",
   "id": "1b4562a1-d3ec-42f5-b9e5-46005bdefea3",
   "metadata": {},
   "source": [
    "To interpret estimated coefficients, we can calculate the marginal effect by taking derivative w.r.t certain $\\beta$, in this case $\\beta_1$.\n",
    "$$\n",
    "\\frac{dP_i}{d X_i} = \\frac{dP_i}{dZ_i}\\frac{dZ_i}{dX_i}=\\frac{e^{-Z_i}}{(1+e^{-Z_i})^2}\\beta_2\n",
    "$$\n",
    "Plot both accumulative and marginal effects"
   ]
  },
  {
   "cell_type": "code",
   "execution_count": 121,
   "id": "3a56cd37-cf4a-4da6-8a67-f09058eeb09a",
   "metadata": {},
   "outputs": [
    {
     "data": {
      "image/png": "[encoded data removed]",
      "text/plain": [
       "<Figure size 864x504 with 2 Axes>"
      ]
     },
     "metadata": {
      "needs_background": "light"
     },
     "output_type": "display_data"
    }
   ],
   "source": [
    "beta1_hat, beta2_hat = log_reg.params[0], log_reg.params[1]\n",
    "X = np.linspace(0, 100, 500)\n",
    "\n",
    "Z = beta1_hat + beta2_hat*X\n",
    "dPdX = np.exp(-Z)/(1+np.exp(-Z))**2*beta2_hat\n",
    "\n",
    "fig, ax1 = plt.subplots(figsize = (12, 7))\n",
    "ax1.scatter(df['Annual_Family_Income'], df['Own_House'])\n",
    "ax1.plot(X, P_hat, color = 'tomato', lw = 3, label='Accumulative Effect')\n",
    "ax1.legend(loc ='center left')\n",
    "\n",
    "ax2 = ax1.twinx() \n",
    "ax2.plot(X, dPdX, lw = 3, color = 'Gold', label = 'Marginal Effect')\n",
    "ax2.legend(loc='center right')\n",
    "ax2.set_title('Accumulative and Marginal Effect of Family Income on Owning a House')\n",
    "ax2.grid()\n",
    "plt.show()"
   ]
  },
  {
   "cell_type": "markdown",
   "id": "5d22484f-81f9-4c0b-a2e2-ec5f520dcab6",
   "metadata": {},
   "source": [
    "As family income raises, the marginal probability will reach maximum around $40000$ pounds, to summarize the effect, we calculate the marginal effect at the mean value of the independent variables. "
   ]
  },
  {
   "cell_type": "code",
   "execution_count": 107,
   "id": "8aee3923-548b-448d-ab30-193a6e3abe5e",
   "metadata": {},
   "outputs": [
    {
     "data": {
      "text/plain": [
       "0.03297676614392626"
      ]
     },
     "execution_count": 107,
     "metadata": {},
     "output_type": "execute_result"
    }
   ],
   "source": [
    "X_mean = np.mean(df['Annual_Family_Income'])\n",
    "Z_mean_effect = beta1_hat + beta2_hat*X_mean\n",
    "dPdX = np.exp(-Z_mean_effect)/(1+np.exp(-Z_mean_effect))**2*beta2_hat; dPdX"
   ]
  },
  {
   "cell_type": "markdown",
   "id": "9ee4701f-f876-4246-a110-02280df28a81",
   "metadata": {},
   "source": [
    "At the sample mean, $1000$ pounds increase in family income increases the probability of owning a house by $3.2 \\%$. "
   ]
  },
  {
   "cell_type": "markdown",
   "id": "3f46c537-b4cf-46d2-bec6-06a1f3676b80",
   "metadata": {},
   "source": [
    "## <font face=\"gotham\" color=\"purple\"> More Than One Variable</font>"
   ]
  },
  {
   "cell_type": "code",
   "execution_count": 138,
   "id": "cf5d81fc-3eaf-473b-b26c-17cdd394b294",
   "metadata": {},
   "outputs": [
    {
     "name": "stdout",
     "output_type": "stream",
     "text": [
      "Optimization terminated successfully.\n",
      "         Current function value: 0.247296\n",
      "         Iterations 8\n",
      "                           Logit Regression Results                           \n",
      "==============================================================================\n",
      "Dep. Variable:               admitted   No. Observations:                   30\n",
      "Model:                          Logit   Df Residuals:                       26\n",
      "Method:                           MLE   Df Model:                            3\n",
      "Date:                Thu, 09 Sep 2021   Pseudo R-squ.:                  0.6432\n",
      "Time:                        12:16:41   Log-Likelihood:                -7.4189\n",
      "converged:                       True   LL-Null:                       -20.794\n",
      "Covariance Type:            nonrobust   LLR p-value:                 6.639e-06\n",
      "===================================================================================\n",
      "                      coef    std err          z      P>|z|      [0.025      0.975]\n",
      "-----------------------------------------------------------------------------------\n",
      "const             -16.3315      8.601     -1.899      0.058     -33.189       0.526\n",
      "gmat                0.0025      0.018      0.141      0.888      -0.032       0.037\n",
      "gpa                 3.3208      2.397      1.385      0.166      -1.378       8.020\n",
      "work_experience     0.9975      0.585      1.704      0.088      -0.150       2.145\n",
      "===================================================================================\n"
     ]
    }
   ],
   "source": [
    "df = pd.read_excel('Basic_Econometrics_practice_data.xlsx', sheet_name = 'GMAT_Work_Quali_Resp'); df.head()\n",
    "\n",
    "Y = df[['admitted']]\n",
    "X = df[['gmat', 'gpa', 'work_experience']]\n",
    "X = sm.add_constant(X)\n",
    "log_reg_house = sm.Logit(Y, X).fit()\n",
    "print(log_reg_house.summary())"
   ]
  },
  {
   "cell_type": "markdown",
   "id": "5b597b6b-ee22-4e90-9e26-6ba747c8104e",
   "metadata": {},
   "source": [
    "The estimated model is\n",
    "$$\n",
    "\\hat{P_i} = \\frac{1}{1+e^{-(-16.3315+0.0025 X_{2i} + 3.3208 X_{3i}+.9975 X_{4i})}}\n",
    "$$\n"
   ]
  },
  {
   "cell_type": "code",
   "execution_count": 131,
   "id": "b3038355-3619-43f5-9be2-87a350195b4c",
   "metadata": {},
   "outputs": [
    {
     "name": "stdout",
     "output_type": "stream",
     "text": [
      "Marginal effect of GMAT, GPA and Working Exp are 0.0005751109753324387, 0.7627645112662916 and 0.22911309163038573 accordingly.\n"
     ]
    }
   ],
   "source": [
    "beta1_hat, beta2_hat, beta3_hat, beta4_hat = log_reg.params[0], log_reg.params[1], log_reg.params[2], log_reg.params[3]\n",
    "X2_mean = np.mean(df['gmat'])\n",
    "X3_mean = np.mean(df['gpa'])\n",
    "X4_mean = np.mean(df['work_experience'])\n",
    "Z_mean_effect = beta1_hat + beta2_hat*X2_mean + + beta3_hat*X3_mean + beta4_hat*X4_mean\n",
    "dPdX2 = np.exp(-Z_mean_effect)/(1+np.exp(-Z_mean_effect))**2*beta2_hat\n",
    "dPdX3 = np.exp(-Z_mean_effect)/(1+np.exp(-Z_mean_effect))**2*beta3_hat\n",
    "dPdX4 = np.exp(-Z_mean_effect)/(1+np.exp(-Z_mean_effect))**2*beta4_hat\n",
    "print('Marginal effect of GMAT, GPA and Working Exp are {}, {} and {} accordingly.'.format(dPdX2, dPdX3, dPdX4))"
   ]
  },
  {
   "cell_type": "markdown",
   "id": "f137a00b-8f62-4cb6-92d6-f91e7a123cbf",
   "metadata": {},
   "source": [
    "## <font face=\"gotham\" color=\"purple\"> Goodness of Fit</font>"
   ]
  },
  {
   "cell_type": "markdown",
   "id": "7f128c30-2e12-4c1f-94ef-f31929e23579",
   "metadata": {},
   "source": [
    "You might be wondering why log-likelihood is a negative number as in the report, recall that any likelihood is a joint distribution which must lie between $[0, 1]$, so the log likelihood must be negative, the plot below is a reminder."
   ]
  },
  {
   "cell_type": "code",
   "execution_count": 137,
   "id": "6abb2172-52eb-43d7-8665-0fe96ca02ffa",
   "metadata": {},
   "outputs": [
    {
     "data": {
      "image/png": "[encoded data removed]",
      "text/plain": [
       "<Figure size 864x504 with 1 Axes>"
      ]
     },
     "metadata": {
      "needs_background": "light"
     },
     "output_type": "display_data"
    }
   ],
   "source": [
    "X = np.linspace(0.01, 3, 100)\n",
    "Y = np.log(X)\n",
    "fig, ax = plt.subplots(figsize = (12, 7))\n",
    "ax.plot(X, Y)\n",
    "ax.grid()\n",
    "ax.set_title('$Y = e^X$')\n",
    "plt.show()"
   ]
  },
  {
   "cell_type": "markdown",
   "id": "66f4222e-720d-49e2-a5cb-7ad2e0761b9e",
   "metadata": {},
   "source": [
    "Because the estimation method is MLE, which means we are not seeking to minimize $RSS$, then it would be meaningless to report $R^2$. So the proper replacement is pseudo-$R^2$ as in report.\n",
    "\n",
    "Pseudo-$R^2$ is comparing the log-likelihood $\\ln{L}$ of the original model with log-likelihood $\\ln{L_0}$ that would have been obtained with only the intercept in the regression.\n",
    "$$\n",
    "\\text{pseudo-}R^2=1-\\frac{\\ln{L}}{\\ln{L_0}}\n",
    "$$\n",
    "Compare with $R^2$ in OLS, conceptually, $\\ln{L}$ is equivalent to $RSS$ and $\\ln{L_0}$ is equivalent to $TSS$ of the linear regression model.\n",
    "$$\n",
    "R^2 =1-\\frac{RSS}{TSS}\n",
    "$$"
   ]
  },
  {
   "cell_type": "markdown",
   "id": "c1f1b23b-9c3f-437a-b53d-da0b7d97fea6",
   "metadata": {},
   "source": [
    "The results object has those data encapsulated, we just call the properties"
   ]
  },
  {
   "cell_type": "code",
   "execution_count": 147,
   "id": "2f016611-443c-42a7-9fe3-81b8bcf4c269",
   "metadata": {},
   "outputs": [
    {
     "name": "stdout",
     "output_type": "stream",
     "text": [
      "Pseudo-R2: 0.6432266516492773\n"
     ]
    }
   ],
   "source": [
    "Pseudo_R2 = 1- log_reg_house.llf/log_reg_house.llnull\n",
    "print('Pseudo-R2: {}'.format(Pseudo_R2))"
   ]
  },
  {
   "cell_type": "markdown",
   "id": "01916e25-baf5-4f55-a11d-15601bba1109",
   "metadata": {},
   "source": [
    "The equivalent $F$-test in linear regression model is **likelihood ratio** (LR)\n",
    "$$\n",
    "2\\ln{(L/L_0)} = 2(\\ln{L}-\\ln{L_0})\n",
    "$$\n",
    "which follows $\\chi^2$ with $k-1$ degree of freedom, $k-1$ is the number of independent variables."
   ]
  },
  {
   "cell_type": "code",
   "execution_count": 146,
   "id": "4df10d4b-61fd-45f4-bf7a-c4ec227099e0",
   "metadata": {},
   "outputs": [
    {
     "name": "stdout",
     "output_type": "stream",
     "text": [
      "Likelihood Ratio: 26.75104440310262\n"
     ]
    }
   ],
   "source": [
    "LR = 2*(log_reg_house.llf-log_reg_house.llnull)\n",
    "print('Likelihood Ratio: {}'.format(LR))"
   ]
  },
  {
   "cell_type": "markdown",
   "id": "ba9beee0-3e0e-4710-8531-c31dfdf6891c",
   "metadata": {},
   "source": [
    "Keep in mind, with qualitative response models, goodness of fit is not a main concern. "
   ]
  },
  {
   "cell_type": "markdown",
   "id": "8117ddc1-286f-4955-82e0-87662dcb2531",
   "metadata": {},
   "source": [
    "# <font face=\"gotham\" color=\"purple\"> The Probit Model</font>"
   ]
  },
  {
   "cell_type": "markdown",
   "id": "5faae836-eaf9-4b19-ae1f-23982f7dd975",
   "metadata": {},
   "source": [
    "The **probit model** provides an alternative but similar approach to qualitative response model. We also start by defining variable $Z_i$\n",
    "$$\n",
    "Z_i = \\beta_1 + \\beta_2X_2+...+\\beta_k X_k\n",
    "$$\n",
    "But the sigmoid function is a accumulative standard normal distribution\n",
    "$$\n",
    "P_i = F(Z_i)\n",
    "$$\n",
    "The marginal effect of $X_i$ is \n",
    "$$\n",
    "\\frac{\\partial P_i}{\\partial X_i}=\\frac{dP_i}{dZ_i}\\frac{\\partial Z}{\\partial X_i}=f(Z)\\beta_i\n",
    "$$\n",
    "where $f(Z) = F'(Z)$, is the PDF function of standard normal distribution\n",
    "$$\n",
    "f(Z) = \\frac{1}{\\sqrt{2\\pi}}e^{-\\frac{1}{2}Z^2}\n",
    "$$"
   ]
  },
  {
   "cell_type": "code",
   "execution_count": 155,
   "id": "c2607a1f-a36f-4523-b260-03013db47459",
   "metadata": {},
   "outputs": [
    {
     "data": {
      "text/html": [
       "<div>\n",
       "<style scoped>\n",
       "    .dataframe tbody tr th:only-of-type {\n",
       "        vertical-align: middle;\n",
       "    }\n",
       "\n",
       "    .dataframe tbody tr th {\n",
       "        vertical-align: top;\n",
       "    }\n",
       "\n",
       "    .dataframe thead th {\n",
       "        text-align: right;\n",
       "    }\n",
       "</style>\n",
       "<table border=\"1\" class=\"dataframe\">\n",
       "  <thead>\n",
       "    <tr style=\"text-align: right;\">\n",
       "      <th></th>\n",
       "      <th>Pregnancies</th>\n",
       "      <th>Glucose</th>\n",
       "      <th>BloodPressure</th>\n",
       "      <th>SkinThickness</th>\n",
       "      <th>Insulin</th>\n",
       "      <th>BMI</th>\n",
       "      <th>DiabetesPedigreeFunction</th>\n",
       "      <th>Age</th>\n",
       "      <th>Outcome</th>\n",
       "    </tr>\n",
       "  </thead>\n",
       "  <tbody>\n",
       "    <tr>\n",
       "      <th>0</th>\n",
       "      <td>6</td>\n",
       "      <td>148</td>\n",
       "      <td>72</td>\n",
       "      <td>35</td>\n",
       "      <td>0</td>\n",
       "      <td>33.6</td>\n",
       "      <td>0.627</td>\n",
       "      <td>50</td>\n",
       "      <td>1</td>\n",
       "    </tr>\n",
       "    <tr>\n",
       "      <th>1</th>\n",
       "      <td>1</td>\n",
       "      <td>85</td>\n",
       "      <td>66</td>\n",
       "      <td>29</td>\n",
       "      <td>0</td>\n",
       "      <td>26.6</td>\n",
       "      <td>0.351</td>\n",
       "      <td>31</td>\n",
       "      <td>0</td>\n",
       "    </tr>\n",
       "    <tr>\n",
       "      <th>2</th>\n",
       "      <td>8</td>\n",
       "      <td>183</td>\n",
       "      <td>64</td>\n",
       "      <td>0</td>\n",
       "      <td>0</td>\n",
       "      <td>23.3</td>\n",
       "      <td>0.672</td>\n",
       "      <td>32</td>\n",
       "      <td>1</td>\n",
       "    </tr>\n",
       "    <tr>\n",
       "      <th>3</th>\n",
       "      <td>1</td>\n",
       "      <td>89</td>\n",
       "      <td>66</td>\n",
       "      <td>23</td>\n",
       "      <td>94</td>\n",
       "      <td>28.1</td>\n",
       "      <td>0.167</td>\n",
       "      <td>21</td>\n",
       "      <td>0</td>\n",
       "    </tr>\n",
       "    <tr>\n",
       "      <th>4</th>\n",
       "      <td>0</td>\n",
       "      <td>137</td>\n",
       "      <td>40</td>\n",
       "      <td>35</td>\n",
       "      <td>168</td>\n",
       "      <td>43.1</td>\n",
       "      <td>2.288</td>\n",
       "      <td>33</td>\n",
       "      <td>1</td>\n",
       "    </tr>\n",
       "  </tbody>\n",
       "</table>\n",
       "</div>"
      ],
      "text/plain": [
       "   Pregnancies  Glucose  BloodPressure  SkinThickness  Insulin   BMI  \\\n",
       "0            6      148             72             35        0  33.6   \n",
       "1            1       85             66             29        0  26.6   \n",
       "2            8      183             64              0        0  23.3   \n",
       "3            1       89             66             23       94  28.1   \n",
       "4            0      137             40             35      168  43.1   \n",
       "\n",
       "   DiabetesPedigreeFunction  Age  Outcome  \n",
       "0                     0.627   50        1  \n",
       "1                     0.351   31        0  \n",
       "2                     0.672   32        1  \n",
       "3                     0.167   21        0  \n",
       "4                     2.288   33        1  "
      ]
     },
     "execution_count": 155,
     "metadata": {},
     "output_type": "execute_result"
    }
   ],
   "source": [
    "df = pd.read_excel('Basic_Econometrics_practice_data.xlsx', sheet_name = 'Diabetes_Quali_Resp'); df.head()"
   ]
  },
  {
   "cell_type": "markdown",
   "id": "5dd3102c-e68b-403d-9a03-f4ec2787495c",
   "metadata": {},
   "source": [
    "Here is the data explanation\n",
    "<ul>\n",
    "<li><em>Pregnancies</em>: Number of times pregnant</li>\n",
    "<li><em>Glucose</em>: Plasma glucose concentration over 2 hours in an oral glucose tolerance test</li>\n",
    "<li><em>BloodPressure</em>: Diastolic blood pressure (mm Hg)</li>\n",
    "<li><em>SkinThickness</em>: Triceps skin fold thickness (mm)</li>\n",
    "<li><em>Insulin</em>: 2-Hour serum insulin (mu U/ml)</li>\n",
    "<li><em>BMI</em>: Body mass index (weight in kg/(height in m)2)</li>\n",
    "<li><em>DiabetesPedigreeFunction</em>: Diabetes pedigree function (a function which scores likelihood of diabetes based on family history)</li>\n",
    "<li><em>Age</em>: Age (years)</li>\n",
    "<li><em>Outcome</em>: Class variable (0 if non-diabetic, 1 if diabetic)</li>\n",
    "</ul>"
   ]
  },
  {
   "cell_type": "code",
   "execution_count": 159,
   "id": "6f4cc417-bca8-4b3c-a2ce-d45ce0826115",
   "metadata": {},
   "outputs": [
    {
     "name": "stdout",
     "output_type": "stream",
     "text": [
      "Optimization terminated successfully.\n",
      "         Current function value: 0.472380\n",
      "         Iterations 6\n",
      "                          Probit Regression Results                           \n",
      "==============================================================================\n",
      "Dep. Variable:                Outcome   No. Observations:                  768\n",
      "Model:                         Probit   Df Residuals:                      759\n",
      "Method:                           MLE   Df Model:                            8\n",
      "Date:                Fri, 10 Sep 2021   Pseudo R-squ.:                  0.2697\n",
      "Time:                        07:31:05   Log-Likelihood:                -362.79\n",
      "converged:                       True   LL-Null:                       -496.74\n",
      "Covariance Type:            nonrobust   LLR p-value:                 2.736e-53\n",
      "============================================================================================\n",
      "                               coef    std err          z      P>|z|      [0.025      0.975]\n",
      "--------------------------------------------------------------------------------------------\n",
      "const                       -4.8638      0.384    -12.653      0.000      -5.617      -4.110\n",
      "Pregnancies                  0.0723      0.018      3.972      0.000       0.037       0.108\n",
      "Glucose                      0.0199      0.002      9.968      0.000       0.016       0.024\n",
      "BloodPressure               -0.0079      0.003     -2.585      0.010      -0.014      -0.002\n",
      "SkinThickness                0.0012      0.004      0.307      0.758      -0.007       0.009\n",
      "Insulin                     -0.0007      0.001     -1.423      0.155      -0.002       0.000\n",
      "BMI                          0.0523      0.008      6.250      0.000       0.036       0.069\n",
      "DiabetesPedigreeFunction     0.4982      0.164      3.036      0.002       0.177       0.820\n",
      "Age                          0.0102      0.005      1.887      0.059      -0.000       0.021\n",
      "============================================================================================\n"
     ]
    }
   ],
   "source": [
    "Y = df[['Outcome']]\n",
    "X = df[['Pregnancies', 'Glucose', 'BloodPressure', 'SkinThickness', 'Insulin', 'BMI', 'DiabetesPedigreeFunction', 'Age']]\n",
    "X = sm.add_constant(X)\n",
    "log_reg_diabetes = sm.Probit(Y, X).fit()\n",
    "print(log_reg_diabetes.summary())"
   ]
  },
  {
   "cell_type": "markdown",
   "id": "0cbe5ec5-c052-4e35-b1f4-85be211ad847",
   "metadata": {},
   "source": [
    "Because marginal effect of any independent variables will not be constant, we summarize the effect as the same procedure in logit model. "
   ]
  },
  {
   "cell_type": "code",
   "execution_count": 195,
   "id": "038e89f7-6014-4924-b390-3ad6ded3dc23",
   "metadata": {
    "tags": []
   },
   "outputs": [
    {
     "name": "stdout",
     "output_type": "stream",
     "text": [
      "Pregnancies:        0.02524786219145608\n",
      "Glucose:            0.006945036190111587\n",
      "BloodPressure:      -0.0027682789498052994\n",
      "SkinThickness:      0.0004320865302513722\n",
      "Insulin:            -0.00025900523552337313\n",
      "BMI:                0.01827361273755261\n",
      "DiabetesPedigreeFunction: 0.17402664547779725\n",
      "Age:                0.0035618676260187995\n"
     ]
    }
   ],
   "source": [
    "beta1_hat, beta2_hat, beta3_hat, beta4_hat = log_reg_diabetes.params[0], log_reg_diabetes.params[1], log_reg_diabetes.params[2], log_reg_diabetes.params[3]\n",
    "beta5_hat, beta6_hat, beta7_hat, beta8_hat = log_reg_diabetes.params[4], log_reg_diabetes.params[5], log_reg_diabetes.params[6], log_reg_diabetes.params[7]\n",
    "beta9_hat = log_reg_diabetes.params[8]\n",
    "\n",
    "X2_mean = np.mean(df['Pregnancies'])\n",
    "X3_mean = np.mean(df['Glucose'])\n",
    "X4_mean = np.mean(df['BloodPressure'])\n",
    "X5_mean = np.mean(df['SkinThickness'])\n",
    "X6_mean = np.mean(df['Insulin'])\n",
    "X7_mean = np.mean(df['BMI'])\n",
    "X8_mean = np.mean(df['DiabetesPedigreeFunction'])\n",
    "X9_mean = np.mean(df['Age'])\n",
    "\n",
    "Z_mean_effect = beta1_hat + beta2_hat*X2_mean + + beta3_hat*X3_mean + beta4_hat*X4_mean + beta5_hat*X5_mean +  beta6_hat*X6_mean + beta7_hat*X7_mean + beta8_hat*X8_mean + beta9_hat*X9_mean\n",
    "                      \n",
    "def f_norm(Z):\n",
    "    return 1/np.sqrt(2*np.pi)*np.exp(-1/2*Z**2)\n",
    "\n",
    "dPdX2 = f_norm(Z_mean_effect)*beta2_hat\n",
    "dPdX3 = f_norm(Z_mean_effect)*beta3_hat\n",
    "dPdX4 = f_norm(Z_mean_effect)*beta4_hat\n",
    "dPdX5 = f_norm(Z_mean_effect)*beta5_hat\n",
    "dPdX6 = f_norm(Z_mean_effect)*beta6_hat\n",
    "dPdX7 = f_norm(Z_mean_effect)*beta7_hat\n",
    "dPdX8 = f_norm(Z_mean_effect)*beta8_hat\n",
    "dPdX9 = f_norm(Z_mean_effect)*beta9_hat\n",
    "\n",
    "print('Pregnancies:        {}'.format(dPdX2))\n",
    "print('Glucose:            {}'.format(dPdX3))\n",
    "print('BloodPressure:      {}'.format(dPdX4))\n",
    "print('SkinThickness:      {}'.format(dPdX5))\n",
    "print('Insulin:            {}'.format(dPdX6))\n",
    "print('BMI:                {}'.format(dPdX7))\n",
    "print('DiabetesPedigreeFunction: {}'.format(dPdX8))\n",
    "print('Age:                {}'.format(dPdX9))"
   ]
  },
  {
   "cell_type": "markdown",
   "id": "4ff75094-dd75-41ea-8d0c-f54582339ad1",
   "metadata": {},
   "source": [
    "However, if you are familiar with the data structure in Pandas, just two lines of codes, the marginal effects are printed below"
   ]
  },
  {
   "cell_type": "code",
   "execution_count": 193,
   "id": "7169172e-43c5-4d6b-9a3b-e564f781bdef",
   "metadata": {},
   "outputs": [
    {
     "data": {
      "text/plain": [
       "Pregnancies                 0.025248\n",
       "Glucose                     0.006945\n",
       "BloodPressure              -0.002768\n",
       "SkinThickness               0.000432\n",
       "Insulin                    -0.000259\n",
       "BMI                         0.018274\n",
       "DiabetesPedigreeFunction    0.174027\n",
       "Age                         0.003562\n",
       "dtype: float64"
      ]
     },
     "execution_count": 193,
     "metadata": {},
     "output_type": "execute_result"
    }
   ],
   "source": [
    "Z_mean_effect = log_reg_diabetes.params[0] + np.sum(log_reg_diabetes.params[1:] * df.mean()[:8])\n",
    "f_norm(Z_mean_effect)*log_reg_diabetes.params[1:]"
   ]
  },
  {
   "cell_type": "markdown",
   "id": "cdc77c27-0050-4b9a-8683-3288f6b0d12b",
   "metadata": {},
   "source": [
    "# <font face=\"gotham\" color=\"purple\"> Logit Or Probit?</font>"
   ]
  },
  {
   "cell_type": "markdown",
   "id": "37d6ef77-5e00-459e-b707-74913775edb7",
   "metadata": {},
   "source": [
    "Let's use the same data to compare the estimation results between logit and probit model."
   ]
  },
  {
   "cell_type": "code",
   "execution_count": 254,
   "id": "e6b190dc-5d27-403d-8961-ee314120a5ee",
   "metadata": {},
   "outputs": [
    {
     "name": "stdout",
     "output_type": "stream",
     "text": [
      "Optimization terminated successfully.\n",
      "         Current function value: 0.470993\n",
      "         Iterations 6\n",
      "Optimization terminated successfully.\n",
      "         Current function value: 0.472380\n",
      "         Iterations 6\n",
      "\n",
      "\n",
      "Logit estimation results:\n",
      "const                      -8.404696\n",
      "Pregnancies                 0.123182\n",
      "Glucose                     0.035164\n",
      "BloodPressure              -0.013296\n",
      "SkinThickness               0.000619\n",
      "Insulin                    -0.001192\n",
      "BMI                         0.089701\n",
      "DiabetesPedigreeFunction    0.945180\n",
      "Age                         0.014869\n",
      "dtype: float64\n",
      "\n",
      "\n",
      "Probit estimation results:\n",
      "const                      -4.863753\n",
      "Pregnancies                 0.072285\n",
      "Glucose                     0.019884\n",
      "BloodPressure              -0.007926\n",
      "SkinThickness               0.001237\n",
      "Insulin                    -0.000742\n",
      "BMI                         0.052317\n",
      "DiabetesPedigreeFunction    0.498238\n",
      "Age                         0.010198\n",
      "dtype: float64\n"
     ]
    }
   ],
   "source": [
    "df = pd.read_excel('Basic_Econometrics_practice_data.xlsx', sheet_name = 'Diabetes_Quali_Resp')\n",
    "Y = df[['Outcome']]\n",
    "X = df[['Pregnancies', 'Glucose', 'BloodPressure', 'SkinThickness', 'Insulin', 'BMI', 'DiabetesPedigreeFunction', 'Age']]\n",
    "X = sm.add_constant(X)\n",
    "\n",
    "logit_reg = sm.Logit(Y, X).fit()\n",
    "probit_reg = sm.Probit(Y, X).fit()\n",
    "\n",
    "print('')\n",
    "print('')\n",
    "print('Logit estimation results:')\n",
    "print(logit_reg.params)\n",
    "print('')\n",
    "print('')\n",
    "print('Probit estimation results:')\n",
    "print(probit_reg.params)"
   ]
  },
  {
   "cell_type": "markdown",
   "id": "36dc2ecb-ede9-441d-9ca2-d1340f113878",
   "metadata": {},
   "source": [
    "We have seen both logit and profit, they seem yield similar results, which one is preferable? In practice, more researchers choose Logit due its mathematical simplicity. "
   ]
  },
  {
   "cell_type": "markdown",
   "id": "60f54934-12e8-4298-941c-61304e5a1c68",
   "metadata": {},
   "source": [
    "Visually, we can also see the difference, that logit is flatter than probit. "
   ]
  },
  {
   "cell_type": "code",
   "execution_count": 305,
   "id": "b39d3a16-59fa-4793-b993-78e157a36ee2",
   "metadata": {},
   "outputs": [
    {
     "data": {
      "image/png": "[encoded data removed]",
      "text/plain": [
       "<Figure size 864x504 with 1 Axes>"
      ]
     },
     "metadata": {
      "needs_background": "light"
     },
     "output_type": "display_data"
    }
   ],
   "source": [
    "Z = np.linspace(-5, 5)\n",
    "Y_probit = sp.stats.norm.cdf(Z, loc = 0, scale = 1)\n",
    "Y_logit = 1/(1+np.exp(-Z))\n",
    "fig, ax = plt.subplots(figsize = (12, 7))\n",
    "ax.plot(Z, Y_probit, lw =3, label = 'Probit')\n",
    "ax.plot(Z, Y_logit, lw = 3, label = 'Logit')\n",
    "ax.legend()\n",
    "plt.show()"
   ]
  },
  {
   "cell_type": "markdown",
   "id": "477de4d9-90a2-4b0c-b280-abd2b877e202",
   "metadata": {},
   "source": [
    "T. Amemiya suggests multiplying a logit estimate by $0.625$ to get a better estimate of the corresponding probit estimate. You can try with the results above."
   ]
  },
  {
   "cell_type": "markdown",
   "id": "84e0f9d3-be5a-446e-a662-fcc5b0273fc3",
   "metadata": {},
   "source": [
    "# <font face=\"gotham\" color=\"purple\"> The Tobit Model</font>"
   ]
  },
  {
   "cell_type": "markdown",
   "id": "2eec636d-c62c-4733-83d7-c02d4f12556f",
   "metadata": {},
   "source": [
    "The **tobit model** was introduced by James Tobin, that the dependent variable are censored. It would be more straightforward to take a look at a simulated censored data set. Assume the true relationship is\n",
    "$$\n",
    "Y_i = -40 + 5X_i +u_i\n",
    "$$\n",
    "\n",
    "The blue circles are uncensored, or unconstrained data, the red dots are constrained to be non-negative. Apparently, OLS estimation with constrained data will yield erratic results. "
   ]
  },
  {
   "cell_type": "code",
   "execution_count": 302,
   "id": "c6d1d40f-58d1-468c-91ba-879f821fd5e8",
   "metadata": {
    "tags": []
   },
   "outputs": [
    {
     "data": {
      "image/png": "[encoded data removed]",
      "text/plain": [
       "<Figure size 1296x648 with 1 Axes>"
      ]
     },
     "metadata": {
      "needs_background": "light"
     },
     "output_type": "display_data"
    }
   ],
   "source": [
    "beta1, beta2 = -40, 5\n",
    "n = 300\n",
    "X = np.linspace(0, 30, n)\n",
    "u = 10* np.random.randn(n)\n",
    "Y = beta1 + beta2*X + u\n",
    "Y_censored = Y.clip(min = 0)\n",
    "fig, ax = plt.subplots(figsize = (18, 9))\n",
    "ax.scatter(X, Y, s = 50,edgecolors='b', facecolors='none')\n",
    "ax.scatter(X, Y_censored, s = 10, color='r')\n",
    "\n",
    "ax.axhline(y = 0, color = 'k', alpha = .7)\n",
    "plt.show()"
   ]
  },
  {
   "cell_type": "markdown",
   "id": "72b66110-6ccf-4166-b03f-b01fd88c0900",
   "metadata": {},
   "source": [
    "What about only use the on constrained subsample? i.e. $Y_i>0$ then \n",
    "$$\n",
    "-40 + 5X_i + u_i >0\n",
    "$$\n",
    "It shows a relationship of $u_i$ and $X_i$\n",
    "$$\n",
    "u_i>40-5X_i\n",
    "$$\n",
    "We have assumed that $u_i \\sim N(0, 10)$ in the simulation, this inequality truncated the distribution. "
   ]
  },
  {
   "cell_type": "markdown",
   "id": "008138f2-09f2-478b-b4bb-aa463dd57187",
   "metadata": {},
   "source": [
    "However the ```statsmodel``` doesn't have tobit estimation procedure yet. We'll update the tutorial notes if any concise procedure are introduced in ```statsmodel```."
   ]
  },
  {
   "cell_type": "code",
   "execution_count": null,
   "id": "f6246b78-cb81-4017-90f5-b80a4fb10513",
   "metadata": {},
   "outputs": [],
   "source": []
  }
 ],
 "metadata": {
  "kernelspec": {
   "display_name": "Python 3",
   "language": "python",
   "name": "python3"
  },
  "language_info": {
   "codemirror_mode": {
    "name": "ipython",
    "version": 3
   },
   "file_extension": ".py",
   "mimetype": "text/x-python",
   "name": "python",
   "nbconvert_exporter": "python",
   "pygments_lexer": "ipython3",
   "version": "3.8.8"
  }
 },
 "nbformat": 4,
 "nbformat_minor": 5
}
