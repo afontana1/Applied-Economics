{
 "cells": [
  {
   "cell_type": "markdown",
   "metadata": {},
   "source": [
    "# Classical vs Frequentist vs Bayesian\n",
    "- Language of probability\n",
    "- P(X=x) where X is a random variable that can assume a value (discrete or continuous)\n",
    "- x is a particular instance of X, where x is some event occuring\n",
    "\n",
    "## Classical\n",
    "- outcomes that are equally likely have equal probabilities (think of rolling a fair die) P(X=x)=1/6\n",
    "- Think about enumerating all of the possible outcomes, and possible combinations of well defined outcomes\n",
    "\n",
    "## Frequentists\n",
    "- Hypothetical infinite sequence of possible events, then consider how often an event occurs\n",
    "- Think about rolling a die an infinite number of times\n",
    "- Probability will be considered as the number of times an event occured over the entire set of outcomes\n",
    "- useable if we have uncertainty statements that can be defined in a hypothetical infinite sequence\n",
    "- P(X= Rain tomorrow) ? Does this make sense in a relative frequency interpretation? \n",
    "- P(Do we live in an infinite expanding universe)? It will either be 0 or 1 based on this interpretation\n",
    "- In terms of statistical modeling, frequentists wish to perform repeated experiments (or get really large samples) in an effort to exploit the central limit theorem, to estimate the \"true\" value for some parameter (typically the conditional average).\n",
    "\n",
    "https://stats.stackexchange.com/questions/232356/who-are-frequentists\n",
    "\n",
    "## Bayesian\n",
    "- Based on prior information, quantifying states of beliefs. \n",
    "- Suppose the statement is P(die is loaded), under bayesian inference you can mathematical incorporate prior beliefs about the truth of a statement.\n",
    "- In terms of statistical modeling, all features of the model are random. You have varying degrees of certainty that the parameter you have estimated is the case. Your posterior expecations consequentially will have a distribution. Some frequentists will wish to do the same by bootstrapping parametric estimates but this is an entirely different exercise then that of the bayesian credible interval. \n",
    "\n",
    "https://stats.stackexchange.com/questions/167051/who-are-the-bayesians\n",
    "\n",
    "--> Sometimes Bayesian vs Frequentist interpretations are considered Subjective vs Objective. This is philosophical and out of the scope of this series. But consider a bayes counter argument: All frequentist interpretations implicitly rely on prior beliefs about things such as what parametric form a regression equation should take, normality assumptions, sample size assumptions etc. They are implicitly bayesian. \n",
    "\n",
    "--> Bayesian techniques to statistical inference are heavily used in machine learning. Many frequentist approaches are seen in economic research, randomized trials, medical research, etc. (There is a notion of infinitely many experiments underlying much of the test statistics used in these, they will be seen later when we look at the Bootstrap)\n",
    "\n",
    "--> comparision of the two: https://ocw.mit.edu/courses/mathematics/18-05-introduction-to-probability-and-statistics-spring-2014/readings/MIT18_05S14_Reading20.pdf\n",
    "\n",
    "--> great thread, criticizing the p-value: https://stats.stackexchange.com/questions/225002/are-we-frequentists-really-just-implicit-unwitting-bayesians\n",
    "\n",
    "Stack Exchange will come in handy for quick questions: https://stats.stackexchange.com/"
   ]
  },
  {
   "cell_type": "markdown",
   "metadata": {},
   "source": [
    "## Basic Review of Probability and Bayes Rule\n",
    "- P(A|B) = P(A and B)/ P(B) --> Probability of A given that B occured\n",
    "- P(A|B) = P(A)*P(B) = P(B|A) ---> Independence\n",
    "- P(A|B) = P(B|A)*P(A)/(P(B|A)*P(A) + P(B|notA)*P(notA)) ==  P(A and B)/P(B)"
   ]
  },
  {
   "cell_type": "code",
   "execution_count": 9,
   "metadata": {},
   "outputs": [],
   "source": [
    "totalPop = 30\n",
    "totalFemale = 9\n",
    "totalMale = 21\n",
    "\n",
    "totalCompsciMajors = 12\n",
    "totalCompsciFemale = 4\n",
    "totalCompsciMale = 8\n",
    "\n",
    "NoCs = 18\n",
    "femaleNotCs = 13\n",
    "maleNotCs = 5"
   ]
  },
  {
   "cell_type": "code",
   "execution_count": 8,
   "metadata": {},
   "outputs": [
    {
     "data": {
      "text/plain": [
       "0.3333333333333333"
      ]
     },
     "execution_count": 8,
     "metadata": {},
     "output_type": "execute_result"
    }
   ],
   "source": [
    "#Probability that someone is female given theyre a computer science major\n",
    "# Looking at a subset of the initial population, and asking about the probability in that subset\n",
    "(totalCompsciFemale/totalPop)/(totalCompsciMajors/totalPop)"
   ]
  },
  {
   "cell_type": "code",
   "execution_count": 18,
   "metadata": {},
   "outputs": [
    {
     "data": {
      "text/plain": [
       "0.7222222222222223"
      ]
     },
     "execution_count": 18,
     "metadata": {},
     "output_type": "execute_result"
    }
   ],
   "source": [
    "#the complement P(F|notCs)\n",
    "(femaleNotCs/totalPop)/(NoCs/totalPop)"
   ]
  },
  {
   "cell_type": "code",
   "execution_count": 34,
   "metadata": {},
   "outputs": [
    {
     "data": {
      "text/plain": [
       "0.4444444444444445"
      ]
     },
     "execution_count": 34,
     "metadata": {},
     "output_type": "execute_result"
    }
   ],
   "source": [
    "#P(CS|F)\n",
    "numerator = ((totalCompsciFemale/totalCompsciMajors))*(totalCompsciMajors/totalPop)\n",
    "denominator = numerator + (maleNotCs/NoCs)*(NoCs/totalPop)\n",
    "numerator/denominator"
   ]
  },
  {
   "cell_type": "markdown",
   "metadata": {},
   "source": [
    "## Common Distributions\n",
    "- https://mathcs.clarku.edu/~djoyce/ma217/distributions2.pdf\n",
    "- https://www.stat.purdue.edu/~fmliang/STAT610/st610lect3.pdf\n",
    "- http://www.utstat.toronto.edu/mikevans/jeffrosenthal/AppendixC.pdf\n",
    "- https://scholar.harvard.edu/files/charlescywang/files/basic_statistics_and_probability_for_econometrics_econ_270a.pdf\n",
    "\n",
    "There are seriously handbooks for these things, no need to know them all\n",
    "- http://www.stat.rice.edu/~dobelman/textfiles/DistributionsHandbook.pdf\n",
    "\n",
    "Basic idea is that, depending on the type of event, a random variable can have a PDF that is one of these shapes, or a mixture (common in bayesian is mixing, especially when combining non-conjugate priors)\n",
    "\n",
    "The choice of a discrete or continuous distribution depends on how youre conceptualizing the variables, how they are measured."
   ]
  },
  {
   "cell_type": "code",
   "execution_count": null,
   "metadata": {},
   "outputs": [],
   "source": []
  }
 ],
 "metadata": {
  "kernelspec": {
   "display_name": "Python 3",
   "language": "python",
   "name": "python3"
  },
  "language_info": {
   "codemirror_mode": {
    "name": "ipython",
    "version": 3
   },
   "file_extension": ".py",
   "mimetype": "text/x-python",
   "name": "python",
   "nbconvert_exporter": "python",
   "pygments_lexer": "ipython3",
   "version": "3.6.4"
  }
 },
 "nbformat": 4,
 "nbformat_minor": 2
}
