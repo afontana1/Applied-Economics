{
 "cells": [
  {
   "cell_type": "markdown",
   "metadata": {},
   "source": [
    "# Introduction to Statistical Learning \n",
    "Introduction to Statistical Learning by Gareth James, Daniela Witten, Trevor Hastie and Robert Tibshirani is considered a canonical text in the field of statistical/machine learning and is an absolutely fantastic way to move forward in your analytics career. [The text is free to download](http://www-bcf.usc.edu/~gareth/ISL/) and an [online course by the authors themselves](https://lagunita.stanford.edu/courses/HumanitiesSciences/StatLearning/Winter2016/about) is currently available in self-pace mode, meaning you can complete it any time. Make sure to **[REGISTER FOR THE STANDFORD COURSE!](https://lagunita.stanford.edu/courses/HumanitiesSciences/StatLearning/Winter2016/about)** The videos have also been [archived here on youtube](http://www.r-bloggers.com/in-depth-introduction-to-machine-learning-in-15-hours-of-expert-videos/)."
   ]
  },
  {
   "cell_type": "code",
   "execution_count": 1,
   "metadata": {},
   "outputs": [
    {
     "name": "stdout",
     "output_type": "stream",
     "text": [
      "\u001b[31mAdvertising.csv\u001b[m\u001b[m caravan.csv     hitters.csv     khan_ytrain.csv smarket.csv\r\n",
      "Credit.csv      carseats.csv    khan_xtest.csv  nci60_data.csv  usarrests.csv\r\n",
      "auto.csv        college.csv     khan_xtrain.csv nci60_labs.csv  \u001b[31mwage.csv\u001b[m\u001b[m\r\n",
      "boston.csv      default.csv     khan_ytest.csv  portfolio.csv   weekly.csv\r\n"
     ]
    }
   ],
   "source": [
    "!ls data"
   ]
  },
  {
   "cell_type": "markdown",
   "metadata": {},
   "source": [
    "# Chapter 6 Linear Model Selection and Regularization\n",
    "Linear models still can do astonishingly well compared to non-linear models. This chapter will explore other types of fitting besides least squares because they can give better prediction accuracy and interpretability.\n",
    "\n",
    "## Classes of alternatives to least squares\n",
    "* Subset Selection - Choose a subset of the predictors\n",
    "* Shrinkage (regularization) - Fit all predictors but limit their size. Coefficients can go to 0.\n",
    "* Dimension Reduction - project the predictors into a smaller subspace\n",
    "\n",
    "## Best Subset Selection\n",
    "Fit all possible models $2^p$ and take the one with highest adjusted $R^2$ through cross validation. This can be impossible with large enough p\n",
    "\n",
    "## Stepwise Selection - Forward, Backward and both\n",
    "Because of computational limitation a simpler method of adding or subtracting the best predictor to the current model is employed.\n",
    "\n",
    "### Forward Selection\n",
    "Start with an empty model and choose on predictor to add to the model based on best adjusted $R^2$ or other similar metric. Continue adding variables until no improvement in adjusted $R^2$. \n",
    "\n",
    "A variation to this is to retain each model at each step and use $R^2$ (not adjusted) as the metric. This will build p models. Then use cross validation with $R^2$ to pick the best model of those p models built from forward selection.\n",
    "\n",
    "### Backward Selection\n",
    "Similar to forward selection but start with all predictors in model and remove one at a time until adjusted $R^2$ is maximized or alternatively, find p models with $R^2$ and then use cross validation to pick best of the p models.\n",
    "\n",
    "## Both\n",
    "At each step, consider both adding or subtracting a variable in the model."
   ]
  },
  {
   "cell_type": "markdown",
   "metadata": {},
   "source": [
    "# Choosing Optimal Model \n",
    "## Adjusting Training Statistics or Using Cross Validation\n",
    "As learned in Chapter 5, cross validation is an extremely good tool at giving us insight to how well the model will be used on unseen data (test data).\n",
    "\n",
    "But alternatively to cross validation, we can punish the training error statistics so in theory they can give us insight on what the test error will be. There have been several statistics developed to give us insight as to what the model will do for unseen errors.\n",
    "\n",
    "The 4 most popular are AIC, BIC, Mallows Cp and Adjusted R^2. AIC, BIC and Cp all have similar formulas that inflate the error for more predictors and a higher estimated variance. Adjusted R squared lowers the R^2 by each additional predictor in the model. All 4 of these statistics are 'classical' model selectors and were used (I believe) before cross validation and so relied on just fitting the data one time on ALL the data. \n",
    "\n",
    "Cross validation can be computationally intense but with modern computation we can build lots of models and evaluate them easily."
   ]
  },
  {
   "cell_type": "markdown",
   "metadata": {},
   "source": [
    "## Shrinkage Methods\n",
    "Ridge and Lasso regression are most common.\n",
    "### Ridge Regression\n",
    "Minimizes not only the squared error (RSS) but sum of predictors squared times a constant $\\lambda$. When $\\lambda$ is 0 then ridge equals least squares. when $\\lambda$ heads to infinity, all predictors head to 0.\n",
    "\n",
    "Since ridge regression works directly with the size of the parameter coefficients, you must scale all predictors by dividing by their standard deviation.\n",
    "### The Lasso\n",
    "Uses L1 penalty instead of L2 (absolute value of predictors vs squared value). The lasso performs variable selection by setting some predictors to exactly 0 (and thus automatic variable selection), unlike ridge which will never completely do eliminate variables. \n",
    "\n",
    "### Alternative logic of lasso and ridge regression\n",
    "Instead of thinking of penalizing the error by either the L1 or L2 norm. We can think of setting up lasso/ridge regression as minimizing the squared errors subject to keeping the parameters less than a certain value. Think of this value as a 'budget' of allowable spending to occur. You can allow yourself to spend your parameters in any way you chose as long as you don't go over the total budget.\n",
    "\n",
    "Lasso yields predictors equivalent to 0 because of sharp corners"
   ]
  },
  {
   "cell_type": "markdown",
   "metadata": {},
   "source": [
    "![ridge and lasso](images/ridge.png)"
   ]
  },
  {
   "cell_type": "markdown",
   "metadata": {},
   "source": [
    "### Which is better Lasso or Ridge\n",
    "No way to tell beforehand but in general, settings where there are many import predictor variables that related to the response ridge will perform better. When there are only a few variables that relate to the response, lasso will do better.\n",
    "\n",
    "But... as always cross validation can be used\n",
    "\n",
    "### Choosing $\\lambda$\n",
    "Choose $\\lambda$ through cross validation. Search an array of $\\lambda$'s through cross validation and choose the $\\lambda$ which minimizes MSE. Then build your model with that $\\lambda$ on all the data."
   ]
  },
  {
   "cell_type": "markdown",
   "metadata": {},
   "source": [
    "# Dimension Reduction Techniques\n",
    "Instead of using the original predictors, we transform them first and then fit our models. Usually transform variables so that there are less in number than the original set. Two approaches in book - principal components and partial least squares"
   ]
  },
  {
   "cell_type": "markdown",
   "metadata": {},
   "source": [
    "# Principal Component Analysis (PCA)\n",
    "The first principal component is the direction where observations vary the most. We want to capture as much information as we can in one single direction. Which single direction captures as much information as possible? The direction where the variance is highest amongst the projected points.\n",
    "\n",
    "The first principal component also minimizes the sum of squared perpendicular distances between point and line. Each transformed first principal component can be thought as single number summaries of all that particular observation.\n",
    "\n",
    "The second principal component must be uncorrelated to the first which makes it orthogonal (90 degrees in two dimensions) to the first. The second PC will capture less information (less spread). Plotting each PC against each variable can show how much information is captured by each one.\n",
    "\n",
    "\n",
    "## Principal Component Regression\n",
    "First find first M principal components where M < p then fit with least squares. Choose M with cross validation. Usually, data is standardized by standard deviation first.\n",
    "\n",
    "## Partial Least Squares\n",
    "The response does not determine the principal components. This means PCA is used in an unsupervised way. PLS is a supervised alternative to PCR. PLS generates new features as a linear combination of the old features and the response\n",
    "\n",
    "Computed by doing simple linear regression of Y onto each predictor and setting that coefficient to the linear combination coefficient for transformed variable Z1. So weights are higher for those variables with stronger relationships to response. Z2 is computed by regressing all variables against the residuals of Z1 being fit to the model. Do this iteratively (fit remaining residuals) to come up with M PLS components. Then do least squares fit on all M new dimensions. In practice PLS does not do better than PCR or ridge regression.\n",
    "\n",
    "# High Dimensional Data\n",
    "When speaking of high dimensional data, we generally mean data with many predictors, especially when p approaches or exceeds n. Generally it is better to have more predictors but if many of the predictors are not associated with the response then they can cause the actual signal to get diluted - a double edged sword these predictors."
   ]
  },
  {
   "cell_type": "markdown",
   "metadata": {},
   "source": [
    "# Exercises\n",
    "## 1\n",
    "a) best subset  \n",
    "b) unknown  \n",
    "c) i) true  \n",
    "ii) true    \n",
    "iii) false  \n",
    "iv) false  \n",
    "v) false  \n",
    "\n",
    "## 2\n",
    "a) iii  \n",
    "b) iii  \n",
    "c) ii  \n",
    "\n",
    "## 3\n",
    "a) iv steadily decrease to 0   \n",
    "b) ii decrease then increase  \n",
    "c) iii steadily increase  \n",
    "d) iv steadily decrease  \n",
    "e) v constant  \n",
    "\n",
    "## 4\n",
    "a) iii steadily increase    \n",
    "b) ii decrease then increase  \n",
    "c) iv steadily decrease  \n",
    "d) iii steadily increase  \n",
    "e) v constant  \n",
    "\n",
    "## 5\n",
    "To simplify things lets assume that $x_{11}$ = 1, which makes $x_{12}$ = 1 and $x_{21}$ and $x_{22}$ = -1\n",
    "\n",
    "So, we have two points (1, 1, 0) and (-1, -1, 0)\n",
    "\n",
    "$Ridge = (0 - (\\beta_1 + \\beta_2))^2 + (0 - (-\\beta_1 - \\beta_2))^2 + \\lambda(\\beta_1^2 + \\beta_2^2)$ \n",
    "\n",
    "$Ridge = 2\\beta_1^2 + 4\\beta_1\\beta_2 +  2\\beta_2^2 + \\lambda(\\beta_1^2 + \\beta_2^2)$  \n",
    "\n",
    "Take derivative with respect to $\\beta_1$\n",
    "\n",
    "$0 = 4\\beta_1 + 4\\beta_2 + 2\\lambda\\beta_1$ \n",
    "\n",
    "Taking the derivate with respect to $\\beta_2$  \n",
    "$0 = 4\\beta_2 + 4\\beta_1 + 2\\lambda\\beta_2$  \n",
    "\n",
    "Setting them equal to each other we get that $\\beta_1 = \\beta_2$\n",
    "\n",
    "#### Now for lasso\n",
    "This answer below is likely wrong from what I've seen online but here is my solution regardless  \n",
    "$lasso = 2\\beta_1^2 + 4\\beta_1\\beta_2 +  2\\beta_2^2 + \\lambda(|\\beta_1| + |\\beta_2|)$\n",
    "\n",
    "Take derivative with respect to $\\beta_1$\n",
    "\n",
    "For $\\beta_1$ greater than 0  \n",
    "$0 = 4\\beta_1 + 4\\beta_2 + \\lambda$\n",
    "\n",
    "For $\\beta_1$ less than 0  \n",
    "$0 = 4\\beta_1 + 4\\beta_2 -\\lambda$\n",
    "\n",
    "Since this is symmetrical, the derivative will be the same for $\\beta_2$. We can form 2 combinations of equations to set equal to each other. \n",
    "\n",
    "The case when the $\\beta's$ have the same sign and when the don't. When they have the same sign, everything will cancel and we are left with 0 = 0 usually meaning an infinite number of solutions but since $\\lambda$ must be >=0 this is impossible.\n",
    "\n",
    "If we look at the case when the $\\beta's$ have a different sign then we see that this can happen only when $\\lambda = 0$ and then $\\beta_1 = -\\beta_2$\n",
    "\n",
    "\n",
    "## 6a\n",
    "$(y_1 - \\beta_1)^2 + \\lambda\\beta_1^2$\n",
    "\n",
    "Problem allows me to choose $y_1$ and $\\lambda$. I'll choose $y_1 = 5$ and $\\lambda = 3$"
   ]
  },
  {
   "cell_type": "code",
   "execution_count": 17,
   "metadata": {
    "collapsed": true
   },
   "outputs": [],
   "source": [
    "# plot this as a function of beta\n",
    "#(5 - beta)^2 + 3beta^2\n",
    "import numpy as np\n",
    "beta = np.linspace(-10, 10, 1000)\n",
    "y = 5\n",
    "lam = 3\n",
    "ridge = (y - beta)**2 + lam * beta**2"
   ]
  },
  {
   "cell_type": "code",
   "execution_count": 18,
   "metadata": {},
   "outputs": [],
   "source": [
    "import matplotlib.pyplot as plt\n",
    "%matplotlib inline"
   ]
  },
  {
   "cell_type": "code",
   "execution_count": 19,
   "metadata": {},
   "outputs": [
    {
     "data": {
      "text/plain": [
       "[<matplotlib.lines.Line2D at 0x111a32e10>]"
      ]
     },
     "execution_count": 19,
     "metadata": {},
     "output_type": "execute_result"
    },
    {
     "data": {
      "image/png": "[encoded data removed]",
      "text/plain": [
       "<matplotlib.figure.Figure at 0x111910860>"
      ]
     },
     "metadata": {},
     "output_type": "display_data"
    }
   ],
   "source": [
    "plt.plot(beta, ridge)"
   ]
  },
  {
   "cell_type": "code",
   "execution_count": 16,
   "metadata": {},
   "outputs": [
    {
     "data": {
      "text/plain": [
       "1.2512512512512508"
      ]
     },
     "execution_count": 16,
     "metadata": {},
     "output_type": "execute_result"
    }
   ],
   "source": [
    "# min from plot\n",
    "beta[np.argmin(ridge)]"
   ]
  },
  {
   "cell_type": "code",
   "execution_count": 22,
   "metadata": {},
   "outputs": [
    {
     "data": {
      "text/plain": [
       "1.25"
      ]
     },
     "execution_count": 22,
     "metadata": {},
     "output_type": "execute_result"
    }
   ],
   "source": [
    "# min from 6.14\n",
    "y / (1 + lam) # confirmed!"
   ]
  },
  {
   "cell_type": "markdown",
   "metadata": {},
   "source": [
    "# 6b\n",
    "do similar thing for lasso"
   ]
  },
  {
   "cell_type": "code",
   "execution_count": 24,
   "metadata": {},
   "outputs": [
    {
     "data": {
      "text/plain": [
       "[<matplotlib.lines.Line2D at 0x111b29d68>]"
      ]
     },
     "execution_count": 24,
     "metadata": {},
     "output_type": "execute_result"
    },
    {
     "data": {
      "image/png": "[encoded data removed]",
      "text/plain": [
       "<matplotlib.figure.Figure at 0x11182d9e8>"
      ]
     },
     "metadata": {},
     "output_type": "display_data"
    }
   ],
   "source": [
    "beta = np.linspace(-10, 10, 1000)\n",
    "y = 5\n",
    "lam = 3\n",
    "lasso = (y - beta)**2 + lam * abs(beta)\n",
    "plt.plot(beta, lasso)"
   ]
  },
  {
   "cell_type": "code",
   "execution_count": 25,
   "metadata": {},
   "outputs": [
    {
     "data": {
      "text/plain": [
       "3.493493493493494"
      ]
     },
     "execution_count": 25,
     "metadata": {},
     "output_type": "execute_result"
    }
   ],
   "source": [
    "beta[np.argmin(lasso)]"
   ]
  },
  {
   "cell_type": "code",
   "execution_count": 26,
   "metadata": {},
   "outputs": [
    {
     "data": {
      "text/plain": [
       "3.5"
      ]
     },
     "execution_count": 26,
     "metadata": {},
     "output_type": "execute_result"
    }
   ],
   "source": [
    "# min from 6.15\n",
    "# since y > lambda / 2 minimum should be at y - lambda / 2\n",
    "y - lam / 2 # confirmed!"
   ]
  },
  {
   "cell_type": "markdown",
   "metadata": {},
   "source": [
    "# 7\n",
    "nope"
   ]
  },
  {
   "cell_type": "markdown",
   "metadata": {},
   "source": [
    "# 8"
   ]
  },
  {
   "cell_type": "code",
   "execution_count": 27,
   "metadata": {
    "collapsed": true
   },
   "outputs": [],
   "source": [
    "x = np.random.randn(100)\n",
    "err = np.random.randn(100)"
   ]
  },
  {
   "cell_type": "code",
   "execution_count": 29,
   "metadata": {
    "collapsed": true
   },
   "outputs": [],
   "source": [
    "beta0, beta1, beta2, beta3 = -5, 1, 4, 3\n",
    "y = beta0 + beta1 * x + beta2 * x ** 2 + beta3 * x ** 3 + err"
   ]
  },
  {
   "cell_type": "code",
   "execution_count": 61,
   "metadata": {
    "collapsed": true
   },
   "outputs": [],
   "source": [
    "import pandas as pd\n",
    "from sklearn.linear_model import LinearRegression\n",
    "from itertools import combinations"
   ]
  },
  {
   "cell_type": "code",
   "execution_count": 135,
   "metadata": {
    "collapsed": true
   },
   "outputs": [],
   "source": [
    "from collections import OrderedDict"
   ]
  },
  {
   "cell_type": "code",
   "execution_count": 137,
   "metadata": {},
   "outputs": [
    {
     "data": {
      "text/plain": [
       "OrderedDict([('a', 534), ('b', 1)])"
      ]
     },
     "execution_count": 137,
     "metadata": {},
     "output_type": "execute_result"
    }
   ],
   "source": [
    "OrderedDict({'b': 1, 'a':534})"
   ]
  },
  {
   "cell_type": "code",
   "execution_count": 138,
   "metadata": {},
   "outputs": [],
   "source": [
    "df = pd.DataFrame({'x1': x, 'x2': x ** 2, 'x3': x**3, 'x4': x**4,'x5': x**5,\n",
    "                   'x6': x**6,'x7': x**7,'x8': x**8,'x9': x**9,'x9_10': x**10,\n",
    "                   'y':y})"
   ]
  },
  {
   "cell_type": "code",
   "execution_count": 139,
   "metadata": {},
   "outputs": [
    {
     "data": {
      "text/html": [
       "<div>\n",
       "<table border=\"1\" class=\"dataframe\">\n",
       "  <thead>\n",
       "    <tr style=\"text-align: right;\">\n",
       "      <th></th>\n",
       "      <th>x1</th>\n",
       "      <th>x2</th>\n",
       "      <th>x3</th>\n",
       "      <th>x4</th>\n",
       "      <th>x5</th>\n",
       "      <th>x6</th>\n",
       "      <th>x7</th>\n",
       "      <th>x8</th>\n",
       "      <th>x9</th>\n",
       "      <th>x9_10</th>\n",
       "      <th>y</th>\n",
       "    </tr>\n",
       "  </thead>\n",
       "  <tbody>\n",
       "    <tr>\n",
       "      <th>0</th>\n",
       "      <td>-1.418045</td>\n",
       "      <td>2.010851</td>\n",
       "      <td>-2.851477</td>\n",
       "      <td>4.043522</td>\n",
       "      <td>-5.733895</td>\n",
       "      <td>8.130920</td>\n",
       "      <td>-11.530009</td>\n",
       "      <td>16.350070</td>\n",
       "      <td>-23.185131</td>\n",
       "      <td>32.877555</td>\n",
       "      <td>-6.932372</td>\n",
       "    </tr>\n",
       "    <tr>\n",
       "      <th>1</th>\n",
       "      <td>-0.731774</td>\n",
       "      <td>0.535493</td>\n",
       "      <td>-0.391860</td>\n",
       "      <td>0.286753</td>\n",
       "      <td>-0.209838</td>\n",
       "      <td>0.153554</td>\n",
       "      <td>-0.112367</td>\n",
       "      <td>0.082227</td>\n",
       "      <td>-0.060172</td>\n",
       "      <td>0.044032</td>\n",
       "      <td>-4.695815</td>\n",
       "    </tr>\n",
       "    <tr>\n",
       "      <th>2</th>\n",
       "      <td>0.928318</td>\n",
       "      <td>0.861775</td>\n",
       "      <td>0.800001</td>\n",
       "      <td>0.742655</td>\n",
       "      <td>0.689421</td>\n",
       "      <td>0.640002</td>\n",
       "      <td>0.594125</td>\n",
       "      <td>0.551537</td>\n",
       "      <td>0.512002</td>\n",
       "      <td>0.475301</td>\n",
       "      <td>0.284306</td>\n",
       "    </tr>\n",
       "    <tr>\n",
       "      <th>3</th>\n",
       "      <td>-0.937052</td>\n",
       "      <td>0.878066</td>\n",
       "      <td>-0.822793</td>\n",
       "      <td>0.771000</td>\n",
       "      <td>-0.722467</td>\n",
       "      <td>0.676989</td>\n",
       "      <td>-0.634374</td>\n",
       "      <td>0.594441</td>\n",
       "      <td>-0.557022</td>\n",
       "      <td>0.521958</td>\n",
       "      <td>-5.008645</td>\n",
       "    </tr>\n",
       "    <tr>\n",
       "      <th>4</th>\n",
       "      <td>0.410450</td>\n",
       "      <td>0.168470</td>\n",
       "      <td>0.069148</td>\n",
       "      <td>0.028382</td>\n",
       "      <td>0.011649</td>\n",
       "      <td>0.004782</td>\n",
       "      <td>0.001963</td>\n",
       "      <td>0.000806</td>\n",
       "      <td>0.000331</td>\n",
       "      <td>0.000136</td>\n",
       "      <td>-4.763553</td>\n",
       "    </tr>\n",
       "  </tbody>\n",
       "</table>\n",
       "</div>"
      ],
      "text/plain": [
       "         x1        x2        x3        x4        x5        x6         x7  \\\n",
       "0 -1.418045  2.010851 -2.851477  4.043522 -5.733895  8.130920 -11.530009   \n",
       "1 -0.731774  0.535493 -0.391860  0.286753 -0.209838  0.153554  -0.112367   \n",
       "2  0.928318  0.861775  0.800001  0.742655  0.689421  0.640002   0.594125   \n",
       "3 -0.937052  0.878066 -0.822793  0.771000 -0.722467  0.676989  -0.634374   \n",
       "4  0.410450  0.168470  0.069148  0.028382  0.011649  0.004782   0.001963   \n",
       "\n",
       "          x8         x9      x9_10         y  \n",
       "0  16.350070 -23.185131  32.877555 -6.932372  \n",
       "1   0.082227  -0.060172   0.044032 -4.695815  \n",
       "2   0.551537   0.512002   0.475301  0.284306  \n",
       "3   0.594441  -0.557022   0.521958 -5.008645  \n",
       "4   0.000806   0.000331   0.000136 -4.763553  "
      ]
     },
     "execution_count": 139,
     "metadata": {},
     "output_type": "execute_result"
    }
   ],
   "source": [
    "df.head()"
   ]
  },
  {
   "cell_type": "code",
   "execution_count": 141,
   "metadata": {
    "collapsed": true
   },
   "outputs": [],
   "source": [
    "lr = LinearRegression()"
   ]
  },
  {
   "cell_type": "code",
   "execution_count": 142,
   "metadata": {
    "collapsed": true
   },
   "outputs": [],
   "source": [
    "X = df.iloc[:, :-1]\n",
    "y = df['y']"
   ]
  },
  {
   "cell_type": "code",
   "execution_count": 143,
   "metadata": {},
   "outputs": [
    {
     "data": {
      "text/plain": [
       "LinearRegression(copy_X=True, fit_intercept=True, n_jobs=1, normalize=False)"
      ]
     },
     "execution_count": 143,
     "metadata": {},
     "output_type": "execute_result"
    }
   ],
   "source": [
    "lr.fit(X, y)"
   ]
  },
  {
   "cell_type": "code",
   "execution_count": 144,
   "metadata": {},
   "outputs": [],
   "source": [
    "sigma2 = np.sum((lr.predict(X) - y) ** 2) / len(X)"
   ]
  },
  {
   "cell_type": "code",
   "execution_count": 157,
   "metadata": {},
   "outputs": [],
   "source": [
    "# best subset selection\n",
    "n = len(X)\n",
    "cp = []\n",
    "bic = []\n",
    "adj_r2 = []\n",
    "for i in range(1, 11):\n",
    "    current_cp = []\n",
    "    current_bic = []\n",
    "    current_adj_r2 = []\n",
    "    for comb in combinations(range(10), i):\n",
    "        X = df.iloc[:, comb]\n",
    "        lr.fit(X, y)\n",
    "        rss = np.sum((lr.predict(X) - y) ** 2)\n",
    "        tss = np.sum((y - y.mean()) ** 2)\n",
    "        d = len(comb)\n",
    "        current_cp.append(1/n * (rss + 2 * d * sigma2))\n",
    "        current_bic.append(1/n * (rss + np.log(n) * d * sigma2))\n",
    "        current_adj_r2.append(1 - rss / (n - d - 1) * (n - 1) / tss)\n",
    "        \n",
    "    cp.append(min(current_cp))\n",
    "    bic.append(min(current_bic))\n",
    "    adj_r2.append(max(current_adj_r2))"
   ]
  },
  {
   "cell_type": "code",
   "execution_count": 163,
   "metadata": {},
   "outputs": [
    {
     "data": {
      "image/png": "[encoded data removed]",
      "text/plain": [
       "<matplotlib.figure.Figure at 0x116d44208>"
      ]
     },
     "metadata": {},
     "output_type": "display_data"
    }
   ],
   "source": [
    "plt.figure(figsize=(10,8))\n",
    "plt.plot(range(1, 11), cp)\n",
    "plt.plot(range(1, 11), bic)\n",
    "plt.title(\"CP and BIC Best subset\");"
   ]
  },
  {
   "cell_type": "code",
   "execution_count": 165,
   "metadata": {},
   "outputs": [
    {
     "data": {
      "image/png": "[encoded data removed]",
      "text/plain": [
       "<matplotlib.figure.Figure at 0x1172652b0>"
      ]
     },
     "metadata": {},
     "output_type": "display_data"
    }
   ],
   "source": [
    "plt.figure(figsize=(10,8))\n",
    "plt.plot(range(1, 11), adj_r2)\n",
    "plt.title(\"Adjusted R^2\");"
   ]
  },
  {
   "cell_type": "code",
   "execution_count": 170,
   "metadata": {},
   "outputs": [
    {
     "data": {
      "text/plain": [
       "(2, 2, 2)"
      ]
     },
     "execution_count": 170,
     "metadata": {},
     "output_type": "execute_result"
    }
   ],
   "source": [
    "# all three agree on correct model!\n",
    "np.argmin(cp), np.argmin(bic), np.argmax(adj_r2)"
   ]
  },
  {
   "cell_type": "code",
   "execution_count": 199,
   "metadata": {},
   "outputs": [
    {
     "data": {
      "text/plain": [
       "[22.51756834202514,\n",
       " 1.882594294354783,\n",
       " 1.3573229341891735,\n",
       " 1.370422248578113,\n",
       " 1.382198238231232,\n",
       " 1.4023196274425198,\n",
       " 1.422240164598627,\n",
       " 1.446374415297578,\n",
       " 1.4702247937992023,\n",
       " 1.4942890813637786]"
      ]
     },
     "execution_count": 199,
     "metadata": {},
     "output_type": "execute_result"
    }
   ],
   "source": [
    "cp"
   ]
  },
  {
   "cell_type": "code",
   "execution_count": 202,
   "metadata": {},
   "outputs": [],
   "source": [
    "# forward selection. Looks at Cp each step and stops if it can't beat old best\n",
    "current_vars = []\n",
    "best_cp = 10000000\n",
    "prev_cp = best_cp\n",
    "best_cp = 1000000\n",
    "while best_cp < prev_cp:\n",
    "    prev_cp = best_cp\n",
    "    old_vars = current_vars.copy()\n",
    "    for i in range(10):\n",
    "        if i in current_vars:\n",
    "            continue\n",
    "        X = df.iloc[:, old_vars + [i]]\n",
    "        lr.fit(X, y)\n",
    "        rss = np.sum((lr.predict(X) - y) ** 2)\n",
    "        d = len(old_vars) + 1\n",
    "        cur_cp = 1/n * (rss + 2 * d * sigma2)\n",
    "        if cur_cp < best_cp:\n",
    "            current_vars = old_vars + [i]\n",
    "            best_cp = cur_cp"
   ]
  },
  {
   "cell_type": "code",
   "execution_count": 203,
   "metadata": {},
   "outputs": [
    {
     "data": {
      "text/plain": [
       "[2, 1, 0]"
      ]
     },
     "execution_count": 203,
     "metadata": {},
     "output_type": "execute_result"
    }
   ],
   "source": [
    "current_vars"
   ]
  },
  {
   "cell_type": "code",
   "execution_count": 204,
   "metadata": {},
   "outputs": [
    {
     "data": {
      "text/plain": [
       "1.3573229341891735"
      ]
     },
     "execution_count": 204,
     "metadata": {},
     "output_type": "execute_result"
    }
   ],
   "source": [
    "best_cp"
   ]
  },
  {
   "cell_type": "code",
   "execution_count": 207,
   "metadata": {},
   "outputs": [
    {
     "data": {
      "text/plain": [
       "[2, 0]"
      ]
     },
     "execution_count": 207,
     "metadata": {},
     "output_type": "execute_result"
    }
   ],
   "source": [
    "old_vars."
   ]
  },
  {
   "cell_type": "code",
   "execution_count": 212,
   "metadata": {},
   "outputs": [],
   "source": [
    "# backward selection. Looks at Cp each step and stops if it can't beat old best\n",
    "current_vars = list(range(10))\n",
    "best_cp = 10000000\n",
    "prev_cp = best_cp\n",
    "best_cp = 1000000\n",
    "while best_cp < prev_cp:\n",
    "    prev_cp = best_cp\n",
    "    old_vars = current_vars.copy()\n",
    "    for i in range(10):\n",
    "        if i not in current_vars:\n",
    "            continue\n",
    "        old_vars2 = old_vars.copy()\n",
    "        old_vars2.remove(i)\n",
    "        X = df.iloc[:, old_vars2]\n",
    "        lr.fit(X, y)\n",
    "        rss = np.sum((lr.predict(X) - y) ** 2)\n",
    "        d = len(old_vars) + 1\n",
    "        cur_cp = 1/n * (rss + 2 * d * sigma2)\n",
    "        if cur_cp < best_cp:\n",
    "            current_vars = old_vars2.copy()\n",
    "            best_cp = cur_cp"
   ]
  },
  {
   "cell_type": "code",
   "execution_count": 213,
   "metadata": {},
   "outputs": [
    {
     "data": {
      "text/plain": [
       "[0, 1, 2]"
      ]
     },
     "execution_count": 213,
     "metadata": {},
     "output_type": "execute_result"
    }
   ],
   "source": [
    "current_vars # same answer for backward selection"
   ]
  },
  {
   "cell_type": "code",
   "execution_count": 214,
   "metadata": {
    "collapsed": true
   },
   "outputs": [],
   "source": [
    "X = df.iloc[:, :-1]"
   ]
  },
  {
   "cell_type": "code",
   "execution_count": 260,
   "metadata": {
    "collapsed": true
   },
   "outputs": [],
   "source": [
    "from sklearn.cross_validation import train_test_split\n",
    "from sklearn.linear_model import Lasso"
   ]
  },
  {
   "cell_type": "code",
   "execution_count": 337,
   "metadata": {
    "collapsed": true
   },
   "outputs": [],
   "source": [
    "X_stand = X / X.std()"
   ]
  },
  {
   "cell_type": "code",
   "execution_count": 338,
   "metadata": {
    "collapsed": true
   },
   "outputs": [],
   "source": [
    "X_train, X_test, y_train, y_test = train_test_split(X_stand, y)"
   ]
  },
  {
   "cell_type": "code",
   "execution_count": 404,
   "metadata": {},
   "outputs": [],
   "source": [
    "alphas = np.linspace(.0001, .1, 1000)\n",
    "errors = []\n",
    "for alpha in alphas:\n",
    "    ls = Lasso(alpha, max_iter=100000, tol=.0001)\n",
    "    ls.fit(X_train, y_train)\n",
    "    errors.append(np.mean((ls.predict(X_test) - y_test) ** 2))"
   ]
  },
  {
   "cell_type": "code",
   "execution_count": 405,
   "metadata": {},
   "outputs": [
    {
     "data": {
      "text/plain": [
       "[<matplotlib.lines.Line2D at 0x11a4c5b38>]"
      ]
     },
     "execution_count": 405,
     "metadata": {},
     "output_type": "execute_result"
    },
    {
     "data": {
      "image/png": "[encoded data removed]",
      "text/plain": [
       "<matplotlib.figure.Figure at 0x119a44e10>"
      ]
     },
     "metadata": {},
     "output_type": "display_data"
    }
   ],
   "source": [
    "plt.plot(alphas, errors)"
   ]
  },
  {
   "cell_type": "code",
   "execution_count": 406,
   "metadata": {},
   "outputs": [
    {
     "data": {
      "text/plain": [
       "53"
      ]
     },
     "execution_count": 406,
     "metadata": {},
     "output_type": "execute_result"
    }
   ],
   "source": [
    "np.argmin(errors)"
   ]
  },
  {
   "cell_type": "code",
   "execution_count": 407,
   "metadata": {},
   "outputs": [
    {
     "data": {
      "text/plain": [
       "0.0054000000000000003"
      ]
     },
     "execution_count": 407,
     "metadata": {},
     "output_type": "execute_result"
    }
   ],
   "source": [
    "alphas[53]"
   ]
  },
  {
   "cell_type": "code",
   "execution_count": 409,
   "metadata": {},
   "outputs": [
    {
     "data": {
      "text/plain": [
       "Lasso(alpha=0.0054, copy_X=True, fit_intercept=True, max_iter=100000,\n",
       "   normalize=False, positive=False, precompute=False, random_state=None,\n",
       "   selection='cyclic', tol=0.0001, warm_start=False)"
      ]
     },
     "execution_count": 409,
     "metadata": {},
     "output_type": "execute_result"
    }
   ],
   "source": [
    "ls = Lasso(alpha=.0054, max_iter=100000, tol=.0001)\n",
    "ls.fit(X_stand, y)"
   ]
  },
  {
   "cell_type": "code",
   "execution_count": 410,
   "metadata": {},
   "outputs": [
    {
     "data": {
      "text/plain": [
       "(-5.1097354436480105,\n",
       " array([  1.27542131,   5.59847686,  11.0400535 ,  -0.32292878,\n",
       "         -0.        ,  -0.        ,  -0.        ,   0.        ,\n",
       "         -0.02047195,   0.        ]))"
      ]
     },
     "execution_count": 410,
     "metadata": {},
     "output_type": "execute_result"
    }
   ],
   "source": [
    "ls.intercept_, ls.coef_"
   ]
  },
  {
   "cell_type": "code",
   "execution_count": 411,
   "metadata": {},
   "outputs": [
    {
     "data": {
      "text/plain": [
       "(-5, 1, 4, 3)"
      ]
     },
     "execution_count": 411,
     "metadata": {},
     "output_type": "execute_result"
    }
   ],
   "source": [
    "# beta 3 was very far off\n",
    "beta0, beta1, beta2, beta3"
   ]
  },
  {
   "cell_type": "markdown",
   "metadata": {},
   "source": [
    "### f"
   ]
  },
  {
   "cell_type": "code",
   "execution_count": 609,
   "metadata": {
    "collapsed": true
   },
   "outputs": [],
   "source": [
    "beta0_7 = 3\n",
    "beta7 = -1"
   ]
  },
  {
   "cell_type": "code",
   "execution_count": 610,
   "metadata": {
    "collapsed": true
   },
   "outputs": [],
   "source": [
    "y_7 = beta0_7 + beta7 * x ** 7 + err"
   ]
  },
  {
   "cell_type": "code",
   "execution_count": 762,
   "metadata": {},
   "outputs": [],
   "source": [
    "df_7 = pd.DataFrame({'x1': x, 'x2': x ** 2, 'x3': x**3, 'x4': x**4,'x5': x**5,\n",
    "                   'x6': x**6,'x7': x**7,'x8': x**8,'x9': x**9,'x9_10': x**10,\n",
    "                   'y':y_7})"
   ]
  },
  {
   "cell_type": "code",
   "execution_count": 764,
   "metadata": {},
   "outputs": [
    {
     "data": {
      "text/plain": [
       "<matplotlib.collections.PathCollection at 0x11d145c50>"
      ]
     },
     "execution_count": 764,
     "metadata": {},
     "output_type": "execute_result"
    },
    {
     "data": {
      "image/png": "[encoded data removed]",
      "text/plain": [
       "<matplotlib.figure.Figure at 0x11d0e84a8>"
      ]
     },
     "metadata": {},
     "output_type": "display_data"
    }
   ],
   "source": [
    "plt.scatter(X['x7'], y_7)"
   ]
  },
  {
   "cell_type": "code",
   "execution_count": 766,
   "metadata": {},
   "outputs": [],
   "source": [
    "# best subset selection\n",
    "X = df_7.iloc[:, :-1]\n",
    "n = len(X)\n",
    "tss = np.sum((y_7 - y_7.mean()) ** 2)\n",
    "lr.fit(X,  y_7)\n",
    "sigma2 = np.sum((lr.predict(X) - y_7) ** 2) / len(X)\n",
    "cp = []\n",
    "bic = []\n",
    "adj_r2 = []\n",
    "for i in range(1, 11):\n",
    "    current_cp = []\n",
    "    current_bic = []\n",
    "    current_adj_r2 = []\n",
    "    for comb in combinations(range(10), i):\n",
    "        X = df_7.iloc[:, comb]\n",
    "        lr.fit(X, y_7)\n",
    "        rss = np.sum((lr.predict(X) - y_7) ** 2)\n",
    "        \n",
    "        d = len(comb)\n",
    "        current_cp.append(1/n * (rss + 2 * d * sigma2))\n",
    "        current_bic.append(1/n * (rss + np.log(n) * d * sigma2))\n",
    "        current_adj_r2.append(1 - rss / (n - d - 1) * (n - 1) / tss)\n",
    "        \n",
    "    cp.append(min(current_cp))\n",
    "    bic.append(min(current_bic))\n",
    "    adj_r2.append(max(current_adj_r2))"
   ]
  },
  {
   "cell_type": "code",
   "execution_count": 767,
   "metadata": {},
   "outputs": [
    {
     "data": {
      "image/png": "[encoded data removed]",
      "text/plain": [
       "<matplotlib.figure.Figure at 0x11d244b38>"
      ]
     },
     "metadata": {},
     "output_type": "display_data"
    }
   ],
   "source": [
    "# best model is with one predictor\n",
    "plt.plot(range(10), cp)\n",
    "bic.append(min(current_bic))"
   ]
  },
  {
   "cell_type": "code",
   "execution_count": 768,
   "metadata": {
    "collapsed": true
   },
   "outputs": [],
   "source": [
    "# lasso\n",
    "X = df_7.iloc[:, :-1]\n",
    "X_stand = X / X.std()\n",
    "X_train, X_test, y_train, y_test = train_test_split(X_stand, y_7)"
   ]
  },
  {
   "cell_type": "code",
   "execution_count": 801,
   "metadata": {},
   "outputs": [],
   "source": [
    "alphas = np.linspace(.001, 50, 100)\n",
    "errors = []\n",
    "ls = Lasso(alpha, max_iter=1000000000, tol=.000001)\n",
    "\n",
    "for alpha in alphas:\n",
    "    ls = Lasso(alpha=alpha)\n",
    "    ls.fit(X_train, y_train)\n",
    "    errors.append(np.mean((ls.predict(X_test) - y_test) ** 2))"
   ]
  },
  {
   "cell_type": "code",
   "execution_count": 802,
   "metadata": {},
   "outputs": [
    {
     "data": {
      "text/plain": [
       "[<matplotlib.lines.Line2D at 0x11d75a5c0>]"
      ]
     },
     "execution_count": 802,
     "metadata": {},
     "output_type": "execute_result"
    },
    {
     "data": {
      "image/png": "[encoded data removed]",
      "text/plain": [
       "<matplotlib.figure.Figure at 0x11d4ffcf8>"
      ]
     },
     "metadata": {},
     "output_type": "display_data"
    }
   ],
   "source": [
    "plt.plot(alphas, errors)"
   ]
  },
  {
   "cell_type": "code",
   "execution_count": 803,
   "metadata": {},
   "outputs": [
    {
     "data": {
      "text/plain": [
       "5.0514040404040408"
      ]
     },
     "execution_count": 803,
     "metadata": {},
     "output_type": "execute_result"
    }
   ],
   "source": [
    "best_alpha = alphas[np.argmin(errors)]\n",
    "best_alpha"
   ]
  },
  {
   "cell_type": "code",
   "execution_count": 804,
   "metadata": {},
   "outputs": [
    {
     "data": {
      "text/plain": [
       "Lasso(alpha=5.0514040404040408, copy_X=True, fit_intercept=True,\n",
       "   max_iter=100000, normalize=False, positive=False, precompute=False,\n",
       "   random_state=None, selection='cyclic', tol=1e-06, warm_start=False)"
      ]
     },
     "execution_count": 804,
     "metadata": {},
     "output_type": "execute_result"
    }
   ],
   "source": [
    "ls = Lasso(alpha=best_alpha, max_iter=100000, tol=.000001)\n",
    "ls.fit(X_stand, y_7)"
   ]
  },
  {
   "cell_type": "code",
   "execution_count": 826,
   "metadata": {},
   "outputs": [
    {
     "data": {
      "text/plain": [
       "array([  -0.        ,    0.        ,   -0.        ,    0.        ,\n",
       "         -0.        ,    0.        , -291.64697067,    0.        ,\n",
       "         -0.        ,    0.        ])"
      ]
     },
     "execution_count": 826,
     "metadata": {},
     "output_type": "execute_result"
    }
   ],
   "source": [
    "# coefficient doesn't resemble model at all. but these have been scaled by\n",
    "# their  std.  must divide by std\n",
    "ls.coef_"
   ]
  },
  {
   "cell_type": "code",
   "execution_count": 827,
   "metadata": {},
   "outputs": [
    {
     "data": {
      "text/plain": [
       "x1      -0.000000\n",
       "x2       0.000000\n",
       "x3      -0.000000\n",
       "x4       0.000000\n",
       "x5      -0.000000\n",
       "x6       0.000000\n",
       "x7      -0.983162\n",
       "x8       0.000000\n",
       "x9      -0.000000\n",
       "x9_10    0.000000\n",
       "dtype: float64"
      ]
     },
     "execution_count": 827,
     "metadata": {},
     "output_type": "execute_result"
    }
   ],
   "source": [
    "# that's better - very close to actual value of -1\n",
    "ls.coef_ / X.std()"
   ]
  },
  {
   "cell_type": "code",
   "execution_count": 831,
   "metadata": {},
   "outputs": [
    {
     "data": {
      "text/plain": [
       "3.4337561281669586"
      ]
     },
     "execution_count": 831,
     "metadata": {},
     "output_type": "execute_result"
    }
   ],
   "source": [
    "# also look at intercept\n",
    "ls.intercept_"
   ]
  },
  {
   "cell_type": "markdown",
   "metadata": {},
   "source": [
    "# 9"
   ]
  },
  {
   "cell_type": "code",
   "execution_count": 833,
   "metadata": {},
   "outputs": [
    {
     "name": "stdout",
     "output_type": "stream",
     "text": [
      "Chapter 1 and 2.ipynb Chapter 5.ipynb       \u001b[34mimages\u001b[m\u001b[m\r\n",
      "Chapter 3.ipynb       Chapter 6.ipynb\r\n",
      "Chapter 4.ipynb       \u001b[34mdata\u001b[m\u001b[m\r\n"
     ]
    }
   ],
   "source": [
    "!ls"
   ]
  },
  {
   "cell_type": "code",
   "execution_count": 834,
   "metadata": {
    "collapsed": true
   },
   "outputs": [],
   "source": [
    "college = pd.read_csv('data/college.csv')"
   ]
  },
  {
   "cell_type": "code",
   "execution_count": 837,
   "metadata": {},
   "outputs": [
    {
     "data": {
      "text/plain": [
       "Yes    565\n",
       "No     212\n",
       "Name: Private, dtype: int64"
      ]
     },
     "execution_count": 837,
     "metadata": {},
     "output_type": "execute_result"
    }
   ],
   "source": [
    "college['Private'].value_counts()"
   ]
  },
  {
   "cell_type": "code",
   "execution_count": 869,
   "metadata": {
    "collapsed": true
   },
   "outputs": [],
   "source": [
    "college['private_yes'] = (college['Private'] == 'Yes') * 1"
   ]
  },
  {
   "cell_type": "code",
   "execution_count": 870,
   "metadata": {
    "collapsed": true
   },
   "outputs": [],
   "source": [
    "X = college.iloc[:, 3:]"
   ]
  },
  {
   "cell_type": "code",
   "execution_count": 871,
   "metadata": {},
   "outputs": [],
   "source": [
    "y = college['Apps']"
   ]
  },
  {
   "cell_type": "code",
   "execution_count": 872,
   "metadata": {
    "collapsed": true
   },
   "outputs": [],
   "source": [
    "X_train, X_test, y_train, y_test = train_test_split(X, y)"
   ]
  },
  {
   "cell_type": "code",
   "execution_count": 873,
   "metadata": {},
   "outputs": [
    {
     "data": {
      "text/plain": [
       "LinearRegression(copy_X=True, fit_intercept=True, n_jobs=1, normalize=False)"
      ]
     },
     "execution_count": 873,
     "metadata": {},
     "output_type": "execute_result"
    }
   ],
   "source": [
    "lr = LinearRegression()\n",
    "lr.fit(X_train, y_train)"
   ]
  },
  {
   "cell_type": "code",
   "execution_count": 874,
   "metadata": {},
   "outputs": [
    {
     "data": {
      "text/plain": [
       "994125.5199805849"
      ]
     },
     "execution_count": 874,
     "metadata": {},
     "output_type": "execute_result"
    }
   ],
   "source": [
    "# Error\n",
    "np.mean((lr.predict(X_test) - y_test) ** 2)"
   ]
  },
  {
   "cell_type": "code",
   "execution_count": 875,
   "metadata": {
    "collapsed": true
   },
   "outputs": [],
   "source": [
    "from sklearn.linear_model import RidgeCV"
   ]
  },
  {
   "cell_type": "code",
   "execution_count": 900,
   "metadata": {},
   "outputs": [],
   "source": [
    "X_std = X.iloc[:, :-1].std()"
   ]
  },
  {
   "cell_type": "code",
   "execution_count": 901,
   "metadata": {},
   "outputs": [],
   "source": [
    "X_std['private_yes'] = 1"
   ]
  },
  {
   "cell_type": "code",
   "execution_count": 902,
   "metadata": {},
   "outputs": [
    {
     "data": {
      "text/plain": [
       "Accept         2451.113971\n",
       "Enroll          929.176190\n",
       "Top10perc        17.640364\n",
       "Top25perc        19.804778\n",
       "F.Undergrad    4850.420531\n",
       "P.Undergrad    1522.431887\n",
       "Outstate       4023.016484\n",
       "Room.Board     1096.696416\n",
       "Books           165.105360\n",
       "Personal        677.071454\n",
       "PhD              16.328155\n",
       "Terminal         14.722359\n",
       "S.F.Ratio         3.958349\n",
       "perc.alumni      12.391801\n",
       "Expend         5221.768440\n",
       "Grad.Rate        17.177710\n",
       "private_yes       1.000000\n",
       "dtype: float64"
      ]
     },
     "execution_count": 902,
     "metadata": {},
     "output_type": "execute_result"
    }
   ],
   "source": [
    "X_std"
   ]
  },
  {
   "cell_type": "code",
   "execution_count": 906,
   "metadata": {},
   "outputs": [
    {
     "data": {
      "text/plain": [
       "RidgeCV(alphas=array([  1.00000e-02,   1.10090e-01, ...,   9.98999e+01,   1.00000e+02]),\n",
       "    cv=10, fit_intercept=True, gcv_mode=None, normalize=False,\n",
       "    scoring=None, store_cv_values=False)"
      ]
     },
     "execution_count": 906,
     "metadata": {},
     "output_type": "execute_result"
    }
   ],
   "source": [
    "rcv = RidgeCV(alphas=np.linspace(.01, 100, 1000), cv=10)\n",
    "rcv.fit(X / X_std, y)"
   ]
  }
 ],
 "metadata": {
  "anaconda-cloud": {},
  "kernelspec": {
   "display_name": "Python 3",
   "language": "python",
   "name": "python3"
  },
  "language_info": {
   "codemirror_mode": {
    "name": "ipython",
    "version": 3
   },
   "file_extension": ".py",
   "mimetype": "text/x-python",
   "name": "python",
   "nbconvert_exporter": "python",
   "pygments_lexer": "ipython3",
   "version": "3.6.1"
  }
 },
 "nbformat": 4,
 "nbformat_minor": 1
}
