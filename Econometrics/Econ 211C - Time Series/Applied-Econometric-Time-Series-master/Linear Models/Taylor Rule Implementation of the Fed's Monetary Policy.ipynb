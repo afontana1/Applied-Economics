{
 "cells": [
  {
   "cell_type": "markdown",
   "metadata": {
    "collapsed": false
   },
   "source": [
    "# Taylor Rule Implementation of the Fed's Monetary Policy\n",
    "\n",
    "*A Taylor rule is a monetary policy that stipulates how much the central bank should change the nominal interest rate in response to changes in inflation, output and other economic conditions. It is used to establish the monetary policy rate (federal funds rate for U.S. case). It is part of the debate rules version discretion in monetary theory. Should central banks disclose the algorithm for setting their policy rate or not? There are advantages and disadvantages. Some say that higher transparency may reduce the element of surprise of monetary policy decisions and therefore reduce the impact of them. *\n",
    "\n",
    "\n",
    "$i_{t} = r^{*} + \\pi^{T} + \\alpha_{x}x_{t} + \\alpha_{\\pi}(\\pi_{t} - \\pi^{T})$\n",
    "           \n",
    "           \n",
    "$i_{t}$ = Federal Funds interest rate in the U.S.\n",
    "\n",
    "$\\pi^{T}$ = Targeted level of average inflation (Taylor asumed it at 2%)\n",
    "\n",
    "$r^{*}$ = Equilibrium interest rate (Taylor assumed it at 2%)\n",
    "\n",
    "$x_{t}$ = Output gap (the difference bewteen GDP and potential GDP)\n",
    "\n",
    "Potential GDP = The output level that does not generate infationary pressures\n",
    "\n",
    "## The U.S. Potential Gap\n",
    "\n",
    "Potential GDP is a theoretic concept we can not calculate it directly, we can estimate it. It is that level of output that does not generate inflationary pressures. It is the long-term level of GDP. \n",
    "\n",
    "There are different ways of calculating it: stats filters (HP, band pass), DSGE, SVAR, Production Function approach.\n",
    "\n",
    "**a) FRED Database:** \n",
    "\n",
    "http://research.stlouisfed.org/fred2/series/GDPPOT/\n",
    "\n",
    "\n",
    "**b) Calculate it:** \n",
    "\n",
    "Hodrick-Prescott (HP) Statistical Filter"
   ]
  },
  {
   "cell_type": "markdown",
   "metadata": {
    "collapsed": false
   },
   "source": [
    "## a) FRED Database"
   ]
  },
  {
   "cell_type": "code",
   "execution_count": 0,
   "metadata": {
    "collapsed": false
   },
   "outputs": [
   ],
   "source": [
    "import numpy as np\n",
    "import statsmodels.api as sm\n",
    "\n",
    "#Federal funds rate\n",
    "r=[0.0568, 0.0627, 0.0652, 0.0647, 0.0559, 0.0433, 0.035, 0.0213, 0.0173, 0.0175, 0.0174,\n",
    "0.0144, 0.0125, 0.0125, 0.0102, 0.01, 0.01, 0.0101, 0.0143, 0.0195, 0.0247, 0.0294, 0.0346,\n",
    "0.0398, 0.0446, 0.0491, 0.0525, 0.0525, 0.0526, 0.0525, 0.0507, 0.045, 0.0318, 0.0209, 0.0194,\n",
    "0.0051, 0.0018, 0.0018, 0.0016, 0.0012, 0.0013, 0.0019, 0.0019, 0.0019, 0.0016, 0.0009, 0.0008,\n",
    "0.0007, 0.001, 0.0015, 0.0014, 0.0016, 0.0014, 0.0012, 0.0008, 0.0009, 0.0007, 0.0009, 0.0009]\n"
   ]
  },
  {
   "cell_type": "markdown",
   "metadata": {
    "collapsed": false
   },
   "source": [
    "## b) Hodrick-Prescott (HP) Statistical Filter:\n",
    "\n",
    "The Hodrick-Prescott (HP) filter refers to a data-smoothing technique. The HP filter is commonly applied during analysis to remove short-term fluctuations associated with the business cycle. Removal of these short-term fluctuations reveals long-term trends. This can help with economic or other forecasting associated with the business cycle.\n",
    "\n",
    "This filter determines the long-term trend of a time series by discounting the importance of short-term price fluctuations.\n",
    "\n",
    "It tends to have favorable results if the noise is distributed normally, and when the analysis being conducted is historical.\n",
    "\n",
    "### To Calculate Potential Output\n",
    "\n",
    "GDP is separated into a cyclical and a trend component by minimizing a loss\n",
    "function.\n",
    "\n",
    "Takes into consideration time series data (U.S. GDP) and a parameter\n",
    "lambda – Hodrick-Prescott smoothing parameter. We have to\n",
    "indicate lambda’s value before the filter calculates the new values. A value of 1600\n",
    "is suggested for quarterly data. Ravn and Uhlig suggest using a value of 6.25\n",
    "(1600/256) for annual data and 129600 (1600*81) for monthly data.\n"
   ]
  },
  {
   "cell_type": "code",
   "execution_count": 62,
   "metadata": {
    "collapsed": false
   },
   "outputs": [
    {
     "data": {
      "text/plain": [
       "array([ 0.00320611,  0.01638169,  0.01286827,  0.01270561,  0.00488941,\n",
       "        0.00592046, -0.00536153, -0.01108455, -0.01039922, -0.01303624,\n",
       "       -0.01578882, -0.02204202, -0.02322403, -0.02347425, -0.01421158,\n",
       "       -0.01084925, -0.00950361, -0.00662421, -0.00449068, -0.0018185 ,\n",
       "        0.00525666,  0.00520725,  0.01071545,  0.01220017,  0.02065966,\n",
       "        0.02083949,  0.01841236,  0.01999594,  0.02266136,  0.02731929,\n",
       "        0.02951823,  0.02999359,  0.02190834,  0.0252097 ,  0.0210722 ,\n",
       "       -0.00478438, -0.02202943, -0.03079537, -0.03354782, -0.02687418,\n",
       "       -0.02514988, -0.01744653, -0.01272404, -0.00815343, -0.01468573,\n",
       "       -0.0075059 , -0.00692572, -0.00205428,  0.00077768,  0.00127567,\n",
       "        0.00377073, -0.00072288,  0.00112772, -0.00040113,  0.00606821,\n",
       "        0.00951361, -0.00121383,  0.00658804,  0.01086012])"
      ]
     },
     "execution_count": 62,
     "metadata": {
     },
     "output_type": "execute_result"
    }
   ],
   "source": [
    "import statsmodels.tsa.filters as filter\n",
    "\n",
    "gdp2=[9.213436, 9.237790, 9.245457, 9.256489, 9.259902, 9.272225, 9.272329,\n",
    "9.278121, 9.290482, 9.299706, 9.309018, 9.315043, 9.326353, 9.338795, 9.360922,\n",
    "9.377278, 9.391695, 9.407665, 9.422844, 9.438448, 9.458270, 9.470710, 9.488381,\n",
    "9.501636, 9.521414, 9.532409, 9.540255, 9.551544, 9.563333, 9.576531, 9.586699,\n",
    "9.594602, 9.593451, 9.603260, 9.605284, 9.585339, 9.573865, 9.570836, 9.573879,\n",
    "9.586480, 9.594316, 9.608351, 9.619645, 9.631036, 9.631574, 9.646070, \n",
    "9.654199, 9.666834, 9.677622, 9.686245, 9.697011, 9.700912, 9.711261, 9.718314,\n",
    "9.733429, 9.745564, 9.743554, 9.760091, 9.773105]\n",
    "\n",
    "filter.hp_filter.hpfilter(gdp2, 1600)\n",
    "\n",
    "output_gap = filter.hp_filter.hpfilter(gdp2, 1600)[0]\n",
    "output_gap"
   ]
  },
  {
   "cell_type": "markdown",
   "metadata": {
    "collapsed": false
   },
   "source": [
    "hpfilter function returns array one and array two:\n",
    "array one – is the first and represents the cycle array;\n",
    "array two – is the trend array (estimated potential GDP in our case). Potential GDP\n",
    "could also be seen as GDP’s long-term trend.\n",
    "\n",
    "Use the output gap calculated from the filter in the matrix x down below."
   ]
  },
  {
   "cell_type": "code",
   "execution_count": 63,
   "metadata": {
    "collapsed": false
   },
   "outputs": [
   ],
   "source": [
    "import numpy as np\n",
    "import statsmodels.api as sm\n",
    "\n",
    "#Federal funds rate\n",
    "r=[0.0568, 0.0627, 0.0652, 0.0647, 0.0559, 0.0433, 0.035, 0.0213, 0.0173, 0.0175, 0.0174,\n",
    "0.0144, 0.0125, 0.0125, 0.0102, 0.01, 0.01, 0.0101, 0.0143, 0.0195, 0.0247, 0.0294, 0.0346,\n",
    "0.0398, 0.0446, 0.0491, 0.0525, 0.0525, 0.0526, 0.0525, 0.0507, 0.045, 0.0318, 0.0209, 0.0194,\n",
    "0.0051, 0.0018, 0.0018, 0.0016, 0.0012, 0.0013, 0.0019, 0.0019, 0.0019, 0.0016, 0.0009, 0.0008,\n",
    "0.0007, 0.001, 0.0015, 0.0014, 0.0016, 0.0014, 0.0012, 0.0008, 0.0009, 0.0007, 0.0009, 0.0009]\n",
    "\n",
    "#Matrix of output gap\n",
    "x=[[0.012580, 0.012934, 0.014689, 0.014435, 0.014098, 0.013249, 0.006780, -0.001249, -\n",
    "0.007681, -0.006824, -0.004237, 0.002535, 0.009764, 0.000059, 0.002169, 0.000017, -\n",
    "0.001823, 0.007859, 0.006752, 0.013851, 0.010354, 0.009229, 0.018196, 0.016745, 0.016909,\n",
    "0.019243, 0.013403, -0.000346, 0.004315, 0.006651, 0.003488, 0.020315, 0.021372,\n",
    "0.023106, 0.032525, -0.004042, -0.021842, -0.029423, -0.036070, -0.005125,\n",
    "0.003369, -0.002141, -0.007713, -0.007845, 0.001211, 0.013752, 0.017318, \n",
    "0.013364, 0.008060, -0.000820, -0.003133, -0.000982, -0.003263, -0.005736, -\n",
    "0.004618, -0.007800, -0.005996, 0.000583, -0.002092], [0.003206, 0.016382,\n",
    "0.012868, 0.012706, 0.004889, 0.005921, -0.005362, -0.011085, -0.010400, -0.013037, -\n",
    "0.015789, -0.022042, -0.023224, -0.023474, -0.014212, -0.010850, -0.009504, -0.006624, -\n",
    "0.004491, -0.001819, 0.005257, 0.005208, 0.010716, 0.012200, 0.020660, 0.020840, 0.018413,\n",
    "0.019996, 0.022661, 0.027319, 0.029519, 0.029994, 0.021908, 0.025210, 0.021072, -0.004784,\n",
    "-0.022030, -0.030795, -0.033548, -0.026875, -0.025150, -0.017446, -0.012724, -0.015224, -\n",
    "0.007616, -0.007506, -0.006926, -0.002054, 0.000837, 0.001276, 0.003770, -0.000723,\n",
    "0.001128, -0.000401, 0.006068, 0.009514, -0.001214, 0.006588, 0.010861]]\n"
   ]
  },
  {
   "cell_type": "markdown",
   "metadata": {
    "collapsed": false
   },
   "source": [
    "## Define the Taylor Rule Function\n",
    "\n",
    "The matrix X is made up of two components:\n",
    "\n",
    "- The Output Gap ( x [ 0 ] ) :\n",
    "    ln(GDP) - ln(Real Potential GDP)\n",
    "\n",
    "- Consumer Price Index ( x [ 1 ] ) :\n",
    "    Percentage change from a year ago done quarterly\n",
    "    \n",
    "### Timeframe\n",
    " \n",
    " 1999 Q4 - 2014 Q2"
   ]
  },
  {
   "cell_type": "code",
   "execution_count": 52,
   "metadata": {
    "collapsed": false,
    "scrolled": true
   },
   "outputs": [
    {
     "name": "stdout",
     "output_type": "stream",
     "text": [
      "                            OLS Regression Results                            \n",
      "==============================================================================\n",
      "Dep. Variable:                      y   R-squared:                       0.436\n",
      "Model:                            OLS   Adj. R-squared:                  0.415\n",
      "Method:                 Least Squares   F-statistic:                     21.61\n",
      "Date:                Wed, 18 Dec 2019   Prob (F-statistic):           1.11e-07\n",
      "Time:                        21:23:49   Log-Likelihood:                 160.84\n",
      "No. Observations:                  59   AIC:                            -315.7\n",
      "Df Residuals:                      56   BIC:                            -309.4\n",
      "Df Model:                           2                                         \n",
      "Covariance Type:            nonrobust                                         \n",
      "==============================================================================\n",
      "                 coef    std err          t      P>|t|      [0.025      0.975]\n",
      "------------------------------------------------------------------------------\n",
      "x1             0.6859      0.173      3.958      0.000       0.339       1.033\n",
      "x2             0.3360      0.228      1.474      0.146      -0.121       0.793\n",
      "const          0.0191      0.002      8.293      0.000       0.014       0.024\n",
      "==============================================================================\n",
      "Omnibus:                        3.513   Durbin-Watson:                   0.138\n",
      "Prob(Omnibus):                  0.173   Jarque-Bera (JB):                1.990\n",
      "Skew:                           0.184   Prob(JB):                        0.370\n",
      "Kurtosis:                       2.179   Cond. No.                         124.\n",
      "==============================================================================\n",
      "\n",
      "Warnings:\n",
      "[1] Standard Errors assume that the covariance matrix of the errors is correctly specified.\n"
     ]
    }
   ],
   "source": [
    "def TaylorRule(r,x):\n",
    "    \n",
    "    # Define a column vector of ones with length equal to the length of the rows of x\n",
    "    ones = np.ones(len(x[0]))\n",
    "    \n",
    "    \"\"\"Column stack is like a cbind() in R\"\"\"\n",
    "    \"\"\"add_constant is the same as column stack\"\"\"\n",
    "    #Bind the columns with the first row of the matrix X\n",
    "    X = sm.add_constant(np.column_stack((x[0], ones)))\n",
    "    \n",
    "    # Column bind each element of the CPI(x[1:] as an array) to X\n",
    "    # For loop way of doing it same thing as binding the columns as before\n",
    "    for element in x[1:]:\n",
    "        X = sm.add_constant(np.column_stack((element, X)))\n",
    "\n",
    "    # Run the OLS regression\n",
    "    results = sm.OLS(r, X).fit()\n",
    "    return results\n",
    "    \n",
    "print(TaylorRule(r,x ).summary())\n"
   ]
  },
  {
   "cell_type": "markdown",
   "metadata": {
    "collapsed": false
   },
   "source": [
    "## Calculating Federal Funds Rate using Taylor Rule\n",
    "\n",
    "Taylor rules show if the federal funds rate in a certain period is calibrated adequately\n",
    "considering the inflationary pressures in the economy.\n",
    "\n",
    "- Obtained without the HP Filter:\n",
    "\n",
    "$rTaylorRule1=0.6859x1+0.3360x2+0.0191$\n",
    "\n",
    "- Obtained with the HP Filter:\n",
    "\n",
    "$rTaylorRule2=-0.1064x1+0.8681x2+0.0090$"
   ]
  },
  {
   "cell_type": "markdown",
   "metadata": {
    "collapsed": false
   },
   "source": [
    "## Appendix\n",
    "\n",
    "Trials I used to better understand the code given"
   ]
  },
  {
   "cell_type": "code",
   "execution_count": 12,
   "metadata": {
    "collapsed": false
   },
   "outputs": [
    {
     "data": {
      "text/plain": [
       "array([[0.01258 , 1.      ],\n",
       "       [0.012934, 1.      ],\n",
       "       [0.014689, 1.      ],\n",
       "       [0.014435, 1.      ],\n",
       "       [0.014098, 1.      ]])"
      ]
     },
     "execution_count": 12,
     "metadata": {
     },
     "output_type": "execute_result"
    }
   ],
   "source": [
    "X = sm.add_constant(np.column_stack((x[0], ones)))\n",
    "X[:5]"
   ]
  },
  {
   "cell_type": "code",
   "execution_count": 14,
   "metadata": {
    "collapsed": false
   },
   "outputs": [
    {
     "data": {
      "text/plain": [
       "array([[0.01258 , 1.      ],\n",
       "       [0.012934, 1.      ],\n",
       "       [0.014689, 1.      ],\n",
       "       [0.014435, 1.      ],\n",
       "       [0.014098, 1.      ]])"
      ]
     },
     "execution_count": 14,
     "metadata": {
     },
     "output_type": "execute_result"
    }
   ],
   "source": [
    "    ones = np.ones(len(x[0]))\n",
    "    X = np.column_stack((x[0], ones))\n",
    "    X[:5]"
   ]
  },
  {
   "cell_type": "code",
   "execution_count": 3,
   "metadata": {
    "collapsed": false
   },
   "outputs": [
    {
     "data": {
      "text/plain": [
       "array([[1, 2],\n",
       "       [2, 3],\n",
       "       [3, 4]])"
      ]
     },
     "execution_count": 3,
     "metadata": {
     },
     "output_type": "execute_result"
    }
   ],
   "source": [
    "a = np.array((1,2,3))\n",
    "b =  np.array((2,3,4))\n",
    "np.column_stack((a,b))"
   ]
  },
  {
   "cell_type": "code",
   "execution_count": 47,
   "metadata": {
    "collapsed": false
   },
   "outputs": [
    {
     "data": {
      "text/plain": [
       "[[0.003206,\n",
       "  0.016382,\n",
       "  0.012868,\n",
       "  0.012706,\n",
       "  0.004889,\n",
       "  0.005921,\n",
       "  -0.005362,\n",
       "  -0.011085,\n",
       "  -0.0104,\n",
       "  -0.013037,\n",
       "  -0.015789,\n",
       "  -0.022042,\n",
       "  -0.023224,\n",
       "  -0.023474,\n",
       "  -0.014212,\n",
       "  -0.01085,\n",
       "  -0.009504,\n",
       "  -0.006624,\n",
       "  -0.004491,\n",
       "  -0.001819,\n",
       "  0.005257,\n",
       "  0.005208,\n",
       "  0.010716,\n",
       "  0.0122,\n",
       "  0.02066,\n",
       "  0.02084,\n",
       "  0.018413,\n",
       "  0.019996,\n",
       "  0.022661,\n",
       "  0.027319,\n",
       "  0.029519,\n",
       "  0.029994,\n",
       "  0.021908,\n",
       "  0.02521,\n",
       "  0.021072,\n",
       "  -0.004784,\n",
       "  -0.02203,\n",
       "  -0.030795,\n",
       "  -0.033548,\n",
       "  -0.026875,\n",
       "  -0.02515,\n",
       "  -0.017446,\n",
       "  -0.012724,\n",
       "  -0.015224,\n",
       "  -0.007616,\n",
       "  -0.007506,\n",
       "  -0.006926,\n",
       "  -0.002054,\n",
       "  0.000837,\n",
       "  0.001276,\n",
       "  0.00377,\n",
       "  -0.000723,\n",
       "  0.001128,\n",
       "  -0.000401,\n",
       "  0.006068,\n",
       "  0.009514,\n",
       "  -0.001214,\n",
       "  0.006588,\n",
       "  0.010861]]"
      ]
     },
     "execution_count": 47,
     "metadata": {
     },
     "output_type": "execute_result"
    }
   ],
   "source": [
    "# As an array\n",
    "x[1:]"
   ]
  },
  {
   "cell_type": "code",
   "execution_count": 48,
   "metadata": {
    "collapsed": false
   },
   "outputs": [
    {
     "data": {
      "text/plain": [
       "[0.003206,\n",
       " 0.016382,\n",
       " 0.012868,\n",
       " 0.012706,\n",
       " 0.004889,\n",
       " 0.005921,\n",
       " -0.005362,\n",
       " -0.011085,\n",
       " -0.0104,\n",
       " -0.013037,\n",
       " -0.015789,\n",
       " -0.022042,\n",
       " -0.023224,\n",
       " -0.023474,\n",
       " -0.014212,\n",
       " -0.01085,\n",
       " -0.009504,\n",
       " -0.006624,\n",
       " -0.004491,\n",
       " -0.001819,\n",
       " 0.005257,\n",
       " 0.005208,\n",
       " 0.010716,\n",
       " 0.0122,\n",
       " 0.02066,\n",
       " 0.02084,\n",
       " 0.018413,\n",
       " 0.019996,\n",
       " 0.022661,\n",
       " 0.027319,\n",
       " 0.029519,\n",
       " 0.029994,\n",
       " 0.021908,\n",
       " 0.02521,\n",
       " 0.021072,\n",
       " -0.004784,\n",
       " -0.02203,\n",
       " -0.030795,\n",
       " -0.033548,\n",
       " -0.026875,\n",
       " -0.02515,\n",
       " -0.017446,\n",
       " -0.012724,\n",
       " -0.015224,\n",
       " -0.007616,\n",
       " -0.007506,\n",
       " -0.006926,\n",
       " -0.002054,\n",
       " 0.000837,\n",
       " 0.001276,\n",
       " 0.00377,\n",
       " -0.000723,\n",
       " 0.001128,\n",
       " -0.000401,\n",
       " 0.006068,\n",
       " 0.009514,\n",
       " -0.001214,\n",
       " 0.006588,\n",
       " 0.010861]"
      ]
     },
     "execution_count": 48,
     "metadata": {
     },
     "output_type": "execute_result"
    }
   ],
   "source": [
    "# as a column vector\n",
    "x[1]"
   ]
  }
 ],
 "metadata": {
  "kernelspec": {
   "display_name": "Python 3 (Anaconda 2019)",
   "env": {
    "LD_LIBRARY_PATH": "/ext/anaconda-2019.03/lib",
    "PROJ_LIB": "/ext/anaconda-2019.03/share/proj",
    "PYTHONHOME": "/ext/anaconda-2019.03/lib/python3.7",
    "PYTHONPATH": "/ext/anaconda-2019.03/lib/python3.7:/ext/anaconda-2019.03/lib/python3.7/site-packages"
   },
   "language": "python",
   "metadata": {
    "cocalc": {
     "description": "Python/R distribution for data science",
     "priority": 5,
     "url": "https://www.anaconda.com/distribution/"
    }
   },
   "name": "anaconda2019"
  },
  "language_info": {
   "codemirror_mode": {
    "name": "ipython",
    "version": 3
   },
   "file_extension": ".py",
   "mimetype": "text/x-python",
   "name": "python",
   "nbconvert_exporter": "python",
   "pygments_lexer": "ipython3",
   "version": "3.7.3"
  }
 },
 "nbformat": 4,
 "nbformat_minor": 0
}
