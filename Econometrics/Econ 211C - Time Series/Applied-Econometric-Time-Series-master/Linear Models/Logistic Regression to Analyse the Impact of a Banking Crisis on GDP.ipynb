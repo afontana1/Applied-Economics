{
 "cells": [
  {
   "cell_type": "markdown",
   "metadata": {},
   "source": [
    "# Logistic Regression to Analyse the Impact of a Banking Crisis on GDP\n",
    "\n",
    "gdp - Real Gross Domestic Product, 3 Decimal, Index 2007:Q4=100, Quarterly, Seasonally Adjusted Annual Rate\n",
    "\n",
    "loans - Total Value of Loans for All C&I Loans, Large Domestic Banks, Index 2007:Q4=100, Quarterly, Not Seasonally Adjusted\n",
    "\n",
    "Source: FRED Database\n",
    "\n",
    "Period: 2000Q1 – 2014Q2\n",
    "\n",
    "We introduced y variable which takes two values: \n",
    "0 – no banking crisis\n",
    "1 – there is a banking crisis\n",
    "\n",
    "We also transformed **house variable** in order to have the same index with the other variables 2007Q4=100. \n",
    "\n",
    "**We assume that there is a banking crisis in U.S. in the following period: 2007Q1 – 2007Q4.**\n",
    "Therefore y will be 1 in this period and 0 for the remaining timeframe considered in the analysis. \n",
    "\n",
    "y will be the dependent variable while the aforementioned indicators will be considered independent variables in our analysis.  We will present several examples.\n",
    "\n"
   ]
  },
  {
   "cell_type": "code",
   "execution_count": 1,
   "metadata": {},
   "outputs": [],
   "source": [
    "# y – dependent variable\n",
    "# gdp, loans – independent variables\n",
    "# Logit function from statsmodels module has only two parameters (the dependent variable and independent variable)\n",
    "# We have two independent variables in our study. \n",
    "# Therefore the independent variables should be introduced in the model as a matrix\n",
    "\n",
    "import numpy as np\n",
    "import statsmodels.api as sm\n",
    "\n",
    "y=[0, 0,  0, 0, 0, 0, 0, 0, 0, 0, 0, 0, 0, 0, 0, 0, 0, 0, 0, 0, 0, 0, 0, 0, 0, 0, 0, 0, 1, 1, 1, 1, 0, 0, 0, 0, 0, 0, 0, 0, 0, 0, 0, 0, 0, 0, 0, 0, 0, 0, 0, 0, 0, 0, 0, 0, 0, 0]\n",
    "x=[[0.8400, 0.8410, 0.8458, 0.8433, 0.8478, 0.8451, 0.8475, 0.8553, 0.8600, 0.8642, 0.8647, 0.8692,  0.8773, 0.8920, 0.9024, 0.9076, 0.9143, 0.9226, 0.9305, 0.9405, 0.9454, 0.9533, 0.9588, 0.9703, 0.9732, 0.9740, 0.9817, 0.9823, 0.9898, 0.9964, 1.0000, 0.9932, 0.9981, 0.9933, 0.9723, 0.9589, 0.9576, 0.9607, 0.9700, 0.9742, 0.9836, 0.9902, 0.9965, 0.9926, 0.9999, 1.0020, 1.0132, 1.0189, 1.0230, 1.0293, 1.0295, 1.0365, 1.0410, 1.0526, 1.0617, 1.0560, 1.0679, 1.0782], [2.1377, 1.7244, 1.7713, 1.5850, 1.3928, 1.5905, 1.1429, 1.2677, 0.9152, 0.9998, 1.0871, 0.9180, 0.9078, 1.0279, 1.1027, 0.9522, 1.0707, 1.0604, 1.3191, 0.7886, 1.0183, 1.2805, 0.7950, 1.0778, 1.6230, 1.1756, 1.1364, 1.2762, 0.9740, 1.0541, 1.0000, 0.9922, 0.9519, 1.0305, 1.1343, 0.8713, 0.6972, 0.7014, 0.6067, 0.7315, 0.8146, 0.8551, 1.0076, 1.0082, 1.1001, 1.3489, 0.8725, 0.9364, 1.1933, 0.9009, 1.4321, 1.2489, 1.0982, 1.4832, 1.4900, 2.4451, 1.2149, 1.3928]]\n"
   ]
  },
  {
   "cell_type": "code",
   "execution_count": 6,
   "metadata": {},
   "outputs": [
    {
     "name": "stdout",
     "output_type": "stream",
     "text": [
      "                            OLS Regression Results                            \n",
      "==============================================================================\n",
      "Dep. Variable:                      y   R-squared:                       0.034\n",
      "Model:                            OLS   Adj. R-squared:                 -0.001\n",
      "Method:                 Least Squares   F-statistic:                    0.9729\n",
      "Date:                Thu, 19 Dec 2019   Prob (F-statistic):              0.384\n",
      "Time:                        12:46:20   Log-Likelihood:                -1.6675\n",
      "No. Observations:                  58   AIC:                             9.335\n",
      "Df Residuals:                      55   BIC:                             15.52\n",
      "Df Model:                           2                                         \n",
      "Covariance Type:            nonrobust                                         \n",
      "==============================================================================\n",
      "                 coef    std err          t      P>|t|      [0.025      0.975]\n",
      "------------------------------------------------------------------------------\n",
      "x1            -0.0777      0.100     -0.777      0.440      -0.278       0.123\n",
      "x2             0.5372      0.498      1.078      0.286      -0.462       1.536\n",
      "const         -0.3555      0.502     -0.708      0.482      -1.362       0.651\n",
      "==============================================================================\n",
      "Omnibus:                       61.381   Durbin-Watson:                   0.554\n",
      "Prob(Omnibus):                  0.000   Jarque-Bera (JB):              284.171\n",
      "Skew:                           3.208   Prob(JB):                     1.96e-62\n",
      "Kurtosis:                      11.742   Cond. No.                         38.0\n",
      "==============================================================================\n",
      "\n",
      "Warnings:\n",
      "[1] Standard Errors assume that the covariance matrix of the errors is correctly specified.\n"
     ]
    }
   ],
   "source": [
    "# Logistic Regression \n",
    "\n",
    "def regression_m(y,x):\n",
    "    #Add ones because they represent the constant (interecpt) in the model\n",
    "    ones = np.ones(len(x[0])) \n",
    "    #Column stack cbind as tuples\n",
    "    X = sm.add_constant(np.column_stack((x[0], ones)))\n",
    "    X = sm.add_constant(np.column_stack((x[1], X)))\n",
    "    results = sm.OLS(y, X).fit()\n",
    "    return results\n",
    "\n",
    "print(regression_m(y,x).summary())"
   ]
  }
 ],
 "metadata": {
  "kernelspec": {
   "display_name": "Python 3 (Anaconda 2019)",
   "language": "python",
   "name": "anaconda2019"
  },
  "language_info": {
   "codemirror_mode": {
    "name": "ipython",
    "version": 3
   },
   "file_extension": ".py",
   "mimetype": "text/x-python",
   "name": "python",
   "nbconvert_exporter": "python",
   "pygments_lexer": "ipython3",
   "version": "3.7.3"
  }
 },
 "nbformat": 4,
 "nbformat_minor": 1
}
