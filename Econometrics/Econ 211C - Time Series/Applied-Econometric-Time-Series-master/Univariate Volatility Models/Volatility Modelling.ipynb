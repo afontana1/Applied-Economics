{
 "cells": [
  {
   "cell_type": "markdown",
   "metadata": {},
   "source": [
    "# Volatility Modelling\n",
    "\n",
    "We can capture the volatility clustering characteristic of financial asset returns by using the GARCH-Family approach to cature the varying nature of volatility. \n",
    "\n",
    "Using this approach, the conditional variance given in the past observations is available to us.\n",
    "\n",
    "<p style = \"text-align:center\">  $y_t = \\rho y_t-1 + \\epsilon_t$ </p>\n",
    "\n",
    "<p style = \"text-align:center\">  $\\epsilon_t = \\sigma_t u_t$ </p>\n",
    "\n",
    "<p style = \"text-align:center\">  $\\sigma_t^2 = \\omega + {\\sum}_{i=1}^{p}\\alpha_i \\epsilon^2_{t-i} + \\sum_{j = 1}^{q} \\beta_j \\sigma^2_{t-j}$ </p>\n",
    "\n",
    "$\\epsilon_t:$ is the disturbance term of a conditional mean equation (usually an ARMA process)\n",
    "\n",
    "$u_t \\sim \\text{i.i.d}(0,d)$\n",
    "\n",
    "**ARCH Effects:**\n",
    "\n",
    "${\\sum}_{i=1}^{p}\\alpha_i \\epsilon^2_{t-i}$\n",
    "\n",
    "**GARCH Effects:**\n",
    "\n",
    "$\\sum_{j = 1}^{q} \\beta_j \\sigma^2_{t-j}$\n",
    "\n",
    "The **conditional volatility** process is determined linearly by its own lagged values $\\sigma^2_{t-j}$ and the lagged squared observations (the values of $\\epsilon_t$)\n",
    "\n",
    "### GARCH(1,1)\n",
    "\n",
    "In empirical studies, GARCH(1,1) usually provides an appropriate fit to the data. \n",
    "\n",
    "<p style = \"text-align:center\">  $\\sigma_t^2 = \\omega + \\alpha_1 \\epsilon^2_{t-1} + \\beta_1\\sigma^2_{t-1}$ </p>\n",
    "\n",
    "$ \\text{Conditional Variance} =\n",
    "    \\begin{cases}\n",
    "      \\frac{\\omega}{1-\\alpha-\\beta} & \\text{weighted average of the long-run variance}\\\\\n",
    "      \\sigma^2_{t-1} & \\text{the last predicted variance}\\\\\n",
    "      \\epsilon^2_{t-1} & \\text{the new information }\n",
    "    \\end{cases}$\n",
    "    \n",
    "**GARCH(1,1):** Captures autoregression in volatility (volatility clustering) and leptokurtic \\asset return distributions, however, it is symmetric and cannot capture asymmetries in distributions and leverage effects.\n",
    "\n",
    "### Emergence of Volatility Clustering:\n",
    "\n",
    "A large positive (negative) shock in $u_t$ increases (decreases) the value of $\\epsilon_t$ which in turn increases (decreases) the value of $\\sigma_{t+1}$, resulting in a larger (smaller) value for $\\epsilon_{t+1}$. Therefore, the shock is persistent.\n",
    "\n",
    "**a. A large positive shock in $u_t$:** $\\uparrow$ $\\epsilon_t$ : $\\uparrow$ $\\sigma_{t+1}$ : $\\uparrow$ $\\epsilon_{t+_1}$\n",
    "\n",
    "**b. A large negative shock in $u_t$:** $\\downarrow$ $\\epsilon_t$ : $\\downarrow$ $\\sigma_{t+1}$ : $\\downarrow$ $\\epsilon_{t+_1}$\n",
    "\n",
    "# Practical Example\n",
    "\n",
    "Analysis of the return series of the daily closing prices of Apple Inc. based on the period Jan 01, 2006 to March 31, 2014\n",
    "\n",
    "## Procedure\n",
    "\n",
    "*Fitting, filtering, forecasting and simulating*\n",
    "\n",
    "**1. Exploratory Analysis:**\n",
    "\n",
    "- Persistence in square returns (ACF, PACF)\n",
    "\n",
    "- Leptokurtic distribution (plot distribution vs Gaussian distribution)\n",
    "\n",
    "**2. Fit the Data with a GARCH(p,q) Model:**\n",
    "\n",
    "- Specify the model\n",
    "\n",
    "- Fit the model to the data by estimating the unkown parameters using MLE\n",
    "\n",
    "**3. Analyse the News Impact Curves for Volatility Asymmetries and Leverage Effects:**\n",
    "\n",
    "- The news impact curve is a good measure to see if a particular process requires an additional extension to its model to capture the leverage effects\n",
    "\n",
    "- Goal is to estimate GARCH-Family extensions and analyse the resulting news impact curve\n",
    "\n",
    "- a. EGARCH Models: Capture asymmmetries in a log conditional variance model with using absolute value terms to account for the asymmetry in response to shocks in the conditional variance (posive vs negative)\n",
    "\n",
    "- b. T-GARCH Models: if a certain threshold is met, namely $\\epsilon_{t-1} < 0$ then the indicator funtion will be positive and increase the effect of negative shocks according to the leverage effect\n",
    "\n",
    "**4. Forecast:**\n",
    "\n",
    "Choose the best model and:\n",
    "\n",
    "- Specify the parameters\n",
    "\n",
    "- Simulate \n",
    "\n",
    "- Fit the parameters to the model\n",
    "\n",
    "- Forecast the fitted model with n out of sample periods\n",
    "\n",
    "\n",
    "## 1. Exploratory Analysis\n",
    "\n",
    "### Analyse the Persistence in the ACF and PACF"
   ]
  },
  {
   "cell_type": "code",
   "execution_count": 3,
   "metadata": {},
   "outputs": [
    {
     "data": {
      "text/html": [
       "'AAPL'"
      ],
      "text/latex": [
       "'AAPL'"
      ],
      "text/markdown": [
       "'AAPL'"
      ],
      "text/plain": [
       "[1] \"AAPL\""
      ]
     },
     "metadata": {},
     "output_type": "display_data"
    },
    {
     "data": {
      "image/png": "[encoded data removed]",
      "text/plain": [
       "Plot with title \"AAPL Square Returns PACF\""
      ]
     },
     "metadata": {},
     "output_type": "display_data"
    }
   ],
   "source": [
    "library(quantmod)\n",
    "library(rugarch)\n",
    "\n",
    "# Load Apple data and calculate log-returns\n",
    "\n",
    "getSymbols(\"AAPL\", from = \"2006-01-01\", to = \"2014-03-31\")\n",
    "ret.aapl <- dailyReturn(Cl(AAPL), type = \"log\")\n",
    "\n",
    "par(mfrow=c(2,2))\n",
    "acf(ret.aapl, main = \"AAPL Returns ACF\")\n",
    "pacf(ret.aapl, main = \"AAPL Returns PACF\")\n",
    "acf(ret.aapl^2, main = \"AAPL Square Returns ACF\")\n",
    "pacf(ret.aapl^2, main = \"AAPL Square Returns PACF\")"
   ]
  },
  {
   "cell_type": "markdown",
   "metadata": {},
   "source": [
    "There is a clear sign of persistence in the square returns of AAPL with an ACF which has over 30 significant lags.\n",
    "\n",
    "### Analyse the Normality Assumption"
   ]
  },
  {
   "cell_type": "code",
   "execution_count": 4,
   "metadata": {},
   "outputs": [
    {
     "data": {
      "image/png": "[encoded data removed]",
      "text/plain": [
       "Plot with title \"Density of AAPL Returns\""
      ]
     },
     "metadata": {},
     "output_type": "display_data"
    }
   ],
   "source": [
    "## define mean and sfgd\n",
    "\n",
    "m = mean(ret.aapl)\n",
    "s = sd(ret.aapl)\n",
    "\n",
    "par(mfrow=c(1,2))\n",
    "\n",
    "# construct distribution\n",
    "hist(ret.aapl, nclass = 40, freq = FALSE, main = \"Distribution of AAPL Returns\")\n",
    "curve(dnorm(x, mean = m, sd = s), add=TRUE, col = \"red\")\n",
    "\n",
    "# construct density\n",
    "plot(density(ret.aapl), main = \"Density of AAPL Returns\")\n",
    "curve(dnorm(x, mean = m, sd = s), add=TRUE, col = \"red\")"
   ]
  },
  {
   "cell_type": "markdown",
   "metadata": {},
   "source": [
    "A we can see, AAPL returns display leptokurtic features and have fat tails.\n",
    "\n",
    "### Conclusion\n",
    "\n",
    "AAPL returns display **persistence** in high lags and are **leptokurtic** features. These combined are an excellent basis for using the GARCH family of volatility models."
   ]
  },
  {
   "cell_type": "code",
   "execution_count": 21,
   "metadata": {
    "scrolled": false
   },
   "outputs": [
    {
     "data": {
      "image/png": "[encoded data removed]",
      "text/plain": [
       "Plot with title \"[2006-01-03/2014-03-28]\""
      ]
     },
     "metadata": {},
     "output_type": "display_data"
    }
   ],
   "source": [
    "chartSeries(ret.aapl)"
   ]
  },
  {
   "cell_type": "markdown",
   "metadata": {},
   "source": [
    "## 2. Fitting the Data with GARCH Models\n",
    "\n",
    "### Fitting a sGARCH(1,1) Model\n",
    "\n",
    "Conidtional mean equation only has one constant $\\mu$."
   ]
  },
  {
   "cell_type": "code",
   "execution_count": 4,
   "metadata": {},
   "outputs": [
    {
     "data": {
      "text/html": [
       "<dl class=dl-horizontal>\n",
       "\t<dt>mu</dt>\n",
       "\t\t<dd>0.00192563533323365</dd>\n",
       "\t<dt>omega</dt>\n",
       "\t\t<dd>1.03512365260583e-05</dd>\n",
       "\t<dt>alpha1</dt>\n",
       "\t\t<dd>0.0817576635913398</dd>\n",
       "\t<dt>beta1</dt>\n",
       "\t\t<dd>0.898699278404026</dd>\n",
       "</dl>\n"
      ],
      "text/latex": [
       "\\begin{description*}\n",
       "\\item[mu] 0.00192563533323365\n",
       "\\item[omega] 1.03512365260583e-05\n",
       "\\item[alpha1] 0.0817576635913398\n",
       "\\item[beta1] 0.898699278404026\n",
       "\\end{description*}\n"
      ],
      "text/markdown": [
       "mu\n",
       ":   0.00192563533323365omega\n",
       ":   1.03512365260583e-05alpha1\n",
       ":   0.0817576635913398beta1\n",
       ":   0.898699278404026\n",
       "\n"
      ],
      "text/plain": [
       "          mu        omega       alpha1        beta1 \n",
       "1.925635e-03 1.035124e-05 8.175766e-02 8.986993e-01 "
      ]
     },
     "metadata": {},
     "output_type": "display_data"
    }
   ],
   "source": [
    "# Specify Model\n",
    "garch11.spec <- ugarchspec(variance.model = list(model=\"sGARCH\", garchOrder = c(1,1)),\n",
    "                          mean.model = list(armaOrder = c(0,0)))\n",
    "\n",
    "# Fit model by estimating the unkown parameters by MLE\n",
    "\n",
    "aapl.garch11.fit <- ugarchfit(spec=garch11.spec, data = ret.aapl)\n",
    "\n",
    "coef(aapl.garch11.fit)"
   ]
  },
  {
   "cell_type": "markdown",
   "metadata": {},
   "source": [
    "Standard GARCH models are able to capture fat tails and volatility clustering but to explain asymmetries caused by the leverage effect we need more advanced models.\n",
    "\n",
    "## 3. News Impact Curves and Leverage Effects Models\n",
    "\n",
    "**Accounting for Volatility Asymmetries:** \n",
    "\n",
    "Are useful tools to visualise the magnitude of volatility changes in response to shocks, i.e. shock as news influencing the market movements.\n",
    "\n",
    "-They plot the **change in conditional volatility** against shocks in different sizes, and can concisely express the asymmetric effects in volatility\n",
    "\n",
    "- The news impact curve is a good measure to see if a particular process requires an additional extension to its model to capture the leverage effects\n",
    "\n",
    "- Goal is to estimate GARCH-Family extensions and analyse the resulting news impact curve"
   ]
  },
  {
   "cell_type": "code",
   "execution_count": 9,
   "metadata": {},
   "outputs": [
    {
     "data": {
      "image/png": "[encoded data removed]",
      "text/plain": [
       "Plot with title \"GARCH(1,1) - News Impact\""
      ]
     },
     "metadata": {},
     "output_type": "display_data"
    }
   ],
   "source": [
    "# calculate the news impact numerically for the previously defined GARCH(1,1)  \n",
    "ni.garch11 <- newsimpact(aapl.garch11.fit)\n",
    "\n",
    "# Plot the news impact on AAPL stock\n",
    "plot(ni.garch11$zx, ni.garch11$zy, type = \"l\", lwd=2, col = \"blue\", main = \"GARCH(1,1) - News Impact\",\n",
    "    ylab = ni.garch11$yexpr, xlab = ni.garch11$xexpr)"
   ]
  },
  {
   "cell_type": "markdown",
   "metadata": {},
   "source": [
    "As we can see and expected, no asymmetries are present in response to positive and negative shock using the GARCH(1,1) models, therefore, we turn to models that incorporate these effects.\n",
    "\n",
    "### a. The Exponential GARCH Model (EGARCH)\n",
    "\n",
    "This approach directly models the logaritm of the conditional volatility.\n",
    "\n",
    "<p style = \"text-align:center\"> $\\epsilon_t = \\sigma u_t$ </p>\n",
    "\n",
    "<p style = \"text-align:center\"> $log(\\sigma^2_t) = \\omega + \\sum_{i = 1}^p (\\alpha_i u_{t-i} + \\gamma (|u_{t-i}|- E|u_{t-i}|)) + \\sum_{j = 1}^q \\beta_j log(\\sigma^2_{t-j})$ </p>\n",
    "\n",
    "The model formulation allows multiplicative dynamics in evolving the volatility process.\n",
    "\n",
    "Asymmetry is captures by the $\\alpha_i$ parameter:\n",
    "- A **negative** value indicates that the process reacts more to negative shocks, as observable in read data sets\n",
    "\n",
    "### Fitting the EGARCH\n",
    "\n",
    "To fit an EGARCH Model, the only parameter to be changed in a model specification is to set the EGARCH model type. *by running the fitting function, the additional parameter will be estimated*"
   ]
  },
  {
   "cell_type": "code",
   "execution_count": 10,
   "metadata": {},
   "outputs": [
    {
     "data": {
      "text/html": [
       "<dl class=dl-horizontal>\n",
       "\t<dt>mu</dt>\n",
       "\t\t<dd>0.00145036036626856</dd>\n",
       "\t<dt>omega</dt>\n",
       "\t\t<dd>-0.292450449371363</dd>\n",
       "\t<dt>alpha1</dt>\n",
       "\t\t<dd>-0.0930755711600224</dd>\n",
       "\t<dt>beta1</dt>\n",
       "\t\t<dd>0.961815744785034</dd>\n",
       "\t<dt>gamma1</dt>\n",
       "\t\t<dd>0.176436032169661</dd>\n",
       "</dl>\n"
      ],
      "text/latex": [
       "\\begin{description*}\n",
       "\\item[mu] 0.00145036036626856\n",
       "\\item[omega] -0.292450449371363\n",
       "\\item[alpha1] -0.0930755711600224\n",
       "\\item[beta1] 0.961815744785034\n",
       "\\item[gamma1] 0.176436032169661\n",
       "\\end{description*}\n"
      ],
      "text/markdown": [
       "mu\n",
       ":   0.00145036036626856omega\n",
       ":   -0.292450449371363alpha1\n",
       ":   -0.0930755711600224beta1\n",
       ":   0.961815744785034gamma1\n",
       ":   0.176436032169661\n",
       "\n"
      ],
      "text/plain": [
       "         mu       omega      alpha1       beta1      gamma1 \n",
       " 0.00145036 -0.29245045 -0.09307557  0.96181574  0.17643603 "
      ]
     },
     "metadata": {},
     "output_type": "display_data"
    }
   ],
   "source": [
    "# Specify EGARCH(1,1) model with only a constant in the mean equation\n",
    "\n",
    "egarch11.spec <- ugarchspec(variance.model = list(model = \"eGARCH\", garchOrder = c(1,1)),\n",
    "                            mean.model = list(armaOrder = c(0,0)))\n",
    "\n",
    "aapl.egarch11.fit <- ugarchfit(spec = egarch11.spec, data = ret.aapl)\n",
    "coef(aapl.egarch11.fit)"
   ]
  },
  {
   "cell_type": "markdown",
   "metadata": {},
   "source": [
    "### Analyzing the News Impact Curve\n",
    "\n",
    "News impact curve reflects the strong asymmetry in response of conditional volatility to shocks and confirms the necessity of asymmetric models."
   ]
  },
  {
   "cell_type": "code",
   "execution_count": 11,
   "metadata": {},
   "outputs": [
    {
     "data": {
      "image/png": "[encoded data removed]",
      "text/plain": [
       "Plot with title \"EGARCH(1,1) - News Imacpt\""
      ]
     },
     "metadata": {},
     "output_type": "display_data"
    }
   ],
   "source": [
    "ni.egarch11 <- newsimpact(aapl.egarch11.fit)\n",
    "\n",
    "plot(ni.egarch11$zx, ni.egarch11$zy, type = \"l\", lwd = 2, col = \"blue\", \n",
    "    main = \"EGARCH(1,1) - News Imacpt\", ylab = ni.egarch11$yexpr, xlab = ni.egarch11$xepr)"
   ]
  },
  {
   "cell_type": "markdown",
   "metadata": {},
   "source": [
    "### b. The Threshold GARCH Model (T-GARCH)\n",
    "\n",
    "The TGARCH specification involves an explicit distinction of model parameters above and below a certain threshold. The TGARCH is also a sub-model of *asymmetric power ARCH class* of models.\n",
    "\n",
    "<p style = \"text-align:center\"> $ \\epsilon_t = \\sigma_t u_t$ </p> \n",
    "\n",
    "<p style = \"text-align:center\"> $ \\sigma_t^2 = \\omega + \\sum_{i = 1}^p (\\alpha_i + \\gamma I_{t-i})\\epsilon^2_{t-i} + \\sum_{j = 1}^q \\beta_j \\sigma_{t-j}^2$ </p>\n",
    "\n",
    "$I_{t-i} = \\begin{cases} 1 & \\text{if} \\epsilon_{t-1} < 0 \\\\ 0 & \\text{if} \\epsilon_{t-1} \\geq 0 \\end{cases}$\n",
    "\n",
    "**The ARCH coefficient** depends on the sign of the previous error terms. If $\\gamma_1$ is positive then a negative error term will have a higher impact on conditional volatility incorporating the leverage effect in the model.\n",
    "\n",
    "- Basiclally if a certain threshold is met, namely $\\epsilon_{t-1} < 0$ then the indicator funtion will be positive and increase the effect of negative shocks according to the leverage effect"
   ]
  },
  {
   "cell_type": "code",
   "execution_count": 5,
   "metadata": {},
   "outputs": [
    {
     "data": {
      "text/html": [
       "<dl class=dl-horizontal>\n",
       "\t<dt>mu</dt>\n",
       "\t\t<dd>0.00144984721817216</dd>\n",
       "\t<dt>omega</dt>\n",
       "\t\t<dd>0.000896900449956254</dd>\n",
       "\t<dt>alpha1</dt>\n",
       "\t\t<dd>0.0999218993211203</dd>\n",
       "\t<dt>beta1</dt>\n",
       "\t\t<dd>0.880477359537958</dd>\n",
       "\t<dt>eta11</dt>\n",
       "\t\t<dd>0.579712428368022</dd>\n",
       "</dl>\n"
      ],
      "text/latex": [
       "\\begin{description*}\n",
       "\\item[mu] 0.00144984721817216\n",
       "\\item[omega] 0.000896900449956254\n",
       "\\item[alpha1] 0.0999218993211203\n",
       "\\item[beta1] 0.880477359537958\n",
       "\\item[eta11] 0.579712428368022\n",
       "\\end{description*}\n"
      ],
      "text/markdown": [
       "mu\n",
       ":   0.00144984721817216omega\n",
       ":   0.000896900449956254alpha1\n",
       ":   0.0999218993211203beta1\n",
       ":   0.880477359537958eta11\n",
       ":   0.579712428368022\n",
       "\n"
      ],
      "text/plain": [
       "          mu        omega       alpha1        beta1        eta11 \n",
       "0.0014498472 0.0008969004 0.0999218993 0.8804773595 0.5797124284 "
      ]
     },
     "metadata": {},
     "output_type": "display_data"
    }
   ],
   "source": [
    "# Specify TGARCH(1,1) model with only constant in mean equation\n",
    "\n",
    "tgarch11.spec <- ugarchspec(variance.model = list(model = \"fGARCH\", submodel = \"TGARCH\",\n",
    "                                                  garchOrder=c(1,1)), \n",
    "                           mean.model = list(armaOrder = c(0,0)))\n",
    "# Fit the model\n",
    "\n",
    "aapl.tgarch11.fit <- ugarchfit(spec = tgarch11.spec, data = ret.aapl)\n",
    "\n",
    "# get coef\n",
    "\n",
    "coef(aapl.tgarch11.fit)"
   ]
  },
  {
   "cell_type": "markdown",
   "metadata": {},
   "source": [
    "Now we can analyse the news impact curve. Thanks to the specific functional form, the curve for a T-GARCH is less flexible in representing different responses as there is a kink at the zero-point:"
   ]
  },
  {
   "cell_type": "code",
   "execution_count": 7,
   "metadata": {},
   "outputs": [
    {
     "data": {
      "image/png": "[encoded data removed]",
      "text/plain": [
       "Plot with title \"TGARCH(1,1) - News Impact\""
      ]
     },
     "metadata": {},
     "output_type": "display_data"
    }
   ],
   "source": [
    "ni.tgarch11 <- newsimpact(aapl.tgarch11.fit)\n",
    "plot(ni.tgarch11$zx, ni.tgarch11$zy, main = \"TGARCH(1,1) - News Impact\", xlab = ni.tgarch11$xexpr,\n",
    "    ylab = ni.tgarch11$yexpr, col = \"blue\", type = \"l\", lwd = 2)"
   ]
  },
  {
   "cell_type": "markdown",
   "metadata": {},
   "source": [
    "## Simulation and Forecasting\n",
    "\n",
    "After specifying the model, we can simulate a time series with a given conditional mean and GARCH specification by specifying also some fixed parameters."
   ]
  },
  {
   "cell_type": "code",
   "execution_count": 23,
   "metadata": {},
   "outputs": [],
   "source": [
    "garch11.spec <- ugarchspec(variance.model = list(garchOrder = c(1,1)),\n",
    "                          mean.model = list(armaOrder = c(0,0)),\n",
    "                          #fixed.pars = list(mu = 0, omega = 0.1, alpha1=0.1, beta1=0.7)\n",
    "                          )\n",
    "# Simulation with the following code\n",
    "#garch11.sim <- ugarchpath(garch11.spec, n.sim=1000)"
   ]
  },
  {
   "cell_type": "markdown",
   "metadata": {},
   "source": [
    "Once we have estimated the model and a fitted object, forecasting the conditional volatility based on that is as follows."
   ]
  },
  {
   "cell_type": "code",
   "execution_count": 24,
   "metadata": {},
   "outputs": [
    {
     "data": {
      "image/png": "[encoded data removed]",
      "text/plain": [
       "Plot with title \"Forecast Rolling Sigma vs |Series|\""
      ]
     },
     "metadata": {},
     "output_type": "display_data"
    }
   ],
   "source": [
    "aapl.garch11.fit <- ugarchfit(spec = garch11.spec, data = ret.aapl, out.sample=20)\n",
    "\n",
    "aapl.garch11.fcst <- ugarchforecast(aapl.garch11.fit, n.ahead = 10, n.roll=10)\n",
    "\n",
    "## Plotting provides a selection menu to plot either the predicted time series or the \n",
    "## the predicted conditional volatility\n",
    "\n",
    "plot(aapl.garch11.fcst, which = \"all\")"
   ]
  }
 ],
 "metadata": {
  "kernelspec": {
   "display_name": "R",
   "language": "R",
   "name": "ir"
  },
  "language_info": {
   "codemirror_mode": "r",
   "file_extension": ".r",
   "mimetype": "text/x-r-source",
   "name": "R",
   "pygments_lexer": "r",
   "version": "3.6.1"
  }
 },
 "nbformat": 4,
 "nbformat_minor": 2
}
