{
 "cells": [
  {
   "cell_type": "markdown",
   "metadata": {},
   "source": [
    "# Cointegrated VAR and VECM\n",
    "\n",
    "Our starting point is a system of cointegrated variables which in a trading context indicates a set of similar stocks that are likely to be driven by the smae fundamentals.\n",
    "\n",
    "## The Standard VAR Models\n",
    "\n",
    "Can only be estimated when the variables are **stationary**.\n",
    "\n",
    "### Conventional Way of Removing Unit Root\n",
    "\n",
    "is done by **differenciating** the series using first differences. However, in the case of cointegrated series, this would lead to overdifferenciating and losing information conveyed by the long-term co-movement of variable levels. \n",
    "\n",
    "**Goal:** To build a model of stationary variables, which also incorporates the long-term relationship between the original cointegrating non-stationary variables $\\Rightarrow$ to build a **Cointegrated VAR Model**.\n",
    "\n",
    "## Vector Error Correction Models\n",
    "\n",
    "- A VECM consists of:\n",
    "    1. a VAR model of order $p - 1$ on the **Differences of the Variables**.\n",
    "\n",
    "    2. An **Error-Correction term** derived from the knows (estimated) cointegrating relationship.\n",
    "\n",
    "\n",
    "- A VECM Model establishes a:\n",
    "\n",
    "    **1. Short-Term:** Relationship between stock returns, i.e. the differences of the variables\n",
    "\n",
    "    **2. Long-Term:** while correcting with the deviation from the long-term co-movement of prices.\n",
    "\n",
    "<b></b>   \n",
    "$VECM(p)$, $k=2$: \n",
    "\n",
    "<p style=\"text-align:center;\"> $\\Delta y_t = \\alpha \\beta' y_{t_1} + \\psi_1 \\Delta y_{t-1} + ... + \\psi_1 \\Delta y_{t-p+1} + \\epsilon$ </p>\n",
    "\n",
    "$\\alpha \\beta'$ are the cointegrating relationships\n",
    "\n",
    "### Two-Variable VECM\n",
    "\n",
    "The **Engle-Granger** method is used\n",
    "\n",
    "### Multivariate VECM\n",
    "\n",
    "The maximum number of cointegrating relationships is $n-1$ we follow the Johanses Procedure\n",
    "\n",
    "# Practical Example:\n",
    "\n",
    "Data Source: FRED\n",
    "\n",
    "Data: \n",
    "\n",
    "- 3-month T-bill secondary market rates\n",
    "\n",
    "- 6-month T-bill secondary market rates\n",
    "\n",
    "Period: 1984 - 2014\n",
    "\n",
    "## Procedure:\n",
    "\n",
    "## 1. Test for Unit Root Process\n",
    "\n",
    "- Augmented Dicky Fuller Test on the series (to support the results of plotting the series)\n",
    "\n",
    "## 2. Obtain the Cointegrating Relationship and Test for Cointegration\n",
    "\n",
    "- Construct a linear combination of the two variables: $z_t = x_t \\beta $\n",
    "\n",
    "- Perform a Phillips and Ouliaris Test on two variables (merged/cbind) to test for cointegration\n",
    "\n",
    "## 3. Implement the Johansen Procedure\n",
    "\n",
    "- Find the number of cointegrating relationships\n",
    "\n",
    "## 4. Obtain the VECM Representation of this System\n",
    "\n",
    "- Run an OLS regression on the lagged differenced variables and the error correction term \n"
   ]
  },
  {
   "cell_type": "code",
   "execution_count": 76,
   "metadata": {
    "scrolled": false
   },
   "outputs": [
    {
     "data": {
      "text/html": [
       "'DTB3'"
      ],
      "text/latex": [
       "'DTB3'"
      ],
      "text/markdown": [
       "'DTB3'"
      ],
      "text/plain": [
       "[1] \"DTB3\""
      ]
     },
     "metadata": {},
     "output_type": "display_data"
    },
    {
     "data": {
      "text/html": [
       "'DTB6'"
      ],
      "text/latex": [
       "'DTB6'"
      ],
      "text/markdown": [
       "'DTB6'"
      ],
      "text/plain": [
       "[1] \"DTB6\""
      ]
     },
     "metadata": {},
     "output_type": "display_data"
    },
    {
     "data": {
      "image/png": "[encoded data removed]",
      "text/plain": [
       "plot without title"
      ]
     },
     "metadata": {},
     "output_type": "display_data"
    }
   ],
   "source": [
    "library(\"quantmod\")\n",
    "library(\"tseries\")\n",
    "library(\"urca\")\n",
    "\n",
    "getSymbols(\"DTB3\", src=\"FRED\")\n",
    "getSymbols(\"DTB6\", src =\"FRED\")\n",
    "\n",
    "# Subset the data\n",
    "DTB3.sub <- DTB3[\"1984-01-02/2014-03-31\"]\n",
    "DTB6.sub <-DTB6[\"1984-01-02/2014-03-31\"]\n",
    "\n",
    "# Plot the data\n",
    "par(mfrow=c(1,2))\n",
    "plot(DTB3.sub, type = \"l\", main = \"3m T-Bill \")\n",
    "plot(DTB6.sub, col=\"red\", main = \"6m T-Bill\")"
   ]
  },
  {
   "cell_type": "markdown",
   "metadata": {},
   "source": [
    "## 1. Augemented Dickey Fuller Test for Detecting Unit Root\n",
    "\n",
    "We perform a standard ADF test on both the 3-month and 6-month interest rates to check for non-stationarity.\n",
    "\n",
    "<p style=\"text-align:center;\"> $H_0: \\text{Non-Stationarity}$ </p>\n",
    "<p style=\"text-align:center;\"> $H_1: \\text{Stationarity}$ </p>"
   ]
  },
  {
   "cell_type": "code",
   "execution_count": 77,
   "metadata": {},
   "outputs": [
    {
     "data": {
      "text/plain": [
       "\n",
       "\tAugmented Dickey-Fuller Test\n",
       "\n",
       "data:  DTB3.sub\n",
       "Dickey-Fuller = -2.0199, Lag order = 19, p-value = 0.5699\n",
       "alternative hypothesis: stationary\n"
      ]
     },
     "metadata": {},
     "output_type": "display_data"
    },
    {
     "data": {
      "text/plain": [
       "\n",
       "\tAugmented Dickey-Fuller Test\n",
       "\n",
       "data:  DTB6.sub\n",
       "Dickey-Fuller = -2.0708, Lag order = 19, p-value = 0.5484\n",
       "alternative hypothesis: stationary\n"
      ]
     },
     "metadata": {},
     "output_type": "display_data"
    }
   ],
   "source": [
    "DTB3.sub <- na.omit(DTB3.sub)\n",
    "adf.test(DTB3.sub)\n",
    "\n",
    "DTB6.sub <- na.omit(DTB6.sub)\n",
    "adf.test(DTB6.sub)"
   ]
  },
  {
   "cell_type": "markdown",
   "metadata": {},
   "source": [
    "The test does not reject the null of non-stationarity, as suggested also by the above plots, so we can conclude that both the 3-month T-bill and 6-month T-bill are non-stationary processes. "
   ]
  },
  {
   "cell_type": "markdown",
   "metadata": {},
   "source": [
    "## 2. Cointegrating Relationships and Cointegration Tests\n",
    "\n",
    "We can consistently estimate the cointegrating relationship between two series by running a simple linear regression.z\n",
    "<p style=\"text-align:center;\"> $z_t = x_t \\beta $ </p>"
   ]
  },
  {
   "cell_type": "code",
   "execution_count": 57,
   "metadata": {},
   "outputs": [],
   "source": [
    "# Bind the two interest rates into a single dataframe\n",
    "US_int_rates <- cbind(DTB3.sub, DTB6.sub)\n",
    "\n",
    "# Estimate and obtain the residuals of the cointegrating regression\n",
    "cointegrating_regression <- lm(DTB3.sub ~ DTB6.sub)\n",
    "residuals <- cointegrating_regression$residuals"
   ]
  },
  {
   "cell_type": "markdown",
   "metadata": {},
   "source": [
    "We can test for cointegration if the **residuals** of the regression, i.e. $z_t = x_t \\beta $ that is the linear combination of the variables $\\sim$ stationaty:\n",
    "\n",
    "**1. ADF Test:** but in these settings the conventional critical values are *not appropriate*\n",
    "\n",
    "**2. Phillips and Ouliaris Test:** to correct the values for the presence of cointegrating relationships\n",
    "\n",
    "### Phillips and Ouliaris Test\n",
    "\n",
    "<p style=\"text-align:center;\"> $H_0: \\text{No Cointegration}$ </p>\n",
    "<p style=\"text-align:center;\"> $H_1: \\text{Presence of Cointegrating Relationships}$ </p>"
   ]
  },
  {
   "cell_type": "code",
   "execution_count": 53,
   "metadata": {},
   "outputs": [
    {
     "name": "stderr",
     "output_type": "stream",
     "text": [
      "Warning message in po.test(US_int_rates, demean = TRUE, lshort = TRUE):\n",
      "\"p-value smaller than printed p-value\""
     ]
    },
    {
     "data": {
      "text/plain": [
       "\n",
       "\tPhillips-Ouliaris Cointegration Test\n",
       "\n",
       "data:  US_int_rates\n",
       "Phillips-Ouliaris demeaned = -250.55, Truncation lag parameter = 75,\n",
       "p-value = 0.01\n"
      ]
     },
     "metadata": {},
     "output_type": "display_data"
    }
   ],
   "source": [
    "## Implement the Phillips and Ouliaris Test\n",
    "\n",
    "po.test(US_int_rates, demean=TRUE, lshort=TRUE)"
   ]
  },
  {
   "cell_type": "markdown",
   "metadata": {},
   "source": [
    "The resulting p-value rejects the null of no cointegration, therefore we can conclude that the variables have a cointegrating relationship.\n",
    "\n",
    "## 3. Determining the Number of Cointegrating Relationships\n",
    "\n",
    "We apply the Johansen procedure to uncover the number of cointegrating relationships between $0$ and $n$."
   ]
  },
  {
   "cell_type": "code",
   "execution_count": 71,
   "metadata": {
    "scrolled": false
   },
   "outputs": [
    {
     "data": {
      "text/plain": [
       "\n",
       "###################### \n",
       "# Johansen-Procedure # \n",
       "###################### \n",
       "\n",
       "Test type: trace statistic , with linear trend \n",
       "\n",
       "Eigenvalues (lambda):\n",
       "[1] 0.0160358123 0.0002322675\n",
       "\n",
       "Values of teststatistic and critical values of test:\n",
       "\n",
       "           test 10pct  5pct  1pct\n",
       "r <= 1 |   1.76  6.50  8.18 11.65\n",
       "r = 0  | 123.99 15.66 17.95 23.52\n",
       "\n",
       "Eigenvectors, normalised to first column:\n",
       "(These are the cointegration relations)\n",
       "\n",
       "           DTB3.l2   DTB6.l2\n",
       "DTB3.l2  1.0000000  1.000000\n",
       "DTB6.l2 -0.9943889 -7.753704\n",
       "\n",
       "Weights W:\n",
       "(This is the loading matrix)\n",
       "\n",
       "            DTB3.l2      DTB6.l2\n",
       "DTB3.d -0.037040262 3.124862e-05\n",
       "DTB6.d -0.007337216 4.203585e-05\n"
      ]
     },
     "metadata": {},
     "output_type": "display_data"
    }
   ],
   "source": [
    "# K in the number of relationships we want to test\n",
    "US_int_rates.VECM <- ca.jo(US_int_rates, type = \"trace\", ecdet=\"none\", K = 2)\n",
    "summary(US_int_rates.VECM)"
   ]
  },
  {
   "cell_type": "markdown",
   "metadata": {},
   "source": [
    "**Results:**\n",
    "\n",
    "- $r = 0$ we reject the null \n",
    "\n",
    "- $r \\leq 1$ we do not reject $\\Rightarrow$ we have one cointegrating relationship\n",
    "\n",
    "**The Cointegrating Vector:**\n",
    "\n",
    "is given by the first column of the normalized eigenvectors (below the test)"
   ]
  },
  {
   "cell_type": "markdown",
   "metadata": {},
   "source": [
    "## 4. Obtain the VECM Representation of this System\n",
    "\n",
    "Run an OLS regression on the lagged differenced variables and the error correction term including the cointegration rank $r$.\n",
    "\n",
    "**The Error Correction Term:** is derived from the previously calculated cointegrating relationship, i.e. $z_t = x_t \\beta $"
   ]
  },
  {
   "cell_type": "code",
   "execution_count": 73,
   "metadata": {},
   "outputs": [
    {
     "data": {
      "text/plain": [
       "$rlm\n",
       "\n",
       "Call:\n",
       "lm(formula = substitute(form1), data = data.mat)\n",
       "\n",
       "Coefficients:\n",
       "          DTB3.d     DTB6.d   \n",
       "ect1      -0.037040  -0.007337\n",
       "constant  -0.004196  -0.001691\n",
       "DTB3.dl1   0.091770   0.147683\n",
       "DTB6.dl1   0.036983  -0.032574\n",
       "\n",
       "\n",
       "$beta\n",
       "              ect1\n",
       "DTB3.l2  1.0000000\n",
       "DTB6.l2 -0.9943889\n"
      ]
     },
     "metadata": {},
     "output_type": "display_data"
    }
   ],
   "source": [
    "US_int_rates.VECM.rls <- cajorls(US_int_rates.VECM, r=1)\n",
    "US_int_rates.VECM.rls"
   ]
  },
  {
   "cell_type": "markdown",
   "metadata": {},
   "source": [
    "**Results:**\n",
    "\n",
    "The coefficient of the **error correction term is negative** (i.e. DTB6.l2) which is what we expected:\n",
    "\n",
    "- A **short-term** deviation from the **long-term** equilibrium level would push our variables back to the **zero-equilibrium** deviation."
   ]
  },
  {
   "attachments": {},
   "cell_type": "markdown",
   "metadata": {},
   "source": [
    "## Check for the Bivariate Case following the Engle-Granger Procedure\n",
    "\n",
    "The result of the Johansen procedure method leads to approximately the same result as the step-by-step implementation of the ECM following the Engle-Granger procedure.\n",
    "\n",
    "1. Run a linear regression $y_t$ on $x_t$ (a simple OLS estimation) which gives us our linear combination of variables, i.e. the cointegrating relationship\n",
    "\n",
    "2. Test the residuals for the presence of a unit root, i.e. that the cointegrating relationship is stationary\n",
    "\n",
    "<p style=\"text-align:center;\"> $H_0: \\text{Non-Stationarity}$ </p>\n",
    "<p style=\"text-align:center;\"> $H_1: \\text{Stationarity}$ </p>"
   ]
  },
  {
   "cell_type": "code",
   "execution_count": 82,
   "metadata": {},
   "outputs": [
    {
     "data": {
      "text/plain": [
       "\n",
       "############################################### \n",
       "# Augmented Dickey-Fuller Test Unit Root Test # \n",
       "############################################### \n",
       "\n",
       "Test regression none \n",
       "\n",
       "\n",
       "Call:\n",
       "lm(formula = z.diff ~ z.lag.1 - 1 + z.diff.lag)\n",
       "\n",
       "Residuals:\n",
       "     Min       1Q   Median       3Q      Max \n",
       "-0.55884 -0.01298  0.00098  0.01277  0.47866 \n",
       "\n",
       "Coefficients:\n",
       "            Estimate Std. Error t value Pr(>|t|)    \n",
       "z.lag.1    -0.029940   0.002856 -10.484   <2e-16 ***\n",
       "z.diff.lag -0.029021   0.011497  -2.524   0.0116 *  \n",
       "---\n",
       "Signif. codes:  0 '***' 0.001 '**' 0.01 '*' 0.05 '.' 0.1 ' ' 1\n",
       "\n",
       "Residual standard error: 0.03611 on 7559 degrees of freedom\n",
       "Multiple R-squared:  0.01624,\tAdjusted R-squared:  0.01598 \n",
       "F-statistic:  62.4 on 2 and 7559 DF,  p-value: < 2.2e-16\n",
       "\n",
       "\n",
       "Value of test-statistic is: -10.4841 \n",
       "\n",
       "Critical values for test statistics: \n",
       "      1pct  5pct 10pct\n",
       "tau1 -2.58 -1.95 -1.62\n"
      ]
     },
     "metadata": {},
     "output_type": "display_data"
    }
   ],
   "source": [
    "lin_regression <- lm(as.numeric(DTB3.sub$DTB3) ~ as.numeric(DTB6.sub$DTB6)) # regression without intercept\n",
    "summary(ur.df(lin_regression$resid))"
   ]
  },
  {
   "cell_type": "markdown",
   "metadata": {},
   "source": [
    "As we can see, we reject the null of non-stationarity, implying that the linear combination of DTB3 and DTB6 is stationary, that is, they have a cointegrating relationship."
   ]
  }
 ],
 "metadata": {
  "kernelspec": {
   "display_name": "R",
   "language": "R",
   "name": "ir"
  },
  "language_info": {
   "codemirror_mode": "r",
   "file_extension": ".r",
   "mimetype": "text/x-r-source",
   "name": "R",
   "pygments_lexer": "r",
   "version": "3.6.1"
  }
 },
 "nbformat": 4,
 "nbformat_minor": 2
}
