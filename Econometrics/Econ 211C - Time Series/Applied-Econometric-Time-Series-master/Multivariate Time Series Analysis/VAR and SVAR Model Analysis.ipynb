{
 "cells": [
  {
   "cell_type": "markdown",
   "metadata": {},
   "source": [
    "# Vector Autoregressive Models\n",
    "\n",
    "VAR Models are used to analyse the interdependencies among different variables of interest, i.e. how one endogenous variable responds to a shock in another. By analysis Autoregressive Models in a multivariate space, we can get a sense of how different variables interact with each other.\n",
    "\n",
    "**Main Goal of VAR Models:** Impulse Response Functions for analysing contemporaneous effects.\n",
    "\n",
    "-------------------------------\n",
    "Apply VAR (look at significance) $\\Rightarrow$ Impulse Response Function $\\Rightarrow$ Apply Restrictions $\\Rightarrow$ Fit SVAR $\\Rightarrow$ Impulse Response Function\n",
    "\n",
    "--------------------------------\n",
    "\n",
    "\n",
    "## 1. Reduced VAR Models\n",
    "\n",
    "The VAR model specifies the evolution of each variable as a linear function of the lagged values of all other variables.\n",
    "\n",
    "<p style=\"text-align:center\"> $y_t = A_1y_{t_1} + ... + A_p y_{t-p} + u_t$ </p>\n",
    "\n",
    "$A_i$ are $nxn$ coefficient matrices $\\forall i = 1, ..., p$\n",
    "\n",
    "$u_t$ is a vector white noise with a positive definite covariance matrix which assumes a lack of autocorelation but allows contemporaneous correlation between the components, i.e. $u_t$ has a non-diagonal covariance matrix.\n",
    "\n",
    "**VAR(1):** In two variables\n",
    "\n",
    "<p style = \"text-align:center\"> $\\begin{bmatrix} y_{1,t} \\\\ y_{2,t} \\end{bmatrix} = \\begin{bmatrix} c_1 \\\\ c_2 \\end{bmatrix} + \\begin{bmatrix} a_{1,1} & a_{1,2} \\\\ a_{2,1} & a_{2,2} \\end{bmatrix} \\begin{bmatrix} y_{1,t-1} \\\\ y_{2,t-1} \\end{bmatrix} + \\begin{bmatrix} e_{1,t} \\\\ e_{2,t}\\end{bmatrix}$ </p>\n",
    "\n",
    "<p style = \"text-align:center\"> $\\Leftrightarrow\n",
    "$ </p> \n",
    "\n",
    "<p style = \"text-align:center\"> $y_{1,t} = c_1 + a_{1,1}y_{1,t-1} + a_{1,2}y_{2, t-1} + e_{1,t}\n",
    "$ </p> \n",
    "\n",
    "<p style = \"text-align:center\"> $y_{2,t} = c_2 + a_{2,1}y_{1,t-1} + a_{2,2}y_{2, t-1} + e_{2,t}\n",
    "$ </p> \n",
    "\n",
    "### Writing VAR(P) as VAR(1) \n",
    "\n",
    "The transformation amounts to stacking the lags of the *VAR(p)* variable in the new *VAR(1)* dependent variable and appending identities to complete the number of equations.\n",
    "\n",
    "<p style=\"text-align:center\"> $y_t = c + A_1y_{t_1} + A_2 y_{t-2} + e_t$ </p>\n",
    "\n",
    "Can be recast as the VAR(1) model:\n",
    "\n",
    "<p style = \"text-align:center\"> $\\begin{bmatrix} y_{t} \\\\ y_{t-1} \\end{bmatrix} = \\begin{bmatrix} c \\\\ 0 \\end{bmatrix} + \\begin{bmatrix} A_{1} & A_{2} \\\\ I & 0 \\end{bmatrix} \\begin{bmatrix} y_{1,t-1} \\\\ y_{2,t-1} \\end{bmatrix} + \\begin{bmatrix} e_{t} \\\\ 0\\end{bmatrix}$ </p>\n",
    "\n",
    "### Absence of Contemporaneous Effects in a Reduced VAR Model\n",
    "\n",
    "**Features of Reduced VAR models:** Contemporaneous dependencies are not explicitly modeled. This allows us to estimate the model by OLS applied equation-to-equation.\n",
    "\n",
    "**Contemporaneous effects $\\nexists$:** are not modeled $\\Rightarrow$ such dependencies appear in the correlation structure of the error term, i.e. the covariance matrix of $u_t$\n",
    "\n",
    "<p style = \"text-align:center\"> $\\Sigma_{u_t} = E[u_t,u_t']$ </p>\n",
    "\n",
    "Given the assumptions of the error term $u_t$:\n",
    "\n",
    "$E(u_t) = 0$\n",
    "\n",
    "$E(u_t, u_t') = \\Sigma $ are the Contemporaneous effects\n",
    "\n",
    "$E(u_t, u_s') = 0$\n",
    "\n",
    "\n",
    "<p style = \"text-align:center\"> $var(u) = \\begin{bmatrix} var(u_1) & 0 & . & . & . &  0\n",
    "\\\\ 0 & var(u_2) & . & . & . &  0 \\\\ . & . & . & . & . & . \\\\ . & . & . & . & . & .  \\\\ 0 & 0 & . & . & . &  var(u_n)\\end{bmatrix}$</p>\n",
    "\n",
    "Simplified to: \n",
    "\n",
    "<p style = \"text-align:center\">  $\\Sigma_{u_t} = E[u_t,u_t'] = Var(u)$ </p>\n",
    "\n",
    "Since conteporaneous effects are not modelled in the reduced VAR form, they appear in the variance-covariance matrix structure of the residuals $\\Rightarrow$ the matrix is **Positive Semi-Definite**.\n",
    "\n",
    "**Contemporaneous Effects:** Variables can have effects on other variables (e.g. $y_{2t}$ can have an effect on $y_{1t}$). In the reduced form VAR, all right hand side variables are predetermined at time *t*, meaning there are no time *t* endogenous variables on the right side, no variable has a *direct* contemporaneous effect on other variables in the model.\n",
    "\n",
    "\n",
    "## 2. Structural VAR Models\n",
    "\n",
    "Assuming there are no contemporaneous effects would be misleading for the Impulse Response Function, i.e. changes in the processes followed by a shock hitting a particular variable.\n",
    "\n",
    "**SVAR models:** They explicitly model contemporaneous effects among variables:\n",
    "\n",
    "Multiply the reduced VAR by $B_0$:\n",
    "\n",
    "<p style = \"text-align:center\"> $B_0y_t = B_0A_1y_{t-1} + ... + B_0A_py_{y-p} + B_0e_t$ </p?\n",
    "\n",
    "Define:\n",
    "\n",
    "$B_i = B_0A_i$\n",
    "\n",
    "$\\epsilon_t = B_0e_t$\n",
    "\n",
    "$\\epsilon_t$ are the structural shocks that satisfy the same conditions as the above residuals\n",
    "\n",
    "**SVAR(p):**\n",
    "\n",
    "<p style = \"text-align:center\"> $B_0y_t = B_1y_{t-1} + ... + B_py_{y-p} + \\epsilon_t$ </p>\n",
    "\n",
    "**SVAR(1)** with two variables\n",
    "\n",
    "<p style = \"text-align:center\"> $\\begin{bmatrix} 1 & B_{0;1,2} \\\\ B_{0;2,1} & 1 \\end{bmatrix} \\begin{bmatrix} y_{1,t} \\\\ y_{2,t} \\end{bmatrix} = \\begin{bmatrix} c_{0;1} \\\\ c_{0;2} \\end{bmatrix} + \\begin{bmatrix} B_{1;1,1} & B_{1;1,2} \\\\ B_{1;2,1} & B_{1;2,2} \\end{bmatrix} \\begin{bmatrix} y_{1,t-1} \\\\ y_{2,t-1} \\end{bmatrix} + \\begin{bmatrix} \\epsilon_{1,t} \\\\ \\epsilon_{2,t}\\end{bmatrix}$ </p>\n",
    "\n",
    "Where:\n",
    "\n",
    "$\\Sigma = E(\\epsilon_t, \\epsilon_t') = \\begin{bmatrix} \\sigma^2_1 & 0 \\\\ 0 & \\sigma^2_2 \\end{bmatrix} $\n",
    "\n",
    "Therefore, the **structural form** can be obtained from the **reduced form** by multypling it with an appropriate parameter matrix $A$, which reflecte the **contemporaneous effects** among variables.\n",
    "\n",
    "**Features of the Structural Form:** Gives the underlying structural economic relationships\n",
    "\n",
    "1. **Error Terms are not Correlated:** The structural, economic shocks which drive the dynamics of the economic variables are assumed to be independent, which implies Zero correlation between the error terms and a desired property.\n",
    "\n",
    "2. **Variables can have a Contemporaneous Impact on other variables:** This is a desirable feature especially when using low frequency data.\n",
    "\n",
    "3. **Parameter Identification Problem:** Paraneters in $B$ cannot be estimated without additional restrictions.\n",
    "\n",
    "**Error terms in the Reduced Form VAR:** are composites of the structural shocks $e_t = B_0^-1\\epsilon_t$ therefore, the occurrence of one structural shock $\\epsilon_{i,t}$ can potentially lead to the occurrence of shocks in all error terms $e_{j,t}$ thus creating contemporaneous movement in all endogenous variables.\n",
    "\n",
    "This gives us the covariance matrix of the Reduced VAR:\n",
    "\n",
    "<p style=\"text-align:center\"> $\\Omega = E(e_t, e_t') = E(B_0^{-1}\\epsilon_t\\epsilon_t'(B_0^{-1})') = B_0^{-1}\\Sigma(B_0^-1)'$ </p>\n",
    "\n",
    "This can have non-zero off diagonal elements, thus allowing non-zero correlation between error terms.\n",
    "\n",
    "<p style = \"text-align:center\"> $var(u) = \\begin{bmatrix} \\sigma_1^2 & cov(u_1, u_2) & . & . & . &  cov(u_1, u_n)\n",
    "\\\\ cov(u_1, u_2) & \\sigma_2^2 & . & . & . &  cov(u_2, u_n) \\\\ . & . & . & . & . & . \\\\ . & . & . & . & . & .  \\\\ cov(u_1, u_n) & cov(u_2, u_n) & . & . & . &  \\sigma_n^2\\end{bmatrix}$ </p>"
   ]
  },
  {
   "cell_type": "markdown",
   "metadata": {},
   "source": [
    "# VAR Implementation Example\n",
    "\n",
    "We build a three-component VAR model from the following components\n",
    "\n",
    "- Equity Return: This specifies the Microsoft price index from January 01, 2004 to March 03, 2014\n",
    "\n",
    "- Stock Index: specifies the S&P500 index from January 01, 2004 to March 03, 2014\n",
    "\n",
    "- US Treasury bond interest rates: from January 01, 2004 to March 03, 2014\n",
    "\n",
    "**Goal:** to make a forecast for the stock market index by using the additional variables and to identify impulse responses.\n",
    "\n",
    "We suppose there are hidden long-term relationships between a given stock, the stock markets as a whole and the bond market.\n",
    "\n",
    "## Procedure:\n",
    "\n",
    "### 1. Data Cleaning: \n",
    "\n",
    "- Transform Prices to Log-Returns (Take the first difference), i.e. Non-Stationary $\\Rightarrow$ Stationary\n",
    "\n",
    "- Check for NA Values and if present, omit them and merge the data\n",
    "\n",
    "### 2. Fit the VAR Model\n",
    "\n",
    "- Lower the frequency (if working with daily returns) to monthly or annualy\n",
    "\n",
    "- Run the VAR Model with k max lags\n",
    "\n",
    "- Evaluate the Model Output based on Stationarity and Parsimony\n",
    "\n",
    "    - Parsimony can be re-attained by re-estimating without non-significant variables or dropping a lag\n",
    "    \n",
    "### 3. Test for Autocorrelation and Contemporaneous Correlation in the Residuals\n",
    "\n",
    "- Obtain the residuals for each model\n",
    "\n",
    "- **A. Autocorrelations:** Plot the ACF/PACF for each residual \n",
    "\n",
    "- **B. Contemporaneous Correlations:** Plot the cross-correlograms to determine the amount of contemporaneous correlation\n",
    "\n",
    "### 4. Predictions with VAR\n",
    "\n",
    "- Specify how many n-period ahead and construct the forecast\n",
    "\n",
    "- Forecast Variance Decomposition, i.e. how much of the forecats error variance is due to shocks in each equation\n",
    "\n",
    "### 5. Impulse Response Function\n",
    "\n",
    "- Shows how a variable reacts (responds) to a shock (impulse) hitting any other variable in the system"
   ]
  },
  {
   "cell_type": "code",
   "execution_count": 1,
   "metadata": {},
   "outputs": [
    {
     "name": "stderr",
     "output_type": "stream",
     "text": [
      "Warning message:\n",
      "\"package 'vars' was built under R version 3.6.2\"Loading required package: MASS\n",
      "Loading required package: strucchange\n",
      "Warning message:\n",
      "\"package 'strucchange' was built under R version 3.6.2\"Loading required package: zoo\n",
      "Warning message:\n",
      "\"package 'zoo' was built under R version 3.6.2\"\n",
      "Attaching package: 'zoo'\n",
      "\n",
      "The following objects are masked from 'package:base':\n",
      "\n",
      "    as.Date, as.Date.numeric\n",
      "\n",
      "Loading required package: sandwich\n",
      "Warning message:\n",
      "\"package 'sandwich' was built under R version 3.6.2\"Loading required package: urca\n",
      "Warning message:\n",
      "\"package 'urca' was built under R version 3.6.2\"Loading required package: lmtest\n",
      "Warning message:\n",
      "\"package 'lmtest' was built under R version 3.6.2\"Warning message:\n",
      "\"package 'quantmod' was built under R version 3.6.2\"Loading required package: xts\n",
      "Warning message:\n",
      "\"package 'xts' was built under R version 3.6.2\"Registered S3 method overwritten by 'xts':\n",
      "  method     from\n",
      "  as.zoo.xts zoo \n",
      "Loading required package: TTR\n",
      "Warning message:\n",
      "\"package 'TTR' was built under R version 3.6.2\"Registered S3 method overwritten by 'quantmod':\n",
      "  method            from\n",
      "  as.zoo.data.frame zoo \n",
      "Version 0.4-0 included new data defaults. See ?getSymbols.\n",
      "'getSymbols' currently uses auto.assign=TRUE by default, but will\n",
      "use auto.assign=FALSE in 0.5-0. You will still be able to use\n",
      "'loadSymbols' to automatically load data. getOption(\"getSymbols.env\")\n",
      "and getOption(\"getSymbols.auto.assign\") will still be checked for\n",
      "alternate defaults.\n",
      "\n",
      "This message is shown once per session and may be disabled by setting \n",
      "options(\"getSymbols.warning4.0\"=FALSE). See ?getSymbols for details.\n",
      "\n"
     ]
    },
    {
     "data": {
      "text/html": [
       "'MSFT'"
      ],
      "text/latex": [
       "'MSFT'"
      ],
      "text/markdown": [
       "'MSFT'"
      ],
      "text/plain": [
       "[1] \"MSFT\""
      ]
     },
     "metadata": {},
     "output_type": "display_data"
    },
    {
     "data": {
      "text/html": [
       "'SNP'"
      ],
      "text/latex": [
       "'SNP'"
      ],
      "text/markdown": [
       "'SNP'"
      ],
      "text/plain": [
       "[1] \"SNP\""
      ]
     },
     "metadata": {},
     "output_type": "display_data"
    },
    {
     "data": {
      "text/html": [
       "'DTB3'"
      ],
      "text/latex": [
       "'DTB3'"
      ],
      "text/markdown": [
       "'DTB3'"
      ],
      "text/plain": [
       "[1] \"DTB3\""
      ]
     },
     "metadata": {},
     "output_type": "display_data"
    },
    {
     "data": {
      "text/plain": [
       "           MSFT.Open MSFT.High MSFT.Low MSFT.Close MSFT.Volume MSFT.Adjusted\n",
       "2004-01-02     27.58     27.77    27.33      27.45    44487700      17.81634\n",
       "2004-01-05     27.73     28.18    27.72      28.14    67333700      18.26419\n",
       "2004-01-06     28.19     28.28    28.07      28.24    46950800      18.32909\n",
       "2004-01-07     28.17     28.31    28.01      28.21    54298200      18.30962\n",
       "2004-01-08     28.39     28.48    28.00      28.16    58810800      18.27717\n",
       "2004-01-09     28.03     28.06    27.59      27.66    67079900      17.95264"
      ]
     },
     "metadata": {},
     "output_type": "display_data"
    }
   ],
   "source": [
    "library(\"vars\")\n",
    "library(\"quantmod\")\n",
    "\n",
    "# Get data for the Stock\n",
    "getSymbols(\"MSFT\", from =\"2004-01-02\", to = \"2014-03-31\")\n",
    "\n",
    "# Get data for the stock index\n",
    "getSymbols(\"SNP\", from = \"2004-01-02\", to = \"2014-03-31\")\n",
    "\n",
    "# Get data for the bondcmarket and subset it by the appropriate period\n",
    "getSymbols(\"DTB3\", src=\"FRED\")\n",
    "DTB3.sub <- DTB3['2004-01-02/2014-03-31']\n",
    "\n",
    "# We need to plot the data for the close-to-close daily return\n",
    "head(MSFT)"
   ]
  },
  {
   "cell_type": "markdown",
   "metadata": {},
   "source": [
    "The components of the downloaded data can be reached by using the following:\n",
    "\n",
    "``` r\n",
    "Cl(MSFT) # Closing Price\n",
    "\n",
    "Op(MSFT) # Opening Price\n",
    "\n",
    "Hi(MSFT) # Daily Highest Price\n",
    "\n",
    "Lo(MSFT) # Daily Lowest Price\n",
    "\n",
    "ClCl(MSFT) # Close-to-Close daily Return\n",
    "\n",
    "Ad(MSFT) # Adjusted Close\n",
    "```\n",
    "\n",
    "### Adjusted Closing Price of MSFT Chart"
   ]
  },
  {
   "cell_type": "code",
   "execution_count": 2,
   "metadata": {},
   "outputs": [
    {
     "data": {
      "image/png": "[encoded data removed]",
      "text/plain": [
       "Plot with title \"[2004-01-02/2014-03-28]\""
      ]
     },
     "metadata": {},
     "output_type": "display_data"
    }
   ],
   "source": [
    "chartSeries(Ad(MSFT))"
   ]
  },
  {
   "cell_type": "markdown",
   "metadata": {},
   "source": [
    "As we can see the Adjusted close is non-stationary.\n",
    "\n",
    "## 1. Data Cleaning\n",
    "\n",
    "### Transform the Non-Stationary Series to Stationary Series\n",
    "\n",
    "We will work with log returns"
   ]
  },
  {
   "cell_type": "code",
   "execution_count": 3,
   "metadata": {},
   "outputs": [
    {
     "data": {
      "image/png": "[encoded data removed]",
      "text/plain": [
       "Plot with title \"[2004-01-05/2014-03-28]\""
      ]
     },
     "metadata": {},
     "output_type": "display_data"
    }
   ],
   "source": [
    "# Take the first difference of the Series\n",
    "\n",
    "MSFT.ret <- diff(log(MSFT))\n",
    "SNP.ret <- diff(log(SNP))\n",
    "\n",
    "# Check for NA values in the T-Bill Series\n",
    "\n",
    "#DTB3.sub\n",
    "\n",
    "chartSeries(MSFT.ret)"
   ]
  },
  {
   "cell_type": "markdown",
   "metadata": {},
   "source": [
    "### Omit the NA Values \n",
    "\n",
    "NA values are present in the T-Bill return series and merge all"
   ]
  },
  {
   "cell_type": "code",
   "execution_count": 4,
   "metadata": {},
   "outputs": [
    {
     "data": {
      "text/plain": [
       "               SNP.Open     SNP.High     SNP.Low    SNP.Close  SNP.Volume\n",
       "2004-01-05  0.008064578 -0.005770562 -0.04242747 -0.013314746 -0.02375409\n",
       "2004-01-06 -0.118159676 -0.085579151 -0.09182794 -0.119129388  0.41379155\n",
       "2004-01-07 -0.019395837 -0.050835815 -0.03658223 -0.025253296 -0.61272184\n",
       "2004-01-08 -0.006936467  0.019255349  0.03309995  0.030729030 -0.11941022\n",
       "2004-01-09  0.031966189  0.009601467  0.01270959 -0.001138347 -0.60947823\n",
       "2004-01-12 -0.089261129 -0.085799967 -0.09508060 -0.093034868  1.49271599\n",
       "           SNP.Adjusted     MSFT.Open    MSFT.High      MSFT.Low   MSFT.Close\n",
       "2004-01-05  -0.01331476  0.0054239873  0.014656205  0.0141691383  0.024825812\n",
       "2004-01-06  -0.11912920  0.0164524810  0.003542370  0.0125472521  0.003547396\n",
       "2004-01-07  -0.02525343 -0.0007097587  0.001060187 -0.0021398011 -0.001062923\n",
       "2004-01-08   0.03072915  0.0077793534  0.005987023 -0.0003570791 -0.001773958\n",
       "2004-01-09  -0.00113824 -0.0127615344 -0.014857048 -0.0147511219 -0.017915205\n",
       "2004-01-12  -0.09303494 -0.0129266071 -0.011830179 -0.0087368594 -0.003259101\n",
       "           MSFT.Volume MSFT.Adjusted DTB3\n",
       "2004-01-05  0.41444811   0.024825854 0.90\n",
       "2004-01-06 -0.36056061   0.003547158 0.90\n",
       "2004-01-07  0.14539083  -0.001062701 0.89\n",
       "2004-01-08  0.07983443  -0.001773974 0.86\n",
       "2004-01-09  0.13155893  -0.017915228 0.85\n",
       "2004-01-12 -0.18330087  -0.003259199 0.88"
      ]
     },
     "metadata": {},
     "output_type": "display_data"
    }
   ],
   "source": [
    "dataDaily <- na.omit(merge(SNP.ret, MSFT.ret, DTB3.sub), join = \"inner\")\n",
    "head(dataDaily)"
   ]
  },
  {
   "cell_type": "markdown",
   "metadata": {},
   "source": [
    "## 2. VAR Modelling\n",
    "\n",
    "### Lower Frequency Data\n",
    "\n",
    "A VAR model is usually done on lower frequency data, therefore, we will transform the daily data to monthly"
   ]
  },
  {
   "cell_type": "code",
   "execution_count": 5,
   "metadata": {},
   "outputs": [
    {
     "name": "stderr",
     "output_type": "stream",
     "text": [
      "Warning message in to.period(x, \"months\", indexAt = indexAt, name = name, ...):\n",
      "\"missing values removed from data\"Warning message in to.period(x, \"months\", indexAt = indexAt, name = name, ...):\n",
      "\"missing values removed from data\"Warning message in to.period(x, \"months\", indexAt = indexAt, name = name, ...):\n",
      "\"missing values removed from data\""
     ]
    },
    {
     "data": {
      "text/plain": [
       "         SNP.ret.Close MSFT.ret.Close DTB3.sub.Close\n",
       "Jan 2004  -0.010037715   -0.009359320           0.90\n",
       "Feb 2004   0.003614909    0.001131473           0.94\n",
       "Mar 2004   0.029947885   -0.010772137           0.93\n",
       "Apr 2004   0.008738797   -0.013305690           0.96\n",
       "May 2004   0.023069712    0.001526097           1.06\n",
       "Jun 2004   0.018574697    0.002103015           1.31"
      ]
     },
     "metadata": {},
     "output_type": "display_data"
    }
   ],
   "source": [
    "SNP.M <- to.monthly(SNP.ret)$SNP.ret.Close\n",
    "MSFT.M <- to.monthly(MSFT.ret)$MSFT.ret.Close\n",
    "DTB3.M <- to.monthly(DTB3.sub)$DTB3.sub.Close\n",
    "\n",
    "dataMonthly <- merge(SNP.M, MSFT.M, DTB3.M)\n",
    "head(dataMonthly)"
   ]
  },
  {
   "cell_type": "markdown",
   "metadata": {},
   "source": [
    "## Fitting the Model\n",
    "\n",
    "A simple reduced VAR model may be fitted to the data. The parametereization shown allows a maximum of 4 lags in the equations and chooses the model with the lowest AIC."
   ]
  },
  {
   "cell_type": "code",
   "execution_count": 6,
   "metadata": {},
   "outputs": [
    {
     "data": {
      "text/plain": [
       "\n",
       "VAR Estimation Results:\n",
       "========================= \n",
       "Endogenous variables: SNP.ret.Close, MSFT.ret.Close, DTB3.sub.Close \n",
       "Deterministic variables: const \n",
       "Sample size: 120 \n",
       "Log Likelihood: 653.626 \n",
       "Roots of the characteristic polynomial:\n",
       "0.979 0.6956 0.6375 0.6375 0.5922 0.5922 0.2964 0.2918 0.2918\n",
       "Call:\n",
       "VAR(y = dataMonthly, lag.max = 4, ic = \"AIC\")\n",
       "\n",
       "\n",
       "Estimation results for equation SNP.ret.Close: \n",
       "============================================== \n",
       "SNP.ret.Close = SNP.ret.Close.l1 + MSFT.ret.Close.l1 + DTB3.sub.Close.l1 + SNP.ret.Close.l2 + MSFT.ret.Close.l2 + DTB3.sub.Close.l2 + SNP.ret.Close.l3 + MSFT.ret.Close.l3 + DTB3.sub.Close.l3 + const \n",
       "\n",
       "                   Estimate Std. Error t value Pr(>|t|)   \n",
       "SNP.ret.Close.l1   0.074634   0.098738   0.756  0.45134   \n",
       "MSFT.ret.Close.l1 -0.252464   0.113366  -2.227  0.02799 * \n",
       "DTB3.sub.Close.l1  0.015643   0.008528   1.834  0.06930 . \n",
       "SNP.ret.Close.l2  -0.111754   0.098346  -1.136  0.25829   \n",
       "MSFT.ret.Close.l2 -0.059053   0.116510  -0.507  0.61327   \n",
       "DTB3.sub.Close.l2 -0.034492   0.012730  -2.710  0.00782 **\n",
       "SNP.ret.Close.l3  -0.076812   0.097182  -0.790  0.43100   \n",
       "MSFT.ret.Close.l3 -0.006794   0.115425  -0.059  0.95317   \n",
       "DTB3.sub.Close.l3  0.019860   0.008555   2.321  0.02211 * \n",
       "const              0.002237   0.002475   0.904  0.36800   \n",
       "---\n",
       "Signif. codes:  0 '***' 0.001 '**' 0.01 '*' 0.05 '.' 0.1 ' ' 1\n",
       "\n",
       "\n",
       "Residual standard error: 0.0202 on 110 degrees of freedom\n",
       "Multiple R-Squared: 0.1474,\tAdjusted R-squared: 0.07768 \n",
       "F-statistic: 2.114 on 9 and 110 DF,  p-value: 0.03412 \n",
       "\n",
       "\n",
       "Estimation results for equation MSFT.ret.Close: \n",
       "=============================================== \n",
       "MSFT.ret.Close = SNP.ret.Close.l1 + MSFT.ret.Close.l1 + DTB3.sub.Close.l1 + SNP.ret.Close.l2 + MSFT.ret.Close.l2 + DTB3.sub.Close.l2 + SNP.ret.Close.l3 + MSFT.ret.Close.l3 + DTB3.sub.Close.l3 + const \n",
       "\n",
       "                    Estimate Std. Error t value Pr(>|t|)  \n",
       "SNP.ret.Close.l1  -0.0564751  0.0894017  -0.632   0.5289  \n",
       "MSFT.ret.Close.l1  0.0342138  0.1026462   0.333   0.7395  \n",
       "DTB3.sub.Close.l1  0.0097897  0.0077213   1.268   0.2075  \n",
       "SNP.ret.Close.l2  -0.0205293  0.0890467  -0.231   0.8181  \n",
       "MSFT.ret.Close.l2 -0.0010123  0.1054932  -0.010   0.9924  \n",
       "DTB3.sub.Close.l2 -0.0242045  0.0115263  -2.100   0.0380 *\n",
       "SNP.ret.Close.l3   0.0867832  0.0879931   0.986   0.3262  \n",
       "MSFT.ret.Close.l3 -0.0110151  0.1045111  -0.105   0.9163  \n",
       "DTB3.sub.Close.l3  0.0134447  0.0077462   1.736   0.0854 .\n",
       "const             -0.0001593  0.0022406  -0.071   0.9435  \n",
       "---\n",
       "Signif. codes:  0 '***' 0.001 '**' 0.01 '*' 0.05 '.' 0.1 ' ' 1\n",
       "\n",
       "\n",
       "Residual standard error: 0.01829 on 110 degrees of freedom\n",
       "Multiple R-Squared: 0.07048,\tAdjusted R-squared: -0.005567 \n",
       "F-statistic: 0.9268 on 9 and 110 DF,  p-value: 0.505 \n",
       "\n",
       "\n",
       "Estimation results for equation DTB3.sub.Close: \n",
       "=============================================== \n",
       "DTB3.sub.Close = SNP.ret.Close.l1 + MSFT.ret.Close.l1 + DTB3.sub.Close.l1 + SNP.ret.Close.l2 + MSFT.ret.Close.l2 + DTB3.sub.Close.l2 + SNP.ret.Close.l3 + MSFT.ret.Close.l3 + DTB3.sub.Close.l3 + const \n",
       "\n",
       "                  Estimate Std. Error t value Pr(>|t|)    \n",
       "SNP.ret.Close.l1  -1.13400    0.99198  -1.143 0.255450    \n",
       "MSFT.ret.Close.l1 -0.34895    1.13893  -0.306 0.759895    \n",
       "DTB3.sub.Close.l1  1.09668    0.08567  12.801  < 2e-16 ***\n",
       "SNP.ret.Close.l2   1.43575    0.98804   1.453 0.149033    \n",
       "MSFT.ret.Close.l2 -0.62803    1.17052  -0.537 0.592671    \n",
       "DTB3.sub.Close.l2  0.24737    0.12789   1.934 0.055660 .  \n",
       "SNP.ret.Close.l3  -3.76207    0.97635  -3.853 0.000196 ***\n",
       "MSFT.ret.Close.l3  1.24527    1.15963   1.074 0.285239    \n",
       "DTB3.sub.Close.l3 -0.35019    0.08595  -4.074 8.73e-05 ***\n",
       "const              0.02110    0.02486   0.849 0.397913    \n",
       "---\n",
       "Signif. codes:  0 '***' 0.001 '**' 0.01 '*' 0.05 '.' 0.1 ' ' 1\n",
       "\n",
       "\n",
       "Residual standard error: 0.203 on 110 degrees of freedom\n",
       "Multiple R-Squared: 0.9886,\tAdjusted R-squared: 0.9877 \n",
       "F-statistic:  1062 on 9 and 110 DF,  p-value: < 2.2e-16 \n",
       "\n",
       "\n",
       "\n",
       "Covariance matrix of residuals:\n",
       "               SNP.ret.Close MSFT.ret.Close DTB3.sub.Close\n",
       "SNP.ret.Close      0.0004082      0.0001261      0.0002367\n",
       "MSFT.ret.Close     0.0001261      0.0003347     -0.0004633\n",
       "DTB3.sub.Close     0.0002367     -0.0004633      0.0412020\n",
       "\n",
       "Correlation matrix of residuals:\n",
       "               SNP.ret.Close MSFT.ret.Close DTB3.sub.Close\n",
       "SNP.ret.Close        1.00000         0.3411        0.05772\n",
       "MSFT.ret.Close       0.34107         1.0000       -0.12475\n",
       "DTB3.sub.Close       0.05772        -0.1248        1.00000\n",
       "\n"
      ]
     },
     "metadata": {},
     "output_type": "display_data"
    }
   ],
   "source": [
    "var1 <- VAR(dataMonthly, lag.max = 4, ic = \"AIC\")\n",
    "# Can also do the following for a more established model selection (it provides multiple ICs)\n",
    "#var1 <- VARselect(dataMonthly, lag.max=4)\n",
    "summary(var1)"
   ]
  },
  {
   "cell_type": "markdown",
   "metadata": {},
   "source": [
    "### Get the VAR Estimation Results"
   ]
  },
  {
   "cell_type": "code",
   "execution_count": 7,
   "metadata": {},
   "outputs": [
    {
     "data": {
      "text/plain": [
       "\n",
       "VAR Estimation Results:\n",
       "======================= \n",
       "\n",
       "Estimated coefficients for equation SNP.ret.Close: \n",
       "================================================== \n",
       "Call:\n",
       "SNP.ret.Close = SNP.ret.Close.l1 + MSFT.ret.Close.l1 + DTB3.sub.Close.l1 + SNP.ret.Close.l2 + MSFT.ret.Close.l2 + DTB3.sub.Close.l2 + SNP.ret.Close.l3 + MSFT.ret.Close.l3 + DTB3.sub.Close.l3 + const \n",
       "\n",
       " SNP.ret.Close.l1 MSFT.ret.Close.l1 DTB3.sub.Close.l1  SNP.ret.Close.l2 \n",
       "      0.074633617      -0.252463853       0.015642893      -0.111753709 \n",
       "MSFT.ret.Close.l2 DTB3.sub.Close.l2  SNP.ret.Close.l3 MSFT.ret.Close.l3 \n",
       "     -0.059053153      -0.034492399      -0.076811541      -0.006794271 \n",
       "DTB3.sub.Close.l3             const \n",
       "      0.019859823       0.002236926 \n",
       "\n",
       "\n",
       "Estimated coefficients for equation MSFT.ret.Close: \n",
       "=================================================== \n",
       "Call:\n",
       "MSFT.ret.Close = SNP.ret.Close.l1 + MSFT.ret.Close.l1 + DTB3.sub.Close.l1 + SNP.ret.Close.l2 + MSFT.ret.Close.l2 + DTB3.sub.Close.l2 + SNP.ret.Close.l3 + MSFT.ret.Close.l3 + DTB3.sub.Close.l3 + const \n",
       "\n",
       " SNP.ret.Close.l1 MSFT.ret.Close.l1 DTB3.sub.Close.l1  SNP.ret.Close.l2 \n",
       "    -0.0564751434      0.0342138440      0.0097896785     -0.0205293345 \n",
       "MSFT.ret.Close.l2 DTB3.sub.Close.l2  SNP.ret.Close.l3 MSFT.ret.Close.l3 \n",
       "    -0.0010122809     -0.0242044652      0.0867831771     -0.0110151424 \n",
       "DTB3.sub.Close.l3             const \n",
       "     0.0134447199     -0.0001592819 \n",
       "\n",
       "\n",
       "Estimated coefficients for equation DTB3.sub.Close: \n",
       "=================================================== \n",
       "Call:\n",
       "DTB3.sub.Close = SNP.ret.Close.l1 + MSFT.ret.Close.l1 + DTB3.sub.Close.l1 + SNP.ret.Close.l2 + MSFT.ret.Close.l2 + DTB3.sub.Close.l2 + SNP.ret.Close.l3 + MSFT.ret.Close.l3 + DTB3.sub.Close.l3 + const \n",
       "\n",
       " SNP.ret.Close.l1 MSFT.ret.Close.l1 DTB3.sub.Close.l1  SNP.ret.Close.l2 \n",
       "      -1.13399603       -0.34894618        1.09668458        1.43575050 \n",
       "MSFT.ret.Close.l2 DTB3.sub.Close.l2  SNP.ret.Close.l3 MSFT.ret.Close.l3 \n",
       "      -0.62802988        0.24736759       -3.76206739        1.24526638 \n",
       "DTB3.sub.Close.l3             const \n",
       "      -0.35019382        0.02109879 \n",
       "\n"
      ]
     },
     "metadata": {},
     "output_type": "display_data"
    }
   ],
   "source": [
    "var1"
   ]
  },
  {
   "cell_type": "markdown",
   "metadata": {},
   "source": [
    "### Interpretation:\n",
    "\n",
    "**1. Stationarity:**\n",
    "\n",
    "All the roots of the characteristic polynomial are inside the unit circle therefore implying stationarity.\n",
    "\n",
    "**2. Parsimony:**\n",
    "\n",
    "Looking at the full output, there are many insignificant variables at different time horizons and in different equations. However, if we were to restrict these individually to zero and re-estimate the model it would mean we are imposing a restriction without any apparent economic reasoning behind it.\n",
    "\n",
    "- Solution: **Lag restriction Test** to remove either a variable from the model or reducing the lag structure of the whole model."
   ]
  },
  {
   "cell_type": "markdown",
   "metadata": {},
   "source": [
    "## 3. Residual Test for Autocorrelation\n",
    "\n",
    "### Get the Plot of the VAR Model"
   ]
  },
  {
   "cell_type": "code",
   "execution_count": 8,
   "metadata": {
    "scrolled": false
   },
   "outputs": [
    {
     "data": {
      "image/png": "[encoded data removed]",
      "text/plain": [
       "Plot with title \"PACF Residuals\""
      ]
     },
     "metadata": {},
     "output_type": "display_data"
    },
    {
     "data": {
      "image/png": "[encoded data removed]",
      "text/plain": [
       "Plot with title \"PACF Residuals\""
      ]
     },
     "metadata": {},
     "output_type": "display_data"
    },
    {
     "data": {
      "image/png": "[encoded data removed]",
      "text/plain": [
       "Plot with title \"PACF Residuals\""
      ]
     },
     "metadata": {},
     "output_type": "display_data"
    }
   ],
   "source": [
    "plot(var1)"
   ]
  },
  {
   "cell_type": "markdown",
   "metadata": {},
   "source": [
    "### View Cross-Correlograms\n",
    "\n",
    "Cross-correlograms are a measure of similarity of two series as a function of the displacement of one relative to the other. Also called the *sliding dot product*."
   ]
  },
  {
   "cell_type": "code",
   "execution_count": 9,
   "metadata": {
    "scrolled": false
   },
   "outputs": [
    {
     "data": {
      "image/png": "[encoded data removed]",
      "text/plain": [
       "Plot with title \"resid_2 & resid_3\""
      ]
     },
     "metadata": {},
     "output_type": "display_data"
    }
   ],
   "source": [
    "residuals <- residuals(var1)\n",
    "resid_1 <- residuals[,1]\n",
    "resid_2 <- residuals[,2]\n",
    "resid_3 <- residuals[,3]\n",
    "\n",
    "# Plot the cross-correlograms\n",
    "par(mfcol=c(1,3))\n",
    "ccf(resid_1, resid_2, lag.max=4, type = \"correlation\", plot=TRUE)\n",
    "ccf(resid_1, resid_3, lag.max=4, type=\"correlation\", plot=TRUE)\n",
    "ccf(resid_2, resid_3, lag.max=4, type=\"correlation\", plot=TRUE)"
   ]
  },
  {
   "cell_type": "markdown",
   "metadata": {},
   "source": [
    "There are contemporaneous effects between the **first and second residuals** however they become non-significant at longer lags."
   ]
  },
  {
   "cell_type": "markdown",
   "metadata": {},
   "source": [
    "## 4. Predictions with VAR Models\n",
    "\n",
    "Specify number of periods and desired confidence interval"
   ]
  },
  {
   "cell_type": "code",
   "execution_count": 76,
   "metadata": {},
   "outputs": [
    {
     "data": {
      "text/plain": [
       "$SNP.ret.Close\n",
       "              fcst       lower      upper         CI\n",
       " [1,] -0.003521937 -0.04312153 0.03607766 0.03959959\n",
       " [2,]  0.003016369 -0.03815964 0.04419238 0.04117601\n",
       " [3,]  0.003925111 -0.03835475 0.04620498 0.04227986\n",
       " [4,]  0.002631408 -0.03970186 0.04496468 0.04233327\n",
       " [5,]  0.001812762 -0.04072484 0.04435036 0.04253760\n",
       " [6,]  0.001725203 -0.04092518 0.04437559 0.04265039\n",
       " [7,]  0.002223603 -0.04044849 0.04489570 0.04267210\n",
       " [8,]  0.002472261 -0.04020299 0.04514751 0.04267525\n",
       " [9,]  0.002576089 -0.04011235 0.04526453 0.04268844\n",
       "[10,]  0.002557676 -0.04013795 0.04525330 0.04269563\n",
       "\n",
       "$MSFT.ret.Close\n",
       "               fcst       lower      upper         CI\n",
       " [1,]  0.0003098750 -0.03554527 0.03616502 0.03585514\n",
       " [2,] -0.0010486220 -0.03714845 0.03505120 0.03609982\n",
       " [3,] -0.0008919769 -0.03746788 0.03568392 0.03657590\n",
       " [4,] -0.0012164045 -0.03810162 0.03566881 0.03688521\n",
       " [5,] -0.0008566409 -0.03780414 0.03609086 0.03694750\n",
       " [6,] -0.0008123192 -0.03782626 0.03620162 0.03701394\n",
       " [7,] -0.0007339333 -0.03775190 0.03628403 0.03701796\n",
       " [8,] -0.0007753505 -0.03781561 0.03626491 0.03704026\n",
       " [9,] -0.0007680283 -0.03781481 0.03627875 0.03704678\n",
       "[10,] -0.0007518435 -0.03780732 0.03630363 0.03705547\n",
       "\n",
       "$DTB3.sub.Close\n",
       "            fcst      lower     upper        CI\n",
       " [1,] 0.09171963 -0.3061191 0.4895583 0.3978387\n",
       " [2,] 0.17378755 -0.4180679 0.7656430 0.5918555\n",
       " [3,] 0.25928097 -0.5642320 1.0827940 0.8235130\n",
       " [4,] 0.33080315 -0.6981900 1.3597963 1.0289931\n",
       " [5,] 0.37814641 -0.8300223 1.5863151 1.2081687\n",
       " [6,] 0.41374547 -0.9688467 1.7963377 1.3825922\n",
       " [7,] 0.44259649 -1.0945001 1.9796931 1.5370966\n",
       " [8,] 0.46924541 -1.2117662 2.1502570 1.6810116\n",
       " [9,] 0.49392453 -1.3181772 2.3060263 1.8121018\n",
       "[10,] 0.51596369 -1.4160326 2.4479599 1.9319963\n"
      ]
     },
     "execution_count": 76,
     "metadata": {},
     "output_type": "execute_result"
    }
   ],
   "source": [
    "var.pred <- predict(var1, n.ahead=10, ci=0.95)\n",
    "var.pred"
   ]
  },
  {
   "cell_type": "markdown",
   "metadata": {},
   "source": [
    "### Forecast Variance Decomposition\n",
    "\n",
    "Which looks for how much of the forecast error variance is due to the shock in each equation."
   ]
  },
  {
   "cell_type": "code",
   "execution_count": 11,
   "metadata": {},
   "outputs": [
    {
     "data": {
      "image/png": "[encoded data removed]",
      "text/plain": [
       "Plot with title \"FEVD for DTB3.sub.Close\""
      ]
     },
     "metadata": {},
     "output_type": "display_data"
    }
   ],
   "source": [
    "VAR_fevd <- fevd(var1, n.ahead=10)\n",
    "plot(VAR_fevd)"
   ]
  },
  {
   "cell_type": "markdown",
   "metadata": {},
   "source": [
    "**a. SNP:** Explained almost completely by itself with some influences from the other variables after the first period.\n",
    "\n",
    "**b. MSFT:** Explained for the most part by itself and a part by the S&P 500 (increasing with time).\n",
    "\n",
    "**c. DTB3:** Explained almost completely by itself with some influences from the other variables (increasing with time)."
   ]
  },
  {
   "cell_type": "markdown",
   "metadata": {},
   "source": [
    "## 5. Impulse Response Function (Interpretation)\n",
    "\n",
    "Used to assess the dynamic path of each variable given a one SD shock by another variable.\n",
    "\n",
    "**Legend:**\n",
    "\n",
    "- Red Lines: 95% Confidence Interval\n",
    "\n",
    "- Black Lines: Shock (impulse)\n",
    "\n",
    "It is read as the movement of the black line across time, i.e.\n",
    "\n",
    "a. No Response = Stable line\n",
    "\n",
    "b. Increasing = Increasing line\n",
    "\n",
    "c. Decreasing = Decreasing line"
   ]
  },
  {
   "cell_type": "code",
   "execution_count": 15,
   "metadata": {
    "scrolled": false
   },
   "outputs": [
    {
     "data": {
      "image/png": "[encoded data removed]",
      "text/plain": [
       "plot without title"
      ]
     },
     "metadata": {},
     "output_type": "display_data"
    },
    {
     "data": {
      "image/png": "[encoded data removed]",
      "text/plain": [
       "plot without title"
      ]
     },
     "metadata": {},
     "output_type": "display_data"
    },
    {
     "data": {
      "image/png": "[encoded data removed]",
      "text/plain": [
       "plot without title"
      ]
     },
     "metadata": {},
     "output_type": "display_data"
    }
   ],
   "source": [
    "var.irf <- irf(var1, ci = 0.95)\n",
    "plot(var.irf)"
   ]
  },
  {
   "cell_type": "markdown",
   "metadata": {},
   "source": [
    "All the variables seem to respond in a delayed way by a shock in the US T-Bonds rates whereas there seem to be no major perturbations given by any other shocks in the other variables.\n",
    "\n",
    "Responses to their own shocks are normal therefore not factored in our analysis.\n",
    "\n",
    "Imposing restrictions:\n",
    "\n",
    "- S&P Index shocks do not have a contemporaneous effect on Microsoft\n",
    "\n",
    "- S&P Index shocks do not have a contemporaneous effect on interest rates\n",
    "\n",
    "- T-Bonds interest rates have minimal contemporaneous effects on Microsoft\n",
    "\n",
    "## Constructing the Structural VAR:\n",
    "\n",
    "The point of departure for a SVAR model is the already estimated reduced form of the VAR model (var1).\n",
    "\n",
    "We then amend it with the above **restrictions** following considerations on:\n",
    "\n",
    "- The **non-significance** of a majority of terms within the reduced VAR model\n",
    "\n",
    "- the **absence of contemporaneous effects** among some variables\n",
    "\n",
    "### Restrictions\n",
    "\n",
    "These restrictions, following our analysis of the impulse response function, enter into the SVAR model as $0$ in the $A$ matrix which is as follows:\n",
    "\n",
    "<p style = \"text-align:center\"> $\\begin{bmatrix} 1 & a_{12} & a_{13} \\\\ 0 & 1 & 0 \\\\ 0 & a_{32} & 1 \\end{bmatrix}$ </p>\n",
    "\n",
    "When setting up the $A$ matrix as a parameter for SVAR estimation, the positions of the to-be estimated parameters should take NA values:"
   ]
  },
  {
   "cell_type": "code",
   "execution_count": 25,
   "metadata": {},
   "outputs": [],
   "source": [
    "# Create the A-Matrix\n",
    "\n",
    "# Create an identity (3x3) matrix\n",
    "amat <- diag(3)\n",
    "\n",
    "# Populate the restriction values as NA values\n",
    "amat[2,1] <- NA\n",
    "amat[2,3] <- NA\n",
    "amat[3,1] <- NA"
   ]
  },
  {
   "cell_type": "markdown",
   "metadata": {},
   "source": [
    "### Fit the SVAR \n",
    "\n",
    "Using the newly constructed A-Matrix obtained from the restrions of the impulse response function, and re-plot the irf."
   ]
  },
  {
   "cell_type": "code",
   "execution_count": 26,
   "metadata": {
    "scrolled": false
   },
   "outputs": [
    {
     "data": {
      "image/png": "[encoded data removed]",
      "text/plain": [
       "plot without title"
      ]
     },
     "metadata": {},
     "output_type": "display_data"
    },
    {
     "data": {
      "image/png": "[encoded data removed]",
      "text/plain": [
       "plot without title"
      ]
     },
     "metadata": {},
     "output_type": "display_data"
    },
    {
     "data": {
      "image/png": "[encoded data removed]",
      "text/plain": [
       "plot without title"
      ]
     },
     "metadata": {},
     "output_type": "display_data"
    }
   ],
   "source": [
    "svar1 <- SVAR(var1, estmethod=\"direct\", Amat=amat)\n",
    "irf.svar <- irf(svar1)\n",
    "plot(irf.svar)"
   ]
  },
  {
   "cell_type": "markdown",
   "metadata": {},
   "source": [
    "After applying the restrictions we can cleary see that:\n",
    "\n",
    "- **Shocks in the T-Bond interest rates** have a clear influence on the dynamic path of both the **S&P Index** and **Microsoft Stock**."
   ]
  },
  {
   "cell_type": "markdown",
   "metadata": {},
   "source": [
    "## Additional Elements from the VAR Model\n",
    "\n",
    "### a. Get the VAR Coefficients"
   ]
  },
  {
   "cell_type": "code",
   "execution_count": 17,
   "metadata": {},
   "outputs": [
    {
     "data": {
      "text/html": [
       "<dl>\n",
       "\t<dt>$SNP.ret.Close</dt>\n",
       "\t\t<dd><table>\n",
       "<thead><tr><th></th><th scope=col>Estimate</th><th scope=col>Std. Error</th><th scope=col>t value</th><th scope=col>Pr(&gt;|t|)</th></tr></thead>\n",
       "<tbody>\n",
       "\t<tr><th scope=row>SNP.ret.Close.l1</th><td> 0.074633617</td><td>0.098738119 </td><td> 0.75587441 </td><td>0.451340139 </td></tr>\n",
       "\t<tr><th scope=row>MSFT.ret.Close.l1</th><td>-0.252463853</td><td>0.113365852 </td><td>-2.22698325 </td><td>0.027985083 </td></tr>\n",
       "\t<tr><th scope=row>DTB3.sub.Close.l1</th><td> 0.015642893</td><td>0.008527641 </td><td> 1.83437526 </td><td>0.069301064 </td></tr>\n",
       "\t<tr><th scope=row>SNP.ret.Close.l2</th><td>-0.111753709</td><td>0.098346061 </td><td>-1.13633132 </td><td>0.258287479 </td></tr>\n",
       "\t<tr><th scope=row>MSFT.ret.Close.l2</th><td>-0.059053153</td><td>0.116510204 </td><td>-0.50684962 </td><td>0.613274857 </td></tr>\n",
       "\t<tr><th scope=row>DTB3.sub.Close.l2</th><td>-0.034492399</td><td>0.012730067 </td><td>-2.70952221 </td><td>0.007817351 </td></tr>\n",
       "\t<tr><th scope=row>SNP.ret.Close.l3</th><td>-0.076811541</td><td>0.097182432 </td><td>-0.79038505 </td><td>0.431003608 </td></tr>\n",
       "\t<tr><th scope=row>MSFT.ret.Close.l3</th><td>-0.006794271</td><td>0.115425443 </td><td>-0.05886285 </td><td>0.953168150 </td></tr>\n",
       "\t<tr><th scope=row>DTB3.sub.Close.l3</th><td> 0.019859823</td><td>0.008555129 </td><td> 2.32139374 </td><td>0.022108015 </td></tr>\n",
       "\t<tr><th scope=row>const</th><td> 0.002236926</td><td>0.002474612 </td><td> 0.90395003 </td><td>0.367997322 </td></tr>\n",
       "</tbody>\n",
       "</table>\n",
       "</dd>\n",
       "\t<dt>$MSFT.ret.Close</dt>\n",
       "\t\t<dd><table>\n",
       "<thead><tr><th></th><th scope=col>Estimate</th><th scope=col>Std. Error</th><th scope=col>t value</th><th scope=col>Pr(&gt;|t|)</th></tr></thead>\n",
       "<tbody>\n",
       "\t<tr><th scope=row>SNP.ret.Close.l1</th><td>-0.0564751434</td><td>0.089401653  </td><td>-0.631701337 </td><td>0.52889268   </td></tr>\n",
       "\t<tr><th scope=row>MSFT.ret.Close.l1</th><td> 0.0342138440</td><td>0.102646218  </td><td> 0.333318115 </td><td>0.73952866   </td></tr>\n",
       "\t<tr><th scope=row>DTB3.sub.Close.l1</th><td> 0.0097896785</td><td>0.007721285  </td><td> 1.267881981 </td><td>0.20751724   </td></tr>\n",
       "\t<tr><th scope=row>SNP.ret.Close.l2</th><td>-0.0205293345</td><td>0.089046667  </td><td>-0.230545795 </td><td>0.81809591   </td></tr>\n",
       "\t<tr><th scope=row>MSFT.ret.Close.l2</th><td>-0.0010122809</td><td>0.105493247  </td><td>-0.009595694 </td><td>0.99236124   </td></tr>\n",
       "\t<tr><th scope=row>DTB3.sub.Close.l2</th><td>-0.0242044652</td><td>0.011526339  </td><td>-2.099926540 </td><td>0.03802165   </td></tr>\n",
       "\t<tr><th scope=row>SNP.ret.Close.l3</th><td> 0.0867831771</td><td>0.087993068  </td><td> 0.986250159 </td><td>0.32617476   </td></tr>\n",
       "\t<tr><th scope=row>MSFT.ret.Close.l3</th><td>-0.0110151424</td><td>0.104511059  </td><td>-0.105396907 </td><td>0.91625282   </td></tr>\n",
       "\t<tr><th scope=row>DTB3.sub.Close.l3</th><td> 0.0134447199</td><td>0.007746174  </td><td> 1.735659359 </td><td>0.08542438   </td></tr>\n",
       "\t<tr><th scope=row>const</th><td>-0.0001592819</td><td>0.002240618  </td><td>-0.071088370 </td><td>0.94345651   </td></tr>\n",
       "</tbody>\n",
       "</table>\n",
       "</dd>\n",
       "\t<dt>$DTB3.sub.Close</dt>\n",
       "\t\t<dd><table>\n",
       "<thead><tr><th></th><th scope=col>Estimate</th><th scope=col>Std. Error</th><th scope=col>t value</th><th scope=col>Pr(&gt;|t|)</th></tr></thead>\n",
       "<tbody>\n",
       "\t<tr><th scope=row>SNP.ret.Close.l1</th><td>-1.13399603 </td><td>0.99197596  </td><td>-1.1431689  </td><td>2.554504e-01</td></tr>\n",
       "\t<tr><th scope=row>MSFT.ret.Close.l1</th><td>-0.34894618 </td><td>1.13893399  </td><td>-0.3063796  </td><td>7.598948e-01</td></tr>\n",
       "\t<tr><th scope=row>DTB3.sub.Close.l1</th><td> 1.09668458 </td><td>0.08567324  </td><td>12.8007831  </td><td>1.591251e-23</td></tr>\n",
       "\t<tr><th scope=row>SNP.ret.Close.l2</th><td> 1.43575050 </td><td>0.98803713  </td><td> 1.4531341  </td><td>1.490334e-01</td></tr>\n",
       "\t<tr><th scope=row>MSFT.ret.Close.l2</th><td>-0.62802988 </td><td>1.17052383  </td><td>-0.5365375  </td><td>5.926706e-01</td></tr>\n",
       "\t<tr><th scope=row>DTB3.sub.Close.l2</th><td> 0.24736759 </td><td>0.12789306  </td><td> 1.9341752  </td><td>5.566049e-02</td></tr>\n",
       "\t<tr><th scope=row>SNP.ret.Close.l3</th><td>-3.76206739 </td><td>0.97634669  </td><td>-3.8532085  </td><td>1.964596e-04</td></tr>\n",
       "\t<tr><th scope=row>MSFT.ret.Close.l3</th><td> 1.24526638 </td><td>1.15962574  </td><td> 1.0738520  </td><td>2.852391e-01</td></tr>\n",
       "\t<tr><th scope=row>DTB3.sub.Close.l3</th><td>-0.35019382 </td><td>0.08594940  </td><td>-4.0744183  </td><td>8.734772e-05</td></tr>\n",
       "\t<tr><th scope=row>const</th><td> 0.02109879 </td><td>0.02486128  </td><td> 0.8486607  </td><td>3.979132e-01</td></tr>\n",
       "</tbody>\n",
       "</table>\n",
       "</dd>\n",
       "</dl>\n"
      ],
      "text/latex": [
       "\\begin{description}\n",
       "\\item[\\$SNP.ret.Close] \\begin{tabular}{r|llll}\n",
       "  & Estimate & Std. Error & t value & Pr(>\\textbar{}t\\textbar{})\\\\\n",
       "\\hline\n",
       "\tSNP.ret.Close.l1 &  0.074633617 & 0.098738119  &  0.75587441  & 0.451340139 \\\\\n",
       "\tMSFT.ret.Close.l1 & -0.252463853 & 0.113365852  & -2.22698325  & 0.027985083 \\\\\n",
       "\tDTB3.sub.Close.l1 &  0.015642893 & 0.008527641  &  1.83437526  & 0.069301064 \\\\\n",
       "\tSNP.ret.Close.l2 & -0.111753709 & 0.098346061  & -1.13633132  & 0.258287479 \\\\\n",
       "\tMSFT.ret.Close.l2 & -0.059053153 & 0.116510204  & -0.50684962  & 0.613274857 \\\\\n",
       "\tDTB3.sub.Close.l2 & -0.034492399 & 0.012730067  & -2.70952221  & 0.007817351 \\\\\n",
       "\tSNP.ret.Close.l3 & -0.076811541 & 0.097182432  & -0.79038505  & 0.431003608 \\\\\n",
       "\tMSFT.ret.Close.l3 & -0.006794271 & 0.115425443  & -0.05886285  & 0.953168150 \\\\\n",
       "\tDTB3.sub.Close.l3 &  0.019859823 & 0.008555129  &  2.32139374  & 0.022108015 \\\\\n",
       "\tconst &  0.002236926 & 0.002474612  &  0.90395003  & 0.367997322 \\\\\n",
       "\\end{tabular}\n",
       "\n",
       "\\item[\\$MSFT.ret.Close] \\begin{tabular}{r|llll}\n",
       "  & Estimate & Std. Error & t value & Pr(>\\textbar{}t\\textbar{})\\\\\n",
       "\\hline\n",
       "\tSNP.ret.Close.l1 & -0.0564751434 & 0.089401653   & -0.631701337  & 0.52889268   \\\\\n",
       "\tMSFT.ret.Close.l1 &  0.0342138440 & 0.102646218   &  0.333318115  & 0.73952866   \\\\\n",
       "\tDTB3.sub.Close.l1 &  0.0097896785 & 0.007721285   &  1.267881981  & 0.20751724   \\\\\n",
       "\tSNP.ret.Close.l2 & -0.0205293345 & 0.089046667   & -0.230545795  & 0.81809591   \\\\\n",
       "\tMSFT.ret.Close.l2 & -0.0010122809 & 0.105493247   & -0.009595694  & 0.99236124   \\\\\n",
       "\tDTB3.sub.Close.l2 & -0.0242044652 & 0.011526339   & -2.099926540  & 0.03802165   \\\\\n",
       "\tSNP.ret.Close.l3 &  0.0867831771 & 0.087993068   &  0.986250159  & 0.32617476   \\\\\n",
       "\tMSFT.ret.Close.l3 & -0.0110151424 & 0.104511059   & -0.105396907  & 0.91625282   \\\\\n",
       "\tDTB3.sub.Close.l3 &  0.0134447199 & 0.007746174   &  1.735659359  & 0.08542438   \\\\\n",
       "\tconst & -0.0001592819 & 0.002240618   & -0.071088370  & 0.94345651   \\\\\n",
       "\\end{tabular}\n",
       "\n",
       "\\item[\\$DTB3.sub.Close] \\begin{tabular}{r|llll}\n",
       "  & Estimate & Std. Error & t value & Pr(>\\textbar{}t\\textbar{})\\\\\n",
       "\\hline\n",
       "\tSNP.ret.Close.l1 & -1.13399603  & 0.99197596   & -1.1431689   & 2.554504e-01\\\\\n",
       "\tMSFT.ret.Close.l1 & -0.34894618  & 1.13893399   & -0.3063796   & 7.598948e-01\\\\\n",
       "\tDTB3.sub.Close.l1 &  1.09668458  & 0.08567324   & 12.8007831   & 1.591251e-23\\\\\n",
       "\tSNP.ret.Close.l2 &  1.43575050  & 0.98803713   &  1.4531341   & 1.490334e-01\\\\\n",
       "\tMSFT.ret.Close.l2 & -0.62802988  & 1.17052383   & -0.5365375   & 5.926706e-01\\\\\n",
       "\tDTB3.sub.Close.l2 &  0.24736759  & 0.12789306   &  1.9341752   & 5.566049e-02\\\\\n",
       "\tSNP.ret.Close.l3 & -3.76206739  & 0.97634669   & -3.8532085   & 1.964596e-04\\\\\n",
       "\tMSFT.ret.Close.l3 &  1.24526638  & 1.15962574   &  1.0738520   & 2.852391e-01\\\\\n",
       "\tDTB3.sub.Close.l3 & -0.35019382  & 0.08594940   & -4.0744183   & 8.734772e-05\\\\\n",
       "\tconst &  0.02109879  & 0.02486128   &  0.8486607   & 3.979132e-01\\\\\n",
       "\\end{tabular}\n",
       "\n",
       "\\end{description}\n"
      ],
      "text/markdown": [
       "$SNP.ret.Close\n",
       ":   \n",
       "| <!--/--> | Estimate | Std. Error | t value | Pr(>|t|) |\n",
       "|---|---|---|---|---|\n",
       "| SNP.ret.Close.l1 |  0.074633617 | 0.098738119  |  0.75587441  | 0.451340139  |\n",
       "| MSFT.ret.Close.l1 | -0.252463853 | 0.113365852  | -2.22698325  | 0.027985083  |\n",
       "| DTB3.sub.Close.l1 |  0.015642893 | 0.008527641  |  1.83437526  | 0.069301064  |\n",
       "| SNP.ret.Close.l2 | -0.111753709 | 0.098346061  | -1.13633132  | 0.258287479  |\n",
       "| MSFT.ret.Close.l2 | -0.059053153 | 0.116510204  | -0.50684962  | 0.613274857  |\n",
       "| DTB3.sub.Close.l2 | -0.034492399 | 0.012730067  | -2.70952221  | 0.007817351  |\n",
       "| SNP.ret.Close.l3 | -0.076811541 | 0.097182432  | -0.79038505  | 0.431003608  |\n",
       "| MSFT.ret.Close.l3 | -0.006794271 | 0.115425443  | -0.05886285  | 0.953168150  |\n",
       "| DTB3.sub.Close.l3 |  0.019859823 | 0.008555129  |  2.32139374  | 0.022108015  |\n",
       "| const |  0.002236926 | 0.002474612  |  0.90395003  | 0.367997322  |\n",
       "\n",
       "\n",
       "$MSFT.ret.Close\n",
       ":   \n",
       "| <!--/--> | Estimate | Std. Error | t value | Pr(>|t|) |\n",
       "|---|---|---|---|---|\n",
       "| SNP.ret.Close.l1 | -0.0564751434 | 0.089401653   | -0.631701337  | 0.52889268    |\n",
       "| MSFT.ret.Close.l1 |  0.0342138440 | 0.102646218   |  0.333318115  | 0.73952866    |\n",
       "| DTB3.sub.Close.l1 |  0.0097896785 | 0.007721285   |  1.267881981  | 0.20751724    |\n",
       "| SNP.ret.Close.l2 | -0.0205293345 | 0.089046667   | -0.230545795  | 0.81809591    |\n",
       "| MSFT.ret.Close.l2 | -0.0010122809 | 0.105493247   | -0.009595694  | 0.99236124    |\n",
       "| DTB3.sub.Close.l2 | -0.0242044652 | 0.011526339   | -2.099926540  | 0.03802165    |\n",
       "| SNP.ret.Close.l3 |  0.0867831771 | 0.087993068   |  0.986250159  | 0.32617476    |\n",
       "| MSFT.ret.Close.l3 | -0.0110151424 | 0.104511059   | -0.105396907  | 0.91625282    |\n",
       "| DTB3.sub.Close.l3 |  0.0134447199 | 0.007746174   |  1.735659359  | 0.08542438    |\n",
       "| const | -0.0001592819 | 0.002240618   | -0.071088370  | 0.94345651    |\n",
       "\n",
       "\n",
       "$DTB3.sub.Close\n",
       ":   \n",
       "| <!--/--> | Estimate | Std. Error | t value | Pr(>|t|) |\n",
       "|---|---|---|---|---|\n",
       "| SNP.ret.Close.l1 | -1.13399603  | 0.99197596   | -1.1431689   | 2.554504e-01 |\n",
       "| MSFT.ret.Close.l1 | -0.34894618  | 1.13893399   | -0.3063796   | 7.598948e-01 |\n",
       "| DTB3.sub.Close.l1 |  1.09668458  | 0.08567324   | 12.8007831   | 1.591251e-23 |\n",
       "| SNP.ret.Close.l2 |  1.43575050  | 0.98803713   |  1.4531341   | 1.490334e-01 |\n",
       "| MSFT.ret.Close.l2 | -0.62802988  | 1.17052383   | -0.5365375   | 5.926706e-01 |\n",
       "| DTB3.sub.Close.l2 |  0.24736759  | 0.12789306   |  1.9341752   | 5.566049e-02 |\n",
       "| SNP.ret.Close.l3 | -3.76206739  | 0.97634669   | -3.8532085   | 1.964596e-04 |\n",
       "| MSFT.ret.Close.l3 |  1.24526638  | 1.15962574   |  1.0738520   | 2.852391e-01 |\n",
       "| DTB3.sub.Close.l3 | -0.35019382  | 0.08594940   | -4.0744183   | 8.734772e-05 |\n",
       "| const |  0.02109879  | 0.02486128   |  0.8486607   | 3.979132e-01 |\n",
       "\n",
       "\n",
       "\n",
       "\n"
      ],
      "text/plain": [
       "$SNP.ret.Close\n",
       "                      Estimate  Std. Error     t value    Pr(>|t|)\n",
       "SNP.ret.Close.l1   0.074633617 0.098738119  0.75587441 0.451340139\n",
       "MSFT.ret.Close.l1 -0.252463853 0.113365852 -2.22698325 0.027985083\n",
       "DTB3.sub.Close.l1  0.015642893 0.008527641  1.83437526 0.069301064\n",
       "SNP.ret.Close.l2  -0.111753709 0.098346061 -1.13633132 0.258287479\n",
       "MSFT.ret.Close.l2 -0.059053153 0.116510204 -0.50684962 0.613274857\n",
       "DTB3.sub.Close.l2 -0.034492399 0.012730067 -2.70952221 0.007817351\n",
       "SNP.ret.Close.l3  -0.076811541 0.097182432 -0.79038505 0.431003608\n",
       "MSFT.ret.Close.l3 -0.006794271 0.115425443 -0.05886285 0.953168150\n",
       "DTB3.sub.Close.l3  0.019859823 0.008555129  2.32139374 0.022108015\n",
       "const              0.002236926 0.002474612  0.90395003 0.367997322\n",
       "\n",
       "$MSFT.ret.Close\n",
       "                       Estimate  Std. Error      t value   Pr(>|t|)\n",
       "SNP.ret.Close.l1  -0.0564751434 0.089401653 -0.631701337 0.52889268\n",
       "MSFT.ret.Close.l1  0.0342138440 0.102646218  0.333318115 0.73952866\n",
       "DTB3.sub.Close.l1  0.0097896785 0.007721285  1.267881981 0.20751724\n",
       "SNP.ret.Close.l2  -0.0205293345 0.089046667 -0.230545795 0.81809591\n",
       "MSFT.ret.Close.l2 -0.0010122809 0.105493247 -0.009595694 0.99236124\n",
       "DTB3.sub.Close.l2 -0.0242044652 0.011526339 -2.099926540 0.03802165\n",
       "SNP.ret.Close.l3   0.0867831771 0.087993068  0.986250159 0.32617476\n",
       "MSFT.ret.Close.l3 -0.0110151424 0.104511059 -0.105396907 0.91625282\n",
       "DTB3.sub.Close.l3  0.0134447199 0.007746174  1.735659359 0.08542438\n",
       "const             -0.0001592819 0.002240618 -0.071088370 0.94345651\n",
       "\n",
       "$DTB3.sub.Close\n",
       "                     Estimate Std. Error    t value     Pr(>|t|)\n",
       "SNP.ret.Close.l1  -1.13399603 0.99197596 -1.1431689 2.554504e-01\n",
       "MSFT.ret.Close.l1 -0.34894618 1.13893399 -0.3063796 7.598948e-01\n",
       "DTB3.sub.Close.l1  1.09668458 0.08567324 12.8007831 1.591251e-23\n",
       "SNP.ret.Close.l2   1.43575050 0.98803713  1.4531341 1.490334e-01\n",
       "MSFT.ret.Close.l2 -0.62802988 1.17052383 -0.5365375 5.926706e-01\n",
       "DTB3.sub.Close.l2  0.24736759 0.12789306  1.9341752 5.566049e-02\n",
       "SNP.ret.Close.l3  -3.76206739 0.97634669 -3.8532085 1.964596e-04\n",
       "MSFT.ret.Close.l3  1.24526638 1.15962574  1.0738520 2.852391e-01\n",
       "DTB3.sub.Close.l3 -0.35019382 0.08594940 -4.0744183 8.734772e-05\n",
       "const              0.02109879 0.02486128  0.8486607 3.979132e-01\n"
      ]
     },
     "metadata": {},
     "output_type": "display_data"
    }
   ],
   "source": [
    "coef(var1)"
   ]
  },
  {
   "cell_type": "markdown",
   "metadata": {},
   "source": [
    "### b. List of Fitted Values"
   ]
  },
  {
   "cell_type": "code",
   "execution_count": 71,
   "metadata": {},
   "outputs": [
    {
     "data": {
      "text/html": [
       "<table>\n",
       "<thead><tr><th scope=col>SNP.ret.Close</th><th scope=col>MSFT.ret.Close</th><th scope=col>DTB3.sub.Close</th></tr></thead>\n",
       "<tbody>\n",
       "\t<tr><td> 0.007554302 </td><td>-0.0046100653</td><td>0.9587519    </td></tr>\n",
       "\t<tr><td> 0.004859807 </td><td>-0.0018847259</td><td>1.0070912    </td></tr>\n",
       "\t<tr><td> 0.003093812 </td><td> 0.0007861252</td><td>0.9635066    </td></tr>\n",
       "\t<tr><td> 0.002838880 </td><td>-0.0006318675</td><td>1.3447005    </td></tr>\n",
       "\t<tr><td>-0.002978245 </td><td>-0.0026881910</td><td>1.4597739    </td></tr>\n",
       "\t<tr><td> 0.002324267 </td><td>-0.0010164105</td><td>1.5659121    </td></tr>\n",
       "</tbody>\n",
       "</table>\n"
      ],
      "text/latex": [
       "\\begin{tabular}{r|lll}\n",
       " SNP.ret.Close & MSFT.ret.Close & DTB3.sub.Close\\\\\n",
       "\\hline\n",
       "\t  0.007554302  & -0.0046100653 & 0.9587519    \\\\\n",
       "\t  0.004859807  & -0.0018847259 & 1.0070912    \\\\\n",
       "\t  0.003093812  &  0.0007861252 & 0.9635066    \\\\\n",
       "\t  0.002838880  & -0.0006318675 & 1.3447005    \\\\\n",
       "\t -0.002978245  & -0.0026881910 & 1.4597739    \\\\\n",
       "\t  0.002324267  & -0.0010164105 & 1.5659121    \\\\\n",
       "\\end{tabular}\n"
      ],
      "text/markdown": [
       "\n",
       "| SNP.ret.Close | MSFT.ret.Close | DTB3.sub.Close |\n",
       "|---|---|---|\n",
       "|  0.007554302  | -0.0046100653 | 0.9587519     |\n",
       "|  0.004859807  | -0.0018847259 | 1.0070912     |\n",
       "|  0.003093812  |  0.0007861252 | 0.9635066     |\n",
       "|  0.002838880  | -0.0006318675 | 1.3447005     |\n",
       "| -0.002978245  | -0.0026881910 | 1.4597739     |\n",
       "|  0.002324267  | -0.0010164105 | 1.5659121     |\n",
       "\n"
      ],
      "text/plain": [
       "  SNP.ret.Close MSFT.ret.Close DTB3.sub.Close\n",
       "1  0.007554302  -0.0046100653  0.9587519     \n",
       "2  0.004859807  -0.0018847259  1.0070912     \n",
       "3  0.003093812   0.0007861252  0.9635066     \n",
       "4  0.002838880  -0.0006318675  1.3447005     \n",
       "5 -0.002978245  -0.0026881910  1.4597739     \n",
       "6  0.002324267  -0.0010164105  1.5659121     "
      ]
     },
     "execution_count": 71,
     "metadata": {},
     "output_type": "execute_result"
    }
   ],
   "source": [
    "head(fitted(var1))"
   ]
  },
  {
   "cell_type": "markdown",
   "metadata": {},
   "source": [
    "### c. Coefficient matrices of the VMA Representation"
   ]
  },
  {
   "cell_type": "code",
   "execution_count": 21,
   "metadata": {
    "scrolled": true
   },
   "outputs": [
    {
     "data": {
      "text/html": [
       "<ol class=list-inline>\n",
       "\t<li>1</li>\n",
       "\t<li>0</li>\n",
       "\t<li>0</li>\n",
       "\t<li>0</li>\n",
       "\t<li>1</li>\n",
       "\t<li>0</li>\n",
       "\t<li>0</li>\n",
       "\t<li>0</li>\n",
       "\t<li>1</li>\n",
       "\t<li>0.0746336172703193</li>\n",
       "\t<li>-0.056475143426268</li>\n",
       "\t<li>-1.13399602901675</li>\n",
       "\t<li>-0.252463852956273</li>\n",
       "\t<li>0.0342138439767821</li>\n",
       "</ol>\n"
      ],
      "text/latex": [
       "\\begin{enumerate*}\n",
       "\\item 1\n",
       "\\item 0\n",
       "\\item 0\n",
       "\\item 0\n",
       "\\item 1\n",
       "\\item 0\n",
       "\\item 0\n",
       "\\item 0\n",
       "\\item 1\n",
       "\\item 0.0746336172703193\n",
       "\\item -0.056475143426268\n",
       "\\item -1.13399602901675\n",
       "\\item -0.252463852956273\n",
       "\\item 0.0342138439767821\n",
       "\\end{enumerate*}\n"
      ],
      "text/markdown": [
       "1. 1\n",
       "2. 0\n",
       "3. 0\n",
       "4. 0\n",
       "5. 1\n",
       "6. 0\n",
       "7. 0\n",
       "8. 0\n",
       "9. 1\n",
       "10. 0.0746336172703193\n",
       "11. -0.056475143426268\n",
       "12. -1.13399602901675\n",
       "13. -0.252463852956273\n",
       "14. 0.0342138439767821\n",
       "\n",
       "\n"
      ],
      "text/plain": [
       " [1]  1.00000000  0.00000000  0.00000000  0.00000000  1.00000000  0.00000000\n",
       " [7]  0.00000000  0.00000000  1.00000000  0.07463362 -0.05647514 -1.13399603\n",
       "[13] -0.25246385  0.03421384"
      ]
     },
     "metadata": {},
     "output_type": "display_data"
    }
   ],
   "source": [
    "head(Phi(var1), 14)"
   ]
  }
 ],
 "metadata": {
  "kernelspec": {
   "display_name": "R",
   "language": "R",
   "name": "ir"
  },
  "language_info": {
   "codemirror_mode": "r",
   "file_extension": ".r",
   "mimetype": "text/x-r-source",
   "name": "R",
   "pygments_lexer": "r",
   "version": "3.6.1"
  }
 },
 "nbformat": 4,
 "nbformat_minor": 1
}
