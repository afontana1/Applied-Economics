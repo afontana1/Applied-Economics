{
 "cells": [
  {
   "cell_type": "markdown",
   "metadata": {},
   "source": [
    "# VECM and Cointegration Analysis for Interest Rates\n",
    "*A Practical Application of Cointegrating Relationship Analysis*\n",
    "\n",
    "## Theoretical Reasoning:\n",
    "\n",
    "The connection between linear regression and Vector Error Correction stems from the problem of spurious regressions when working with non-stationary time-series. Spurious regression arises when we regress a unit root process on an independent unit root process, and this causes significant results and a well-fitted model even if there is no real-world relationship between the variables of interest. The one and only case in which it is valid to regress one unit-root process onto another is if there exists a linear combination of the two processes such that the resulting cointegrating relationship is integrated to an order of 0, i.e. is stationary. This process is known as Cointegration, and is used to uncover the long run dynamics of a non-stationary time-series.\n",
    "Given two non-stationary variables $Y_t,X_t$ such that:\n",
    "\n",
    "<br/>\n",
    "<p style=\"text-align: center;\">$Y_t,X_t  \\sim I(1)$\n",
    "<br/>\n",
    "    \n",
    "Regressing them onto each other yields two relationships:\n",
    "\n",
    "1. **Levels:** which makes sense only if the linear combination of the two variables yields a cointegrating relationship. In such a case we can think of this linear regression as the equilibrium level of the variable Y_t. Otherwise, this would yield a spurious regression.\n",
    "\n",
    "<br/>\n",
    "<p style=\"text-align: center;\">$Y_t^E= \\alpha +\\beta X_t+ \\epsilon_t$\n",
    "<br/>\n",
    "    \n",
    "The cointegrating relationships are given by the vector β such that:\n",
    "\n",
    "<br/>\n",
    "<p style=\"text-align: center;\">$Z_T= [Y_t  X_t  ]' \\sim I(1)$                      \n",
    "<br/>\n",
    "    \n",
    "<br/>\n",
    "<p style=\"text-align: center;\">$\\beta'=[1 -\\beta_2  ]$\n",
    "\n",
    "<br/>\n",
    "<p style=\"text-align: center;\">$Z_T \\beta'=[1-\\beta_2 ] * [Y_t  X_t  ]' = Y_t- \\beta_2 X_t \\sim I(0)$\n",
    "<br/><br/>\n",
    "    \n",
    "2.\t**Differences:** which yields the short-run dynamics of how the time-series variables interact with each other and is always stationary.\n",
    "\n",
    "<br/>\n",
    "<p style=\"text-align: center;\">$\\Delta Y_t= \\delta \\Delta X_t+u_t$\n",
    "<br/><br/>\n",
    "\n",
    "If there exists no cointegrating relationship between the two variables, i.e. no linear combination of Y_t,X_t such that the resulting relationship is stationary, the causal directionality between the regression in levels and the one in differences is unilateral. This means that if there is a long-term trend in levels then this is also likely to be present in the differences, but not vice-versa. Therefore, it is important to look for cointegrating relationships in order to prove there is a long-term relationship between the two non-stationary variables in both levels and differences.\n",
    "The way this is done, is by using the cointegration approach developed by Engle and Granger which consists of modelling an error correction model which accounts for both the short-run dynamics (embedded in the differences relationship) and the long-run dynamics (embedded in the levels relationship at equilibrium). This approach however has several limitations, namely that is only considers one cointegrating relationship at a time. Therefore, it is useful instead to use the Vector Error Correction Model (VECM) to make sense of the short-run and long-run dynamics of non-stationary variables across several cointegrating relationships, i.e. linear combinations. This is why we first start with a VAR process and manipulate the terms algebraically to arrive at the VECM process.\n",
    "\n",
    "\n",
    "<br/>\n",
    "<p style=\"text-align: center;\"> $VAR(P):$ $X_t=A_0+\\Sigma_{i=1}^p A_i X_{t-i}+ \\epsilon_t$ \n",
    "    \n",
    "<br/>\n",
    "<p style=\"text-align: center;\"> $VECM(P):$ $\\Delta X_t=A_0+\\Pi X_{t-1}+\\Sigma_{i=1}^p C_i\\Delta X_{t-i}+ \\epsilon_t$\n",
    "<br/><br/>\n",
    "\n",
    "    \n",
    "Using the derivation of the VECM is useful when uncovering the cointegrating relationships between variables in a multivariate setting across time which allows us to look at the interactions of the short-run and long-run dynamics of the cointegrated processes. The number of cointegrating relationships is determined by the rank of the matrix $\\Pi$, which has to be between the number of variables n and 0, i.e. $0 < r < n$. Once the number of cointegrating relationships has been determined, we can decompose the matrix Π into a product of two matrices, **AB**. This is useful in so much as it allows us to treat the matrix as the relationship we illustrated above with $Z_t \\beta'$.\n",
    "\n",
    "\n",
    "<br/>\n",
    "<p style=\"text-align: center;\">$\\Pi=A*B$\n",
    "<br/><br/>\n",
    "\n",
    "**B** = Represents r linearly independent rows that when multiplied with $X_t$ yields $r$ stationary long-term relationships.\n",
    "\n",
    "**A** = Represents the response of the changes in each variable given by deviations from the long-term relationships in $BX_t$.\n",
    "\n",
    "More succinctly, and in the case $r=1$, i.e. there is only one cointegrating relationship:\n",
    "\n",
    "<br/>\n",
    "<p style=\"text-align: center;\">$\\Delta X_{it}=\\alpha_i U_{t-1}+\\Sigma_{i=1}^p C_{i1}\\Delta X_{t-i}+ \\epsilon_{it}$\n",
    "<br/><br/>\n",
    "\n",
    "$U_{t-1}$ = Deviation from the long-run equilibrium to which there is an error correcting mechanism that pushes these deviations toward the long-run equilibrium.\n",
    "\n",
    "$\\alpha_i$ = Speed of adjustment of short-run shocks to the process to the long-term equilibrium.\n",
    "\n",
    "$C_{i1} \\Delta X_{t-i}$ = Captures the short-run dynamics in the process.\n",
    "\n",
    "Therefore, we can see that the connection between linear regression and the VECM process is one of investigating both the short-run and long-run dynamics of non-stationary variables with have cointegrating relationships.\n",
    "\n",
    "\n",
    "### VAR and Differencing\n",
    "\n",
    "In practice, modelling the stationary changes in weekly interest rates with a VAR process for the Euro-Dollar exchange rate \"thorws away\" all level of information. Differenencing is necessary if we want to apply the VAR approach to stationary series.\n",
    "\n",
    "### VECM and Cointegration\n",
    "\n",
    "When using the VECM approach instead we can simultaneoulsy model both the level and the difference of the series, provided the levels of the series are cointegrated."
   ]
  },
  {
   "cell_type": "code",
   "execution_count": 3,
   "metadata": {
    "scrolled": true
   },
   "outputs": [
    {
     "data": {
      "text/html": [
       "<table>\n",
       "<caption>A tibble: 6 × 4</caption>\n",
       "<thead>\n",
       "\t<tr><th scope=col>DATE</th><th scope=col>WED1</th><th scope=col>WED3</th><th scope=col>WED6</th></tr>\n",
       "\t<tr><th scope=col>&lt;dttm&gt;</th><th scope=col>&lt;dbl&gt;</th><th scope=col>&lt;dbl&gt;</th><th scope=col>&lt;dbl&gt;</th></tr>\n",
       "</thead>\n",
       "<tbody>\n",
       "\t<tr><td>1989-12-29</td><td>8.56</td><td>8.33</td><td>8.19</td></tr>\n",
       "\t<tr><td>1990-01-05</td><td>8.25</td><td>8.25</td><td>8.17</td></tr>\n",
       "\t<tr><td>1990-01-12</td><td>8.19</td><td>8.19</td><td>8.16</td></tr>\n",
       "\t<tr><td>1990-01-19</td><td>8.19</td><td>8.20</td><td>8.25</td></tr>\n",
       "\t<tr><td>1990-01-26</td><td>8.20</td><td>8.25</td><td>8.31</td></tr>\n",
       "\t<tr><td>1990-02-02</td><td>8.19</td><td>8.25</td><td>8.31</td></tr>\n",
       "</tbody>\n",
       "</table>\n"
      ],
      "text/latex": [
       "A tibble: 6 × 4\n",
       "\\begin{tabular}{llll}\n",
       " DATE & WED1 & WED3 & WED6\\\\\n",
       " <dttm> & <dbl> & <dbl> & <dbl>\\\\\n",
       "\\hline\n",
       "\t 1989-12-29 & 8.56 & 8.33 & 8.19\\\\\n",
       "\t 1990-01-05 & 8.25 & 8.25 & 8.17\\\\\n",
       "\t 1990-01-12 & 8.19 & 8.19 & 8.16\\\\\n",
       "\t 1990-01-19 & 8.19 & 8.20 & 8.25\\\\\n",
       "\t 1990-01-26 & 8.20 & 8.25 & 8.31\\\\\n",
       "\t 1990-02-02 & 8.19 & 8.25 & 8.31\\\\\n",
       "\\end{tabular}\n"
      ],
      "text/markdown": [
       "\n",
       "A tibble: 6 × 4\n",
       "\n",
       "| DATE &lt;dttm&gt; | WED1 &lt;dbl&gt; | WED3 &lt;dbl&gt; | WED6 &lt;dbl&gt; |\n",
       "|---|---|---|---|\n",
       "| 1989-12-29 | 8.56 | 8.33 | 8.19 |\n",
       "| 1990-01-05 | 8.25 | 8.25 | 8.17 |\n",
       "| 1990-01-12 | 8.19 | 8.19 | 8.16 |\n",
       "| 1990-01-19 | 8.19 | 8.20 | 8.25 |\n",
       "| 1990-01-26 | 8.20 | 8.25 | 8.31 |\n",
       "| 1990-02-02 | 8.19 | 8.25 | 8.31 |\n",
       "\n"
      ],
      "text/plain": [
       "  DATE       WED1 WED3 WED6\n",
       "1 1989-12-29 8.56 8.33 8.19\n",
       "2 1990-01-05 8.25 8.25 8.17\n",
       "3 1990-01-12 8.19 8.19 8.16\n",
       "4 1990-01-19 8.19 8.20 8.25\n",
       "5 1990-01-26 8.20 8.25 8.31\n",
       "6 1990-02-02 8.19 8.25 8.31"
      ]
     },
     "metadata": {},
     "output_type": "display_data"
    }
   ],
   "source": [
    "library(readxl)\n",
    "library(urca)\n",
    "library(tsDyn)\n",
    "\n",
    "euro_dollar_rates <- read_excel(\"./Module_5_Data_Euro-Dollar_Rates.xls\", sheet = \"Weekly,_Ending_Friday\")\n",
    "head(euro_dollar_rates)"
   ]
  },
  {
   "cell_type": "markdown",
   "metadata": {},
   "source": [
    "## Johansen Test\n",
    "\n",
    "The Johanses test involves testing for the number of statistically non-zero eigenvalues of the matrix $\\Pi$. For this we estimmate an unrestricted VECM and do two tests: the trace and max eigenvalue tests developed by Johanses(1988)."
   ]
  },
  {
   "cell_type": "code",
   "execution_count": 4,
   "metadata": {
    "scrolled": false
   },
   "outputs": [
    {
     "data": {
      "text/plain": [
       "\n",
       "###################### \n",
       "# Johansen-Procedure # \n",
       "###################### \n",
       "\n",
       "Test type: maximal eigenvalue statistic (lambda max) , with linear trend \n",
       "\n",
       "Eigenvalues (lambda):\n",
       "[1] 0.146156486 0.065201628 0.006132301\n",
       "\n",
       "Values of teststatistic and critical values of test:\n",
       "\n",
       "           test 10pct  5pct  1pct\n",
       "r <= 2 |   5.41  6.50  8.18 11.65\n",
       "r <= 1 |  59.27 12.91 14.90 19.19\n",
       "r = 0  | 138.89 18.90 21.07 25.75\n",
       "\n",
       "Eigenvectors, normalised to first column:\n",
       "(These are the cointegration relations)\n",
       "\n",
       "                      d_one_month_rate.l9 d_three_month_rate.l9\n",
       "d_one_month_rate.l9             1.0000000              1.000000\n",
       "d_three_month_rate.l9          -1.6015884              2.904978\n",
       "d_six_month_rate.l9             0.6080626             -3.886571\n",
       "                      d_six_month_rate.l9\n",
       "d_one_month_rate.l9              1.000000\n",
       "d_three_month_rate.l9           -1.257257\n",
       "d_six_month_rate.l9              3.767824\n",
       "\n",
       "Weights W:\n",
       "(This is the loading matrix)\n",
       "\n",
       "                     d_one_month_rate.l9 d_three_month_rate.l9\n",
       "d_one_month_rate.d            -0.5234407           -0.03698967\n",
       "d_three_month_rate.d          -0.1128012           -0.03317527\n",
       "d_six_month_rate.d            -0.1715670           -0.01719750\n",
       "                     d_six_month_rate.l9\n",
       "d_one_month_rate.d         -0.0002448355\n",
       "d_three_month_rate.d       -0.0005654808\n",
       "d_six_month_rate.d         -0.0008244080\n"
      ]
     },
     "metadata": {},
     "output_type": "display_data"
    }
   ],
   "source": [
    "d_one_month_rate <- euro_dollar_rates$WED1\n",
    "d_three_month_rate <- euro_dollar_rates$WED3\n",
    "d_six_month_rate <- euro_dollar_rates$WED6\n",
    "\n",
    "d_rates <- cbind(d_one_month_rate, d_three_month_rate, d_six_month_rate)\n",
    "\n",
    "jotest1 <- ca.jo(d_rates, type =\"eigen\", K=9, ecdet=\"none\", spec = \"longrun\")\n",
    "summary(jotest1)"
   ]
  },
  {
   "cell_type": "code",
   "execution_count": 5,
   "metadata": {},
   "outputs": [
    {
     "data": {
      "text/plain": [
       "\n",
       "###################### \n",
       "# Johansen-Procedure # \n",
       "###################### \n",
       "\n",
       "Test type: trace statistic , with linear trend \n",
       "\n",
       "Eigenvalues (lambda):\n",
       "[1] 0.146156486 0.065201628 0.006132301\n",
       "\n",
       "Values of teststatistic and critical values of test:\n",
       "\n",
       "           test 10pct  5pct  1pct\n",
       "r <= 2 |   5.41  6.50  8.18 11.65\n",
       "r <= 1 |  64.67 15.66 17.95 23.52\n",
       "r = 0  | 203.56 28.71 31.52 37.22\n",
       "\n",
       "Eigenvectors, normalised to first column:\n",
       "(These are the cointegration relations)\n",
       "\n",
       "                      d_one_month_rate.l9 d_three_month_rate.l9\n",
       "d_one_month_rate.l9             1.0000000              1.000000\n",
       "d_three_month_rate.l9          -1.6015884              2.904978\n",
       "d_six_month_rate.l9             0.6080626             -3.886571\n",
       "                      d_six_month_rate.l9\n",
       "d_one_month_rate.l9              1.000000\n",
       "d_three_month_rate.l9           -1.257257\n",
       "d_six_month_rate.l9              3.767824\n",
       "\n",
       "Weights W:\n",
       "(This is the loading matrix)\n",
       "\n",
       "                     d_one_month_rate.l9 d_three_month_rate.l9\n",
       "d_one_month_rate.d            -0.5234407           -0.03698967\n",
       "d_three_month_rate.d          -0.1128012           -0.03317527\n",
       "d_six_month_rate.d            -0.1715670           -0.01719750\n",
       "                     d_six_month_rate.l9\n",
       "d_one_month_rate.d         -0.0002448355\n",
       "d_three_month_rate.d       -0.0005654808\n",
       "d_six_month_rate.d         -0.0008244080\n"
      ]
     },
     "metadata": {},
     "output_type": "display_data"
    }
   ],
   "source": [
    "jotest2 <- ca.jo(d_rates, type =\"trace\", K=9, ecdet=\"none\", spec = \"longrun\")\n",
    "summary(jotest2)"
   ]
  },
  {
   "cell_type": "markdown",
   "metadata": {},
   "source": [
    "## Johansen Test Results\n",
    "\n",
    "These tests show strong evidence of cointegration, satisfying the requirements we place on $\\Pi$. Therefore, we can see that the number of cointegrating relationships $r = 2$ and $n = 3$ such that: $0 < 2 < 3$.\n",
    "\n",
    "### Test \n",
    "\n",
    "* If test value > critical value (10%, 5%, 1%) --> Reject $H_0$\n",
    "\n",
    "* If test value < critical value (10%, 5%, 1%) --> Fail to reject $H_0$\n",
    "\n",
    "#### Relationship between hypothesis and cointegration\n",
    "\n",
    "| Null Hypothesis ($H_0$) |Test| 1% | 5% | 10% | Alternative Hypothesis ($H_1$) | Results|\n",
    "| ----- | ---- |  ---- |  ---- | ---- |   ---- |  ---- | \n",
    "|r <= 2 | 5.41|5.41 > 11.65|5.41 > 8.18 | 5.41 > 6.50|r > 2: fail to reject the null hypothesis| max 2 cointegrating relationships|\n",
    "| r <= 1| 64.67|64.67 > 23.52| 64.67 > 17.95 | 64.67 > 15.66|r > 1: reject the null hypothesis|more than 1 cointegrating relationship|\n",
    "| r = 0 | 203.56|203.56 > 37.22 |203.56 > 31.52 |203.56 > 28.71 |r > 0: reject the null hypothesis| more than 0 cointegrating relationships|\n",
    "\n",
    "Both tests strongly reject the hypothesis that there are no or at most 1 cointegrating relationship, but fail to reject that there are at most 2.\n",
    "\n",
    "We conclude that there are 2 cointegrating relationships between the variables. We can now estimate the VECM imposing this restriction."
   ]
  },
  {
   "cell_type": "code",
   "execution_count": 6,
   "metadata": {},
   "outputs": [
    {
     "data": {
      "text/plain": [
       "#############\n",
       "###Model VECM \n",
       "#############\n",
       "Full sample size: 888 \tEnd sample size: 886\n",
       "Number of variables: 3 \tNumber of estimated slope parameters 18\n",
       "AIC -15291.93 \tBIC -15196.19 \tSSR 20.12427\n",
       "Cointegrating vector (estimated by ML):\n",
       "   d_one_month_rate d_three_month_rate d_six_month_rate\n",
       "r1     1.000000e+00                  0       -0.9827959\n",
       "r2     5.829457e-17                  1       -0.9930257\n",
       "\n",
       "\n",
       "                            ECT1               ECT2               \n",
       "Equation d_one_month_rate   -0.3478(0.0325)*** 0.3937(0.0585)***  \n",
       "Equation d_three_month_rate -0.1019(0.0242)*** -0.0007(0.0436)    \n",
       "Equation d_six_month_rate   -0.0965(0.0256)*** 0.0389(0.0461)     \n",
       "                            Intercept          d_one_month_rate -1\n",
       "Equation d_one_month_rate   -0.0112(0.0039)**  0.0278(0.0517)     \n",
       "Equation d_three_month_rate -0.0127(0.0029)*** -0.1679(0.0385)*** \n",
       "Equation d_six_month_rate   -0.0094(0.0031)**  -0.1466(0.0408)*** \n",
       "                            d_three_month_rate -1 d_six_month_rate -1\n",
       "Equation d_one_month_rate   0.0414(0.1243)        -0.0079(0.0986)    \n",
       "Equation d_three_month_rate 0.3699(0.0926)***     -0.0485(0.0734)    \n",
       "Equation d_six_month_rate   0.2265(0.0979)*       0.1039(0.0777)     "
      ]
     },
     "metadata": {},
     "output_type": "display_data"
    }
   ],
   "source": [
    "VECM <- VECM(d_rates, 1, r = 2, include = \"const\", estim=\"ML\",LRinclude = \"none\")\n",
    "summary(VECM)"
   ]
  }
 ],
 "metadata": {
  "kernelspec": {
   "display_name": "R (R-Project)",
   "language": "r",
   "name": "ir"
  },
  "language_info": {
   "codemirror_mode": "r",
   "file_extension": ".r",
   "mimetype": "text/x-r-source",
   "name": "R",
   "pygments_lexer": "r",
   "version": "3.6.1"
  }
 },
 "nbformat": 4,
 "nbformat_minor": 1
}
