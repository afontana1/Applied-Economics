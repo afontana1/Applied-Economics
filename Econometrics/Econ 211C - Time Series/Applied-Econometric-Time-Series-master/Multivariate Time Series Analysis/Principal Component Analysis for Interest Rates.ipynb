{
 "cells": [
  {
   "cell_type": "markdown",
   "metadata": {},
   "source": [
    "# Principal Component Analysis for Interest Rates\n",
    "\n",
    "Is a method to decompose a set of correlated columns/variables which are non-orthogonal, into a set of uncorrelated components and a loading matrix.\n",
    "\n",
    "<br/>\n",
    "<p style=\"text-align: center;\">$X = C * L$\n",
    "<br/><br/>\n",
    "    \n",
    "**X =** Non-orthogonal matrix (has non-zero correlations between columns).\n",
    "\n",
    "**C =** Is orthogonal, even the sample correlations between the columns are equal to zero. (The components of the process).\n",
    "\n",
    "**L =** Is the loading matrix"
   ]
  },
  {
   "cell_type": "code",
   "execution_count": 8,
   "metadata": {},
   "outputs": [
    {
     "data": {
      "text/html": [
       "<table>\n",
       "<caption>A matrix: 6 × 3 of type dbl</caption>\n",
       "<thead>\n",
       "\t<tr><th scope=col>d_one_month_rate</th><th scope=col>d_three_month_rate</th><th scope=col>d_six_month_rate</th></tr>\n",
       "</thead>\n",
       "<tbody>\n",
       "\t<tr><td>-0.31</td><td>-0.08</td><td>-0.02</td></tr>\n",
       "\t<tr><td>-0.06</td><td>-0.06</td><td>-0.01</td></tr>\n",
       "\t<tr><td> 0.00</td><td> 0.01</td><td> 0.09</td></tr>\n",
       "\t<tr><td> 0.01</td><td> 0.05</td><td> 0.06</td></tr>\n",
       "\t<tr><td>-0.01</td><td> 0.00</td><td> 0.00</td></tr>\n",
       "\t<tr><td> 0.00</td><td> 0.00</td><td> 0.00</td></tr>\n",
       "</tbody>\n",
       "</table>\n"
      ],
      "text/latex": [
       "A matrix: 6 × 3 of type dbl\n",
       "\\begin{tabular}{lll}\n",
       " d\\_one\\_month\\_rate & d\\_three\\_month\\_rate & d\\_six\\_month\\_rate\\\\\n",
       "\\hline\n",
       "\t -0.31 & -0.08 & -0.02\\\\\n",
       "\t -0.06 & -0.06 & -0.01\\\\\n",
       "\t  0.00 &  0.01 &  0.09\\\\\n",
       "\t  0.01 &  0.05 &  0.06\\\\\n",
       "\t -0.01 &  0.00 &  0.00\\\\\n",
       "\t  0.00 &  0.00 &  0.00\\\\\n",
       "\\end{tabular}\n"
      ],
      "text/markdown": [
       "\n",
       "A matrix: 6 × 3 of type dbl\n",
       "\n",
       "| d_one_month_rate | d_three_month_rate | d_six_month_rate |\n",
       "|---|---|---|\n",
       "| -0.31 | -0.08 | -0.02 |\n",
       "| -0.06 | -0.06 | -0.01 |\n",
       "|  0.00 |  0.01 |  0.09 |\n",
       "|  0.01 |  0.05 |  0.06 |\n",
       "| -0.01 |  0.00 |  0.00 |\n",
       "|  0.00 |  0.00 |  0.00 |\n",
       "\n"
      ],
      "text/plain": [
       "     d_one_month_rate d_three_month_rate d_six_month_rate\n",
       "[1,] -0.31            -0.08              -0.02           \n",
       "[2,] -0.06            -0.06              -0.01           \n",
       "[3,]  0.00             0.01               0.09           \n",
       "[4,]  0.01             0.05               0.06           \n",
       "[5,] -0.01             0.00               0.00           \n",
       "[6,]  0.00             0.00               0.00           "
      ]
     },
     "metadata": {},
     "output_type": "display_data"
    }
   ],
   "source": [
    "library(readxl)\n",
    "library(urca)\n",
    "library(tsDyn)\n",
    "\n",
    "euro_dollar_rates <- read_excel(\"./Module_5_Data_Euro-Dollar_Rates.xls\", sheet = \"Weekly,_Ending_Friday\")\n",
    "\n",
    "d_one_month_rate <- diff(euro_dollar_rates$WED1)\n",
    "d_three_month_rate <- diff(euro_dollar_rates$WED3)\n",
    "d_six_month_rate <- diff(euro_dollar_rates$WED6)\n",
    "\n",
    "d_rates <- cbind(d_one_month_rate, d_three_month_rate, d_six_month_rate)\n",
    "head(d_rates)"
   ]
  },
  {
   "cell_type": "code",
   "execution_count": 9,
   "metadata": {},
   "outputs": [
    {
     "data": {
      "image/png": "[encoded data removed]",
      "text/plain": [
       "Plot with title “pca”"
      ]
     },
     "metadata": {},
     "output_type": "display_data"
    }
   ],
   "source": [
    "# Apply PCA to changes in interest rates\n",
    "pca = princomp(d_rates)\n",
    "\n",
    "# Plot the variance of the three components\n",
    "plot(pca)"
   ]
  },
  {
   "cell_type": "markdown",
   "metadata": {},
   "source": [
    "We observe that the first component has an almost 5 times larger variance than the second. The third component has almost a negligible variance.\n",
    "\n",
    "This means that we can capture a large part of the variability in all threee base series by using only the first component without losing alot of information.\n",
    "\n",
    "## Orthogonalization of the Method\n",
    "\n",
    "Let's construct the correlation matrix between the different components (**C** is also known as scores)."
   ]
  },
  {
   "cell_type": "code",
   "execution_count": 10,
   "metadata": {},
   "outputs": [
    {
     "data": {
      "text/html": [
       "<table>\n",
       "<caption>A matrix: 3 × 3 of type dbl</caption>\n",
       "<thead>\n",
       "\t<tr><th></th><th scope=col>Comp.1</th><th scope=col>Comp.2</th><th scope=col>Comp.3</th></tr>\n",
       "</thead>\n",
       "<tbody>\n",
       "\t<tr><th scope=row>Comp.1</th><td> 1.000000e+00</td><td> 3.144952e-17</td><td>-3.718126e-16</td></tr>\n",
       "\t<tr><th scope=row>Comp.2</th><td> 3.144952e-17</td><td> 1.000000e+00</td><td>-3.017217e-16</td></tr>\n",
       "\t<tr><th scope=row>Comp.3</th><td>-3.718126e-16</td><td>-3.017217e-16</td><td> 1.000000e+00</td></tr>\n",
       "</tbody>\n",
       "</table>\n"
      ],
      "text/latex": [
       "A matrix: 3 × 3 of type dbl\n",
       "\\begin{tabular}{r|lll}\n",
       "  & Comp.1 & Comp.2 & Comp.3\\\\\n",
       "\\hline\n",
       "\tComp.1 &  1.000000e+00 &  3.144952e-17 & -3.718126e-16\\\\\n",
       "\tComp.2 &  3.144952e-17 &  1.000000e+00 & -3.017217e-16\\\\\n",
       "\tComp.3 & -3.718126e-16 & -3.017217e-16 &  1.000000e+00\\\\\n",
       "\\end{tabular}\n"
      ],
      "text/markdown": [
       "\n",
       "A matrix: 3 × 3 of type dbl\n",
       "\n",
       "| <!--/--> | Comp.1 | Comp.2 | Comp.3 |\n",
       "|---|---|---|---|\n",
       "| Comp.1 |  1.000000e+00 |  3.144952e-17 | -3.718126e-16 |\n",
       "| Comp.2 |  3.144952e-17 |  1.000000e+00 | -3.017217e-16 |\n",
       "| Comp.3 | -3.718126e-16 | -3.017217e-16 |  1.000000e+00 |\n",
       "\n"
      ],
      "text/plain": [
       "       Comp.1        Comp.2        Comp.3       \n",
       "Comp.1  1.000000e+00  3.144952e-17 -3.718126e-16\n",
       "Comp.2  3.144952e-17  1.000000e+00 -3.017217e-16\n",
       "Comp.3 -3.718126e-16 -3.017217e-16  1.000000e+00"
      ]
     },
     "metadata": {},
     "output_type": "display_data"
    }
   ],
   "source": [
    "# Compute the correlations of the components:\n",
    "\n",
    "cor(pca$scores)"
   ]
  },
  {
   "cell_type": "markdown",
   "metadata": {},
   "source": [
    "The off diagonals are zero up to 14 decimal positions, which is exactly what the procedure wanted to achieve\n",
    "\n",
    "We can also see the **Loading Matrix** which are the eigenvalues corresponding to the covariance matrix of the original data."
   ]
  },
  {
   "cell_type": "code",
   "execution_count": 11,
   "metadata": {},
   "outputs": [
    {
     "data": {
      "text/plain": [
       "\n",
       "Loadings:\n",
       "                   Comp.1 Comp.2 Comp.3\n",
       "d_one_month_rate    0.689  0.709  0.152\n",
       "d_three_month_rate  0.521 -0.337 -0.784\n",
       "d_six_month_rate    0.505 -0.619  0.601\n",
       "\n",
       "               Comp.1 Comp.2 Comp.3\n",
       "SS loadings     1.000  1.000  1.000\n",
       "Proportion Var  0.333  0.333  0.333\n",
       "Cumulative Var  0.333  0.667  1.000"
      ]
     },
     "metadata": {},
     "output_type": "display_data"
    }
   ],
   "source": [
    "pca$loadings"
   ]
  },
  {
   "cell_type": "markdown",
   "metadata": {},
   "source": [
    "If we were to take the [3 x 3] loading matrix and pre-multiply it by the [n x 3] score matrix (each column containing a successive component), we would recreate the original [n x 3] data on the changes in the three interest rates exactly."
   ]
  }
 ],
 "metadata": {
  "kernelspec": {
   "display_name": "R (R-Project)",
   "language": "r",
   "name": "ir"
  },
  "language_info": {
   "codemirror_mode": "r",
   "file_extension": ".r",
   "mimetype": "text/x-r-source",
   "name": "R",
   "pygments_lexer": "r",
   "version": "3.6.1"
  }
 },
 "nbformat": 4,
 "nbformat_minor": 2
}
