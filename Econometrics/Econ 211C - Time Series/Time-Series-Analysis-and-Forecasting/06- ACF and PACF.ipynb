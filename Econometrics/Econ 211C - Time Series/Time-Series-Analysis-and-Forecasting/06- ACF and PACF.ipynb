{
  "nbformat": 4,
  "nbformat_minor": 0,
  "metadata": {
    "kernelspec": {
      "display_name": "Python 3",
      "language": "python",
      "name": "python3"
    },
    "language_info": {
      "codemirror_mode": {
        "name": "ipython",
        "version": 3
      },
      "file_extension": ".py",
      "mimetype": "text/x-python",
      "name": "python",
      "nbconvert_exporter": "python",
      "pygments_lexer": "ipython3",
      "version": "3.6.6"
    },
    "colab": {
      "name": "01-ACF-and-PACF.ipynb",
      "provenance": [],
      "toc_visible": true
    }
  },
  "cells": [
    {
      "cell_type": "markdown",
      "metadata": {
        "id": "CFdbfDft1al4",
        "colab_type": "text"
      },
      "source": [
        "# ACF and PACF\n",
        "# Autocorrelation Function / Partial Autocorrelation Function\n",
        "Before we can investigate <em>autoregression</em> as a modeling tool, we need to look at <em>covariance</em> and <em>correlation</em> as they relate to lagged (shifted) samples of a time series.\n",
        "\n",
        "In general the `ACF` describes the correlation between an observation and another observation at a prior time step that includes direct and indirect dependence information. In contrast the `PACF` describes the direct relationship between an observation ans its lag.\n",
        "### Goals\n",
        " * Be able to create ACF and PACF charts\n",
        " * Create these charts for multiple times series, one with seasonality and another without\n",
        " * Be able to calculate Orders PQD terms for ARIMA off these charts (highlight where they cross the x axis)\n",
        " \n",
        "<div class=\"alert alert-info\"><h3>Related Functions:</h3>\n",
        "<tt><strong>\n",
        "<a href='https://www.statsmodels.org/stable/generated/statsmodels.tsa.stattools.acovf.html'>stattools.acovf</a></strong><font color=black>(x[, unbiased, demean, fft, …])</font>&nbsp;Autocovariance for 1D<br>\n",
        "<strong><a href='https://www.statsmodels.org/stable/generated/statsmodels.tsa.stattools.acf.html'>stattools.acf</a></strong><font color=black>(x[, unbiased, nlags, qstat, …])</font>&nbsp;&nbsp;Autocorrelation function for 1d arrays<br>\n",
        "<strong><a href='https://www.statsmodels.org/stable/generated/statsmodels.tsa.stattools.pacf.html'>stattools.pacf</a></strong><font color=black>(x[, nlags, method, alpha])</font>&nbsp;&nbsp;&nbsp;&nbsp;&nbsp;&nbsp;Partial autocorrelation estimated<br>\n",
        "<strong><a href='https://www.statsmodels.org/stable/generated/statsmodels.tsa.stattools.pacf_yw.html'>stattools.pacf_yw</a></strong><font color=black>(x[, nlags, method])</font>&nbsp;&nbsp;&nbsp;&nbsp;&nbsp;&nbsp;&nbsp;&nbsp;&nbsp;&nbsp;Partial autocorrelation estimated with non-recursive yule_walker<br>\n",
        "<strong><a href='https://www.statsmodels.org/stable/generated/statsmodels.tsa.stattools.pacf_ols.html'>stattools.pacf_ols</a></strong><font color=black>(x[, nlags])</font>&nbsp;&nbsp;&nbsp;&nbsp;&nbsp;&nbsp;&nbsp;&nbsp;&nbsp;&nbsp;&nbsp;&nbsp;&nbsp;&nbsp;&nbsp;&nbsp;&nbsp;Calculate partial autocorrelations</tt>\n",
        "   \n",
        "<h3>Related Plot Methods:</h3>\n",
        "<tt><strong>\n",
        "<a href='https://www.statsmodels.org/stable/generated/statsmodels.graphics.tsaplots.plot_acf.html'>tsaplots.plot_acf</a></strong><font color=black>(x)</font>&nbsp;&nbsp;&nbsp;Plot the autocorrelation function<br>\n",
        "<strong><a href='https://www.statsmodels.org/stable/generated/statsmodels.graphics.tsaplots.plot_pacf.html'>tsaplots.plot_pacf</a></strong><font color=black>(x)</font>&nbsp;&nbsp;Plot the partial autocorrelation function</tt>\n",
        "\n",
        "<h3>For Further Reading:</h3>\n",
        "<strong>\n",
        "<a href='https://en.wikipedia.org/wiki/Autocovariance'>Wikipedia:</a></strong>&nbsp;&nbsp;<font color=black>Autocovariance</font><br>\n",
        "<strong>\n",
        "<a href='https://otexts.com/fpp2/autocorrelation.html'>Forecasting: Principles and Practice</a></strong>&nbsp;&nbsp;<font color=black>Autocorrelation</font><br>\n",
        "<strong>\n",
        "<a href='https://www.itl.nist.gov/div898/handbook/pmc/section4/pmc4463.htm'>NIST Statistics Handbook</a></strong>&nbsp;&nbsp;<font color=black>Partial Autocorrelation Plot</font></div>\n"
      ]
    },
    {
      "cell_type": "markdown",
      "metadata": {
        "id": "V0P8MKmM1al5",
        "colab_type": "text"
      },
      "source": [
        "## Perform standard imports and load datasets"
      ]
    },
    {
      "cell_type": "code",
      "metadata": {
        "id": "hhNmY3EG1al6",
        "colab_type": "code",
        "colab": {
          "base_uri": "https://localhost:8080/",
          "height": 50
        },
        "outputId": "65e53f2c-76f0-4d26-8f29-3aef2e7400df"
      },
      "source": [
        "import pandas as pd\n",
        "import numpy as np\n",
        "%matplotlib inline\n",
        "import statsmodels.api as sm\n",
        "\n",
        "# Load a non-stationary dataset\n",
        "df1 = pd.read_csv('Data/airline_passengers.csv',index_col='Month',parse_dates=True)\n",
        "df1.index.freq = 'MS'\n",
        "\n",
        "# Load a stationary dataset\n",
        "df2 = pd.read_csv('Data/DailyTotalFemaleBirths.csv',index_col='Date',parse_dates=True)\n",
        "df2.index.freq = 'D'"
      ],
      "execution_count": 1,
      "outputs": [
        {
          "output_type": "stream",
          "text": [
            "/usr/local/lib/python3.6/dist-packages/statsmodels/tools/_testing.py:19: FutureWarning: pandas.util.testing is deprecated. Use the functions in the public API at pandas.testing instead.\n",
            "  import pandas.util.testing as tm\n"
          ],
          "name": "stderr"
        }
      ]
    },
    {
      "cell_type": "code",
      "metadata": {
        "id": "SP24H0-d1al8",
        "colab_type": "code",
        "colab": {}
      },
      "source": [
        "# Import the models we'll be using in this section\n",
        "from statsmodels.tsa.stattools import acovf,acf,pacf,pacf_yw,pacf_ols"
      ],
      "execution_count": 0,
      "outputs": []
    },
    {
      "cell_type": "markdown",
      "metadata": {
        "id": "_ZMQHvsm1al_",
        "colab_type": "text"
      },
      "source": [
        "### Ignore harmless warnings\n",
        "A quick note before we get started. Many of the models used in this and upcoming sections are likely to raise harmless warnings.<br>For instance, the unbiased partial autocorrelation <tt>pacf_yw()</tt> performed below may raise a <tt>RuntimeWarning: invalid value encountered in sqrt</tt>.<br>\n",
        "We don't really need to be concerned with this, and we can avoid it with the following code:"
      ]
    },
    {
      "cell_type": "code",
      "metadata": {
        "id": "sezUERGk1amA",
        "colab_type": "code",
        "colab": {}
      },
      "source": [
        "import warnings\n",
        "warnings.filterwarnings(\"ignore\")"
      ],
      "execution_count": 0,
      "outputs": []
    },
    {
      "cell_type": "markdown",
      "metadata": {
        "id": "9mAExI9V1amD",
        "colab_type": "text"
      },
      "source": [
        "## Autocovariance for 1D\n",
        "In a <em>deterministic</em> process, like $y=sin(x)$, we always know the value of $y$ for a given value of $x$. However, in a <em>stochastic</em> process there is always some randomness that prevents us from knowing the value of $y$. Instead, we analyze the past (or <em>lagged</em>) behavior of the system to derive a probabilistic estimate for $\\hat{y}$.\n",
        "\n",
        "One useful descriptor is <em>covariance</em>. When talking about dependent and independent $x$ and $y$ variables, covariance describes how the variance in $x$ relates to the variance in $y$. Here the size of the covariance isn't really important, as $x$ and $y$ may have very different scales. However, if the covariance is positive it means that $x$ and $y$ are changing in the same direction, and may be related.\n",
        "\n",
        "With a time series, $x$ is a fixed interval. Here we want to look at the variance of $y_t$ against lagged or shifted values of $y_{t+k}$\n",
        "\n",
        "For a stationary time series, the autocovariance function for $\\gamma$ (gamma) is given as:\n",
        "\n",
        "${\\displaystyle {\\gamma}_{XX}(t_{1},t_{2})=\\operatorname {Cov} \\left[X_{t_{1}},X_{t_{2}}\\right]=\\operatorname {E} [(X_{t_{1}}-\\mu _{t_{1}})(X_{t_{2}}-\\mu _{t_{2}})]}$\n",
        "\n",
        "We can calculate a specific $\\gamma_k$ with:\n",
        "\n",
        "${\\displaystyle \\gamma_k = \\frac 1 n \\sum\\limits_{t=1}^{n-k} (y_t - \\bar{y})(y_{t+k}-\\bar{y})}$\n"
      ]
    },
    {
      "cell_type": "markdown",
      "metadata": {
        "id": "CTJqKRAU1amE",
        "colab_type": "text"
      },
      "source": [
        "<div class=\"alert alert-info\"><strong>A NOTE ON FORMULA CONVENTIONS:</strong> Different texts employ different symbol conventions. For example, in the above autocovariance formula we use $k$ to represent the amount of lag or shift. Some texts use $h$ instead.</div>\n"
      ]
    },
    {
      "cell_type": "markdown",
      "metadata": {
        "id": "VVWxBZ7S1amE",
        "colab_type": "text"
      },
      "source": [
        "### Autocovariance Example:\n",
        "Say we have a time series with five observations: {13, 5, 11, 12, 9}.<br>\n",
        "We can quickly see that $n = 5$, the mean $\\bar{y} = 10$, and we'll see that the variance $\\sigma^2 = 8$.<br>\n",
        "The following calculations give us our covariance values:\n",
        "<br><br>\n",
        "$\\gamma_0 = \\frac {(13-10)(13-10)+(5-10)(5-10)+(11-10)(11-10)+(12-10)(12-10)+(9-10)(9-10)} 5 = \\frac {40} 5 = 8.0 \\\\\n",
        "\\gamma_1 = \\frac {(13-10)(5-10)+(5-10)(11-10)+(11-10)(12-10)+(12-10)(9-10)} 5 = \\frac {-20} 5 = -4.0 \\\\\n",
        "\\gamma_2 = \\frac {(13-10)(11-10)+(5-10)(12-10)+(11-10)(9-10)} 5 = \\frac {-8} 5 = -1.6 \\\\\n",
        "\\gamma_3 = \\frac {(13-10)(12-10)+(5-10)(9-10)} 5 = \\frac {11} 5 = 2.2 \\\\\n",
        "\\gamma_4 = \\frac {(13-10)(9-10)} 5 = \\frac {-3} 5 = -0.6$\n",
        "<br><br>\n",
        "Note that $\\gamma_0$ is just the population variance $\\sigma^2$\n",
        "\n",
        "Let's see if statsmodels gives us the same results! For this we'll create a <strong>fake</strong> dataset:"
      ]
    },
    {
      "cell_type": "code",
      "metadata": {
        "id": "3aXC59Kd1amF",
        "colab_type": "code",
        "colab": {
          "base_uri": "https://localhost:8080/",
          "height": 33
        },
        "outputId": "542a4587-c289-4ebe-e3db-02e029496dce"
      },
      "source": [
        "df = pd.DataFrame({'a':[13, 5, 11, 12, 9]})\n",
        "arr = acovf(df['a'])\n",
        "arr"
      ],
      "execution_count": 4,
      "outputs": [
        {
          "output_type": "execute_result",
          "data": {
            "text/plain": [
              "array([ 8. , -4. , -1.6,  2.2, -0.6])"
            ]
          },
          "metadata": {
            "tags": []
          },
          "execution_count": 4
        }
      ]
    },
    {
      "cell_type": "markdown",
      "metadata": {
        "id": "TwPWvfX51amI",
        "colab_type": "text"
      },
      "source": [
        "### Unbiased Autocovariance\n",
        "Note that the number of terms in the calculations above are decreasing.<br>Statsmodels can return an \"unbiased\" autocovariance where instead of dividing by $n$ we divide by $n-k$.\n",
        "\n",
        "$\\gamma_0 = \\frac {(13-10)(13-10)+(5-10)(5-10)+(11-10)(11-10)+(12-10)(12-10)+(9-10)(9-10)} {5-0} = \\frac {40} 5 = 8.0 \\\\\n",
        "\\gamma_1 = \\frac {(13-10)(5-10)+(5-10)(11-10)+(11-10)(12-10)+(12-10)(9-10)} {5-1} = \\frac {-20} 4 = -5.0 \\\\\n",
        "\\gamma_2 = \\frac {(13-10)(11-10)+(5-10)(12-10)+(11-10)(9-10)} {5-2} = \\frac {-8} 3 = -2.67 \\\\\n",
        "\\gamma_3 = \\frac {(13-10)(12-10)+(5-10)(9-10)} {5-3} = \\frac {11} 2 = 5.5 \\\\\n",
        "\\gamma_4 = \\frac {(13-10)(9-10)} {5-4} = \\frac {-3} 1 = -3.0$"
      ]
    },
    {
      "cell_type": "code",
      "metadata": {
        "id": "fZvYGURk1amI",
        "colab_type": "code",
        "colab": {
          "base_uri": "https://localhost:8080/",
          "height": 33
        },
        "outputId": "c9ece904-00b3-4d19-c039-c10ec0e6ddd5"
      },
      "source": [
        "arr2 = acovf(df['a'],unbiased=True)\n",
        "arr2"
      ],
      "execution_count": 5,
      "outputs": [
        {
          "output_type": "execute_result",
          "data": {
            "text/plain": [
              "array([ 8.        , -5.        , -2.66666667,  5.5       , -3.        ])"
            ]
          },
          "metadata": {
            "tags": []
          },
          "execution_count": 5
        }
      ]
    },
    {
      "cell_type": "markdown",
      "metadata": {
        "id": "K4cMV3E21amL",
        "colab_type": "text"
      },
      "source": [
        "## Autocorrelation for 1D\n",
        "\n",
        "\n",
        "The correlation $\\rho$ (rho) between two variables $y_1,y_2$ is given as:\n",
        "\n",
        "### $\\rho = \\frac {\\operatorname E[(y_1−\\mu_1)(y_2−\\mu_2)]} {\\sigma_{1}\\sigma_{2}} = \\frac {\\operatorname {Cov} (y_1,y_2)} {\\sigma_{1}\\sigma_{2}}$,\n",
        "\n",
        "where $E$ is the expectation operator, $\\mu_{1},\\sigma_{1}$ and $\\mu_{2},\\sigma_{2}$ are the means and standard deviations of $y_1$ and $y_2$.\n",
        "\n",
        "When working with a single variable (i.e. <em>autocorrelation</em>) we would consider $y_1$ to be the original series and $y_2$ a lagged version of it. Note that with autocorrelation we work with $\\bar y$, that is, the full population mean, and <em>not</em> the means of the reduced set of lagged factors (see note below).\n",
        "\n",
        "Thus, the formula for $\\rho_k$ for a time series at lag $k$ is:\n",
        "\n",
        "${\\displaystyle \\rho_k = \\frac {\\sum\\limits_{t=1}^{n-k} (y_t - \\bar{y})(y_{t+k}-\\bar{y})} {\\sum\\limits_{t=1}^{n} (y_t - \\bar{y})^2}}$\n",
        "\n",
        "This can be written in terms of the covariance constant $\\gamma_k$ as:\n",
        "\n",
        "${\\displaystyle \\rho_k = \\frac {\\gamma_k n} {\\gamma_0 n} = \\frac {\\gamma_k} {\\sigma^2}}$\n",
        "\n",
        "For example,<br>\n",
        "$\\rho_4 = \\frac {\\gamma_4} {\\sigma^2} = \\frac{-0.6} {8} = -0.075$\n",
        "\n",
        "Note that ACF values are bound by -1 and 1. That is, ${\\displaystyle -1 \\leq \\rho_k \\leq 1}$"
      ]
    },
    {
      "cell_type": "code",
      "metadata": {
        "id": "LnzD3_vw1amM",
        "colab_type": "code",
        "colab": {
          "base_uri": "https://localhost:8080/",
          "height": 33
        },
        "outputId": "da63172f-f2f9-4f32-bf2a-01511483ea9d"
      },
      "source": [
        "arr3 = acf(df['a'])\n",
        "arr3"
      ],
      "execution_count": 6,
      "outputs": [
        {
          "output_type": "execute_result",
          "data": {
            "text/plain": [
              "array([ 1.   , -0.5  , -0.2  ,  0.275, -0.075])"
            ]
          },
          "metadata": {
            "tags": []
          },
          "execution_count": 6
        }
      ]
    },
    {
      "cell_type": "markdown",
      "metadata": {
        "id": "urSbRavH1amP",
        "colab_type": "text"
      },
      "source": [
        "## Partial Autocorrelation\n",
        "Partial autocorrelations measure the linear dependence of one variable after removing the effect of other variable(s) that affect both variables. That is, the partial autocorrelation at lag $k$ is the autocorrelation between $y_t$ and $y_{t+k}$ that is not accounted for by lags $1$ through $k−1$.\n",
        "\n",
        "A common method employs the non-recursive <a href='https://en.wikipedia.org/wiki/Autoregressive_model#Calculation_of_the_AR_parameters'>Yule-Walker Equations</a>:\n",
        "\n",
        "$\\phi_0 = 1\\\\\n",
        "\\phi_1 = \\rho_1 = -0.50\\\\\n",
        "\\phi_2 = \\frac {\\rho_2 - {\\rho_1}^2} {1-{\\rho_1}^2} = \\frac {(-0.20) - {(-0.50)}^2} {1-{(-0.50)}^2}= \\frac {-0.45} {0.75} = -0.60$"
      ]
    },
    {
      "cell_type": "markdown",
      "metadata": {
        "id": "trwrhBs71amP",
        "colab_type": "text"
      },
      "source": [
        "As $k$ increases, we can solve for $\\phi_k$ using matrix algebra and the <a href='https://en.wikipedia.org/wiki/Levinson_recursion'>Levinson–Durbin recursion</a> algorithm which maps the sample autocorrelations $\\rho$ to a <a href='https://en.wikipedia.org/wiki/Toeplitz_matrix'>Toeplitz</a> diagonal-constant matrix. The full solution is beyond the scope of this course, but the setup is as follows:\n",
        "\n",
        "\n",
        "$\\displaystyle \\begin{pmatrix}\\rho_0&\\rho_1&\\cdots &\\rho_{k-1}\\\\\n",
        "\\rho_1&\\rho_0&\\cdots &\\rho_{k-2}\\\\\n",
        "\\vdots &\\vdots &\\ddots &\\vdots \\\\\n",
        "\\rho_{k-1}&\\rho_{k-2}&\\cdots &\\rho_0\\\\\n",
        "\\end{pmatrix}\\quad \\begin{pmatrix}\\phi_{k1}\\\\\\phi_{k2}\\\\\\vdots\\\\\\phi_{kk}\\end{pmatrix}\n",
        "\\mathbf = \\begin{pmatrix}\\rho_1\\\\\\rho_2\\\\\\vdots\\\\\\rho_k\\end{pmatrix}$"
      ]
    },
    {
      "cell_type": "code",
      "metadata": {
        "id": "uOAaAVV51amQ",
        "colab_type": "code",
        "colab": {
          "base_uri": "https://localhost:8080/",
          "height": 33
        },
        "outputId": "edec4cbd-fe56-4e21-a781-324850a2ef6a"
      },
      "source": [
        "arr4 = pacf_yw(df['a'],nlags=4,method='mle')\n",
        "arr4"
      ],
      "execution_count": 7,
      "outputs": [
        {
          "output_type": "execute_result",
          "data": {
            "text/plain": [
              "array([ 1.        , -0.5       , -0.6       , -0.38541667, -0.40563273])"
            ]
          },
          "metadata": {
            "tags": []
          },
          "execution_count": 7
        }
      ]
    },
    {
      "cell_type": "markdown",
      "metadata": {
        "id": "rTAbRCUC1amS",
        "colab_type": "text"
      },
      "source": [
        "<div class=\"alert alert-info\"><strong>NOTE:</strong> We passed in <tt><font color=black>method='mle'</font></tt> above in order to use biased ACF coefficients. \"mle\" stands for \"maximum likelihood estimation\". Alternatively we can pass <tt>method='unbiased'</tt> (the statsmodels default):</div>"
      ]
    },
    {
      "cell_type": "code",
      "metadata": {
        "id": "WA9JZgCN1amS",
        "colab_type": "code",
        "colab": {
          "base_uri": "https://localhost:8080/",
          "height": 33
        },
        "outputId": "838922e9-da6c-4010-f337-233e2c609a5c"
      },
      "source": [
        "arr5 = pacf_yw(df['a'],nlags=4,method='unbiased')\n",
        "arr5"
      ],
      "execution_count": 8,
      "outputs": [
        {
          "output_type": "execute_result",
          "data": {
            "text/plain": [
              "array([ 1.        , -0.625     , -1.18803419,  2.03764205,  0.8949589 ])"
            ]
          },
          "metadata": {
            "tags": []
          },
          "execution_count": 8
        }
      ]
    },
    {
      "cell_type": "markdown",
      "metadata": {
        "id": "Pv-mByVZ1amW",
        "colab_type": "text"
      },
      "source": [
        "### Partial Autocorrelation with OLS\n",
        "This provides partial autocorrelations with <a href='https://en.wikipedia.org/wiki/Ordinary_least_squares'>ordinary least squares</a> (OLS) estimates for each lag instead of Yule-Walker."
      ]
    },
    {
      "cell_type": "code",
      "metadata": {
        "id": "ftezRddb1amW",
        "colab_type": "code",
        "colab": {
          "base_uri": "https://localhost:8080/",
          "height": 33
        },
        "outputId": "20a36661-60e4-4998-aaaa-9bb95467d0d1"
      },
      "source": [
        "arr6 = pacf_ols(df['a'],nlags=4)\n",
        "arr6"
      ],
      "execution_count": 9,
      "outputs": [
        {
          "output_type": "execute_result",
          "data": {
            "text/plain": [
              "array([ 1.        , -0.49677419, -0.43181818,  0.53082621,  0.25434783])"
            ]
          },
          "metadata": {
            "tags": []
          },
          "execution_count": 9
        }
      ]
    },
    {
      "cell_type": "markdown",
      "metadata": {
        "id": "x6Sie4bn1amZ",
        "colab_type": "text"
      },
      "source": [
        "# Plotting\n",
        "The arrays returned by <tt>.acf(df)</tt> and <tt>.pacf_yw(df)</tt> show the magnitude of the autocorrelation for a given $y$ at time $t$. Before we look at plotting arrays, let's look at the data itself for evidence of autocorrelation.\n",
        "\n",
        "Pandas has a built-in plotting function that plots increasing $y_t$ values on the horizontal axis against lagged versions of the values $y_{t+1}$ on the vertical axis. If a dataset is non-stationary with an upward trend, then neighboring values should trend in the same way. Let's look at the <strong>Airline Passengers</strong> dataset first."
      ]
    },
    {
      "cell_type": "code",
      "metadata": {
        "id": "q9RbivWt1ama",
        "colab_type": "code",
        "colab": {
          "base_uri": "https://localhost:8080/",
          "height": 278
        },
        "outputId": "532d4b81-ea44-44b5-d76e-4951865f648c"
      },
      "source": [
        "from pandas.plotting import lag_plot\n",
        "\n",
        "lag_plot(df1['Thousands of Passengers']);"
      ],
      "execution_count": 10,
      "outputs": [
        {
          "output_type": "display_data",
          "data": {
            "image/png": "[encoded data removed]",
            "text/plain": [
              "<Figure size 432x288 with 1 Axes>"
            ]
          },
          "metadata": {
            "tags": []
          }
        }
      ]
    },
    {
      "cell_type": "markdown",
      "metadata": {
        "id": "1XGFB4VK1amc",
        "colab_type": "text"
      },
      "source": [
        "Visually this shows evidence of a very strong autocorrelation; as $y_t$ values increase, nearby (lagged) values also increase.\n",
        "\n",
        "Now let's look at the stationary <strong>Daily Total Female Births</strong> dataset:"
      ]
    },
    {
      "cell_type": "code",
      "metadata": {
        "id": "heYcmnSw1amc",
        "colab_type": "code",
        "colab": {
          "base_uri": "https://localhost:8080/",
          "height": 278
        },
        "outputId": "63dac2a4-f0dc-4fd8-cf9a-36f07d7d5216"
      },
      "source": [
        "lag_plot(df2['Births']);"
      ],
      "execution_count": 11,
      "outputs": [
        {
          "output_type": "display_data",
          "data": {
            "image/png": "[encoded data removed]",
            "text/plain": [
              "<Figure size 432x288 with 1 Axes>"
            ]
          },
          "metadata": {
            "tags": []
          }
        }
      ]
    },
    {
      "cell_type": "markdown",
      "metadata": {
        "id": "Y9MU5p2Z1amf",
        "colab_type": "text"
      },
      "source": [
        "As expected, there is little evidence of autocorrelation here."
      ]
    },
    {
      "cell_type": "markdown",
      "metadata": {
        "id": "rtMPoteA1amf",
        "colab_type": "text"
      },
      "source": [
        "## ACF Plots\n",
        "An autocorrelation plot shows the coorealtion with the series with itself lagged by $x$ time units\n",
        "\n",
        "So the $x-axis$ is the number of time units of the lag and $y-axis$ in the correlation.\n",
        "\n",
        "Plotting the magnitude of the autocorrelations over the first few (20-40) lags can say a lot about a time series.\n",
        "\n",
        "For example, consider the stationary <strong>Daily Total Female Births</strong> dataset:"
      ]
    },
    {
      "cell_type": "code",
      "metadata": {
        "id": "enmFoGad1amg",
        "colab_type": "code",
        "colab": {}
      },
      "source": [
        "from statsmodels.graphics.tsaplots import plot_acf,plot_pacf"
      ],
      "execution_count": 0,
      "outputs": []
    },
    {
      "cell_type": "code",
      "metadata": {
        "id": "w0_whRTy1ami",
        "colab_type": "code",
        "colab": {
          "base_uri": "https://localhost:8080/",
          "height": 168
        },
        "outputId": "ccd8dce0-79ad-4e4a-a712-24f97a96c64f"
      },
      "source": [
        "# Let's look first at the ACF array. By default acf() returns 40 lags\n",
        "acf(df2['Births'])"
      ],
      "execution_count": 13,
      "outputs": [
        {
          "output_type": "execute_result",
          "data": {
            "text/plain": [
              "array([ 1.        ,  0.21724118,  0.15287758,  0.10821254,  0.09066059,\n",
              "        0.09595481,  0.09104012,  0.19508071,  0.14115295,  0.06117859,\n",
              "        0.04781522,  0.04770662, -0.01964707,  0.02287422,  0.08112657,\n",
              "        0.11185686,  0.07333732,  0.01501845,  0.07270333,  0.06859   ,\n",
              "        0.09280107,  0.26386846,  0.14012147,  0.06070286,  0.08716232,\n",
              "        0.05038825,  0.0650489 ,  0.11466565,  0.1552232 ,  0.12850638,\n",
              "        0.10358981,  0.09734643,  0.04912286,  0.04022798,  0.05838555,\n",
              "        0.05359812,  0.10151053,  0.08268663,  0.0912185 ,  0.11192192,\n",
              "        0.05652846])"
            ]
          },
          "metadata": {
            "tags": []
          },
          "execution_count": 13
        }
      ]
    },
    {
      "cell_type": "code",
      "metadata": {
        "id": "7IvBVR4F1aml",
        "colab_type": "code",
        "colab": {
          "base_uri": "https://localhost:8080/",
          "height": 280
        },
        "outputId": "09f18643-03b2-46c0-c826-c45f83f1cdad"
      },
      "source": [
        "# Now let's plot the autocorrelation at different lags\n",
        "title = 'Autocorrelation: Daily Female Births'\n",
        "lags = 40\n",
        "plot_acf(df2,title=title,lags=lags);"
      ],
      "execution_count": 14,
      "outputs": [
        {
          "output_type": "display_data",
          "data": {
            "image/png": "[encoded data removed]",
            "text/plain": [
              "<Figure size 432x288 with 1 Axes>"
            ]
          },
          "metadata": {
            "tags": []
          }
        }
      ]
    },
    {
      "cell_type": "markdown",
      "metadata": {
        "id": "2DH_t3_o1amn",
        "colab_type": "text"
      },
      "source": [
        "This is a typical ACF plot for stationary data, with lags on the horizontal axis and correlations on the vertical axis. The first value $y_0$ is always 1. A sharp dropoff indicates that there is no AR component in the ARIMA model.\n",
        "\n",
        "Next we'll look at non-stationary data with the <strong>Airline Passengers</strong> dataset:"
      ]
    },
    {
      "cell_type": "code",
      "metadata": {
        "id": "xlMgpcx11amo",
        "colab_type": "code",
        "colab": {
          "base_uri": "https://localhost:8080/",
          "height": 168
        },
        "outputId": "2c372b77-e684-4df1-f88e-320ed56bcf25"
      },
      "source": [
        "acf(df1['Thousands of Passengers'])"
      ],
      "execution_count": 15,
      "outputs": [
        {
          "output_type": "execute_result",
          "data": {
            "text/plain": [
              "array([1.        , 0.94804734, 0.87557484, 0.80668116, 0.75262542,\n",
              "       0.71376997, 0.6817336 , 0.66290439, 0.65561048, 0.67094833,\n",
              "       0.70271992, 0.74324019, 0.76039504, 0.71266087, 0.64634228,\n",
              "       0.58592342, 0.53795519, 0.49974753, 0.46873401, 0.44987066,\n",
              "       0.4416288 , 0.45722376, 0.48248203, 0.51712699, 0.53218983,\n",
              "       0.49397569, 0.43772134, 0.3876029 , 0.34802503, 0.31498388,\n",
              "       0.28849682, 0.27080187, 0.26429011, 0.27679934, 0.2985215 ,\n",
              "       0.32558712, 0.3370236 , 0.30333486, 0.25397708, 0.21065534,\n",
              "       0.17217092])"
            ]
          },
          "metadata": {
            "tags": []
          },
          "execution_count": 15
        }
      ]
    },
    {
      "cell_type": "code",
      "metadata": {
        "id": "gFPRKqt31amq",
        "colab_type": "code",
        "colab": {
          "base_uri": "https://localhost:8080/",
          "height": 280
        },
        "outputId": "f1796325-283b-4089-f9aa-3e361d3fdbba"
      },
      "source": [
        "title = 'Autocorrelation: Airline Passengers'\n",
        "lags = 40\n",
        "plot_acf(df1,title=title,lags=lags);"
      ],
      "execution_count": 16,
      "outputs": [
        {
          "output_type": "display_data",
          "data": {
            "image/png": "[encoded data removed]",
            "text/plain": [
              "<Figure size 432x288 with 1 Axes>"
            ]
          },
          "metadata": {
            "tags": []
          }
        }
      ]
    },
    {
      "cell_type": "markdown",
      "metadata": {
        "id": "PbMOhyM01ams",
        "colab_type": "text"
      },
      "source": [
        "This plot indicates non-stationary data, as there are a large number of lags before ACF values drop off."
      ]
    },
    {
      "cell_type": "markdown",
      "metadata": {
        "id": "ud5IILe_1amt",
        "colab_type": "text"
      },
      "source": [
        "## PACF Plots\n",
        "\n",
        "We essentially plot out the relationship between the previous day's residual versus the real values of current day.\n",
        "\n",
        "In general we expect the PACF plot to drop off quickly\n",
        "\n",
        "Partial autocorrelations work best with stationary data. Let's look first at <strong>Daily Total Female Births</strong>:"
      ]
    },
    {
      "cell_type": "code",
      "metadata": {
        "id": "rJWxzHhq1amt",
        "colab_type": "code",
        "colab": {
          "base_uri": "https://localhost:8080/",
          "height": 280
        },
        "outputId": "9970bf25-5837-437e-cc73-f0068c040cbd"
      },
      "source": [
        "title='Partial Autocorrelation: Daily Female Births'\n",
        "lags=40\n",
        "plot_pacf(df2,title=title,lags=lags);"
      ],
      "execution_count": 17,
      "outputs": [
        {
          "output_type": "display_data",
          "data": {
            "image/png": "[encoded data removed]",
            "text/plain": [
              "<Figure size 432x288 with 1 Axes>"
            ]
          },
          "metadata": {
            "tags": []
          }
        }
      ]
    },
    {
      "cell_type": "markdown",
      "metadata": {
        "id": "BG96NKau1amv",
        "colab_type": "text"
      },
      "source": [
        "To make the <strong>Airline Passengers</strong> data stationary, we'll first apply <em>differencing</em>:"
      ]
    },
    {
      "cell_type": "code",
      "metadata": {
        "id": "ovGo_msG1amw",
        "colab_type": "code",
        "colab": {
          "base_uri": "https://localhost:8080/",
          "height": 333
        },
        "outputId": "a34d804a-08ee-42be-ef43-8dbcd3c6f16b"
      },
      "source": [
        "from statsmodels.tsa.statespace.tools import diff\n",
        "\n",
        "df1['d1'] = diff(df1['Thousands of Passengers'],k_diff=1)\n",
        "df1['d1'].plot(figsize=(12,5));"
      ],
      "execution_count": 18,
      "outputs": [
        {
          "output_type": "display_data",
          "data": {
            "image/png": "[encoded data removed]",
            "text/plain": [
              "<Figure size 864x360 with 1 Axes>"
            ]
          },
          "metadata": {
            "tags": []
          }
        }
      ]
    },
    {
      "cell_type": "code",
      "metadata": {
        "id": "uN-2IlY61amy",
        "colab_type": "code",
        "colab": {
          "base_uri": "https://localhost:8080/",
          "height": 280
        },
        "outputId": "77b88a3d-8264-401b-d580-e17cf4e9b34f"
      },
      "source": [
        "title='PACF: Airline Passengers First Difference'\n",
        "lags=40\n",
        "plot_pacf(df1['d1'].dropna(),title=title,lags=np.arange(lags));  # be sure to add .dropna() here!"
      ],
      "execution_count": 19,
      "outputs": [
        {
          "output_type": "display_data",
          "data": {
            "image/png": "[encoded data removed]",
            "text/plain": [
              "<Figure size 432x288 with 1 Axes>"
            ]
          },
          "metadata": {
            "tags": []
          }
        }
      ]
    },
    {
      "cell_type": "markdown",
      "metadata": {
        "id": "tlrIjxmX1am0",
        "colab_type": "text"
      },
      "source": [
        "### Plot Resizing\n",
        "In case you want to display the full autocorrelation plot, it helps to increase the figure size using matplotlib:"
      ]
    },
    {
      "cell_type": "code",
      "metadata": {
        "id": "uK6DFfYZ1am0",
        "colab_type": "code",
        "colab": {
          "base_uri": "https://localhost:8080/",
          "height": 336
        },
        "outputId": "2b6d6927-f6f6-4343-daa7-e1ba8bc799c0"
      },
      "source": [
        "import matplotlib.pyplot as plt\n",
        "fig, ax = plt.subplots(figsize=(12,5))\n",
        "\n",
        "plot_acf(df2['Births'],ax=ax);"
      ],
      "execution_count": 21,
      "outputs": [
        {
          "output_type": "display_data",
          "data": {
            "image/png": "[encoded data removed]",
            "text/plain": [
              "<Figure size 864x360 with 1 Axes>"
            ]
          },
          "metadata": {
            "tags": []
          }
        }
      ]
    },
    {
      "cell_type": "markdown",
      "metadata": {
        "id": "UIv5kta41am3",
        "colab_type": "text"
      },
      "source": [
        "<div class=\"alert alert-success\"><strong>A NOTE ABOUT AUTOCORRELATION:</strong> Some texts compute lagged correlations using the Pearson Correlation Coefficient given by:<br><br>\n",
        "${\\displaystyle r_{xy}={\\frac {\\sum _{i=1}^{n}(x_{i}-{\\bar {x}})(y_{i}-{\\bar {y}})}{{\\sqrt {\\sum _{i=1}^{n}(x_{i}-{\\bar {x}})^{2}}}{\\sqrt {\\sum _{i=1}^{n}(y_{i}-{\\bar {y}})^{2}}}}}}$\n",
        "\n",
        "These are easily calculated in numpy with <tt>numpy.corrcoef(x,y)</tt> and in Excel with <tt>=CORREL(x,y)</tt>.<br><br>\n",
        "Using our example, $r_0$ is still $1$, but to solve for $r_1$:\n",
        "\n",
        "${\\displaystyle x_1 = [13, 5, 11, 12], \\bar{x_1} = 10.25}$<br><br>\n",
        "$y_1 = [5, 11, 12, 9],\\  \\bar{y_1} = 9.25$<br><br>\n",
        "$r_{{x_1}{y_1}}=\\frac {(13-10.25)(5-9.25)+(5-10.25)(11-9.25)+(11-10.25)(12-9.25)+(12-10.25)(9-9.25)}\n",
        "{\\sqrt{((13-10.25)^2+(5-10.25)^2+(11-10.25)^2+(12-10.25)^2)}\\sqrt{((5-9.25)^2+(11-9.25)^2+(12-9.25)^2+(9-9.25)^2)}} = \\frac {-19.25} {33.38} = -0.577$\n",
        "<br><br>\n",
        "However, there are some shortcomings. Using the Pearson method, the second-to-last term $r_{k-1}$ will always be $1$ and the last term $r_k$ will always be undefined.\n",
        "</div>"
      ]
    }
  ]
}