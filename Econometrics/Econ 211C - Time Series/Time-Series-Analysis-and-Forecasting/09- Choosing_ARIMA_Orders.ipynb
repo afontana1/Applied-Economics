{
  "nbformat": 4,
  "nbformat_minor": 0,
  "metadata": {
    "kernelspec": {
      "display_name": "Python 3",
      "language": "python",
      "name": "python3"
    },
    "language_info": {
      "codemirror_mode": {
        "name": "ipython",
        "version": 3
      },
      "file_extension": ".py",
      "mimetype": "text/x-python",
      "name": "python",
      "nbconvert_exporter": "python",
      "pygments_lexer": "ipython3",
      "version": "3.6.6"
    },
    "colab": {
      "name": "Choosing_ARIMA_Orders.ipynb",
      "provenance": [],
      "toc_visible": true
    }
  },
  "cells": [
    {
      "cell_type": "markdown",
      "metadata": {
        "id": "_7_B0lljzB9Y",
        "colab_type": "text"
      },
      "source": [
        "# Choosing ARIMA Orders\n",
        "\n",
        "* Goals\n",
        "  * Understand PDQ terms for ARIMA (slides)\n",
        "  * Understand how to choose orders manually from ACF and PACF\n",
        "  * Understand how to use automatic order selection techniques using the functions below\n",
        "  \n",
        "Before we can apply an ARIMA forecasting model, we need to review the components of one.<br>\n",
        "ARIMA, or Autoregressive Independent Moving Average is actually a combination of 3 models:\n",
        "* <strong>AR(p)</strong> Autoregression - a regression model that utilizes the dependent relationship between a current observation and observations over a previous period.\n",
        "* <strong>I(d)</strong> Integration - uses differencing of observations (subtracting an observation from an observation at the previous time step) in order to make the time series stationary\n",
        "* <strong>MA(q)</strong> Moving Average - a model that uses the dependency between an observation and a residual error from a moving average model applied to lagged observations.\n",
        "\n",
        "<div class=\"alert alert-info\"><h3>Related Functions:</h3>\n",
        "<tt>\n",
        "<strong>\n",
        "<a href='https://www.alkaline-ml.com/pmdarima/user_guide.html#user-guide'>pmdarima.auto_arima</a></strong><font color=black>(y[,start_p,d,start_q, …])</font>&nbsp;&nbsp;&nbsp;Returns the optimal order for an ARIMA model<br>\n",
        "\n",
        "<h3>Optional Function (see note below):</h3>\n",
        "<strong>\n",
        "<a href='https://www.statsmodels.org/stable/generated/statsmodels.tsa.stattools.arma_order_select_ic.html'>stattools.arma_order_select_ic</a></strong><font color=black>(y[, max_ar, …])</font>&nbsp;&nbsp;Returns information criteria for many ARMA models<br><strong>\n",
        "<a href='https://www.statsmodels.org/stable/generated/statsmodels.tsa.x13.x13_arima_select_order.html'>x13.x13_arima_select_order</a></strong><font color=black>(endog[, …])</font>&nbsp;&nbsp;&nbsp;&nbsp;&nbsp;&nbsp;&nbsp;&nbsp;&nbsp;&nbsp;Perform automatic seasonal ARIMA order identification using x12/x13 ARIMA</tt></div>"
      ]
    },
    {
      "cell_type": "markdown",
      "metadata": {
        "id": "PMIjRv1pzB9Z",
        "colab_type": "text"
      },
      "source": [
        "## Perform standard imports and load datasets"
      ]
    },
    {
      "cell_type": "code",
      "metadata": {
        "id": "dr5B_cmczB9a",
        "colab_type": "code",
        "colab": {}
      },
      "source": [
        "import pandas as pd\n",
        "import numpy as np\n",
        "%matplotlib inline\n",
        "\n",
        "# Load a non-stationary dataset\n",
        "df1 = pd.read_csv('Data/airline_passengers.csv',index_col='Month',parse_dates=True)\n",
        "df1.index.freq = 'MS'\n",
        "\n",
        "# Load a stationary dataset\n",
        "df2 = pd.read_csv('Data/DailyTotalFemaleBirths.csv',index_col='Date',parse_dates=True)\n",
        "df2.index.freq = 'D'"
      ],
      "execution_count": 0,
      "outputs": []
    },
    {
      "cell_type": "markdown",
      "metadata": {
        "id": "2cyBCEeGzB9f",
        "colab_type": "text"
      },
      "source": [
        "## pmdarima Auto-ARIMA\n",
        "This is a third-party tool separate from statsmodels.\n",
        "\n",
        "\n",
        "&nbsp;&nbsp;&nbsp;&nbsp;<tt>pip install pmdarima</tt>"
      ]
    },
    {
      "cell_type": "code",
      "metadata": {
        "id": "gHaCpsZq0aj0",
        "colab_type": "code",
        "colab": {
          "base_uri": "https://localhost:8080/",
          "height": 302
        },
        "outputId": "ad5ac39f-280b-4b66-d42e-c91ce59a3940"
      },
      "source": [
        "!pip install pmdarima"
      ],
      "execution_count": 2,
      "outputs": [
        {
          "output_type": "stream",
          "text": [
            "Collecting pmdarima\n",
            "\u001b[?25l  Downloading https://files.pythonhosted.org/packages/83/aa/feb76414043592c3149059ab772a51de03fbf7544a8e19237f229a50a949/pmdarima-1.5.3-cp36-cp36m-manylinux1_x86_64.whl (1.5MB)\n",
            "\u001b[K     |████████████████████████████████| 1.5MB 3.3MB/s \n",
            "\u001b[?25hRequirement already satisfied: urllib3 in /usr/local/lib/python3.6/dist-packages (from pmdarima) (1.24.3)\n",
            "Requirement already satisfied: statsmodels>=0.10.2 in /usr/local/lib/python3.6/dist-packages (from pmdarima) (0.10.2)\n",
            "Requirement already satisfied: joblib>=0.11 in /usr/local/lib/python3.6/dist-packages (from pmdarima) (0.14.1)\n",
            "Requirement already satisfied: Cython>=0.29 in /usr/local/lib/python3.6/dist-packages (from pmdarima) (0.29.16)\n",
            "Requirement already satisfied: numpy>=1.17.3 in /usr/local/lib/python3.6/dist-packages (from pmdarima) (1.18.2)\n",
            "Requirement already satisfied: scikit-learn>=0.22 in /usr/local/lib/python3.6/dist-packages (from pmdarima) (0.22.2.post1)\n",
            "Requirement already satisfied: pandas>=0.19 in /usr/local/lib/python3.6/dist-packages (from pmdarima) (1.0.3)\n",
            "Requirement already satisfied: scipy>=1.3.2 in /usr/local/lib/python3.6/dist-packages (from pmdarima) (1.4.1)\n",
            "Requirement already satisfied: patsy>=0.4.0 in /usr/local/lib/python3.6/dist-packages (from statsmodels>=0.10.2->pmdarima) (0.5.1)\n",
            "Requirement already satisfied: python-dateutil>=2.6.1 in /usr/local/lib/python3.6/dist-packages (from pandas>=0.19->pmdarima) (2.8.1)\n",
            "Requirement already satisfied: pytz>=2017.2 in /usr/local/lib/python3.6/dist-packages (from pandas>=0.19->pmdarima) (2018.9)\n",
            "Requirement already satisfied: six in /usr/local/lib/python3.6/dist-packages (from patsy>=0.4.0->statsmodels>=0.10.2->pmdarima) (1.12.0)\n",
            "Installing collected packages: pmdarima\n",
            "Successfully installed pmdarima-1.5.3\n"
          ],
          "name": "stdout"
        }
      ]
    },
    {
      "cell_type": "code",
      "metadata": {
        "id": "pS4_vU-8zB9g",
        "colab_type": "code",
        "colab": {
          "base_uri": "https://localhost:8080/",
          "height": 50
        },
        "outputId": "57636e58-c166-4640-f641-45c910ec8232"
      },
      "source": [
        "from pmdarima import auto_arima\n",
        "\n",
        "# Ignore harmless warnings\n",
        "import warnings\n",
        "warnings.filterwarnings(\"ignore\")"
      ],
      "execution_count": 3,
      "outputs": [
        {
          "output_type": "stream",
          "text": [
            "/usr/local/lib/python3.6/dist-packages/statsmodels/tools/_testing.py:19: FutureWarning: pandas.util.testing is deprecated. Use the functions in the public API at pandas.testing instead.\n",
            "  import pandas.util.testing as tm\n"
          ],
          "name": "stderr"
        }
      ]
    },
    {
      "cell_type": "code",
      "metadata": {
        "id": "_b_YKai0zB9k",
        "colab_type": "code",
        "colab": {
          "base_uri": "https://localhost:8080/",
          "height": 1000
        },
        "outputId": "19c71fe8-bed4-48ef-b8ca-63a1a53f4d28"
      },
      "source": [
        "help(auto_arima)"
      ],
      "execution_count": 4,
      "outputs": [
        {
          "output_type": "stream",
          "text": [
            "Help on function auto_arima in module pmdarima.arima.auto:\n",
            "\n",
            "auto_arima(y, exogenous=None, start_p=2, d=None, start_q=2, max_p=5, max_d=2, max_q=5, start_P=1, D=None, start_Q=1, max_P=2, max_D=1, max_Q=2, max_order=5, m=1, seasonal=True, stationary=False, information_criterion='aic', alpha=0.05, test='kpss', seasonal_test='ocsb', stepwise=True, n_jobs=1, start_params=None, trend=None, method='lbfgs', maxiter=50, offset_test_args=None, seasonal_test_args=None, suppress_warnings=False, error_action='warn', trace=False, random=False, random_state=None, n_fits=10, return_valid_fits=False, out_of_sample_size=0, scoring='mse', scoring_args=None, with_intercept=True, sarimax_kwargs=None, **fit_args)\n",
            "    Automatically discover the optimal order for an ARIMA model.\n",
            "    \n",
            "    The auto-ARIMA process seeks to identify the most optimal\n",
            "    parameters for an ``ARIMA`` model, settling on a single fitted ARIMA model.\n",
            "    This process is based on the commonly-used R function,\n",
            "    ``forecast::auto.arima`` [3].\n",
            "    \n",
            "    Auto-ARIMA works by conducting differencing tests (i.e.,\n",
            "    Kwiatkowski–Phillips–Schmidt–Shin, Augmented Dickey-Fuller or\n",
            "    Phillips–Perron) to determine the order of differencing, ``d``, and then\n",
            "    fitting models within ranges of defined ``start_p``, ``max_p``,\n",
            "    ``start_q``, ``max_q`` ranges. If the ``seasonal`` optional is enabled,\n",
            "    auto-ARIMA also seeks to identify the optimal ``P`` and ``Q`` hyper-\n",
            "    parameters after conducting the Canova-Hansen to determine the optimal\n",
            "    order of seasonal differencing, ``D``.\n",
            "    \n",
            "    In order to find the best model, auto-ARIMA optimizes for a given\n",
            "    ``information_criterion``, one of ('aic', 'aicc', 'bic', 'hqic', 'oob')\n",
            "    (Akaike Information Criterion, Corrected Akaike Information Criterion,\n",
            "    Bayesian Information Criterion, Hannan-Quinn Information Criterion, or\n",
            "    \"out of bag\"--for validation scoring--respectively) and returns the ARIMA\n",
            "    which minimizes the value.\n",
            "    \n",
            "    Note that due to stationarity issues, auto-ARIMA might not find a\n",
            "    suitable model that will converge. If this is the case, a ``ValueError``\n",
            "    will be thrown suggesting stationarity-inducing measures be taken prior\n",
            "    to re-fitting or that a new range of ``order`` values be selected. Non-\n",
            "    stepwise (i.e., essentially a grid search) selection can be slow,\n",
            "    especially for seasonal data. Stepwise algorithm is outlined in Hyndman and\n",
            "    Khandakar (2008).\n",
            "    \n",
            "    Parameters\n",
            "    ----------\n",
            "    y : array-like or iterable, shape=(n_samples,)\n",
            "        The time-series to which to fit the ``ARIMA`` estimator. This may\n",
            "        either be a Pandas ``Series`` object (statsmodels can internally\n",
            "        use the dates in the index), or a numpy array. This should be a\n",
            "        one-dimensional array of floats, and should not contain any\n",
            "        ``np.nan`` or ``np.inf`` values.\n",
            "    \n",
            "    exogenous : array-like, shape=[n_obs, n_vars], optional (default=None)\n",
            "        An optional 2-d array of exogenous variables. If provided, these\n",
            "        variables are used as additional features in the regression\n",
            "        operation. This should not include a constant or trend. Note that\n",
            "        if an ``ARIMA`` is fit on exogenous features, it must be provided\n",
            "        exogenous features for making predictions.\n",
            "    \n",
            "    start_p : int, optional (default=2)\n",
            "        The starting value of ``p``, the order (or number of time lags)\n",
            "        of the auto-regressive (\"AR\") model. Must be a positive integer.\n",
            "    \n",
            "    d : int, optional (default=None)\n",
            "        The order of first-differencing. If None (by default), the value\n",
            "        will automatically be selected based on the results of the ``test``\n",
            "        (i.e., either the Kwiatkowski–Phillips–Schmidt–Shin, Augmented\n",
            "        Dickey-Fuller or the Phillips–Perron test will be conducted to find\n",
            "        the most probable value). Must be a positive integer or None. Note\n",
            "        that if ``d`` is None, the runtime could be significantly longer.\n",
            "    \n",
            "    start_q : int, optional (default=2)\n",
            "        The starting value of ``q``, the order of the moving-average\n",
            "        (\"MA\") model. Must be a positive integer.\n",
            "    \n",
            "    max_p : int, optional (default=5)\n",
            "        The maximum value of ``p``, inclusive. Must be a positive integer\n",
            "        greater than or equal to ``start_p``.\n",
            "    \n",
            "    max_d : int, optional (default=2)\n",
            "        The maximum value of ``d``, or the maximum number of non-seasonal\n",
            "        differences. Must be a positive integer greater than or equal to ``d``.\n",
            "    \n",
            "    max_q : int, optional (default=5)\n",
            "        The maximum value of ``q``, inclusive. Must be a positive integer\n",
            "        greater than ``start_q``.\n",
            "    \n",
            "    start_P : int, optional (default=1)\n",
            "        The starting value of ``P``, the order of the auto-regressive portion\n",
            "        of the seasonal model.\n",
            "    \n",
            "    D : int, optional (default=None)\n",
            "        The order of the seasonal differencing. If None (by default, the value\n",
            "        will automatically be selected based on the results of the\n",
            "        ``seasonal_test``. Must be a positive integer or None.\n",
            "    \n",
            "    start_Q : int, optional (default=1)\n",
            "        The starting value of ``Q``, the order of the moving-average portion\n",
            "        of the seasonal model.\n",
            "    \n",
            "    max_P : int, optional (default=2)\n",
            "        The maximum value of ``P``, inclusive. Must be a positive integer\n",
            "        greater than ``start_P``.\n",
            "    \n",
            "    max_D : int, optional (default=1)\n",
            "        The maximum value of ``D``. Must be a positive integer greater\n",
            "        than ``D``.\n",
            "    \n",
            "    max_Q : int, optional (default=2)\n",
            "        The maximum value of ``Q``, inclusive. Must be a positive integer\n",
            "        greater than ``start_Q``.\n",
            "    \n",
            "    max_order : int, optional (default=5)\n",
            "        Maximum value of p+q+P+Q if model selection is not stepwise.\n",
            "        If the sum of ``p`` and ``q`` is >= ``max_order``, a model will\n",
            "        *not* be fit with those parameters, but will progress to the next\n",
            "        combination. Default is 5. If ``max_order`` is None, it means there\n",
            "        are no constraints on maximum order.\n",
            "    \n",
            "    m : int, optional (default=1)\n",
            "        The period for seasonal differencing, ``m`` refers to the number of\n",
            "        periods in each season. For example, ``m`` is 4 for quarterly data, 12\n",
            "        for monthly data, or 1 for annual (non-seasonal) data. Default is 1.\n",
            "        Note that if ``m`` == 1 (i.e., is non-seasonal), ``seasonal`` will be\n",
            "        set to False. For more information on setting this parameter, see\n",
            "        :ref:`period`.\n",
            "    \n",
            "    seasonal : bool, optional (default=True)\n",
            "        Whether to fit a seasonal ARIMA. Default is True. Note that if\n",
            "        ``seasonal`` is True and ``m`` == 1, ``seasonal`` will be set to False.\n",
            "    \n",
            "    stationary : bool, optional (default=False)\n",
            "        Whether the time-series is stationary and ``d`` should be set to zero.\n",
            "    \n",
            "    information_criterion : str, optional (default='aic')\n",
            "        The information criterion used to select the best ARIMA model. One of\n",
            "        ``pmdarima.arima.auto_arima.VALID_CRITERIA``, ('aic', 'bic', 'hqic',\n",
            "        'oob').\n",
            "    \n",
            "    alpha : float, optional (default=0.05)\n",
            "        Level of the test for testing significance.\n",
            "    \n",
            "    test : str, optional (default='kpss')\n",
            "        Type of unit root test to use in order to detect stationarity if\n",
            "        ``stationary`` is False and ``d`` is None. Default is 'kpss'\n",
            "        (Kwiatkowski–Phillips–Schmidt–Shin).\n",
            "    \n",
            "    seasonal_test : str, optional (default='ocsb')\n",
            "        This determines which seasonal unit root test is used if ``seasonal``\n",
            "        is True and ``D`` is None. Default is 'OCSB'.\n",
            "    \n",
            "    stepwise : bool, optional (default=True)\n",
            "        Whether to use the stepwise algorithm outlined in Hyndman and Khandakar\n",
            "        (2008) to identify the optimal model parameters. The stepwise algorithm\n",
            "        can be significantly faster than fitting all (or a ``random`` subset\n",
            "        of) hyper-parameter combinations and is less likely to over-fit\n",
            "        the model.\n",
            "    \n",
            "    n_jobs : int, optional (default=1)\n",
            "        The number of models to fit in parallel in the case of a grid search\n",
            "        (``stepwise=False``). Default is 1, but -1 can be used to designate\n",
            "        \"as many as possible\".\n",
            "    \n",
            "    start_params : array-like, optional (default=None)\n",
            "        Starting parameters for ``ARMA(p,q)``.  If None, the default is given\n",
            "        by ``ARMA._fit_start_params``.\n",
            "    \n",
            "    method : str, optional (default='lbfgs')\n",
            "        The ``method`` determines which solver from ``scipy.optimize``\n",
            "        is used, and it can be chosen from among the following strings:\n",
            "    \n",
            "        - 'newton' for Newton-Raphson\n",
            "        - 'nm' for Nelder-Mead\n",
            "        - 'bfgs' for Broyden-Fletcher-Goldfarb-Shanno (BFGS)\n",
            "        - 'lbfgs' for limited-memory BFGS with optional box constraints\n",
            "        - 'powell' for modified Powell's method\n",
            "        - 'cg' for conjugate gradient\n",
            "        - 'ncg' for Newton-conjugate gradient\n",
            "        - 'basinhopping' for global basin-hopping solver\n",
            "    \n",
            "        The explicit arguments in ``fit`` are passed to the solver,\n",
            "        with the exception of the basin-hopping solver. Each\n",
            "        solver has several optional arguments that are not the same across\n",
            "        solvers. These can be passed as **fit_kwargs\n",
            "    \n",
            "    trend : str or None, optional (default=None)\n",
            "        The trend parameter. If ``with_intercept`` is True, ``trend`` will be\n",
            "        used. If ``with_intercept`` is False, the trend will be set to a no-\n",
            "        intercept value.\n",
            "    \n",
            "    maxiter : int, optional (default=50)\n",
            "        The maximum number of function evaluations. Default is 50.\n",
            "    \n",
            "    offset_test_args : dict, optional (default=None)\n",
            "        The args to pass to the constructor of the offset (``d``) test. See\n",
            "        ``pmdarima.arima.stationarity`` for more details.\n",
            "    \n",
            "    seasonal_test_args : dict, optional (default=None)\n",
            "        The args to pass to the constructor of the seasonal offset (``D``)\n",
            "        test. See ``pmdarima.arima.seasonality`` for more details.\n",
            "    \n",
            "    suppress_warnings : bool, optional (default=False)\n",
            "        Many warnings might be thrown inside of statsmodels. If\n",
            "        ``suppress_warnings`` is True, all of the warnings coming from\n",
            "        ``ARIMA`` will be squelched.\n",
            "    \n",
            "    error_action : str, optional (default='warn')\n",
            "        If unable to fit an ``ARIMA`` due to stationarity issues, whether to\n",
            "        warn ('warn'), raise the ``ValueError`` ('raise') or ignore ('ignore').\n",
            "        Note that the default behavior is to warn, and fits that fail will be\n",
            "        returned as None. This is the recommended behavior, as statsmodels\n",
            "        ARIMA and SARIMAX models hit bugs periodically that can cause\n",
            "        an otherwise healthy parameter combination to fail for reasons not\n",
            "        related to pmdarima.\n",
            "    \n",
            "    trace : bool or int, optional (default=False)\n",
            "        Whether to print status on the fits. A value of False will print no\n",
            "        debugging information. A value of True will print some. Integer values\n",
            "        exceeding 1 will print increasing amounts of debug information at each\n",
            "        fit.\n",
            "    \n",
            "    random : bool, optional (default=False)\n",
            "        Similar to grid searches, ``auto_arima`` provides the capability to\n",
            "        perform a \"random search\" over a hyper-parameter space. If ``random``\n",
            "        is True, rather than perform an exhaustive search or ``stepwise``\n",
            "        search, only ``n_fits`` ARIMA models will be fit (``stepwise`` must be\n",
            "        False for this option to do anything).\n",
            "    \n",
            "    random_state : int, long or numpy ``RandomState``, optional (default=None)\n",
            "        The PRNG for when ``random=True``. Ensures replicable testing and\n",
            "        results.\n",
            "    \n",
            "    n_fits : int, optional (default=10)\n",
            "        If ``random`` is True and a \"random search\" is going to be performed,\n",
            "        ``n_iter`` is the number of ARIMA models to be fit.\n",
            "    \n",
            "    return_valid_fits : bool, optional (default=False)\n",
            "        If True, will return all valid ARIMA fits in a list. If False (by\n",
            "        default), will only return the best fit.\n",
            "    \n",
            "    out_of_sample_size : int, optional (default=0)\n",
            "        The ``ARIMA`` class can fit only a portion of the data if specified,\n",
            "        in order to retain an \"out of bag\" sample score. This is the\n",
            "        number of examples from the tail of the time series to hold out\n",
            "        and use as validation examples. The model will not be fit on these\n",
            "        samples, but the observations will be added into the model's ``endog``\n",
            "        and ``exog`` arrays so that future forecast values originate from the\n",
            "        end of the endogenous vector.\n",
            "    \n",
            "        For instance::\n",
            "    \n",
            "            y = [0, 1, 2, 3, 4, 5, 6]\n",
            "            out_of_sample_size = 2\n",
            "    \n",
            "            > Fit on: [0, 1, 2, 3, 4]\n",
            "            > Score on: [5, 6]\n",
            "            > Append [5, 6] to end of self.arima_res_.data.endog values\n",
            "    \n",
            "    scoring : str, optional (default='mse')\n",
            "        If performing validation (i.e., if ``out_of_sample_size`` > 0), the\n",
            "        metric to use for scoring the out-of-sample data. One of ('mse', 'mae')\n",
            "    \n",
            "    scoring_args : dict, optional (default=None)\n",
            "        A dictionary of key-word arguments to be passed to the ``scoring``\n",
            "        metric.\n",
            "    \n",
            "    with_intercept : bool, optional (default=True)\n",
            "        Whether to include an intercept term. Default is True.\n",
            "    \n",
            "    \n",
            "    sarimax_kwargs : dict or None, optional (default=None)\n",
            "        Keyword arguments to pass to the ARIMA constructor.\n",
            "    \n",
            "    \n",
            "    **fit_args : dict, optional (default=None)\n",
            "        A dictionary of keyword arguments to pass to the :func:`ARIMA.fit`\n",
            "        method.\n",
            "    \n",
            "    See Also\n",
            "    --------\n",
            "    :func:`pmdarima.arima.ARIMA`\n",
            "    \n",
            "    Notes\n",
            "    -----\n",
            "    * Fitting with `stepwise=False` can prove slower, especially when\n",
            "      `seasonal=True`.\n",
            "    \n",
            "    References\n",
            "    ----------\n",
            "    .. [1] https://wikipedia.org/wiki/Autoregressive_integrated_moving_average\n",
            "    .. [2] R's auto-arima source code: https://github.com/robjhyndman/forecast/blob/master/R/arima.R  # noqa\n",
            "    .. [3] R's auto-arima documentation: https://www.rdocumentation.org/packages/forecast  # noqa\n",
            "\n"
          ],
          "name": "stdout"
        }
      ]
    },
    {
      "cell_type": "markdown",
      "metadata": {
        "id": "W7BS3DygzB9q",
        "colab_type": "text"
      },
      "source": [
        "Let's look first at the stationary, non-seasonal <strong>Daily Female Births</strong> dataset:"
      ]
    },
    {
      "cell_type": "code",
      "metadata": {
        "id": "s215V3KSzB9r",
        "colab_type": "code",
        "colab": {
          "base_uri": "https://localhost:8080/",
          "height": 84
        },
        "outputId": "2fc30df0-b6a8-4ca2-819b-7b81ad1193b6"
      },
      "source": [
        "auto_arima(df2['Births'])"
      ],
      "execution_count": 5,
      "outputs": [
        {
          "output_type": "execute_result",
          "data": {
            "text/plain": [
              "ARIMA(maxiter=50, method='lbfgs', order=(1, 1, 1), out_of_sample_size=0,\n",
              "      scoring='mse', scoring_args=None, seasonal_order=(0, 0, 0, 0),\n",
              "      start_params=None, suppress_warnings=False, trend=None,\n",
              "      with_intercept=True)"
            ]
          },
          "metadata": {
            "tags": []
          },
          "execution_count": 5
        }
      ]
    },
    {
      "cell_type": "markdown",
      "metadata": {
        "id": "CtTKJKaczB9u",
        "colab_type": "text"
      },
      "source": [
        "<div class=\"alert alert-info\"><strong>NOTE: </strong>Harmless warnings should have been suppressed, but if you see an error citing unusual behavior you can suppress this message by passing <font color=black><tt>error_action='ignore'</tt></font> into <tt>auto_arima()</tt>. Also, <font color=black><tt>auto_arima().summary()</tt></font> provides a nicely formatted summary table.</div>"
      ]
    },
    {
      "cell_type": "code",
      "metadata": {
        "id": "PNhr2nZ1zB9w",
        "colab_type": "code",
        "colab": {
          "base_uri": "https://localhost:8080/",
          "height": 392
        },
        "outputId": "088b1228-261a-4461-d89c-4b455f1c95fd"
      },
      "source": [
        "auto_arima(df2['Births'],error_action='ignore').summary()"
      ],
      "execution_count": 6,
      "outputs": [
        {
          "output_type": "execute_result",
          "data": {
            "text/html": [
              "<table class=\"simpletable\">\n",
              "<caption>Statespace Model Results</caption>\n",
              "<tr>\n",
              "  <th>Dep. Variable:</th>           <td>y</td>        <th>  No. Observations:  </th>    <td>365</td>   \n",
              "</tr>\n",
              "<tr>\n",
              "  <th>Model:</th>           <td>SARIMAX(1, 1, 1)</td> <th>  Log Likelihood     </th> <td>-1226.077</td>\n",
              "</tr>\n",
              "<tr>\n",
              "  <th>Date:</th>            <td>Thu, 09 Apr 2020</td> <th>  AIC                </th> <td>2460.154</td> \n",
              "</tr>\n",
              "<tr>\n",
              "  <th>Time:</th>                <td>21:22:38</td>     <th>  BIC                </th> <td>2475.743</td> \n",
              "</tr>\n",
              "<tr>\n",
              "  <th>Sample:</th>                  <td>0</td>        <th>  HQIC               </th> <td>2466.350</td> \n",
              "</tr>\n",
              "<tr>\n",
              "  <th></th>                      <td> - 365</td>      <th>                     </th>     <td> </td>    \n",
              "</tr>\n",
              "<tr>\n",
              "  <th>Covariance Type:</th>        <td>opg</td>       <th>                     </th>     <td> </td>    \n",
              "</tr>\n",
              "</table>\n",
              "<table class=\"simpletable\">\n",
              "<tr>\n",
              "      <td></td>         <th>coef</th>     <th>std err</th>      <th>z</th>      <th>P>|z|</th>  <th>[0.025</th>    <th>0.975]</th>  \n",
              "</tr>\n",
              "<tr>\n",
              "  <th>intercept</th> <td>    0.0132</td> <td>    0.014</td> <td>    0.975</td> <td> 0.330</td> <td>   -0.013</td> <td>    0.040</td>\n",
              "</tr>\n",
              "<tr>\n",
              "  <th>ar.L1</th>     <td>    0.1299</td> <td>    0.059</td> <td>    2.217</td> <td> 0.027</td> <td>    0.015</td> <td>    0.245</td>\n",
              "</tr>\n",
              "<tr>\n",
              "  <th>ma.L1</th>     <td>   -0.9694</td> <td>    0.016</td> <td>  -62.235</td> <td> 0.000</td> <td>   -1.000</td> <td>   -0.939</td>\n",
              "</tr>\n",
              "<tr>\n",
              "  <th>sigma2</th>    <td>   48.9989</td> <td>    3.432</td> <td>   14.279</td> <td> 0.000</td> <td>   42.273</td> <td>   55.725</td>\n",
              "</tr>\n",
              "</table>\n",
              "<table class=\"simpletable\">\n",
              "<tr>\n",
              "  <th>Ljung-Box (Q):</th>          <td>36.69</td> <th>  Jarque-Bera (JB):  </th> <td>26.17</td>\n",
              "</tr>\n",
              "<tr>\n",
              "  <th>Prob(Q):</th>                <td>0.62</td>  <th>  Prob(JB):          </th> <td>0.00</td> \n",
              "</tr>\n",
              "<tr>\n",
              "  <th>Heteroskedasticity (H):</th> <td>0.97</td>  <th>  Skew:              </th> <td>0.58</td> \n",
              "</tr>\n",
              "<tr>\n",
              "  <th>Prob(H) (two-sided):</th>    <td>0.85</td>  <th>  Kurtosis:          </th> <td>3.62</td> \n",
              "</tr>\n",
              "</table><br/><br/>Warnings:<br/>[1] Covariance matrix calculated using the outer product of gradients (complex-step)."
            ],
            "text/plain": [
              "<class 'statsmodels.iolib.summary.Summary'>\n",
              "\"\"\"\n",
              "                           Statespace Model Results                           \n",
              "==============================================================================\n",
              "Dep. Variable:                      y   No. Observations:                  365\n",
              "Model:               SARIMAX(1, 1, 1)   Log Likelihood               -1226.077\n",
              "Date:                Thu, 09 Apr 2020   AIC                           2460.154\n",
              "Time:                        21:22:38   BIC                           2475.743\n",
              "Sample:                             0   HQIC                          2466.350\n",
              "                                - 365                                         \n",
              "Covariance Type:                  opg                                         \n",
              "==============================================================================\n",
              "                 coef    std err          z      P>|z|      [0.025      0.975]\n",
              "------------------------------------------------------------------------------\n",
              "intercept      0.0132      0.014      0.975      0.330      -0.013       0.040\n",
              "ar.L1          0.1299      0.059      2.217      0.027       0.015       0.245\n",
              "ma.L1         -0.9694      0.016    -62.235      0.000      -1.000      -0.939\n",
              "sigma2        48.9989      3.432     14.279      0.000      42.273      55.725\n",
              "===================================================================================\n",
              "Ljung-Box (Q):                       36.69   Jarque-Bera (JB):                26.17\n",
              "Prob(Q):                              0.62   Prob(JB):                         0.00\n",
              "Heteroskedasticity (H):               0.97   Skew:                             0.58\n",
              "Prob(H) (two-sided):                  0.85   Kurtosis:                         3.62\n",
              "===================================================================================\n",
              "\n",
              "Warnings:\n",
              "[1] Covariance matrix calculated using the outer product of gradients (complex-step).\n",
              "\"\"\""
            ]
          },
          "metadata": {
            "tags": []
          },
          "execution_count": 6
        }
      ]
    },
    {
      "cell_type": "markdown",
      "metadata": {
        "id": "wj0DQIsOzB93",
        "colab_type": "text"
      },
      "source": [
        "This shows a recommended (p,d,q) ARIMA Order of (1,1,1), with no seasonal_order component.\n",
        "\n",
        "We can see how this was determined by looking at the stepwise results. The recommended order is the one with the lowest <a href='https://en.wikipedia.org/wiki/Akaike_information_criterion'>Akaike information criterion</a> or AIC score. Note that the recommended model may <em>not</em> be the one with the closest fit. The AIC score takes complexity into account, and tries to identify the best <em>forecasting</em> model."
      ]
    },
    {
      "cell_type": "code",
      "metadata": {
        "id": "WJLEvsIhzB94",
        "colab_type": "code",
        "colab": {
          "base_uri": "https://localhost:8080/",
          "height": 610
        },
        "outputId": "6eeff297-23b7-467c-9e56-b3a3cdf2cc78"
      },
      "source": [
        "stepwise_fit = auto_arima(df2['Births'], start_p=0, start_q=0,\n",
        "                          max_p=6, max_q=3, m=12,\n",
        "                          seasonal=False,\n",
        "                          d=None, trace=True,\n",
        "                          error_action='ignore',   # we don't want to know if an order does not work\n",
        "                          suppress_warnings=True,  # we don't want convergence warnings\n",
        "                          stepwise=True)           # set to stepwise\n",
        "\n",
        "stepwise_fit.summary()"
      ],
      "execution_count": 7,
      "outputs": [
        {
          "output_type": "stream",
          "text": [
            "Performing stepwise search to minimize aic\n",
            "Fit ARIMA: (0, 1, 0)x(0, 0, 0, 0) (constant=True); AIC=2650.760, BIC=2658.555, Time=0.018 seconds\n",
            "Fit ARIMA: (1, 1, 0)x(0, 0, 0, 0) (constant=True); AIC=2565.234, BIC=2576.925, Time=0.048 seconds\n",
            "Fit ARIMA: (0, 1, 1)x(0, 0, 0, 0) (constant=True); AIC=2463.584, BIC=2475.275, Time=0.134 seconds\n",
            "Fit ARIMA: (0, 1, 0)x(0, 0, 0, 0) (constant=False); AIC=2648.768, BIC=2652.665, Time=0.018 seconds\n",
            "Fit ARIMA: (1, 1, 1)x(0, 0, 0, 0) (constant=True); AIC=2460.154, BIC=2475.743, Time=0.263 seconds\n",
            "Fit ARIMA: (2, 1, 1)x(0, 0, 0, 0) (constant=True); AIC=2461.271, BIC=2480.757, Time=0.368 seconds\n",
            "Fit ARIMA: (1, 1, 2)x(0, 0, 0, 0) (constant=True); AIC=2460.689, BIC=2480.175, Time=0.694 seconds\n",
            "Near non-invertible roots for order (1, 1, 2)(0, 0, 0, 0); setting score to inf (at least one inverse root too close to the border of the unit circle: 0.996)\n",
            "Fit ARIMA: (0, 1, 2)x(0, 0, 0, 0) (constant=True); AIC=2460.722, BIC=2476.311, Time=0.283 seconds\n",
            "Fit ARIMA: (2, 1, 0)x(0, 0, 0, 0) (constant=True); AIC=2536.154, BIC=2551.742, Time=0.165 seconds\n",
            "Fit ARIMA: (2, 1, 2)x(0, 0, 0, 0) (constant=True); AIC=2462.745, BIC=2486.128, Time=0.852 seconds\n",
            "Total fit time: 2.854 seconds\n"
          ],
          "name": "stdout"
        },
        {
          "output_type": "execute_result",
          "data": {
            "text/html": [
              "<table class=\"simpletable\">\n",
              "<caption>Statespace Model Results</caption>\n",
              "<tr>\n",
              "  <th>Dep. Variable:</th>           <td>y</td>        <th>  No. Observations:  </th>    <td>365</td>   \n",
              "</tr>\n",
              "<tr>\n",
              "  <th>Model:</th>           <td>SARIMAX(1, 1, 1)</td> <th>  Log Likelihood     </th> <td>-1226.077</td>\n",
              "</tr>\n",
              "<tr>\n",
              "  <th>Date:</th>            <td>Thu, 09 Apr 2020</td> <th>  AIC                </th> <td>2460.154</td> \n",
              "</tr>\n",
              "<tr>\n",
              "  <th>Time:</th>                <td>21:22:50</td>     <th>  BIC                </th> <td>2475.743</td> \n",
              "</tr>\n",
              "<tr>\n",
              "  <th>Sample:</th>                  <td>0</td>        <th>  HQIC               </th> <td>2466.350</td> \n",
              "</tr>\n",
              "<tr>\n",
              "  <th></th>                      <td> - 365</td>      <th>                     </th>     <td> </td>    \n",
              "</tr>\n",
              "<tr>\n",
              "  <th>Covariance Type:</th>        <td>opg</td>       <th>                     </th>     <td> </td>    \n",
              "</tr>\n",
              "</table>\n",
              "<table class=\"simpletable\">\n",
              "<tr>\n",
              "      <td></td>         <th>coef</th>     <th>std err</th>      <th>z</th>      <th>P>|z|</th>  <th>[0.025</th>    <th>0.975]</th>  \n",
              "</tr>\n",
              "<tr>\n",
              "  <th>intercept</th> <td>    0.0132</td> <td>    0.014</td> <td>    0.975</td> <td> 0.330</td> <td>   -0.013</td> <td>    0.040</td>\n",
              "</tr>\n",
              "<tr>\n",
              "  <th>ar.L1</th>     <td>    0.1299</td> <td>    0.059</td> <td>    2.217</td> <td> 0.027</td> <td>    0.015</td> <td>    0.245</td>\n",
              "</tr>\n",
              "<tr>\n",
              "  <th>ma.L1</th>     <td>   -0.9694</td> <td>    0.016</td> <td>  -62.235</td> <td> 0.000</td> <td>   -1.000</td> <td>   -0.939</td>\n",
              "</tr>\n",
              "<tr>\n",
              "  <th>sigma2</th>    <td>   48.9989</td> <td>    3.432</td> <td>   14.279</td> <td> 0.000</td> <td>   42.273</td> <td>   55.725</td>\n",
              "</tr>\n",
              "</table>\n",
              "<table class=\"simpletable\">\n",
              "<tr>\n",
              "  <th>Ljung-Box (Q):</th>          <td>36.69</td> <th>  Jarque-Bera (JB):  </th> <td>26.17</td>\n",
              "</tr>\n",
              "<tr>\n",
              "  <th>Prob(Q):</th>                <td>0.62</td>  <th>  Prob(JB):          </th> <td>0.00</td> \n",
              "</tr>\n",
              "<tr>\n",
              "  <th>Heteroskedasticity (H):</th> <td>0.97</td>  <th>  Skew:              </th> <td>0.58</td> \n",
              "</tr>\n",
              "<tr>\n",
              "  <th>Prob(H) (two-sided):</th>    <td>0.85</td>  <th>  Kurtosis:          </th> <td>3.62</td> \n",
              "</tr>\n",
              "</table><br/><br/>Warnings:<br/>[1] Covariance matrix calculated using the outer product of gradients (complex-step)."
            ],
            "text/plain": [
              "<class 'statsmodels.iolib.summary.Summary'>\n",
              "\"\"\"\n",
              "                           Statespace Model Results                           \n",
              "==============================================================================\n",
              "Dep. Variable:                      y   No. Observations:                  365\n",
              "Model:               SARIMAX(1, 1, 1)   Log Likelihood               -1226.077\n",
              "Date:                Thu, 09 Apr 2020   AIC                           2460.154\n",
              "Time:                        21:22:50   BIC                           2475.743\n",
              "Sample:                             0   HQIC                          2466.350\n",
              "                                - 365                                         \n",
              "Covariance Type:                  opg                                         \n",
              "==============================================================================\n",
              "                 coef    std err          z      P>|z|      [0.025      0.975]\n",
              "------------------------------------------------------------------------------\n",
              "intercept      0.0132      0.014      0.975      0.330      -0.013       0.040\n",
              "ar.L1          0.1299      0.059      2.217      0.027       0.015       0.245\n",
              "ma.L1         -0.9694      0.016    -62.235      0.000      -1.000      -0.939\n",
              "sigma2        48.9989      3.432     14.279      0.000      42.273      55.725\n",
              "===================================================================================\n",
              "Ljung-Box (Q):                       36.69   Jarque-Bera (JB):                26.17\n",
              "Prob(Q):                              0.62   Prob(JB):                         0.00\n",
              "Heteroskedasticity (H):               0.97   Skew:                             0.58\n",
              "Prob(H) (two-sided):                  0.85   Kurtosis:                         3.62\n",
              "===================================================================================\n",
              "\n",
              "Warnings:\n",
              "[1] Covariance matrix calculated using the outer product of gradients (complex-step).\n",
              "\"\"\""
            ]
          },
          "metadata": {
            "tags": []
          },
          "execution_count": 7
        }
      ]
    },
    {
      "cell_type": "markdown",
      "metadata": {
        "id": "JCimDI0jzB9-",
        "colab_type": "text"
      },
      "source": [
        "___\n",
        "Now let's look at the non-stationary, seasonal <strong>Airline Passengers</strong> dataset:"
      ]
    },
    {
      "cell_type": "code",
      "metadata": {
        "id": "R5mquhVFzB9_",
        "colab_type": "code",
        "colab": {
          "base_uri": "https://localhost:8080/",
          "height": 798
        },
        "outputId": "9a476ca9-a01f-4bb1-fd7a-905bef13725f"
      },
      "source": [
        "stepwise_fit = auto_arima(df1['Thousands of Passengers'], start_p=1, start_q=1,\n",
        "                          max_p=3, max_q=3, m=12,\n",
        "                          start_P=0, seasonal=True,\n",
        "                          d=None, D=1, trace=True,\n",
        "                          error_action='ignore',   # we don't want to know if an order does not work\n",
        "                          suppress_warnings=True,  # we don't want convergence warnings\n",
        "                          stepwise=True)           # set to stepwise\n",
        "\n",
        "stepwise_fit.summary()"
      ],
      "execution_count": 8,
      "outputs": [
        {
          "output_type": "stream",
          "text": [
            "Performing stepwise search to minimize aic\n",
            "Fit ARIMA: (1, 1, 1)x(0, 1, 1, 12) (constant=True); AIC=1024.824, BIC=1039.200, Time=0.738 seconds\n",
            "Fit ARIMA: (0, 1, 0)x(0, 1, 0, 12) (constant=True); AIC=1033.479, BIC=1039.229, Time=0.028 seconds\n",
            "Fit ARIMA: (1, 1, 0)x(1, 1, 0, 12) (constant=True); AIC=1022.316, BIC=1033.817, Time=0.566 seconds\n",
            "Fit ARIMA: (0, 1, 1)x(0, 1, 1, 12) (constant=True); AIC=1022.904, BIC=1034.405, Time=0.654 seconds\n",
            "Fit ARIMA: (0, 1, 0)x(0, 1, 0, 12) (constant=False); AIC=1031.508, BIC=1034.383, Time=0.025 seconds\n",
            "Fit ARIMA: (1, 1, 0)x(0, 1, 0, 12) (constant=True); AIC=1022.343, BIC=1030.968, Time=0.134 seconds\n",
            "Fit ARIMA: (1, 1, 0)x(2, 1, 0, 12) (constant=True); AIC=1021.137, BIC=1035.513, Time=1.722 seconds\n",
            "Fit ARIMA: (1, 1, 0)x(2, 1, 1, 12) (constant=True); AIC=1017.166, BIC=1034.417, Time=5.984 seconds\n",
            "Near non-invertible roots for order (1, 1, 0)(2, 1, 1, 12); setting score to inf (at least one inverse root too close to the border of the unit circle: 0.998)\n",
            "Fit ARIMA: (1, 1, 0)x(1, 1, 1, 12) (constant=True); AIC=1022.410, BIC=1036.786, Time=1.088 seconds\n",
            "Fit ARIMA: (0, 1, 0)x(2, 1, 0, 12) (constant=True); AIC=1034.067, BIC=1045.568, Time=1.218 seconds\n",
            "Fit ARIMA: (2, 1, 0)x(2, 1, 0, 12) (constant=True); AIC=1023.007, BIC=1040.258, Time=2.269 seconds\n",
            "Fit ARIMA: (1, 1, 1)x(2, 1, 0, 12) (constant=True); AIC=1022.905, BIC=1040.156, Time=2.124 seconds\n",
            "Fit ARIMA: (0, 1, 1)x(2, 1, 0, 12) (constant=True); AIC=1021.017, BIC=1035.393, Time=1.230 seconds\n",
            "Fit ARIMA: (0, 1, 1)x(1, 1, 0, 12) (constant=True); AIC=1022.314, BIC=1033.815, Time=0.470 seconds\n",
            "Fit ARIMA: (0, 1, 1)x(2, 1, 1, 12) (constant=True); AIC=1015.841, BIC=1033.092, Time=4.982 seconds\n",
            "Near non-invertible roots for order (0, 1, 1)(2, 1, 1, 12); setting score to inf (at least one inverse root too close to the border of the unit circle: 0.998)\n",
            "Fit ARIMA: (0, 1, 1)x(1, 1, 1, 12) (constant=True); AIC=1022.207, BIC=1036.583, Time=1.338 seconds\n",
            "Fit ARIMA: (0, 1, 2)x(2, 1, 0, 12) (constant=True); AIC=1022.996, BIC=1040.247, Time=1.876 seconds\n",
            "Fit ARIMA: (1, 1, 2)x(2, 1, 0, 12) (constant=True); AIC=1024.668, BIC=1044.795, Time=3.564 seconds\n",
            "Total fit time: 30.034 seconds\n"
          ],
          "name": "stdout"
        },
        {
          "output_type": "execute_result",
          "data": {
            "text/html": [
              "<table class=\"simpletable\">\n",
              "<caption>Statespace Model Results</caption>\n",
              "<tr>\n",
              "  <th>Dep. Variable:</th>                  <td>y</td>               <th>  No. Observations:  </th>    <td>144</td>  \n",
              "</tr>\n",
              "<tr>\n",
              "  <th>Model:</th>           <td>SARIMAX(0, 1, 1)x(2, 1, 1, 12)</td> <th>  Log Likelihood     </th> <td>-501.920</td>\n",
              "</tr>\n",
              "<tr>\n",
              "  <th>Date:</th>                   <td>Thu, 09 Apr 2020</td>        <th>  AIC                </th> <td>1015.841</td>\n",
              "</tr>\n",
              "<tr>\n",
              "  <th>Time:</th>                       <td>21:23:23</td>            <th>  BIC                </th> <td>1033.092</td>\n",
              "</tr>\n",
              "<tr>\n",
              "  <th>Sample:</th>                         <td>0</td>               <th>  HQIC               </th> <td>1022.850</td>\n",
              "</tr>\n",
              "<tr>\n",
              "  <th></th>                             <td> - 144</td>             <th>                     </th>     <td> </td>   \n",
              "</tr>\n",
              "<tr>\n",
              "  <th>Covariance Type:</th>               <td>opg</td>              <th>                     </th>     <td> </td>   \n",
              "</tr>\n",
              "</table>\n",
              "<table class=\"simpletable\">\n",
              "<tr>\n",
              "      <td></td>         <th>coef</th>     <th>std err</th>      <th>z</th>      <th>P>|z|</th>  <th>[0.025</th>    <th>0.975]</th>  \n",
              "</tr>\n",
              "<tr>\n",
              "  <th>intercept</th> <td>    0.0003</td> <td>    0.032</td> <td>    0.010</td> <td> 0.992</td> <td>   -0.062</td> <td>    0.063</td>\n",
              "</tr>\n",
              "<tr>\n",
              "  <th>ma.L1</th>     <td>   -0.4243</td> <td>    0.068</td> <td>   -6.211</td> <td> 0.000</td> <td>   -0.558</td> <td>   -0.290</td>\n",
              "</tr>\n",
              "<tr>\n",
              "  <th>ar.S.L12</th>  <td>    0.6656</td> <td>    0.155</td> <td>    4.296</td> <td> 0.000</td> <td>    0.362</td> <td>    0.969</td>\n",
              "</tr>\n",
              "<tr>\n",
              "  <th>ar.S.L24</th>  <td>    0.3330</td> <td>    0.096</td> <td>    3.479</td> <td> 0.001</td> <td>    0.145</td> <td>    0.521</td>\n",
              "</tr>\n",
              "<tr>\n",
              "  <th>ma.S.L12</th>  <td>   -0.9754</td> <td>    1.265</td> <td>   -0.771</td> <td> 0.441</td> <td>   -3.454</td> <td>    1.503</td>\n",
              "</tr>\n",
              "<tr>\n",
              "  <th>sigma2</th>    <td>  110.3992</td> <td>  117.291</td> <td>    0.941</td> <td> 0.347</td> <td> -119.486</td> <td>  340.285</td>\n",
              "</tr>\n",
              "</table>\n",
              "<table class=\"simpletable\">\n",
              "<tr>\n",
              "  <th>Ljung-Box (Q):</th>          <td>53.12</td> <th>  Jarque-Bera (JB):  </th> <td>7.57</td>\n",
              "</tr>\n",
              "<tr>\n",
              "  <th>Prob(Q):</th>                <td>0.08</td>  <th>  Prob(JB):          </th> <td>0.02</td>\n",
              "</tr>\n",
              "<tr>\n",
              "  <th>Heteroskedasticity (H):</th> <td>2.83</td>  <th>  Skew:              </th> <td>0.10</td>\n",
              "</tr>\n",
              "<tr>\n",
              "  <th>Prob(H) (two-sided):</th>    <td>0.00</td>  <th>  Kurtosis:          </th> <td>4.16</td>\n",
              "</tr>\n",
              "</table><br/><br/>Warnings:<br/>[1] Covariance matrix calculated using the outer product of gradients (complex-step)."
            ],
            "text/plain": [
              "<class 'statsmodels.iolib.summary.Summary'>\n",
              "\"\"\"\n",
              "                                 Statespace Model Results                                 \n",
              "==========================================================================================\n",
              "Dep. Variable:                                  y   No. Observations:                  144\n",
              "Model:             SARIMAX(0, 1, 1)x(2, 1, 1, 12)   Log Likelihood                -501.920\n",
              "Date:                            Thu, 09 Apr 2020   AIC                           1015.841\n",
              "Time:                                    21:23:23   BIC                           1033.092\n",
              "Sample:                                         0   HQIC                          1022.850\n",
              "                                            - 144                                         \n",
              "Covariance Type:                              opg                                         \n",
              "==============================================================================\n",
              "                 coef    std err          z      P>|z|      [0.025      0.975]\n",
              "------------------------------------------------------------------------------\n",
              "intercept      0.0003      0.032      0.010      0.992      -0.062       0.063\n",
              "ma.L1         -0.4243      0.068     -6.211      0.000      -0.558      -0.290\n",
              "ar.S.L12       0.6656      0.155      4.296      0.000       0.362       0.969\n",
              "ar.S.L24       0.3330      0.096      3.479      0.001       0.145       0.521\n",
              "ma.S.L12      -0.9754      1.265     -0.771      0.441      -3.454       1.503\n",
              "sigma2       110.3992    117.291      0.941      0.347    -119.486     340.285\n",
              "===================================================================================\n",
              "Ljung-Box (Q):                       53.12   Jarque-Bera (JB):                 7.57\n",
              "Prob(Q):                              0.08   Prob(JB):                         0.02\n",
              "Heteroskedasticity (H):               2.83   Skew:                             0.10\n",
              "Prob(H) (two-sided):                  0.00   Kurtosis:                         4.16\n",
              "===================================================================================\n",
              "\n",
              "Warnings:\n",
              "[1] Covariance matrix calculated using the outer product of gradients (complex-step).\n",
              "\"\"\""
            ]
          },
          "metadata": {
            "tags": []
          },
          "execution_count": 8
        }
      ]
    },
    {
      "cell_type": "markdown",
      "metadata": {
        "id": "AhxJjoC8zB-C",
        "colab_type": "text"
      },
      "source": [
        "## OPTIONAL: statsmodels ARMA_Order_Select_IC\n",
        "Statsmodels has a selection tool to find orders for ARMA models on stationary data."
      ]
    },
    {
      "cell_type": "code",
      "metadata": {
        "id": "IqTRWKKUzB-D",
        "colab_type": "code",
        "colab": {}
      },
      "source": [
        "from statsmodels.tsa.stattools import arma_order_select_ic"
      ],
      "execution_count": 0,
      "outputs": []
    },
    {
      "cell_type": "code",
      "metadata": {
        "scrolled": true,
        "id": "i80ArVNSzB-K",
        "colab_type": "code",
        "colab": {
          "base_uri": "https://localhost:8080/",
          "height": 974
        },
        "outputId": "9bcf0d3e-1b5e-4e13-b713-95766f3c6828"
      },
      "source": [
        "help(arma_order_select_ic)"
      ],
      "execution_count": 10,
      "outputs": [
        {
          "output_type": "stream",
          "text": [
            "Help on function arma_order_select_ic in module statsmodels.tsa.stattools:\n",
            "\n",
            "arma_order_select_ic(y, max_ar=4, max_ma=2, ic='bic', trend='c', model_kw=None, fit_kw=None)\n",
            "    Returns information criteria for many ARMA models\n",
            "    \n",
            "    Parameters\n",
            "    ----------\n",
            "    y : array-like\n",
            "        Time-series data\n",
            "    max_ar : int\n",
            "        Maximum number of AR lags to use. Default 4.\n",
            "    max_ma : int\n",
            "        Maximum number of MA lags to use. Default 2.\n",
            "    ic : str, list\n",
            "        Information criteria to report. Either a single string or a list\n",
            "        of different criteria is possible.\n",
            "    trend : str\n",
            "        The trend to use when fitting the ARMA models.\n",
            "    model_kw : dict\n",
            "        Keyword arguments to be passed to the ``ARMA`` model\n",
            "    fit_kw : dict\n",
            "        Keyword arguments to be passed to ``ARMA.fit``.\n",
            "    \n",
            "    Returns\n",
            "    -------\n",
            "    obj : Results object\n",
            "        Each ic is an attribute with a DataFrame for the results. The AR order\n",
            "        used is the row index. The ma order used is the column index. The\n",
            "        minimum orders are available as ``ic_min_order``.\n",
            "    \n",
            "    Examples\n",
            "    --------\n",
            "    \n",
            "    >>> from statsmodels.tsa.arima_process import arma_generate_sample\n",
            "    >>> import statsmodels.api as sm\n",
            "    >>> import numpy as np\n",
            "    \n",
            "    >>> arparams = np.array([.75, -.25])\n",
            "    >>> maparams = np.array([.65, .35])\n",
            "    >>> arparams = np.r_[1, -arparams]\n",
            "    >>> maparam = np.r_[1, maparams]\n",
            "    >>> nobs = 250\n",
            "    >>> np.random.seed(2014)\n",
            "    >>> y = arma_generate_sample(arparams, maparams, nobs)\n",
            "    >>> res = sm.tsa.arma_order_select_ic(y, ic=['aic', 'bic'], trend='nc')\n",
            "    >>> res.aic_min_order\n",
            "    >>> res.bic_min_order\n",
            "    \n",
            "    Notes\n",
            "    -----\n",
            "    This method can be used to tentatively identify the order of an ARMA\n",
            "    process, provided that the time series is stationary and invertible. This\n",
            "    function computes the full exact MLE estimate of each model and can be,\n",
            "    therefore a little slow. An implementation using approximate estimates\n",
            "    will be provided in the future. In the meantime, consider passing\n",
            "    {method : 'css'} to fit_kw.\n",
            "\n"
          ],
          "name": "stdout"
        }
      ]
    },
    {
      "cell_type": "code",
      "metadata": {
        "id": "sXrovzCCzB-R",
        "colab_type": "code",
        "colab": {
          "base_uri": "https://localhost:8080/",
          "height": 117
        },
        "outputId": "ad6b289d-f6e0-4c14-e1bd-fb411c0ffd7c"
      },
      "source": [
        "arma_order_select_ic(df2['Births'])"
      ],
      "execution_count": 11,
      "outputs": [
        {
          "output_type": "execute_result",
          "data": {
            "text/plain": [
              "{'bic':              0            1            2\n",
              " 0  2502.581666  2494.238827  2494.731525\n",
              " 1  2490.780306  2484.505386  2486.223523\n",
              " 2  2491.963234  2485.782753  2491.097217\n",
              " 3  2496.498618  2491.061564  2496.961178\n",
              " 4  2501.491891  2504.012615  2498.329743, 'bic_min_order': (1, 1)}"
            ]
          },
          "metadata": {
            "tags": []
          },
          "execution_count": 11
        }
      ]
    },
    {
      "cell_type": "code",
      "metadata": {
        "id": "uGPuZFt0zB-Y",
        "colab_type": "code",
        "colab": {
          "base_uri": "https://localhost:8080/",
          "height": 117
        },
        "outputId": "3e890302-8b0a-4ef0-e438-02396fc5c62e"
      },
      "source": [
        "arma_order_select_ic(df1['Thousands of Passengers'])"
      ],
      "execution_count": 12,
      "outputs": [
        {
          "output_type": "execute_result",
          "data": {
            "text/plain": [
              "{'bic':              0            1            2\n",
              " 0  1796.307207  1627.771967  1534.002384\n",
              " 1  1437.088819  1421.627523  1425.899321\n",
              " 2  1425.518037  1423.098290  1487.123146\n",
              " 3  1425.191373  1413.093308  1400.123891\n",
              " 4  1427.576572  1526.855816  1414.307929, 'bic_min_order': (3, 2)}"
            ]
          },
          "metadata": {
            "tags": []
          },
          "execution_count": 12
        }
      ]
    },
    {
      "cell_type": "markdown",
      "metadata": {
        "id": "x-z2iJ-OzB-f",
        "colab_type": "text"
      },
      "source": [
        "<div class=\"alert alert-success\"><strong>A note about <tt>statsmodels.tsa.x13.x13_arima_select_order</tt></strong><br><br>\n",
        "This utility requires installation of <strong>X-13ARIMA-SEATS</strong>, a seasonal adjustment tool developed by the U.S. Census Bureau.<br>\n",
        "See <a href='https://www.census.gov/srd/www/x13as/'>https://www.census.gov/srd/www/x13as/</a> for details. Since the installation requires adding x13as to your PATH settings we've deemed it beyond the scope of this course."
      ]
    }
  ]
}