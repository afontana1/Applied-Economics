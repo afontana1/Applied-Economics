{
 "cells": [
  {
   "cell_type": "code",
   "execution_count": 387,
   "id": "de02baff",
   "metadata": {},
   "outputs": [],
   "source": [
    "import numpy as np\n",
    "import pandas as pd\n",
    "from scipy import stats\n",
    "\n",
    "from sklearn.model_selection import train_test_split\n",
    "\n",
    "import matplotlib.pyplot as plt\n",
    "plt.style.use('fivethirtyeight')"
   ]
  },
  {
   "cell_type": "code",
   "execution_count": 2,
   "id": "702ababf",
   "metadata": {},
   "outputs": [],
   "source": [
    "COLORS = [\n",
    "    '#00B0F0',\n",
    "    '#FF0000'\n",
    "]"
   ]
  },
  {
   "cell_type": "markdown",
   "id": "4d417229",
   "metadata": {},
   "source": [
    "# Additional code for data generating processes"
   ]
  },
  {
   "cell_type": "markdown",
   "id": "ac23d7d9",
   "metadata": {},
   "source": [
    "## Chapter 09"
   ]
  },
  {
   "cell_type": "markdown",
   "id": "7058fff7",
   "metadata": {},
   "source": [
    "### Post-training earnings data (simple)"
   ]
  },
  {
   "cell_type": "code",
   "execution_count": 39,
   "id": "865c3739",
   "metadata": {},
   "outputs": [],
   "source": [
    "SAMPLE_SIZE = 200\n",
    "MAX_AGE = 50\n",
    "\n",
    "age = stats.halfnorm.rvs(loc=19, scale=10, size=SAMPLE_SIZE).astype(int)\n",
    "age = np.where(age > MAX_AGE, np.random.choice(np.arange(20, MAX_AGE)), age)\n",
    "\n",
    "took_a_course = stats.bernoulli(p=10/age).rvs().astype(bool)\n",
    "\n",
    "earnings = 75000 + took_a_course * 10000 + age * 1000 + age**2 * 50 + np.random.randn(SAMPLE_SIZE) * 2000\n",
    "earnings = earnings.round()\n",
    "\n",
    "earnings = pd.DataFrame(dict(\n",
    "    age=age,\n",
    "    took_a_course=took_a_course,\n",
    "    earnings=earnings\n",
    "))"
   ]
  },
  {
   "cell_type": "code",
   "execution_count": 40,
   "id": "ca46d6ce",
   "metadata": {},
   "outputs": [
    {
     "data": {
      "text/plain": [
       "<matplotlib.collections.PathCollection at 0x1c786e7e0d0>"
      ]
     },
     "execution_count": 40,
     "metadata": {},
     "output_type": "execute_result"
    },
    {
     "data": {
      "image/png": "[encoded data removed]",
      "text/plain": [
       "<Figure size 432x288 with 1 Axes>"
      ]
     },
     "metadata": {},
     "output_type": "display_data"
    }
   ],
   "source": [
    "plt.scatter(earnings.age, earnings.earnings)"
   ]
  },
  {
   "cell_type": "code",
   "execution_count": 41,
   "id": "100a985c",
   "metadata": {},
   "outputs": [],
   "source": [
    "earnings.to_csv('data/ml_earnings.csv', index=False)"
   ]
  },
  {
   "cell_type": "markdown",
   "id": "567bbbbb",
   "metadata": {},
   "source": [
    "### Post-training earnings data (enhanced)"
   ]
  },
  {
   "cell_type": "code",
   "execution_count": 139,
   "id": "2d26efeb",
   "metadata": {},
   "outputs": [],
   "source": [
    "# Train set large\n",
    "SAMPLE_SIZE = 5000\n",
    "MAX_AGE = 50\n",
    "\n",
    "age = stats.halfnorm.rvs(loc=19, scale=10, size=SAMPLE_SIZE).astype(int)\n",
    "age = np.where(age > MAX_AGE, np.random.choice(np.arange(20, MAX_AGE)), age)\n",
    "\n",
    "took_a_course = stats.bernoulli(p=10/age).rvs().astype(bool)\n",
    "python_proficiency = np.random.uniform(0, 1, SAMPLE_SIZE)\n",
    "\n",
    "noise = np.random.randn(SAMPLE_SIZE)\n",
    "\n",
    "earnings = 75000 + took_a_course * 10000 + took_a_course * python_proficiency * 5000 + age * 1000 + age**2 * 50 + noise * 2000\n",
    "earnings = earnings.round()\n",
    "\n",
    "earnings = pd.DataFrame(dict(\n",
    "    age=age,\n",
    "    python_proficiency = python_proficiency,\n",
    "    took_a_course=took_a_course,\n",
    "    earnings=earnings\n",
    "))"
   ]
  },
  {
   "cell_type": "code",
   "execution_count": 140,
   "id": "99788d91",
   "metadata": {},
   "outputs": [],
   "source": [
    "earnings.to_csv('data/ml_earnings_interaction_train.csv', index=False)"
   ]
  },
  {
   "cell_type": "code",
   "execution_count": 143,
   "id": "555e6273",
   "metadata": {},
   "outputs": [],
   "source": [
    "# Test set\n",
    "SAMPLE_SIZE = 100\n",
    "MAX_AGE = 50\n",
    "\n",
    "age = stats.halfnorm.rvs(loc=19, scale=10, size=SAMPLE_SIZE).astype(int)\n",
    "age = np.where(age > MAX_AGE, np.random.choice(np.arange(20, MAX_AGE)), age)\n",
    "\n",
    "python_proficiency = np.random.uniform(0, 1, SAMPLE_SIZE)\n",
    "\n",
    "noise = np.random.randn(SAMPLE_SIZE)\n",
    "\n",
    "earnings_0 = (75000 + 0 * 10000 + 0 * python_proficiency * 5000 + age * 5000 + age**2 * 50 + noise * 2000).round()\n",
    "earnings_1 = (75000 + 1 * 10000 + 1 * python_proficiency * 5000 + age * 5000 + age**2 * 50 + noise * 2000).round()\n",
    "true_effect = earnings_1 - earnings_0\n",
    "\n",
    "earnings_test = pd.DataFrame(dict(\n",
    "    age=age,\n",
    "    python_proficiency=python_proficiency,\n",
    "    took_a_course=True,\n",
    "    true_effect=true_effect\n",
    "))"
   ]
  },
  {
   "cell_type": "code",
   "execution_count": 144,
   "id": "2763703c",
   "metadata": {},
   "outputs": [],
   "source": [
    "earnings_test.to_csv('data/ml_earnings_interaction_test.csv', index=False)"
   ]
  },
  {
   "cell_type": "markdown",
   "id": "74afa358",
   "metadata": {},
   "source": [
    "## Chapter 11"
   ]
  },
  {
   "cell_type": "markdown",
   "id": "283685f2",
   "metadata": {},
   "source": [
    "### Simulated data"
   ]
  },
  {
   "cell_type": "code",
   "execution_count": 467,
   "id": "9db54f09",
   "metadata": {},
   "outputs": [],
   "source": [
    "SAMPLE_SIZE = 2000\n",
    "\n",
    "def get_data_dgp_11(sample_size=1000, with_interaction=True):\n",
    "    chi = np.random.chisquare(12, (sample_size, 5)) / 30\n",
    "    norm = np.random.normal(0, 1, (sample_size, 5))\n",
    "    binom = np.random.binomial(1, [.3, .5, .7, .12, .9], (sample_size, 5))\n",
    "    gumbel = np.random.gumbel(-2, 1, (sample_size, 5)) / 6\n",
    "\n",
    "    X = np.concatenate([chi, norm, binom, gumbel], axis=1)\n",
    "\n",
    "    T0 = np.zeros(sample_size)\n",
    "    T1 = np.ones(sample_size)\n",
    "    \n",
    "    noise = np.random.randn(sample_size)\n",
    "    \n",
    "    coefs = np.random.gumbel(0, 10, X.shape[1] + 1)\n",
    "    \n",
    "    if with_interaction:\n",
    "        interaction_term = X[:, 0] + X[:, 7]\n",
    "        y0 = (coefs * np.concatenate([(T0 * interaction_term).reshape(-1, 1), X], axis=1)).sum(axis=1) + noise\n",
    "        y1 = (coefs * np.concatenate([(T1 * interaction_term).reshape(-1, 1), X], axis=1)).sum(axis=1) + noise\n",
    "    else:\n",
    "        interaction_term = 1\n",
    "        y0 = (coefs * np.concatenate([\n",
    "            T0.reshape(-1, 1), \n",
    "            X], \n",
    "            axis=1))\\\n",
    "        .sum(axis=1) + noise\n",
    "        \n",
    "        y1 = (coefs * np.concatenate([\n",
    "            10 * np.exp(\n",
    "                T1 + X[:, 7:12]\\\n",
    "                .sum(axis=1) / 1000).reshape(-1, 1), \n",
    "            X], \n",
    "            axis=1)).sum(axis=1) + noise\n",
    "    \n",
    "    return X, y0, y1, coefs\n",
    "\n",
    "\n",
    "def filter_outcomes(y, t):\n",
    "    result = np.zeros_like(t, dtype=float)  \n",
    "    result[t == 0] = y[t == 0, 0]      \n",
    "    result[t == 1] = y[t == 1, 1]    \n",
    "    return result"
   ]
  },
  {
   "cell_type": "markdown",
   "id": "51807226",
   "metadata": {},
   "source": [
    "#### No interaction"
   ]
  },
  {
   "cell_type": "code",
   "execution_count": 468,
   "id": "08f5832e",
   "metadata": {},
   "outputs": [],
   "source": [
    "# No-interaction data\n",
    "X, y0, y1, coefs = get_data_dgp_11(SAMPLE_SIZE, False)\n",
    "\n",
    "# Generate treatments\n",
    "T = np.random.binomial(1, 0.5, SAMPLE_SIZE)\n",
    "\n",
    "# Train-test split\n",
    "X_train, X_test, y_train, y_test, T_train, T_test = train_test_split(X, np.stack([y0, y1]).T, T, test_size=.1)\n",
    "\n",
    "# Filter actual outcomes\n",
    "y_train_actual = filter_outcomes(y_train, T_train)\n",
    "y_test_actual = filter_outcomes(y_test, T_test)\n",
    "\n",
    "# To DF & update cols\n",
    "data_no_interaction_train = pd.DataFrame(\n",
    "    np.concatenate(\n",
    "        [\n",
    "            X_train, \n",
    "            T_train.reshape(-1, 1), \n",
    "            y_train_actual.reshape(-1, 1)],\n",
    "        axis=1\n",
    "    )\n",
    ")\n",
    "\n",
    "data_no_interaction_train.columns = [f'x{i}' for i in range(20)] + ['treatment', 'outcome']\n",
    "\n",
    "\n",
    "data_no_interaction_test = pd.DataFrame(\n",
    "    np.concatenate(\n",
    "        [\n",
    "            X_test, \n",
    "            T_test.reshape(-1, 1), \n",
    "            (y_test[:, 1] - y_test[:, 0]).reshape(-1, 1)],\n",
    "        axis=1\n",
    "    )\n",
    ")\n",
    "\n",
    "\n",
    "data_no_interaction_test.columns = [f'x{i}' for i in range(20)] + ['treatment', 'true_effect']\n",
    "\n",
    "# Store\n",
    "data_no_interaction_train.to_csv('data/data_11_no_interaction_train.csv', index=False)\n",
    "data_no_interaction_test.to_csv('data/data_11_no_interaction_test.csv', index=False)"
   ]
  },
  {
   "cell_type": "code",
   "execution_count": 469,
   "id": "e87ab637",
   "metadata": {},
   "outputs": [
    {
     "data": {
      "text/plain": [
       "(array([ 34.89751834,   8.61226375, -12.63565299, ...,   2.99937547,\n",
       "         14.48281498,  32.13379007]),\n",
       " array([ -9.92622448, -36.0636879 , -57.4257863 , ..., -41.66052399,\n",
       "        -30.30810687, -12.62264189]))"
      ]
     },
     "execution_count": 469,
     "metadata": {},
     "output_type": "execute_result"
    }
   ],
   "source": [
    "y0, y1"
   ]
  },
  {
   "cell_type": "code",
   "execution_count": 470,
   "id": "9ad1f4f9",
   "metadata": {},
   "outputs": [
    {
     "data": {
      "text/plain": [
       "array([-44.82374282, -44.67595165, -44.79013331, ..., -44.65989946,\n",
       "       -44.79092185, -44.75643196])"
      ]
     },
     "execution_count": 470,
     "metadata": {},
     "output_type": "execute_result"
    }
   ],
   "source": [
    "y1 - y0"
   ]
  },
  {
   "cell_type": "markdown",
   "id": "31ce7420",
   "metadata": {},
   "source": [
    "#### With interaction"
   ]
  },
  {
   "cell_type": "code",
   "execution_count": 475,
   "id": "71909b39",
   "metadata": {},
   "outputs": [],
   "source": [
    "# No-interaction data\n",
    "X, y0, y1, coefs = get_data_dgp_11(SAMPLE_SIZE, True)\n",
    "\n",
    "# Generate treatments\n",
    "T = np.random.binomial(1, 0.5, SAMPLE_SIZE)\n",
    "\n",
    "# Train-test split\n",
    "X_train, X_test, y_train, y_test, T_train, T_test = train_test_split(X, np.stack([y0, y1]).T, T, test_size=.1)\n",
    "\n",
    "# Filter actual outcomes\n",
    "y_train_actual = filter_outcomes(y_train, T_train)\n",
    "y_test_actual = filter_outcomes(y_test, T_test)\n",
    "\n",
    "# To DF & update cols\n",
    "data_with_interaction_train = pd.DataFrame(\n",
    "    np.concatenate(\n",
    "        [\n",
    "            X_train, \n",
    "            T_train.reshape(-1, 1), \n",
    "            y_train_actual.reshape(-1, 1)],\n",
    "        axis=1\n",
    "    )\n",
    ")\n",
    "\n",
    "data_with_interaction_train.columns = [f'x{i}' for i in range(20)] + ['treatment', 'outcome']\n",
    "\n",
    "\n",
    "data_with_interaction_test = pd.DataFrame(\n",
    "    np.concatenate(\n",
    "        [\n",
    "            X_test, \n",
    "            T_test.reshape(-1, 1), \n",
    "            (y_test[:, 1] - y_test[:, 0]).reshape(-1, 1)],\n",
    "        axis=1\n",
    "    )\n",
    ")\n",
    "\n",
    "\n",
    "data_with_interaction_test.columns = [f'x{i}' for i in range(20)] + ['treatment', 'true_effect']\n",
    "\n",
    "# Store\n",
    "data_with_interaction_train.to_csv('data/data_11_with_interaction_train.csv', index=False)\n",
    "data_with_interaction_test.to_csv('data/data_11_with_interaction_test.csv', index=False)"
   ]
  },
  {
   "cell_type": "code",
   "execution_count": 474,
   "id": "72d62da4",
   "metadata": {},
   "outputs": [
    {
     "data": {
      "text/plain": [
       "array([[ 1.63371979e+01,  1.59045881e+01],\n",
       "       [-3.06609145e+00, -1.84422244e+00],\n",
       "       [-1.03359389e+01, -7.87196605e+00],\n",
       "       [ 4.46875521e+00,  4.96359667e+00],\n",
       "       [ 3.18576088e+01,  3.37932190e+01],\n",
       "       [ 1.19932029e+01,  2.98884169e+00],\n",
       "       [ 9.69525909e+00,  7.93796477e+00],\n",
       "       [-7.38440149e+00, -8.60629373e+00],\n",
       "       [ 2.41254919e+01,  1.35643255e+01],\n",
       "       [ 1.97529380e+01,  1.63711534e+01],\n",
       "       [ 2.43068304e+01,  2.23882172e+01],\n",
       "       [-7.98322104e+00, -1.16848962e+01],\n",
       "       [-2.54805435e+00, -9.10154055e+00],\n",
       "       [-2.12343129e+01, -2.11751544e+01],\n",
       "       [ 1.99864813e+00, -3.96052447e+00],\n",
       "       [ 1.54031350e+01,  1.24315489e+01],\n",
       "       [ 7.02887405e+00,  5.32079794e+00],\n",
       "       [ 2.07225787e+00,  3.98963467e+00],\n",
       "       [ 1.05768464e+01,  1.16281929e+01],\n",
       "       [ 2.58577213e+01,  2.11922848e+01],\n",
       "       [ 1.11960625e+01,  6.92346165e+00],\n",
       "       [ 8.63504905e+00,  7.25811536e+00],\n",
       "       [ 1.45579537e+01,  1.14446180e+01],\n",
       "       [-1.05771942e+01, -1.20518737e+01],\n",
       "       [ 1.50904679e+01,  1.10366070e+01],\n",
       "       [ 1.18356618e+01,  4.89932210e+00],\n",
       "       [ 1.18242024e+01,  9.95327571e+00],\n",
       "       [-4.42150929e+00, -8.56758507e-01],\n",
       "       [ 1.90045567e+01,  2.25398094e+01],\n",
       "       [-9.05976959e+00, -1.25219855e+01],\n",
       "       [ 1.83118169e+01,  1.50464956e+01],\n",
       "       [-9.71122700e+00, -9.93741894e+00],\n",
       "       [-4.60208952e+00,  2.71032818e+00],\n",
       "       [-2.15014674e+01, -2.04324464e+01],\n",
       "       [ 1.31560593e+01,  1.00683814e+01],\n",
       "       [-1.79174245e+01, -1.94410151e+01],\n",
       "       [ 1.93439684e+01,  2.07561603e+01],\n",
       "       [-1.58168095e+01, -1.03663941e+01],\n",
       "       [-7.75661603e+00, -5.33883483e+00],\n",
       "       [ 3.22820694e+01,  2.83894343e+01],\n",
       "       [-2.01817097e+01, -1.76334410e+01],\n",
       "       [ 3.17113259e+01,  2.81813370e+01],\n",
       "       [-1.09985805e+01, -7.91712686e+00],\n",
       "       [ 2.13866154e+01,  1.66148733e+01],\n",
       "       [-1.48789697e+01, -8.17279022e+00],\n",
       "       [ 9.17563124e+00,  6.02526627e+00],\n",
       "       [ 2.58140460e+00, -1.12501476e-01],\n",
       "       [-1.21727684e+01, -1.07267230e+01],\n",
       "       [-1.90409191e+01, -1.65927276e+01],\n",
       "       [ 3.72328902e+01,  3.79919913e+01],\n",
       "       [-9.47953164e-01,  1.21423457e+00],\n",
       "       [-1.45674899e+00, -1.87900795e+00],\n",
       "       [-1.53365385e+01, -1.20907620e+01],\n",
       "       [ 1.32460485e+01,  8.05235665e+00],\n",
       "       [ 3.63131086e+00,  4.44464150e+00],\n",
       "       [-3.49429150e+00, -4.56076985e+00],\n",
       "       [ 3.10834849e+00, -8.10915916e-01],\n",
       "       [ 2.77119072e+01,  2.41466627e+01],\n",
       "       [-1.70212069e+01, -1.68258705e+01],\n",
       "       [ 5.04745524e+01,  4.66274134e+01],\n",
       "       [ 1.48456545e+00,  2.31260440e+00],\n",
       "       [-1.18330778e+01, -8.95333768e+00],\n",
       "       [ 2.81931054e+01,  2.69260371e+01],\n",
       "       [-4.21986388e+00, -1.41826508e+00],\n",
       "       [ 1.46745912e+01,  1.20520962e+01],\n",
       "       [-1.11813974e+01, -1.13292031e+01],\n",
       "       [-6.02535429e+00, -5.27047080e+00],\n",
       "       [ 3.07129641e+01,  2.91119306e+01],\n",
       "       [ 5.46496851e+00,  4.28464672e-02],\n",
       "       [ 2.59619746e+01,  2.00919997e+01],\n",
       "       [ 3.49669991e+00,  1.86626270e-01],\n",
       "       [ 1.47507462e+01,  1.03204859e+01],\n",
       "       [ 3.67698077e+01,  3.48365664e+01],\n",
       "       [ 5.50672610e+00,  4.63873391e+00],\n",
       "       [ 2.72345918e+01,  1.94359379e+01],\n",
       "       [ 1.89310805e+01,  1.55254734e+01],\n",
       "       [ 1.24083762e+01,  6.71134780e+00],\n",
       "       [-6.70397101e+00, -2.09137370e-01],\n",
       "       [-2.06016817e+01, -1.86689633e+01],\n",
       "       [-1.27942259e+01, -9.91056303e+00],\n",
       "       [ 1.77919844e+01,  1.51883790e+01],\n",
       "       [ 9.71692034e+00,  4.06146703e+00],\n",
       "       [-2.39694407e+00, -1.79774750e+00],\n",
       "       [ 1.05421436e+01,  9.23487406e+00],\n",
       "       [ 1.22045593e+00, -1.07875268e+00],\n",
       "       [-1.07546228e+01, -4.74439361e+00],\n",
       "       [-4.81063247e+00, -8.78817245e+00],\n",
       "       [ 2.31450768e+01,  1.91748792e+01],\n",
       "       [-4.18048254e-02,  4.66992569e+00],\n",
       "       [-4.84710941e+01, -4.25253861e+01],\n",
       "       [ 1.08864775e+01,  9.17476425e+00],\n",
       "       [-3.27788678e+01, -2.98826665e+01],\n",
       "       [-3.54064472e+00, -4.09085475e+00],\n",
       "       [ 1.12191320e+01,  1.10812952e+01],\n",
       "       [ 1.43260242e+01,  1.37793678e+01],\n",
       "       [ 6.55637768e+00,  5.68611171e+00],\n",
       "       [-1.11058627e+01, -6.48561277e+00],\n",
       "       [ 7.85651786e+00,  8.00218141e+00],\n",
       "       [ 4.46217704e+00,  1.14376013e+00],\n",
       "       [ 3.29265255e+01,  3.49590882e+01],\n",
       "       [ 4.85949912e+01,  4.11315565e+01],\n",
       "       [ 1.19354415e+01,  9.37292040e+00],\n",
       "       [ 3.73828496e+01,  2.93836980e+01],\n",
       "       [ 3.30241330e+01,  3.16625772e+01],\n",
       "       [ 1.03462408e+01, -2.98447923e-02],\n",
       "       [ 1.71716305e+01,  1.27985762e+01],\n",
       "       [ 2.39301432e+01,  1.67916835e+01],\n",
       "       [-6.80227926e+00, -4.66061176e+00],\n",
       "       [ 1.11362317e+01,  9.57382673e+00],\n",
       "       [-1.40885447e+01, -1.69857739e+01],\n",
       "       [ 7.84001035e+00, -1.13391887e+00],\n",
       "       [ 1.29158828e+01,  1.19344714e+01],\n",
       "       [-1.06241773e+01, -1.44117050e+01],\n",
       "       [ 3.34716804e+01,  2.83302128e+01],\n",
       "       [-1.55024300e+01, -4.42891211e+00],\n",
       "       [-3.48955183e+01, -3.03897814e+01],\n",
       "       [ 4.33012619e+00, -1.58450917e+00],\n",
       "       [-6.73299617e+00, -3.80308113e+00],\n",
       "       [-2.35171223e+00, -3.40258619e+00],\n",
       "       [ 2.16014984e+01,  2.05111530e+01],\n",
       "       [-1.14591606e+01, -7.76235530e+00],\n",
       "       [-7.04712496e+00, -6.03325693e+00],\n",
       "       [-9.36561770e+00, -1.05784975e+01],\n",
       "       [ 1.51976132e+01,  1.75157483e+01],\n",
       "       [-5.27283770e+00, -7.32338430e+00],\n",
       "       [ 8.84887775e+00,  2.55961507e+00],\n",
       "       [ 2.90433598e+01,  3.13938059e+01],\n",
       "       [-4.87162731e+00, -1.53659872e+00],\n",
       "       [ 7.03312019e+00,  1.35123136e+01],\n",
       "       [ 6.21913815e+00,  7.58283931e+00],\n",
       "       [ 1.76485937e+01,  1.86315969e+01],\n",
       "       [ 2.07231446e+01,  1.73708759e+01],\n",
       "       [-1.72123582e+01, -1.38098575e+01],\n",
       "       [ 1.30620030e+01,  9.51586713e+00],\n",
       "       [ 2.05136987e+01,  1.57194550e+01],\n",
       "       [-1.11707578e+01, -1.03694898e+01],\n",
       "       [ 1.24416031e+01,  1.70158000e+01],\n",
       "       [-1.14513667e+01, -1.00988180e+01],\n",
       "       [ 3.96631849e-01,  1.83286619e-01],\n",
       "       [-1.13900816e+01, -1.51945068e+01],\n",
       "       [ 2.78301418e+01,  2.35278376e+01],\n",
       "       [-2.68684473e-01, -2.30994163e+00],\n",
       "       [-5.79886629e+00, -6.99356703e+00],\n",
       "       [ 2.65129618e+01,  2.79829307e+01],\n",
       "       [-3.11016922e+01, -2.83476668e+01],\n",
       "       [-3.29337223e+01, -3.42038410e+01],\n",
       "       [-7.92670029e+00, -8.73191611e+00],\n",
       "       [-2.13186348e+01, -1.76976884e+01],\n",
       "       [ 7.22327839e+00,  9.56145219e+00],\n",
       "       [ 2.51860980e+01,  2.35128088e+01],\n",
       "       [-9.75730761e+00, -8.19911689e+00],\n",
       "       [ 1.87096854e+01,  2.08531999e+01],\n",
       "       [ 2.07770950e+01,  1.73692478e+01],\n",
       "       [ 9.11028756e+00,  1.49462636e+01],\n",
       "       [ 1.68582071e+01,  1.34435252e+01],\n",
       "       [ 2.84208726e+01,  2.80328979e+01],\n",
       "       [-1.52401652e+01, -1.42386803e+01],\n",
       "       [-9.38910802e+00, -9.95319600e+00],\n",
       "       [ 5.15012713e+00,  6.99167391e-01],\n",
       "       [-3.92883724e+01, -3.68248844e+01],\n",
       "       [ 1.87737433e+01,  1.72472071e+01],\n",
       "       [ 3.44181087e+01,  3.48890706e+01],\n",
       "       [-3.26906582e+01, -3.06290054e+01],\n",
       "       [-2.40423520e+01, -1.45808145e+01],\n",
       "       [ 2.13756242e+00,  5.27183576e+00],\n",
       "       [ 4.90009592e+00,  5.61565090e+00],\n",
       "       [ 4.54859419e+01,  3.76886129e+01],\n",
       "       [ 2.31324656e+01,  2.85480940e+01],\n",
       "       [ 3.24232398e+01,  2.99045715e+01],\n",
       "       [ 4.88183641e+00,  3.50497753e+00],\n",
       "       [ 9.65033120e+00,  2.89810642e+00],\n",
       "       [ 3.12306314e+01,  2.94777631e+01],\n",
       "       [ 1.59728878e+01,  1.06858864e+01],\n",
       "       [ 1.20997705e+00,  5.95213548e-01],\n",
       "       [ 1.33539038e+01,  1.75907486e+01],\n",
       "       [ 2.62493437e+00,  6.53876886e-01],\n",
       "       [-7.84884410e-01,  3.13612900e+00],\n",
       "       [-2.36139030e+00, -1.67070765e+00],\n",
       "       [ 3.12325596e+00,  3.24636605e-02],\n",
       "       [ 2.39675710e+01,  2.50891188e+01],\n",
       "       [-3.65625038e+00, -4.68218168e+00],\n",
       "       [ 6.93704714e+00,  8.36365197e+00],\n",
       "       [-1.56590115e+01, -1.38351988e+01],\n",
       "       [-3.86054744e+00, -7.50929234e+00],\n",
       "       [ 3.56766317e+00,  4.16903836e+00],\n",
       "       [ 6.94816559e+00,  4.98694702e-01],\n",
       "       [ 1.98748626e+01,  1.86915632e+01],\n",
       "       [ 9.63694712e+00,  5.44322195e+00],\n",
       "       [ 6.35608252e+00,  7.74252966e+00],\n",
       "       [ 2.29898145e+01,  1.74060334e+01],\n",
       "       [ 2.21190507e+01,  1.57930569e+01],\n",
       "       [-7.53326886e+00, -1.15775530e+01],\n",
       "       [-1.41301319e+01, -1.06411886e+01],\n",
       "       [-1.40032833e+01, -1.28802892e+01],\n",
       "       [ 2.14106292e+01,  1.91283181e+01],\n",
       "       [ 5.16093055e-01,  3.61359753e+00],\n",
       "       [-1.72316863e+00,  3.20182049e+00],\n",
       "       [ 3.89969272e+00,  6.56362203e+00],\n",
       "       [ 2.11949427e+01,  1.98445588e+01],\n",
       "       [ 4.79663284e+00,  7.20981922e+00]])"
      ]
     },
     "execution_count": 474,
     "metadata": {},
     "output_type": "execute_result"
    }
   ],
   "source": [
    "y_test"
   ]
  },
  {
   "cell_type": "markdown",
   "id": "628499f2",
   "metadata": {},
   "source": [
    "### Chapter 11 - NLP data"
   ]
  },
  {
   "cell_type": "code",
   "execution_count": null,
   "id": "f2ac5b5a",
   "metadata": {},
   "outputs": [],
   "source": [
    "df = pd.read_csv('data/manga.csv')  "
   ]
  },
  {
   "cell_type": "code",
   "execution_count": null,
   "id": "e3f61a77",
   "metadata": {},
   "outputs": [],
   "source": [
    "# Check gender indicator\n",
    "df['gender_indicator'].unique()"
   ]
  },
  {
   "cell_type": "code",
   "execution_count": null,
   "id": "2df35ef5",
   "metadata": {},
   "outputs": [],
   "source": [
    "# Produce female avatar indicator\n",
    "avatar = []\n",
    "\n",
    "for i in df['gender_indicator']:\n",
    "    if i:\n",
    "        avatar.append(np.random.choice([0, 1], p=[.15, .85]))\n",
    "    else:\n",
    "        avatar.append(np.random.choice([0, 1], p=[.97, .03]))\n",
    "        \n",
    "df['female_avatar'] = avatar\n",
    "\n",
    "# Sanity\n",
    "df.groupby('gender_indicator')['female_avatar'].mean()"
   ]
  },
  {
   "cell_type": "code",
   "execution_count": null,
   "id": "d33d6722",
   "metadata": {},
   "outputs": [],
   "source": [
    "# Produce stereotype indicator\n",
    "df['love_indicator'] = df['text'].str.contains('love|roman').astype('int')"
   ]
  },
  {
   "cell_type": "code",
   "execution_count": null,
   "id": "1ba8a129",
   "metadata": {},
   "outputs": [],
   "source": [
    "# Add photo to the post at random\n",
    "df['has_photo'] = np.random.choice([0, 1], size=df.shape[0])"
   ]
  },
  {
   "cell_type": "code",
   "execution_count": null,
   "id": "e2dcbd14",
   "metadata": {},
   "outputs": [],
   "source": [
    "# Produce the outcome\n",
    "noise = np.random.normal(0.01, .05, size=df.shape[0])\n",
    "probas = .8 + 0.1 * df['love_indicator'] * 1.2 * (0.1 + df['has_photo']) - 0.7 * df['female_avatar'] + noise\n",
    "probas = np.clip(probas, 0, 1)\n",
    "\n",
    "upvote = []\n",
    "\n",
    "for p in probas:\n",
    "    upvote_ = np.random.choice([0, 1], p=[1 - p, p])\n",
    "    upvote.append(upvote_)\n",
    "    \n",
    "df['upvote'] = likes"
   ]
  },
  {
   "cell_type": "code",
   "execution_count": null,
   "id": "02c2eee9",
   "metadata": {},
   "outputs": [],
   "source": [
    "df.drop(['gender_indicator', 'topic', 'love_indicator', 'author'], axis=1).to_csv('data/manga_processed.csv', index=False)"
   ]
  }
 ],
 "metadata": {
  "kernelspec": {
   "display_name": "Python [conda env:causal_book_py38]",
   "language": "python",
   "name": "conda-env-causal_book_py38-py"
  },
  "language_info": {
   "codemirror_mode": {
    "name": "ipython",
    "version": 3
   },
   "file_extension": ".py",
   "mimetype": "text/x-python",
   "name": "python",
   "nbconvert_exporter": "python",
   "pygments_lexer": "ipython3",
   "version": "3.8.13"
  }
 },
 "nbformat": 4,
 "nbformat_minor": 5
}
