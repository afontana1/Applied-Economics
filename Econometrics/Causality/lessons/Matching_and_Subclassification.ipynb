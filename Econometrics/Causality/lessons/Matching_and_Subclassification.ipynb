{
 "cells": [
  {
   "cell_type": "markdown",
   "metadata": {},
   "source": [
    "## Welcome\n",
    "\n",
    "This is material for the **Matching and Subclassification** chapter in Scott Cunningham's book, [Causal Inference: The Mixtape.](https://mixtape.scunning.com/)"
   ]
  },
  {
   "cell_type": "code",
   "execution_count": 1,
   "metadata": {},
   "outputs": [],
   "source": [
    "import pandas as pd\n",
    "import numpy as np\n",
    "import plotnine as p\n",
    "import statsmodels.api as sm\n",
    "import statsmodels.formula.api as smf"
   ]
  },
  {
   "cell_type": "code",
   "execution_count": 2,
   "metadata": {},
   "outputs": [],
   "source": [
    "def read_data(file):\n",
    "    full_path = \"https://raw.github.com/scunning1975/mixtape/master/\" + file\n",
    "    \n",
    "    return pd.read_stata(full_path)\n",
    "    "
   ]
  },
  {
   "cell_type": "code",
   "execution_count": 3,
   "metadata": {},
   "outputs": [],
   "source": [
    "## Simple Difference in Outcomes\n",
    "titanic = read_data(\"titanic.dta\")\n",
    "\n",
    "titanic['d'] = 0\n",
    "titanic.loc[titanic['class']=='1st class', 'd'] = 1\n",
    "\n",
    "titanic['sex_d'] = 0\n",
    "titanic.loc[titanic['sex']=='man', 'sex_d'] = 1\n",
    "\n",
    "titanic['age_d'] = 0\n",
    "titanic.loc[titanic['age']=='adults', 'age_d'] = 1\n",
    "\n",
    "titanic['survived_d'] = 0\n",
    "titanic.loc[titanic['survived']=='yes', 'survived_d'] = 1\n"
   ]
  },
  {
   "cell_type": "code",
   "execution_count": 4,
   "metadata": {},
   "outputs": [
    {
     "name": "stdout",
     "output_type": "stream",
     "text": [
      "The simple difference in outcomes is 35.38%\n"
     ]
    }
   ],
   "source": [
    "ey0 = titanic.loc[titanic['d']==0, 'survived_d'].mean()\n",
    "ey1 = titanic.loc[titanic['d']==1, 'survived_d'].mean()\n",
    "\n",
    "sdo = ey1 - ey0\n",
    "print(\"The simple difference in outcomes is {:.2%}\".format(sdo))"
   ]
  },
  {
   "cell_type": "code",
   "execution_count": 5,
   "metadata": {},
   "outputs": [
    {
     "name": "stdout",
     "output_type": "stream",
     "text": [
      "The weigthted average treatment effect estimate is 16.09%\n"
     ]
    }
   ],
   "source": [
    "## Weighted Average Treatment Effect \n",
    "titanic['s'] = 0 \n",
    "titanic.loc[(titanic.sex_d == 0) & (titanic.age_d==1), 's'] = 1\n",
    "titanic.loc[(titanic.sex_d == 0) & (titanic.age_d==0), 's'] = 2\n",
    "titanic.loc[(titanic.sex_d == 1) & (titanic.age_d==1), 's'] = 3\n",
    "titanic.loc[(titanic.sex_d == 1) & (titanic.age_d==0), 's'] = 4\n",
    "\n",
    "obs = titanic.shape[0]\n",
    "\n",
    "def weighted_avg_effect(df):\n",
    "    diff = df[df.d==1].survived_d.mean() - df[df.d==0].survived_d.mean()\n",
    "    weight = df[df.d==0].shape[0]/obs\n",
    "    return diff*weight\n",
    "\n",
    "wate = titanic.groupby('s').apply(weighted_avg_effect).sum()\n",
    "\n",
    "print(\"The weigthted average treatment effect estimate is {:.2%}\".format(wate))"
   ]
  },
  {
   "cell_type": "markdown",
   "metadata": {},
   "source": [
    "# Questions\n",
    "- Using the simple difference in outcomes, how much does the probability of survival increase for first-class passengers relative to some control group?\n",
    "- Explain in your own words what stratifying on gender and age did for this difference in outcomes between treatment and control?\n",
    "- After stratifying on gender and age, what happens to the difference in probability of survival between first-class and non-first-class passengers?\n",
    "\n"
   ]
  },
  {
   "cell_type": "markdown",
   "metadata": {},
   "source": [
    "## Training Example\n",
    "\n",
    "First, we will look at the distribution of age between the treated and non-treated groups"
   ]
  },
  {
   "cell_type": "code",
   "execution_count": 6,
   "metadata": {},
   "outputs": [
    {
     "name": "stderr",
     "output_type": "stream",
     "text": [
      "/Users/tcaputo/opt/anaconda3/lib/python3.8/site-packages/plotnine/layer.py:372: PlotnineWarning: stat_bin : Removed 14 rows containing non-finite values.\n"
     ]
    },
    {
     "data": {
      "image/png": "[encoded data removed]",
      "text/plain": [
       "<Figure size 640x480 with 1 Axes>"
      ]
     },
     "metadata": {},
     "output_type": "display_data"
    },
    {
     "data": {
      "text/plain": [
       "<ggplot: (8765026733050)>"
      ]
     },
     "execution_count": 6,
     "metadata": {},
     "output_type": "execute_result"
    }
   ],
   "source": [
    "training_example = read_data(\"training_example.dta\") \n",
    "\n",
    "p.ggplot(training_example, p.aes(x='age_treat')) +\\\n",
    "  p.stat_bin(bins = 10)"
   ]
  },
  {
   "cell_type": "code",
   "execution_count": 7,
   "metadata": {},
   "outputs": [
    {
     "name": "stderr",
     "output_type": "stream",
     "text": [
      "/Users/tcaputo/opt/anaconda3/lib/python3.8/site-packages/plotnine/layer.py:372: PlotnineWarning: stat_bin : Removed 4 rows containing non-finite values.\n"
     ]
    },
    {
     "data": {
      "image/png": "[encoded data removed]",
      "text/plain": [
       "<Figure size 640x480 with 1 Axes>"
      ]
     },
     "metadata": {},
     "output_type": "display_data"
    },
    {
     "data": {
      "text/plain": [
       "<ggplot: (8765026732969)>"
      ]
     },
     "execution_count": 7,
     "metadata": {},
     "output_type": "execute_result"
    }
   ],
   "source": [
    "p.ggplot(training_example, p.aes(x='age_control')) +\\\n",
    "  p.geom_histogram(bins = 10)"
   ]
  },
  {
   "cell_type": "markdown",
   "metadata": {},
   "source": [
    "#### Questions\n",
    "\n",
    "- Compare the distribution of ages between the treated and the control groups. How do they differ, if at all?\n"
   ]
  },
  {
   "cell_type": "code",
   "execution_count": 8,
   "metadata": {},
   "outputs": [],
   "source": [
    "training_bias_reduction = read_data(\"training_bias_reduction.dta\") \n",
    "\n",
    "training_bias_reduction['Y1'] = 0\n",
    "training_bias_reduction.loc[training_bias_reduction['Unit'].isin(range(1,5)), 'Y1'] = 1\n",
    "training_bias_reduction['Y0'] = (4,0,5,1,4,0,5,1)\n",
    "\n",
    "\n",
    "train_reg = sm.OLS.from_formula('Y ~ X', training_bias_reduction).fit()\n",
    "training_bias_reduction['u_hat0'] = train_reg.predict(training_bias_reduction)\n",
    "training_bias_reduction = training_bias_reduction[['Unit', 'Y1', 'Y0', 'Y', 'D', 'X', 'u_hat0']]\n"
   ]
  },
  {
   "cell_type": "markdown",
   "metadata": {},
   "source": [
    "## National Supported Work Demonstration Experiment\n",
    "\n",
    "To compare results, let's first look at the treatment effect identified by a true experiment.\n"
   ]
  },
  {
   "cell_type": "code",
   "execution_count": 9,
   "metadata": {},
   "outputs": [
    {
     "name": "stdout",
     "output_type": "stream",
     "text": [
      "The experimental ATE estimate is 1794.35\n"
     ]
    }
   ],
   "source": [
    "nsw_dw = read_data('nsw_mixtape.dta')\n",
    "\n",
    "mean1 = nsw_dw[nsw_dw.treat==1].re78.mean()\n",
    "mean0 = nsw_dw[nsw_dw.treat==0].re78.mean()\n",
    "ate = np.unique(mean1 - mean0)[0]\n",
    "print(\"The experimental ATE estimate is {:.2f}\".format(ate))"
   ]
  },
  {
   "cell_type": "markdown",
   "metadata": {},
   "source": [
    "#### Questions\n",
    "- How do you interpret the above estimated ATE?\n",
    "- Say you were interested in the ATT.  Can you report the ATT from a randomized experiment?  If so, what is it? If not, why not?\n",
    "\n",
    "\n",
    "\n",
    "Now, lets turn to a non-experimental control group. We first have to load the data from the CPS. and estimate the propensity score\n"
   ]
  },
  {
   "cell_type": "code",
   "execution_count": 10,
   "metadata": {},
   "outputs": [],
   "source": [
    "# Prepare data for logit \n",
    "nsw_dw_cpscontrol = read_data('cps_mixtape.dta')\n",
    "\n",
    "nsw_dw_cpscontrol = pd.concat((nsw_dw_cpscontrol, nsw_dw))\n",
    "nsw_dw_cpscontrol[['u74', 'u75']] = 0\n",
    "nsw_dw_cpscontrol.loc[nsw_dw_cpscontrol.re74==0, 'u74'] = 1\n",
    "nsw_dw_cpscontrol.loc[nsw_dw_cpscontrol.re75==0, 'u75'] = 1\n",
    "# estimating propensity score\n",
    "logit_nsw = smf.glm(formula=\"\"\"treat ~ age + age**2 + age**3 + educ + educ**2 + \n",
    "                    marr + nodegree + black + hisp + re74 + re75 + u74 + u75 + educ*re74\"\"\", \n",
    "                    family=sm.families.Binomial(),\n",
    "                   data=nsw_dw_cpscontrol).fit()\n",
    "                  \n",
    "nsw_dw_cpscontrol['pscore'] = logit_nsw.predict(nsw_dw_cpscontrol)\n"
   ]
  },
  {
   "cell_type": "code",
   "execution_count": 11,
   "metadata": {},
   "outputs": [
    {
     "data": {
      "text/plain": [
       "treat\n",
       "0.0    0.009212\n",
       "1.0    0.190701\n",
       "Name: pscore, dtype: float64"
      ]
     },
     "execution_count": 11,
     "metadata": {},
     "output_type": "execute_result"
    }
   ],
   "source": [
    "nsw_dw_cpscontrol.groupby('treat')['pscore'].mean()"
   ]
  },
  {
   "cell_type": "code",
   "execution_count": 12,
   "metadata": {},
   "outputs": [
    {
     "name": "stderr",
     "output_type": "stream",
     "text": [
      "/Users/tcaputo/opt/anaconda3/lib/python3.8/site-packages/plotnine/facets/facet.py:549: PlotnineWarning: If you need more space for the x-axis tick text use ... + theme(subplots_adjust={'wspace': 0.25}). Choose an appropriate value for 'wspace'.\n"
     ]
    },
    {
     "data": {
      "image/png": "[encoded data removed]",
      "text/plain": [
       "<Figure size 640x480 with 2 Axes>"
      ]
     },
     "metadata": {},
     "output_type": "display_data"
    },
    {
     "data": {
      "text/plain": [
       "<ggplot: (8765026990550)>"
      ]
     },
     "execution_count": 12,
     "metadata": {},
     "output_type": "execute_result"
    }
   ],
   "source": [
    "# histogram\n",
    "p.ggplot(nsw_dw_cpscontrol, p.aes(x='pscore')) +\\\n",
    "    p.geom_histogram(bins=50) +\\\n",
    "    p.facet_wrap(\"treat\", scales='free')"
   ]
  },
  {
   "cell_type": "markdown",
   "metadata": {},
   "source": [
    "#### Questions\n",
    "- Compare the mean propensity score between the treated and the control groups. What does this reveal about the two groups?\n",
    "- Compare the distribution of propensity scores between the treated and the control groups. How do they differ, if at all?\n"
   ]
  },
  {
   "cell_type": "code",
   "execution_count": 13,
   "metadata": {},
   "outputs": [
    {
     "name": "stdout",
     "output_type": "stream",
     "text": [
      "Treatment Effect (non-normalized, all data): -11535.55\n"
     ]
    }
   ],
   "source": [
    "# continuation\n",
    "N = nsw_dw_cpscontrol.shape[0]\n",
    "\n",
    "# Manual with non-normalized weights using all data\n",
    "nsw_dw_cpscontrol = nsw_dw_cpscontrol \n",
    "nsw_dw_cpscontrol['d1'] = nsw_dw_cpscontrol.treat/nsw_dw_cpscontrol.pscore\n",
    "nsw_dw_cpscontrol['d0'] = (1-nsw_dw_cpscontrol.treat)/(1-nsw_dw_cpscontrol.pscore)\n",
    "\n",
    "\n",
    "s1 = nsw_dw_cpscontrol.d1.sum()\n",
    "s0 = nsw_dw_cpscontrol.d0.sum()\n",
    "\n",
    "nsw_dw_cpscontrol['y1'] = nsw_dw_cpscontrol.treat * nsw_dw_cpscontrol.re78 / nsw_dw_cpscontrol.pscore\n",
    "nsw_dw_cpscontrol['y0'] = (1 - nsw_dw_cpscontrol.treat) * nsw_dw_cpscontrol.re78 / (1 - nsw_dw_cpscontrol.pscore)\n",
    "nsw_dw_cpscontrol['ht'] = nsw_dw_cpscontrol['y1'] - nsw_dw_cpscontrol['y0']\n",
    "\n",
    "te_1 = nsw_dw_cpscontrol.ht.mean()\n",
    "\n",
    "print(\"Treatment Effect (non-normalized, all data): {:.2f}\".format(te_1))\n",
    "        \n"
   ]
  },
  {
   "cell_type": "code",
   "execution_count": 14,
   "metadata": {},
   "outputs": [
    {
     "name": "stdout",
     "output_type": "stream",
     "text": [
      "Treatment Effect (normalized, all data): -7044.80\n"
     ]
    }
   ],
   "source": [
    "nsw_dw_cpscontrol['y1'] = nsw_dw_cpscontrol.treat * nsw_dw_cpscontrol.re78 / nsw_dw_cpscontrol.pscore\n",
    "nsw_dw_cpscontrol['y1'] /= s1/N\n",
    "nsw_dw_cpscontrol['y0'] = (1 - nsw_dw_cpscontrol.treat) * nsw_dw_cpscontrol.re78 / (1 - nsw_dw_cpscontrol.pscore)\n",
    "nsw_dw_cpscontrol['y0'] /= s0/N\n",
    "nsw_dw_cpscontrol['ht'] = nsw_dw_cpscontrol['y1'] - nsw_dw_cpscontrol['y0']\n",
    "\n",
    "te_2 = nsw_dw_cpscontrol.ht.mean()\n",
    "\n",
    "print(\"Treatment Effect (normalized, all data): {:.2f}\".format(te_2))\n",
    "        "
   ]
  },
  {
   "cell_type": "code",
   "execution_count": 15,
   "metadata": {},
   "outputs": [
    {
     "name": "stdout",
     "output_type": "stream",
     "text": [
      "Treatment Effect (non-normalized, trimmed data): 2486.22\n"
     ]
    }
   ],
   "source": [
    "nsw_dw_trimmed = nsw_dw_cpscontrol.drop(['d1', 'd0', 'y1', 'y0'], axis=1)\n",
    "nsw_dw_trimmed = nsw_dw_trimmed[nsw_dw_trimmed.pscore.between(.1, .9)]\n",
    "N = nsw_dw_trimmed.shape[0]\n",
    "\n",
    "nsw_dw_trimmed['y1'] = nsw_dw_trimmed.treat * nsw_dw_trimmed.re78 / nsw_dw_trimmed.pscore\n",
    "nsw_dw_trimmed['y0'] = (1 - nsw_dw_trimmed.treat) * nsw_dw_trimmed.re78 / (1 - nsw_dw_trimmed.pscore)\n",
    "nsw_dw_trimmed['ht'] = nsw_dw_trimmed['y1'] - nsw_dw_trimmed['y0']\n",
    "\n",
    "te_3 = nsw_dw_trimmed.ht.mean()\n",
    "\n",
    "print(\"Treatment Effect (non-normalized, trimmed data): {:.2f}\".format(te_3))"
   ]
  },
  {
   "cell_type": "code",
   "execution_count": 16,
   "metadata": {},
   "outputs": [
    {
     "name": "stdout",
     "output_type": "stream",
     "text": [
      "Treatment Effect (normalized, trimmed data): 423.62\n"
     ]
    }
   ],
   "source": [
    "nsw_dw_trimmed['y1'] = nsw_dw_trimmed.treat * nsw_dw_trimmed.re78 / nsw_dw_trimmed.pscore\n",
    "nsw_dw_trimmed['y1'] /= s1/N\n",
    "nsw_dw_trimmed['y0'] = (1 - nsw_dw_trimmed.treat) * nsw_dw_trimmed.re78 / (1 - nsw_dw_trimmed.pscore)\n",
    "nsw_dw_trimmed['y0'] /= s0/N\n",
    "nsw_dw_trimmed['ht'] = nsw_dw_trimmed['y1'] - nsw_dw_trimmed['y0']\n",
    "\n",
    "te_4 = nsw_dw_trimmed.ht.mean()\n",
    "\n",
    "print(\"Treatment Effect (normalized, trimmed data): {:.2f}\".format(te_4))"
   ]
  },
  {
   "cell_type": "markdown",
   "metadata": {},
   "source": [
    "#### Questions\n",
    "\n",
    "- Explain the overlap condition in the context of these data.  How did we ensure that overlap held in the data? \n",
    "- When we are using non-trimmed data, why is the treatment effect negative? (*hint:* it has to do with extreme probability scores)\n",
    "- What does this imply about the challenges of using non-experimental data when estimating causal effects, and why is conditioning on a trimmed propensity score important?\n",
    "\n",
    "\n",
    "## Nearest-Neighbor Matching [not available in python]\n"
   ]
  },
  {
   "cell_type": "markdown",
   "metadata": {},
   "source": [
    "#### Questions\n",
    "- Compare our results from nearest-neighbor matching to what we found using the experimental data, the simple difference in outcomes using non-experimental controls, and propensity score weighting using non-experimental controls.\n",
    "- DIFFICULT: Write a program that performs bootstrapping to get an estimate of the variance of the estimator. (HINT: Write a loop)\n",
    "\n"
   ]
  },
  {
   "cell_type": "code",
   "execution_count": null,
   "metadata": {},
   "outputs": [],
   "source": []
  }
 ],
 "metadata": {
  "kernelspec": {
   "display_name": "Python 3",
   "language": "python",
   "name": "python3"
  },
  "language_info": {
   "codemirror_mode": {
    "name": "ipython",
    "version": 3
   },
   "file_extension": ".py",
   "mimetype": "text/x-python",
   "name": "python",
   "nbconvert_exporter": "python",
   "pygments_lexer": "ipython3",
   "version": "3.8.5"
  },
  "toc": {
   "base_numbering": 1,
   "nav_menu": {},
   "number_sections": true,
   "sideBar": true,
   "skip_h1_title": false,
   "title_cell": "Table of Contents",
   "title_sidebar": "Contents",
   "toc_cell": false,
   "toc_position": {},
   "toc_section_display": true,
   "toc_window_display": false
  }
 },
 "nbformat": 4,
 "nbformat_minor": 1
}
