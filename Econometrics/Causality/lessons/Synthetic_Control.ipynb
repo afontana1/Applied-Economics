{
 "cells": [
  {
   "cell_type": "markdown",
   "metadata": {},
   "source": [
    "## Welcome\n",
    "\n",
    "This is material for the **Synthetic Control** chapter in Scott Cunningham's book, [Causal Inference: The Mixtape.](https://mixtape.scunning.com/)\n"
   ]
  },
  {
   "cell_type": "code",
   "execution_count": 1,
   "metadata": {},
   "outputs": [],
   "source": [
    "import numpy as np\n",
    "import pandas as pd\n",
    "import statsmodels.api as sm\n",
    "import statsmodels.formula.api as smf\n",
    "\n",
    "from rpy2 import robjects\n",
    "from rpy2.robjects import pandas2ri\n",
    "pandas2ri.activate()\n",
    "from rpy2.robjects.vectors import IntVector\n",
    "\n",
    "import plotnine as p\n",
    "import matplotlib.pyplot as plt\n",
    "\n",
    "%matplotlib inline\n",
    "\n"
   ]
  },
  {
   "cell_type": "code",
   "execution_count": 2,
   "metadata": {},
   "outputs": [],
   "source": [
    "# read data\n",
    "def read_data(file):\n",
    "    return pd.read_stata(\"https://raw.github.com/scunning1975/mixtape/master/\" + file)"
   ]
  },
  {
   "cell_type": "markdown",
   "metadata": {},
   "source": [
    "## Prison Construction and Black Male Incarceration\n"
   ]
  },
  {
   "cell_type": "code",
   "execution_count": 3,
   "metadata": {},
   "outputs": [],
   "source": [
    "texas = read_data(\"texas.dta\")"
   ]
  },
  {
   "cell_type": "code",
   "execution_count": 4,
   "metadata": {},
   "outputs": [],
   "source": [
    "from rpy2.robjects.packages import importr\n",
    "from rpy2.robjects.conversion import localconverter\n",
    "Synth = importr('Synth')"
   ]
  },
  {
   "cell_type": "code",
   "execution_count": 5,
   "metadata": {},
   "outputs": [
    {
     "name": "stdout",
     "output_type": "stream",
     "text": [
      "\n",
      "X1, X0, Z1, Z0 all come directly from dataprep object.\n",
      "\n",
      "\n",
      "**************** \n",
      " searching for synthetic control unit  \n",
      " \n",
      "\n",
      "**************** \n",
      "**************** \n",
      "**************** \n",
      "\n",
      "MSPE (LOSS V): 2019839 \n",
      "\n",
      "solution.v:\n",
      " 0.06843543 0.02849309 0.8949852 3.30278e-05 0.000122374 0.007929645 1.2876e-06 \n",
      "\n",
      "solution.w:\n",
      " 2.1036e-06 1.638e-07 1.2605e-06 8.781e-06 0.3420653 3.717e-07 1.469e-07 1.663e-07 3.97e-08 0.2963684 2.978e-07 1.866e-07 6.0836e-06 6.135e-07 1.2125e-06 9.987e-07 5.646e-07 5.5707e-06 0.3613969 1.0905e-06 2.03e-07 2.069e-07 3.0885e-06 3.587e-07 4.5e-09 9.953e-07 4.9594e-06 6.338e-07 2.669e-07 2.468e-07 2.597e-07 4.057e-06 3.443e-07 7.378e-07 3.7061e-06 6.8669e-06 2.7571e-06 7.46e-07 1.136e-06 3.282e-07 2.3e-09 2.8444e-06 8.1658e-05 7.937e-07 3.366e-07 3.824e-07 2.04033e-05 7.517e-07 7.518e-07 \n",
      "\n"
     ]
    }
   ],
   "source": [
    "control_units = [1, 2, 4, 5, 6] +\\\n",
    "    list(range(8, 14)) + list(range(15,43)) +\\\n",
    "    list(range(44, 47)) + [49, 50, 51, 53,54,55,56]\n",
    "\n",
    "robjects.globalenv['texas'] = texas\n",
    "\n",
    "predictors = robjects.vectors.StrVector(['poverty', 'income'])\n",
    "sp = robjects.vectors.ListVector({'1': ['bmprison', IntVector([1988, 1990, 1991, 1992]), 'mean'], \n",
    "                                  '2': ['alcohol', 1990, 'mean'], \n",
    "                                  '3': ['aidscapita', IntVector([1990, 1991]), 'mean'], \n",
    "                                  '4': ['black', IntVector([1990, 1991, 1992]), 'mean'], \n",
    "                                  '5': ['perc1519', 1990, 'mean']})\n",
    "\n",
    "dataprep_out = Synth.dataprep(texas, \n",
    "    predictors = predictors,\n",
    "    predictors_op=\"mean\",\n",
    "    time_predictors_prior=np.arange(1985, 1994),\n",
    "    special_predictors=sp,\n",
    "    dependent='bmprison',\n",
    "    unit_variable='statefip',\n",
    "    unit_names_variable='state',\n",
    "    time_variable='year',\n",
    "    treatment_identifier=48,\n",
    "    controls_identifier=control_units,\n",
    "    time_optimize_ssr=np.arange(1985, 1994),\n",
    "    time_plot=np.arange(1985, 2001))\n",
    "\n",
    "synth_out = Synth.synth(data_prep_obj = dataprep_out)"
   ]
  },
  {
   "cell_type": "code",
   "execution_count": 6,
   "metadata": {},
   "outputs": [
    {
     "data": {
      "text/html": [
       "<div>\n",
       "<style scoped>\n",
       "    .dataframe tbody tr th:only-of-type {\n",
       "        vertical-align: middle;\n",
       "    }\n",
       "\n",
       "    .dataframe tbody tr th {\n",
       "        vertical-align: top;\n",
       "    }\n",
       "\n",
       "    .dataframe thead th {\n",
       "        text-align: right;\n",
       "    }\n",
       "</style>\n",
       "<table border=\"1\" class=\"dataframe\">\n",
       "  <thead>\n",
       "    <tr style=\"text-align: right;\">\n",
       "      <th></th>\n",
       "      <th>ct_weights</th>\n",
       "      <th>statefip</th>\n",
       "    </tr>\n",
       "  </thead>\n",
       "  <tbody>\n",
       "    <tr>\n",
       "      <th>0</th>\n",
       "      <td>2.103617e-06</td>\n",
       "      <td>1</td>\n",
       "    </tr>\n",
       "    <tr>\n",
       "      <th>1</th>\n",
       "      <td>1.638053e-07</td>\n",
       "      <td>2</td>\n",
       "    </tr>\n",
       "    <tr>\n",
       "      <th>2</th>\n",
       "      <td>1.260496e-06</td>\n",
       "      <td>4</td>\n",
       "    </tr>\n",
       "    <tr>\n",
       "      <th>3</th>\n",
       "      <td>8.781002e-06</td>\n",
       "      <td>5</td>\n",
       "    </tr>\n",
       "    <tr>\n",
       "      <th>4</th>\n",
       "      <td>3.420653e-01</td>\n",
       "      <td>6</td>\n",
       "    </tr>\n",
       "  </tbody>\n",
       "</table>\n",
       "</div>"
      ],
      "text/plain": [
       "     ct_weights  statefip\n",
       "0  2.103617e-06         1\n",
       "1  1.638053e-07         2\n",
       "2  1.260496e-06         4\n",
       "3  8.781002e-06         5\n",
       "4  3.420653e-01         6"
      ]
     },
     "execution_count": 6,
     "metadata": {},
     "output_type": "execute_result"
    }
   ],
   "source": [
    "weights = synth_out.rx['solution.w'][0]\n",
    "ct_weights = pd.DataFrame({'ct_weights':weights.flatten(), 'statefip':control_units})\n",
    "ct_weights.head()"
   ]
  },
  {
   "cell_type": "code",
   "execution_count": 7,
   "metadata": {},
   "outputs": [],
   "source": [
    "texas = pd.merge(ct_weights, texas, how='right', on='statefip')"
   ]
  },
  {
   "cell_type": "code",
   "execution_count": 8,
   "metadata": {},
   "outputs": [
    {
     "data": {
      "text/plain": [
       "Text(0.5, 1.0, 'Synthetic Control Performance')"
      ]
     },
     "execution_count": 8,
     "metadata": {},
     "output_type": "execute_result"
    },
    {
     "data": {
      "image/png": "[encoded data removed]",
      "text/plain": [
       "<Figure size 432x288 with 1 Axes>"
      ]
     },
     "metadata": {
      "needs_background": "light"
     },
     "output_type": "display_data"
    }
   ],
   "source": [
    "texas = texas.sort_values('year')\n",
    "ct = texas.groupby('year').apply(lambda x : np.sum(x['ct_weights']*x['bmprison']))\n",
    "treated = texas[texas.statefip==48]['bmprison'].values\n",
    "years = texas.year.unique()\n",
    "\n",
    "\n",
    "plt.plot(years, ct, linestyle='--', color='black', label='control')\n",
    "plt.plot(years, treated, linestyle='-', color='black', label='treated')\n",
    "plt.ylabel('bmprison')\n",
    "plt.xlabel('Time')\n",
    "plt.title('Synthetic Control Performance')"
   ]
  },
  {
   "cell_type": "code",
   "execution_count": 9,
   "metadata": {},
   "outputs": [
    {
     "data": {
      "text/plain": [
       "Text(0.5, 1.0, 'Treated - Control')"
      ]
     },
     "execution_count": 9,
     "metadata": {},
     "output_type": "execute_result"
    },
    {
     "data": {
      "image/png": "[encoded data removed]",
      "text/plain": [
       "<Figure size 432x288 with 1 Axes>"
      ]
     },
     "metadata": {
      "needs_background": "light"
     },
     "output_type": "display_data"
    }
   ],
   "source": [
    "ct_diff = treated - ct\n",
    "\n",
    "plt.plot(years, np.zeros(len(years)), linestyle='--', color='black', label='control')\n",
    "plt.plot(years, ct_diff, linestyle='-', color='black', label='treated')\n",
    "plt.ylabel('bmprison')\n",
    "plt.xlabel('Time')\n",
    "plt.title('Treated - Control')"
   ]
  },
  {
   "cell_type": "markdown",
   "metadata": {},
   "source": [
    "\n",
    "#### Questions\n",
    "- In your own words, what do you think the identifying assumptions are for synthetic control to be consistent? \n",
    "- What role, if any, does parallel trends play in synthetic control?\n",
    "- Who is the unit with the largest ratio of post to pre RMSPE?  \n",
    "- Compare the unit with the largest post to pre RMSPE estimated effect to the Texas effect.  How do the weights compare?  How do the size of the effects compare?  How do the ``signs`` of the effects compare?\n",
    "- Can you improve on my fit by experimenting with different combinations? Do so and report your analysis.\n",
    "- Report results from a variety of different specifications.  How robust does the prison effect appear to be?\n",
    "\n"
   ]
  },
  {
   "cell_type": "code",
   "execution_count": null,
   "metadata": {},
   "outputs": [],
   "source": []
  },
  {
   "cell_type": "code",
   "execution_count": null,
   "metadata": {},
   "outputs": [],
   "source": []
  }
 ],
 "metadata": {
  "kernelspec": {
   "display_name": "Python 3",
   "language": "python",
   "name": "python3"
  },
  "language_info": {
   "codemirror_mode": {
    "name": "ipython",
    "version": 3
   },
   "file_extension": ".py",
   "mimetype": "text/x-python",
   "name": "python",
   "nbconvert_exporter": "python",
   "pygments_lexer": "ipython3",
   "version": "3.8.5"
  }
 },
 "nbformat": 4,
 "nbformat_minor": 4
}
