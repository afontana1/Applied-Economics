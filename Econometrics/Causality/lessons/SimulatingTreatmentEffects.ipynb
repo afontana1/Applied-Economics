{
 "cells": [
  {
   "cell_type": "markdown",
   "metadata": {},
   "source": [
    "Simulating Treatment Effects\n",
    "===\n",
    "\n",
    "This notebook intends to guide the reader through the process of simulating data with treatment effects from the perspective of the Rubin Causal Model[$^1$](https://en.wikipedia.org/wiki/Rubin_causal_model)[$^2$](http://www.biostat.jhsph.edu/~dscharf/Causal/rubin.journ.psych.ed.pdf)(Potential Outcomes Framework). \n",
    "\n",
    "Simulating treatment effect data has many applications including: \n",
    "\n",
    "1. Evaluating the effectiveness of new and exisiting models in estimating treatment effects. \n",
    "2. Providing an explanation of treatment effects from the perspective of the [data generating process](https://stats.stackexchange.com/questions/7836/in-regression-analysis-whats-the-difference-between-data-generation-process-and)\n",
    "3. Illustrating where bias occurs when model assumptions are invalid\n",
    "\n",
    "\n",
    "The rest of the notebook is as follows. First, I start with a brief overview of the potential outcomes framework as it relates to estimating treatment effects. Next, I introduce the concept the data generating process (DGP) and include code to illustrate a simple example for both continuous and discrete data. After that, I'll expand the initial DGP to include a population constant effect, followed by an independent hetergenous effect, and finally a correlated hetergenous effect. \n",
    "\n",
    "At each stage, I encourage the user to fit traditional statistical and machine learning models to the generated data. Explore how different variations in the DGP can influence the performance of these models. Experiment with different sample sizes, feature structures, variable weights, and error structures to understand the impact of each piece on the performance of your tools of choice. "
   ]
  },
  {
   "cell_type": "markdown",
   "metadata": {},
   "source": [
    "## A Brief Overview of the Potential Outcomes Framework\n",
    "\n",
    "</br>\n",
    "</br>\n",
    "</br>\n",
    "</br>"
   ]
  },
  {
   "cell_type": "markdown",
   "metadata": {},
   "source": [
    "## Data Generating Process (DGP)\n",
    "\n",
    "In econometrics, we are taught to think of the world as a giant laboratory that is full of various mechanism that generate the data we look at. Put it another way, everything we are interested in studying is the realization of some stochastic process. \n",
    "\n",
    "Our job as data scientists is to build models that characterize these processes mathematically. We do this by specifying how we believe these processes work in mathematical equations. The mathematical represenation of our belief about how the stochastic process of interest works is called a model. \n",
    "\n",
    "By taking a DGP-first perspective to learning, what we're doing is creating our own stochastic process where we know the precise mathematical details of this process. We can add as much or as little complexity to the process as we want and we observe different realizations of our process through monte carlo simulations. We pair this with model development to answer the question: \"If the true DGP is this, how well does our proposed model actually characterize the process?\". \n",
    "\n",
    "In addition to proving model validity to ourselves via theory and mathematical proofs, we can use this tool to empirically validate that our models accurately capture the process.\n",
    "\n",
    "### Exogenenity and Endogeneity\n",
    "\n",
    "[Exogeneity](https://en.wikipedia.org/wiki/Exogeny) and [Endogeniety](https://en.wikipedia.org/wiki/Endogeneity) are two of the key concepts of econometrics implicitly illustrated by a DGP-approach. \n",
    "\n",
    "Exogenenous variables are only influenced by other processes outside the model and unrelated to other parts of the model. Exogenous variables are also known as independent variables in statistics or features in machine learning. Most importantly, exogenous variables are independent(uncorrelated) with the error term. Another way to think about it is they should be completely unrelated to all other forces in nature that impact the random process. \n",
    "\n",
    "We create exogenous variables by drawing from a random distribution. Since these variables are drown at random, we can guarantee in our DGP, they are exogenous to all other forces that affect our predictor variable. \n",
    "\n",
    "Endogenous variables are variables that are explained by forces inside the model. The most common endogenous variable is the dependent variable (i.e., outcome, label, etc...). When we build a DGP, we are actually generating an outcome variable as a function of a process, guaranteeing it is endogenous. This is good endogeneity. \n",
    "\n",
    "Bad endogeneity, the bain (or pleasure depending on who you are) of all modelers is when the supposedly exogenous predictor variables are actually correlated with some unobserved variable that is captured by the error term. In this case, there is something in this world that influences both X and Y. This leads to biased estimates of the impact of X on Y and diminishes the accuracy of our measurement of causality.\n",
    "\n",
    "The DGP-first approach allows us to create endogenous predictor variables by injecting correlation between the independent variables and the error term. That is beyond the scope of this tutorial, but it is an extremely worth exercise on your path to really understand causal inference from less than pure experimental data."
   ]
  },
  {
   "cell_type": "markdown",
   "metadata": {},
   "source": [
    "### Continous Outcomes\n",
    "\n",
    "The easeist way to think about the DGP for continous variables is in the form of linear regression. Let's assume our variable of interest follows a normal distribution with mean $\\mu$ and standard deviation $\\sigma^2$. \n",
    "\n",
    "$$ Y = \\mathcal{N}(\\mu, \\sigma^2) $$\n",
    "\n",
    "If $Y$ is heterogenous in our population and partially explained by a the vector $\\mathbf{X}$, we can write our regression equation as follows: \n",
    "\n",
    "$$ y_i = \\beta_0 + \\beta_1 x_1 + \\cdots + \\beta_j x_j + \\varepsilon_i $$\n",
    "\n",
    "where $\\varepsilon$~$\\mathcal{N}(0, \\sigma^2)$\n",
    "\n",
    "If we design our DGP to follow this functional form, we need to do the following: \n",
    "\n",
    "1. Specify the number of $x$ variables to include\n",
    "2. Draw a value for each $x$ for each person from an indepdendent distribution\n",
    "3. Specify a vector of constants for $beta$ of length $J + 1$\n",
    "4. Draw $\\varepsilon_i$ for each person from $\\mathcal{N}(0, \\sigma^2)$\n",
    "5. Compute $y_i$ for each observation\n",
    "\n",
    "Let's look at this in code below using Numpy."
   ]
  },
  {
   "cell_type": "code",
   "execution_count": 1,
   "metadata": {},
   "outputs": [],
   "source": [
    "import numpy as np\n",
    "# Specify number of observations\n",
    "num_obs = 1000\n",
    "\n",
    "# Specify Number of Features\n",
    "num_x = 3\n",
    "\n",
    "# Generate Independent draws from a uniform distribution for all X's\n",
    "x_mat = np.random.random(size=(num_obs, num_x))\n",
    "\n",
    "# Specify our coefficient vector\n",
    "beta = [1, -2, 3, -.8]\n",
    "\n",
    "# Generate our error term\n",
    "epsilon_vector = np.random.normal(size=(num_obs), loc=0, scale=1)\n",
    "\n",
    "# Compute y_i\n",
    "y_vec = beta[0] + np.dot(x_mat, beta[1:]) + epsilon_vector"
   ]
  },
  {
   "cell_type": "markdown",
   "metadata": {},
   "source": [
    "Now that we've executed the DGP, let's plot $y_i$ to get a sense of what the distribution looks like."
   ]
  },
  {
   "cell_type": "code",
   "execution_count": 2,
   "metadata": {},
   "outputs": [
    {
     "data": {
      "image/png": "[encoded data removed]",
      "text/plain": [
       "<matplotlib.figure.Figure at 0x7ffa890f89b0>"
      ]
     },
     "metadata": {},
     "output_type": "display_data"
    }
   ],
   "source": [
    "import matplotlib.pyplot as plt\n",
    "%matplotlib inline\n",
    "\n",
    "plt.hist(y_vec, bins=20);"
   ]
  },
  {
   "cell_type": "markdown",
   "metadata": {},
   "source": [
    "We can also visualize the relationship between our random X variables and our generated Y variable."
   ]
  },
  {
   "cell_type": "code",
   "execution_count": 3,
   "metadata": {},
   "outputs": [
    {
     "data": {
      "image/png": "[encoded data removed]",
      "text/plain": [
       "<matplotlib.figure.Figure at 0x7ffa890f8198>"
      ]
     },
     "metadata": {},
     "output_type": "display_data"
    }
   ],
   "source": [
    "plt.scatter(x_mat[:, 0], y_vec);\n",
    "plt.scatter(x_mat[:, 1], y_vec);\n",
    "plt.scatter(x_mat[:, 2], y_vec);"
   ]
  },
  {
   "cell_type": "markdown",
   "metadata": {},
   "source": [
    "#### Next Steps\n",
    "Before moving on, there are a few logical steps you can take to maximize learning. \n",
    "\n",
    "1. Fit a linear regression using your `x_mat` to predict your `y_vec`. You should recover the coefficients specified in the `beta` vector. \n",
    "2. Change the coefficient values in the `beta` vector. Re-run descriptive analysis and regressions to see what happens. \n",
    "3. Change the distributions and scales of your X variables. Re-run descriptives and regressions to see what happens.\n",
    "4. Change the distribution of the error term. Re-run your regression. Do you see anything funny compared to what you should expect?\n",
    "5. Change the scale parameter in the error ($\\sigma^2$). What happens to your estimates? If you add more or less data (`NOBS`) do your results change?\n",
    "6. Run a regression using only a subset of your X variables. What happens to $R^2$? How well do you recover coefficients?\n",
    "7. Remove the error term and re-run the regression. Pretty good model fit, eh? (Deterministic processes are nice, but not real)\n",
    "\n",
    "All of these are Empirical experiments. In each case, you're changining the underlying properties of the DGP and evaluating how well your model (regression) does in characterizing the stochastic process you created."
   ]
  },
  {
   "cell_type": "markdown",
   "metadata": {},
   "source": [
    "### Binary Outcomes\n",
    "\n",
    "Discrete variables are a bit more difficult to simulate because we work from a perspective that $y_i$ is observed to be 1 or 0, but that is really a manifestiation of a latent $y^{\\prime}_i$. The DGP-first approach to generating discrete data follows this pattern: \n",
    "\n",
    "$$y_i = \\begin{cases} 1 & \\beta_0 + \\beta_1 x_1 + \\cdots + \\beta_j x_j + \\varepsilon_i > 0 \\\\ 0 & \\text{else} \\end{cases}$$\n",
    "\n",
    "where $\\varepsilon$ is an error distributed by the standard [logistic distribution](https://en.wikipedia.org/wiki/Logistic_distribution)\n",
    "\n",
    "If we design our DGP to follow this functional form, we need to do the following: \n",
    "\n",
    "1. Specify the number of $x$ variables to include\n",
    "2. Draw a value for each $x$ for each person from an indepdendent distribution\n",
    "3. Specify a vector of constants for $beta$ of length $J + 1$\n",
    "4. Draw $\\varepsilon_i$ for each person from $Logi(0, s)$\n",
    "5. Compute $y_i$ for each observation\n",
    "6. If $y_i > 0$ Then $1$, else $0$\n",
    "\n",
    "Let's look at this in code below using Numpy.\n"
   ]
  },
  {
   "cell_type": "code",
   "execution_count": 4,
   "metadata": {},
   "outputs": [],
   "source": [
    "# Specify number of observations\n",
    "num_obs = 1000\n",
    "\n",
    "# Specify Number of Features\n",
    "num_x = 3\n",
    "\n",
    "# Generate Independent draws from a uniform distribution for all X's\n",
    "x_mat = np.random.random(size=(num_obs, num_x))\n",
    "\n",
    "# Specify our coefficient vector\n",
    "beta = [-3, -8, 13, -8]\n",
    "\n",
    "# Generate our error term\n",
    "epsilon_vector = np.random.logistic(size=(num_obs), loc=0, scale=1)\n",
    "\n",
    "# Compute y_i\n",
    "y_vec = (beta[0] + np.dot(x_mat, beta[1:]) + epsilon_vector) > 0"
   ]
  },
  {
   "cell_type": "code",
   "execution_count": 5,
   "metadata": {},
   "outputs": [
    {
     "data": {
      "text/plain": [
       "0.22"
      ]
     },
     "execution_count": 5,
     "metadata": {},
     "output_type": "execute_result"
    }
   ],
   "source": [
    "# How balanced is our data?\n",
    "y_vec.mean()"
   ]
  },
  {
   "cell_type": "markdown",
   "metadata": {},
   "source": [
    "#### Next Steps\n",
    "Before moving on, there are a few logical steps you can take to maximize learning. \n",
    "\n",
    "1. Do descriptive analysis on the data. How to visualization techniques help you unpack the relationship between x and y?\n",
    "2. Fit a logistic regression to the data (don't forget to include an intercept [column of 1's])\n",
    "3. Change the balance of 1/0 by increasing or decreasing the intercept variable. How does the balance of outcomes impact your ability to find the relationships?\n",
    "4. Generate two sets of data using the same parameters. Train a model on one data set and test it on the second data set. How does the fit statistics change? \n",
    "5. Don't use all the X's to fit a model. Which X's can you afford to drop (as it relates to coefficient vector) and still maintain reasonable model fit?"
   ]
  },
  {
   "cell_type": "markdown",
   "metadata": {},
   "source": [
    "## Constant Treatment Effects\n",
    "\n",
    "Now that we know how to generate data for the two primary types of data we deal with (continuous and binary), let's start thinking about treatment effects. Importantly, we want to understand what kind of treatment effect we want to simulate (or expect to observe in reality). \n",
    "\n",
    "To start with, we're going to assume a population constant treatment effect. Under this assumption, all users in our population, regardless of their individual characteristics, are affected in the exact same way by our hypothetitcal treatment. This is the assumption when we conduct a simple A/B experiment and we compare the means of our two groups. We are testing the hypothesis that, in general, there is a fixed difference in the means between persons in group A and persons in group B.\n",
    "\n",
    "This is a strong assumption, but makes generating data very straight forward. Adding a constant treatment effect is equivalent to adding a constant to either primary equation above when the person receives the treatment. \n",
    "\n",
    "$$y_i = \\beta_0 + \\beta_1 x_1 + \\cdots + \\beta_j x_j + \\tau W_i  + \\varepsilon_i$$\n",
    "\n",
    "Where: $W_i = \\begin{cases} 1 & \\text{Treatment} \\\\ 0 & \\text{Control} \\end{cases}$ and $\\tau$ is the population constant treatment effect. \n",
    "\n",
    "### Binary Outcomes\n",
    "*To decrease the length of the notebook, I'm only going to deal with a single type of DGP moving forward. The same intuition can be applied to the other process to achieve similar learnings*\n",
    "\n",
    "If we want to add a treatment effect to a binary outcome, we need to add two more steps to our data generating algorithm.\n",
    "\n",
    "\n",
    "1. Specify the number of $x$ variables to include\n",
    "2. Draw a value for each $x$ for each person from an indepdendent distribution\n",
    "3. Specify a vector of constants for $beta$ of length $J + 1$\n",
    "4. Draw $\\varepsilon_i$ for each person from $Logi(0, s)$\n",
    "5. **Randomly assign users to treatment with some probability $p$**\n",
    "6. **Define population constant treatment effect $\\tau$**\n",
    "5. Compute $y_i$ for each observation\n",
    "6. If $y_i > 0$ Then $1$, else $0$\n"
   ]
  },
  {
   "cell_type": "code",
   "execution_count": 6,
   "metadata": {},
   "outputs": [],
   "source": [
    "# Specify number of observations\n",
    "num_obs = 1000\n",
    "\n",
    "# Specify Number of Features\n",
    "num_x = 3\n",
    "\n",
    "# Generate Independent draws from a uniform distribution for all X's\n",
    "x_mat = np.random.random(size=(num_obs, num_x))\n",
    "\n",
    "# Specify our coefficient vector\n",
    "beta = [-3, -8, 13, -8]\n",
    "\n",
    "# Generate our error term\n",
    "epsilon_vector = np.random.logistic(size=(num_obs), loc=0, scale=1)\n",
    "\n",
    "# Assign to treatment Group\n",
    "trt_assign = np.random.binomial(1, .5, size=(num_obs))\n",
    "\n",
    "# Define Treatment Effect\n",
    "tau = 3\n",
    "\n",
    "# Compute y_i\n",
    "y_vec = (beta[0] + np.dot(x_mat, beta[1:]) + trt_assign*tau + epsilon_vector) > 0"
   ]
  },
  {
   "cell_type": "code",
   "execution_count": 7,
   "metadata": {},
   "outputs": [
    {
     "data": {
      "text/plain": [
       "0.314"
      ]
     },
     "execution_count": 7,
     "metadata": {},
     "output_type": "execute_result"
    }
   ],
   "source": [
    "# Population Incidence Rate\n",
    "y_vec.mean()"
   ]
  },
  {
   "cell_type": "code",
   "execution_count": 8,
   "metadata": {},
   "outputs": [
    {
     "data": {
      "text/plain": [
       "(0.39468690702087289, 0.22410147991543342)"
      ]
     },
     "execution_count": 8,
     "metadata": {},
     "output_type": "execute_result"
    }
   ],
   "source": [
    "# Incidence Rate by Treatment Group\n",
    "y_vec[np.where(trt_assign == 1)].mean(), y_vec[np.where(trt_assign == 0)].mean()"
   ]
  },
  {
   "cell_type": "markdown",
   "metadata": {},
   "source": [
    "Since we assigned our treatment randomly (independent of customer characteristics), and we know we have a constant treatment effect, we can actually measure the effectiveness of our treatment using simple logistic regression. \n",
    "\n",
    "Even if we drop one of the X variables, we should still recover an unbiased estimate of our treatment effect. If you don't believe me, try on your own to see what happens. \n",
    "\n",
    "#### Next Steps:\n",
    "\n",
    "Run many empirical experiments with this data to learn what statistical tests and models actually provide you with insights you know to be true (because you know exactly how the data is generated!). \n",
    "\n",
    "1. Run a $\\chi^2$ test to see if the two groups are different\n",
    "2. Fit a logistic regression including the treatment assignment as a dummy variable\n",
    "3. Compute the lift you get from applying the treatment\n",
    "4. Compute what would have happened to the population incidence rate had the treatment been applied globablly\n",
    "5. Change the size of the treatment effect relative to the coefficients. What happens when you make it bigger/smaller? "
   ]
  },
  {
   "cell_type": "markdown",
   "metadata": {},
   "source": [
    "## Independent Heterogenous Treatment Effects\n",
    "\n",
    "Now that you have a better understanding of how population constant treatment effects work, let's relax the strict assumption that the treatment affects everyone identically. \n",
    "\n",
    "Notationally, we're just going to change $\\tau$ to $\\tau_i$. Mathematically, we need to think about more about $\\tau_i$. Specifically, we need to make an assumption about the shape of the distribution that $\\tau_i$ comes from. For simplicity, I'm going to assume that $\\tau_i$~$\\mathcal{N}(\\tau, \\sigma^2)$. Then $E[\\tau_i] = \\tau$. In other words, we're going to assume that treatment effects follow a normal distribution with a mean equal to the population average treatment effect.\n",
    "\n",
    "Let's update our data generating algorithm to account for our relaxed assumption. \n",
    "\n",
    "1. Specify the number of $x$ variables to include\n",
    "2. Draw a value for each $x$ for each person from an indepdendent distribution\n",
    "3. Specify a vector of constants for $beta$ of length $J + 1$\n",
    "4. Draw $\\varepsilon_i$ for each person from $Logi(0, s)$\n",
    "5. Randomly assign users to treatment with some probability $p$\n",
    "6. Define population average treatment effect $\\tau$ and standard deviation ($\\sigma^2$)\n",
    "7. Draw $\\tau_i$ for each person from $\\mathcal{N}(\\tau, \\sigma^2)$\n",
    "5. Compute $y_i$ for each observation\n",
    "6. If $y_i > 0$ Then $1$, else $0$"
   ]
  },
  {
   "cell_type": "code",
   "execution_count": 9,
   "metadata": {},
   "outputs": [],
   "source": [
    "# Specify number of observations\n",
    "num_obs = 1000\n",
    "\n",
    "# Specify Number of Features\n",
    "num_x = 3\n",
    "\n",
    "# Generate Independent draws from a uniform distribution for all X's\n",
    "x_mat = np.random.random(size=(num_obs, num_x))\n",
    "\n",
    "# Specify our coefficient vector\n",
    "beta = [-3, -8, 13, -8]\n",
    "\n",
    "# Generate our error term\n",
    "epsilon_vector = np.random.logistic(size=(num_obs), loc=0, scale=1)\n",
    "\n",
    "# Assign to treatment Group\n",
    "trt_assign = np.random.binomial(1, .5, size=(num_obs))\n",
    "\n",
    "# Define Population Average Treatment Effect\n",
    "tau = 3\n",
    "\n",
    "# Draw Individual Treatment Effect\n",
    "tau_vec = np.random.normal(loc=tau, scale=1, size=(1000,))\n",
    "\n",
    "# Compute y_i\n",
    "y_vec = (beta[0] + np.dot(x_mat, beta[1:]) + (trt_assign * tau_vec) + epsilon_vector) > 0"
   ]
  },
  {
   "cell_type": "code",
   "execution_count": 10,
   "metadata": {},
   "outputs": [
    {
     "data": {
      "text/plain": [
       "(0.41050583657587547, 0.17489711934156379)"
      ]
     },
     "execution_count": 10,
     "metadata": {},
     "output_type": "execute_result"
    }
   ],
   "source": [
    "# Incidence Rate by Treatment Group\n",
    "y_vec[np.where(trt_assign == 1)].mean(), y_vec[np.where(trt_assign == 0)].mean()"
   ]
  },
  {
   "cell_type": "markdown",
   "metadata": {},
   "source": [
    "** IMPORTANT **\n",
    "\n",
    "Before we move on, let's discuss our treatment effect a bit. By drawing our effect from a normal distribution with mean $\\tau$, we're effectively making the treatment effect independent of all sources. This is important in the context of response (uplift) models because the primary assumption is that the treatment effect is heterogenous and explainable by some set of observable variables. If this assumption is not true, the reponse models cannot work because the treatment effect is completely exogenous and there is no possible variable that can explain why the treatment effect is what it is for that person. \n",
    "\n",
    "If you use this specific data to fit an Uplift model, you should get non-informative results! (*Hint: Try this exact test*)\n",
    "\n",
    "### A DGP Approach for $\\tau_i$\n",
    "\n",
    "By this point, if you should have an idea of how we're going to generate endogenous treatment effects that are theoretically recoverable by an uplift model. We need to apply the same process that we used to generate continous data to generate our $\\tau_i$. \n",
    "\n",
    "Our DGP follows this form: \n",
    "\n",
    "$$y_i = \\begin{cases} 1 & \\beta_0 + \\beta_1 x_1 + \\cdots + \\beta_j x_j + \\tau_i W_i + \\varepsilon_i > 0 \\\\ 0 & \\text{else} \\end{cases}$$\n",
    "\n",
    "and \n",
    "\n",
    "$$\\tau_i = \\zeta_0 + \\zeta_1 z_1 + \\cdots + \\zeta_h z_h + \\epsilon_i$$\n",
    "\n",
    "where $\\epsilon$~$\\mathcal{N}(0, \\varsigma^2)$\n",
    "\n",
    "We maintain or independence assumptions by drawing our $z$ variables from indpendent variables and ensure that $x$ does not enter the equation for $\\tau$ and that $z$ does not enter the equation for $y_i$ except through it's influence on $\\tau_i$\n",
    "\n",
    "Let's update our data generating algorithm accordingly: \n",
    "\n",
    "1. Specify the number of $x$ variables, $J$, to include\n",
    "2. Draw a value for each $x$ for each person from an indepdendent distribution\n",
    "3. Specify a vector of constants for $beta$ of length $J + 1$\n",
    "4. Draw $\\varepsilon_i$ for each person from $Logi(0, s)$\n",
    "5. Randomly assign users to treatment with some probability $p$\n",
    "6. Specify the number of $z$ variables, $H$, to include\n",
    "7. Draw a value for each $z$ for each person from an independent distribution\n",
    "8. Specify a vector of constants for $zeta$ of length $H + 1$\n",
    "9. Draw $\\epsilon_i$ for each person from $\\mathcal{N}(0, \\varsigma^2)$\n",
    "10. Compute $\\tau_i$ for each observation\n",
    "11. Compute $y_i$ for each observation\n",
    "12. If $y_i > 0$ Then $1$, else $0$\n"
   ]
  },
  {
   "cell_type": "code",
   "execution_count": 11,
   "metadata": {},
   "outputs": [],
   "source": [
    "# Specify number of observations\n",
    "num_obs = 1000\n",
    "\n",
    "# Specify Number of Features\n",
    "num_x = 3\n",
    "\n",
    "# Generate Independent draws from a uniform distribution for all X's\n",
    "x_mat = np.random.random(size=(num_obs, num_x))\n",
    "\n",
    "# Specify our coefficient vector\n",
    "beta = [-3, -8, 13, -8]\n",
    "\n",
    "# Generate our error term\n",
    "epsilon_vector = np.random.logistic(size=(num_obs), loc=0, scale=1)\n",
    "\n",
    "# Assign to treatment Group\n",
    "trt_assign = np.random.binomial(1, .5, size=(num_obs))\n",
    "\n",
    "# Specify number of z variables\n",
    "num_z = 3\n",
    "\n",
    "# Generation Independent draws from a uniform distribution for all Z's\n",
    "z_mat = np.random.random(size=(num_obs, num_z))\n",
    "\n",
    "# Specify treatment specific coefficient vector\n",
    "zeta = [2, 1, -3, -2]\n",
    "\n",
    "# Generate treatment specific error term\n",
    "tau_error = np.random.normal(size=(num_obs))\n",
    "\n",
    "# Compute Treatment Effect\n",
    "tau_vec = zeta[0] + np.dot(z_mat, zeta[1:]) + tau_error\n",
    "\n",
    "# Compute y_i\n",
    "y_vec = (beta[0] + np.dot(x_mat, beta[1:]) + (trt_assign * tau_vec) + epsilon_vector) > 0"
   ]
  },
  {
   "cell_type": "code",
   "execution_count": 12,
   "metadata": {},
   "outputs": [
    {
     "data": {
      "text/plain": [
       "(0.20235756385068762, 0.22403258655804481)"
      ]
     },
     "execution_count": 12,
     "metadata": {},
     "output_type": "execute_result"
    }
   ],
   "source": [
    "# Incidence Rate by Treatment Group\n",
    "y_vec[np.where(trt_assign == 1)].mean(), y_vec[np.where(trt_assign == 0)].mean()"
   ]
  },
  {
   "cell_type": "code",
   "execution_count": 13,
   "metadata": {},
   "outputs": [
    {
     "data": {
      "text/plain": [
       "-0.023431942485535543"
      ]
     },
     "execution_count": 13,
     "metadata": {},
     "output_type": "execute_result"
    }
   ],
   "source": [
    "tau_vec.mean()"
   ]
  },
  {
   "cell_type": "markdown",
   "metadata": {},
   "source": [
    "### Studying Uplift Models\n",
    "\n",
    "Now you have everything you need to simulate data for uplift models! If you've followed along and understand the math behind what is in the notebook and have a better understanding of how the data generation process works as it relates to models, you should be able to fit an initial set of models to explore peformance. As you run empirical experiments, take time to really think about what should happen when you pull the various levers in the DGP. Are you getting results that you expect? How do results you see match with the *truth* you construct?\n",
    "\n",
    "#### Next Steps\n",
    "\n",
    "1. Simulate two data sets with same process, train an  uplift model on 1, validate it on 2. Compute the MSE of esitmated treatment effect compared to your true treatment effect. How does this result compare to standard evaluation metrics?\n",
    "2. Include only the X variables as features in your Uplift model. How well does this perform? Why?\n",
    "3. Include only the Z variables as features in your Uplift model. How well does this perform? Why?\n",
    "4. How well do standard statistical models capture the treatment effect?\n",
    "5. What happens when the size of the treatment effect decreases (shrink all your $\\zeta$ values)? Can you still get strong model fit (MSE of $\\tau_i$ to $\\widehat{\\tau_i}$)\n",
    "6. What happens as you increase the number of $z$ variables that explain the treatment effect? \n",
    "7. What happens as you increase the size of $\\epsilon_i$ (adding unexplainable varaiance)?\n",
    "8. What happens as you decrease the size of $\\epsilon_i$?\n",
    "9. How does the performance of the uplift model vary as you change characteristics of the DGP? (Changing these characteristics is analogous to the question of \"what assumptions do you need to hold true for this model to be useful?\")"
   ]
  },
  {
   "cell_type": "markdown",
   "metadata": {},
   "source": [
    "## Correlated Heterogenous Treatment Effects\n",
    "\n",
    "A key assumption of the independent heterogenous response data is that individual variables the explain the response to the treatment are completely independent of the variables the explain the baseline performance of the person. This is a very strong assumption and for this to work in practice, we will have to believe there is a set of features that explain the response to a treatment that have no impact whatsoever on baseline performance. This is most likely completely untrue and too strong of an assumption to make for these models. \n",
    "\n",
    "What we need to do is answer the question as to what happens when the same variable can explain both the response to treatement and the baseline conversion rate. The extreme case is that the exact same varaibles that influence baseline also influence reponse, but have a different weight. \n",
    "\n",
    "You can generate this data quickly by re-using the X Matrix you generate above to compute $\\tau_i$. \n",
    "\n",
    "$$\\tau_i = \\zeta_0 + \\zeta_1 x_1 + \\cdots + \\zeta_j x_j + \\epsilon_i$$\n",
    "\n",
    "You could also make an assumption that there are some independent $z$ variables that affect only $\\tau_i$ and not $E[y_i | W_i = 0]$\n",
    "\n",
    "$$\\tau_i = \\zeta_0 + \\zeta_1 z_1 + \\cdots + \\zeta_h z_h + \\zeta_j x_j  + \\epsilon_i$$\n",
    "\n",
    "#### Next Steps\n",
    "\n",
    "Make these slight modifications to your DGP and see what happens!\n",
    "\n",
    "1. What happens to model performance?\n",
    "2. Do these models still work?\n",
    "3. Does the feasibility of these models still hold? \n",
    "4. Do you need to make any caveats when using these?\n",
    "5. If you used the results of a single model to personalize the treatment/no treatment decision for each person, how much of the total treatment effect could you capture? Can you increase the $\\sum{t_i}$ to higher than when you just applied a single treatment across the board (either treat everyone or treat no one)?"
   ]
  }
 ],
 "metadata": {
  "kernelspec": {
   "display_name": "Python 3.6",
   "language": "python",
   "name": "py36_kernel"
  },
  "language_info": {
   "codemirror_mode": {
    "name": "ipython",
    "version": 3
   },
   "file_extension": ".py",
   "mimetype": "text/x-python",
   "name": "python",
   "nbconvert_exporter": "python",
   "pygments_lexer": "ipython3",
   "version": "3.6.0"
  }
 },
 "nbformat": 4,
 "nbformat_minor": 2
}
