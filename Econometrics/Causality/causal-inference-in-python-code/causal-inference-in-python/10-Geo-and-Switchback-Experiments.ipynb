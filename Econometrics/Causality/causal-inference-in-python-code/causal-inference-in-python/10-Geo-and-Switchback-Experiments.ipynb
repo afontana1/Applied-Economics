{
 "cells": [
  {
   "cell_type": "markdown",
   "id": "4dc1bf63",
   "metadata": {},
   "source": [
    "# 10 - Geo and Switchback Experiments\n"
   ]
  },
  {
   "cell_type": "code",
   "execution_count": 1,
   "id": "a6d9bc21",
   "metadata": {
    "ExecuteTime": {
     "end_time": "2023-05-17T10:32:36.002601Z",
     "start_time": "2023-05-17T10:32:34.274958Z"
    },
    "tags": [
     "hide-input"
    ]
   },
   "outputs": [],
   "source": [
    "from toolz.curried import *\n",
    "\n",
    "import pandas as pd\n",
    "import numpy as np\n",
    "\n",
    "import statsmodels.formula.api as smf\n",
    "\n",
    "import seaborn as sns\n",
    "from matplotlib import pyplot as plt\n",
    "import matplotlib\n",
    "from cycler import cycler\n",
    "\n",
    "color=['0.0', '0.4', '0.8']\n",
    "default_cycler = (cycler(color=color))\n",
    "linestyle=['-', '--', ':', '-.']\n",
    "marker=['o', 'v', 'd', 'p']\n",
    "\n",
    "plt.rc('axes', prop_cycle=default_cycler)"
   ]
  },
  {
   "cell_type": "code",
   "execution_count": 2,
   "id": "1d121089",
   "metadata": {
    "ExecuteTime": {
     "end_time": "2023-05-17T10:32:36.201716Z",
     "start_time": "2023-05-17T10:32:36.004416Z"
    },
    "tags": [
     "hide-input"
    ]
   },
   "outputs": [],
   "source": [
    "from sklearn.base import BaseEstimator, RegressorMixin\n",
    "from sklearn.utils.validation import check_X_y, check_array, check_is_fitted\n",
    "import cvxpy as cp\n",
    "\n",
    "class SyntheticControl(BaseEstimator, RegressorMixin):\n",
    "\n",
    "    def __init__(self, fit_intercept=False):\n",
    "        self.fit_intercept = fit_intercept\n",
    "\n",
    "    def fit(self, y_pre_co, y_pre_tr):\n",
    "\n",
    "        y_pre_co, y_pre_tr = check_X_y(y_pre_co, y_pre_tr)\n",
    "        \n",
    "        # add intercept\n",
    "        intercept = np.ones((y_pre_co.shape[0], 1))*self.fit_intercept\n",
    "        X = np.concatenate([intercept, y_pre_co], axis=1)\n",
    "        w = cp.Variable(X.shape[1])\n",
    "        \n",
    "        objective = cp.Minimize(cp.sum_squares(X@w - y_pre_tr))\n",
    "        constraints = [cp.sum(w[1:]) == 1, w[1:] >= 0]\n",
    "        \n",
    "        problem = cp.Problem(objective, constraints)\n",
    "        \n",
    "        self.loss_ = problem.solve(eps_abs=1)\n",
    "        self.w_ = w.value[1:] \n",
    "        self.intercept_ = w.value[0] \n",
    "        \n",
    "        self.is_fitted_ = True\n",
    "        return self\n",
    "        \n",
    "        \n",
    "    def predict(self, y_co):\n",
    "\n",
    "        check_is_fitted(self)\n",
    "        y_co = check_array(y_co)\n",
    "        \n",
    "        return y_co @ self.w_ + self.intercept_"
   ]
  },
  {
   "cell_type": "markdown",
   "id": "e6823c18",
   "metadata": {},
   "source": [
    "## Geo-Experiments\n"
   ]
  },
  {
   "cell_type": "code",
   "execution_count": 3,
   "id": "48236235",
   "metadata": {
    "ExecuteTime": {
     "end_time": "2023-05-17T10:32:36.225593Z",
     "start_time": "2023-05-17T10:32:36.202716Z"
    }
   },
   "outputs": [
    {
     "data": {
      "text/html": [
       "<div>\n",
       "<style scoped>\n",
       "    .dataframe tbody tr th:only-of-type {\n",
       "        vertical-align: middle;\n",
       "    }\n",
       "\n",
       "    .dataframe tbody tr th {\n",
       "        vertical-align: top;\n",
       "    }\n",
       "\n",
       "    .dataframe thead th {\n",
       "        text-align: right;\n",
       "    }\n",
       "</style>\n",
       "<table border=\"1\" class=\"dataframe\">\n",
       "  <thead>\n",
       "    <tr style=\"text-align: right;\">\n",
       "      <th></th>\n",
       "      <th>app_download</th>\n",
       "      <th>population</th>\n",
       "      <th>city</th>\n",
       "      <th>state</th>\n",
       "      <th>date</th>\n",
       "      <th>post</th>\n",
       "      <th>treated</th>\n",
       "    </tr>\n",
       "  </thead>\n",
       "  <tbody>\n",
       "    <tr>\n",
       "      <th>0</th>\n",
       "      <td>3066.0</td>\n",
       "      <td>12396372</td>\n",
       "      <td>sao_paulo</td>\n",
       "      <td>sao_paulo</td>\n",
       "      <td>2022-03-01</td>\n",
       "      <td>0</td>\n",
       "      <td>1</td>\n",
       "    </tr>\n",
       "    <tr>\n",
       "      <th>1</th>\n",
       "      <td>2701.0</td>\n",
       "      <td>12396372</td>\n",
       "      <td>sao_paulo</td>\n",
       "      <td>sao_paulo</td>\n",
       "      <td>2022-03-02</td>\n",
       "      <td>0</td>\n",
       "      <td>1</td>\n",
       "    </tr>\n",
       "    <tr>\n",
       "      <th>2</th>\n",
       "      <td>1927.0</td>\n",
       "      <td>12396372</td>\n",
       "      <td>sao_paulo</td>\n",
       "      <td>sao_paulo</td>\n",
       "      <td>2022-03-03</td>\n",
       "      <td>0</td>\n",
       "      <td>1</td>\n",
       "    </tr>\n",
       "    <tr>\n",
       "      <th>3</th>\n",
       "      <td>1451.0</td>\n",
       "      <td>12396372</td>\n",
       "      <td>sao_paulo</td>\n",
       "      <td>sao_paulo</td>\n",
       "      <td>2022-03-04</td>\n",
       "      <td>0</td>\n",
       "      <td>1</td>\n",
       "    </tr>\n",
       "    <tr>\n",
       "      <th>4</th>\n",
       "      <td>1248.0</td>\n",
       "      <td>12396372</td>\n",
       "      <td>sao_paulo</td>\n",
       "      <td>sao_paulo</td>\n",
       "      <td>2022-03-05</td>\n",
       "      <td>0</td>\n",
       "      <td>1</td>\n",
       "    </tr>\n",
       "  </tbody>\n",
       "</table>\n",
       "</div>"
      ],
      "text/plain": [
       "   app_download  population       city      state       date  post  treated\n",
       "0        3066.0    12396372  sao_paulo  sao_paulo 2022-03-01     0        1\n",
       "1        2701.0    12396372  sao_paulo  sao_paulo 2022-03-02     0        1\n",
       "2        1927.0    12396372  sao_paulo  sao_paulo 2022-03-03     0        1\n",
       "3        1451.0    12396372  sao_paulo  sao_paulo 2022-03-04     0        1\n",
       "4        1248.0    12396372  sao_paulo  sao_paulo 2022-03-05     0        1"
      ]
     },
     "execution_count": 3,
     "metadata": {},
     "output_type": "execute_result"
    }
   ],
   "source": [
    "import pandas as pd\n",
    "import numpy as np\n",
    "\n",
    "df = (pd.read_csv(\"./data/online_mkt.csv\")\n",
    "      .astype({\"date\":\"datetime64[ns]\"})\n",
    "      .query(\"post==0\"))\n",
    "\n",
    "df.head()"
   ]
  },
  {
   "cell_type": "code",
   "execution_count": 4,
   "id": "63544218",
   "metadata": {
    "ExecuteTime": {
     "end_time": "2023-05-17T10:32:36.231859Z",
     "start_time": "2023-05-17T10:32:36.227486Z"
    }
   },
   "outputs": [
    {
     "data": {
      "text/plain": [
       "36663.0"
      ]
     },
     "execution_count": 4,
     "metadata": {},
     "output_type": "execute_result"
    }
   ],
   "source": [
    "detectable_diff = df[\"app_download\"].mean()*0.05\n",
    "sigma_2 = df.groupby(\"city\")[\"app_download\"].mean().var()\n",
    "\n",
    "np.ceil((sigma_2*16)/(detectable_diff)**2)"
   ]
  },
  {
   "cell_type": "markdown",
   "id": "ccd05419",
   "metadata": {
    "ExecuteTime": {
     "end_time": "2023-02-01T13:59:24.858215Z",
     "start_time": "2023-02-01T13:59:24.842541Z"
    }
   },
   "source": [
    "\n",
    "## Synthetic Control Design\n"
   ]
  },
  {
   "cell_type": "code",
   "execution_count": 5,
   "id": "93126bbb",
   "metadata": {
    "ExecuteTime": {
     "end_time": "2023-05-17T10:32:36.234676Z",
     "start_time": "2023-05-17T10:32:36.232782Z"
    },
    "tags": [
     "hide-input"
    ]
   },
   "outputs": [],
   "source": [
    "pd.set_option('display.max_columns', 6)"
   ]
  },
  {
   "cell_type": "code",
   "execution_count": 6,
   "id": "1f955293",
   "metadata": {
    "ExecuteTime": {
     "end_time": "2023-05-17T10:32:36.246475Z",
     "start_time": "2023-05-17T10:32:36.235796Z"
    }
   },
   "outputs": [
    {
     "data": {
      "text/html": [
       "<div>\n",
       "<style scoped>\n",
       "    .dataframe tbody tr th:only-of-type {\n",
       "        vertical-align: middle;\n",
       "    }\n",
       "\n",
       "    .dataframe tbody tr th {\n",
       "        vertical-align: top;\n",
       "    }\n",
       "\n",
       "    .dataframe thead th {\n",
       "        text-align: right;\n",
       "    }\n",
       "</style>\n",
       "<table border=\"1\" class=\"dataframe\">\n",
       "  <thead>\n",
       "    <tr style=\"text-align: right;\">\n",
       "      <th>city</th>\n",
       "      <th>ananindeua</th>\n",
       "      <th>aparecida_de_goiania</th>\n",
       "      <th>aracaju</th>\n",
       "      <th>...</th>\n",
       "      <th>teresina</th>\n",
       "      <th>uberlandia</th>\n",
       "      <th>vila_velha</th>\n",
       "    </tr>\n",
       "    <tr>\n",
       "      <th>date</th>\n",
       "      <th></th>\n",
       "      <th></th>\n",
       "      <th></th>\n",
       "      <th></th>\n",
       "      <th></th>\n",
       "      <th></th>\n",
       "      <th></th>\n",
       "    </tr>\n",
       "  </thead>\n",
       "  <tbody>\n",
       "    <tr>\n",
       "      <th>2022-03-01</th>\n",
       "      <td>11.0</td>\n",
       "      <td>54.0</td>\n",
       "      <td>65.0</td>\n",
       "      <td>...</td>\n",
       "      <td>68.0</td>\n",
       "      <td>29.0</td>\n",
       "      <td>63.0</td>\n",
       "    </tr>\n",
       "    <tr>\n",
       "      <th>2022-03-02</th>\n",
       "      <td>5.0</td>\n",
       "      <td>20.0</td>\n",
       "      <td>42.0</td>\n",
       "      <td>...</td>\n",
       "      <td>17.0</td>\n",
       "      <td>29.0</td>\n",
       "      <td>11.0</td>\n",
       "    </tr>\n",
       "    <tr>\n",
       "      <th>2022-03-03</th>\n",
       "      <td>2.0</td>\n",
       "      <td>0.0</td>\n",
       "      <td>0.0</td>\n",
       "      <td>...</td>\n",
       "      <td>55.0</td>\n",
       "      <td>30.0</td>\n",
       "      <td>14.0</td>\n",
       "    </tr>\n",
       "    <tr>\n",
       "      <th>2022-03-04</th>\n",
       "      <td>0.0</td>\n",
       "      <td>0.0</td>\n",
       "      <td>11.0</td>\n",
       "      <td>...</td>\n",
       "      <td>49.0</td>\n",
       "      <td>35.0</td>\n",
       "      <td>0.0</td>\n",
       "    </tr>\n",
       "    <tr>\n",
       "      <th>2022-03-05</th>\n",
       "      <td>5.0</td>\n",
       "      <td>5.0</td>\n",
       "      <td>0.0</td>\n",
       "      <td>...</td>\n",
       "      <td>31.0</td>\n",
       "      <td>6.0</td>\n",
       "      <td>1.0</td>\n",
       "    </tr>\n",
       "  </tbody>\n",
       "</table>\n",
       "<p>5 rows × 50 columns</p>\n",
       "</div>"
      ],
      "text/plain": [
       "city        ananindeua  aparecida_de_goiania  aracaju  ...  teresina  \\\n",
       "date                                                   ...             \n",
       "2022-03-01        11.0                  54.0     65.0  ...      68.0   \n",
       "2022-03-02         5.0                  20.0     42.0  ...      17.0   \n",
       "2022-03-03         2.0                   0.0      0.0  ...      55.0   \n",
       "2022-03-04         0.0                   0.0     11.0  ...      49.0   \n",
       "2022-03-05         5.0                   5.0      0.0  ...      31.0   \n",
       "\n",
       "city        uberlandia  vila_velha  \n",
       "date                                \n",
       "2022-03-01        29.0        63.0  \n",
       "2022-03-02        29.0        11.0  \n",
       "2022-03-03        30.0        14.0  \n",
       "2022-03-04        35.0         0.0  \n",
       "2022-03-05         6.0         1.0  \n",
       "\n",
       "[5 rows x 50 columns]"
      ]
     },
     "execution_count": 6,
     "metadata": {},
     "output_type": "execute_result"
    }
   ],
   "source": [
    "df_piv = (df\n",
    "          .pivot(\"date\", \"city\", \"app_download\"))\n",
    "\n",
    "df_piv.head()"
   ]
  },
  {
   "cell_type": "code",
   "execution_count": 7,
   "id": "ff3ad9fe",
   "metadata": {
    "ExecuteTime": {
     "end_time": "2023-05-17T10:32:36.252696Z",
     "start_time": "2023-05-17T10:32:36.248107Z"
    }
   },
   "outputs": [],
   "source": [
    "f = (df.groupby(\"city\")[\"population\"].first()\n",
    "     /df.groupby(\"city\")[\"population\"].first().sum())"
   ]
  },
  {
   "cell_type": "code",
   "execution_count": 8,
   "id": "46ca33e3",
   "metadata": {
    "ExecuteTime": {
     "end_time": "2023-05-17T10:32:36.613672Z",
     "start_time": "2023-05-17T10:32:36.253974Z"
    },
    "tags": [
     "hide-input"
    ]
   },
   "outputs": [
    {
     "data": {
      "image/png": "[encoded data removed]",
      "text/plain": [
       "<Figure size 864x216 with 1 Axes>"
      ]
     },
     "metadata": {
      "needs_background": "light"
     },
     "output_type": "display_data"
    }
   ],
   "source": [
    "plt.figure(figsize=(12,3))\n",
    "plt.bar(f.sort_values().index, f.sort_values().values)\n",
    "plt.title(\"Size of each city as a proportional of the market (f vector)\")\n",
    "plt.xticks(rotation=90, fontsize=14);"
   ]
  },
  {
   "cell_type": "markdown",
   "id": "a53093b0",
   "metadata": {},
   "source": [
    "### Trying a Random Set of Treated Units\n"
   ]
  },
  {
   "cell_type": "code",
   "execution_count": 9,
   "id": "dbb2a72f",
   "metadata": {
    "ExecuteTime": {
     "end_time": "2023-05-17T10:32:36.617198Z",
     "start_time": "2023-05-17T10:32:36.614845Z"
    }
   },
   "outputs": [],
   "source": [
    "y_avg = df_piv.dot(f)\n",
    "geos = list(df_piv.columns)\n",
    "n_tr = 5"
   ]
  },
  {
   "cell_type": "code",
   "execution_count": 10,
   "id": "db952541",
   "metadata": {
    "ExecuteTime": {
     "end_time": "2023-05-17T10:32:36.623753Z",
     "start_time": "2023-05-17T10:32:36.620427Z"
    }
   },
   "outputs": [
    {
     "data": {
      "text/plain": [
       "array(['manaus', 'recife', 'sao_bernardo_do_campo', 'salvador', 'aracaju'],\n",
       "      dtype='<U23')"
      ]
     },
     "execution_count": 10,
     "metadata": {},
     "output_type": "execute_result"
    }
   ],
   "source": [
    "np.random.seed(1)\n",
    "rand_geos = np.random.choice(geos, n_tr, replace=False)\n",
    "rand_geos"
   ]
  },
  {
   "cell_type": "code",
   "execution_count": 11,
   "id": "d8462027",
   "metadata": {
    "ExecuteTime": {
     "end_time": "2023-05-17T10:32:36.655809Z",
     "start_time": "2023-05-17T10:32:36.624853Z"
    }
   },
   "outputs": [
    {
     "data": {
      "text/plain": [
       "{'geos': array(['salvador', 'aracaju'], dtype='<U23'),\n",
       " 'loss': 1598616.80875266}"
      ]
     },
     "execution_count": 11,
     "metadata": {},
     "output_type": "execute_result"
    }
   ],
   "source": [
    "def get_sc(geos, df_sc, y_mean_pre):\n",
    "    \n",
    "    model = SyntheticControl(fit_intercept=True)\n",
    "    model.fit(df_sc[geos], y_mean_pre)\n",
    "    \n",
    "    selected_geos = geos[np.abs(model.w_) > 1e-5]\n",
    "    \n",
    "    return {\"geos\": selected_geos, \"loss\": model.loss_ }\n",
    "\n",
    "\n",
    "get_sc(rand_geos, df_piv, y_avg)"
   ]
  },
  {
   "cell_type": "code",
   "execution_count": 12,
   "id": "bbeab3ee",
   "metadata": {
    "ExecuteTime": {
     "end_time": "2023-05-17T10:32:36.677060Z",
     "start_time": "2023-05-17T10:32:36.657134Z"
    }
   },
   "outputs": [],
   "source": [
    "def get_sc_st_combination(treatment_geos, df_sc, y_mean_pre):\n",
    "    \n",
    "    treatment_result = get_sc(treatment_geos, df_sc, y_mean_pre)\n",
    "    \n",
    "    remaining_geos = df_sc.drop(\n",
    "        columns=treatment_result[\"geos\"]\n",
    "    ).columns\n",
    "    \n",
    "    control_result = get_sc(remaining_geos, df_sc, y_mean_pre)\n",
    "\n",
    "    return {\"st_geos\": treatment_result[\"geos\"],\n",
    "            \"sc_geos\": control_result[\"geos\"],\n",
    "            \"loss\": treatment_result[\"loss\"] + control_result[\"loss\"]}\n",
    "\n",
    "\n",
    "resulting_geos = get_sc_st_combination(rand_geos, df_piv, y_avg)"
   ]
  },
  {
   "cell_type": "code",
   "execution_count": 13,
   "id": "6501bf3f",
   "metadata": {
    "ExecuteTime": {
     "end_time": "2023-05-17T10:32:36.681609Z",
     "start_time": "2023-05-17T10:32:36.678373Z"
    }
   },
   "outputs": [
    {
     "data": {
      "text/plain": [
       "array(['salvador', 'aracaju'], dtype='<U23')"
      ]
     },
     "execution_count": 13,
     "metadata": {},
     "output_type": "execute_result"
    }
   ],
   "source": [
    "resulting_geos.get(\"st_geos\")"
   ]
  },
  {
   "cell_type": "code",
   "execution_count": 14,
   "id": "28b292c9",
   "metadata": {
    "ExecuteTime": {
     "end_time": "2023-05-17T10:32:36.685656Z",
     "start_time": "2023-05-17T10:32:36.683035Z"
    }
   },
   "outputs": [
    {
     "data": {
      "text/plain": [
       "50"
      ]
     },
     "execution_count": 14,
     "metadata": {},
     "output_type": "execute_result"
    }
   ],
   "source": [
    "len(resulting_geos.get(\"st_geos\")) + len(resulting_geos.get(\"sc_geos\"))"
   ]
  },
  {
   "cell_type": "code",
   "execution_count": 15,
   "id": "94c0d6ac",
   "metadata": {
    "ExecuteTime": {
     "end_time": "2023-05-17T10:32:36.803578Z",
     "start_time": "2023-05-17T10:32:36.686898Z"
    },
    "tags": [
     "hide-input"
    ]
   },
   "outputs": [
    {
     "data": {
      "text/plain": [
       "<matplotlib.legend.Legend at 0x7fc39cfb2ad0>"
      ]
     },
     "execution_count": 15,
     "metadata": {},
     "output_type": "execute_result"
    },
    {
     "data": {
      "image/png": "[encoded data removed]",
      "text/plain": [
       "<Figure size 720x288 with 1 Axes>"
      ]
     },
     "metadata": {
      "needs_background": "light"
     },
     "output_type": "display_data"
    }
   ],
   "source": [
    "synthetic_tr = SyntheticControl(fit_intercept=True)\n",
    "synthetic_co = SyntheticControl(fit_intercept=True)\n",
    "\n",
    "synthetic_tr.fit(df_piv[resulting_geos.get(\"st_geos\")], y_avg)\n",
    "synthetic_co.fit(df_piv[resulting_geos.get(\"sc_geos\")], y_avg)\n",
    "\n",
    "plt.figure(figsize=(10,4))\n",
    "plt.plot(y_avg, label=\"Average\")\n",
    "plt.plot(y_avg.index, synthetic_co.predict(df_piv[resulting_geos.get(\"sc_geos\")]), label=\"sc\", ls=\":\")\n",
    "plt.plot(y_avg.index, synthetic_tr.predict(df_piv[resulting_geos.get(\"st_geos\")]), label=\"st\")\n",
    "\n",
    "\n",
    "plt.xticks(rotation=45)\n",
    "plt.legend()"
   ]
  },
  {
   "cell_type": "markdown",
   "id": "bcf9d5e6",
   "metadata": {},
   "source": [
    "### Random Search\n"
   ]
  },
  {
   "cell_type": "code",
   "execution_count": 16,
   "id": "88d54a7b",
   "metadata": {
    "ExecuteTime": {
     "end_time": "2023-05-17T10:32:43.389975Z",
     "start_time": "2023-05-17T10:32:36.805186Z"
    }
   },
   "outputs": [],
   "source": [
    "from joblib import Parallel, delayed\n",
    "from toolz import partial\n",
    "\n",
    "np.random.seed(1)\n",
    "geo_samples = [np.random.choice(geos, n_tr, replace=False) \n",
    "               for _ in range(1000)]\n",
    "\n",
    "est_combination = partial(get_sc_st_combination,\n",
    "                          df_sc=df_piv,\n",
    "                          y_mean_pre=y_avg)\n",
    "\n",
    "results = Parallel(n_jobs=4)(delayed(est_combination)(geos)\n",
    "                             for geos in geo_samples)"
   ]
  },
  {
   "cell_type": "code",
   "execution_count": 17,
   "id": "007f44cf",
   "metadata": {
    "ExecuteTime": {
     "end_time": "2023-05-17T10:32:43.396893Z",
     "start_time": "2023-05-17T10:32:43.392013Z"
    }
   },
   "outputs": [
    {
     "data": {
      "text/plain": [
       "array(['nova_iguacu', 'belem', 'joinville', 'sao_paulo'], dtype='<U23')"
      ]
     },
     "execution_count": 17,
     "metadata": {},
     "output_type": "execute_result"
    }
   ],
   "source": [
    "resulting_geos = min(results, key=lambda x: x.get(\"loss\"))\n",
    "resulting_geos.get(\"st_geos\")"
   ]
  },
  {
   "cell_type": "code",
   "execution_count": 18,
   "id": "c7d52f86",
   "metadata": {
    "ExecuteTime": {
     "end_time": "2023-05-17T10:32:43.630748Z",
     "start_time": "2023-05-17T10:32:43.398336Z"
    },
    "tags": [
     "hide-input"
    ]
   },
   "outputs": [
    {
     "data": {
      "text/plain": [
       "<matplotlib.legend.Legend at 0x7fc39c6c0150>"
      ]
     },
     "execution_count": 18,
     "metadata": {},
     "output_type": "execute_result"
    },
    {
     "data": {
      "image/png": "[encoded data removed]",
      "text/plain": [
       "<Figure size 720x288 with 1 Axes>"
      ]
     },
     "metadata": {
      "needs_background": "light"
     },
     "output_type": "display_data"
    }
   ],
   "source": [
    "synthetic_tr = SyntheticControl(fit_intercept=True)\n",
    "synthetic_co = SyntheticControl(fit_intercept=True)\n",
    "\n",
    "synthetic_tr.fit(df_piv[resulting_geos.get(\"st_geos\")], y_avg)\n",
    "synthetic_co.fit(df_piv[resulting_geos.get(\"sc_geos\")], y_avg)\n",
    "\n",
    "\n",
    "plt.figure(figsize=(10,4))\n",
    "plt.plot(y_avg, label=\"Average\")\n",
    "plt.plot(y_avg.index, synthetic_co.predict(df_piv[resulting_geos.get(\"sc_geos\")]), label=\"sc\", ls=\":\")\n",
    "plt.plot(y_avg.index, synthetic_tr.predict(df_piv[resulting_geos.get(\"st_geos\")]), label=\"st\")\n",
    "\n",
    "\n",
    "plt.xticks(rotation=45)\n",
    "plt.legend()\n"
   ]
  },
  {
   "cell_type": "markdown",
   "id": "be13b10c",
   "metadata": {},
   "source": [
    "## Switchback Experiment\n"
   ]
  },
  {
   "cell_type": "code",
   "execution_count": 19,
   "id": "a2b25f39",
   "metadata": {
    "ExecuteTime": {
     "end_time": "2023-05-17T10:32:43.641109Z",
     "start_time": "2023-05-17T10:32:43.632399Z"
    }
   },
   "outputs": [
    {
     "data": {
      "text/html": [
       "<div>\n",
       "<style scoped>\n",
       "    .dataframe tbody tr th:only-of-type {\n",
       "        vertical-align: middle;\n",
       "    }\n",
       "\n",
       "    .dataframe tbody tr th {\n",
       "        vertical-align: top;\n",
       "    }\n",
       "\n",
       "    .dataframe thead th {\n",
       "        text-align: right;\n",
       "    }\n",
       "</style>\n",
       "<table border=\"1\" class=\"dataframe\">\n",
       "  <thead>\n",
       "    <tr style=\"text-align: right;\">\n",
       "      <th></th>\n",
       "      <th>d</th>\n",
       "      <th>delivery_time</th>\n",
       "      <th>delivery_time_1</th>\n",
       "      <th>delivery_time_0</th>\n",
       "      <th>tau</th>\n",
       "    </tr>\n",
       "  </thead>\n",
       "  <tbody>\n",
       "    <tr>\n",
       "      <th>0</th>\n",
       "      <td>1</td>\n",
       "      <td>2.84</td>\n",
       "      <td>2.84</td>\n",
       "      <td>5.84</td>\n",
       "      <td>-3.0</td>\n",
       "    </tr>\n",
       "    <tr>\n",
       "      <th>1</th>\n",
       "      <td>0</td>\n",
       "      <td>4.49</td>\n",
       "      <td>1.49</td>\n",
       "      <td>6.49</td>\n",
       "      <td>-5.0</td>\n",
       "    </tr>\n",
       "    <tr>\n",
       "      <th>2</th>\n",
       "      <td>0</td>\n",
       "      <td>7.27</td>\n",
       "      <td>2.27</td>\n",
       "      <td>8.27</td>\n",
       "      <td>-6.0</td>\n",
       "    </tr>\n",
       "    <tr>\n",
       "      <th>3</th>\n",
       "      <td>1</td>\n",
       "      <td>5.27</td>\n",
       "      <td>2.27</td>\n",
       "      <td>8.27</td>\n",
       "      <td>-6.0</td>\n",
       "    </tr>\n",
       "    <tr>\n",
       "      <th>4</th>\n",
       "      <td>1</td>\n",
       "      <td>5.59</td>\n",
       "      <td>4.59</td>\n",
       "      <td>10.59</td>\n",
       "      <td>-6.0</td>\n",
       "    </tr>\n",
       "  </tbody>\n",
       "</table>\n",
       "</div>"
      ],
      "text/plain": [
       "   d  delivery_time  delivery_time_1  delivery_time_0  tau\n",
       "0  1           2.84             2.84             5.84 -3.0\n",
       "1  0           4.49             1.49             6.49 -5.0\n",
       "2  0           7.27             2.27             8.27 -6.0\n",
       "3  1           5.27             2.27             8.27 -6.0\n",
       "4  1           5.59             4.59            10.59 -6.0"
      ]
     },
     "execution_count": 19,
     "metadata": {},
     "output_type": "execute_result"
    }
   ],
   "source": [
    "df = pd.read_csv(\"./data/sb_exp_every.csv\")\n",
    "df.head()"
   ]
  },
  {
   "cell_type": "code",
   "execution_count": 20,
   "id": "ea4f5a64",
   "metadata": {
    "ExecuteTime": {
     "end_time": "2023-05-17T10:32:43.755523Z",
     "start_time": "2023-05-17T10:32:43.642428Z"
    },
    "tags": [
     "hide-input"
    ]
   },
   "outputs": [
    {
     "data": {
      "text/plain": [
       "<matplotlib.legend.Legend at 0x7fc39d024450>"
      ]
     },
     "execution_count": 20,
     "metadata": {},
     "output_type": "execute_result"
    },
    {
     "data": {
      "image/png": "[encoded data removed]",
      "text/plain": [
       "<Figure size 864x360 with 1 Axes>"
      ]
     },
     "metadata": {
      "needs_background": "light"
     },
     "output_type": "display_data"
    }
   ],
   "source": [
    "plt.figure(figsize=(12,5))\n",
    "x = df.index\n",
    "plt.plot(x, df[\"delivery_time_0\"], ls=\":\", color=\"0.0\", label=\"Y0\")\n",
    "plt.plot(x, df[\"delivery_time_1\"], ls=\":\", color=\"0.8\", label=\"Y1\")\n",
    "plt.plot(x, df[\"delivery_time\"], color=\"0.4\", label=\"Y\")\n",
    "plt.scatter(x[df[\"d\"]==1], df[\"delivery_time\"][df[\"d\"]==1], label=\"Treated\", marker=\"v\", color=\"0.4\")\n",
    "plt.scatter(x[df[\"d\"]==0], df[\"delivery_time\"][df[\"d\"]==0], label=\"Control\", marker=\"o\", color=\"0.4\")\n",
    "plt.ylabel(\"delivery_time\")\n",
    "plt.xlabel(\"Hours\")\n",
    "plt.legend(fontsize=14)\n"
   ]
  },
  {
   "cell_type": "markdown",
   "id": "c78e579f",
   "metadata": {},
   "source": [
    "### Potential Outcomes of Sequences"
   ]
  },
  {
   "cell_type": "markdown",
   "id": "0ffaa6db",
   "metadata": {},
   "source": [
    "### Estimating the Order of Carryover Effect\n"
   ]
  },
  {
   "cell_type": "code",
   "execution_count": 21,
   "id": "4e415d48",
   "metadata": {
    "ExecuteTime": {
     "end_time": "2023-05-17T10:32:43.767150Z",
     "start_time": "2023-05-17T10:32:43.756614Z"
    }
   },
   "outputs": [
    {
     "data": {
      "text/html": [
       "<div>\n",
       "<style scoped>\n",
       "    .dataframe tbody tr th:only-of-type {\n",
       "        vertical-align: middle;\n",
       "    }\n",
       "\n",
       "    .dataframe tbody tr th {\n",
       "        vertical-align: top;\n",
       "    }\n",
       "\n",
       "    .dataframe thead th {\n",
       "        text-align: right;\n",
       "    }\n",
       "</style>\n",
       "<table border=\"1\" class=\"dataframe\">\n",
       "  <thead>\n",
       "    <tr style=\"text-align: right;\">\n",
       "      <th></th>\n",
       "      <th>d_l0</th>\n",
       "      <th>d_l1</th>\n",
       "      <th>d_l2</th>\n",
       "      <th>...</th>\n",
       "      <th>d_l4</th>\n",
       "      <th>d_l5</th>\n",
       "      <th>d_l6</th>\n",
       "    </tr>\n",
       "  </thead>\n",
       "  <tbody>\n",
       "    <tr>\n",
       "      <th>0</th>\n",
       "      <td>1</td>\n",
       "      <td>NaN</td>\n",
       "      <td>NaN</td>\n",
       "      <td>...</td>\n",
       "      <td>NaN</td>\n",
       "      <td>NaN</td>\n",
       "      <td>NaN</td>\n",
       "    </tr>\n",
       "    <tr>\n",
       "      <th>1</th>\n",
       "      <td>0</td>\n",
       "      <td>1.0</td>\n",
       "      <td>NaN</td>\n",
       "      <td>...</td>\n",
       "      <td>NaN</td>\n",
       "      <td>NaN</td>\n",
       "      <td>NaN</td>\n",
       "    </tr>\n",
       "    <tr>\n",
       "      <th>2</th>\n",
       "      <td>0</td>\n",
       "      <td>0.0</td>\n",
       "      <td>1.0</td>\n",
       "      <td>...</td>\n",
       "      <td>NaN</td>\n",
       "      <td>NaN</td>\n",
       "      <td>NaN</td>\n",
       "    </tr>\n",
       "    <tr>\n",
       "      <th>3</th>\n",
       "      <td>1</td>\n",
       "      <td>0.0</td>\n",
       "      <td>0.0</td>\n",
       "      <td>...</td>\n",
       "      <td>NaN</td>\n",
       "      <td>NaN</td>\n",
       "      <td>NaN</td>\n",
       "    </tr>\n",
       "    <tr>\n",
       "      <th>4</th>\n",
       "      <td>1</td>\n",
       "      <td>1.0</td>\n",
       "      <td>0.0</td>\n",
       "      <td>...</td>\n",
       "      <td>1.0</td>\n",
       "      <td>NaN</td>\n",
       "      <td>NaN</td>\n",
       "    </tr>\n",
       "  </tbody>\n",
       "</table>\n",
       "<p>5 rows × 7 columns</p>\n",
       "</div>"
      ],
      "text/plain": [
       "   d_l0  d_l1  d_l2  ...  d_l4  d_l5  d_l6\n",
       "0     1   NaN   NaN  ...   NaN   NaN   NaN\n",
       "1     0   1.0   NaN  ...   NaN   NaN   NaN\n",
       "2     0   0.0   1.0  ...   NaN   NaN   NaN\n",
       "3     1   0.0   0.0  ...   NaN   NaN   NaN\n",
       "4     1   1.0   0.0  ...   1.0   NaN   NaN\n",
       "\n",
       "[5 rows x 7 columns]"
      ]
     },
     "execution_count": 21,
     "metadata": {},
     "output_type": "execute_result"
    }
   ],
   "source": [
    "df_lags = df.assign(**{\n",
    "    f\"d_l{l}\" : df[\"d\"].shift(l) for l in range(7)\n",
    "})\n",
    "\n",
    "df_lags[[f\"d_l{l}\" for l in range(7)]].head()"
   ]
  },
  {
   "cell_type": "code",
   "execution_count": 22,
   "id": "7744a89d",
   "metadata": {
    "ExecuteTime": {
     "end_time": "2023-05-17T10:32:43.784211Z",
     "start_time": "2023-05-17T10:32:43.768761Z"
    }
   },
   "outputs": [
    {
     "data": {
      "text/html": [
       "<table class=\"simpletable\">\n",
       "<tr>\n",
       "      <td></td>         <th>coef</th>     <th>std err</th>      <th>t</th>      <th>P>|t|</th>  <th>[0.025</th>    <th>0.975]</th>  \n",
       "</tr>\n",
       "<tr>\n",
       "  <th>Intercept</th> <td>    9.3270</td> <td>    0.461</td> <td>   20.246</td> <td> 0.000</td> <td>    8.414</td> <td>   10.240</td>\n",
       "</tr>\n",
       "<tr>\n",
       "  <th>d_l0</th>      <td>   -2.9645</td> <td>    0.335</td> <td>   -8.843</td> <td> 0.000</td> <td>   -3.629</td> <td>   -2.300</td>\n",
       "</tr>\n",
       "<tr>\n",
       "  <th>d_l1</th>      <td>   -1.8861</td> <td>    0.339</td> <td>   -5.560</td> <td> 0.000</td> <td>   -2.559</td> <td>   -1.213</td>\n",
       "</tr>\n",
       "<tr>\n",
       "  <th>d_l2</th>      <td>   -1.0013</td> <td>    0.340</td> <td>   -2.943</td> <td> 0.004</td> <td>   -1.676</td> <td>   -0.327</td>\n",
       "</tr>\n",
       "<tr>\n",
       "  <th>d_l3</th>      <td>    0.2594</td> <td>    0.341</td> <td>    0.762</td> <td> 0.448</td> <td>   -0.416</td> <td>    0.935</td>\n",
       "</tr>\n",
       "<tr>\n",
       "  <th>d_l4</th>      <td>    0.1431</td> <td>    0.340</td> <td>    0.421</td> <td> 0.675</td> <td>   -0.531</td> <td>    0.817</td>\n",
       "</tr>\n",
       "<tr>\n",
       "  <th>d_l5</th>      <td>    0.1388</td> <td>    0.340</td> <td>    0.408</td> <td> 0.684</td> <td>   -0.536</td> <td>    0.813</td>\n",
       "</tr>\n",
       "<tr>\n",
       "  <th>d_l6</th>      <td>    0.5588</td> <td>    0.336</td> <td>    1.662</td> <td> 0.099</td> <td>   -0.108</td> <td>    1.225</td>\n",
       "</tr>\n",
       "</table>"
      ],
      "text/plain": [
       "<class 'statsmodels.iolib.table.SimpleTable'>"
      ]
     },
     "execution_count": 22,
     "metadata": {},
     "output_type": "execute_result"
    }
   ],
   "source": [
    "import statsmodels.formula.api as smf\n",
    "\n",
    "model = smf.ols(\"delivery_time ~\" + \"+\".join([f\"d_l{l}\"\n",
    "                                              for l in range(7)]),\n",
    "                data=df_lags).fit()\n",
    "\n",
    "model.summary().tables[1]"
   ]
  },
  {
   "cell_type": "code",
   "execution_count": 23,
   "id": "f7670aab",
   "metadata": {
    "ExecuteTime": {
     "end_time": "2023-05-17T10:32:43.789188Z",
     "start_time": "2023-05-17T10:32:43.785459Z"
    }
   },
   "outputs": [
    {
     "name": "stdout",
     "output_type": "stream",
     "text": [
      "tau_m: -4.751686115272022\n",
      "95% CI: [-6.5087183781545574, -2.9946538523894857]\n"
     ]
    }
   ],
   "source": [
    "## remember to remove the intercept\n",
    "tau_m_hat = model.params[1:].sum() \n",
    "se_tau_m_hat = np.sqrt((model.bse[1:]**2).sum()) \n",
    "print(\"tau_m:\", tau_m_hat)\n",
    "print(\"95% CI:\", [tau_m_hat -1.96*se_tau_m_hat,\n",
    "                  tau_m_hat +1.96*se_tau_m_hat])"
   ]
  },
  {
   "cell_type": "code",
   "execution_count": 24,
   "id": "490a7f7b",
   "metadata": {
    "ExecuteTime": {
     "end_time": "2023-05-17T10:32:43.793581Z",
     "start_time": "2023-05-17T10:32:43.790408Z"
    }
   },
   "outputs": [
    {
     "name": "stdout",
     "output_type": "stream",
     "text": [
      "tau_m: -5.8518568954422925\n",
      "95% CI: [-7.000105171362163, -4.703608619522422]\n"
     ]
    }
   ],
   "source": [
    "## selecting lags 0, 1 and 2\n",
    "tau_m_hat = model.params[1:4].sum() \n",
    "se_tau_m_hat = np.sqrt((model.bse[1:4]**2).sum()) \n",
    "print(\"tau_m:\", tau_m_hat)\n",
    "print(\"95% CI:\", [tau_m_hat -1.96*se_tau_m_hat,\n",
    "                  tau_m_hat +1.96*se_tau_m_hat])"
   ]
  },
  {
   "cell_type": "markdown",
   "id": "85b64be6",
   "metadata": {},
   "source": [
    "### Design Based Estimation\n"
   ]
  },
  {
   "cell_type": "code",
   "execution_count": 25,
   "id": "17ea55a8",
   "metadata": {
    "ExecuteTime": {
     "end_time": "2023-05-17T10:32:43.797972Z",
     "start_time": "2023-05-17T10:32:43.794785Z"
    }
   },
   "outputs": [
    {
     "data": {
      "text/plain": [
       "array([ True, False, False,  True, False, False])"
      ]
     },
     "execution_count": 25,
     "metadata": {},
     "output_type": "execute_result"
    }
   ],
   "source": [
    "rad_points_3 = np.array([True, False, False]*(2))\n",
    "rad_points_3"
   ]
  },
  {
   "cell_type": "code",
   "execution_count": 26,
   "id": "c4e1a227",
   "metadata": {
    "ExecuteTime": {
     "end_time": "2023-05-17T10:32:43.802452Z",
     "start_time": "2023-05-17T10:32:43.799531Z"
    }
   },
   "outputs": [
    {
     "data": {
      "text/plain": [
       "array([1, 1, 1, 2, 2, 2])"
      ]
     },
     "execution_count": 26,
     "metadata": {},
     "output_type": "execute_result"
    }
   ],
   "source": [
    "rad_points_3.cumsum()"
   ]
  },
  {
   "cell_type": "code",
   "execution_count": 27,
   "id": "a0e87646",
   "metadata": {
    "ExecuteTime": {
     "end_time": "2023-05-17T10:32:43.807183Z",
     "start_time": "2023-05-17T10:32:43.803781Z"
    }
   },
   "outputs": [
    {
     "data": {
      "text/plain": [
       "array([[1, 1, 1],\n",
       "       [1, 1, 2],\n",
       "       [1, 2, 2],\n",
       "       [2, 2, 2]])"
      ]
     },
     "execution_count": 27,
     "metadata": {},
     "output_type": "execute_result"
    }
   ],
   "source": [
    "from numpy.lib.stride_tricks import sliding_window_view\n",
    "\n",
    "m = 2\n",
    "sliding_window_view(rad_points_3.cumsum(), window_shape=m+1)"
   ]
  },
  {
   "cell_type": "code",
   "execution_count": 28,
   "id": "ec17f6a8",
   "metadata": {
    "ExecuteTime": {
     "end_time": "2023-05-17T10:32:43.817003Z",
     "start_time": "2023-05-17T10:32:43.814228Z"
    }
   },
   "outputs": [
    {
     "data": {
      "text/plain": [
       "array([[0, 0],\n",
       "       [0, 1],\n",
       "       [1, 0],\n",
       "       [0, 0]])"
      ]
     },
     "execution_count": 28,
     "metadata": {},
     "output_type": "execute_result"
    }
   ],
   "source": [
    "np.diff(sliding_window_view(rad_points_3.cumsum(), 3), axis=1)"
   ]
  },
  {
   "cell_type": "code",
   "execution_count": 29,
   "id": "207c8532",
   "metadata": {
    "ExecuteTime": {
     "end_time": "2023-05-17T10:32:43.821854Z",
     "start_time": "2023-05-17T10:32:43.818315Z"
    }
   },
   "outputs": [
    {
     "data": {
      "text/plain": [
       "array([nan, nan,  1.,  2.,  2.,  1.])"
      ]
     },
     "execution_count": 29,
     "metadata": {},
     "output_type": "execute_result"
    }
   ],
   "source": [
    "n_rand_windows = np.concatenate([\n",
    "    [np.nan]*m,\n",
    "    np.diff(sliding_window_view(rad_points_3.cumsum(), 3),\n",
    "            axis=1).sum(axis=1)+1\n",
    "])\n",
    "\n",
    "n_rand_windows"
   ]
  },
  {
   "cell_type": "code",
   "execution_count": 30,
   "id": "af4ba9c1",
   "metadata": {
    "ExecuteTime": {
     "end_time": "2023-05-17T10:32:43.826011Z",
     "start_time": "2023-05-17T10:32:43.823303Z"
    }
   },
   "outputs": [
    {
     "data": {
      "text/plain": [
       "array([ nan,  nan, 0.5 , 0.25, 0.25, 0.5 ])"
      ]
     },
     "execution_count": 30,
     "metadata": {},
     "output_type": "execute_result"
    }
   ],
   "source": [
    "p=0.5\n",
    "p**n_rand_windows"
   ]
  },
  {
   "cell_type": "code",
   "execution_count": 31,
   "id": "bbab7d2f",
   "metadata": {
    "ExecuteTime": {
     "end_time": "2023-05-17T10:32:43.831898Z",
     "start_time": "2023-05-17T10:32:43.827411Z"
    }
   },
   "outputs": [
    {
     "data": {
      "text/plain": [
       "array([  nan,   nan, 0.125, 0.125, 0.125, 0.125])"
      ]
     },
     "execution_count": 31,
     "metadata": {},
     "output_type": "execute_result"
    }
   ],
   "source": [
    "def compute_p(rand_points, m, p=0.5):\n",
    "    n_windows_last_m = np.concatenate([\n",
    "        [np.nan]*m,\n",
    "        np.diff(sliding_window_view(rand_points.cumsum(), m+1),\n",
    "                axis=1).sum(axis=1)+1\n",
    "    ])\n",
    "    return p**n_windows_last_m\n",
    "\n",
    "compute_p(np.ones(6)==1, 2, 0.5)"
   ]
  },
  {
   "cell_type": "code",
   "execution_count": 32,
   "id": "ebae0381",
   "metadata": {
    "ExecuteTime": {
     "end_time": "2023-05-17T10:32:43.836625Z",
     "start_time": "2023-05-17T10:32:43.833381Z"
    }
   },
   "outputs": [
    {
     "data": {
      "text/plain": [
       "array([ nan,  nan, 0.5 , 0.25, 0.25, 0.25, 0.25])"
      ]
     },
     "execution_count": 32,
     "metadata": {},
     "output_type": "execute_result"
    }
   ],
   "source": [
    "rand_points = np.array([True, False, False, True, False, True, False])\n",
    "compute_p(rand_points, 2, 0.5)"
   ]
  },
  {
   "cell_type": "code",
   "execution_count": 33,
   "id": "a6951c64",
   "metadata": {
    "ExecuteTime": {
     "end_time": "2023-05-17T10:32:43.841438Z",
     "start_time": "2023-05-17T10:32:43.838103Z"
    }
   },
   "outputs": [
    {
     "name": "stdout",
     "output_type": "stream",
     "text": [
      "[nan nan  1.  0.  0.  0.]\n",
      "[nan nan  0.  0.  0.  1.]\n"
     ]
    }
   ],
   "source": [
    "def last_m_d_equal(d_vec, d, m):\n",
    "    return np.concatenate([\n",
    "        [np.nan]*m,\n",
    "        (sliding_window_view(d_vec, m+1)==d).all(axis=1)\n",
    "    ])\n",
    "\n",
    "print(last_m_d_equal([1, 1, 1, 0, 0, 0], 1, m=2))\n",
    "print(last_m_d_equal([1, 1, 1, 0, 0, 0], 0, m=2))"
   ]
  },
  {
   "cell_type": "code",
   "execution_count": 34,
   "id": "9aa61e6f",
   "metadata": {
    "ExecuteTime": {
     "end_time": "2023-05-17T10:32:43.845747Z",
     "start_time": "2023-05-17T10:32:43.842807Z"
    }
   },
   "outputs": [],
   "source": [
    "def ipw_switchback(d, y, rand_points, m, p=0.5):\n",
    "    \n",
    "    p_last_m_equal_1 = compute_p(rand_points, m=m, p=p)\n",
    "    p_last_m_equal_0 = compute_p(rand_points, m=m, p=1-p)\n",
    "    \n",
    "    last_m_is_1 = last_m_d_equal(d,1,m)\n",
    "    last_m_is_0 = last_m_d_equal(d,0,m)\n",
    "  \n",
    "    y1_rec = y*last_m_is_1/p_last_m_equal_1\n",
    "    y0_rec = y*last_m_is_0/p_last_m_equal_0\n",
    "    \n",
    "    return np.mean((y1_rec-y0_rec)[m:])"
   ]
  },
  {
   "cell_type": "code",
   "execution_count": 35,
   "id": "b43bb38f",
   "metadata": {
    "ExecuteTime": {
     "end_time": "2023-05-17T10:32:43.850941Z",
     "start_time": "2023-05-17T10:32:43.847008Z"
    }
   },
   "outputs": [
    {
     "data": {
      "text/plain": [
       "-7.426440677966101"
      ]
     },
     "execution_count": 35,
     "metadata": {},
     "output_type": "execute_result"
    }
   ],
   "source": [
    "ipw_switchback(df[\"d\"],\n",
    "               df[\"delivery_time\"],\n",
    "               np.ones(len(df))==1,\n",
    "               m=2, p=0.5)"
   ]
  },
  {
   "cell_type": "code",
   "execution_count": 36,
   "id": "8161b47c",
   "metadata": {
    "ExecuteTime": {
     "end_time": "2023-05-17T10:32:46.415270Z",
     "start_time": "2023-05-17T10:32:43.852488Z"
    },
    "tags": [
     "hide-input"
    ]
   },
   "outputs": [
    {
     "data": {
      "text/plain": [
       "<matplotlib.legend.Legend at 0x7fc3503a9790>"
      ]
     },
     "execution_count": 36,
     "metadata": {},
     "output_type": "execute_result"
    },
    {
     "data": {
      "image/png": "[encoded data removed]",
      "text/plain": [
       "<Figure size 576x288 with 2 Axes>"
      ]
     },
     "metadata": {
      "needs_background": "light"
     },
     "output_type": "display_data"
    }
   ],
   "source": [
    "from matplotlib import pyplot as plt\n",
    "from statsmodels.tsa.arima_process import ArmaProcess\n",
    "\n",
    "\n",
    "def gen_d(rand_points, p):\n",
    "    result = [np.random.binomial(1, p)]\n",
    "    \n",
    "    for t in rand_points[1:]:\n",
    "        result.append(np.random.binomial(1, p)*t + (1-t)*result[-1])\n",
    "    \n",
    "    return np.array(result)\n",
    "\n",
    "\n",
    "def y_given_d(d, effect_params, T, seed=None):\n",
    "    np.random.seed(seed) if not seed is None else None\n",
    "    x = np.arange(1, T+1)\n",
    "    return (np.log(x+1)\n",
    "            + 2*np.sin(x*2*np.pi/24)\n",
    "            + np.convolve(~d.astype(bool), effect_params)[:-(len(effect_params)-1)]\n",
    "            + ArmaProcess([3,2,1], 12).generate_sample(T)).round(2)\n",
    "\n",
    "\n",
    "\n",
    "def gen_data_rand_every():\n",
    "    effect_params = [3,2,1]\n",
    "    T=120\n",
    "    p=0.5\n",
    "    m=2\n",
    "    \n",
    "    d = np.random.binomial(1, 0.5, T)\n",
    "    y = y_given_d(d, [3,2,1], T)\n",
    "    rand_points = np.ones(T)==1\n",
    "    \n",
    "    return pd.DataFrame(dict(d=d, y=y, rand_points=rand_points))\n",
    "\n",
    "\n",
    "def tau_ols(df):\n",
    "    df_lags = df.assign(**{\n",
    "        f\"d_l{l}\" : df[\"d\"].shift(l) for l in range(3)\n",
    "    })\n",
    "    model = smf.ols(\"y ~\" + \"+\".join([f\"d_l{l}\" for l in range(3)]),data=df_lags).fit()\n",
    "    return model.params[1:].sum()\n",
    "\n",
    "def tau_ipw(df):\n",
    "    return ipw_switchback(df[\"d\"],\n",
    "                          df[\"y\"],\n",
    "                          df[\"rand_points\"],\n",
    "                          m=2, p=0.5)\n",
    "    \n",
    "\n",
    "    \n",
    "np.random.seed(123)\n",
    "exps_dfs = [gen_data_rand_every() for _ in range(500)]\n",
    "\n",
    "fig, (ax1, ax2) = plt.subplots(2, 1, sharex=True, figsize=(8, 4))\n",
    "ols_taus = list(map(tau_ols, exps_dfs))\n",
    "ax1.hist(ols_taus, label=\"OLS tau\", color=\"0.5\")\n",
    "ax1.vlines(-6, 0, 120, color=\"0\", label=\"True tau\")\n",
    "ax1.legend()\n",
    "\n",
    "ipw_taus = list(map(tau_ipw, exps_dfs))\n",
    "ax2.hist(ipw_taus, label=\"IPW tau\", color=\"0.5\");\n",
    "ax2.vlines(-6, 0, 120,  color=\"0\")\n",
    "ax2.legend()\n"
   ]
  },
  {
   "cell_type": "markdown",
   "id": "2ab31b80",
   "metadata": {},
   "source": [
    "### Optimal Switchback Design\n"
   ]
  },
  {
   "cell_type": "code",
   "execution_count": 37,
   "id": "e6e20cc3",
   "metadata": {
    "ExecuteTime": {
     "end_time": "2023-05-17T10:32:46.421046Z",
     "start_time": "2023-05-17T10:32:46.417019Z"
    }
   },
   "outputs": [
    {
     "data": {
      "text/plain": [
       "array([1, 0, 0, 0, 1, 0, 1, 0, 1, 0, 0, 0])"
      ]
     },
     "execution_count": 37,
     "metadata": {},
     "output_type": "execute_result"
    }
   ],
   "source": [
    "m = 2\n",
    "T = 12\n",
    "n = T/m\n",
    "np.isin(\n",
    "    np.arange(1, T+1),\n",
    "    [1] + [i*m+1 for i in range(2, int(n)-1)]\n",
    ")*1"
   ]
  },
  {
   "cell_type": "code",
   "execution_count": 38,
   "id": "ef05c2bc",
   "metadata": {
    "ExecuteTime": {
     "end_time": "2023-05-17T10:32:46.426064Z",
     "start_time": "2023-05-17T10:32:46.422419Z"
    }
   },
   "outputs": [
    {
     "data": {
      "text/plain": [
       "array([1, 0, 0, 0, 0, 0, 1, 0, 0, 1, 0, 0, 0, 0, 0])"
      ]
     },
     "execution_count": 38,
     "metadata": {},
     "output_type": "execute_result"
    }
   ],
   "source": [
    "m = 3\n",
    "T = 15\n",
    "n = T/m\n",
    "np.isin(\n",
    "    np.arange(1, T+1),\n",
    "    [1] + [i*m+1 for i in range(2, int(n)-1)]\n",
    ")*1"
   ]
  },
  {
   "cell_type": "code",
   "execution_count": 39,
   "id": "165d9236",
   "metadata": {
    "ExecuteTime": {
     "end_time": "2023-05-17T10:32:48.844088Z",
     "start_time": "2023-05-17T10:32:46.427594Z"
    },
    "tags": [
     "hide-input"
    ]
   },
   "outputs": [],
   "source": [
    "def gen_d(rand_points, p):\n",
    "    result = [np.random.binomial(1, p)]\n",
    "    \n",
    "    for t in rand_points[1:]:\n",
    "        result.append(np.random.binomial(1, p)*t + (1-t)*result[-1])\n",
    "    \n",
    "    return np.array(result)\n",
    "\n",
    "T = 120\n",
    "m = 2\n",
    "\n",
    "def gen_exp(rand_points, T):\n",
    "    effect_params = [3,2,1]\n",
    "    p=0.5\n",
    "    \n",
    "    d = gen_d(rand_points, p=p)\n",
    "    y = y_given_d(d, [3,2,1], T)\n",
    "\n",
    "    return pd.DataFrame(dict(d=d, y=y, rand_points=rand_points))\n",
    "\n",
    "\n",
    "every_1 = np.array([True]*T)\n",
    "every_3 = np.array([True, False, False]*(T//3))\n",
    "n = T//m\n",
    "opt = np.isin(\n",
    "    np.arange(1, T+1),\n",
    "    [1] + [i*m+1 for i in range(2, int(n)-1)]\n",
    ")\n",
    "\n",
    "np.random.seed(123)\n",
    "exps_every_1 = [gen_exp(every_1, T) for _ in range(1000)]\n",
    "exps_every_3 = [gen_exp(every_3, T) for _ in range(1000)]\n",
    "exps_opt = [gen_exp(opt, T) for _ in range(1000)]"
   ]
  },
  {
   "cell_type": "code",
   "execution_count": 40,
   "id": "c1ef305e",
   "metadata": {
    "ExecuteTime": {
     "end_time": "2023-05-17T10:32:50.893740Z",
     "start_time": "2023-05-17T10:32:48.845325Z"
    },
    "tags": [
     "hide-input"
    ]
   },
   "outputs": [
    {
     "data": {
      "image/png": "[encoded data removed]",
      "text/plain": [
       "<Figure size 864x432 with 3 Axes>"
      ]
     },
     "metadata": {
      "needs_background": "light"
     },
     "output_type": "display_data"
    }
   ],
   "source": [
    "fig, axs = plt.subplots(3, 1, sharex=True, figsize=(12, 6))\n",
    "ax1, ax2, ax3 = axs.ravel()\n",
    "\n",
    "taus_every_1_ipw = list(map(tau_ipw, exps_every_1))\n",
    "ax1.hist(taus_every_1_ipw, label=\"Every Period\", color=\"0.5\")\n",
    "ax1.set_title(f\"Var={np.round(np.var(taus_every_1_ipw), 2)}\")\n",
    "ax1.legend()\n",
    "\n",
    "\n",
    "taus_every_3_ipw = list(map(tau_ipw, exps_every_3))\n",
    "ax2.hist(taus_every_3_ipw, label=\"Every 3 Periods\", color=\"0.5\");\n",
    "ax2.set_title(f\"Var={np.round(np.var(taus_every_3_ipw), 2)}\")\n",
    "ax2.legend()\n",
    "\n",
    "taus_opt_ipw = list(map(tau_ipw, exps_opt))\n",
    "ax3.hist(taus_opt_ipw, label=\"Optimal Design\", color=\"0.5\");\n",
    "ax3.set_title(f\"Var={np.round(np.var(taus_opt_ipw), 2)}\")\n",
    "ax3.legend()\n",
    "\n",
    "plt.tight_layout()"
   ]
  },
  {
   "cell_type": "markdown",
   "id": "2c8ad207",
   "metadata": {
    "ExecuteTime": {
     "end_time": "2023-02-05T11:56:13.934223Z",
     "start_time": "2023-02-05T11:56:13.931098Z"
    }
   },
   "source": [
    "### Robust Variance\n"
   ]
  },
  {
   "cell_type": "code",
   "execution_count": 41,
   "id": "b9964280",
   "metadata": {
    "ExecuteTime": {
     "end_time": "2023-05-17T10:32:50.901893Z",
     "start_time": "2023-05-17T10:32:50.895125Z"
    }
   },
   "outputs": [
    {
     "data": {
      "text/html": [
       "<div>\n",
       "<style scoped>\n",
       "    .dataframe tbody tr th:only-of-type {\n",
       "        vertical-align: middle;\n",
       "    }\n",
       "\n",
       "    .dataframe tbody tr th {\n",
       "        vertical-align: top;\n",
       "    }\n",
       "\n",
       "    .dataframe thead th {\n",
       "        text-align: right;\n",
       "    }\n",
       "</style>\n",
       "<table border=\"1\" class=\"dataframe\">\n",
       "  <thead>\n",
       "    <tr style=\"text-align: right;\">\n",
       "      <th></th>\n",
       "      <th>rand_points</th>\n",
       "      <th>d</th>\n",
       "      <th>delivery_time</th>\n",
       "    </tr>\n",
       "  </thead>\n",
       "  <tbody>\n",
       "    <tr>\n",
       "      <th>0</th>\n",
       "      <td>True</td>\n",
       "      <td>0</td>\n",
       "      <td>5.84</td>\n",
       "    </tr>\n",
       "    <tr>\n",
       "      <th>1</th>\n",
       "      <td>False</td>\n",
       "      <td>0</td>\n",
       "      <td>5.40</td>\n",
       "    </tr>\n",
       "    <tr>\n",
       "      <th>2</th>\n",
       "      <td>False</td>\n",
       "      <td>0</td>\n",
       "      <td>8.86</td>\n",
       "    </tr>\n",
       "    <tr>\n",
       "      <th>3</th>\n",
       "      <td>False</td>\n",
       "      <td>0</td>\n",
       "      <td>8.79</td>\n",
       "    </tr>\n",
       "    <tr>\n",
       "      <th>4</th>\n",
       "      <td>True</td>\n",
       "      <td>0</td>\n",
       "      <td>10.93</td>\n",
       "    </tr>\n",
       "    <tr>\n",
       "      <th>5</th>\n",
       "      <td>False</td>\n",
       "      <td>0</td>\n",
       "      <td>7.02</td>\n",
       "    </tr>\n",
       "  </tbody>\n",
       "</table>\n",
       "</div>"
      ],
      "text/plain": [
       "   rand_points  d  delivery_time\n",
       "0         True  0           5.84\n",
       "1        False  0           5.40\n",
       "2        False  0           8.86\n",
       "3        False  0           8.79\n",
       "4         True  0          10.93\n",
       "5        False  0           7.02"
      ]
     },
     "execution_count": 41,
     "metadata": {},
     "output_type": "execute_result"
    }
   ],
   "source": [
    "df_opt = pd.read_csv(\"./data/sb_exp_opt.csv\")\n",
    "df_opt.head(6)"
   ]
  },
  {
   "cell_type": "code",
   "execution_count": 42,
   "id": "4d256e26",
   "metadata": {
    "ExecuteTime": {
     "end_time": "2023-05-17T10:32:50.907700Z",
     "start_time": "2023-05-17T10:32:50.903196Z"
    }
   },
   "outputs": [
    {
     "data": {
      "text/plain": [
       "-9.921016949152545"
      ]
     },
     "execution_count": 42,
     "metadata": {},
     "output_type": "execute_result"
    }
   ],
   "source": [
    "tau_hat = ipw_switchback(df_opt[\"d\"],\n",
    "                         df_opt[\"delivery_time\"],\n",
    "                         df_opt[\"rand_points\"],\n",
    "                         m=2, p=0.5)\n",
    "\n",
    "tau_hat"
   ]
  },
  {
   "cell_type": "code",
   "execution_count": 43,
   "id": "68a6edc4",
   "metadata": {
    "ExecuteTime": {
     "end_time": "2023-05-17T10:32:50.911916Z",
     "start_time": "2023-05-17T10:32:50.908998Z"
    }
   },
   "outputs": [
    {
     "data": {
      "text/plain": [
       "array([[1, 1],\n",
       "       [1, 2],\n",
       "       [2, 3]])"
      ]
     },
     "execution_count": 43,
     "metadata": {},
     "output_type": "execute_result"
    }
   ],
   "source": [
    "np.vstack(np.hsplit(np.array([1,1,1,2,2,3]), 3))"
   ]
  },
  {
   "cell_type": "code",
   "execution_count": 44,
   "id": "fc086811",
   "metadata": {
    "ExecuteTime": {
     "end_time": "2023-05-17T10:32:50.916370Z",
     "start_time": "2023-05-17T10:32:50.913175Z"
    }
   },
   "outputs": [
    {
     "data": {
      "text/plain": [
       "array([False,  True])"
      ]
     },
     "execution_count": 44,
     "metadata": {},
     "output_type": "execute_result"
    }
   ],
   "source": [
    "np.diff(np.vstack(np.hsplit(np.array([1,1,0,0,0,0]), 3))[:, 0]) == 0"
   ]
  },
  {
   "cell_type": "code",
   "execution_count": 45,
   "id": "e3e2d950",
   "metadata": {
    "ExecuteTime": {
     "end_time": "2023-05-17T10:32:50.921232Z",
     "start_time": "2023-05-17T10:32:50.917674Z"
    }
   },
   "outputs": [],
   "source": [
    "def var_opt_design(d_opt, y_opt, T, m):\n",
    "    \n",
    "    assert ((T//m == T/m)\n",
    "            & (T//m >= 4)), \"T must be divisible by m and T/m >= 4\"\n",
    "    \n",
    "    # discard 1st block\n",
    "    y_m_blocks = np.vstack(np.hsplit(y_opt, int(T/m))).sum(axis=1)[1:]\n",
    "    \n",
    "    # take 1st column\n",
    "    d_m_blocks = np.vstack(np.split(d_opt, int(T/m))[1:])[:, 0] \n",
    "    \n",
    "    return (\n",
    "        8*y_m_blocks[0]**2 \n",
    "        + (32*y_m_blocks[1:-1]**2*(np.diff(d_m_blocks)==0)[:-1]).sum()\n",
    "        + 8*y_m_blocks[-1]**2 \n",
    "    ) / (T-m)**2"
   ]
  },
  {
   "cell_type": "code",
   "execution_count": 46,
   "id": "1acee734",
   "metadata": {
    "ExecuteTime": {
     "end_time": "2023-05-17T10:32:50.931116Z",
     "start_time": "2023-05-17T10:32:50.922346Z"
    }
   },
   "outputs": [
    {
     "data": {
      "text/plain": [
       "[-18.490627362048095, -1.351406536256997]"
      ]
     },
     "execution_count": 46,
     "metadata": {},
     "output_type": "execute_result"
    }
   ],
   "source": [
    "se_hat = np.sqrt(var_opt_design(df_opt[\"d\"],\n",
    "                                df_opt[\"delivery_time\"],\n",
    "                                T=120, m=2))\n",
    "\n",
    "[tau_hat - 1.96*se_hat, tau_hat + 1.96*se_hat]"
   ]
  },
  {
   "cell_type": "markdown",
   "id": "0a6afcdb",
   "metadata": {},
   "source": [
    "## Key Ideas\n"
   ]
  },
  {
   "cell_type": "code",
   "execution_count": null,
   "id": "2ec71b0d",
   "metadata": {},
   "outputs": [],
   "source": []
  }
 ],
 "metadata": {
  "celltoolbar": "Tags",
  "kernelspec": {
   "display_name": "Python [conda env:root] *",
   "language": "python",
   "name": "conda-root-py"
  },
  "language_info": {
   "codemirror_mode": {
    "name": "ipython",
    "version": 3
   },
   "file_extension": ".py",
   "mimetype": "text/x-python",
   "name": "python",
   "nbconvert_exporter": "python",
   "pygments_lexer": "ipython3",
   "version": "3.7.12"
  },
  "toc": {
   "base_numbering": 1,
   "nav_menu": {},
   "number_sections": true,
   "sideBar": true,
   "skip_h1_title": false,
   "title_cell": "Table of Contents",
   "title_sidebar": "Contents",
   "toc_cell": false,
   "toc_position": {},
   "toc_section_display": true,
   "toc_window_display": false
  },
  "varInspector": {
   "cols": {
    "lenName": 16,
    "lenType": 16,
    "lenVar": 40
   },
   "kernels_config": {
    "python": {
     "delete_cmd_postfix": "",
     "delete_cmd_prefix": "del ",
     "library": "var_list.py",
     "varRefreshCmd": "print(var_dic_list())"
    },
    "r": {
     "delete_cmd_postfix": ") ",
     "delete_cmd_prefix": "rm(",
     "library": "var_list.r",
     "varRefreshCmd": "cat(var_dic_list()) "
    }
   },
   "types_to_exclude": [
    "module",
    "function",
    "builtin_function_or_method",
    "instance",
    "_Feature"
   ],
   "window_display": false
  }
 },
 "nbformat": 4,
 "nbformat_minor": 5
}
