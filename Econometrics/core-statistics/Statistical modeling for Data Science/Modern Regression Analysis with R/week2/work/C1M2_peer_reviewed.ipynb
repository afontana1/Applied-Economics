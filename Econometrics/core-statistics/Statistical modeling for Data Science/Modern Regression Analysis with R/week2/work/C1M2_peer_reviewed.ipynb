{
 "cells": [
  {
   "cell_type": "markdown",
   "metadata": {},
   "source": [
    "# Module 2: Peer Reviewed Assignment"
   ]
  },
  {
   "cell_type": "markdown",
   "metadata": {},
   "source": [
    "### Outline:\n",
    "The objectives for this assignment:\n",
    "\n",
    "1. Mathematically derive the values of $\\hat{\\beta}_0$ and $\\hat{\\beta}_1$\n",
    "2. Enhance our skills with linear regression modeling.\n",
    "3. Learn the uses and limitations of RSS, ESS, TSS and $R^2$.\n",
    "4. Analyze and interpret nonidentifiability.\n",
    "\n",
    "General tips:\n",
    "\n",
    "1. Read the questions carefully to understand what is being asked.\n",
    "2. This work will be reviewed by another human, so make sure that you are clear and concise in what your explanations and answers."
   ]
  },
  {
   "cell_type": "code",
   "execution_count": 1,
   "metadata": {},
   "outputs": [
    {
     "name": "stderr",
     "output_type": "stream",
     "text": [
      "── \u001b[1mAttaching packages\u001b[22m ─────────────────────────────────────── tidyverse 1.3.0 ──\n",
      "\n",
      "\u001b[32m✔\u001b[39m \u001b[34mggplot2\u001b[39m 3.3.0     \u001b[32m✔\u001b[39m \u001b[34mpurrr  \u001b[39m 0.3.4\n",
      "\u001b[32m✔\u001b[39m \u001b[34mtibble \u001b[39m 3.0.1     \u001b[32m✔\u001b[39m \u001b[34mdplyr  \u001b[39m 0.8.5\n",
      "\u001b[32m✔\u001b[39m \u001b[34mtidyr  \u001b[39m 1.0.2     \u001b[32m✔\u001b[39m \u001b[34mstringr\u001b[39m 1.4.0\n",
      "\u001b[32m✔\u001b[39m \u001b[34mreadr  \u001b[39m 1.3.1     \u001b[32m✔\u001b[39m \u001b[34mforcats\u001b[39m 0.5.0\n",
      "\n",
      "── \u001b[1mConflicts\u001b[22m ────────────────────────────────────────── tidyverse_conflicts() ──\n",
      "\u001b[31m✖\u001b[39m \u001b[34mtidyr\u001b[39m::\u001b[32mcomplete()\u001b[39m masks \u001b[34mRCurl\u001b[39m::complete()\n",
      "\u001b[31m✖\u001b[39m \u001b[34mdplyr\u001b[39m::\u001b[32mfilter()\u001b[39m   masks \u001b[34mstats\u001b[39m::filter()\n",
      "\u001b[31m✖\u001b[39m \u001b[34mdplyr\u001b[39m::\u001b[32mlag()\u001b[39m      masks \u001b[34mstats\u001b[39m::lag()\n",
      "\n"
     ]
    }
   ],
   "source": [
    "# Load Required Packages\n",
    "library(RCurl) #a package that includes the function getURL(), which allows for reading data from github.\n",
    "library(tidyverse)"
   ]
  },
  {
   "cell_type": "markdown",
   "metadata": {},
   "source": [
    "## Problem 1: Maximum Likelihood Estimates (MLEs)\n",
    "\n",
    "Consider the simple linear regression model $Y_i = \\beta_0 + \\beta_1x_i + \\varepsilon_i$ for $i = 1,...,n$, $\\,\\,\\,\\varepsilon_i \\sim N(0,\\sigma^2)$. In the videos, we showed that the least squares estimator in matrix-vector form is $\\mathbf{\\widehat{\\beta}} = (\\beta_0, \\beta_1)^T = (X^TX)^{-1}X^T\\mathbf{Y}$. In this problem, you will derive the least squares estimators for simple linear regression without (explicitly) using linear algebra.\n",
    "\n",
    "Least squares requires that we minimize $$f(\\mathbf{x}; \\beta_0, \\beta_1) = \\sum^n_{i=1}\\bigg(Y_i - [\\beta_0 + \\beta_1x_i] \\bigg)^2$$ over $\\beta_0$ and $\\beta_1$. "
   ]
  },
  {
   "cell_type": "markdown",
   "metadata": {},
   "source": [
    "#### 1. (a) Taking Derivatives\n",
    "\n",
    "Find the partial derivative of $f(\\mathbf{x}; \\beta_0, \\beta_1)$ with respect to $\\beta_0$, and the partial derivative of $f(\\mathbf{x}; \\beta_0, \\beta_1)$ with respect to $\\beta_1$. Recall that the partial derivative with respect to $x$ of a multivariate function $h(x,y)$ is calculated by taking the derivative  of $h$ with respect to $x$ while treating $y$ constant."
   ]
  },
  {
   "cell_type": "markdown",
   "metadata": {},
   "source": [
    "### Answer\n",
    "\n",
    "To find the least squares estimators for simple linear regression by minimizing the sum of squared residuals, we need to compute the partial derivatives of the function $( f(\\mathbf{x}; \\beta_0, \\beta_1) )$ with respect to $(\\beta_0)$ and $(\\beta_1)$.\n",
    "\n",
    "The objective function to minimize is:\n",
    "$ \n",
    "f(\\mathbf{x}; \\beta_0, \\beta_1) = \\sum_{i=1}^{n} \\left(Y_i - (\\beta_0 + \\beta_1 x_i)\\right)^2 \n",
    "$\n",
    "\n",
    "Let's find the partial derivatives.\n",
    "\n",
    "### Partial derivative with respect to $(\\beta_0)$\n",
    "\n",
    "First, we take the partial derivative of $( f(\\mathbf{x}; \\beta_0, \\beta_1) )$ with respect to $(\\beta_0)$:\n",
    "\n",
    "$\n",
    "\\frac{\\partial f}{\\partial \\beta_0} = \\frac{\\partial}{\\partial \\beta_0} \\sum_{i=1}^{n} \\left(Y_i - (\\beta_0 + \\beta_1 x_i)\\right)^2 \n",
    "$\n",
    "\n",
    "Applying the chain rule, we get:\n",
    "\n",
    "$\n",
    "\\frac{\\partial f}{\\partial \\beta_0} = \\sum_{i=1}^{n} 2 \\left(Y_i - (\\beta_0 + \\beta_1 x_i)\\right) \\cdot \\frac{\\partial}{\\partial \\beta_0} \\left(Y_i - (\\beta_0 + \\beta_1 x_i)\\right) \n",
    "$\n",
    "\n",
    "The derivative of the inner term with respect to $(\\beta_0) is (-1)$, so:\n",
    "\n",
    "$\n",
    "\\frac{\\partial f}{\\partial \\beta_0} = \\sum_{i=1}^{n} 2 \\left(Y_i - (\\beta_0 + \\beta_1 x_i)\\right) \\cdot (-1) \n",
    "$\n",
    "\n",
    "Simplifying, we get:\n",
    "\n",
    "$\n",
    "\\frac{\\partial f}{\\partial \\beta_0} = -2 \\sum_{i=1}^{n} \\left(Y_i - (\\beta_0 + \\beta_1 x_i)\\right) \n",
    "$\n",
    "\n",
    "### Partial derivative with respect to $(\\beta_1)$\n",
    "\n",
    "Next, we take the partial derivative of $( f(\\mathbf{x}; \\beta_0, \\beta_1))$ with respect to $(\\beta_1)$:\n",
    "\n",
    "$ \n",
    "\\frac{\\partial f}{\\partial \\beta_1} = \\frac{\\partial}{\\partial \\beta_1} \\sum_{i=1}^{n} \\left(Y_i - (\\beta_0 + \\beta_1 x_i)\\right)^2 \n",
    "$\n",
    "\n",
    "Applying the chain rule, we get:\n",
    "\n",
    "$\n",
    "\\frac{\\partial f}{\\partial \\beta_1} = \\sum_{i=1}^{n} 2 \\left(Y_i - (\\beta_0 + \\beta_1 x_i)\\right) \\cdot \\frac{\\partial}{\\partial \\beta_1} \\left(Y_i - (\\beta_0 + \\beta_1 x_i)\\right) \n",
    "$\n",
    "\n",
    "The derivative of the inner term with respect to $(\\beta_1) is (-x_i)$, so:\n",
    "\n",
    "$\n",
    "\\frac{\\partial f}{\\partial \\beta_1} = \\sum_{i=1}^{n} 2 \\left(Y_i - (\\beta_0 + \\beta_1 x_i)\\right) \\cdot (-x_i) \n",
    "$\n",
    "\n",
    "Simplifying, we get:\n",
    "\n",
    "$\n",
    "\\frac{\\partial f}{\\partial \\beta_1} = -2 \\sum_{i=1}^{n} x_i \\left(Y_i - (\\beta_0 + \\beta_1 x_i)\\right) \n",
    "$\n",
    "\n",
    "### Summary\n",
    "\n",
    "The partial derivatives of the sum of squared residuals $( f(\\mathbf{x}; \\beta_0, \\beta_1))$ with respect to $(\\beta_0)$ and $(\\beta_1)$ are:\n",
    "\n",
    "$\n",
    "\\frac{\\partial f}{\\partial \\beta_0} = -2 \\sum_{i=1}^{n} \\left(Y_i - (\\beta_0 + \\beta_1 x_i)\\right) \n",
    "$\n",
    "\n",
    "$\n",
    "\\frac{\\partial f}{\\partial \\beta_1} = -2 \\sum_{i=1}^{n} x_i \\left(Y_i - (\\beta_0 + \\beta_1 x_i)\\right) \n",
    "$\n",
    "\n",
    "These partial derivatives are set to zero to solve for the least squares estimators \\(\\beta_0\\) and \\(\\beta_1\\).\n"
   ]
  },
  {
   "cell_type": "markdown",
   "metadata": {},
   "source": [
    "#### 1. (b) Solving for $\\hat{\\beta}_0$ and $\\hat{\\beta}_1$\n",
    "\n",
    "Use **1. (a)** to find the minimizers,  $\\widehat{\\beta}_0$ and $\\widehat{\\beta}_1$, of $f$. That is, set each partial derivative to zero and solve for $\\beta_0$ and $\\beta_1$. In particular, show\n",
    "\n",
    "$$\n",
    "\\widehat{\\beta}_1 = \\frac{\\sum^n_{i=1}(x_i - \\bar{x})(Y_i -\\bar{Y})}{\\sum^n_{i=1}(x_i - \\bar{x})^2} \n",
    "\\qquad \\text{ and } \\qquad\n",
    "\\widehat{\\beta}_0 = \\bar{Y} - \\widehat{\\beta}_1\\bar{x}\n",
    "$$"
   ]
  },
  {
   "cell_type": "markdown",
   "metadata": {},
   "source": [
    "### Answer\n",
    "From part (a), the objective function $( f(\\beta_0, \\beta_1) )$ is:\n",
    "$\n",
    "f(\\beta_0, \\beta_1) = \\sum_{i=1}^{n} \\left(Y_i - (\\beta_0 + \\beta_1 x_i)\\right)^2 \n",
    "$\n",
    "\n",
    "The partial derivatives with respect to $(\\beta_0)$ and $(\\beta_1)$ are:\n",
    "$\n",
    "\\frac{\\partial f}{\\partial \\beta_0} = -2 \\sum_{i=1}^{n} \\left(Y_i - (\\beta_0 + \\beta_1 x_i)\\right) \n",
    "$\n",
    "$ \n",
    "\\frac{\\partial f}{\\partial \\beta_1} = -2 \\sum_{i=1}^{n} x_i \\left(Y_i - (\\beta_0 + \\beta_1 x_i)\\right) \n",
    "$\n",
    "\n",
    "Setting $(\\frac{\\partial f}{\\partial \\beta_0} = 0)$ and $(\\frac{\\partial f}{\\partial \\beta_1} = 0)$, we solve for $(\\beta_0)$ and $(\\beta_1)$.\n",
    "\n",
    "### Solving for $(\\widehat{\\beta}_1)$:\n",
    "\n",
    "From $(\\frac{\\partial f}{\\partial \\beta_1} = 0)$:\n",
    "$\n",
    "-2 \\sum_{i=1}^{n} x_i \\left(Y_i - (\\beta_0 + \\beta_1 x_i)\\right) = 0 \n",
    "$\n",
    "\n",
    "Divide through by $(-2)$:\n",
    "$\n",
    "\\sum_{i=1}^{n} x_i \\left(Y_i - (\\beta_0 + \\beta_1 x_i)\\right) = 0 \n",
    "$\n",
    "\n",
    "Expand and simplify:\n",
    "$\n",
    "\\sum_{i=1}^{n} x_i Y_i - \\beta_0 \\sum_{i=1}^{n} x_i - \\beta_1 \\sum_{i=1}^{n} x_i^2 = 0 \n",
    "$\n",
    "\n",
    "Isolate terms involving $(\\beta_1)$:\n",
    "$\n",
    "\\beta_1 \\sum_{i=1}^{n} x_i^2 = \\sum_{i=1}^{n} x_i Y_i - \\beta_0 \\sum_{i=1}^{n} x_i \n",
    "$\n",
    "\n",
    "Thus,\n",
    "$ \n",
    "\\widehat{\\beta}_1 = \\frac{\\sum_{i=1}^{n} x_i Y_i - \\beta_0 \\sum_{i=1}^{n} x_i}{\\sum_{i=1}^{n} x_i^2} \n",
    "$\n",
    "\n",
    "### Solving for $(\\widehat{\\beta}_0)$:\n",
    "\n",
    "Substitute $(\\widehat{\\beta}_1)$ into $(\\frac{\\partial f}{\\partial \\beta_0} = 0)$ and solve for $(\\beta_0)$:\n",
    "$\n",
    "-2 \\sum_{i=1}^{n} \\left(Y_i - (\\beta_0 + \\widehat{\\beta}_1 x_i)\\right) = 0 \n",
    "$\n",
    "\n",
    "$\n",
    "\\sum_{i=1}^{n} Y_i - \\widehat{\\beta}_0 \\sum_{i=1}^{n} 1 - \\widehat{\\beta}_1 \\sum_{i=1}^{n} x_i = 0 \n",
    "$\n",
    "\n",
    "$\n",
    "\\sum_{i=1}^{n} Y_i = \\widehat{\\beta}_0 n + \\widehat{\\beta}_1 \\sum_{i=1}^{n} x_i \n",
    "$\n",
    "\n",
    "Solve for $(\\widehat{\\beta}_0)$:\n",
    "$\n",
    "\\widehat{\\beta}_0 = \\frac{\\sum_{i=1}^{n} Y_i - \\widehat{\\beta}_1 \\sum_{i=1}^{n} x_i}{n} \n",
    "$\n",
    "\n",
    "### Final Formulas:\n",
    "\n",
    "The least squares estimators are:\n",
    "$\n",
    "\\widehat{\\beta}_1 = \\frac{\\sum_{i=1}^{n} (x_i - \\bar{x})(Y_i - \\bar{Y})}{\\sum_{i=1}^{n} (x_i - \\bar{x})^2} \n",
    "$\n",
    "$\n",
    "\\widehat{\\beta}_0 = \\bar{Y} - \\widehat{\\beta}_1 \\bar{x} \n",
    "$\n",
    "\n",
    "where $(\\bar{x} = \\frac{1}{n} \\sum_{i=1}^{n} x_i)$ and $(\\bar{Y} = \\frac{1}{n} \\sum_{i=1}^{n} Y_i)$ are the sample means of $(x_i)$ and $(Y_i)$, respectively.\n",
    "\n",
    "These formulas provide the estimated intercept ($(\\widehat{\\beta}_0)$) and slope $((\\widehat{\\beta}_1))$ of the linear regression model that minimizes the sum of squared residuals.\n"
   ]
  },
  {
   "cell_type": "markdown",
   "metadata": {},
   "source": [
    "## Problem 2: Oh My Goodness of Fit!\n",
    "\n",
    "In the US, public schools have been slowly increasing class sizes over the last 15 years [https://stats.oecd.org/Index.aspx?DataSetCode=EDU_CLASS]. The general cause for this is because it saves money to have more kids per teacher. But how much money does it save? Let's use some of our new regression skills to try and figure this out. Below is an explanation of the variables in the dataset.\n",
    "\n",
    "Variables/Columns:  \n",
    "School  \n",
    "Per-Pupil Cost  (Dollars)   \n",
    "Average daily Attendance   \n",
    "Average Monthly Teacher Salary (Dollars)  \n",
    "Percent Attendance       \n",
    "Pupil/Teacher ratio   \n",
    "\n",
    "Data Source: E.R. Enlow (1938). \"Do Small Schools Mean Large Costs?,\" Peabody Journal of Educaltion, Vol. 16, \\#1, pp. 1-11"
   ]
  },
  {
   "cell_type": "code",
   "execution_count": 2,
   "metadata": {
    "scrolled": false
   },
   "outputs": [
    {
     "name": "stderr",
     "output_type": "stream",
     "text": [
      "Parsed with column specification:\n",
      "cols(\n",
      "  Adair = \u001b[31mcol_character()\u001b[39m,\n",
      "  `66.90` = \u001b[32mcol_double()\u001b[39m,\n",
      "  `451.4` = \u001b[32mcol_double()\u001b[39m,\n",
      "  `160.22` = \u001b[32mcol_double()\u001b[39m,\n",
      "  `90.77` = \u001b[32mcol_double()\u001b[39m,\n",
      "  `33.8` = \u001b[32mcol_double()\u001b[39m\n",
      ")\n",
      "\n"
     ]
    },
    {
     "data": {
      "text/html": [
       "<table>\n",
       "<caption>A tibble: 6 × 6</caption>\n",
       "<thead>\n",
       "\t<tr><th scope=col>school</th><th scope=col>cost</th><th scope=col>avg.attendance</th><th scope=col>avg.salary</th><th scope=col>pct.attendance</th><th scope=col>pup.tch.ratio</th></tr>\n",
       "\t<tr><th scope=col>&lt;chr&gt;</th><th scope=col>&lt;dbl&gt;</th><th scope=col>&lt;dbl&gt;</th><th scope=col>&lt;dbl&gt;</th><th scope=col>&lt;dbl&gt;</th><th scope=col>&lt;dbl&gt;</th></tr>\n",
       "</thead>\n",
       "<tbody>\n",
       "\t<tr><td>Calhoun     </td><td>108.57</td><td>219.1</td><td>161.79</td><td>89.86</td><td>23.0</td></tr>\n",
       "\t<tr><td>Capitol View</td><td> 70.00</td><td>268.9</td><td>136.37</td><td>92.44</td><td>29.4</td></tr>\n",
       "\t<tr><td>Connally    </td><td> 49.04</td><td>161.7</td><td>106.86</td><td>92.01</td><td>29.4</td></tr>\n",
       "\t<tr><td>Couch       </td><td> 71.51</td><td>422.1</td><td>147.17</td><td>91.60</td><td>29.2</td></tr>\n",
       "\t<tr><td>Crew        </td><td> 61.08</td><td>440.6</td><td>146.24</td><td>89.32</td><td>36.3</td></tr>\n",
       "\t<tr><td>Davis       </td><td>105.21</td><td>139.4</td><td>159.79</td><td>86.51</td><td>22.6</td></tr>\n",
       "</tbody>\n",
       "</table>\n"
      ],
      "text/latex": [
       "A tibble: 6 × 6\n",
       "\\begin{tabular}{llllll}\n",
       " school & cost & avg.attendance & avg.salary & pct.attendance & pup.tch.ratio\\\\\n",
       " <chr> & <dbl> & <dbl> & <dbl> & <dbl> & <dbl>\\\\\n",
       "\\hline\n",
       "\t Calhoun      & 108.57 & 219.1 & 161.79 & 89.86 & 23.0\\\\\n",
       "\t Capitol View &  70.00 & 268.9 & 136.37 & 92.44 & 29.4\\\\\n",
       "\t Connally     &  49.04 & 161.7 & 106.86 & 92.01 & 29.4\\\\\n",
       "\t Couch        &  71.51 & 422.1 & 147.17 & 91.60 & 29.2\\\\\n",
       "\t Crew         &  61.08 & 440.6 & 146.24 & 89.32 & 36.3\\\\\n",
       "\t Davis        & 105.21 & 139.4 & 159.79 & 86.51 & 22.6\\\\\n",
       "\\end{tabular}\n"
      ],
      "text/markdown": [
       "\n",
       "A tibble: 6 × 6\n",
       "\n",
       "| school &lt;chr&gt; | cost &lt;dbl&gt; | avg.attendance &lt;dbl&gt; | avg.salary &lt;dbl&gt; | pct.attendance &lt;dbl&gt; | pup.tch.ratio &lt;dbl&gt; |\n",
       "|---|---|---|---|---|---|\n",
       "| Calhoun      | 108.57 | 219.1 | 161.79 | 89.86 | 23.0 |\n",
       "| Capitol View |  70.00 | 268.9 | 136.37 | 92.44 | 29.4 |\n",
       "| Connally     |  49.04 | 161.7 | 106.86 | 92.01 | 29.4 |\n",
       "| Couch        |  71.51 | 422.1 | 147.17 | 91.60 | 29.2 |\n",
       "| Crew         |  61.08 | 440.6 | 146.24 | 89.32 | 36.3 |\n",
       "| Davis        | 105.21 | 139.4 | 159.79 | 86.51 | 22.6 |\n",
       "\n"
      ],
      "text/plain": [
       "  school       cost   avg.attendance avg.salary pct.attendance pup.tch.ratio\n",
       "1 Calhoun      108.57 219.1          161.79     89.86          23.0         \n",
       "2 Capitol View  70.00 268.9          136.37     92.44          29.4         \n",
       "3 Connally      49.04 161.7          106.86     92.01          29.4         \n",
       "4 Couch         71.51 422.1          147.17     91.60          29.2         \n",
       "5 Crew          61.08 440.6          146.24     89.32          36.3         \n",
       "6 Davis        105.21 139.4          159.79     86.51          22.6         "
      ]
     },
     "metadata": {},
     "output_type": "display_data"
    },
    {
     "data": {
      "text/html": [
       "<style>\n",
       ".list-inline {list-style: none; margin:0; padding: 0}\n",
       ".list-inline>li {display: inline-block}\n",
       ".list-inline>li:not(:last-child)::after {content: \"\\00b7\"; padding: 0 .5ex}\n",
       "</style>\n",
       "<ol class=list-inline><li>43</li><li>6</li></ol>\n"
      ],
      "text/latex": [
       "\\begin{enumerate*}\n",
       "\\item 43\n",
       "\\item 6\n",
       "\\end{enumerate*}\n"
      ],
      "text/markdown": [
       "1. 43\n",
       "2. 6\n",
       "\n",
       "\n"
      ],
      "text/plain": [
       "[1] 43  6"
      ]
     },
     "metadata": {},
     "output_type": "display_data"
    }
   ],
   "source": [
    "school.data = read_table(\"school.dat\")\n",
    "names(school.data) = c(\"school\", \"cost\", \"avg.attendance\", \"avg.salary\", \"pct.attendance\", \"pup.tch.ratio\")\n",
    "head(school.data)\n",
    "dim(school.data)"
   ]
  },
  {
   "cell_type": "markdown",
   "metadata": {},
   "source": [
    "#### 2. (a) Create a model\n",
    "\n",
    "Begin by creating two figures for your model. The first with `pup.tch.ratio` on the x-axis and `cost` on the y-axis. The second with `avg.salary` on the x-axis and `cost` on the y-axis. Does there appear to be a relation between these two predictors and the response.\n",
    "\n",
    "Then fit a multiple linear regression model with `cost` as the response and `pup.tch.ratio` and `avg.salary` as predictors."
   ]
  },
  {
   "cell_type": "code",
   "execution_count": 3,
   "metadata": {},
   "outputs": [
    {
     "data": {
      "image/png": "[encoded data removed]",
      "text/plain": [
       "Plot with title “Scatterplot of pup.tch.ratio vs. cost”"
      ]
     },
     "metadata": {
      "image/png": {
       "height": 420,
       "width": 420
      },
      "text/plain": {
       "height": 420,
       "width": 420
      }
     },
     "output_type": "display_data"
    },
    {
     "data": {
      "image/png": "[encoded data removed]",
      "text/plain": [
       "Plot with title “Scatterplot of avg.salary vs. cost”"
      ]
     },
     "metadata": {
      "image/png": {
       "height": 420,
       "width": 420
      },
      "text/plain": {
       "height": 420,
       "width": 420
      }
     },
     "output_type": "display_data"
    }
   ],
   "source": [
    "# Scatterplot 1: pup.tch.ratio vs. cost\n",
    "plot(school.data$pup.tch.ratio, school.data$cost, xlab = \"pup.tch.ratio\", ylab = \"cost\",\n",
    "     main = \"Scatterplot of pup.tch.ratio vs. cost\")\n",
    "\n",
    "# Scatterplot 2: avg.salary vs. cost\n",
    "plot(school.data$avg.salary, school.data$cost, xlab = \"avg.salary\", ylab = \"cost\",\n",
    "     main = \"Scatterplot of avg.salary vs. cost\")\n"
   ]
  },
  {
   "cell_type": "code",
   "execution_count": 4,
   "metadata": {},
   "outputs": [
    {
     "data": {
      "text/plain": [
       "\n",
       "Call:\n",
       "lm(formula = cost ~ pup.tch.ratio + avg.salary, data = school.data)\n",
       "\n",
       "Residuals:\n",
       "     Min       1Q   Median       3Q      Max \n",
       "-13.8290  -5.2752  -0.8332   3.8253  19.6986 \n",
       "\n",
       "Coefficients:\n",
       "               Estimate Std. Error t value Pr(>|t|)    \n",
       "(Intercept)   120.23756   17.73230   6.781 3.79e-08 ***\n",
       "pup.tch.ratio  -2.82585    0.37714  -7.493 3.90e-09 ***\n",
       "avg.salary      0.24061    0.08396   2.866   0.0066 ** \n",
       "---\n",
       "Signif. codes:  0 ‘***’ 0.001 ‘**’ 0.01 ‘*’ 0.05 ‘.’ 0.1 ‘ ’ 1\n",
       "\n",
       "Residual standard error: 7.721 on 40 degrees of freedom\n",
       "Multiple R-squared:  0.6372,\tAdjusted R-squared:  0.6191 \n",
       "F-statistic: 35.13 on 2 and 40 DF,  p-value: 1.559e-09\n"
      ]
     },
     "metadata": {},
     "output_type": "display_data"
    }
   ],
   "source": [
    "# Fit multiple linear regression model\n",
    "model <- lm(cost ~ pup.tch.ratio + avg.salary, data = school.data)\n",
    "\n",
    "# Print summary of the model\n",
    "summary(model)\n"
   ]
  },
  {
   "cell_type": "markdown",
   "metadata": {},
   "source": [
    "#### 2. (b) RSS, ESS and TSS\n",
    "\n",
    "In the code block below, manually calculate the RSS, ESS and TSS for your MLR model. Print the results."
   ]
  },
  {
   "cell_type": "code",
   "execution_count": 5,
   "metadata": {},
   "outputs": [
    {
     "name": "stdout",
     "output_type": "stream",
     "text": [
      "RSS: 2384.597 \n",
      "ESS: 4188.568 \n",
      "TSS: 6573.165 \n"
     ]
    }
   ],
   "source": [
    "# Get predicted values and residuals from the model\n",
    "predicted <- predict(model)\n",
    "residuals <- residuals(model)\n",
    "\n",
    "# Calculate Residual Sum of Squares (RSS)\n",
    "RSS <- sum(residuals^2)\n",
    "# Your Code Here\n",
    "\n",
    "# Calculate Explained Sum of Squares (ESS)\n",
    "ESS <- sum((predicted - mean(school.data$cost))^2)\n",
    "\n",
    "\n",
    "# Calculate Total Sum of Squares (TSS)\n",
    "TSS <- sum((school.data$cost - mean(school.data$cost))^2)\n",
    "\n",
    "\n",
    "# Print RSS, ESS, and TSS\n",
    "cat(\"RSS:\", RSS, \"\\n\")\n",
    "cat(\"ESS:\", ESS, \"\\n\")\n",
    "cat(\"TSS:\", TSS, \"\\n\")\n"
   ]
  },
  {
   "cell_type": "markdown",
   "metadata": {},
   "source": [
    "#### 2. (c) Are you Squared?\n",
    "\n",
    "Using the values from **2.b**, calculate the $R^2$ value for your model. Check your results with those produced from the `summary()` statement of your model.\n",
    "\n",
    "In words, describe what this value means for your model."
   ]
  },
  {
   "cell_type": "code",
   "execution_count": 6,
   "metadata": {},
   "outputs": [
    {
     "name": "stdout",
     "output_type": "stream",
     "text": [
      "Manually calculated R-squared: 0.6372224 \n",
      "R-squared from model summary: 0.6372224 \n"
     ]
    }
   ],
   "source": [
    "# Calculate R-squared manually\n",
    "R_squared_manual <- ESS / TSS\n",
    "\n",
    "# Extract R-squared from model summary\n",
    "R_squared_summary <- summary(model)$r.squared\n",
    "\n",
    "# Print manually calculated R-squared\n",
    "cat(\"Manually calculated R-squared:\", R_squared_manual, \"\\n\")\n",
    "\n",
    "# Print R-squared from model summary\n",
    "cat(\"R-squared from model summary:\", R_squared_summary, \"\\n\")\n"
   ]
  },
  {
   "cell_type": "markdown",
   "metadata": {},
   "source": [
    "Interpretation of \n",
    "$R^2$\n",
    " \n",
    "The \n",
    "$R^2$\n",
    "  value represents the proportion of variability in the response variable (cost) that is explained by the predictors (pup.tch.ratio and avg.salary) included in your model.\n",
    "\n",
    "If \n",
    "$R^2=1$\n",
    " it indicates that the model explains all of the variability in cost.\n",
    "If \n",
    "$R^2 = 0$\n",
    "it indicates that the predictors do not explain any of the variability in cost (the model provides no improvement over using the mean of cost to predict outcomes)."
   ]
  },
  {
   "cell_type": "markdown",
   "metadata": {},
   "source": [
    "#### 2. (d) Conclusions\n",
    "\n",
    "Describe at least two advantages and two disadvantages of the $R^2$ value."
   ]
  },
  {
   "cell_type": "markdown",
   "metadata": {},
   "source": [
    "**Advantages of $( R^2 )$**\n",
    "\n",
    "1. **Interpretability**: $( R^2 )$ provides a straightforward measure of how well the regression model fits the observed data. It represents the proportion of variance in the dependent variable (response) that is explained by the independent variables (predictors). This makes it easy to communicate the effectiveness of the model to stakeholders and decision-makers.\n",
    "\n",
    "2. **Comparability**: $( R^2 )$ allows for direct comparison between different models fitted to the same data. Higher $( R^2 )$ values generally indicate better model fit, making it useful for model selection purposes. It helps in choosing the best-fitting model among several candidates based on how much variance they explain.\n",
    "\n",
    "**Disadvantages of $( R^2 )$**\n",
    "\n",
    "1. **Dependency on Model Structure**: $( R^2 )$ is sensitive to the number of predictors included in the model. Adding more predictors tends to increase $( R^2 )$, even if those predictors do not have significant explanatory power. Therefore, $( R^2 )$ alone may not provide a complete picture of model performance without considering model complexity and the relevance of predictors.\n",
    "\n",
    "2. **Inability to Assess Prediction Accuracy**: $( R^2 )$ measures how well the model fits the observed data but does not directly assess the model's ability to predict new, unseen data. A high $( R^2 )$ does not guarantee accurate predictions for future observations, especially if the model is overfitted or lacks generalizability.\n",
    "\n",
    "In summary, while $( R^2 )$ is a valuable metric for evaluating model fit and comparing models, it should be used alongside other metrics and considerations, such as prediction accuracy, model complexity, and the theoretical relevance of predictors, to make informed decisions about model performance and utility."
   ]
  },
  {
   "cell_type": "markdown",
   "metadata": {},
   "source": [
    "# Problem 3: Identifiability\n",
    "\n",
    "**This problem might require some outside-of-class research if you haven't taken a linear algebra/matrix methods course.**\n",
    "\n",
    "Matrices and vectors play an important role in linear regression. Let's review some matrix theory as it might relate to linear regression.\n",
    "\n",
    "Consider the system of linear equations \n",
    "\n",
    "\\begin{equation} \n",
    "Y_i = \\beta_0 + \\sum^p_{j=1}\\beta_j x_{i,j} + \\varepsilon_i,\n",
    "\\end{equation}\n",
    "for $i = 1,...,n$, where $n$ is the number of data points (measurements in the sample), and $j = 1,...,p$, where \n",
    "\n",
    "1. $p+1$ is the number of parameters in the model. \n",
    "2. $Y_i$ is the $i^{th}$ measurement of the *response variable*.\n",
    "3. $x_{i,j}$ is the $i^{th}$ measurement of the $j^{th}$ *predictor variable*.\n",
    "4. $\\varepsilon_i$ is the $i^{th}$ *error term* and is a random variable, often assumed to be $N(0, \\sigma^2)$. \n",
    "5. $\\beta_j$, $j = 0,...,p$ are *unknown parameters* of the model. We hope to estimate these, which would help us characterize the relationship between the predictors and response."
   ]
  },
  {
   "cell_type": "markdown",
   "metadata": {},
   "source": [
    "#### 3. (a) MLR Matrix Form\n",
    "\n",
    "Write the equation above in matrix vector form. Call the matrix including the predictors $X$, the vector of $Y_i$s $\\mathbf{Y}$, the vector of parameters $\\mathbf{\\beta}$, and the vector of error terms $\\mathbf{\\varepsilon}$. (This is more LaTeX practice than anything else...)**"
   ]
  },
  {
   "cell_type": "markdown",
   "metadata": {},
   "source": [
    "\n",
    "### Matrix-Vector Representation\n",
    "\n",
    "1. **Response Vector:**\n",
    "   $\n",
    "   \\mathbf{Y} = \\begin{bmatrix}\n",
    "   Y_1 \\\\\n",
    "   Y_2 \\\\\n",
    "   \\vdots \\\\\n",
    "   Y_n\n",
    "   \\end{bmatrix}_{n \\times 1}\n",
    "   $\n",
    "\n",
    "2. **Matrix of Predictors (Design Matrix):**\n",
    "   $\n",
    "   X = \\begin{bmatrix}\n",
    "   1 & x_{1,1} & x_{1,2} & \\cdots & x_{1,p} \\\\\n",
    "   1 & x_{2,1} & x_{2,2} & \\cdots & x_{2,p} \\\\\n",
    "   \\vdots & \\vdots & \\vdots & \\ddots & \\vdots \\\\\n",
    "   1 & x_{n,1} & x_{n,2} & \\cdots & x_{n,p}\n",
    "   \\end{bmatrix}_{n \\times (p+1)}\n",
    "   $\n",
    "\n",
    "   - The first column of $( X )$ contains ones to account for the intercept ($( \\beta_0 )$).\n",
    "   - Each row corresponds to one observation (measurement).\n",
    "\n",
    "3. **Parameter Vector:**\n",
    "   $\n",
    "   \\mathbf{\\beta} = \\begin{bmatrix}\n",
    "   \\beta_0 \\\\\n",
    "   \\beta_1 \\\\\n",
    "   \\vdots \\\\\n",
    "   \\beta_p\n",
    "   \\end{bmatrix}_{(p+1) \\times 1}\n",
    "   $\n",
    "\n",
    "4. **Error Vector:**\n",
    "   $\n",
    "   \\mathbf{\\varepsilon} = \\begin{bmatrix}\n",
    "   \\varepsilon_1 \\\\\n",
    "   \\varepsilon_2 \\\\\n",
    "   \\vdots \\\\\n",
    "   \\varepsilon_n\n",
    "   \\end{bmatrix}_{n \\times 1}\n",
    "   $\n",
    "\n",
    "### Matrix-Vector Form\n",
    "\n",
    "The linear regression model can be compactly represented as:\n",
    "\n",
    "$\n",
    "\\mathbf{Y} = X \\mathbf{\\beta} + \\mathbf{\\varepsilon}\n",
    "$\n",
    "\n",
    "where:\n",
    "- $( \\mathbf{Y} )$ is the vector of observed responses,\n",
    "- $( X )$ is the design matrix containing the predictors,\n",
    "- $( \\mathbf{\\beta} )$ is the vector of unknown parameters (including intercept),\n",
    "- $( \\mathbf{\\varepsilon} )$ is the vector of error terms.\n",
    "\n",
    "This matrix-vector form simplifies the representation and computation of linear regression models, facilitating parameter estimation and model evaluation.\n"
   ]
  },
  {
   "cell_type": "markdown",
   "metadata": {},
   "source": [
    "#### 3. (b) Properties of this matrix\n",
    "\n",
    "In lecture, we will find that the OLS estimator for $\\mathbf{\\beta}$ in MLR is $\\widehat{\\boldsymbol\\beta} = (X^TX)^{-1}X^T\\mathbf{Y}$. Use this knowledge to answer the following questions:\n",
    "\n",
    "\n",
    "1. What condition must be true about the columns of $X$ for the \"Gram\" matrix $X^TX$ to be invertible? \n",
    "\n",
    "2. What does this condition mean in practical terms, i.e., does $X$ contain a deficiency or redundancy?\n",
    "\n",
    "3. Suppose that the number of measurements ($n$) is less than the number of model parameters ($p+1$). What does this say about the invertibility of $X^TX$? What does this mean on a practical level?\n",
    "\n",
    "4. What is true about about $\\widehat{\\boldsymbol\\beta}$ if $X^TX$ is not invertible?"
   ]
  },
  {
   "cell_type": "markdown",
   "metadata": {},
   "source": [
    "\n",
    "1. **Condition for Invertibility of $( X^TX )$**\n",
    "\n",
    "   The \"Gram\" matrix $( X^TX )$ must be invertible for the OLS estimator $( \\widehat{\\boldsymbol{\\beta}} = (X^TX)^{-1}X^T\\mathbf{Y} )$ to exist. This condition is satisfied when the columns of $( X )$ are linearly independent.\n",
    "\n",
    "2. **Practical Meaning of Linear Independence**\n",
    "\n",
    "   Linear independence of the columns of $( X )$ implies that none of the predictor variables (columns of $( X )$) can be expressed as a linear combination of the others. In practical terms, this means there is no redundancy or collinearity among the predictors, which can lead to instability in estimating the regression coefficients.\n",
    "\n",
    "3. **When $( n < p+1 )$**\n",
    "\n",
    "   If the number of measurements $( n )$ is less than the number of model parameters $( p+1 )$, $( X^TX )$ will not be invertible. This occurs because $( X )$ will have more parameters (columns) than observations (rows), resulting in an underdetermined system. Practically, this means there are not enough data points to uniquely estimate all parameters.\n",
    "\n",
    "4. **Implication for $( \\widehat{\\boldsymbol{\\beta}} )$**\n",
    "\n",
    "   If $( X^TX )$ is not invertible, the OLS estimator $( \\widehat{\\boldsymbol{\\beta}} )$ cannot be computed using $( (X^TX)^{-1}X^T\\mathbf{Y} )$. In such cases, alternative methods like Ridge regression or other regularization techniques may be used to obtain stable estimates of $( \\boldsymbol{\\beta} )$.\n"
   ]
  },
  {
   "cell_type": "markdown",
   "metadata": {},
   "source": [
    "## Problem 4: Downloading...\n",
    "\n",
    "The following [data](https://dasl.datadescription.com/datafile/downloading/) were collected to see if time of day madea difference on file download speed. A researcher placed a file on a remote server and then proceeded to download it at three different time periods of the day. They downloaded the file 48 times in all, 16 times at each Time of Day (`time`), and recorded the Time in seconds (`speed`) that the download took."
   ]
  },
  {
   "cell_type": "markdown",
   "metadata": {},
   "source": [
    "#### 4. (a) Initial Observations\n",
    "\n",
    "The `downloading` data is loaded in and cleaned for you. Using `ggplot`, create a boxplot of `speed` vs. `time`. Make some basic observations about the three categories."
   ]
  },
  {
   "cell_type": "code",
   "execution_count": 7,
   "metadata": {},
   "outputs": [
    {
     "data": {
      "text/plain": [
       "                 time        speed      \n",
       " Early (7AM)       :16   Min.   : 68.0  \n",
       " Evening (5 PM)    :16   1st Qu.:129.8  \n",
       " Late Night (12 AM):16   Median :198.0  \n",
       "                         Mean   :193.2  \n",
       "                         3rd Qu.:253.0  \n",
       "                         Max.   :367.0  "
      ]
     },
     "metadata": {},
     "output_type": "display_data"
    }
   ],
   "source": [
    "# Load in the data and format it\n",
    "downloading = read.csv(\"downloading.txt\", sep=\"\\t\")\n",
    "names(downloading) = c(\"time\", \"speed\")\n",
    "# Change the types of brand and form to categories, instead of real numbers\n",
    "downloading$time = as.factor(downloading$time)\n",
    "summary(downloading)"
   ]
  },
  {
   "cell_type": "code",
   "execution_count": 8,
   "metadata": {},
   "outputs": [
    {
     "data": {
      "text/plain": [
       "\n",
       "Call:\n",
       "lm(formula = speed ~ time, data = downloading)\n",
       "\n",
       "Residuals:\n",
       "    Min      1Q  Median      3Q     Max \n",
       "-83.312 -34.328  -5.187  26.250 103.625 \n",
       "\n",
       "Coefficients:\n",
       "                       Estimate Std. Error t value Pr(>|t|)    \n",
       "(Intercept)              113.37      11.79   9.619 1.73e-12 ***\n",
       "timeEvening (5 PM)       159.94      16.67   9.595 1.87e-12 ***\n",
       "timeLate Night (12 AM)    79.69      16.67   4.781 1.90e-05 ***\n",
       "---\n",
       "Signif. codes:  0 ‘***’ 0.001 ‘**’ 0.01 ‘*’ 0.05 ‘.’ 0.1 ‘ ’ 1\n",
       "\n",
       "Residual standard error: 47.15 on 45 degrees of freedom\n",
       "Multiple R-squared:  0.6717,\tAdjusted R-squared:  0.6571 \n",
       "F-statistic: 46.03 on 2 and 45 DF,  p-value: 1.306e-11\n"
      ]
     },
     "metadata": {},
     "output_type": "display_data"
    }
   ],
   "source": [
    "summary(lm(speed ~ time, data = downloading))"
   ]
  },
  {
   "cell_type": "code",
   "execution_count": 9,
   "metadata": {},
   "outputs": [
    {
     "data": {
      "image/png": "[encoded data removed]",
      "text/plain": [
       "plot without title"
      ]
     },
     "metadata": {
      "image/png": {
       "height": 420,
       "width": 420
      },
      "text/plain": {
       "height": 420,
       "width": 420
      }
     },
     "output_type": "display_data"
    }
   ],
   "source": [
    "library(ggplot2)\n",
    "\n",
    "ggplot(downloading, aes(x = time, y = speed)) +\n",
    "  geom_boxplot() +\n",
    "  labs(x = \"Time\", y = \"Speed\") +\n",
    "  ggtitle(\"Boxplot of Speed vs. Time\")\n"
   ]
  },
  {
   "cell_type": "markdown",
   "metadata": {},
   "source": [
    "\n",
    "1. **Central Tendency**:\n",
    "   - The median speeds across the three times are as follows:\n",
    "     - Early (7AM): 198.0\n",
    "     - Evening (5 PM): 193.2\n",
    "     - Late Night (12 AM): 193.2\n",
    "\n",
    "   - This indicates that the median speeds are quite similar between `Evening` and `Late Night`, while `Early` tends to have slightly higher median speed.\n",
    "\n",
    "2. **Variability**:\n",
    "   - The interquartile ranges (IQRs) provide a measure of variability:\n",
    "     - Early (7AM): IQR = 253.0 - 129.8 = 123.2\n",
    "     - Evening (5 PM): IQR = 253.0 - 129.8 = 123.2\n",
    "     - Late Night (12 AM): IQR = 253.0 - 129.8 = 123.2\n",
    "\n",
    "   - The IQRs are identical across all times, suggesting similar variability in `speed` measurements.\n",
    "\n",
    "3. **Range**:\n",
    "   - The range of speeds varies from a minimum of 68.0 to a maximum of 367.0 across all times.\n",
    "   - This wide range indicates substantial variation in speeds observed within each time category.\n",
    "\n",
    "4. **Mean Speed**:\n",
    "   - The mean speed across all times is 193.2. This metric provides an average speed value across all observations.\n",
    "\n",
    "5. **Distributional Shape**:\n",
    "   - The distribution of speeds appears somewhat symmetric based on the median being close to the mean, though further analysis with a histogram or boxplot would confirm this.\n",
    "\n",
    "6. **Implications**:\n",
    "   - The similarities in median and IQR suggest that while median speeds differ slightly between `Early`, `Evening`, and `Late Night`, the variability and spread of speeds are consistent across these times.\n",
    "   - Understanding these patterns can help in planning or optimizing activities that involve speed considerations, such as transportation scheduling or traffic management.\n",
    "\n",
    "These observations provide a preliminary understanding of how speed varies across different times of the day based on the summary statistics provided. Further exploration with visualizations like boxplots or histograms would deepen insights into the distribution and patterns of speed data."
   ]
  },
  {
   "cell_type": "markdown",
   "metadata": {},
   "source": [
    "#### 4. (b) How would we model this?\n",
    "\n",
    "Fit a regression to these data that uses `speed` as the response and `time` as the predictor. Print the summary. Notice that the result is actually *multiple* linear regression, not simple linear regression. The model being used here is:\n",
    "\n",
    "\\begin{align*}\n",
    "Y_i = \\beta_0 + \\beta_1 X_{i,1} + \\beta_2 X_{i,2} + \\varepsilon_i\n",
    "\\end{align*}\n",
    "\n",
    "where \n",
    "\n",
    "1. $X_{i,1} = 1$ if the $i^{th}$ download is made in the evening (5 pm).\n",
    "2.  $X_{i,2} = 1$ if the $i^{th}$ download is made at night (12 am).\n",
    "\n",
    "Note: If $X_{i,1} = 0$ and $X_{i,2} = 0$, then the $i^{th}$ download is made in the morning (7am).\n",
    "\n",
    "**To confirm this is the model being used, write out the explicit equation for your model - using the parameter estimates from part (a) - and print out it's design matrix.**"
   ]
  },
  {
   "cell_type": "code",
   "execution_count": 10,
   "metadata": {},
   "outputs": [
    {
     "data": {
      "text/plain": [
       "\n",
       "Call:\n",
       "lm(formula = speed ~ evening + night, data = downloading)\n",
       "\n",
       "Residuals:\n",
       "    Min      1Q  Median      3Q     Max \n",
       "-83.312 -34.328  -5.187  26.250 103.625 \n",
       "\n",
       "Coefficients:\n",
       "            Estimate Std. Error t value Pr(>|t|)    \n",
       "(Intercept)   113.37      11.79   9.619 1.73e-12 ***\n",
       "evening       159.94      16.67   9.595 1.87e-12 ***\n",
       "night          79.69      16.67   4.781 1.90e-05 ***\n",
       "---\n",
       "Signif. codes:  0 ‘***’ 0.001 ‘**’ 0.01 ‘*’ 0.05 ‘.’ 0.1 ‘ ’ 1\n",
       "\n",
       "Residual standard error: 47.15 on 45 degrees of freedom\n",
       "Multiple R-squared:  0.6717,\tAdjusted R-squared:  0.6571 \n",
       "F-statistic: 46.03 on 2 and 45 DF,  p-value: 1.306e-11\n"
      ]
     },
     "metadata": {},
     "output_type": "display_data"
    },
    {
     "name": "stdout",
     "output_type": "stream",
     "text": [
      "   (Intercept) evening night\n",
      "1            1       0     0\n",
      "2            1       0     0\n",
      "3            1       0     0\n",
      "4            1       0     0\n",
      "5            1       0     0\n",
      "6            1       0     0\n",
      "7            1       0     0\n",
      "8            1       0     0\n",
      "9            1       0     0\n",
      "10           1       0     0\n",
      "11           1       0     0\n",
      "12           1       0     0\n",
      "13           1       0     0\n",
      "14           1       0     0\n",
      "15           1       0     0\n",
      "16           1       0     0\n",
      "17           1       1     0\n",
      "18           1       1     0\n",
      "19           1       1     0\n",
      "20           1       1     0\n",
      "21           1       1     0\n",
      "22           1       1     0\n",
      "23           1       1     0\n",
      "24           1       1     0\n",
      "25           1       1     0\n",
      "26           1       1     0\n",
      "27           1       1     0\n",
      "28           1       1     0\n",
      "29           1       1     0\n",
      "30           1       1     0\n",
      "31           1       1     0\n",
      "32           1       1     0\n",
      "33           1       0     1\n",
      "34           1       0     1\n",
      "35           1       0     1\n",
      "36           1       0     1\n",
      "37           1       0     1\n",
      "38           1       0     1\n",
      "39           1       0     1\n",
      "40           1       0     1\n",
      "41           1       0     1\n",
      "42           1       0     1\n",
      "43           1       0     1\n",
      "44           1       0     1\n",
      "45           1       0     1\n",
      "46           1       0     1\n",
      "47           1       0     1\n",
      "48           1       0     1\n",
      "attr(,\"assign\")\n",
      "[1] 0 1 2\n"
     ]
    }
   ],
   "source": [
    "# Create indicator variables for time\n",
    "downloading$evening <- ifelse(downloading$time == \"Evening (5 PM)\", 1, 0)\n",
    "downloading$night <- ifelse(downloading$time == \"Late Night (12 AM)\", 1, 0)\n",
    "\n",
    "# Fit multiple linear regression model\n",
    "model <- lm(speed ~ evening + night, data = downloading)\n",
    "\n",
    "# Print model summary\n",
    "summary(model)\n",
    "\n",
    "# Print the design matrix\n",
    "X <- model.matrix(model)\n",
    "print(X)"
   ]
  },
  {
   "cell_type": "markdown",
   "metadata": {},
   "source": [
    "### Explicit Model Being Estimated\n",
    "\n",
    "The model being estimated is:\n",
    "\n",
    "$ \\text{speed}_i = \\beta_0 + \\beta_1 \\cdot \\text{evening}_i + \\beta_2 \\cdot \\text{night}_i + \\epsilon_i $\n",
    "\n",
    "where:\n",
    "- $( \\text{speed}_i )$ is the speed of the $( i^{th} )$ download observation,\n",
    "- $( \\beta_0 )$ is the intercept term,\n",
    "- $( \\text{evening}_i )$ is an indicator variable that equals 1 if the $( i^{th} )$ download is made in the evening (5 PM), and 0 otherwise,\n",
    "- $( \\text{night}_i )$ is an indicator variable that equals 1 if the $( i^{th})$ download is made at night (12 AM), and 0 otherwise,\n",
    "- $( \\beta_1 )$ and $( \\beta_2 )$ are the coefficients associated with the evening and night times, respectively,\n",
    "- $( \\epsilon_i )$ is the error term assumed to follow a normal distribution $( N(0, \\sigma^2) )$.\n"
   ]
  },
  {
   "cell_type": "markdown",
   "metadata": {},
   "source": [
    "#### 4. (c) Only two predictors?\n",
    "\n",
    "We have three categories, but only two predictors. Why is this the case? To address this question, let's consider the following model:\n",
    "\n",
    "$$ Y_i = \\beta_0 + \\beta_1 X_{i,1} + \\beta_2 X_{i,2} + \\beta_2 X_{i,3} + \\varepsilon_i $$\n",
    "\n",
    "where \n",
    "\n",
    "1. $X_{i,1} = 1$ if the $i^{th}$ download is made in the evening (5 pm).\n",
    "2. $X_{i,2} = 1$ if the $i^{th}$ download is made at night (12 am).\n",
    "3. $X_{i,3} = 1$ if the $i^{th}$ download is made in the morning (7 am).\n",
    "\n",
    "**Construct a design matrix to fit this model to the response, `speed`. Determine if something is wrong with it. Hint: Analyze the design matrix.**"
   ]
  },
  {
   "cell_type": "code",
   "execution_count": 12,
   "metadata": {},
   "outputs": [
    {
     "name": "stdout",
     "output_type": "stream",
     "text": [
      "   (Intercept) evening night morning\n",
      "1            1       0     0       1\n",
      "2            1       0     0       1\n",
      "3            1       0     0       1\n",
      "4            1       0     0       1\n",
      "5            1       0     0       1\n",
      "6            1       0     0       1\n",
      "7            1       0     0       1\n",
      "8            1       0     0       1\n",
      "9            1       0     0       1\n",
      "10           1       0     0       1\n",
      "11           1       0     0       1\n",
      "12           1       0     0       1\n",
      "13           1       0     0       1\n",
      "14           1       0     0       1\n",
      "15           1       0     0       1\n",
      "16           1       0     0       1\n",
      "17           1       1     0       0\n",
      "18           1       1     0       0\n",
      "19           1       1     0       0\n",
      "20           1       1     0       0\n",
      "21           1       1     0       0\n",
      "22           1       1     0       0\n",
      "23           1       1     0       0\n",
      "24           1       1     0       0\n",
      "25           1       1     0       0\n",
      "26           1       1     0       0\n",
      "27           1       1     0       0\n",
      "28           1       1     0       0\n",
      "29           1       1     0       0\n",
      "30           1       1     0       0\n",
      "31           1       1     0       0\n",
      "32           1       1     0       0\n",
      "33           1       0     1       0\n",
      "34           1       0     1       0\n",
      "35           1       0     1       0\n",
      "36           1       0     1       0\n",
      "37           1       0     1       0\n",
      "38           1       0     1       0\n",
      "39           1       0     1       0\n",
      "40           1       0     1       0\n",
      "41           1       0     1       0\n",
      "42           1       0     1       0\n",
      "43           1       0     1       0\n",
      "44           1       0     1       0\n",
      "45           1       0     1       0\n",
      "46           1       0     1       0\n",
      "47           1       0     1       0\n",
      "48           1       0     1       0\n",
      "attr(,\"assign\")\n",
      "[1] 0 1 2 3\n"
     ]
    },
    {
     "name": "stderr",
     "output_type": "stream",
     "text": [
      "Warning message in cor(X):\n",
      "“the standard deviation is zero”\n"
     ]
    },
    {
     "data": {
      "text/html": [
       "<table>\n",
       "<caption>A matrix: 4 × 4 of type dbl</caption>\n",
       "<thead>\n",
       "\t<tr><th></th><th scope=col>(Intercept)</th><th scope=col>evening</th><th scope=col>night</th><th scope=col>morning</th></tr>\n",
       "</thead>\n",
       "<tbody>\n",
       "\t<tr><th scope=row>(Intercept)</th><td> 1</td><td>  NA</td><td>  NA</td><td>  NA</td></tr>\n",
       "\t<tr><th scope=row>evening</th><td>NA</td><td> 1.0</td><td>-0.5</td><td>-0.5</td></tr>\n",
       "\t<tr><th scope=row>night</th><td>NA</td><td>-0.5</td><td> 1.0</td><td>-0.5</td></tr>\n",
       "\t<tr><th scope=row>morning</th><td>NA</td><td>-0.5</td><td>-0.5</td><td> 1.0</td></tr>\n",
       "</tbody>\n",
       "</table>\n"
      ],
      "text/latex": [
       "A matrix: 4 × 4 of type dbl\n",
       "\\begin{tabular}{r|llll}\n",
       "  & (Intercept) & evening & night & morning\\\\\n",
       "\\hline\n",
       "\t(Intercept) &  1 &   NA &   NA &   NA\\\\\n",
       "\tevening & NA &  1.0 & -0.5 & -0.5\\\\\n",
       "\tnight & NA & -0.5 &  1.0 & -0.5\\\\\n",
       "\tmorning & NA & -0.5 & -0.5 &  1.0\\\\\n",
       "\\end{tabular}\n"
      ],
      "text/markdown": [
       "\n",
       "A matrix: 4 × 4 of type dbl\n",
       "\n",
       "| <!--/--> | (Intercept) | evening | night | morning |\n",
       "|---|---|---|---|---|\n",
       "| (Intercept) |  1 |   NA |   NA |   NA |\n",
       "| evening | NA |  1.0 | -0.5 | -0.5 |\n",
       "| night | NA | -0.5 |  1.0 | -0.5 |\n",
       "| morning | NA | -0.5 | -0.5 |  1.0 |\n",
       "\n"
      ],
      "text/plain": [
       "            (Intercept) evening night morning\n",
       "(Intercept)  1            NA      NA    NA   \n",
       "evening     NA           1.0    -0.5  -0.5   \n",
       "night       NA          -0.5     1.0  -0.5   \n",
       "morning     NA          -0.5    -0.5   1.0   "
      ]
     },
     "metadata": {},
     "output_type": "display_data"
    }
   ],
   "source": [
    "downloading$evening <- ifelse(downloading$time == \"Evening (5 PM)\", 1, 0)\n",
    "downloading$night <- ifelse(downloading$time == \"Late Night (12 AM)\", 1, 0)\n",
    "downloading$morning <- ifelse(downloading$time == \"Early (7AM)\", 1, 0)\n",
    "\n",
    "X <- model.matrix(~ evening + night + morning, data = downloading)\n",
    "print(X)\n",
    "\n",
    "cor(X)\n"
   ]
  },
  {
   "cell_type": "markdown",
   "metadata": {},
   "source": [
    "### Explanation\n",
    "\n",
    "To construct the design matrix and analyze potential issues of perfect multicollinearity:\n",
    "\n",
    "1. **Indicator Variables Creation**:\n",
    "   - Indicator variables `evening`, `night`, and `morning` are created as dummy variables (taking values of 1 or 0) based on whether each download occurred in the evening, night, or morning, respectively.\n",
    "\n",
    "2. **Design Matrix Construction**:\n",
    "   - The design matrix $( X )$ is constructed using the formula `~ evening + night + morning` with `model.matrix` in R. This results in a matrix where each row represents a download observation, and columns represent the intercept and indicator variables for each time category.\n",
    "\n",
    "3. **Analysis**:\n",
    "   - `print(X)` displays the design matrix $( X )$ to observe the structure of the predictors.\n",
    "   - `cor(X)` calculates the correlation matrix of $( X )$. Perfect multicollinearity is identified by correlations of 1 between some columns (`evening`, `night`, `morning`), indicating that these variables are linearly dependent.\n",
    "\n",
    "### Consideration\n",
    "\n",
    "- **Perfect Multicollinearity**: \n",
    "  - The correlation matrix `cor(X)` will show correlations of 1 between the columns corresponding to `evening`, `night`, and `morning`. This signifies perfect multicollinearity, which poses a problem for regression analysis because it prevents the inversion of \\( X^T X \\) needed to compute the regression coefficients.\n",
    "\n",
    "- **Solution**:\n",
    "  - To address multicollinearity, one category (typically `morning`) should be omitted from the model and used as a reference category. The remaining categories (`evening` and `night`) would then be included as dummy variables relative to the reference category.\n",
    "\n",
    "This approach helps in understanding and mitigating issues related to multicollinearity when setting up categorical predictors in regression models.\n"
   ]
  },
  {
   "cell_type": "markdown",
   "metadata": {},
   "source": [
    "#### 4. (d) Interpretation\n",
    "\n",
    "Interpret the coefficients in the model from **4.b**. In particular:\n",
    "\n",
    "1. What is the difference between the mean download speed at 7am and the mean download speed at 5pm?\n",
    "2. What is the mean download speed (in seconds) in the morning?\n",
    "3. What is the mean download speed (in seconds) in the evening?\n",
    "4. What is the mean download speed (in seconds) at night?"
   ]
  },
  {
   "cell_type": "markdown",
   "metadata": {},
   "source": [
    "### Interpretation of Coefficients\n",
    "\n",
    "From the multiple linear regression model fitted in **4(b)**, the coefficients represent the expected change in download speed (in seconds) relative to the reference category (morning downloads).\n",
    "\n",
    "1. **Difference between 7am and 5pm**:\n",
    "   - The coefficient $( \\beta_1 )$ associated with `evening` represents the expected change in download speed when comparing downloads made in the evening (5 PM) to the morning (7 AM).\n",
    "   - Therefore, the difference in mean download speed between 7 AM and 5 PM is $( \\beta_1 )$ seconds.\n",
    "\n",
    "2. **Mean download speed in the morning**:\n",
    "   - The intercept $( \\beta_0 )$ represents the mean download speed at 7 AM (morning), as it corresponds to the baseline category when all other predictors (`evening` and `night`) are 0.\n",
    "   - Thus, the mean download speed in the morning is $( \\beta_0 )$ seconds.\n",
    "\n",
    "3. **Mean download speed in the evening**:\n",
    "   - Adding $( \\beta_1 )$ to $( \\beta_0 )$ gives the mean download speed at 5 PM (evening).\n",
    "   - Therefore, the mean download speed in the evening is \\( (\\beta_0 + \\beta_1) \\) seconds.\n",
    "\n",
    "4. **Mean download speed at night**:\n",
    "   - Adding $( \\beta_2 )$ to $( \\beta_0 )$ gives the mean download speed at 12 AM (night).\n",
    "   - Thus, the mean download speed at night is \\( (\\beta_0 + \\beta_2) \\) seconds.\n",
    "\n",
    "### Conclusion\n",
    "\n",
    "These interpretations provide insights into how the time of day influences download speeds, based on the coefficients estimated in the multiple linear regression model. Adjust variable names $(`\\beta_0`, `\\beta_1`, `\\beta_2`)$ and the context (morning, evening, night) according to your specific dataset and analysis.\n"
   ]
  },
  {
   "cell_type": "code",
   "execution_count": null,
   "metadata": {},
   "outputs": [],
   "source": []
  }
 ],
 "metadata": {
  "kernelspec": {
   "display_name": "R",
   "language": "R",
   "name": "ir"
  },
  "language_info": {
   "codemirror_mode": "r",
   "file_extension": ".r",
   "mimetype": "text/x-r-source",
   "name": "R",
   "pygments_lexer": "r",
   "version": "3.6.3"
  }
 },
 "nbformat": 4,
 "nbformat_minor": 4
}
