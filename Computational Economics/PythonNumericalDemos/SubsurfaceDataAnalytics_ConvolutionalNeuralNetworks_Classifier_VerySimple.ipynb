{
 "cells": [
  {
   "cell_type": "markdown",
   "metadata": {
    "id": "V96fc28ZXJbn"
   },
   "source": [
    "<p align=\"center\">\n",
    "    <img src=\"https://github.com/GeostatsGuy/GeostatsPy/blob/master/TCG_color_logo.png?raw=true\" width=\"220\" height=\"240\" />\n",
    "\n",
    "</p>\n",
    "\n",
    "## Simple Convolutional Neural Network (CNN) Image Classification Demonstration\n",
    "\n",
    "#### Michael Pyrcz, Associate Professor, University of Texas at Austin \n",
    "\n",
    "\n",
    "##### [Twitter](https://twitter.com/geostatsguy) | [GitHub](https://github.com/GeostatsGuy) | [Website](http://michaelpyrcz.com) | [GoogleScholar](https://scholar.google.com/citations?user=QVZ20eQAAAAJ&hl=en&oi=ao) | [Book](https://www.amazon.com/Geostatistical-Reservoir-Modeling-Michael-Pyrcz/dp/0199731446) | [YouTube](https://www.youtube.com/channel/UCLqEr-xV-ceHdXXXrTId5ig)  | [LinkedIn](https://www.linkedin.com/in/michael-pyrcz-61a648a1) | [GeostatsPy](https://github.com/GeostatsGuy/GeostatsPy)\n",
    "\n",
    "#### Honggeun Jo, Graduate Candidate, The University of Texas at Austin\n",
    "\n",
    "##### [LinkedIn](https://www.linkedin.com/in/honggeun-jo/?originalSubdomain=kr) | [GitHub](https://github.com/whghdrms) | [Twitter](https://twitter.com/HonggeunJ)\n",
    "\n",
    "\n",
    "### Workflow for training CNN to classify images\n",
    "\n",
    "This workflow demonstrates design and training of a CNN model to classify for a variety of synthetic labeled images.\n",
    "\n",
    "* a very simple, well-documented toy problem to support experiential learning \n",
    "\n",
    "### Convolutional Neural Networks\n",
    "\n",
    "Extension of the artifical neural network, based on the visual cortex:\n",
    "\n",
    "* extraction of features from overlapping receptive fields, over a hierarchy (not shown) and then recompose the whole image, our perception.\n",
    "\n",
    "* We don’t perceive all the ‘pixels’, our visual cortex interprets and summarizes patterns. Let’s make a machine to do this.\n",
    "\n",
    "**Regularization**: a constraint to reduce the sensitivity of the model to the data, to reduce model variance\n",
    "\n",
    "Receptive Fields\n",
    "\n",
    "* the use of receptive fields is a form of regularization\n",
    "\n",
    "* massive reduction in connections, weights and model parameters\n",
    "\n",
    "* effectively shrinking these potential weights to zero\n",
    "\n",
    "* while integrating / focusing on pixel patterns!\n",
    "\n",
    "We have access to operators to move from layer to layer (feature maps to feature maps) in our convolutional neural networks.  The common operators include:\n",
    "\n",
    "* **Convolution** – a weighting window / filter designed to extract features\n",
    "\n",
    "* **Pooling** – reduction in dimensionality, increase local translation invariance \n",
    "\n",
    "* **Depth-wise Pooling, Down Sampling** – 1x1 filter that combine channels, feature maps\n",
    "\n",
    "* **Activation** – use of an activation function to apply a nonlinear transformation to impart nonlinearity to the system\n",
    "\n",
    "* **Full-connected, feed forward** – see previous lecture \n",
    "\n",
    "For a demonstration of all of these operators, check out this [Python Jupyter Notebook](https://github.com/GeostatsGuy/PythonNumericalDemos/blob/master/SubsurfaceDataAnalytics_Convolution_Operators.ipynb)\n",
    "\n",
    "#### Objective \n",
    "\n",
    "I teach data analytics, geostatistics and machine learning. To demonstrate the basic construction of a convolutional neural networks, training and prediction.  \n",
    "\n",
    "* I use these examples in my lecture notes, see the lecture posted on my YouTube channel.\n",
    "\n",
    "* gain experiential learning with the nuts and bolts of convolutional neural networks\n",
    "\n",
    "Note, I just demonstrate the construction, training and prediction. There is no attempt to tune the convolutional neural network hyperparameters.\n",
    "\n",
    "#### Getting Started\n",
    "\n",
    "Here's the steps to get setup in Python with the GeostatsPy package:\n",
    "\n",
    "1. Install Anaconda 3 on your machine (https://www.anaconda.com/download/). \n",
    "2. From Anaconda Navigator (within Anaconda3 group), go to the environment tab, click on base (root) green arrow and open a terminal. \n",
    "3. In the terminal type: pip install geostatspy. \n",
    "4. Open Jupyter and in the top block get started by copy and pasting the code block below from this Jupyter Notebook to start using the geostatspy functionality. \n",
    "\n",
    "There are exampled below with these functions. You can go here to see a list of the available functions, https://git.io/fh4eX, other example workflows and source code. \n",
    "\n",
    "#### Load the required libraries\n",
    "\n",
    "The following code loads the required libraries.\n",
    "\n",
    "We will need some standard packages. These should have been installed with Anaconda 3.\n",
    "* [numpy](https://numpy.org/): To generate arrays <br>\n",
    "* [matplotlib](https://matplotlib.org/): Vilsualization purpose <br>\n",
    "* sklearn: for model metrics, confusion matrices, one hot encoder\n",
    "\n",
    "We also will need tensor flow, this will require an install as it is not available in Anaconda\n",
    "* [tensorflow > 2.0.0](https://www.tensorflow.org/learn): Design, compile and train neural network models"
   ]
  },
  {
   "cell_type": "code",
   "execution_count": 1,
   "metadata": {
    "executionInfo": {
     "elapsed": 189,
     "status": "ok",
     "timestamp": 1621129211466,
     "user": {
      "displayName": "HONGGEUN JO",
      "photoUrl": "https://lh3.googleusercontent.com/a-/AOh14GjjMrjKxVvTiBoV4qCmbZQiE5mDJaodEzKxwowf=s64",
      "userId": "13788572619033134064"
     },
     "user_tz": 300
    },
    "id": "ag7inwQ-XJbv"
   },
   "outputs": [],
   "source": [
    "import numpy as np                                      # ndarrays for gridded data, our images\n",
    "import matplotlib.pyplot as plt                         # plotting                   \n",
    "import pandas as pd\n",
    "from sklearn.metrics import f1_score, accuracy_score, recall_score, confusion_matrix # model metrics\n",
    "from scipy.ndimage import gaussian_filter               # Gaussian filter for smoothing our images\n",
    "from sklearn.preprocessing import OneHotEncoder         # one hot encoder for our response feature\n",
    "\n",
    "import tensorflow as tf                                 # import tensor flow\n",
    "from tensorflow import keras\n",
    "from tensorflow.keras import layers\n",
    "from tensorflow.keras.models import Model\n",
    "\n",
    "assert tf.__version__.startswith('2.')                  # this will give you error if tensorflow < 2.0\n",
    "tf.keras.backend.set_floatx('float32')                  # default float to be 'float32' (Tensorflow only works with float8, 16, 32)\n",
    "\n",
    "physical_devices = tf.config.list_physical_devices('GPU') # constrain memory use to avoid a CUDNN_STATUS_ALLOC_FAILED error\n",
    "tf.config.experimental.set_memory_growth(physical_devices[0], True)\n",
    "\n",
    "seed = 73073                                            # set the random number seed for repeatability\n",
    "np.random.seed(seed)                                    \n",
    "\n",
    "cmap = plt.cm.inferno                                   # color map for plots\n",
    "\n",
    "tf.compat.v1.logging.set_verbosity(tf.compat.v1.logging.ERROR) # there are a lot of retrace warnings we can ignore\n"
   ]
  },
  {
   "cell_type": "markdown",
   "metadata": {
    "id": "gegnx7Ak1FoV"
   },
   "source": [
    "#### Check Your Hardware\n",
    "\n",
    "Let's confirm that we have access to a properly configured GPU.\n",
    "\n",
    "* you should see a 'physcial_device:GPU' device listed below"
   ]
  },
  {
   "cell_type": "code",
   "execution_count": null,
   "metadata": {
    "id": "w7PB4F9b1FoW",
    "outputId": "1cb97ff5-0aba-484a-f0e3-5ff129333c1e"
   },
   "outputs": [
    {
     "data": {
      "text/plain": [
       "[PhysicalDevice(name='/physical_device:GPU:0', device_type='GPU')]"
      ]
     },
     "execution_count": 2,
     "metadata": {
      "tags": []
     },
     "output_type": "execute_result"
    }
   ],
   "source": [
    "tf.config.list_physical_devices('GPU')                  # check for a properly configured GPU"
   ]
  },
  {
   "cell_type": "markdown",
   "metadata": {},
   "source": [
    "No worries if you don't have a configured GPU as this workflow was tested in a CPU only environment and it ran.\n",
    "\n",
    "* likely a longer run time"
   ]
  },
  {
   "cell_type": "markdown",
   "metadata": {
    "id": "KNzH3gY41FoX"
   },
   "source": [
    "#### Define Functions\n",
    "\n",
    "Let's define a couple of convenience functions for workflow brevity and read-ability\n",
    "\n",
    "* train and test accuracy over epochs performance plots\n",
    "* train and test prediction acurracy, confusion matrix plots\n",
    "* visualize the trained CNN filters\n",
    "* visualize the feature maps for a specific image classification case\n",
    "* visualize the last layer, the probability output from the softmax activation function"
   ]
  },
  {
   "cell_type": "code",
   "execution_count": 23,
   "metadata": {
    "executionInfo": {
     "elapsed": 583,
     "status": "ok",
     "timestamp": 1621130828337,
     "user": {
      "displayName": "HONGGEUN JO",
      "photoUrl": "https://lh3.googleusercontent.com/a-/AOh14GjjMrjKxVvTiBoV4qCmbZQiE5mDJaodEzKxwowf=s64",
      "userId": "13788572619033134064"
     },
     "user_tz": 300
    },
    "id": "di4QxA0b1FoX"
   },
   "outputs": [],
   "source": [
    "def model_performance(history,nepoch):                  # visualize error and loss, training and testing over Epochs     \n",
    "    plt.subplot(1,2,1)\n",
    "    plt.plot(history.history['loss'],c='red')\n",
    "    plt.plot(history.history['val_loss'],c='black')\n",
    "    plt.title('CNN Model Loss')\n",
    "    plt.ylabel('Testing Categorical Entropy'); plt.xlabel('Epoch'); plt.grid()\n",
    "    plt.legend(['train', 'test'], loc='upper right'); plt.xlim([0,nepoch]); plt.ylim([0,1])\n",
    "    \n",
    "    plt.subplot(1,2,2)\n",
    "    plt.plot(history.history['categorical_accuracy'],c='red')\n",
    "    plt.plot(history.history['val_categorical_accuracy'],c='black')\n",
    "    plt.title('CNN Model Accuracy')\n",
    "    plt.ylabel('Testing Proportion Correct Classification'); plt.xlabel('Epoch'); plt.grid()\n",
    "    plt.legend(['train', 'test'], loc='upper right'); plt.xlim([0,nepoch]); plt.ylim([0,1])\n",
    "    plt.subplots_adjust(left=0.0, bottom=0.0, right=2.0, top=1.1, wspace=0.3, hspace=0.3)\n",
    "    plt.show()\n",
    "    \n",
    "def model_cross_validation(model,X_train,X_test,y_train,y_test): # visualize misclassification error for training and testing data \n",
    "    y_train_predict = model.predict(X_train[:,:,:,0].reshape([ntrain,nx,ny,-1])) # predict over the training images\n",
    "    y_train_predict = np.argmax(y_train_predict,axis = 1) # assign the maximum probability category\n",
    "    \n",
    "    y_test_predict = model.predict(X_test[:,:,:,0].reshape([ntest,nx,ny,-1])) # predict over the testing images \n",
    "    y_test_predict = np.argmax(y_test_predict,axis = 1) # assign the maximum probability category\n",
    "    \n",
    "    plt.subplot(121)                                                \n",
    "    train_confusion_matrix = confusion_matrix(y_train,y_train_predict) # calculate and plot train confusion matrix\n",
    "    train_confusion_matrix = train_confusion_matrix/np.sum(train_confusion_matrix) \n",
    "    im = plt.imshow(train_confusion_matrix,cmap=cmap,vmin=0.0,vmax=1.0); plt.xlabel('Prediction'); plt.ylabel('Truth'); plt.title('Training Confusion Matrix')\n",
    "    ax = plt.gca(); ax.set_xticks([0,1]); ax.set_xticklabels(name)\n",
    "    ax.set_yticks([0,1]); ax.set_yticklabels(name)\n",
    "    cbar = plt.colorbar(im, orientation=\"vertical\", ticks=np.linspace(0, 1.0, 5))\n",
    "    cbar.set_label('Proportion', rotation=270, labelpad=20)\n",
    "    \n",
    "    plt.subplot(122)\n",
    "    test_confusion_matrix = confusion_matrix(y_test,y_test_predict) # calculate and plot train confusion matrix\n",
    "    test_confusion_matrix = test_confusion_matrix/np.sum(test_confusion_matrix) \n",
    "    im = plt.imshow(test_confusion_matrix,cmap=cmap,vmin = 0,vmax = 1.0)\n",
    "    plt.xlabel('Prediction'); plt.ylabel('Truth'); plt.title('Testing Confusion Matrix')\n",
    "    ax = plt.gca(); ax.set_xticks([0,1]); ax.set_xticklabels(name)\n",
    "    ax.set_yticks([0,1]); ax.set_yticklabels(name)\n",
    "    cbar = plt.colorbar(im, orientation=\"vertical\", ticks=np.linspace(0, 1.0, 5))\n",
    "    cbar.set_label('Proportion', rotation=270, labelpad=20)\n",
    "    \n",
    "    plt.subplots_adjust(left=0.0, bottom=0.0, right=2.0, top=1.1, wspace=0.3, hspace=0.3)\n",
    "    plt.show()\n",
    "    \n",
    "    print(f'            Train   Test')                  # print a table with train and test accuracy\n",
    "    print(f'precision: {accuracy_score(y_train.flatten(), y_train_predict):.4f}, {accuracy_score(y_test.flatten(), y_test_predict):.4f}')\n",
    "    print(f'recall:    {recall_score(y_train.flatten(), y_train_predict, average = \"weighted\"):.4f}, {recall_score(y_test.flatten(), y_test_predict, average = \"weighted\"):.4f}')\n",
    "    print(f'f1 score:  {f1_score(y_train.flatten(), y_train_predict, average = \"weighted\"):.4f}, {f1_score(y_test.flatten(), y_test_predict, average = \"weighted\"):.4f}')\n",
    "\n",
    "def visualize_filters(model):                           # visualize CNN filters\n",
    "    for layer in model.layers:\n",
    "        if 'conv' not in layer.name:                    # check if layers is a convolution\n",
    "            continue\n",
    "        filters, biases = layer.get_weights()\n",
    "        fmin, fmax = filters.min(), filters.max()       # normalize the filter weights for visualization\n",
    "        filters = (filters - fmin) / (fmax - fmin)\n",
    "        print('Convolution Layer Name: ' + layer.name + ', Shape: ' + str(filters.shape[0]) + ' x ' + str(filters.shape[1]) + ', Number of Channels: ' + str(filters.shape[3]) + '.')\n",
    "        nch = filters.shape[3]\n",
    "        for ich in range(0,nch):\n",
    "            plt.subplot(1,nch,ich+1)\n",
    "            im = plt.imshow(filters[:,:,0,ich],cmap=cmap,vmin=0.0,vmax=1.0)\n",
    "            ax = plt.gca(); ax.set_xticks([0,1,2]); ax.set_xticklabels([-1,0,1])\n",
    "            ax.set_yticks([0,1,2]); ax.set_yticklabels([-1,0,1])\n",
    "            cbar = plt.colorbar(im, orientation=\"vertical\", ticks=np.linspace(0.0, 1.0, 5))\n",
    "            cbar.set_label('Weights', rotation=270, labelpad=20)\n",
    "            plt.title('Filter ' + str(ich+1))\n",
    "        plt.subplots_adjust(left=0.0, bottom=0.0, right=0.5*nch, top=0.5, wspace=0.4, hspace=0.3)\n",
    "        plt.show()\n",
    "\n",
    "def vizualize_feature_maps(model,image):                # visualize CNN feature maps for a prediction case\n",
    "    ilayer = -1\n",
    "    for layer in model.layers:\n",
    "        ilayer = ilayer + 1\n",
    "        # check for convolutional layer\n",
    "        if 'conv' not in layer.name:\n",
    "            continue\n",
    "        model_trunc = Model(inputs=model.inputs, outputs=model.layers[ilayer].output) # truncate model to output feature maps\n",
    "        feature_maps = model_trunc.predict(X[image,:,:,0].reshape([1,nx,ny,-1]))        \n",
    "        print('Convolution Layer Name: ' + layer.name + ', Shape: ' + str(feature_maps.shape[1]) + ' x ' + str(feature_maps.shape[2]) + ', Number of Channels: ' + str(feature_maps.shape[3]) + '.')\n",
    "    \n",
    "        nch = feature_maps.shape[3]\n",
    "        plt.subplot(1,nch+1,1)\n",
    "        fig = plt.imshow(X[image,:,:,0], cmap=cmap)\n",
    "        fig.axes.get_xaxis().set_visible(False); fig.axes.get_yaxis().set_visible(False)\n",
    "        plt.title('Image ' + str(image) + ': ' + name[y[image]])\n",
    "    \n",
    "        for ich in range(0,nch):\n",
    "            plt.subplot(1,nch+1,ich+2)\n",
    "            im = plt.imshow(feature_maps[0, :, :, ich], cmap=cmap)\n",
    "            ax = plt.gca(); ax.set_xticks([]); ax.set_yticks([])\n",
    "            plt.title('Feature Map ' + str(ich+1))\n",
    "        \n",
    "        plt.subplots_adjust(left=0.0, bottom=0.0, right=0.5*nch, top=0.5, wspace=0.4, hspace=0.3)\n",
    "        plt.show()\n",
    "\n",
    "def visualize_last_layers(model, image):\n",
    "    ilayer = -1\n",
    "    for layer in model.layers:\n",
    "        ilayer = ilayer + 1\n",
    "        # check for convolutional layer\n",
    "        if 'dense' not in layer.name:\n",
    "            continue\n",
    "        model_trunc = Model(inputs=model.inputs, outputs=model.layers[ilayer].output) # truncate model to output feature maps\n",
    "        output_layer = model_trunc.predict(X[image,:,:,0].reshape([1,nx,ny,-1]))        \n",
    "\n",
    "        plt.subplot(1,2,1)\n",
    "        fig = plt.imshow(X[image,:,:,0], cmap=cmap)\n",
    "        fig.axes.get_xaxis().set_visible(False); fig.axes.get_yaxis().set_visible(False)\n",
    "        plt.title('Image ' + str(image) + ': ' + name[y[image]])\n",
    "\n",
    "        plt.subplot(1,2,2)\n",
    "        plt.title('Predicted Category Probabilities')\n",
    "        plt.bar(x = ['Random', 'Smooth'], height = output_layer.flatten()*100,color='red',edgecolor='black',alpha=0.2)\n",
    "        plt.xlabel('Image Categories'); plt.ylabel('Probability (\\%)')\n",
    "        plt.subplots_adjust(left=0.0, bottom=0.0, right=2.0, top=1.1, wspace=0.4, hspace=0.3)\n",
    "        plt.show()                "
   ]
  },
  {
   "cell_type": "markdown",
   "metadata": {
    "id": "Ew5y-AjOXJbx"
   },
   "source": [
    "### Simple Convolutional Neural Network Example\n",
    "\n",
    "Let's start with a very simple problem. \n",
    "\n",
    "* **smoothed** and unsmoothed **random** image classification\n",
    "\n",
    "#### Make a Random Simple Dataset\n",
    "\n",
    "We make 100 simple images, 80 train and 20 test 12x12 monochrome images.\n",
    "\n",
    "* we do this for a very rapid, fast toy problem\n",
    "\n",
    "We make the random training and testing images and visualize some of the testing models with their labels."
   ]
  },
  {
   "cell_type": "code",
   "execution_count": 4,
   "metadata": {
    "colab": {
     "base_uri": "https://localhost:8080/",
     "height": 410
    },
    "executionInfo": {
     "elapsed": 1501,
     "status": "ok",
     "timestamp": 1621130830095,
     "user": {
      "displayName": "HONGGEUN JO",
      "photoUrl": "https://lh3.googleusercontent.com/a-/AOh14GjjMrjKxVvTiBoV4qCmbZQiE5mDJaodEzKxwowf=s64",
      "userId": "13788572619033134064"
     },
     "user_tz": 300
    },
    "id": "VvCi3CUUXJbx",
    "outputId": "5478c209-9afa-41a0-cd7b-c2c9ecbfe0db"
   },
   "outputs": [
    {
     "data": {
      "image/png": "[encoded data removed]",
      "text/plain": [
       "<Figure size 720x720 with 21 Axes>"
      ]
     },
     "metadata": {
      "needs_background": "light"
     },
     "output_type": "display_data"
    }
   ],
   "source": [
    "np.random.seed(seed)                                    # make synthetic images \n",
    "nmodel = 100; psmooth = 0.5; ptest = 0.2; nx = 12; ny = 12\n",
    "ntest = int(nmodel*ptest); ntrain = nmodel - ntest\n",
    "X = np.random.rand(nmodel,nx,ny,1)\n",
    "y = np.zeros(nmodel,dtype = int); name = ['random','smooth']\n",
    "X_train = np.zeros([ntrain,nx,ny,1]); y_train = np.zeros(ntrain,dtype = int)\n",
    "X_test = np.zeros([ntest,nx,ny,1]); y_test = np.zeros(ntest,dtype = int)\n",
    "\n",
    "for i in range(0,nmodel):\n",
    "    if np.random.rand() < psmooth:\n",
    "        X[i,:,:,0] = gaussian_filter(X[i,:,:,0], sigma=1)\n",
    "        y[i] = 1\n",
    "    if i < ntest:\n",
    "        X_test[i,:,:,0] = X[i,:,:,0]; \n",
    "        y_test[i] = y[i]\n",
    "    else:\n",
    "        X_train[i-ntest,:,:,0] = X[i,:,:,0]; \n",
    "        y_train[i-ntest] = y[i]\n",
    "\n",
    "y_train = y_train.reshape(ntrain,-1)  \n",
    "y_test = y_test.reshape(ntest,-1)         \n",
    "            \n",
    "c, r = 7, 3                                             # visualize labelled synthetic images\n",
    "plt.figure(figsize = (10,10))\n",
    "for i in range(c*r):\n",
    "    plt.subplot(r,c,i+1)\n",
    "    fig = plt.imshow(X[i,:,:,0],cmap=cmap)\n",
    "    fig.axes.get_xaxis().set_visible(False); fig.axes.get_yaxis().set_visible(False)\n",
    "    plt.title('Image ' + str(i) + ': ' + name[y[i]])\n",
    "\n",
    "plt.subplots_adjust(left=0.0, bottom=0.0, right=1.3, top=0.5, wspace=0.01, hspace=0.3)\n",
    "plt.show()"
   ]
  },
  {
   "cell_type": "markdown",
   "metadata": {
    "id": "flSy63AZXJb1"
   },
   "source": [
    "#### Data Preprocessing\n",
    "\n",
    "First, we should preprocess our data. \n",
    "\n",
    "* our images have a range of [0,1] so we don't need min-max normalization \n",
    "\n",
    "* also as catetories (e.g., y_train and y_test) are non-ordinal categorical variables, we will apply one-hot-encode to make the variable more compatible with a neural network model. \n",
    "\n",
    "* should we have ordinal categories (e.g.,'first','second', and 'third'), we can just use categorical number (i.e., integer encode). Following figure presents how one-hot-encode works in our example:  \n",
    "\n",
    "| Predictor Feature Label | Predictor Feature Value | Random | Smooth |\n",
    "| :---------------------: | :---------------------: | :----: | :----: |\n",
    "| Random                  | 0                       | 1      | 0      |\n",
    "| Smooth                  | 1                       | 0      | 1      |\n",
    "\n",
    "\n",
    "To learn more about integer encoding and one-hot-encoding, please refer this lecture on [feature transformations](https://www.youtube.com/playlist?list=PLG19vXLQHvSC2ZKFIkgVpI9fCjkN38kwf)."
   ]
  },
  {
   "cell_type": "code",
   "execution_count": 13,
   "metadata": {
    "executionInfo": {
     "elapsed": 886,
     "status": "ok",
     "timestamp": 1621130830096,
     "user": {
      "displayName": "HONGGEUN JO",
      "photoUrl": "https://lh3.googleusercontent.com/a-/AOh14GjjMrjKxVvTiBoV4qCmbZQiE5mDJaodEzKxwowf=s64",
      "userId": "13788572619033134064"
     },
     "user_tz": 300
    },
    "id": "ZZWwR58UXJb2"
   },
   "outputs": [],
   "source": [
    "enc = OneHotEncoder(categories = [[0,1]])               # 0 -> [1, 0] (Random) and 1 -> [0, 1] (Smoothed)\n",
    "enc.fit(y_train)\n",
    "y_train_one_hot, y_test_one_hot = enc.transform(y_train), enc.transform(y_test)"
   ]
  },
  {
   "cell_type": "markdown",
   "metadata": {
    "id": "vjGhQSKaXJb3"
   },
   "source": [
    "#### Step 1. Define Classification Convolutional Neural Network \n",
    "\n",
    "Now we will define our convolutional neural network\n",
    "\n",
    "* with keras frontend for tensor flow it is not too dificult to design our network\n",
    "\n",
    "* the overall architure looks like this:\n",
    "\n",
    "See image from this [blog post](https://towardsdatascience.com/a-comprehensive-guide-to-convolutional-neural-networks-the-eli5-way-3bd2b1164a53) by Sumit Saha.\n",
    "\n",
    "We cycle multiple layers of:\n",
    "\n",
    "* convolution and activation with ReLU and 25% drop out\n",
    "\n",
    "* max pooling\n",
    "\n",
    "After multiple cycles we have learning the features in the images we then finish with:\n",
    "\n",
    "* flattening the feature into a 1D vector\n",
    "\n",
    "* feed-forward, fully-connected artificial neural network with 8 output nodes for the probability of each category\n",
    "\n",
    "As specified below the model includes:\n",
    "\n",
    "* cycles of convolution with 3x3 kernels, stride = 2 for feature maps extent reduction (one half), and padding to avoid image dimension reduction related to filter size\n",
    "\n",
    "* feature maps transition from 12x12x1 [nx,ny,nchannel] to 6x6x3 to 3x3x6 and then a layer with a vector of 54 to an output layer with 2 output nodes"
   ]
  },
  {
   "cell_type": "code",
   "execution_count": 42,
   "metadata": {
    "executionInfo": {
     "elapsed": 400,
     "status": "ok",
     "timestamp": 1621130830097,
     "user": {
      "displayName": "HONGGEUN JO",
      "photoUrl": "https://lh3.googleusercontent.com/a-/AOh14GjjMrjKxVvTiBoV4qCmbZQiE5mDJaodEzKxwowf=s64",
      "userId": "13788572619033134064"
     },
     "user_tz": 300
    },
    "id": "bYGzEarE1Foc"
   },
   "outputs": [],
   "source": [
    "def CNN_model():                                        # CNN design function\n",
    "    model = tf.keras.Sequential()                       # define neural network model sequentially\n",
    "    # Feature map 1: (12x12x1) --> (6x6x3)\n",
    "    model.add(layers.Conv2D(3, kernel_size=(3,3), strides=2, input_shape=[nx,ny,1], padding=\"same\"))\n",
    "    model.add(layers.ReLU())\n",
    "    model.add(layers.Dropout(0.25))\n",
    "    # Feature map 2: (6x6x3) --> (3x3x6)\n",
    "    model.add(layers.Conv2D(6, kernel_size=(3,3), strides=2, padding=\"same\"))\n",
    "    model.add(layers.ReLU())\n",
    "    model.add(layers.Dropout(0.25))\n",
    "    # Flatten to vector layer: (3x3x6 --> (54)\n",
    "    model.add(layers.Flatten())\n",
    "    # Output layer: (54) --> 2 (i.e., each node corresponds to the probability to be each class)\n",
    "    model.add(layers.Dense(2, activation = 'softmax'))  # softmax activation function for classfier probabilities\n",
    "    # Compile the Neural Network - define Loss and optimizer to tune the associated weights\n",
    "    model.compile(loss='categorical_crossentropy', metrics=['categorical_accuracy'], optimizer='adam')\n",
    "    return model"
   ]
  },
  {
   "cell_type": "markdown",
   "metadata": {
    "id": "y7meszWgXJb4"
   },
   "source": [
    "#### Instantiate, Train the Convolutional Neural Network and Visualize the Model Performance in Training and Testing\n",
    "\n",
    "This includes the following steps:\n",
    "\n",
    "1. instantiate the CNN specified above \n",
    "\n",
    "2. train it with the 80 images in the training set\n",
    "\n",
    "3. visualize the training and testing accuracy over the Epochs of training\n",
    "\n",
    "4. write out the summary of the convolutional neural network"
   ]
  },
  {
   "cell_type": "code",
   "execution_count": 43,
   "metadata": {
    "colab": {
     "base_uri": "https://localhost:8080/",
     "height": 831
    },
    "executionInfo": {
     "elapsed": 3622,
     "status": "ok",
     "timestamp": 1621130833784,
     "user": {
      "displayName": "HONGGEUN JO",
      "photoUrl": "https://lh3.googleusercontent.com/a-/AOh14GjjMrjKxVvTiBoV4qCmbZQiE5mDJaodEzKxwowf=s64",
      "userId": "13788572619033134064"
     },
     "user_tz": 300
    },
    "id": "u070bqWuXJb4",
    "outputId": "83745698-3699-4bef-b2fc-be0f50abf834",
    "scrolled": false
   },
   "outputs": [
    {
     "data": {
      "image/png": "[encoded data removed]",
      "text/plain": [
       "<Figure size 432x288 with 2 Axes>"
      ]
     },
     "metadata": {
      "needs_background": "light"
     },
     "output_type": "display_data"
    },
    {
     "name": "stdout",
     "output_type": "stream",
     "text": [
      "Model: \"sequential_2\"\n",
      "_________________________________________________________________\n",
      "Layer (type)                 Output Shape              Param #   \n",
      "=================================================================\n",
      "conv2d_3 (Conv2D)            (None, 6, 6, 3)           30        \n",
      "_________________________________________________________________\n",
      "re_lu_3 (ReLU)               (None, 6, 6, 3)           0         \n",
      "_________________________________________________________________\n",
      "dropout_3 (Dropout)          (None, 6, 6, 3)           0         \n",
      "_________________________________________________________________\n",
      "conv2d_4 (Conv2D)            (None, 3, 3, 6)           168       \n",
      "_________________________________________________________________\n",
      "re_lu_4 (ReLU)               (None, 3, 3, 6)           0         \n",
      "_________________________________________________________________\n",
      "dropout_4 (Dropout)          (None, 3, 3, 6)           0         \n",
      "_________________________________________________________________\n",
      "flatten_2 (Flatten)          (None, 54)                0         \n",
      "_________________________________________________________________\n",
      "dense_2 (Dense)              (None, 2)                 110       \n",
      "=================================================================\n",
      "Total params: 308\n",
      "Trainable params: 308\n",
      "Non-trainable params: 0\n",
      "_________________________________________________________________\n"
     ]
    }
   ],
   "source": [
    "nepoch = 40; batch_size = 5                             # training parameters\n",
    "\n",
    "tf.random.set_seed(seed) \n",
    "model = CNN_model()                                     # instantiate model\n",
    "history = model.fit(X_train[:,:,:,0].reshape([ntrain,nx,ny,-1]), y_train_one_hot.todense(), \n",
    "                     batch_size=batch_size, epochs=nepoch, verbose=0, \n",
    "                     validation_data=(X_test[:,:,:,0].reshape([ntest,nx,ny,-1]), y_test_one_hot.todense()))\n",
    "    \n",
    "model_performance(history,nepoch)                       # plot loss and accuracy over training Epochs\n",
    "model.summary()                                         # write out the model summary"
   ]
  },
  {
   "cell_type": "markdown",
   "metadata": {
    "id": "ABYnyPTB1Foe"
   },
   "source": [
    "#### Predict with the Trained Convolutional Neural Network\n",
    "\n",
    "Now we load the trained deeper CNN classifier and visualize its prediction performance\n",
    "\n",
    "* we predict over the training and testing image datasets\n",
    "\n",
    "* we predict with the category assigned the maximum probability by our model"
   ]
  },
  {
   "cell_type": "code",
   "execution_count": 44,
   "metadata": {
    "colab": {
     "base_uri": "https://localhost:8080/",
     "height": 451
    },
    "executionInfo": {
     "elapsed": 693,
     "status": "ok",
     "timestamp": 1621130835277,
     "user": {
      "displayName": "HONGGEUN JO",
      "photoUrl": "https://lh3.googleusercontent.com/a-/AOh14GjjMrjKxVvTiBoV4qCmbZQiE5mDJaodEzKxwowf=s64",
      "userId": "13788572619033134064"
     },
     "user_tz": 300
    },
    "id": "cmo5m_mg1Foe",
    "outputId": "a5ecf913-32d4-4dfc-ad22-b5f93e2da47a"
   },
   "outputs": [
    {
     "data": {
      "image/png": "[encoded data removed]",
      "text/plain": [
       "<Figure size 432x288 with 4 Axes>"
      ]
     },
     "metadata": {
      "needs_background": "light"
     },
     "output_type": "display_data"
    },
    {
     "name": "stdout",
     "output_type": "stream",
     "text": [
      "            Train   Test\n",
      "precision: 1.0000, 1.0000\n",
      "recall:    1.0000, 1.0000\n",
      "f1 score:  1.0000, 1.0000\n"
     ]
    }
   ],
   "source": [
    "model_cross_validation(model,X_train,X_test,y_train,y_test) # predict and cross validate CNN classifier"
   ]
  },
  {
   "cell_type": "markdown",
   "metadata": {
    "id": "TCdW3Dpz1Foe"
   },
   "source": [
    "### Interogate the Trained Convolutional Neural Network\n",
    "\n",
    "#### Visualize the Convolution Filters\n",
    "\n",
    "We can access and visualize the convolution weights. The follow code:\n",
    "\n",
    "* loops over the layers and finds the convolution layers\n",
    "\n",
    "* loops over the channels and plots all of the filters"
   ]
  },
  {
   "cell_type": "code",
   "execution_count": 45,
   "metadata": {
    "colab": {
     "base_uri": "https://localhost:8080/",
     "height": 408
    },
    "executionInfo": {
     "elapsed": 1382,
     "status": "ok",
     "timestamp": 1621130837142,
     "user": {
      "displayName": "HONGGEUN JO",
      "photoUrl": "https://lh3.googleusercontent.com/a-/AOh14GjjMrjKxVvTiBoV4qCmbZQiE5mDJaodEzKxwowf=s64",
      "userId": "13788572619033134064"
     },
     "user_tz": 300
    },
    "id": "CpD7lzFR1Foe",
    "outputId": "a81f62b1-6595-4257-e0b4-5f364cc02e21"
   },
   "outputs": [
    {
     "name": "stdout",
     "output_type": "stream",
     "text": [
      "Convolution Layer Name: conv2d_3, Shape: 3 x 3, Number of Channels: 3.\n"
     ]
    },
    {
     "data": {
      "image/png": "[encoded data removed]",
      "text/plain": [
       "<Figure size 432x288 with 6 Axes>"
      ]
     },
     "metadata": {
      "needs_background": "light"
     },
     "output_type": "display_data"
    },
    {
     "name": "stdout",
     "output_type": "stream",
     "text": [
      "Convolution Layer Name: conv2d_4, Shape: 3 x 3, Number of Channels: 6.\n"
     ]
    },
    {
     "data": {
      "image/png": "[encoded data removed]",
      "text/plain": [
       "<Figure size 432x288 with 12 Axes>"
      ]
     },
     "metadata": {
      "needs_background": "light"
     },
     "output_type": "display_data"
    }
   ],
   "source": [
    "visualize_filters(model)                                # visualize all of the CNN filter weights"
   ]
  },
  {
   "cell_type": "markdown",
   "metadata": {
    "id": "eaXVG_WK1Fof"
   },
   "source": [
    "These are small 3 x 3 filters, but we can recognize some common structures:\n",
    "\n",
    "* averaging / smoothing\n",
    "\n",
    "* gradient\n",
    "\n",
    "* edge / sharpen (sobel)\n",
    "\n",
    "and combinations of these structures.\n",
    "\n",
    "* it makes sense that averaging, edge and gradient filters would differentiate the random and smooth images.\n",
    "\n",
    "#### Visualize the Feature Maps\n",
    "\n",
    "Let's vizualize the feature maps for prediction problem \n",
    "\n",
    "* you can specify the image below from 0 - 99"
   ]
  },
  {
   "cell_type": "code",
   "execution_count": 46,
   "metadata": {
    "colab": {
     "base_uri": "https://localhost:8080/",
     "height": 383
    },
    "executionInfo": {
     "elapsed": 814,
     "status": "ok",
     "timestamp": 1621130838486,
     "user": {
      "displayName": "HONGGEUN JO",
      "photoUrl": "https://lh3.googleusercontent.com/a-/AOh14GjjMrjKxVvTiBoV4qCmbZQiE5mDJaodEzKxwowf=s64",
      "userId": "13788572619033134064"
     },
     "user_tz": 300
    },
    "id": "XnLPYab81Fof",
    "outputId": "88ec9c8a-5b15-4a2c-b7f0-2310af83ed4b"
   },
   "outputs": [
    {
     "name": "stdout",
     "output_type": "stream",
     "text": [
      "Convolution Layer Name: conv2d_3, Shape: 6 x 6, Number of Channels: 3.\n"
     ]
    },
    {
     "data": {
      "image/png": "[encoded data removed]",
      "text/plain": [
       "<Figure size 432x288 with 4 Axes>"
      ]
     },
     "metadata": {
      "needs_background": "light"
     },
     "output_type": "display_data"
    },
    {
     "name": "stdout",
     "output_type": "stream",
     "text": [
      "Convolution Layer Name: conv2d_4, Shape: 3 x 3, Number of Channels: 6.\n"
     ]
    },
    {
     "data": {
      "image/png": "[encoded data removed]",
      "text/plain": [
       "<Figure size 432x288 with 7 Axes>"
      ]
     },
     "metadata": {
      "needs_background": "light"
     },
     "output_type": "display_data"
    }
   ],
   "source": [
    "image = 52                                               # selected prediction case image from 0 - 99\n",
    "vizualize_feature_maps(model, image)                     # function to visualize the feature maps"
   ]
  },
  {
   "cell_type": "markdown",
   "metadata": {
    "id": "58f4xmgS6ui8"
   },
   "source": [
    "\n",
    "#### Visualize the Output Layer\n",
    "\n",
    "Let's vizualize the output layer which contains the probability to be each categories (e.g., random or smooth)\n",
    "\n",
    "* you can specify the image below from 0 - 99"
   ]
  },
  {
   "cell_type": "code",
   "execution_count": 47,
   "metadata": {
    "colab": {
     "base_uri": "https://localhost:8080/",
     "height": 222
    },
    "executionInfo": {
     "elapsed": 456,
     "status": "ok",
     "timestamp": 1621130868139,
     "user": {
      "displayName": "HONGGEUN JO",
      "photoUrl": "https://lh3.googleusercontent.com/a-/AOh14GjjMrjKxVvTiBoV4qCmbZQiE5mDJaodEzKxwowf=s64",
      "userId": "13788572619033134064"
     },
     "user_tz": 300
    },
    "id": "H808m7u-6nK-",
    "outputId": "b6310f05-53af-4c99-a8bc-63d7eba1d79d"
   },
   "outputs": [
    {
     "data": {
      "image/png": "[encoded data removed]",
      "text/plain": [
       "<Figure size 432x288 with 2 Axes>"
      ]
     },
     "metadata": {
      "needs_background": "light"
     },
     "output_type": "display_data"
    }
   ],
   "source": [
    "image = 51                                               # selected prediction case image from 0 - 99\n",
    "visualize_last_layers(model, image)                      # function to visualize the output layer"
   ]
  },
  {
   "cell_type": "markdown",
   "metadata": {
    "id": "a1Mas1bP1Fof"
   },
   "source": [
    "#### Other Convolutional Neural Network Architecture Examples\n",
    "\n",
    "Some other examples of layers that could be added to the above CNN\n",
    "\n",
    "1. More dense layers, ANN feed forward\n",
    "\n",
    "```python\n",
    "    model.add(layers.Dense(512))\n",
    "    model.add(layers.BatchNormalization(momentum=0.8))\n",
    "    model.add(layers.ReLU())\n",
    "    model.add(layers.Dropout(0.25))\n",
    "```\n",
    "\n",
    "2. Max pooling 2D layers\n",
    "\n",
    "```python\n",
    "    model.add(layers.MaxPooling2D((2, 2)))\n",
    "```"
   ]
  },
  {
   "cell_type": "markdown",
   "metadata": {
    "id": "juCdblHCXJb_"
   },
   "source": [
    "#### Comments\n",
    "\n",
    "This was a very simple convolutional neural network workflow to support experiential learning with fast experientation.  \n",
    "\n",
    "The Texas Center for Data Analytics and Geostatistics has many other demonstrations on the basics of working with DataFrames, ndarrays, univariate statistics, plotting data, declustering, data transformations, trend modeling and many other workflows available [here](https://github.com/GeostatsGuy/PythonNumericalDemos), along with a package for geostatistics in Python called [GeostatsPy](https://github.com/GeostatsGuy/GeostatsPy). \n",
    "  \n",
    "We hope this was helpful,\n",
    "\n",
    "*Michael* and *Honggeun*\n",
    "\n",
    "***\n",
    "\n",
    "#### More on Michael Pyrcz and the Texas Center for Data Analytics and Geostatistics:\n",
    "\n",
    "### Michael Pyrcz, Associate Professor, University of Texas at Austin \n",
    "*Novel Data Analytics, Geostatistics and Machine Learning Subsurface Solutions*\n",
    "\n",
    "With over 17 years of experience in subsurface consulting, research and development, Michael has returned to academia driven by his passion for teaching and enthusiasm for enhancing engineers' and geoscientists' impact in subsurface resource development. \n",
    "\n",
    "For more about Michael check out these links:\n",
    "\n",
    "#### [Twitter](https://twitter.com/geostatsguy) | [GitHub](https://github.com/GeostatsGuy) | [Website](http://michaelpyrcz.com) | [GoogleScholar](https://scholar.google.com/citations?user=QVZ20eQAAAAJ&hl=en&oi=ao) | [Book](https://www.amazon.com/Geostatistical-Reservoir-Modeling-Michael-Pyrcz/dp/0199731446) | [YouTube](https://www.youtube.com/channel/UCLqEr-xV-ceHdXXXrTId5ig)  | [LinkedIn](https://www.linkedin.com/in/michael-pyrcz-61a648a1)\n",
    "\n",
    "#### Want to Work Together?\n",
    "\n",
    "I hope this content is helpful to those that want to learn more about subsurface modeling, data analytics and machine learning. Students and working professionals are welcome to participate.\n",
    "\n",
    "* Want to invite me to visit your company for training, mentoring, project review, workflow design and / or consulting? I'd be happy to drop by and work with you! \n",
    "\n",
    "* Interested in partnering, supporting my graduate student research or my Subsurface Data Analytics and Machine Learning consortium (co-PIs including Profs. Foster, Torres-Verdin and van Oort)? My research combines data analytics, stochastic modeling and machine learning theory with practice to develop novel methods and workflows to add value. We are solving challenging subsurface problems!\n",
    "\n",
    "* I can be reached at mpyrcz@austin.utexas.edu.\n",
    "\n",
    "I'm always happy to discuss,\n",
    "\n",
    "*Michael*\n",
    "\n",
    "Michael Pyrcz, Ph.D., P.Eng. Associate Professor The Hildebrand Department of Petroleum and Geosystems Engineering, Bureau of Economic Geology, The Jackson School of Geosciences, The University of Texas at Austin\n",
    "\n",
    "#### More Resources Available at: [Twitter](https://twitter.com/geostatsguy) | [GitHub](https://github.com/GeostatsGuy) | [Website](http://michaelpyrcz.com) | [GoogleScholar](https://scholar.google.com/citations?user=QVZ20eQAAAAJ&hl=en&oi=ao) | [Book](https://www.amazon.com/Geostatistical-Reservoir-Modeling-Michael-Pyrcz/dp/0199731446) | [YouTube](https://www.youtube.com/channel/UCLqEr-xV-ceHdXXXrTId5ig)  | [LinkedIn](https://www.linkedin.com/in/michael-pyrcz-61a648a1)\n"
   ]
  }
 ],
 "metadata": {
  "colab": {
   "collapsed_sections": [],
   "name": "SubsurfaceDataAnalytics_ConvolutionalNeuralNetworks_Classfier_VerySimple_HJ_review.ipynb",
   "provenance": [],
   "toc_visible": true
  },
  "kernelspec": {
   "display_name": "Python 3",
   "language": "python",
   "name": "python3"
  },
  "language_info": {
   "codemirror_mode": {
    "name": "ipython",
    "version": 3
   },
   "file_extension": ".py",
   "mimetype": "text/x-python",
   "name": "python",
   "nbconvert_exporter": "python",
   "pygments_lexer": "ipython3",
   "version": "3.8.8"
  }
 },
 "nbformat": 4,
 "nbformat_minor": 1
}
