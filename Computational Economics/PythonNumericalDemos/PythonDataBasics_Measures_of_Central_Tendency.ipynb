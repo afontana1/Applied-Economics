{
 "cells": [
  {
   "cell_type": "markdown",
   "id": "d18bc928",
   "metadata": {},
   "source": [
    "<p align=\"center\">\n",
    "    <img src=\"https://github.com/GeostatsGuy/GeostatsPy/blob/master/TCG_color_logo.png?raw=true\" width=\"220\" height=\"240\" />\n",
    "\n",
    "</p>\n",
    "\n",
    "## Data Analytics \n",
    "\n",
    "### Measures of Central Tendency in Python \n",
    "\n",
    "#### Michael Pyrcz, Associate Professor, University of Texas at Austin \n",
    "\n",
    "##### [Twitter](https://twitter.com/geostatsguy) | [GitHub](https://github.com/GeostatsGuy) | [Website](http://michaelpyrcz.com) | [GoogleScholar](https://scholar.google.com/citations?user=QVZ20eQAAAAJ&hl=en&oi=ao) | [Book](https://www.amazon.com/Geostatistical-Reservoir-Modeling-Michael-Pyrcz/dp/0199731446) | [YouTube](https://www.youtube.com/channel/UCLqEr-xV-ceHdXXXrTId5ig)  | [LinkedIn](https://www.linkedin.com/in/michael-pyrcz-61a648a1)"
   ]
  },
  {
   "cell_type": "markdown",
   "id": "4104ed24",
   "metadata": {},
   "source": [
    "### Data Analytics: Measures of Central Tendency\n",
    "\n",
    "Here's a demonstration of the calculation and visualization of measures of central tendency in Python. This demonstration is part of the resources that I include for my courses in Spatial / Subsurface Data Analytics and Geostatistics at the Cockrell School of Engineering and Jackson School of Goesciences at the University of Texas at Austin.  \n",
    "\n",
    "We will cover the following statistics:\n",
    "\n",
    "#### Measures of Centrality\n",
    "* Arithmetic Average / Mean\n",
    "* Median\n",
    "* Geometric Mean\n",
    "* Harmonic Mean\n",
    "\n",
    "#### Getting Started\n",
    "\n",
    "Here's the steps to get setup in Python with the GeostatsPy package:\n",
    "\n",
    "1. Install Anaconda 3 on your machine (https://www.anaconda.com/download/). \n",
    "2. From Anaconda Navigator (within Anaconda3 group), go to the environment tab, click on base (root) green arrow and open a terminal. \n",
    "3. In the terminal type: pip install geostatspy. \n",
    "4. Open Jupyter and in the top block get started by copy and pasting the code block below from this Jupyter Notebook to start using the geostatspy functionality. \n",
    "\n",
    "#### Importing Packages\n",
    "\n",
    "We will need some standard packages. These should have been installed with Anaconda 3."
   ]
  },
  {
   "cell_type": "code",
   "execution_count": null,
   "id": "b4bb0eb4",
   "metadata": {},
   "outputs": [],
   "source": [
    "import numpy as np\n",
    "import matplotlib.pyplot as plt\n",
    "import scipy.stats as stats\n",
    "plt.rc('axes', axisbelow=True)"
   ]
  },
  {
   "cell_type": "markdown",
   "id": "2f3541c0",
   "metadata": {},
   "source": [
    "#### Making Data\n",
    "\n",
    "Let's make a synthetic dataset.\n",
    "\n",
    "* You can specify the distribution type below."
   ]
  },
  {
   "cell_type": "code",
   "execution_count": 113,
   "id": "866c3504",
   "metadata": {},
   "outputs": [],
   "source": [
    "dist_type = 'lognormal'\n",
    "\n",
    "if dist_type == 'lognormal':\n",
    "    x = np.random.normal(loc=2.0,scale=1.0,size=10000)\n",
    "    y = np.exp(x)\n",
    "elif dist_type == 'Gaussian':\n",
    "    y = np.random.normal(loc=5000.0,scale=1000.0,size=10000)"
   ]
  },
  {
   "cell_type": "markdown",
   "id": "9cdec879",
   "metadata": {},
   "source": [
    "#### Caculating Measures of Central Tendency and Plotting\n",
    "\n",
    "The following code calculates the measures of central tendency and plots them with the histogram and CDF."
   ]
  },
  {
   "cell_type": "code",
   "execution_count": 114,
   "id": "746eb81c",
   "metadata": {},
   "outputs": [
    {
     "name": "stdout",
     "output_type": "stream",
     "text": [
      "Arithmetric mean =  12.35381134140441\n",
      "Geometric mean =  7.51495597840162\n",
      "Harmonic mean =  4.542792724390956\n",
      "Median =  7.466345961119204\n"
     ]
    },
    {
     "data": {
      "image/png": "[encoded data removed]",
      "text/plain": [
       "<Figure size 432x288 with 2 Axes>"
      ]
     },
     "metadata": {
      "needs_background": "light"
     },
     "output_type": "display_data"
    }
   ],
   "source": [
    "print('Arithmetric mean = ', str(np.average(y)))\n",
    "print('Geometric mean = ', str(stats.gmean(y)))\n",
    "print('Harmonic mean = ', str(stats.hmean(y)))\n",
    "print('Median = ', str(np.percentile(y,50)))\n",
    "\n",
    "if dist_type == 'lognormal':\n",
    "    bins=np.logspace(start=np.log10(0.01), stop=np.log10(10000), num=100)\n",
    "elif dist_type =='Gaussian':\n",
    "    bins=np.linspace(start=0, stop=10000, num=100)\n",
    "\n",
    "bins = plt.hist(y,bins=bins,color='darkorange',edgecolor='black',alpha=1.0,zorder=10)\n",
    "    \n",
    "plt.xlabel('Permeability (mD)'); plt.ylabel('Frequency'); plt.title('Log Normal Distribution and Measures of Central Tendancy')\n",
    "\n",
    "plt.vlines(np.average(y),0,np.max(bins[0])*1.1,color='black',label='arithmetic',zorder=10)\n",
    "plt.vlines(stats.gmean(y),0,np.max(bins[0])*1.1,color='blue',label='geometric',zorder=10)\n",
    "plt.vlines(stats.hmean(y),0,np.max(bins[0])*1.1,color='green',label='harmonic',zorder=10)\n",
    "plt.vlines(np.percentile(y,50),0,np.max(bins[0])*1.1,color='red',label='median',zorder=10)\n",
    "\n",
    "if dist_type == 'lognormal':\n",
    "    plt.xscale('log')\n",
    "plt.ylim([0,np.max(bins[0])*1.1]); plt.legend(loc='upper right');\n",
    "ax1 = plt.gca()\n",
    "ax2 = ax1.twinx()\n",
    "\n",
    "y_sort = np.sort(y); Fi = np.arange(1,len(y)+1) / float(len(y))\n",
    "\n",
    "ax2.plot(y_sort,Fi,c='black',ls='--',zorder=10); ax2.set_ylim([0,1]); ax2.grid(axis='y'); ax2.set_zorder(1)\n",
    "\n",
    "plt.subplots_adjust(left=0.0, bottom=0.0, right=1.5, top=1.6, wspace=0.2, hspace=0.3); plt.show()"
   ]
  },
  {
   "cell_type": "markdown",
   "id": "e5419194",
   "metadata": {},
   "source": [
    "Note, for the lognormal distribution, the geometric mean may be eclipsed by the median.\n",
    "\n",
    "#### Comments\n",
    "\n",
    "This was a basic demonstration of calculating and plotting measures of central tendency in Python.\n",
    "\n",
    "I have other demonstrations on the basics of working with DataFrames, ndarrays, univariate statistics, plotting data, declustering, data transformations, trend modeling and many other workflows available at [Python Demos](https://github.com/GeostatsGuy/PythonNumericalDemos) and a Python package for data analytics and geostatistics at [GeostatsPy](https://github.com/GeostatsGuy/GeostatsPy). \n",
    "  \n",
    "I hope this was helpful,\n",
    "\n",
    "*Michael*\n",
    "\n",
    "#### The Author:\n",
    "\n",
    "### Michael Pyrcz, Associate Professor, University of Texas at Austin \n",
    "*Novel Data Analytics, Geostatistics and Machine Learning Subsurface Solutions*\n",
    "\n",
    "With over 17 years of experience in subsurface consulting, research and development, Michael has returned to academia driven by his passion for teaching and enthusiasm for enhancing engineers' and geoscientists' impact in subsurface resource development. \n",
    "\n",
    "For more about Michael check out these links:\n",
    "\n",
    "#### [Twitter](https://twitter.com/geostatsguy) | [GitHub](https://github.com/GeostatsGuy) | [Website](http://michaelpyrcz.com) | [GoogleScholar](https://scholar.google.com/citations?user=QVZ20eQAAAAJ&hl=en&oi=ao) | [Book](https://www.amazon.com/Geostatistical-Reservoir-Modeling-Michael-Pyrcz/dp/0199731446) | [YouTube](https://www.youtube.com/channel/UCLqEr-xV-ceHdXXXrTId5ig)  | [LinkedIn](https://www.linkedin.com/in/michael-pyrcz-61a648a1)\n",
    "\n",
    "#### Want to Work Together?\n",
    "\n",
    "I hope this content is helpful to those that want to learn more about subsurface modeling, data analytics and machine learning. Students and working professionals are welcome to participate.\n",
    "\n",
    "* Want to invite me to visit your company for training, mentoring, project review, workflow design and / or consulting? I'd be happy to drop by and work with you! \n",
    "\n",
    "* Interested in partnering, supporting my graduate student research or my Subsurface Data Analytics and Machine Learning consortium (co-PIs including Profs. Foster, Torres-Verdin and van Oort)? My research combines data analytics, stochastic modeling and machine learning theory with practice to develop novel methods and workflows to add value. We are solving challenging subsurface problems!\n",
    "\n",
    "* I can be reached at mpyrcz@austin.utexas.edu.\n",
    "\n",
    "I'm always happy to discuss,\n",
    "\n",
    "*Michael*\n",
    "\n",
    "Michael Pyrcz, Ph.D., P.Eng. Associate Professor The Hildebrand Department of Petroleum and Geosystems Engineering, Bureau of Economic Geology, The Jackson School of Geosciences, The University of Texas at Austin\n",
    "\n",
    "#### More Resources Available at: [Twitter](https://twitter.com/geostatsguy) | [GitHub](https://github.com/GeostatsGuy) | [Website](http://michaelpyrcz.com) | [GoogleScholar](https://scholar.google.com/citations?user=QVZ20eQAAAAJ&hl=en&oi=ao) | [Book](https://www.amazon.com/Geostatistical-Reservoir-Modeling-Michael-Pyrcz/dp/0199731446) | [YouTube](https://www.youtube.com/channel/UCLqEr-xV-ceHdXXXrTId5ig)  | [LinkedIn](https://www.linkedin.com/in/michael-pyrcz-61a648a1)"
   ]
  },
  {
   "cell_type": "code",
   "execution_count": null,
   "id": "bc2bddec",
   "metadata": {},
   "outputs": [],
   "source": []
  }
 ],
 "metadata": {
  "kernelspec": {
   "display_name": "Python 3 (ipykernel)",
   "language": "python",
   "name": "python3"
  },
  "language_info": {
   "codemirror_mode": {
    "name": "ipython",
    "version": 3
   },
   "file_extension": ".py",
   "mimetype": "text/x-python",
   "name": "python",
   "nbconvert_exporter": "python",
   "pygments_lexer": "ipython3",
   "version": "3.9.12"
  }
 },
 "nbformat": 4,
 "nbformat_minor": 5
}
