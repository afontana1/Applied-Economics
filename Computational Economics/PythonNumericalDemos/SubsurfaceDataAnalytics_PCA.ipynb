{
 "cells": [
  {
   "cell_type": "markdown",
   "metadata": {},
   "source": [
    "\n",
    "\n",
    "<p align=\"center\">\n",
    "    <img src=\"https://github.com/GeostatsGuy/GeostatsPy/blob/master/TCG_color_logo.png?raw=true\" width=\"220\" height=\"240\" />\n",
    "\n",
    "</p>\n",
    "\n",
    "## Subsurface Data Analytics \n",
    "\n",
    "### Principal Component Analysis for Subsurface Data Analytics in Python \n",
    "\n",
    "\n",
    "#### Michael Pyrcz, Associate Professor, University of Texas at Austin \n",
    "\n",
    "##### [Twitter](https://twitter.com/geostatsguy) | [GitHub](https://github.com/GeostatsGuy) | [Website](http://michaelpyrcz.com) | [GoogleScholar](https://scholar.google.com/citations?user=QVZ20eQAAAAJ&hl=en&oi=ao) | [Book](https://www.amazon.com/Geostatistical-Reservoir-Modeling-Michael-Pyrcz/dp/0199731446) | [YouTube](https://www.youtube.com/channel/UCLqEr-xV-ceHdXXXrTId5ig)  | [LinkedIn](https://www.linkedin.com/in/michael-pyrcz-61a648a1)\n"
   ]
  },
  {
   "cell_type": "markdown",
   "metadata": {},
   "source": [
    "### Principal Component Analysis for Subsurface Data Analytics in Python \n",
    "\n",
    "Here's a simple workflow, demonstration of principal component analysis for subsurface modeling workflows. This should help you get started with building subsurface models that integrate uncertainty in the sample statistics. \n",
    "\n",
    "#### Princiapl Component Analysis\n",
    "\n",
    "Principal Component Analysis one of a variety of methods for dimensional reduction:\n",
    "\n",
    "Dimensional reduction transforms the data to a lower dimension\n",
    "\n",
    "* Given features, $𝑋_1,\\dots,𝑋_𝑚$  we would require ${m \\choose 2}=\\frac{𝑚 \\cdot (𝑚−1)}{2}$ scatter plots to visualize just the two-dimensional scatter plots.\n",
    "\n",
    "* Once we have 4 or more variables understanding our data gets very hard.\n",
    "\n",
    "* Recall the curse of dimensionality, impact inference, modeling and visualization. \n",
    "\n",
    "One solution, is to find a good lower dimensional, $𝑝$,  representation of the original dimensions $𝑚$\n",
    "\n",
    "Benefits of Working in a Reduced Dimensional Representation:\n",
    "\n",
    "1. Data storage / Computational Time\n",
    "\n",
    "2. Easier visualization\n",
    "\n",
    "3. Also takes care of multicollinearity \n",
    "\n",
    "#### Orthogonal Transformation \n",
    "\n",
    "Convert a set of observations into a set of linearly uncorrelated variables known as principal components\n",
    "\n",
    "* The number of principal components ($k$) available are min⁡($𝑛−1,𝑚$) \n",
    "\n",
    "* Limited by the variables/features, $𝑚$, and the number of data\n",
    "\n",
    "Components are ordered\n",
    "\n",
    "* First component describes the larges possible variance / accounts for as much variability as possible\n",
    "* Next component describes the largest possible remaining variance \n",
    "* Up to the maximum number of principal components\n",
    "\n",
    "Eigen Values / Eigen Vectors\n",
    "\n",
    "* The Eigen values are the variance explained for each component. \n",
    "* The Eigen vectors of the data covariance matrix are the principal components and the Eigen  \n",
    "* Out of scope – just making the linkage\n",
    "\n",
    "\n",
    "#### Objective \n",
    "\n",
    "In the PGE 383: Stochastic Subsurface Modeling class I want to provide hands-on experience with building subsurface modeling workflows. Python provides an excellent vehicle to accomplish this. I have coded a package called GeostatsPy with GSLIB: Geostatistical Library (Deutsch and Journel, 1998) functionality that provides basic building blocks for building subsurface modeling workflows. \n",
    "\n",
    "The objective is to remove the hurdles of subsurface modeling workflow construction by providing building blocks and sufficient examples. This is not a coding class per se, but we need the ability to 'script' workflows working with numerical methods.    \n",
    "\n",
    "#### Getting Started\n",
    "\n",
    "Here's the steps to get setup in Python with the GeostatsPy package:\n",
    "\n",
    "1. Install Anaconda 3 on your machine (https://www.anaconda.com/download/). \n",
    "2. From Anaconda Navigator (within Anaconda3 group), go to the environment tab, click on base (root) green arrow and open a terminal. \n",
    "3. In the terminal type: pip install geostatspy. \n",
    "4. Open Jupyter and in the top block get started by copy and pasting the code block below from this Jupyter Notebook to start using the geostatspy functionality. \n",
    "\n",
    "You will need to copy the data file to your working directory.  They are available here:\n",
    "\n",
    "* Tabular data - unconv_MV.csv at https://git.io/fjmBH.\n",
    "\n",
    "There are exampled below with these functions. You can go here to see a list of the available functions, https://git.io/fh4eX, other example workflows and source code. \n",
    "\n",
    "#### Install Packages\n",
    "\n",
    "We will include the standard packages for DataFrames and ndarrays and add sci-kit-learn (sklearn) for machine learning."
   ]
  },
  {
   "cell_type": "code",
   "execution_count": 1,
   "metadata": {},
   "outputs": [],
   "source": [
    "import os                                                 # to set current working directory \n",
    "from sklearn.decomposition import PCA                     # PCA program from scikit learn (package for machine learning)\n",
    "from sklearn.preprocessing import StandardScaler          # standardize variables to mean of 0.0 and variance of 1.0\n",
    "import pandas as pd                                       # DataFrames and plotting\n",
    "import pandas.plotting as pd_plot                         # matrix scatter plots\n",
    "import numpy as np                                        # arrays and matrix math\n",
    "import matplotlib.pyplot as plt                           # plotting\n",
    "import matplotlib.ticker as mtick\n",
    "cmap = plt.cm.inferno\n",
    "import seaborn as sns                                     # advanced plotting"
   ]
  },
  {
   "cell_type": "markdown",
   "metadata": {},
   "source": [
    "If you get a package import error, you may have to first install some of these packages. This can usually be accomplished by opening up a command window on Windows and then typing 'python -m pip install [package-name]'. More assistance is available with the respective package docs.  \n",
    "\n",
    "#### Declare functions\n",
    "\n",
    "Let's define a single function to streamline plotting correlation matrices. "
   ]
  },
  {
   "cell_type": "code",
   "execution_count": 2,
   "metadata": {},
   "outputs": [],
   "source": [
    "def plot_corr(dataframe,size=10):                         # plots a graphical correlation matrix \n",
    "    from matplotlib.colors import ListedColormap          # make a custom colormap\n",
    "    my_colormap = plt.cm.get_cmap('RdBu_r', 256)          \n",
    "    newcolors = my_colormap(np.linspace(0, 1, 256))\n",
    "    white = np.array([256/256, 256/256, 256/256, 1])\n",
    "    newcolors[65:191, :] = white                          # mask all correlations less than abs(0.8)\n",
    "    newcmp = ListedColormap(newcolors)\n",
    "    corr = dataframe.corr()\n",
    "    fig, ax = plt.subplots(figsize=(size, size))\n",
    "    im = ax.matshow(corr,vmin = -1.0, vmax = 1.0,cmap = newcmp)\n",
    "    plt.xticks(range(len(corr.columns)), corr.columns);\n",
    "    plt.yticks(range(len(corr.columns)), corr.columns);\n",
    "    plt.colorbar(im, orientation = 'vertical')\n",
    "    plt.title('Correlation Matrix')"
   ]
  },
  {
   "cell_type": "markdown",
   "metadata": {},
   "source": [
    "#### Set the working directory\n",
    "\n",
    "I always like to do this so I don't lose files and to simplify subsequent read and writes (avoid including the full address each time).\n"
   ]
  },
  {
   "cell_type": "code",
   "execution_count": 3,
   "metadata": {},
   "outputs": [],
   "source": [
    "#os.chdir(\"c:/PGE383\")                                 # set the working directory"
   ]
  },
  {
   "cell_type": "markdown",
   "metadata": {},
   "source": [
    "You will have to update the part in quotes with your own working directory and the format is different on a Mac (e.g. \"~/PGE\").  \n",
    "\n",
    "#### Read the data table\n",
    "\n",
    "First copy the \"unconv_MV.csv\" comma delimited file from https://github.com/GeostatsGuy/GeoDataSets to your working directory, then run this command to read the file into a DataFrame object (part of Pandas package).  "
   ]
  },
  {
   "cell_type": "code",
   "execution_count": 4,
   "metadata": {},
   "outputs": [],
   "source": [
    "#my_data = pd.read_csv(\"unconv_MV.csv\")  \n",
    "my_data = pd.read_csv(r\"https://raw.githubusercontent.com/GeostatsGuy/GeoDataSets/master/unconv_MV.csv\")                    # load the comma delimited data file"
   ]
  },
  {
   "cell_type": "markdown",
   "metadata": {},
   "source": [
    "Let's visualize the first several rows of our data stored in a DataFrame so we can make sure we successfully loaded the data file."
   ]
  },
  {
   "cell_type": "code",
   "execution_count": 5,
   "metadata": {},
   "outputs": [
    {
     "data": {
      "text/html": [
       "<div>\n",
       "<style scoped>\n",
       "    .dataframe tbody tr th:only-of-type {\n",
       "        vertical-align: middle;\n",
       "    }\n",
       "\n",
       "    .dataframe tbody tr th {\n",
       "        vertical-align: top;\n",
       "    }\n",
       "\n",
       "    .dataframe thead th {\n",
       "        text-align: right;\n",
       "    }\n",
       "</style>\n",
       "<table border=\"1\" class=\"dataframe\">\n",
       "  <thead>\n",
       "    <tr style=\"text-align: right;\">\n",
       "      <th></th>\n",
       "      <th>WellIndex</th>\n",
       "      <th>Por</th>\n",
       "      <th>LogPerm</th>\n",
       "      <th>AI</th>\n",
       "      <th>Brittle</th>\n",
       "      <th>TOC</th>\n",
       "      <th>VR</th>\n",
       "      <th>Production</th>\n",
       "    </tr>\n",
       "  </thead>\n",
       "  <tbody>\n",
       "    <tr>\n",
       "      <th>0</th>\n",
       "      <td>1</td>\n",
       "      <td>15.91</td>\n",
       "      <td>1.67</td>\n",
       "      <td>3.06</td>\n",
       "      <td>14.05</td>\n",
       "      <td>1.36</td>\n",
       "      <td>1.85</td>\n",
       "      <td>177.381958</td>\n",
       "    </tr>\n",
       "    <tr>\n",
       "      <th>1</th>\n",
       "      <td>2</td>\n",
       "      <td>15.34</td>\n",
       "      <td>1.65</td>\n",
       "      <td>2.60</td>\n",
       "      <td>31.88</td>\n",
       "      <td>1.37</td>\n",
       "      <td>1.79</td>\n",
       "      <td>1479.767778</td>\n",
       "    </tr>\n",
       "    <tr>\n",
       "      <th>2</th>\n",
       "      <td>3</td>\n",
       "      <td>20.45</td>\n",
       "      <td>2.02</td>\n",
       "      <td>3.13</td>\n",
       "      <td>63.67</td>\n",
       "      <td>1.79</td>\n",
       "      <td>2.53</td>\n",
       "      <td>4421.221583</td>\n",
       "    </tr>\n",
       "    <tr>\n",
       "      <th>3</th>\n",
       "      <td>4</td>\n",
       "      <td>11.95</td>\n",
       "      <td>1.14</td>\n",
       "      <td>3.90</td>\n",
       "      <td>58.81</td>\n",
       "      <td>0.40</td>\n",
       "      <td>2.03</td>\n",
       "      <td>1488.317629</td>\n",
       "    </tr>\n",
       "    <tr>\n",
       "      <th>4</th>\n",
       "      <td>5</td>\n",
       "      <td>19.53</td>\n",
       "      <td>1.83</td>\n",
       "      <td>2.57</td>\n",
       "      <td>43.75</td>\n",
       "      <td>1.40</td>\n",
       "      <td>2.11</td>\n",
       "      <td>5261.094919</td>\n",
       "    </tr>\n",
       "    <tr>\n",
       "      <th>5</th>\n",
       "      <td>6</td>\n",
       "      <td>19.47</td>\n",
       "      <td>2.04</td>\n",
       "      <td>2.73</td>\n",
       "      <td>54.37</td>\n",
       "      <td>1.42</td>\n",
       "      <td>2.12</td>\n",
       "      <td>5497.005506</td>\n",
       "    </tr>\n",
       "    <tr>\n",
       "      <th>6</th>\n",
       "      <td>7</td>\n",
       "      <td>12.70</td>\n",
       "      <td>1.30</td>\n",
       "      <td>3.70</td>\n",
       "      <td>43.03</td>\n",
       "      <td>0.45</td>\n",
       "      <td>1.95</td>\n",
       "      <td>1784.266285</td>\n",
       "    </tr>\n",
       "  </tbody>\n",
       "</table>\n",
       "</div>"
      ],
      "text/plain": [
       "   WellIndex    Por  LogPerm    AI  Brittle   TOC    VR   Production\n",
       "0          1  15.91     1.67  3.06    14.05  1.36  1.85   177.381958\n",
       "1          2  15.34     1.65  2.60    31.88  1.37  1.79  1479.767778\n",
       "2          3  20.45     2.02  3.13    63.67  1.79  2.53  4421.221583\n",
       "3          4  11.95     1.14  3.90    58.81  0.40  2.03  1488.317629\n",
       "4          5  19.53     1.83  2.57    43.75  1.40  2.11  5261.094919\n",
       "5          6  19.47     2.04  2.73    54.37  1.42  2.12  5497.005506\n",
       "6          7  12.70     1.30  3.70    43.03  0.45  1.95  1784.266285"
      ]
     },
     "execution_count": 5,
     "metadata": {},
     "output_type": "execute_result"
    }
   ],
   "source": [
    "my_data[:7]                                               # preview the first 7 rows of the dataframe"
   ]
  },
  {
   "cell_type": "markdown",
   "metadata": {},
   "source": [
    "Let's remove the well index and check the summary summary statistics."
   ]
  },
  {
   "cell_type": "code",
   "execution_count": 6,
   "metadata": {},
   "outputs": [
    {
     "data": {
      "text/html": [
       "<div>\n",
       "<style scoped>\n",
       "    .dataframe tbody tr th:only-of-type {\n",
       "        vertical-align: middle;\n",
       "    }\n",
       "\n",
       "    .dataframe tbody tr th {\n",
       "        vertical-align: top;\n",
       "    }\n",
       "\n",
       "    .dataframe thead th {\n",
       "        text-align: right;\n",
       "    }\n",
       "</style>\n",
       "<table border=\"1\" class=\"dataframe\">\n",
       "  <thead>\n",
       "    <tr style=\"text-align: right;\">\n",
       "      <th></th>\n",
       "      <th>count</th>\n",
       "      <th>mean</th>\n",
       "      <th>std</th>\n",
       "      <th>min</th>\n",
       "      <th>25%</th>\n",
       "      <th>50%</th>\n",
       "      <th>75%</th>\n",
       "      <th>max</th>\n",
       "    </tr>\n",
       "  </thead>\n",
       "  <tbody>\n",
       "    <tr>\n",
       "      <th>Por</th>\n",
       "      <td>1000.0</td>\n",
       "      <td>14.950460</td>\n",
       "      <td>3.029634</td>\n",
       "      <td>5.400000</td>\n",
       "      <td>12.85750</td>\n",
       "      <td>14.98500</td>\n",
       "      <td>17.080000</td>\n",
       "      <td>24.65000</td>\n",
       "    </tr>\n",
       "    <tr>\n",
       "      <th>LogPerm</th>\n",
       "      <td>1000.0</td>\n",
       "      <td>1.398880</td>\n",
       "      <td>0.405966</td>\n",
       "      <td>0.120000</td>\n",
       "      <td>1.13000</td>\n",
       "      <td>1.39000</td>\n",
       "      <td>1.680000</td>\n",
       "      <td>2.58000</td>\n",
       "    </tr>\n",
       "    <tr>\n",
       "      <th>AI</th>\n",
       "      <td>1000.0</td>\n",
       "      <td>2.982610</td>\n",
       "      <td>0.577629</td>\n",
       "      <td>0.960000</td>\n",
       "      <td>2.57750</td>\n",
       "      <td>3.01000</td>\n",
       "      <td>3.360000</td>\n",
       "      <td>4.70000</td>\n",
       "    </tr>\n",
       "    <tr>\n",
       "      <th>Brittle</th>\n",
       "      <td>1000.0</td>\n",
       "      <td>49.719480</td>\n",
       "      <td>15.077006</td>\n",
       "      <td>-10.500000</td>\n",
       "      <td>39.72250</td>\n",
       "      <td>49.68000</td>\n",
       "      <td>59.170000</td>\n",
       "      <td>93.47000</td>\n",
       "    </tr>\n",
       "    <tr>\n",
       "      <th>TOC</th>\n",
       "      <td>1000.0</td>\n",
       "      <td>1.003810</td>\n",
       "      <td>0.504978</td>\n",
       "      <td>-0.260000</td>\n",
       "      <td>0.64000</td>\n",
       "      <td>0.99500</td>\n",
       "      <td>1.360000</td>\n",
       "      <td>2.71000</td>\n",
       "    </tr>\n",
       "    <tr>\n",
       "      <th>VR</th>\n",
       "      <td>1000.0</td>\n",
       "      <td>1.991170</td>\n",
       "      <td>0.308194</td>\n",
       "      <td>0.900000</td>\n",
       "      <td>1.81000</td>\n",
       "      <td>2.00000</td>\n",
       "      <td>2.172500</td>\n",
       "      <td>2.90000</td>\n",
       "    </tr>\n",
       "    <tr>\n",
       "      <th>Production</th>\n",
       "      <td>1000.0</td>\n",
       "      <td>2247.295809</td>\n",
       "      <td>1464.256312</td>\n",
       "      <td>2.713535</td>\n",
       "      <td>1191.36956</td>\n",
       "      <td>1976.48782</td>\n",
       "      <td>3023.594214</td>\n",
       "      <td>12568.64413</td>\n",
       "    </tr>\n",
       "  </tbody>\n",
       "</table>\n",
       "</div>"
      ],
      "text/plain": [
       "             count         mean          std        min         25%  \\\n",
       "Por         1000.0    14.950460     3.029634   5.400000    12.85750   \n",
       "LogPerm     1000.0     1.398880     0.405966   0.120000     1.13000   \n",
       "AI          1000.0     2.982610     0.577629   0.960000     2.57750   \n",
       "Brittle     1000.0    49.719480    15.077006 -10.500000    39.72250   \n",
       "TOC         1000.0     1.003810     0.504978  -0.260000     0.64000   \n",
       "VR          1000.0     1.991170     0.308194   0.900000     1.81000   \n",
       "Production  1000.0  2247.295809  1464.256312   2.713535  1191.36956   \n",
       "\n",
       "                   50%          75%          max  \n",
       "Por           14.98500    17.080000     24.65000  \n",
       "LogPerm        1.39000     1.680000      2.58000  \n",
       "AI             3.01000     3.360000      4.70000  \n",
       "Brittle       49.68000    59.170000     93.47000  \n",
       "TOC            0.99500     1.360000      2.71000  \n",
       "VR             2.00000     2.172500      2.90000  \n",
       "Production  1976.48782  3023.594214  12568.64413  "
      ]
     },
     "execution_count": 6,
     "metadata": {},
     "output_type": "execute_result"
    }
   ],
   "source": [
    "my_data = my_data.iloc[:,1:8]                             # copy all rows and columns 1 through 8, note 0 column is removed\n",
    "my_data.describe().transpose()                            # calculate summary statistics for the data"
   ]
  },
  {
   "cell_type": "markdown",
   "metadata": {},
   "source": [
    "Good that we checked the summary statistics, we have some negative values for brittleness and total organic carbon. The is physically imposible.  \n",
    "\n",
    "* The values must be in error. We know the lowest possible values are 0.0, so we will truncate on 0.0.  \n",
    "\n",
    "We use the:\n",
    "\n",
    "```python\n",
    "df.get_numerical_data()\n",
    "```\n",
    "\n",
    "DataFrame member function to get a shallow copy of the data from the DataFrame.  \n",
    "\n",
    "Since it is a shallow copy, any changes we make to the copy are made to the data in the original DataFrame.  \n",
    "\n",
    "* This allows us to apply this simple conditional statement to all the data values in the DataFrame all at once."
   ]
  },
  {
   "cell_type": "code",
   "execution_count": 7,
   "metadata": {},
   "outputs": [
    {
     "data": {
      "text/html": [
       "<div>\n",
       "<style scoped>\n",
       "    .dataframe tbody tr th:only-of-type {\n",
       "        vertical-align: middle;\n",
       "    }\n",
       "\n",
       "    .dataframe tbody tr th {\n",
       "        vertical-align: top;\n",
       "    }\n",
       "\n",
       "    .dataframe thead th {\n",
       "        text-align: right;\n",
       "    }\n",
       "</style>\n",
       "<table border=\"1\" class=\"dataframe\">\n",
       "  <thead>\n",
       "    <tr style=\"text-align: right;\">\n",
       "      <th></th>\n",
       "      <th>count</th>\n",
       "      <th>mean</th>\n",
       "      <th>std</th>\n",
       "      <th>min</th>\n",
       "      <th>25%</th>\n",
       "      <th>50%</th>\n",
       "      <th>75%</th>\n",
       "      <th>max</th>\n",
       "    </tr>\n",
       "  </thead>\n",
       "  <tbody>\n",
       "    <tr>\n",
       "      <th>Por</th>\n",
       "      <td>1000.0</td>\n",
       "      <td>14.950460</td>\n",
       "      <td>3.029634</td>\n",
       "      <td>5.400000</td>\n",
       "      <td>12.85750</td>\n",
       "      <td>14.98500</td>\n",
       "      <td>17.080000</td>\n",
       "      <td>24.65000</td>\n",
       "    </tr>\n",
       "    <tr>\n",
       "      <th>LogPerm</th>\n",
       "      <td>1000.0</td>\n",
       "      <td>1.398880</td>\n",
       "      <td>0.405966</td>\n",
       "      <td>0.120000</td>\n",
       "      <td>1.13000</td>\n",
       "      <td>1.39000</td>\n",
       "      <td>1.680000</td>\n",
       "      <td>2.58000</td>\n",
       "    </tr>\n",
       "    <tr>\n",
       "      <th>AI</th>\n",
       "      <td>1000.0</td>\n",
       "      <td>2.982610</td>\n",
       "      <td>0.577629</td>\n",
       "      <td>0.960000</td>\n",
       "      <td>2.57750</td>\n",
       "      <td>3.01000</td>\n",
       "      <td>3.360000</td>\n",
       "      <td>4.70000</td>\n",
       "    </tr>\n",
       "    <tr>\n",
       "      <th>Brittle</th>\n",
       "      <td>1000.0</td>\n",
       "      <td>49.731480</td>\n",
       "      <td>15.033593</td>\n",
       "      <td>0.000000</td>\n",
       "      <td>39.72250</td>\n",
       "      <td>49.68000</td>\n",
       "      <td>59.170000</td>\n",
       "      <td>93.47000</td>\n",
       "    </tr>\n",
       "    <tr>\n",
       "      <th>TOC</th>\n",
       "      <td>1000.0</td>\n",
       "      <td>1.006170</td>\n",
       "      <td>0.499838</td>\n",
       "      <td>0.000000</td>\n",
       "      <td>0.64000</td>\n",
       "      <td>0.99500</td>\n",
       "      <td>1.360000</td>\n",
       "      <td>2.71000</td>\n",
       "    </tr>\n",
       "    <tr>\n",
       "      <th>VR</th>\n",
       "      <td>1000.0</td>\n",
       "      <td>1.991170</td>\n",
       "      <td>0.308194</td>\n",
       "      <td>0.900000</td>\n",
       "      <td>1.81000</td>\n",
       "      <td>2.00000</td>\n",
       "      <td>2.172500</td>\n",
       "      <td>2.90000</td>\n",
       "    </tr>\n",
       "    <tr>\n",
       "      <th>Production</th>\n",
       "      <td>1000.0</td>\n",
       "      <td>2247.295809</td>\n",
       "      <td>1464.256312</td>\n",
       "      <td>2.713535</td>\n",
       "      <td>1191.36956</td>\n",
       "      <td>1976.48782</td>\n",
       "      <td>3023.594214</td>\n",
       "      <td>12568.64413</td>\n",
       "    </tr>\n",
       "  </tbody>\n",
       "</table>\n",
       "</div>"
      ],
      "text/plain": [
       "             count         mean          std       min         25%  \\\n",
       "Por         1000.0    14.950460     3.029634  5.400000    12.85750   \n",
       "LogPerm     1000.0     1.398880     0.405966  0.120000     1.13000   \n",
       "AI          1000.0     2.982610     0.577629  0.960000     2.57750   \n",
       "Brittle     1000.0    49.731480    15.033593  0.000000    39.72250   \n",
       "TOC         1000.0     1.006170     0.499838  0.000000     0.64000   \n",
       "VR          1000.0     1.991170     0.308194  0.900000     1.81000   \n",
       "Production  1000.0  2247.295809  1464.256312  2.713535  1191.36956   \n",
       "\n",
       "                   50%          75%          max  \n",
       "Por           14.98500    17.080000     24.65000  \n",
       "LogPerm        1.39000     1.680000      2.58000  \n",
       "AI             3.01000     3.360000      4.70000  \n",
       "Brittle       49.68000    59.170000     93.47000  \n",
       "TOC            0.99500     1.360000      2.71000  \n",
       "VR             2.00000     2.172500      2.90000  \n",
       "Production  1976.48782  3023.594214  12568.64413  "
      ]
     },
     "execution_count": 7,
     "metadata": {},
     "output_type": "execute_result"
    }
   ],
   "source": [
    "num = my_data._get_numeric_data()                         # get the numerical values\n",
    "num[num < 0] = 0                                          # truncate negative values to 0.0\n",
    "my_data.describe().transpose()                            # calculate summary statistics for the data"
   ]
  },
  {
   "cell_type": "markdown",
   "metadata": {},
   "source": [
    "This dataset has variables from 1,000 unconventional wells including:\n",
    "\n",
    "* well average porosity\n",
    "* log transform of permeability (to linearize the relationships with other variables)\n",
    "* accoustic impedance (kg/m^3 x m/s x 10^6)\n",
    "* brittness ratio (%)\n",
    "* total organic carbon (%)\n",
    "* vitrinite reflectance (%)\n",
    "* initial production 90 day average (MCFPD).  \n",
    "\n",
    "Note, the dataset is synthetic.\n",
    "\n",
    "#### Calculate the correlation matrix \n",
    "\n",
    "For dimensional reduction, a good first step is data visualization.  \n",
    "\n",
    "Let's start with the correlation matrix.  \n",
    "\n",
    "We can calculate it and view it in the console with these commands.\n",
    "\n",
    "```python\n",
    "corr_matrix = np.corrcoef(my_data, rowvar = False)\n",
    "```\n",
    "\n",
    "the input data is a 2D ndarray and $rowvar$ specifies if the variables are in the rows isntead of columns. "
   ]
  },
  {
   "cell_type": "code",
   "execution_count": 8,
   "metadata": {},
   "outputs": [
    {
     "name": "stdout",
     "output_type": "stream",
     "text": [
      "[[ 1.    0.81 -0.51 -0.25  0.71  0.08  0.69]\n",
      " [ 0.81  1.   -0.32 -0.15  0.51  0.05  0.57]\n",
      " [-0.51 -0.32  1.    0.17 -0.55  0.49 -0.33]\n",
      " [-0.25 -0.15  0.17  1.   -0.24  0.3  -0.07]\n",
      " [ 0.71  0.51 -0.55 -0.24  1.    0.31  0.5 ]\n",
      " [ 0.08  0.05  0.49  0.3   0.31  1.    0.14]\n",
      " [ 0.69  0.57 -0.33 -0.07  0.5   0.14  1.  ]]\n"
     ]
    }
   ],
   "source": [
    "corr_matrix = np.corrcoef(my_data, rowvar = False)\n",
    "print(np.around(corr_matrix,2))                           # print the correlation matrix to 2 decimals"
   ]
  },
  {
   "cell_type": "markdown",
   "metadata": {},
   "source": [
    "Note the 1.0 diagonal resulting from the correlation of each variable with themselves.  \n",
    "\n",
    "Let's use our function declared above to make a graphical correlation matrix visualization.  \n",
    "\n",
    "* This may inprove our ability to spot features. It relies on the built in correlation matrix method with Numpy DataFrames and MatPlotLib for plotting."
   ]
  },
  {
   "cell_type": "code",
   "execution_count": 9,
   "metadata": {},
   "outputs": [
    {
     "data": {
      "image/png": "[encoded data removed]",
      "text/plain": [
       "<Figure size 504x504 with 2 Axes>"
      ]
     },
     "metadata": {
      "needs_background": "light"
     },
     "output_type": "display_data"
    }
   ],
   "source": [
    "plot_corr(my_data,7)                                      # using our correlation matrix visualization function\n",
    "plt.show()"
   ]
  },
  {
   "cell_type": "markdown",
   "metadata": {},
   "source": [
    "This looks good.  There is a mix of bivariate, linear correlation magnitudes. Of course, correlation coeffficients are limited to degree of linear correlations.  \n",
    "\n",
    "#### Check Matrix Scatter Plots\n",
    "\n",
    "For more complete information, let's look at the matrix scatter plot from the Pandas package. \n",
    "\n",
    "* covariance and correlation are sensitive to outliers and nonlinearity\n",
    "\n",
    "```python\n",
    "pd_plot.scatter_matrix(my_data)\n",
    "```\n",
    "\n",
    "the $alpha$ alows us to use semitransprent points for easier visualization with dense scatter plots.\n",
    "\n",
    "the $hist_kwds$ is a set of parameters for the histograms on the diagonal elements.\n"
   ]
  },
  {
   "cell_type": "code",
   "execution_count": 10,
   "metadata": {},
   "outputs": [
    {
     "data": {
      "image/png": "[encoded data removed]",
      "text/plain": [
       "<Figure size 432x432 with 49 Axes>"
      ]
     },
     "metadata": {
      "needs_background": "light"
     },
     "output_type": "display_data"
    }
   ],
   "source": [
    "pd_plot.scatter_matrix(my_data, alpha = 0.1,              # pandas matrix scatter plot\n",
    "    figsize=(6, 6),color = 'black', hist_kwds={'color':['grey']})\n",
    "plt.show()"
   ]
  },
  {
   "cell_type": "markdown",
   "metadata": {},
   "source": [
    "#### Simple Bivariate Example\n",
    "\n",
    "Let's simplify the problem to bivariate (2 features), porosity and the log transform of permeability and reduce the number of wells from 1,000 to 100."
   ]
  },
  {
   "cell_type": "code",
   "execution_count": 11,
   "metadata": {},
   "outputs": [
    {
     "data": {
      "text/html": [
       "<div>\n",
       "<style scoped>\n",
       "    .dataframe tbody tr th:only-of-type {\n",
       "        vertical-align: middle;\n",
       "    }\n",
       "\n",
       "    .dataframe tbody tr th {\n",
       "        vertical-align: top;\n",
       "    }\n",
       "\n",
       "    .dataframe thead th {\n",
       "        text-align: right;\n",
       "    }\n",
       "</style>\n",
       "<table border=\"1\" class=\"dataframe\">\n",
       "  <thead>\n",
       "    <tr style=\"text-align: right;\">\n",
       "      <th></th>\n",
       "      <th>count</th>\n",
       "      <th>mean</th>\n",
       "      <th>std</th>\n",
       "      <th>min</th>\n",
       "      <th>25%</th>\n",
       "      <th>50%</th>\n",
       "      <th>75%</th>\n",
       "      <th>max</th>\n",
       "    </tr>\n",
       "  </thead>\n",
       "  <tbody>\n",
       "    <tr>\n",
       "      <th>Por</th>\n",
       "      <td>100.0</td>\n",
       "      <td>14.9856</td>\n",
       "      <td>2.823016</td>\n",
       "      <td>9.23</td>\n",
       "      <td>12.9275</td>\n",
       "      <td>14.720</td>\n",
       "      <td>16.705</td>\n",
       "      <td>21.00</td>\n",
       "    </tr>\n",
       "    <tr>\n",
       "      <th>LogPerm</th>\n",
       "      <td>100.0</td>\n",
       "      <td>1.3947</td>\n",
       "      <td>0.390947</td>\n",
       "      <td>0.36</td>\n",
       "      <td>1.1475</td>\n",
       "      <td>1.365</td>\n",
       "      <td>1.650</td>\n",
       "      <td>2.48</td>\n",
       "    </tr>\n",
       "  </tbody>\n",
       "</table>\n",
       "</div>"
      ],
      "text/plain": [
       "         count     mean       std   min      25%     50%     75%    max\n",
       "Por      100.0  14.9856  2.823016  9.23  12.9275  14.720  16.705  21.00\n",
       "LogPerm  100.0   1.3947  0.390947  0.36   1.1475   1.365   1.650   2.48"
      ]
     },
     "execution_count": 11,
     "metadata": {},
     "output_type": "execute_result"
    }
   ],
   "source": [
    "my_data_por_perm = my_data.iloc[0:100,0:2]                # extract just por and logperm, 100 samples\n",
    "my_data_por_perm.describe().transpose()                   # calculate summary statistics for the data"
   ]
  },
  {
   "cell_type": "markdown",
   "metadata": {},
   "source": [
    "Let's first check the univariate statistics of Por and LogPerm."
   ]
  },
  {
   "cell_type": "code",
   "execution_count": 12,
   "metadata": {},
   "outputs": [
    {
     "data": {
      "image/png": "[encoded data removed]",
      "text/plain": [
       "<Figure size 432x288 with 2 Axes>"
      ]
     },
     "metadata": {
      "needs_background": "light"
     },
     "output_type": "display_data"
    }
   ],
   "source": [
    "f, (ax1, ax2) = plt.subplots(1, 2, sharey=True)\n",
    "ax1.hist(my_data_por_perm[\"Por\"], alpha = 0.8, color = 'darkorange', edgecolor = 'black', bins=20)\n",
    "ax1.set_title('Porosity')\n",
    "ax2.hist(my_data_por_perm[\"LogPerm\"], alpha = 0.8, color = 'darkorange', edgecolor = 'black', bins=20)\n",
    "ax2.set_title('Log[Permeability]')\n",
    "plt.show()"
   ]
  },
  {
   "cell_type": "markdown",
   "metadata": {},
   "source": [
    "The distributions may actually be Gaussian distributed, regardless they are well behaved, we cannot observe obvious gaps nor truncations.  \n",
    "\n",
    "Let's look at a scatter plot of porosity vs. log permeability.\n",
    "\n",
    "This would be the basic command from *matplotlib* to make a scatter plot. \n",
    "\n",
    "```python\n",
    "plt.scatter(my_data_por_perm[\"Por\"],my_data_por_perm[\"LogPerm\"]\n",
    "```\n",
    "* the additional parameters are for formatting and labels\n"
   ]
  },
  {
   "cell_type": "code",
   "execution_count": 13,
   "metadata": {},
   "outputs": [
    {
     "data": {
      "image/png": "[encoded data removed]",
      "text/plain": [
       "<Figure size 432x288 with 1 Axes>"
      ]
     },
     "metadata": {
      "needs_background": "light"
     },
     "output_type": "display_data"
    }
   ],
   "source": [
    "plt.scatter(my_data_por_perm[\"Por\"],my_data_por_perm[\"LogPerm\"],s=None, c=\"darkorange\", marker=None, cmap=None, norm=None, vmin=None, vmax=None, alpha=0.8, linewidths=1.0, edgecolors=\"black\")\n",
    "plt.title('LogPerm vs. Por'); plt.xlabel('Por'); plt.ylabel('LogPerm')\n",
    "plt.show()"
   ]
  },
  {
   "cell_type": "markdown",
   "metadata": {},
   "source": [
    "#### Calculation of Principal Components\n",
    "\n",
    "With the log of permeability we have a very nice linear relationship with porosity, PCA should work well on this data.  \n",
    "\n",
    "* We are ready to perform PCA with porosity and log of permeability. \n",
    "\n",
    "#### Standardize the Features\n",
    "\n",
    "We must standardize our variables to have a mean equal to zero, $\\bar{x} = 0.0$, and the variance equal to one, $\\sigma^{2}_{x} = 1.0$.  \n",
    "\n",
    "* Otherwise the difference between the scale of porosity and permeability would have a significant impact. This is quite arbitrary!  \n",
    "\n",
    "* What if we convert the logperm feature from log of milliDacry to log of Darcy? or change the porosity to a fraction instead of a percentage?  \n",
    "\n",
    "To remove this effect, we should always standardize unless the two variables have the same units and then the range, variance between them is meaningful."
   ]
  },
  {
   "cell_type": "code",
   "execution_count": 14,
   "metadata": {},
   "outputs": [
    {
     "name": "stdout",
     "output_type": "stream",
     "text": [
      "Original Mean Por 14.99 , Original Mean LogPerm =  1.39\n",
      "Original StDev Por 2.81 , Original StDev LogPerm =  0.39\n",
      "Mean Transformed Por = 0.0 , Mean Transformed LogPerm = -0.0\n",
      "Variance Transformed Por = 1.0000000000000002 , Variance Transformed LogPerm = 1.0\n"
     ]
    }
   ],
   "source": [
    "from sklearn.preprocessing import StandardScaler\n",
    "\n",
    "features = ['Por','LogPerm']\n",
    "x = my_data_por_perm.loc[:,features].values\n",
    "mu = np.mean(x, axis=0)\n",
    "sd = np.std(x, axis=0)\n",
    "x = StandardScaler().fit_transform(x)                     # standardize the data features to mean = 0, var = 1.0\n",
    "\n",
    "print(\"Original Mean Por\", np.round(mu[0],2), ', Original Mean LogPerm = ', np.round(mu[1],2)) \n",
    "print(\"Original StDev Por\", np.round(sd[0],2), ', Original StDev LogPerm = ', np.round(sd[1],2)) \n",
    "print('Mean Transformed Por =',np.round(np.mean(x[:,0]),2),', Mean Transformed LogPerm =',np.round(np.mean(x[:,1]),2))\n",
    "print('Variance Transformed Por =',np.var(x[:,0]),', Variance Transformed LogPerm =',np.var(x[:,1]))"
   ]
  },
  {
   "cell_type": "code",
   "execution_count": 15,
   "metadata": {},
   "outputs": [
    {
     "data": {
      "text/plain": [
       "array([[1.01010101, 0.80087707],\n",
       "       [0.80087707, 1.01010101]])"
      ]
     },
     "execution_count": 15,
     "metadata": {},
     "output_type": "execute_result"
    }
   ],
   "source": [
    "cov = np.cov(x,rowvar = False)\n",
    "cov"
   ]
  },
  {
   "cell_type": "markdown",
   "metadata": {},
   "source": [
    "\"x\" is a 2D ndarray from Numpy package with the features in columns and the samples in rows.  \n",
    "\n",
    "* Above we comfirmed that the features in the \"x\" 2D array are infact standardized. \n",
    "\n",
    "It is not a bad idea to check the univariate and bivariate distributions of our standardized variables."
   ]
  },
  {
   "cell_type": "code",
   "execution_count": 16,
   "metadata": {},
   "outputs": [
    {
     "data": {
      "image/png": "[encoded data removed]",
      "text/plain": [
       "<Figure size 432x432 with 3 Axes>"
      ]
     },
     "metadata": {
      "needs_background": "light"
     },
     "output_type": "display_data"
    }
   ],
   "source": [
    "dfS = pd.DataFrame({'sPor': x[:,0], 'sLogPerm': x[:,1]})\n",
    "sns.jointplot(data=dfS,x='sPor',y='sLogPerm',marginal_kws=dict(bins=30),color='darkorange',edgecolor='black')\n",
    "plt.subplots_adjust(left=0.0, bottom=0.0, right=1.0, top=1.1, wspace=0.2, hspace=0.3); plt.show()"
   ]
  },
  {
   "cell_type": "markdown",
   "metadata": {},
   "source": [
    "Everything looks fine and we are ready to apply principal components analysis.\n",
    "\n",
    "#### Principal Component Analysis (PCA)\n",
    "\n",
    "To run PCA with the SciKitLearn machine learning package in Python, we first make a PCA model with a specified number of components and then we 'fit' it to our data. \n",
    "\n",
    "```python\n",
    "n_components = 2\n",
    "pca = PCA(n_components=n_components)\n",
    "pca.fit(x)\n",
    "```\n",
    "As you will see later with dimensional reduction, we can use matrix math with this model and reduce our data to any dimensionality from 1 to the number of features, m. Let's run the model with number of components equal to number of features, m."
   ]
  },
  {
   "cell_type": "code",
   "execution_count": 17,
   "metadata": {},
   "outputs": [
    {
     "data": {
      "text/plain": [
       "PCA(n_components=2)"
      ]
     },
     "execution_count": 17,
     "metadata": {},
     "output_type": "execute_result"
    }
   ],
   "source": [
    "n_components = 2\n",
    "pca = PCA(n_components=n_components)\n",
    "pca.fit(x)"
   ]
  },
  {
   "cell_type": "markdown",
   "metadata": {},
   "source": [
    "#### Component Loadings\n",
    "\n",
    "The first thing we sould do is look at the component loadings.  Let's view them and interpret our result."
   ]
  },
  {
   "cell_type": "code",
   "execution_count": 18,
   "metadata": {},
   "outputs": [
    {
     "name": "stdout",
     "output_type": "stream",
     "text": [
      "[[ 0.707  0.707]\n",
      " [ 0.707 -0.707]]\n",
      "First Principal Component = [0.707 0.707]\n",
      "Second Principal Component = [ 0.707 -0.707]\n"
     ]
    }
   ],
   "source": [
    "print(np.round(pca.components_,3))\n",
    "print('First Principal Component = ' + str(np.round(pca.components_[0,:],3)))\n",
    "print('Second Principal Component = ' + str(np.round(pca.components_[1,:],3)))"
   ]
  },
  {
   "cell_type": "markdown",
   "metadata": {},
   "source": [
    "The components are listed as a 2D array (ndarray) with:\n",
    "\n",
    "* principal components on the rows\n",
    "* features on the columns\n",
    "* the rows are sorted so that the first principal component is the top row and the last principal component is the last row.\n",
    "\n",
    "#### Proportion of Variance Explained with Principal Components \n",
    "\n",
    "It is also important to look at the proportion of the variance described by each principal component."
   ]
  },
  {
   "cell_type": "code",
   "execution_count": 19,
   "metadata": {},
   "outputs": [
    {
     "name": "stdout",
     "output_type": "stream",
     "text": [
      "Variance explained by PC1 and PC2 = [0.896 0.104]\n",
      "First Principal Component explains 0.896 of the total variance.\n",
      "Second Principal Component explains 0.104 of the total variance.\n"
     ]
    }
   ],
   "source": [
    "print('Variance explained by PC1 and PC2 =', np.round(pca.explained_variance_ratio_,3))\n",
    "print('First Principal Component explains ' + str(np.round(pca.explained_variance_ratio_[0],3)) + ' of the total variance.')\n",
    "print('Second Principal Component explains ' + str(np.round(pca.explained_variance_ratio_[1],3)) + ' of the total variance.')"
   ]
  },
  {
   "cell_type": "markdown",
   "metadata": {},
   "source": [
    "#### Principal Component Scores, Forward and Reverse Projections\n",
    "\n",
    "We can calculate the principle component scores of the original data. \n",
    "\n",
    "* This is effectly a rotation of the data,  aligned with PC1 for the direction of greatest variance.  \n",
    "\n",
    "* We will calculate the principal component scores with the \"transform\" function built into PCA and then visualize as a scatter plot. \n",
    "\n",
    "* Then to \"close the loop\" and check what we have done (and our knowledge) we will reverse the PCA, go from the principal component scores back to the standardized features."
   ]
  },
  {
   "cell_type": "code",
   "execution_count": 20,
   "metadata": {
    "scrolled": true
   },
   "outputs": [
    {
     "data": {
      "image/png": "[encoded data removed]",
      "text/plain": [
       "<Figure size 864x216 with 3 Axes>"
      ]
     },
     "metadata": {
      "needs_background": "light"
     },
     "output_type": "display_data"
    }
   ],
   "source": [
    "f, (ax101, ax102, ax103) = plt.subplots(1, 3,figsize=(12,3))\n",
    "f.subplots_adjust(wspace=0.7)\n",
    "\n",
    "ax101.scatter(x[:,0],x[:,1], s=None, c=\"darkorange\", marker=None, cmap=None, norm=None, vmin=None, vmax=None, alpha=0.8, linewidths=1.0, edgecolors=\"black\")\n",
    "ax101.set_title('Standardized LogPerm vs. Por'); ax101.set_xlabel('Standardized Por'); ax101.set_ylabel('Standardized LogPerm')\n",
    "ax101.set_xlim([-3,3]); ax101.set_ylim([-3,3]);\n",
    "\n",
    "x_trans = pca.transform(x)                                # calculate the principal component scores\n",
    "ax102.scatter(x_trans[:,0],-1*x_trans[:,1],s=None, c=\"darkorange\", marker=None, cmap=None, norm=None, vmin=None, vmax=None, alpha=0.8, linewidths=1.0, edgecolors=\"black\")\n",
    "ax102.set_title('Principal Component Scores'); ax102.set_xlabel('PC1'); ax102.set_ylabel('PC2')\n",
    "ax102.set_xlim([-3,3]); ax102.set_ylim([-3,3]);\n",
    "\n",
    "x_reverse = pca.inverse_transform(x_trans)                        # reverse the principal component scores to standardized values\n",
    "ax103.scatter(x_reverse[:,0],x_reverse[:,1],s=None, c=\"darkorange\", marker=None, cmap=None, norm=None, vmin=None, vmax=None, alpha=0.8, linewidths=1.0, edgecolors=\"black\")\n",
    "ax103.set_title('Reverse PCA'); ax103.set_xlabel('Standardized Por'); ax103.set_ylabel('Standardized LogPerm')\n",
    "ax103.set_xlim([-3,3]); ax103.set_ylim([-3,3]);\n",
    "\n",
    "plt.subplots_adjust(left=0.0, bottom=0.0, right=1.3, top=1.5, wspace=0.2, hspace=0.3)\n",
    "plt.show()"
   ]
  },
  {
   "cell_type": "markdown",
   "metadata": {},
   "source": [
    "The standardized original and reverse PCA cross plots should look exactly the same. If so, the method is working.\n",
    "\n",
    "#### Conservation of Variance\n",
    "\n",
    "Let's check the variances of the principle component scores, since we have calculated them now.\n",
    "\n",
    "* we calculate the variance for each of the original features\n",
    "\n",
    "* then sum to get the original total variance\n",
    "\n",
    "* we calculate the variance for each of the transformed, principal component scores\n",
    "\n",
    "* then we sum to get the transformed total variance\n",
    "\n",
    "We note the:\n",
    "\n",
    "* the first principal component score has larger variance than the second component scores\n",
    "\n",
    "* total variance is preserved over the transformation, the sum of variance is the same for original features and m principal compenent scores"
   ]
  },
  {
   "cell_type": "code",
   "execution_count": 21,
   "metadata": {},
   "outputs": [
    {
     "name": "stdout",
     "output_type": "stream",
     "text": [
      "Variance of the 2 features:\n",
      "[1. 1.]\n",
      "\n",
      "Total Variance from Original Features:\n",
      "2.0\n",
      "\n",
      "Variance of the 2 principle components:\n",
      "[1.79 0.21]\n",
      "\n",
      "Total Variance from Original Features:\n",
      "2.0\n"
     ]
    }
   ],
   "source": [
    "print('Variance of the 2 features:')\n",
    "print(np.var(x, axis = 0))\n",
    "\n",
    "print('\\nTotal Variance from Original Features:')\n",
    "print(np.sum(np.var(x, axis = 0)))\n",
    "\n",
    "print('\\nVariance of the 2 principle components:')\n",
    "print(np.round(np.var(x_trans, axis = 0),2))\n",
    "\n",
    "print('\\nTotal Variance from Original Features:')\n",
    "print(round(np.sum(np.var(x_trans, axis = 0)),2))"
   ]
  },
  {
   "cell_type": "markdown",
   "metadata": {},
   "source": [
    "#### Independence of Principal Component Scores\n",
    "\n",
    "Let's check the correlations for the original features vs. our projected features."
   ]
  },
  {
   "cell_type": "code",
   "execution_count": null,
   "metadata": {},
   "outputs": [],
   "source": [
    "print('\\nCorrelation Matrix of the 2 original features components:')\n",
    "print(np.round(np.corrcoef(x, rowvar = False),2))\n",
    "\n",
    "print('\\nCorrelation Matrix of the 2 principle components\\' scores:')\n",
    "print(np.round(np.corrcoef(x_trans, rowvar = False),2))"
   ]
  },
  {
   "cell_type": "markdown",
   "metadata": {},
   "source": [
    "We have projected our original features with high correlation to 2 new features with no correlation!\n",
    "\n",
    "#### Principal Component Analysis By-hand with Eigenvalue and Eigen Vector Calculator\n",
    "\n",
    "Let's show PCA by-hand with the standardized features and the Eigen calculation."
   ]
  },
  {
   "cell_type": "code",
   "execution_count": null,
   "metadata": {},
   "outputs": [],
   "source": [
    "from numpy.linalg import eig\n",
    "eigen_values,eigen_vectors = eig(cov)\n",
    "print('Eigen Vectors:\\n' +  str(np.round(eigen_vectors,2)))\n",
    "print('First Eigen Vector: ' + str(eigen_vectors[:,0]))\n",
    "print('Second Eigen Vector: ' + str(eigen_vectors[:,1]))\n",
    "print('Eigen Values:\\n' +  str(np.round(eigen_values,2)))\n",
    "PC = eigen_vectors.T.dot(x.T)\n",
    "plt.subplot(121)\n",
    "plt.scatter(PC[0,:],PC[1,:],s=None, c=\"darkorange\", marker=None, cmap=None, norm=None, vmin=None, vmax=None, alpha=0.8, linewidths=1.0, edgecolors=\"black\")\n",
    "plt.title('Principal Component Scores By-hand with numpy.linalg Eig Function'); plt.xlabel('PC1'); plt.ylabel('PC2')\n",
    "plt.xlim([-3,3]); plt.ylim([-3,3]);\n",
    "\n",
    "plt.subplot(122)\n",
    "plt.scatter(x_trans[:,0],-1*x_trans[:,1],s=None, c=\"darkorange\", marker=None, cmap=None, norm=None, vmin=None, vmax=None, alpha=0.8, linewidths=1.0, edgecolors=\"black\")\n",
    "plt.title('Principal Component Scores with scikit-learn PCA'); plt.xlabel('PC1'); plt.ylabel('PC2')\n",
    "plt.xlim([-3,3]); plt.ylim([-3,3]);\n",
    "\n",
    "plt.subplots_adjust(left=0.0, bottom=0.0, right=2.3, top=1.5, wspace=0.2, hspace=0.3)\n",
    "plt.show()"
   ]
  },
  {
   "cell_type": "markdown",
   "metadata": {},
   "source": [
    "#### Demostration of Dimensional Reduction\n",
    "\n",
    "Now let's attempt **dimensional reduction** by only retaining the first principle component.  We will go from original values to predictions of original values. Recall we were able to explain about 90% of the variance with the first principal component so the result should look 'pretty good', right?  We will do the whole thing by hand to make it as simple/understandable as possible for this first time through.  Later we will be much more compact.  The steps: \n",
    "\n",
    "1. start with the original porosity and permeability data \n",
    "2. standardize such that Por and LogPerm have a mean of 0.0 and a variance of 1.0\n",
    "3. calculate the 2 principal component model, visualize the principal component scores\n",
    "4. remove the 2nd principal component by setting the associated component scores to 0.0\n",
    "5. reverse the principal component by matrix multiplication of the scores with the component loadings\n",
    "6. apply matrix math to restore the original mean and variance"
   ]
  },
  {
   "cell_type": "code",
   "execution_count": null,
   "metadata": {},
   "outputs": [],
   "source": [
    "nComp = 1\n",
    "f, ((ax201, ax202), (ax203, ax204), (ax205, ax206)) = plt.subplots(3, 2,figsize=(15,18))\n",
    "f.subplots_adjust(wspace=0.5,hspace = 0.3)\n",
    "\n",
    "ax201.scatter(my_data_por_perm[\"Por\"],my_data_por_perm[\"LogPerm\"],s=None, c=\"darkorange\", marker=None, cmap=None, norm=None, vmin=None, vmax=None, alpha=0.8, linewidths=1.0, edgecolors=\"black\")\n",
    "ax201.set_title('1. LogPerm vs. Por'); ax201.set_xlabel('Por'); ax201.set_ylabel('LogPerm')\n",
    "ax201.set_xlim([8,22]); ax201.set_ylim([0,2.5])\n",
    "\n",
    "mu = np.mean(np.vstack((my_data_por_perm[\"Por\"].values,my_data_por_perm[\"LogPerm\"].values)), axis=1)\n",
    "sd = np.std(np.vstack((my_data_por_perm[\"Por\"].values,my_data_por_perm[\"LogPerm\"].values)), axis=1)\n",
    "x = StandardScaler().fit_transform(x)                     # standardize the data features to mean = 0, var = 1.0\n",
    "\n",
    "ax202.scatter(x[:,0],x[:,1], s=None, c=\"darkorange\", marker=None, cmap=None, norm=None, vmin=None, vmax=None, alpha=0.8, linewidths=1.0, edgecolors=\"black\")\n",
    "ax202.set_title('2. Standardized LogPerm vs. Por'); ax202.set_xlabel('Standardized Por'); ax202.set_ylabel('Standardized LogPerm')\n",
    "ax202.set_xlim([-3.5,3.5]); ax202.set_ylim([-3.5,3.5])\n",
    "\n",
    "n_components = 2                                          # build principal component model with 2 components\n",
    "pca = PCA(n_components=n_components)\n",
    "pca.fit(x)\n",
    "\n",
    "x_trans = pca.transform(x)                                # calculate principal component scores\n",
    "ax203.scatter(x_trans[:,0],-1*x_trans[:,1],s=None, c=\"darkorange\", marker=None, cmap=None, norm=None, vmin=None, vmax=None, alpha=0.8, linewidths=1.0, edgecolors=\"black\")\n",
    "ax203.set_title('3. Principal Component Scores'); ax203.set_xlabel('PC1'); ax203.set_ylabel('PC2')\n",
    "ax203.set_xlim([-3.5,3.5]); ax203.set_ylim([-3.5,3.5])\n",
    "\n",
    "x_trans[:,1] = 0.0                                         # zero / remove the 2nd principal component \n",
    "\n",
    "ax204.scatter(x_trans[:,0],x_trans[:,1],s=None, c=\"darkorange\", marker=None, cmap=None, norm=None, vmin=None, vmax=None, alpha=0.8, linewidths=1.0, edgecolors=\"black\")\n",
    "ax204.set_title('4. Only 1st Principal Component Scores'); ax204.set_xlabel('PC1'); ax204.set_ylabel('PC2')\n",
    "ax204.set_xlim([-3.5,3.5]); ax204.set_ylim([-3.5,3.5])\n",
    "\n",
    "xhat = pca.inverse_transform(x_trans)                             # reverse the principal component scores to standardized values\n",
    "ax205.scatter(xhat[:,0],xhat[:,1],s=None, c=\"darkorange\", marker=None, cmap=None, norm=None, vmin=None, vmax=None, alpha=0.8, linewidths=1.0, edgecolors=\"black\")\n",
    "ax205.set_title('5. Reverse PCA'); ax205.set_xlabel('Standardized Por'); ax205.set_ylabel('Standardized LogPerm')\n",
    "ax205.set_xlim([-3.5,3.5]); ax205.set_ylim([-3.5,3.5])\n",
    "\n",
    "xhat = np.dot(pca.inverse_transform(x)[:,:nComp], pca.components_[:nComp,:])\n",
    "xhat = sd*xhat + mu                                       # remove the standardization\n",
    "\n",
    "ax206.scatter(my_data_por_perm[\"Por\"],my_data_por_perm[\"LogPerm\"],s=None, c=\"blue\", marker=None, cmap=None, norm=None, vmin=None, vmax=None, alpha=0.6, linewidths=1.0, edgecolors=\"black\")\n",
    "ax206.scatter(xhat[:,0],xhat[:,1],s=None, c=\"darkorange\", marker=None, cmap=None, norm=None, vmin=None, vmax=None, alpha=0.8, linewidths=1.0, edgecolors=\"black\")\n",
    "ax206.set_title('6. De-standardized Reverse PCA'); ax206.set_xlabel('Por'); ax206.set_ylabel('LogPerm')\n",
    "ax206.set_xlim([8,22]); ax206.set_ylim([0,2.5])\n",
    "\n",
    "plt.show()"
   ]
  },
  {
   "cell_type": "markdown",
   "metadata": {},
   "source": [
    "Let's put the original data and the resulting lower dimensional model side-by-side and check the resulting variances."
   ]
  },
  {
   "cell_type": "code",
   "execution_count": null,
   "metadata": {},
   "outputs": [],
   "source": [
    "f, (ax201, ax206) = plt.subplots(1, 2,figsize=(15,6))\n",
    "f.subplots_adjust(wspace=0.5,hspace = 0.3)\n",
    "\n",
    "ax201.scatter(my_data_por_perm[\"Por\"],my_data_por_perm[\"LogPerm\"],s=None, c=\"darkorange\", marker=None, cmap=None, norm=None, vmin=None, vmax=None, alpha=0.8, linewidths=1.0, edgecolors=\"black\")\n",
    "ax201.set_title('1. LogPerm vs. Por'); ax201.set_xlabel('Por'); ax201.set_ylabel('LogPerm')\n",
    "ax201.set_xlim([8,22]); ax201.set_ylim([0,2.5])\n",
    "\n",
    "ax206.scatter(xhat[:,0],xhat[:,1],s=None, c=\"darkorange\", marker=None, cmap=None, norm=None, vmin=None, vmax=None, alpha=0.8, linewidths=1.0, edgecolors=\"black\")\n",
    "ax206.set_title('6. De-standardized Reverse PCA'); ax206.set_xlabel('Por'); ax206.set_ylabel('LogPerm')\n",
    "ax206.set_xlim([8,22]); ax206.set_ylim([0,2.5])\n",
    "plt.show()\n",
    "\n",
    "var_por = np.var(my_data_por_perm[\"Por\"]); var_por_hat = np.var(xhat[:,0]);\n",
    "var_logperm = np.var(my_data_por_perm[\"LogPerm\"]); var_logperm_hat = np.var(xhat[:,1]);\n",
    "print('Variance Por =',np.round(var_por,3),', Variance Reduced Dimensional Por =',np.round(var_por_hat,3),'Fraction = ',np.round(var_por_hat/var_por,3))\n",
    "print('Variance LogPerm =',np.round(var_logperm,3),', Variance Reduced Dimensional LogPerm =',np.round(var_logperm_hat,3),'Fraction = ',np.round(var_logperm_hat/var_logperm,3))\n",
    "print('Total Variance =',np.round(var_por + var_logperm,3), ', Total Variance Reduced Dimension =',np.round(var_por_hat+var_logperm_hat,3),'Fraction = ',np.round((var_por_hat+var_logperm_hat)/(var_por+var_logperm),3))"
   ]
  },
  {
   "cell_type": "markdown",
   "metadata": {},
   "source": [
    "We got a model that explains 89.6% of the variance for both porosity and log permeability.\n",
    "\n",
    "#### Return to the original 6 predictors / features\n",
    "\n",
    "We will go back to the original data file and this time extract all 6 predictor variables and the first 500 samples.  "
   ]
  },
  {
   "cell_type": "code",
   "execution_count": null,
   "metadata": {},
   "outputs": [],
   "source": [
    "my_data_f6 = my_data.iloc[0:500,0:6]                      # extract the 6 predictors, 500 samples"
   ]
  },
  {
   "cell_type": "markdown",
   "metadata": {},
   "source": [
    "It is a good idea to start with the summary statistics for our data."
   ]
  },
  {
   "cell_type": "code",
   "execution_count": null,
   "metadata": {},
   "outputs": [],
   "source": [
    "my_data_f6.describe().transpose()                         # calculate summary statistics for the data"
   ]
  },
  {
   "cell_type": "markdown",
   "metadata": {},
   "source": [
    "Let's also calculate a correlation matrix and view it. "
   ]
  },
  {
   "cell_type": "code",
   "execution_count": null,
   "metadata": {},
   "outputs": [],
   "source": [
    "corr_matrix = np.corrcoef(my_data_f6, rowvar = False)\n",
    "print(np.around(corr_matrix,2))                           # print the correlation matrix to 2 decimals"
   ]
  },
  {
   "cell_type": "markdown",
   "metadata": {},
   "source": [
    "We will need to standardize each variable to have a mean of zero and a variance of one.  Let's do that and check the results. In the console below we print all the initial and standardized means and variances for all 6 predictors. "
   ]
  },
  {
   "cell_type": "code",
   "execution_count": null,
   "metadata": {},
   "outputs": [],
   "source": [
    "from sklearn.preprocessing import StandardScaler\n",
    "\n",
    "features = ['Por','LogPerm','AI','Brittle','TOC','VR']\n",
    "x_f6 = my_data_f6.loc[:,features].values\n",
    "mu_f6 = np.mean(x_f6, axis=0)\n",
    "sd_f6 = np.std(x_f6, axis=0)\n",
    "x_f6 = StandardScaler().fit_transform(x_f6)\n",
    " \n",
    "print(\"Original Means\", features[:], np.round(mu_f6[:],2)) \n",
    "print(\"Original StDevs\", features[:],np.round(sd_f6[:],2)) \n",
    "print('Mean Transformed =',features[:],np.round(x.mean(axis=0),2))\n",
    "print('Variance Transformed Por =',features[:],np.round(x.var(axis=0),2))"
   ]
  },
  {
   "cell_type": "markdown",
   "metadata": {},
   "source": [
    "We whould also check the univariate distributions for each variable."
   ]
  },
  {
   "cell_type": "code",
   "execution_count": null,
   "metadata": {},
   "outputs": [],
   "source": [
    "f, (ax6,ax7,ax8,ax9,ax10,ax11) = plt.subplots(1, 6, sharey=True, figsize=(15,2))\n",
    "ax6.hist(x_f6[:,0], alpha = 0.8, color = 'darkorange', edgecolor = 'black', bins=20); ax6.set_title('Std. Porosity'); ax6.set_xlim(-5,5)\n",
    "ax7.hist(x_f6[:,1], alpha = 0.8, color = 'darkorange', edgecolor = 'black', bins=20); ax7.set_title('Std. Log[Perm.]'); ax7.set_xlim(-5,5)\n",
    "ax8.hist(x_f6[:,2], alpha = 0.8, color = 'darkorange', edgecolor = 'black', bins=20); ax8.set_title('Std. Acoustic Imped.'); ax8.set_xlim(-5,5)\n",
    "ax9.hist(x_f6[:,3], alpha = 0.8, color = 'darkorange', edgecolor = 'black', bins=20); ax9.set_title('Std. Brittleness'); ax9.set_xlim(-5,5)\n",
    "ax10.hist(x_f6[:,4], alpha = 0.8, color = 'darkorange', edgecolor = 'black', bins=20); ax10.set_title('Std. Total Organic C'); ax10.set_xlim(-5,5)\n",
    "ax11.hist(x_f6[:,5], alpha = 0.8, color = 'darkorange', edgecolor = 'black', bins=20); ax11.set_title('Std. Vit. Reflectance'); ax11.set_xlim(-5,5)\n",
    "plt.show()"
   ]
  },
  {
   "cell_type": "markdown",
   "metadata": {},
   "source": [
    "The summary statistics and distributions look good.  No obvious missing data, gaps, significant truncations, spikes or outliers.  We are ready to peform principal component analysis on our 6 features."
   ]
  },
  {
   "cell_type": "code",
   "execution_count": null,
   "metadata": {},
   "outputs": [],
   "source": [
    "n_components = 6\n",
    "pca_f6 = PCA(n_components=n_components)\n",
    "pca_f6.fit(x_f6)\n",
    "\n",
    "print(np.round(pca_f6.components_,3))                     # visualize the component loadings"
   ]
  },
  {
   "cell_type": "markdown",
   "metadata": {},
   "source": [
    "Let's look at the component loadings first.  Each row is a component, top row is the first principal component (PC1), next row is the second principal component (PC2) up to the last row the sixth principal component (PC6).  The columns are the features ordered from 'Por', 'LogPerm', 'AI', 'Brittle', 'TOC', to 'VR'.\n",
    "\n",
    "First principal component is mainly composed of porosity, log permeability, acoustic impedanced and total organic carbon, suggesting that the way they vary together is responsible for much of the variance.  The next principle component is mainly composed of vitrinite reflectance.  The third principal coordinate is mainly composed of brittleness and so on.\n",
    "\n",
    "#### Scree Plot to Support Number of Dimensions to Retain\n",
    "\n",
    "To assist in this interpretation we should consider the variance contributions from each principal component."
   ]
  },
  {
   "cell_type": "code",
   "execution_count": null,
   "metadata": {},
   "outputs": [],
   "source": [
    "print('Variance explained by PC1 thru PC6 =', np.round(pca_f6.explained_variance_ratio_,3))\n",
    "\n",
    "f, (ax10, ax11) = plt.subplots(1, 2,figsize=(15,6))\n",
    "f.subplots_adjust(wspace=0.5,hspace = 0.3)\n",
    "\n",
    "ax10.plot(np.arange(1,7,1),pca_f6.explained_variance_ratio_*100,color='darkorange',alpha=0.8)\n",
    "ax10.scatter(np.arange(1,7,1),pca_f6.explained_variance_ratio_*100,color='darkorange',alpha=0.8,edgecolor='black')\n",
    "ax10.set_xlabel('Principal Component'); ax10.set_ylabel('Variance Explained'); ax10.set_title('Variance Explained by Principal Component')\n",
    "fmt = '%.0f%%' # Format you want the ticks, e.g. '40%'\n",
    "yticks = mtick.FormatStrFormatter(fmt); ax10.set_xlim(1,6); ax10.set_ylim(0,100.0)\n",
    "ax10.yaxis.set_major_formatter(yticks)\n",
    "\n",
    "ax11.plot(np.arange(1,7,1),np.cumsum(pca_f6.explained_variance_ratio_*100),color='darkorange',alpha=0.8)\n",
    "ax11.scatter(np.arange(1,7,1),np.cumsum(pca_f6.explained_variance_ratio_*100),color='darkorange',alpha=0.8,edgecolor='black')\n",
    "ax11.plot([1,6],[95,95], color='black',linestyle='dashed')\n",
    "ax11.set_xlabel('Principal Component'); ax11.set_ylabel('Cumulative Variance Explained'); ax11.set_title('Cumulative Variance Explained by Principal Component')\n",
    "fmt = '%.0f%%' # Format you want the ticks, e.g. '40%'\n",
    "yticks = mtick.FormatStrFormatter(fmt); ax11.set_xlim(1,6); ax11.set_ylim(0,100.0); ax11.annotate('95% variance explained',[4.05,90])\n",
    "ax11.yaxis.set_major_formatter(yticks)\n",
    "\n",
    "# plt.show()"
   ]
  },
  {
   "cell_type": "markdown",
   "metadata": {},
   "source": [
    "We can see that about 46% of the variance is described by the 1st principal component and then about 25% is described by the 2nd principal component etc.  \n",
    "\n",
    "#### Independence of Principal Component Scores\n",
    "\n",
    "Let's check the pairwise feature correlations before and after the projection."
   ]
  },
  {
   "cell_type": "code",
   "execution_count": null,
   "metadata": {},
   "outputs": [],
   "source": [
    "print('\\nCorrelation Matrix of the 6 original features components:')\n",
    "print(np.round(np.corrcoef(x_f6, rowvar = False),2))\n",
    "\n",
    "print('\\nCorrelation Matrix of the 6 principle components\\' scores:')\n",
    "print(np.round(np.corrcoef(pca_f6.transform(x_f6), rowvar = False),2))"
   ]
  },
  {
   "cell_type": "markdown",
   "metadata": {},
   "source": [
    "The new projected features (even without dimensionality reduction, $p=m$) all have pairwise correlations of 0.0! \n",
    "\n",
    "* all the projected features are linearly independent of each other\n",
    "\n",
    "#### Reduced Dimensionality Impact on a 2 Feature Relationship\n",
    "\n",
    "It would be interesting to look just at the porosity vs. log permeability bivariate relationship when we retain $1,\\ldots,6$ principal components.  \n",
    "\n",
    "* to do this we use matrix math to reverse with PCA and the standardization with various number of principal component and then plot the scattter plots of log permeability vs. porosity."
   ]
  },
  {
   "cell_type": "code",
   "execution_count": null,
   "metadata": {},
   "outputs": [],
   "source": [
    "nComp = 6\n",
    "xhat_6d = np.dot(pca_f6.transform(x_f6)[:,:nComp], pca_f6.components_[:nComp,:])\n",
    "xhat_6d = sd_f6*xhat_6d + mu_f6\n",
    "\n",
    "nComp = 5\n",
    "xhat_5d = np.dot(pca_f6.transform(x_f6)[:,:nComp], pca_f6.components_[:nComp,:])\n",
    "xhat_5d = sd_f6*xhat_5d + mu_f6\n",
    "\n",
    "nComp = 4\n",
    "xhat_4d = np.dot(pca_f6.transform(x_f6)[:,:nComp], pca_f6.components_[:nComp,:])\n",
    "xhat_4d = sd_f6*xhat_4d + mu_f6\n",
    "\n",
    "nComp = 3\n",
    "xhat_3d = np.dot(pca_f6.transform(x_f6)[:,:nComp], pca_f6.components_[:nComp,:])\n",
    "xhat_3d = sd_f6*xhat_3d + mu_f6\n",
    "\n",
    "nComp = 2\n",
    "xhat_2d = np.dot(pca_f6.transform(x_f6)[:,:nComp], pca_f6.components_[:nComp,:])\n",
    "xhat_2d = sd_f6*xhat_2d + mu_f6\n",
    "\n",
    "nComp = 1\n",
    "xhat_1d = np.dot(pca_f6.transform(x_f6)[:,:nComp], pca_f6.components_[:nComp,:])\n",
    "xhat_1d = sd_f6*xhat_1d + mu_f6\n",
    "\n",
    "f, (ax12, ax13, ax14, ax15, ax16, ax17, ax18) = plt.subplots(1, 7,figsize=(20,20))\n",
    "f.subplots_adjust(wspace=0.7)\n",
    "\n",
    "ax12.scatter(my_data_f6[\"Por\"],my_data_f6[\"LogPerm\"],s=None, c=\"darkorange\",marker=None, cmap=None, norm=None, vmin=None, vmax=None, alpha=0.2, linewidths=1.0, edgecolors=\"black\")\n",
    "ax12.set_title('Original Data'); ax12.set_xlabel('Por'); ax12.set_ylabel('LogPerm')\n",
    "ax12.set_ylim(0.0,3.0); ax12.set_xlim(8,22); ax12.set_aspect(4.0); \n",
    "\n",
    "ax13.scatter(xhat_1d[:,0],xhat_1d[:,1],s=None, c=\"darkorange\", marker=None, cmap=None, norm=None, vmin=None, vmax=None, alpha=0.2, linewidths=1.0, edgecolors=\"black\")\n",
    "ax13.set_title('1 Principal Component'); ax13.set_xlabel('Por'); ax13.set_ylabel('LogPerm')\n",
    "ax13.set_ylim(0.0,3.0); ax13.set_xlim(8,22); ax13.set_aspect(4.0)\n",
    "\n",
    "ax14.scatter(xhat_2d[:,0],xhat_2d[:,1],s=None, c=\"darkorange\", marker=None, cmap=None, norm=None, vmin=None, vmax=None, alpha=0.2, linewidths=1.0, edgecolors=\"black\")\n",
    "ax14.set_title('2 Principal Components'); ax14.set_xlabel('Por'); ax14.set_ylabel('LogPerm')\n",
    "ax14.set_ylim(0.0,3.0); ax14.set_xlim(8,22); ax14.set_aspect(4.0)\n",
    "\n",
    "ax15.scatter(xhat_3d[:,0],xhat_3d[:,1],s=None, c=\"darkorange\", marker=None, cmap=None, norm=None, vmin=None, vmax=None, alpha=0.2, linewidths=1.0, edgecolors=\"black\")\n",
    "ax15.set_title('3 Principal Components'); ax15.set_xlabel('Por'); ax15.set_ylabel('LogPerm')\n",
    "ax15.set_ylim(0.0,3.0); ax15.set_xlim(8,22); ax15.set_aspect(4.0)\n",
    "\n",
    "ax16.scatter(xhat_4d[:,0],xhat_4d[:,1],s=None, c=\"darkorange\", marker=None, cmap=None, norm=None, vmin=None, vmax=None, alpha=0.2, linewidths=1.0, edgecolors=\"black\")\n",
    "ax16.set_title('4 Principal Components'); ax16.set_xlabel('Por'); ax16.set_ylabel('LogPerm')\n",
    "ax16.set_ylim(0.0,3.0); ax16.set_xlim(8,22); ax16.set_aspect(4.0)\n",
    "\n",
    "ax17.scatter(xhat_5d[:,0],xhat_5d[:,1],s=None, c=\"darkorange\", marker=None, cmap=None, norm=None, vmin=None, vmax=None, alpha=0.2, linewidths=1.0, edgecolors=\"black\")\n",
    "ax17.set_title('5 Principal Components'); ax17.set_xlabel('Por'); ax17.set_ylabel('LogPerm')\n",
    "ax17.set_ylim(0.0,3.0); ax17.set_xlim(8,22); ax17.set_aspect(4.0)\n",
    "\n",
    "ax18.scatter(xhat_6d[:,0],xhat_6d[:,1],s=None, c=\"darkorange\", marker=None, cmap=None, norm=None, vmin=None, vmax=None, alpha=0.2, linewidths=1.0, edgecolors=\"black\")\n",
    "ax18.set_title('6 Principal Components'); ax18.set_xlabel('Por'); ax18.set_ylabel('LogPerm')\n",
    "ax18.set_ylim(0.0,3.0); ax18.set_xlim(8,22); ax18.set_aspect(4.0)\n",
    "\n",
    "plt.show()"
   ]
  },
  {
   "cell_type": "markdown",
   "metadata": {},
   "source": [
    "Very interesting to watch the accuracy of the bivariate relationship between log permeability and porosity imporve as we include more components.  Let's check the variances.  \n"
   ]
  },
  {
   "cell_type": "code",
   "execution_count": null,
   "metadata": {},
   "outputs": [],
   "source": [
    "print('1 Principal Component : Variance Por =',np.round(np.var(xhat_1d[:,0])/(sd_f6[0]*sd_f6[0]),2),' Variance Log Perm = ',np.round(np.var(xhat_1d[:,1])/(sd_f6[1]*sd_f6[1]),2))\n",
    "\n",
    "print('2 Principal Components: Variance Por =',np.round(np.var(xhat_2d[:,0])/(sd_f6[0]*sd_f6[0]),2),' Variance Log Perm = ',np.round(np.var(xhat_2d[:,1])/(sd_f6[1]*sd_f6[1]),2))\n",
    "\n",
    "print('3 Principal Components: Variance Por =',np.round(np.var(xhat_3d[:,0])/(sd_f6[0]*sd_f6[0]),2),' Variance Log Perm = ',np.round(np.var(xhat_3d[:,1])/(sd_f6[1]*sd_f6[1]),2))\n",
    "\n",
    "print('4 Principal Components: Variance Por =',np.round(np.var(xhat_4d[:,0])/(sd_f6[0]*sd_f6[0]),2),' Variance Log Perm = ',np.round(np.var(xhat_4d[:,1])/(sd_f6[1]*sd_f6[1]),2))\n",
    "\n",
    "print('5 Principal Components: Variance Por =',np.round(np.var(xhat_5d[:,0])/(sd_f6[0]*sd_f6[0]),2),'  Variance Log Perm = ',np.round(np.var(xhat_5d[:,1])/(sd_f6[1]*sd_f6[1]),2))\n",
    "\n",
    "print('6 Principal Components: Variance Por =',np.round(np.var(xhat_6d[:,0])/(sd_f6[0]*sd_f6[0]),2),'  Variance Log Perm = ',np.round(np.var(xhat_6d[:,1])/(sd_f6[1]*sd_f6[1]),2))\n",
    "\n"
   ]
  },
  {
   "cell_type": "markdown",
   "metadata": {},
   "source": [
    "This is interesting.  With the first principal component we decribe 86% of the porosity variance. The next two principal components do not provide much assistance. Then there is a jump with the 4th and 5th principal components.  \n",
    "\n",
    "* of course, the problem is 6 dimensional, not just porosity vs. log permeability, but is it interesting to see the relationship between number of principal components and variance variance retianed by-feature  \n",
    "\n",
    "* principal components do not uniformly described each feature\n",
    "\n",
    "#### Reduced Dimensionality Impact on Matrix Scatter Plots of All Features\n",
    "\n",
    "Let's look at the matrix scatter plots for see all of the bivariate combinations.\n",
    "\n",
    "* first some book keeping, we have to put the 6D reduced dimensionality models in DataFrames (there are currently Numpy ndarrays."
   ]
  },
  {
   "cell_type": "code",
   "execution_count": null,
   "metadata": {},
   "outputs": [],
   "source": [
    "df_1d = pd.DataFrame(data=xhat_1d,columns=features)   \n",
    "df_2d = pd.DataFrame(data=xhat_2d,columns=features)\n",
    "df_3d = pd.DataFrame(data=xhat_3d,columns=features)\n",
    "df_4d = pd.DataFrame(data=xhat_4d,columns=features)\n",
    "df_5d = pd.DataFrame(data=xhat_5d,columns=features)\n",
    "df_6d = pd.DataFrame(data=xhat_6d,columns=features)"
   ]
  },
  {
   "cell_type": "markdown",
   "metadata": {},
   "source": [
    "Now we can go ahead and produce the matrix scatter plots with these DataFrames. It is very interesting to see the accuracy of the bivariate plots improve as we add principal components.  Also, with only two principal components we capture some of the bivariate relationships quite well for some of the variable pairs."
   ]
  },
  {
   "cell_type": "code",
   "execution_count": null,
   "metadata": {
    "scrolled": false
   },
   "outputs": [],
   "source": [
    "fig = plt.figure()\n",
    "\n",
    "pd_plot.scatter_matrix(my_data_f6, alpha = 0.1,           # pandas matrix scatter plot\n",
    "    figsize=(6, 6),color = 'black', hist_kwds={'color':['grey']})\n",
    "plt.suptitle('Original Data')\n",
    "\n",
    "pd_plot.scatter_matrix(df_1d, alpha = 0.1,                # pandas matrix scatter plot\n",
    "    figsize=(6, 6),color = 'black', hist_kwds={'color':['grey']})\n",
    "plt.suptitle('1 Principal Component')\n",
    "\n",
    "pd_plot.scatter_matrix(df_2d, alpha = 0.1,                # pandas matrix scatter plot\n",
    "    figsize=(6, 6),color = 'black', hist_kwds={'color':['grey']})\n",
    "plt.suptitle('2 Principal Components')\n",
    "\n",
    "pd_plot.scatter_matrix(df_3d, alpha = 0.1,                # pandas matrix scatter plot\n",
    "    figsize=(6, 6),color = 'black', hist_kwds={'color':['grey']})\n",
    "plt.suptitle('3 Principal Components')\n",
    "\n",
    "pd_plot.scatter_matrix(df_4d, alpha = 0.1,                # pandas matrix scatter plot\n",
    "    figsize=(6, 6),color = 'black', hist_kwds={'color':['grey']})\n",
    "plt.suptitle('4 Principal Components')\n",
    "\n",
    "pd_plot.scatter_matrix(df_5d, alpha = 0.1,                # pandas matrix scatter plot\n",
    "    figsize=(6, 6),color = 'black', hist_kwds={'color':['grey']})\n",
    "plt.suptitle('5 Principal Components')\n",
    "\n",
    "pd_plot.scatter_matrix(df_6d, alpha = 0.1,                # pandas matrix scatter plot\n",
    "    figsize=(6, 6),color = 'black', hist_kwds={'color':['grey']})\n",
    "plt.suptitle('6 Principal Components')\n",
    "\n",
    "plt.show()"
   ]
  },
  {
   "cell_type": "markdown",
   "metadata": {},
   "source": [
    "#### Principal Components Analysis on Uncorrelated Data\n",
    "\n",
    "Let's try one more test, principal components analysis on uncorrelated data.  \n",
    "\n",
    "* we generate a large number of random samples (n is large) for 5 feature.\n",
    "\n",
    "* we will assume a uniform distribution"
   ]
  },
  {
   "cell_type": "code",
   "execution_count": null,
   "metadata": {},
   "outputs": [],
   "source": [
    "x_rand = np.random.rand(10000,5); df_x_rand = pd.DataFrame(x_rand)\n",
    "print('Variance of original features: ', np.round(np.var(x_rand, axis = 0),2))\n",
    "print('Proportion of variance of original features: ', np.round(np.var(x_rand, axis = 0)/np.sum(np.var(x_rand, axis = 0)),2))\n",
    "print('Correlation Matrix of original features:\\n'); print(np.round(np.cov(x_rand, rowvar = False),2)); print()\n",
    "\n",
    "pd_plot.scatter_matrix(df_x_rand, alpha = 0.1,                # pandas matrix scatter plot\n",
    "    figsize=(6, 6),color = 'black', hist_kwds={'color':['grey']})\n",
    "plt.suptitle('Original Features')\n",
    "\n",
    "pca_rand = PCA(n_components=5)\n",
    "pca_rand.fit(x_rand)\n",
    "print('PCA Variance Explained ', np.round(pca_rand.explained_variance_ratio_,2))  \n",
    "\n",
    "scores_x_rand = pca_rand.transform(x_rand); df_scores_x_rand = pd.DataFrame(scores_x_rand)\n",
    "\n",
    "print('\\nCorrelation Matrix of scores:\\n'); print(np.round(np.cov(scores_x_rand, rowvar = False),2)); print()\n",
    "\n",
    "pd_plot.scatter_matrix(df_scores_x_rand, alpha = 0.1,                # pandas matrix scatter plot\n",
    "    figsize=(6, 6),color = 'black', hist_kwds={'color':['grey']})\n",
    "plt.suptitle('Principal Component Scores')"
   ]
  },
  {
   "cell_type": "markdown",
   "metadata": {},
   "source": [
    "What happenned with principal component analysis applied to uncorrelated, uniformly distributed features?\n",
    "\n",
    "* all the principal components described the same amount of variance\n",
    "\n",
    "* there is no opportunity for dimensionality reduction through feature projection\n",
    "\n",
    "* the linear combination of independent random variables invokes the central limit theorem, the principle component scores tend to Gaussian distribution.\n",
    "\n",
    "There are so many more tests that one could attempt to gain experience with principal components analysis. I'll end here for brevity, but I invite you to continue. Consider, on your own apply other data sets or attempting methods with PCA kernels or regression.  I hope you found this tutorial useful. I'm always happy to discuss geostatistics, statistical modeling, uncertainty modeling and machine learning,\n",
    "\n",
    "#### Comments\n",
    "\n",
    "This was a basic demonstration of principal component analysis for dimensional reduction. A lot more could be done, for example, there are methods that reduce the dimensionality, and remove dependency to allow for independent variable modeling workflows etc.\n",
    "\n",
    "I have other demonstrations on the basics of working with DataFrames, ndarrays, univariate statistics, plotting data, declustering, data transformations, trend modeling and many other workflows available at https://github.com/GeostatsGuy/PythonNumericalDemos and https://github.com/GeostatsGuy/GeostatsPy. \n",
    "  \n",
    "I hope this was helpful,\n",
    "\n",
    "*Michael*\n",
    "\n",
    "#### The Author:\n",
    "\n",
    "### Michael Pyrcz, Associate Professor, University of Texas at Austin \n",
    "*Novel Data Analytics, Geostatistics and Machine Learning Subsurface Solutions*\n",
    "\n",
    "With over 17 years of experience in subsurface consulting, research and development, Michael has returned to academia driven by his passion for teaching and enthusiasm for enhancing engineers' and geoscientists' impact in subsurface resource development. \n",
    "\n",
    "For more about Michael check out these links:\n",
    "\n",
    "#### [Twitter](https://twitter.com/geostatsguy) | [GitHub](https://github.com/GeostatsGuy) | [Website](http://michaelpyrcz.com) | [GoogleScholar](https://scholar.google.com/citations?user=QVZ20eQAAAAJ&hl=en&oi=ao) | [Book](https://www.amazon.com/Geostatistical-Reservoir-Modeling-Michael-Pyrcz/dp/0199731446) | [YouTube](https://www.youtube.com/channel/UCLqEr-xV-ceHdXXXrTId5ig)  | [LinkedIn](https://www.linkedin.com/in/michael-pyrcz-61a648a1)\n",
    "\n",
    "#### Want to Work Together?\n",
    "\n",
    "I hope this content is helpful to those that want to learn more about subsurface modeling, data analytics and machine learning. Students and working professionals are welcome to participate.\n",
    "\n",
    "* Want to invite me to visit your company for training, mentoring, project review, workflow design and / or consulting? I'd be happy to drop by and work with you! \n",
    "\n",
    "* Interested in partnering, supporting my graduate student research or my Subsurface Data Analytics and Machine Learning consortium (co-PIs including Profs. Foster, Torres-Verdin and van Oort)? My research combines data analytics, stochastic modeling and machine learning theory with practice to develop novel methods and workflows to add value. We are solving challenging subsurface problems!\n",
    "\n",
    "* I can be reached at mpyrcz@austin.utexas.edu.\n",
    "\n",
    "I'm always happy to discuss,\n",
    "\n",
    "*Michael*\n",
    "\n",
    "Michael Pyrcz, Ph.D., P.Eng. Associate Professor The Hildebrand Department of Petroleum and Geosystems Engineering, Bureau of Economic Geology, The Jackson School of Geosciences, The University of Texas at Austin\n",
    "\n",
    "I have other demonstrations on the basics of working with DataFrames, ndarrays, univariate statistics, plotting data, declustering, data transformations, trend modeling and many other workflows available at https://github.com/GeostatsGuy/PythonNumericalDemos and https://github.com/GeostatsGuy/GeostatsPy. \n",
    "  \n",
    "I hope this was helpful,\n",
    "\n",
    "*Michael*\n",
    "\n",
    "Michael Pyrcz, Ph.D., P.Eng. Associate Professor The Hildebrand Department of Petroleum and Geosystems Engineering, Bureau of Economic Geology, The Jackson School of Geosciences, The University of Texas at Austin\n",
    "\n",
    "#### More Resources Available at: [Twitter](https://twitter.com/geostatsguy) | [GitHub](https://github.com/GeostatsGuy) | [Website](http://michaelpyrcz.com) | [GoogleScholar](https://scholar.google.com/citations?user=QVZ20eQAAAAJ&hl=en&oi=ao) | [Book](https://www.amazon.com/Geostatistical-Reservoir-Modeling-Michael-Pyrcz/dp/0199731446) | [YouTube](https://www.youtube.com/channel/UCLqEr-xV-ceHdXXXrTId5ig)  | [LinkedIn](https://www.linkedin.com/in/michael-pyrcz-61a648a1)\n"
   ]
  }
 ],
 "metadata": {
  "kernelspec": {
   "display_name": "Python 3 (ipykernel)",
   "language": "python",
   "name": "python3"
  },
  "language_info": {
   "codemirror_mode": {
    "name": "ipython",
    "version": 3
   },
   "file_extension": ".py",
   "mimetype": "text/x-python",
   "name": "python",
   "nbconvert_exporter": "python",
   "pygments_lexer": "ipython3",
   "version": "3.9.12"
  }
 },
 "nbformat": 4,
 "nbformat_minor": 2
}
